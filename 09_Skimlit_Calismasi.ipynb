{
  "nbformat": 4,
  "nbformat_minor": 0,
  "metadata": {
    "colab": {
      "provenance": [],
      "gpuType": "T4"
    },
    "kernelspec": {
      "name": "python3",
      "display_name": "Python 3"
    },
    "language_info": {
      "name": "python"
    },
    "accelerator": "GPU"
  },
  "cells": [
    {
      "cell_type": "markdown",
      "source": [
        "# SkimLit"
      ],
      "metadata": {
        "id": "mvu6V6uXYF-Q"
      }
    },
    {
      "cell_type": "markdown",
      "source": [
        "### Bazı notlar\n",
        "- Bir makalenin hangi konularda olduğunu merak ediyorsan bu sınıflandırma sorunu (etiket).\n",
        "- PubMed, sağlıkla ilgili bir çok makalenin yer aldığı bir websitesidir.\n",
        "- PubMed 200k RCT makalesi üzerinde çalışacağız.\n",
        "- Bir tavsiye;\n",
        "  - download a paper\n",
        "  - implement it\n",
        "  - keep doing this until you have slills\n",
        "  - build insfractures around your models/data preprocessing steps\n",
        "- Bu model many to one sorunu. Örnek bir paragrafta on cümle varsa hepsi ayrı ayrı değerlendirilir, bu input, ama hedef paragrafın etiketi ise tek kelime, bu da output. Yani kolaylaştırmak için her bir diziye hangi bölüme ait olmaları gerektiğine dair etiket veririz.\n",
        "\n",
        "# Modelleme Adımları\n",
        "1. Get data ready (turn into tensors)\n",
        "2. Tensorflow hub, build or pick a pretrained model (to suit your problem)\n",
        "3. Fit the model to the data and make a prediction\n",
        "4. Evaluate the model\n",
        "5. ımprove through experimentation\n",
        "6. Save and reload your trained model\n",
        "\n",
        "* Tüm veri rakamlara dönüştürülmeli. Nöral ağlar metin veya doğal dil işleyemez.\n",
        "* Tüm tensörler doğru ölçüde (shape) olmalı. Pad uzunluğu uymaz."
      ],
      "metadata": {
        "id": "f6h6bEDSt-_8"
      }
    },
    {
      "cell_type": "markdown",
      "source": [
        "Önceki defterde (TensorFlow'daki NLP temelleri), bazı temel doğal lanuage işleme kavramlarından geçtik. Başlıcaları belirteç (kelimeleri sayılara dönüştürmek) ve gömme oluşturmak (kelimelerin sayısal bir temsilini oluşturmak).\n",
        "\n",
        "Bu projede öğrendiklerimizi uygulamaya koyacağız.\n",
        "\n",
        "Daha spesifik olarak, 2017 tarihli PubMed 200k RCT makalesinin arkasındaki derin öğrenme modelini çoğaltacağız: Tıbbi Özetlerde Sıralı Cümle Sınıflandırması için Bir Veri Kümesi. https://arxiv.org/abs/1710.06071\n",
        "\n",
        "Yayınlandığında, makale ~200.000 etiketli Randomize Kontrollü Deneme (RCT) özetinden oluşan PubMed 200k RCT adlı yeni bir veri kümesi sundu.\n",
        "\n",
        "Veri kümesinin amacı, NLP modellerinin sıralı olarak görünen cümleleri sınıflandırma yeteneğini araştırmaktı.\n",
        "\n",
        "Başka bir deyişle, bir RCT'nin özeti göz önüne alındığında, her cümle soyutta nasıl bir role hizmet eder?"
      ],
      "metadata": {
        "id": "yYMYKbp-YMOf"
      }
    },
    {
      "cell_type": "markdown",
      "source": [
        "Aşağıdaki örnekte olduğu gibi öyle bir model inşa edilmeli ki bir makalenin ne olduğu, sonucu, neyi özetlediğini alabilmeliyiz.\n",
        "\n",
        "Her cümleyi bir sıra olarak alırsın bir etiket verirsin. Örneğin ilk üç cümle alt alta gelmeli. Yani bir sequence sorunu var. Her cümlede bir etiket var ve many to one..."
      ],
      "metadata": {
        "id": "-2Ci5lB_wxOJ"
      }
    },
    {
      "cell_type": "markdown",
      "source": [
        "# Okuması zor:\n",
        "\n",
        "Nutritional psychiatry: the present state of the\n",
        "evidence\n",
        "\n",
        "Wolfgang Marx 1, Genevieve Moseley 2, Michael Berk 2, Felice Jacka 2\n",
        "\n",
        "Affiliations + expand\n",
        "PMID: 28942748 DOI: 10.1017/S0029665117002026\n",
        "Abstract Mental illness, including depression, anxiety and bipolar disorder, accounts for a significant\n",
        "proportion of global disability and poses a substantial social, economic and heath burden. Treatment is presently dominated by pharmacotherapy, such as antidepressants, and psychotherapy, such as cognitive behavioural therapy; however, such treatments avert less than half of the disease burden, suggesting that additional strategies are needed to prevent and treat mental disorders. There are now consistent mechanistic, observational and interventional data to suggest diet quality may be a modifiable risk factor for mental illness. This review provides an overview of the nutritional psychiatry field. It includes a discussion of the neurobiological mechanisms likely modulated by diet, the use of dietary and nutraceutical interventions in mental disorders, and recommendations for further research. Potential biological pathways related to mental disorders include inflammation, oxidative stress, the gut microbiome, epigenetic modifications and neuroplasticity. Consistent epidemiological evidence, particularly for depression, suggests an association between measures of diet quality and mental health, across multiple populations and age groups; these do not appear to be explained by other demographic, lifestyle factors or reverse causality. Our recently published intervention trial provides preliminary clinical evidence that dietary interventions in clinically diagnosed populations are feasible and can provide significant clinical benefit. Furthermore, nutraceuticals including n-3 fatty acids, folate, S- adenosylmethionine, N-acetyl cysteine and probiotics, among others, are promising avenues for future research. Continued research is now required to investigate the efficacy of intervention studies in large cohorts and within clinically relevant populations, particularly in patients with\n",
        "schizophrenia, bipolar and anxiety disorders.\n",
        "Source: https://pubmed.ncbi.n/m.nih.gov/28942748/\n",
        "\n",
        "# Okuması kolay:\n",
        "\n",
        "Considerations for a surgical RCT for diffuse low-\n",
        "grade glioma: a survey\n",
        "\n",
        "Alireza Mansouri 1, Karanbir Brar 2, Michael D Cusimano 3\n",
        "Affiliations + expand\n",
        "\n",
        "PMID: 32537182 PMCID: PMC7274180 (available on 2021-06-01) DOI: 10.1093/nop/npz058\n",
        "\n",
        "Abstract\n",
        "Background: Diffuse low-grade gliomas (DLGGs) are heterogeneous tumors that inevitably\n",
        "-maximal safe resection of DLGGs has been favored. However, this transition is not supported by\n",
        "-ai realise it main an intes leadin a disa. Hi enver, ai. ansi, is sort upor up front :\n",
        "randomized controlled trial (RCT) data. Here, we sought to survey the neuro-oncology community\n",
        "\n",
        "Methods: A 21-question survey focusing on a surgical RCT for DLGGs was developed and validated by 2 neurosurgeons. A sample case of a patient for whom management might be debatable was presented to gather additional insight. The survey was disseminated to members of the Society for Neuro-Oncology (SNO) and responses were collected from March 16 to July 10,2018.\n",
        "\n",
        "Results: A total of 131 responses were collected. Sixty-three of 117 (54%) respondents thought an RCT would not be ethical, 39 of 117 (33%) would consider participating, and 56 of 117 (48%) believed an RCT would be valuable for determining the differing roles of biopsy, surgery, and observation. This was exemplified by an evenly distributed selection of the latter management options for our sample case. Eighty-three of 120 (69.2%) respondents did not believe in equipoise for DLGG patients. Quality of life and overall survival were deemed equally important end points for\n",
        "a putative RCT.\n",
        "\n",
        "Conclusions: Based on our survey, it is evident that management of certain DLGG patients is not well defined and an RCT may be justified. As with any surgical RCT, logistic challenges are anticipated. Robust patient-relevant end points and standardization of perioperative adjuncts are\n",
        "necessary if a surgical RCT is undertaken.\n",
        "Source: https://pubmed.ncbi.nlm.nih.gov/32537182/"
      ],
      "metadata": {
        "id": "DVsvofVcYxXe"
      }
    },
    {
      "cell_type": "markdown",
      "source": [
        "Aşağıdakidaki input, skimlit modelinden geçerek bazı etiketler alır;\n",
        "\n",
        "- background\n",
        "- objective\n",
        "- methods\n",
        "- result\n",
        "- conclusion\n",
        "\n",
        "Örnek tahmin edilmiş output olarak [0.03, 0.82, 0.13, 0.02, 0.001] olabilir.\n",
        "\n",
        "Burada çok sınıflı sınıflandırma var.\n",
        "\n",
        "input örneği olarak shape = [batch_size, embedding_size]\n",
        "\n",
        "[None, 512] ya da [32, 512] gibi.\n",
        "\n",
        "Output shape [5] (Yukarıdaki beş etikete dikkat. Aslında modelde makalede senin hangi parametreleri verdiğinle ilgili bir konu).\n",
        "\n",
        "Giriş ve çıktı şekli üzerinde çalıştığımız problemdeki gömme stiline bağlıdır.\n"
      ],
      "metadata": {
        "id": "RdFocAky8RR2"
      }
    },
    {
      "cell_type": "markdown",
      "source": [
        "# Model Girişi\n",
        "\n",
        "Örneğin, aşağıdaki girdiyi alan bir NLP modelini eğitebilir miyiz (not: aşağıdaki örnekte tüm sayısal semboller \"@\" ile değiştirilmiştir):\n",
        "\n",
        "To investigate the efficacy of @ weeks of daily low-dose oral prednisolone in improving pain , mobility , and systemic low-grade inflammation in the short term and whether the effect would be sustained at @ weeks in older adults with moderate to severe knee osteoarthritis ( OA ). A total of @ patients with primary knee OA were randomized @:@ ; @ received @ mg/day of prednisolone and @ received placebo for @ weeks. Outcome measures included pain reduction and improvement in function scores and systemic inflammation markers. Pain was assessed using the visual analog pain scale ( @-@ mm ). Secondary outcome measures included the Western Ontario and McMaster Universities Osteoarthritis Index scores , patient global assessment ( PGA ) of the severity of knee OA , and @-min walk distance ( @MWD )., Serum levels of interleukin @ ( IL-@ ) , IL-@ , tumor necrosis factor ( TNF ) - , and high-sensitivity C-reactive protein ( hsCRP ) were measured. There was a clinically relevant reduction in the intervention group compared to the placebo group for knee pain , physical function , PGA , and @MWD at @ weeks. The mean difference between treatment arms ( @ % CI ) was @ ( @-@ @ ) , p < @ ; @ ( @-@ @ ) , p < @ ; @ ( @-@ @ ) , p < @ ; and @ ( @-@ @ ) , p < @ , respectively. Further , there was a clinically relevant reduction in the serum levels of IL-@ , IL-@ , TNF - , and hsCRP at @ weeks in the intervention group when compared to the placebo group. These differences remained significant at @ weeks. The Outcome Measures in Rheumatology Clinical Trials-Osteoarthritis Research Society International responder rate was @ % in the intervention group and @ % in the placebo group ( p < @ ). Low-dose oral prednisolone had both a short-term and a longer sustained effect resulting in less knee pain , better physical function , and attenuation of systemic inflammation in older patients with knee OA ( ClinicalTrials.gov identifier NCT@ ).\n",
        "\n",
        "# Model çıkışı\n",
        "\n",
        "Ve aşağıdaki çıktıyı döndürür:\n",
        "\n",
        "['###24293578\\n',\n",
        " 'OBJECTIVE\\tTo investigate the efficacy of @ weeks of daily low-dose oral prednisolone in improving pain , mobility , and systemic low-grade inflammation in the short term and whether the effect would be sustained at @ weeks in older adults with moderate to severe knee osteoarthritis ( OA ) .\\n',\n",
        " 'METHODS\\tA total of @ patients with primary knee OA were randomized @:@ ; @ received @ mg/day of prednisolone and @ received placebo for @ weeks .\\n',\n",
        " 'METHODS\\tOutcome measures included pain reduction and improvement in function scores and systemic inflammation markers .\\n',\n",
        " 'METHODS\\tPain was assessed using the visual analog pain scale ( @-@ mm ) .\\n',\n",
        " 'METHODS\\tSecondary outcome measures included the Western Ontario and McMaster Universities Osteoarthritis Index scores , patient global assessment ( PGA ) of the severity of knee OA , and @-min walk distance ( @MWD ) .\\n',\n",
        " 'METHODS\\tSerum levels of interleukin @ ( IL-@ ) , IL-@ , tumor necrosis factor ( TNF ) - , and high-sensitivity C-reactive protein ( hsCRP ) were measured .\\n',\n",
        " 'RESULTS\\tThere was a clinically relevant reduction in the intervention group compared to the placebo group for knee pain , physical function , PGA , and @MWD at @ weeks .\\n',\n",
        " 'RESULTS\\tThe mean difference between treatment arms ( @ % CI ) was @ ( @-@ @ ) , p < @ ; @ ( @-@ @ ) , p < @ ; @ ( @-@ @ ) , p < @ ; and @ ( @-@ @ ) , p < @ , respectively .\\n',\n",
        " 'RESULTS\\tFurther , there was a clinically relevant reduction in the serum levels of IL-@ , IL-@ , TNF - , and hsCRP at @ weeks in the intervention group when compared to the placebo group .\\n',\n",
        " 'RESULTS\\tThese differences remained significant at @ weeks .\\n',\n",
        " 'RESULTS\\tThe Outcome Measures in Rheumatology Clinical Trials-Osteoarthritis Research Society International responder rate was @ % in the intervention group and @ % in the placebo group ( p < @ ) .\\n',\n",
        " 'CONCLUSIONS\\tLow-dose oral prednisolone had both a short-term and a longer sustained effect resulting in less knee pain , better physical function , and attenuation of systemic inflammation in older patients with knee OA ( ClinicalTrials.gov identifier NCT@ ) .\\n',\n",
        " '\\n']"
      ],
      "metadata": {
        "id": "8g2ihw7sZois"
      }
    },
    {
      "cell_type": "markdown",
      "source": [
        "# Bir cümledeki sorun\n",
        "\n",
        "Yayınlanan RCT makalelerinin sayısı artmaya devam ediyor, yapılandırılmış özetleri olmayanları okumak zor olabilir ve buna karşılık literatürde ilerleyen araştırmacıları yavaşlatabilir."
      ],
      "metadata": {
        "id": "9lWMUlCKZ9ZW"
      }
    },
    {
      "cell_type": "markdown",
      "source": [
        "# Bir cümledeki çözüm\n",
        "\n",
        "Araştırmacıların literatürü gözden geçirmelerini (dolayısıyla SkimLit 🤓🔥) gözden geçirmelerini ve gerektiğinde daha derine dalmalarını sağlamak için soyut cümleleri oynadıkları role (örneğin amaç, yöntemler, sonuçlar, vb.) sınıflandırmak için bir NLP modeli oluşturun.\n",
        "\n",
        "1. Verilerimizin nereden geldiği: PubMed 200k RCT: Tıbbi Özetlerde Sıralı Cümle Sınıflandırması için bir Veri Kümesi https://arxiv.org/abs/1710.06071\n",
        "\n",
        "2. Modelimiz nereden geliyor: Tıbbi kağıt özetlerinde ortak cümle sınıflandırması için sinir ağları. https://arxiv.org/pdf/1612.05251\n",
        "\n",
        "📖 Kaynaklar: Bu not defterindeki kodu gözden geçirmeden önce, ne yapacağımıza dair bir arka plan almak isteyebilirsiniz. Bunu yapmak için, aşağıdaki kağıtları gözden geçirmek için bir (veya iki saat) harcayın ve ardından bu deftere dönün:"
      ],
      "metadata": {
        "id": "gZIbTEjCaCfn"
      }
    },
    {
      "cell_type": "markdown",
      "source": [
        "# Çalışma Kitabı İçeriği\n",
        "\n",
        "NLP temelleri not defterinde öğrendiklerimizi alma ve şimdiye kadarki en büyük NLP modelimizi oluşturma zamanı:\n",
        "\n",
        "* Bir metin veri kümesi indirme (GitHub'dan PubMed RCT200k) https://github.com/Franck-Dernoncourt/pubmed-rct\n",
        "\n",
        "* Verilerimizi modellemeye hazırlamak için bir ön işleme işlevi yazmak\n",
        "\n",
        "  * Bir dizi modelleme deneyi kurmak\n",
        "\n",
        "  * Temel çizgi yapma (TF-IDF sınıflandırıcı)\n",
        "\n",
        "* Farklı kombinasyonlara sahip derin modeller: belirteç gömmeleri, karakter gömmeleri, önceden eğitilmiş gömmeler, konumsal gömmeler\n",
        "\n",
        "  * İlk multimodal modelimizi oluşturmak (birden fazla veri girişi türü alarak)\n",
        "\n",
        "* Model mimarisini https://arxiv.org/abs/1612.05251 adresinden çoğaltma\n",
        "\n",
        "* En yanlış tahminleri bulun\n",
        "\n",
        "* Vahşi doğadan PubMed özetleri hakkında tahminler yapmak"
      ],
      "metadata": {
        "id": "XyHB-9cqaXpj"
      }
    },
    {
      "cell_type": "markdown",
      "source": [
        "# Kaynaklar\n",
        "\n",
        "Dosyalar & Kaynaklar: https://github.com/mrdbourke/tensorflow-deep-learning\n",
        "\n",
        "Bu dosyanın orjinali: https://github.com/mrdbourke/tensorflow-deep-learning/blob/main/09_SkimLit_nlp_milestone_project_2.ipynb"
      ],
      "metadata": {
        "id": "QRs03owIbE_H"
      }
    },
    {
      "cell_type": "code",
      "execution_count": null,
      "metadata": {
        "colab": {
          "base_uri": "https://localhost:8080/"
        },
        "id": "1qm6ULoFX_o9",
        "outputId": "fdc5ad17-0210-45fd-bc87-c802cb478c37"
      },
      "outputs": [
        {
          "output_type": "stream",
          "name": "stdout",
          "text": [
            "Notebook last run (end-to-end): 2024-05-26 09:43:43.808070\n"
          ]
        }
      ],
      "source": [
        "import datetime\n",
        "print(f\"Notebook last run (end-to-end): {datetime.datetime.now()}\")"
      ]
    },
    {
      "cell_type": "markdown",
      "source": [
        "# Bir GPU'ya erişimi onayla\n",
        "\n",
        "Derin öğrenme modelleri oluşturacağımıza göre, bir GPU'muz olduğundan emin olalım.\n",
        "\n",
        "Google Colab'da bunu Çalışma Zamanı -> Çalışma zamanı türünü değiştir -> Donanım hızlandırıcı -> GPU'ya giderek ayarlayabilirsiniz.\n",
        "\n",
        "Bir GPU'ya erişiminiz yoksa, burada oluşturduğumuz modellerin çalışması muhtemelen 10 kat daha uzun sürecektir."
      ],
      "metadata": {
        "id": "dMHhIRF9b1_X"
      }
    },
    {
      "cell_type": "code",
      "source": [
        "# Check for GPU\n",
        "!nvidia-smi -L"
      ],
      "metadata": {
        "colab": {
          "base_uri": "https://localhost:8080/"
        },
        "id": "_0rnp_V7b3QL",
        "outputId": "7700fa1a-0d1a-48f0-924a-aa54b8a30439"
      },
      "execution_count": null,
      "outputs": [
        {
          "output_type": "stream",
          "name": "stdout",
          "text": [
            "GPU 0: Tesla T4 (UUID: GPU-0ecb1390-ec25-8fb2-ddd5-38ac46cfe541)\n"
          ]
        }
      ]
    },
    {
      "cell_type": "markdown",
      "source": [
        "# Veri al\n",
        "\n",
        "Bir model oluşturmaya başlamadan önce PubMed 200k RCT veri kümesini indirmemiz gerekiyor.\n",
        "\n",
        "Olağanüstü bir nezaket eylemi olarak, makalenin yazarları, araştırmaları için kullandıkları verileri GitHub'daki .txt dosyaları biçiminde herkese açık ve ücretsiz olarak yaptılar.\n",
        "\n",
        "Bunları git clone https://github.com/Franck-Dernoncourt/pubmed-rct kullanarak yerel dizinimize kopyalayabiliriz."
      ],
      "metadata": {
        "id": "zsQ3_u3tlc0W"
      }
    },
    {
      "cell_type": "code",
      "source": [
        "!git clone https://github.com/Franck-Dernoncourt/pubmed-rct.git\n",
        "!ls pubmed-rct"
      ],
      "metadata": {
        "colab": {
          "base_uri": "https://localhost:8080/"
        },
        "id": "XQZTMToHlVZl",
        "outputId": "26f000af-4606-4b1f-bec4-e38f31820826"
      },
      "execution_count": null,
      "outputs": [
        {
          "output_type": "stream",
          "name": "stdout",
          "text": [
            "Cloning into 'pubmed-rct'...\n",
            "remote: Enumerating objects: 39, done.\u001b[K\n",
            "remote: Counting objects: 100% (14/14), done.\u001b[K\n",
            "remote: Compressing objects: 100% (9/9), done.\u001b[K\n",
            "remote: Total 39 (delta 8), reused 5 (delta 5), pack-reused 25\u001b[K\n",
            "Receiving objects: 100% (39/39), 177.08 MiB | 23.27 MiB/s, done.\n",
            "Resolving deltas: 100% (15/15), done.\n",
            "Updating files: 100% (13/13), done.\n",
            "PubMed_200k_RCT\t\t\t\t       PubMed_20k_RCT_numbers_replaced_with_at_sign\n",
            "PubMed_200k_RCT_numbers_replaced_with_at_sign  README.md\n",
            "PubMed_20k_RCT\n"
          ]
        }
      ]
    },
    {
      "cell_type": "markdown",
      "source": [
        "İndirilen deponun içeriğini kontrol ederek dört klasör olduğunu görebilirsiniz.\n",
        "\n",
        "Her biri PubMed 200k RCT veri kümesinin farklı bir sürümünü içerir.\n",
        "\n",
        "GitHub sayfasındaki README dosyasına baktığımızda aşağıdaki bilgileri elde ediyoruz: https://github.com/Franck-Dernoncourt/pubmed-rct\n",
        "\n",
        "- PubMed 20k, PubMed 200k'nin bir alt kümesidir. Yani, PubMed 20k'deki herhangi bir özet mevcut, PubMed 200k'de de mevcuttur.\n",
        "\n",
        "- PubMed_200k_RCT, PubMed_200k_RCT_numbers_replaced_with_at_sign ile aynıdır, ancak ikincisinde tüm sayılar @ ile değiştirilmiştir. (PubMed_20k_RCT vs. PubMed_20k_RCT_numbers_replaced_with_at_sign).\n",
        "\n",
        "- Github dosya boyutu sınırı 100 MiB olduğundan, PubMed_200k_RCT\\train.7z ve PubMed_200k_RCT_numbers_replaced_with_at_sign\\train.zip dosyalarını sıkıştırmak zorunda kaldık. Train.7z'yi açmak için Windows'ta 7-Zip, Mac OS X'te Keka veya Linux'ta p7zip kullanabilirsiniz.\n",
        "\n",
        "Başlangıç olarak, odaklanacağımız veri kümesi PubMed_20k_RCT_numbers_replaced_with_at_sign'dır.\n",
        "\n",
        "Neden bu?\n",
        "\n",
        "Tüm 200 bin veri kümesiyle çalışmak yerine, daha küçük bir alt kümeyle başlayarak deneylerimizi hızlı tutacağız. @ ile değiştirmek yerine sayılarla veri kümesini seçebilirdik ama seçmedik.\n",
        "\n",
        "Dosya içeriğini kontrol edelim."
      ],
      "metadata": {
        "id": "5gQ42XzOl1yk"
      }
    },
    {
      "cell_type": "code",
      "source": [
        "# Check what files are in the PubMed_20K dataset\n",
        "!ls pubmed-rct/PubMed_20k_RCT_numbers_replaced_with_at_sign"
      ],
      "metadata": {
        "colab": {
          "base_uri": "https://localhost:8080/"
        },
        "id": "7Jdd85ChlvoP",
        "outputId": "defbed6a-ed44-4f89-f3ba-27877dd1a2ae"
      },
      "execution_count": null,
      "outputs": [
        {
          "output_type": "stream",
          "name": "stdout",
          "text": [
            "dev.txt  test.txt  train.txt\n"
          ]
        }
      ]
    },
    {
      "cell_type": "markdown",
      "source": [
        "Güzel, görünüşe göre üç ayrı metin dosyamız var:\n",
        "\n",
        "* Train.txt - eğitim örnekleri.\n",
        "\n",
        "* Dev.txt - dev, doğrulama kümesinin başka bir adı olan geliştirme kümesinin kısaltmasıdır (bizim durumumuzda, bu dosyayı doğrulama kümemiz olarak kullanacağız ve atıfta bulunacağız).\n",
        "\n",
        "* Test.txt - test örnekleri.\n",
        "\n",
        "Her seferinde hedef dizinimize dosya yolunu yazarak kendimizi kaydetmek için, onu bir değişkene dönüştürelim."
      ],
      "metadata": {
        "id": "8rbD6qoEmVbR"
      }
    },
    {
      "cell_type": "markdown",
      "source": [
        "Örnek datasetini incelersen;\n",
        "\n",
        "CONCLUSION ..cümle....\n",
        "\n",
        "METHODS..cümle... şeklinde görürsün."
      ],
      "metadata": {
        "id": "r7Y354RcQ2lK"
      }
    },
    {
      "cell_type": "markdown",
      "source": [
        "Dosya yolu sağ klik ile kopyalandı buraya yapıştırıldı."
      ],
      "metadata": {
        "id": "Q-eUtHqrRR_V"
      }
    },
    {
      "cell_type": "code",
      "source": [
        "# Start by using the 20k dataset\n",
        "data_dir = \"pubmed-rct/PubMed_20k_RCT_numbers_replaced_with_at_sign/\""
      ],
      "metadata": {
        "id": "hIgTb0dNmJxM"
      },
      "execution_count": null,
      "outputs": []
    },
    {
      "cell_type": "code",
      "source": [
        "# Check all of the filenames in the target directory\n",
        "import os\n",
        "filenames = [data_dir + filename for filename in os.listdir(data_dir)]\n",
        "filenames"
      ],
      "metadata": {
        "colab": {
          "base_uri": "https://localhost:8080/"
        },
        "id": "Jp2CQCLSmkym",
        "outputId": "80742153-9b59-4b23-c53b-c25fb28ccb06"
      },
      "execution_count": null,
      "outputs": [
        {
          "output_type": "execute_result",
          "data": {
            "text/plain": [
              "['pubmed-rct/PubMed_20k_RCT_numbers_replaced_with_at_sign/test.txt',\n",
              " 'pubmed-rct/PubMed_20k_RCT_numbers_replaced_with_at_sign/train.txt',\n",
              " 'pubmed-rct/PubMed_20k_RCT_numbers_replaced_with_at_sign/dev.txt']"
            ]
          },
          "metadata": {},
          "execution_count": 6
        }
      ]
    },
    {
      "cell_type": "markdown",
      "source": [
        "# Ön işlem verileri\n",
        "\n",
        "Tamam, şimdi bazı metin verileri indirdik, sence modellemeye hazır mıyız?\n",
        "\n",
        "Verileri indirdik ama henüz bakmadık bile.\n",
        "\n",
        "Herhangi bir yeni veri kümesine aşina olmanın sloganı nedir?\n",
        "\n",
        "Sana bir ipucu vereceğim, kelime \"v\" ile başlıyor ve bunu üç kez söylüyoruz.\n",
        "\n",
        "Vibe, vibe, vibe? (titreşim)\n",
        "\n",
        "Bir nevi... kesinlikle verilerimizin havasını hissetmeliyiz.\n",
        "\n",
        "Values, values, values?\n",
        "\n",
        "Yine, çok fazla değer görmek istiyoruz ama tam olarak aradığımız şey değil.\n",
        "\n",
        "Visualize, visualize, visualize?\n",
        "\n",
        "Bu kadar. Derin öğrenme modellerimiz için verilerimizi nasıl hazırlamamız gerektiğini öğrenmek ve anlamak için onu görselleştirmeliyiz.\n",
        "\n",
        "Verilerimiz metin dosyaları biçiminde olduğundan, bir hedef dosyadaki satırların her birini okumak için biraz kod yazalım."
      ],
      "metadata": {
        "id": "9p0_6nJIm13E"
      }
    },
    {
      "cell_type": "markdown",
      "source": [
        "# Python'da metin dosyalarını okuma\n",
        "\n",
        "google'a yaz --> \"python read text file\"\n",
        "\n",
        "realpython.com/read-write-files-pyhton\n",
        "\n",
        "Bir metin dosyası adı ve metin satırlarını liste olarak döndürür,  dosya yolunu iletiriz ve ardından o metin dosyasındaki tüm satırları liste olarak döndürürüz.\n",
        "\n",
        "r --> read; f--> file...dosyayı oku sonra file'ye dönüştür.\n",
        "\n",
        "readlines -->  Dosya nesnesinden kalan satırları okur ve bunları bir liste olarak döndürür."
      ],
      "metadata": {
        "id": "zNruxvjLh6M-"
      }
    },
    {
      "cell_type": "code",
      "source": [
        "# Create function to read the lines of a document\n",
        "def get_lines(filename):\n",
        "  \"\"\"\n",
        "  Reads filename (a text file) and returns the lines of text as a list.\n",
        "\n",
        "  Args:\n",
        "      filename: a string containing the target filepath to read.\n",
        "\n",
        "  Returns:\n",
        "      A list of strings with one string per line from the target filename.\n",
        "      For example:\n",
        "      [\"this is the first line of filename\",\n",
        "       \"this is the second line of filename\",\n",
        "       \"...\"]\n",
        "  \"\"\"\n",
        "  with open(filename, \"r\") as f:\n",
        "    return f.readlines()"
      ],
      "metadata": {
        "id": "H-yO7LOjmo6w"
      },
      "execution_count": null,
      "outputs": []
    },
    {
      "cell_type": "markdown",
      "source": [
        "Pekala, küçük bir işlevimiz var, bir metin dosyasının dosya yolunu alan, açan, satırların her birini okuyan ve döndüren get_lines().\n",
        "\n",
        "Eğitim verileri üzerinde deneyelim (train.txt)."
      ],
      "metadata": {
        "id": "j9T-qaYdntDU"
      }
    },
    {
      "cell_type": "code",
      "source": [
        "# read the lines with the training files\n",
        "train_lines = get_lines(data_dir+\"train.txt\")\n",
        "train_lines[:20] # the whole first example of an abstract + a little more of the next one"
      ],
      "metadata": {
        "colab": {
          "base_uri": "https://localhost:8080/"
        },
        "id": "z41rT0Rtnb9L",
        "outputId": "b016aab6-ab77-4596-c535-3c945dc8431b"
      },
      "execution_count": null,
      "outputs": [
        {
          "output_type": "execute_result",
          "data": {
            "text/plain": [
              "['###24293578\\n',\n",
              " 'OBJECTIVE\\tTo investigate the efficacy of @ weeks of daily low-dose oral prednisolone in improving pain , mobility , and systemic low-grade inflammation in the short term and whether the effect would be sustained at @ weeks in older adults with moderate to severe knee osteoarthritis ( OA ) .\\n',\n",
              " 'METHODS\\tA total of @ patients with primary knee OA were randomized @:@ ; @ received @ mg/day of prednisolone and @ received placebo for @ weeks .\\n',\n",
              " 'METHODS\\tOutcome measures included pain reduction and improvement in function scores and systemic inflammation markers .\\n',\n",
              " 'METHODS\\tPain was assessed using the visual analog pain scale ( @-@ mm ) .\\n',\n",
              " 'METHODS\\tSecondary outcome measures included the Western Ontario and McMaster Universities Osteoarthritis Index scores , patient global assessment ( PGA ) of the severity of knee OA , and @-min walk distance ( @MWD ) .\\n',\n",
              " 'METHODS\\tSerum levels of interleukin @ ( IL-@ ) , IL-@ , tumor necrosis factor ( TNF ) - , and high-sensitivity C-reactive protein ( hsCRP ) were measured .\\n',\n",
              " 'RESULTS\\tThere was a clinically relevant reduction in the intervention group compared to the placebo group for knee pain , physical function , PGA , and @MWD at @ weeks .\\n',\n",
              " 'RESULTS\\tThe mean difference between treatment arms ( @ % CI ) was @ ( @-@ @ ) , p < @ ; @ ( @-@ @ ) , p < @ ; @ ( @-@ @ ) , p < @ ; and @ ( @-@ @ ) , p < @ , respectively .\\n',\n",
              " 'RESULTS\\tFurther , there was a clinically relevant reduction in the serum levels of IL-@ , IL-@ , TNF - , and hsCRP at @ weeks in the intervention group when compared to the placebo group .\\n',\n",
              " 'RESULTS\\tThese differences remained significant at @ weeks .\\n',\n",
              " 'RESULTS\\tThe Outcome Measures in Rheumatology Clinical Trials-Osteoarthritis Research Society International responder rate was @ % in the intervention group and @ % in the placebo group ( p < @ ) .\\n',\n",
              " 'CONCLUSIONS\\tLow-dose oral prednisolone had both a short-term and a longer sustained effect resulting in less knee pain , better physical function , and attenuation of systemic inflammation in older patients with knee OA ( ClinicalTrials.gov identifier NCT@ ) .\\n',\n",
              " '\\n',\n",
              " '###24854809\\n',\n",
              " 'BACKGROUND\\tEmotional eating is associated with overeating and the development of obesity .\\n',\n",
              " 'BACKGROUND\\tYet , empirical evidence for individual ( trait ) differences in emotional eating and cognitive mechanisms that contribute to eating during sad mood remain equivocal .\\n',\n",
              " 'OBJECTIVE\\tThe aim of this study was to test if attention bias for food moderates the effect of self-reported emotional eating during sad mood ( vs neutral mood ) on actual food intake .\\n',\n",
              " 'OBJECTIVE\\tIt was expected that emotional eating is predictive of elevated attention for food and higher food intake after an experimentally induced sad mood and that attentional maintenance on food predicts food intake during a sad versus a neutral mood .\\n',\n",
              " 'METHODS\\tParticipants ( N = @ ) were randomly assigned to one of the two experimental mood induction conditions ( sad/neutral ) .\\n']"
            ]
          },
          "metadata": {},
          "execution_count": 8
        }
      ]
    },
    {
      "cell_type": "markdown",
      "source": [
        "Başta ###4343 gibi sayısal kimlik biçimleri var. Bir soyutun başlangıcını ayırt etmek için faydalı olabilir."
      ],
      "metadata": {
        "id": "gBvSPGHwkgPG"
      }
    },
    {
      "cell_type": "markdown",
      "source": [
        "Eğitim metin dosyasındaki satırları okumak, farklı soyut örnekler içeren dizelerin bir listesiyle sonuçlanır, bir örnekteki cümleler ve cümlenin özette oynadığı rol.\n",
        "\n",
        "Her cümlenin rolü, bir sekme (\\t) ile ayrılmış her satırın başında ön eklenir ve her cümle yeni bir satırla (\\n) biter.\n",
        "\n",
        "Farklı özetler soyut kimlikleri (### ile başlayan satırlar) ve yeni satırlar (\\n) ile ayrılır.\n",
        "\n",
        "Bunu bilerek, örneklerimizi gelecekteki makine öğrenimi modelimize eğitim verileri olarak aktarmaya hazır hale getirmek için yapmamız gereken birkaç adım var gibi görünüyor.\n",
        "\n",
        "Aşağıdaki adımları gerçekleştirmek için bir işlev yazalım:\n",
        "\n",
        "- Soyut örneklerden oluşan bir hedef dosya alın.\n",
        "\n",
        "- Hedef dosyadaki satırları okuyun.\n",
        "\n",
        "- Hedef dosyadaki her satır için:\n",
        "\n",
        "  - Satır ### ile başlıyorsa, bunu soyut kimlik ve yeni bir özetin başlangıcı olarak işaretleyin.\n",
        "\n",
        "    - Bir örnekteki satır sayısının sayısını koruyun.\n",
        "\n",
        "  - Satır \\n ile başlıyorsa, bunu soyut bir örneğin sonu olarak işaretleyin.\n",
        "\n",
        "    - Bir örnekteki toplam satırların sayısını koruyun.\n",
        "\n",
        "  - \\t'den önceki metni satırın etiketi olarak kaydedin.\n",
        "\n",
        "  - \\t'den sonraki metni satırın metni olarak kaydedin.\n",
        "\n",
        "- Hedef metin dosyasındaki tüm satırları anahtar/değer çiftlerini içeren sözlüklerin bir listesi olarak döndürün:\n",
        "\n",
        "  - \"Line_number\" - özetteki satırın konumu (örn. 3).\n",
        "\n",
        "  - \"Hedef\" - çizginin soyuttaki rolü (örn. AMAÇ).\n",
        "\n",
        "  - \"Metin\" - soyuttaki satırın metni.\n",
        "\n",
        "  - \"Total_lines\" - soyut bir örnekteki toplam satır (örn. 14).\n",
        "\n",
        "- Özet kimlikleri ve yeni satırlar, döndürülen önceden işlenmiş verilerden atlanmalıdır.\n",
        "\n",
        "Örnek, önceden işlenmiş numune döndürdü (özetten tek bir satır):\n",
        "\n",
        "[{'line_number': 0,\n",
        "  'target': 'OBJECTIVE',\n",
        "  'text': 'to investigate the efficacy of @ weeks of daily low-dose oral prednisolone in improving pain , mobility , and systemic low-grade inflammation in the short term and whether the effect would be sustained at @ weeks in older adults with moderate to severe knee osteoarthritis ( oa ) .',\n",
        "  'total_lines': 11},\n",
        "  ...]"
      ],
      "metadata": {
        "id": "ghCLDr6soB6v"
      }
    },
    {
      "cell_type": "markdown",
      "source": [
        "Etiketleri metinden ve her bir özetten ayıracak bir işlev yazmamız gerekiyor.\n",
        "Birbirlerinden de ayrı tutmamız lazım onları.\n",
        "\n",
        "len(train_lines) --> 210040\n",
        "\n",
        "Sözlük yazmalısın;\n",
        "\n",
        "[{ 'line_number' : 0,\n",
        "\n",
        "  'target' : 'BACKGROUND',\n",
        "\n",
        "  'text' : '......\\n'\n",
        "\n",
        "  'total_lines' : 11     \n",
        "}]\n"
      ],
      "metadata": {
        "id": "CcjRnu5BlF4c"
      }
    },
    {
      "cell_type": "markdown",
      "source": [
        "# Not:\n",
        "Sample data'daki dört giriş dosyasını da kaynak dosyaları da incele! Bu dosyalar nasıl oluşturulabilir?"
      ],
      "metadata": {
        "id": "By3C0QJxeWh6"
      }
    },
    {
      "cell_type": "markdown",
      "source": [
        "# Aşağıdaki fonksiyon notları:\n",
        "\n",
        "- Sözlüklerin bir listesi döndürülür.\n",
        "- Bu fonks. ile dosya alınır, içeriği okunur, her bir satıra verilir. Hedef etiket, cümle metni, bir paragraftaki cümle sayısı ve hedefteki cümle numarası çıkarılır.\n",
        "- input_lines --> Değişkendir. Hedef dosya adına tüm satırları liste formatında alır.\n",
        "- abstract_lines --> soyut satırlar, farklı özetleri ayırmamızı sağlayan string yöntemii...### /n bu bir paragraf ayırır.\n",
        "- txt = \"Merhaba, dünya\"; x = txt.startswith(\"Merhaba\"); print(x) --> True\n",
        "- abstract_lines --> Eğer satır, satır içindeyse, çünkü bu soyut satırı değişkenin yukarısındaysa hepsini kaydederiz. Yani hepsi düzgün çalıştığında soyut satırları kaydeder. Ancak ### olanlara gelirsek başlangıçta buna sahip olan soyut satır değişken için bunu sağlayacak yer açılır.\n",
        "- txt = \" \"; x = txt.isspace(); print(x) = True\n",
        "- Bu yeni bir satır olup olmadığını kontrol eder, ters eğik çizgili n yeni satır, boş dize.\n",
        "- split_line --> Özet üzerinden geçtikten sonra aslında hepsi tek bir dizeye kaydedilir ve bu değişken bunların her birini kendi dizelerine böler. Bunların her birinde ters eğik çizgili n var ve gördüğünde her satırı ayrı ayrı böler.\n",
        "- İkinci döngüde Metni böl ve geçir sekmesini çağırdığında bu kendi dizesine böler. Hedef ve metni kendi dizesine dönüştürür.\n",
        "- Pythın 0 ile başlar, [0] sonra 1...total_lines -1...\n",
        "- # ile başlamaz ve ters eğik çizgili n ile bitmezse fonksiyon tüm bu satırları söyler yani yeni bir satır.\n",
        "\n",
        "dev: doğrulama veri kümesi"
      ],
      "metadata": {
        "id": "vZbCQ9MqeWcd"
      }
    },
    {
      "cell_type": "code",
      "source": [
        "def preprocess_text_with_line_numbers(filename):\n",
        "  \"\"\"Returns a list of dictionaries of abstract line data.\n",
        "\n",
        "  Takes in filename, reads its contents and sorts through each line,\n",
        "  extracting things like the target label, the text of the sentence,\n",
        "  how many sentences are in the current abstract and what sentence number\n",
        "  the target line is.\n",
        "\n",
        "  Args:\n",
        "      filename: a string of the target text file to read and extract line data\n",
        "      from.\n",
        "\n",
        "  Returns:\n",
        "      A list of dictionaries each containing a line from an abstract,\n",
        "      the lines label, the lines position in the abstract and the total number\n",
        "      of lines in the abstract where the line is from. For example:\n",
        "\n",
        "      [{\"target\": 'CONCLUSION',\n",
        "        \"text\": The study couldn't have gone better, turns out people are kinder than you think\",\n",
        "        \"line_number\": 8,\n",
        "        \"total_lines\": 8}]\n",
        "  \"\"\"\n",
        "  input_lines = get_lines(filename) # get all lines from filename\n",
        "  abstract_lines = \"\" # create an empty abstract\n",
        "  abstract_samples = [] # create an empty list of abstracts\n",
        "\n",
        "  # Loop through each line in target file\n",
        "  for line in input_lines:\n",
        "    if line.startswith(\"###\"): # check to see if line is an ID line\n",
        "      abstract_id = line\n",
        "      abstract_lines = \"\" # reset abstract string\n",
        "    elif line.isspace(): # check to see if line is a new line\n",
        "      abstract_line_split = abstract_lines.splitlines() # split abstract into separate lines\n",
        "\n",
        "      # Iterate through each line in abstract and count them at the same time\n",
        "      for abstract_line_number, abstract_line in enumerate(abstract_line_split):\n",
        "        line_data = {} # create empty dict to store data from line\n",
        "        target_text_split = abstract_line.split(\"\\t\") # split target label from text\n",
        "        line_data[\"target\"] = target_text_split[0] # get target label\n",
        "        line_data[\"text\"] = target_text_split[1].lower() # get target text and lower it\n",
        "        line_data[\"line_number\"] = abstract_line_number # what number line does the line appear in the abstract?\n",
        "        line_data[\"total_lines\"] = len(abstract_line_split) - 1 # how many total lines are in the abstract? (start from 0)\n",
        "        abstract_samples.append(line_data) # add line data to abstract samples list\n",
        "\n",
        "    else: # if the above conditions aren't fulfilled, the line contains a labelled sentence\n",
        "      abstract_lines += line\n",
        "\n",
        "  return abstract_samples"
      ],
      "metadata": {
        "id": "otP36KmOn6j_"
      },
      "execution_count": null,
      "outputs": []
    },
    {
      "cell_type": "markdown",
      "source": [
        "Bu iyi görünen bir işlev. RCT 20k veri kümelerimizin her birini önceden işlemek için kullanalım."
      ],
      "metadata": {
        "id": "bST3d3jUo4KG"
      }
    },
    {
      "cell_type": "code",
      "source": [
        "# Get data from file and preprocess it\n",
        "%%time\n",
        "train_samples = preprocess_text_with_line_numbers(data_dir + \"train.txt\")\n",
        "val_samples = preprocess_text_with_line_numbers(data_dir + \"dev.txt\") # dev is another name for validation set\n",
        "test_samples = preprocess_text_with_line_numbers(data_dir + \"test.txt\")\n",
        "len(train_samples), len(val_samples), len(test_samples)"
      ],
      "metadata": {
        "colab": {
          "base_uri": "https://localhost:8080/"
        },
        "id": "3LlrheaMozh0",
        "outputId": "9bf38c7c-f920-4a75-aa72-f1505578e826"
      },
      "execution_count": null,
      "outputs": [
        {
          "output_type": "stream",
          "name": "stdout",
          "text": [
            "CPU times: user 764 ms, sys: 142 ms, total: 905 ms\n",
            "Wall time: 1.51 s\n"
          ]
        },
        {
          "output_type": "execute_result",
          "data": {
            "text/plain": [
              "(180040, 30212, 30135)"
            ]
          },
          "metadata": {},
          "execution_count": 10
        }
      ]
    },
    {
      "cell_type": "markdown",
      "source": [
        "Eğitim örneklerimiz nasıl görünüyor?"
      ],
      "metadata": {
        "id": "9AbwzZFBpizz"
      }
    },
    {
      "cell_type": "code",
      "source": [
        "# Check the first abstract of our training data\n",
        "train_samples[:14]"
      ],
      "metadata": {
        "colab": {
          "base_uri": "https://localhost:8080/"
        },
        "id": "fmH3BrdtpdqN",
        "outputId": "2e6bb075-b17f-4945-e143-450d7bde1bcd"
      },
      "execution_count": null,
      "outputs": [
        {
          "output_type": "execute_result",
          "data": {
            "text/plain": [
              "[{'target': 'OBJECTIVE',\n",
              "  'text': 'to investigate the efficacy of @ weeks of daily low-dose oral prednisolone in improving pain , mobility , and systemic low-grade inflammation in the short term and whether the effect would be sustained at @ weeks in older adults with moderate to severe knee osteoarthritis ( oa ) .',\n",
              "  'line_number': 0,\n",
              "  'total_lines': 11},\n",
              " {'target': 'METHODS',\n",
              "  'text': 'a total of @ patients with primary knee oa were randomized @:@ ; @ received @ mg/day of prednisolone and @ received placebo for @ weeks .',\n",
              "  'line_number': 1,\n",
              "  'total_lines': 11},\n",
              " {'target': 'METHODS',\n",
              "  'text': 'outcome measures included pain reduction and improvement in function scores and systemic inflammation markers .',\n",
              "  'line_number': 2,\n",
              "  'total_lines': 11},\n",
              " {'target': 'METHODS',\n",
              "  'text': 'pain was assessed using the visual analog pain scale ( @-@ mm ) .',\n",
              "  'line_number': 3,\n",
              "  'total_lines': 11},\n",
              " {'target': 'METHODS',\n",
              "  'text': 'secondary outcome measures included the western ontario and mcmaster universities osteoarthritis index scores , patient global assessment ( pga ) of the severity of knee oa , and @-min walk distance ( @mwd ) .',\n",
              "  'line_number': 4,\n",
              "  'total_lines': 11},\n",
              " {'target': 'METHODS',\n",
              "  'text': 'serum levels of interleukin @ ( il-@ ) , il-@ , tumor necrosis factor ( tnf ) - , and high-sensitivity c-reactive protein ( hscrp ) were measured .',\n",
              "  'line_number': 5,\n",
              "  'total_lines': 11},\n",
              " {'target': 'RESULTS',\n",
              "  'text': 'there was a clinically relevant reduction in the intervention group compared to the placebo group for knee pain , physical function , pga , and @mwd at @ weeks .',\n",
              "  'line_number': 6,\n",
              "  'total_lines': 11},\n",
              " {'target': 'RESULTS',\n",
              "  'text': 'the mean difference between treatment arms ( @ % ci ) was @ ( @-@ @ ) , p < @ ; @ ( @-@ @ ) , p < @ ; @ ( @-@ @ ) , p < @ ; and @ ( @-@ @ ) , p < @ , respectively .',\n",
              "  'line_number': 7,\n",
              "  'total_lines': 11},\n",
              " {'target': 'RESULTS',\n",
              "  'text': 'further , there was a clinically relevant reduction in the serum levels of il-@ , il-@ , tnf - , and hscrp at @ weeks in the intervention group when compared to the placebo group .',\n",
              "  'line_number': 8,\n",
              "  'total_lines': 11},\n",
              " {'target': 'RESULTS',\n",
              "  'text': 'these differences remained significant at @ weeks .',\n",
              "  'line_number': 9,\n",
              "  'total_lines': 11},\n",
              " {'target': 'RESULTS',\n",
              "  'text': 'the outcome measures in rheumatology clinical trials-osteoarthritis research society international responder rate was @ % in the intervention group and @ % in the placebo group ( p < @ ) .',\n",
              "  'line_number': 10,\n",
              "  'total_lines': 11},\n",
              " {'target': 'CONCLUSIONS',\n",
              "  'text': 'low-dose oral prednisolone had both a short-term and a longer sustained effect resulting in less knee pain , better physical function , and attenuation of systemic inflammation in older patients with knee oa ( clinicaltrials.gov identifier nct@ ) .',\n",
              "  'line_number': 11,\n",
              "  'total_lines': 11},\n",
              " {'target': 'BACKGROUND',\n",
              "  'text': 'emotional eating is associated with overeating and the development of obesity .',\n",
              "  'line_number': 0,\n",
              "  'total_lines': 10},\n",
              " {'target': 'BACKGROUND',\n",
              "  'text': 'yet , empirical evidence for individual ( trait ) differences in emotional eating and cognitive mechanisms that contribute to eating during sad mood remain equivocal .',\n",
              "  'line_number': 1,\n",
              "  'total_lines': 10}]"
            ]
          },
          "metadata": {},
          "execution_count": 11
        }
      ]
    },
    {
      "cell_type": "markdown",
      "source": [
        "Muhteşem! Preprocess_text_with_line_numbers() işlevimiz harika çalıştı gibi görünüyor.\n",
        "\n",
        "Sözlük listemizi panda DataFrame'e dönüştürmeye ne dersiniz, böylece onları daha iyi görselleştirebiliriz?"
      ],
      "metadata": {
        "id": "BIWcaLuXpszI"
      }
    },
    {
      "cell_type": "code",
      "source": [
        "import pandas as pd\n",
        "train_df = pd.DataFrame(train_samples)\n",
        "val_df = pd.DataFrame(val_samples)\n",
        "test_df = pd.DataFrame(test_samples)\n",
        "train_df.head(14)"
      ],
      "metadata": {
        "colab": {
          "base_uri": "https://localhost:8080/",
          "height": 483
        },
        "id": "jxbs-OgRpmE2",
        "outputId": "be1651b7-8a00-4f13-89f2-46c81724e5d9"
      },
      "execution_count": null,
      "outputs": [
        {
          "output_type": "execute_result",
          "data": {
            "text/plain": [
              "         target                                               text  \\\n",
              "0     OBJECTIVE  to investigate the efficacy of @ weeks of dail...   \n",
              "1       METHODS  a total of @ patients with primary knee oa wer...   \n",
              "2       METHODS  outcome measures included pain reduction and i...   \n",
              "3       METHODS  pain was assessed using the visual analog pain...   \n",
              "4       METHODS  secondary outcome measures included the wester...   \n",
              "5       METHODS  serum levels of interleukin @ ( il-@ ) , il-@ ...   \n",
              "6       RESULTS  there was a clinically relevant reduction in t...   \n",
              "7       RESULTS  the mean difference between treatment arms ( @...   \n",
              "8       RESULTS  further , there was a clinically relevant redu...   \n",
              "9       RESULTS  these differences remained significant at @ we...   \n",
              "10      RESULTS  the outcome measures in rheumatology clinical ...   \n",
              "11  CONCLUSIONS  low-dose oral prednisolone had both a short-te...   \n",
              "12   BACKGROUND  emotional eating is associated with overeating...   \n",
              "13   BACKGROUND  yet , empirical evidence for individual ( trai...   \n",
              "\n",
              "    line_number  total_lines  \n",
              "0             0           11  \n",
              "1             1           11  \n",
              "2             2           11  \n",
              "3             3           11  \n",
              "4             4           11  \n",
              "5             5           11  \n",
              "6             6           11  \n",
              "7             7           11  \n",
              "8             8           11  \n",
              "9             9           11  \n",
              "10           10           11  \n",
              "11           11           11  \n",
              "12            0           10  \n",
              "13            1           10  "
            ],
            "text/html": [
              "\n",
              "  <div id=\"df-fcf98485-7a57-4db6-874f-03fba13b0cac\" class=\"colab-df-container\">\n",
              "    <div>\n",
              "<style scoped>\n",
              "    .dataframe tbody tr th:only-of-type {\n",
              "        vertical-align: middle;\n",
              "    }\n",
              "\n",
              "    .dataframe tbody tr th {\n",
              "        vertical-align: top;\n",
              "    }\n",
              "\n",
              "    .dataframe thead th {\n",
              "        text-align: right;\n",
              "    }\n",
              "</style>\n",
              "<table border=\"1\" class=\"dataframe\">\n",
              "  <thead>\n",
              "    <tr style=\"text-align: right;\">\n",
              "      <th></th>\n",
              "      <th>target</th>\n",
              "      <th>text</th>\n",
              "      <th>line_number</th>\n",
              "      <th>total_lines</th>\n",
              "    </tr>\n",
              "  </thead>\n",
              "  <tbody>\n",
              "    <tr>\n",
              "      <th>0</th>\n",
              "      <td>OBJECTIVE</td>\n",
              "      <td>to investigate the efficacy of @ weeks of dail...</td>\n",
              "      <td>0</td>\n",
              "      <td>11</td>\n",
              "    </tr>\n",
              "    <tr>\n",
              "      <th>1</th>\n",
              "      <td>METHODS</td>\n",
              "      <td>a total of @ patients with primary knee oa wer...</td>\n",
              "      <td>1</td>\n",
              "      <td>11</td>\n",
              "    </tr>\n",
              "    <tr>\n",
              "      <th>2</th>\n",
              "      <td>METHODS</td>\n",
              "      <td>outcome measures included pain reduction and i...</td>\n",
              "      <td>2</td>\n",
              "      <td>11</td>\n",
              "    </tr>\n",
              "    <tr>\n",
              "      <th>3</th>\n",
              "      <td>METHODS</td>\n",
              "      <td>pain was assessed using the visual analog pain...</td>\n",
              "      <td>3</td>\n",
              "      <td>11</td>\n",
              "    </tr>\n",
              "    <tr>\n",
              "      <th>4</th>\n",
              "      <td>METHODS</td>\n",
              "      <td>secondary outcome measures included the wester...</td>\n",
              "      <td>4</td>\n",
              "      <td>11</td>\n",
              "    </tr>\n",
              "    <tr>\n",
              "      <th>5</th>\n",
              "      <td>METHODS</td>\n",
              "      <td>serum levels of interleukin @ ( il-@ ) , il-@ ...</td>\n",
              "      <td>5</td>\n",
              "      <td>11</td>\n",
              "    </tr>\n",
              "    <tr>\n",
              "      <th>6</th>\n",
              "      <td>RESULTS</td>\n",
              "      <td>there was a clinically relevant reduction in t...</td>\n",
              "      <td>6</td>\n",
              "      <td>11</td>\n",
              "    </tr>\n",
              "    <tr>\n",
              "      <th>7</th>\n",
              "      <td>RESULTS</td>\n",
              "      <td>the mean difference between treatment arms ( @...</td>\n",
              "      <td>7</td>\n",
              "      <td>11</td>\n",
              "    </tr>\n",
              "    <tr>\n",
              "      <th>8</th>\n",
              "      <td>RESULTS</td>\n",
              "      <td>further , there was a clinically relevant redu...</td>\n",
              "      <td>8</td>\n",
              "      <td>11</td>\n",
              "    </tr>\n",
              "    <tr>\n",
              "      <th>9</th>\n",
              "      <td>RESULTS</td>\n",
              "      <td>these differences remained significant at @ we...</td>\n",
              "      <td>9</td>\n",
              "      <td>11</td>\n",
              "    </tr>\n",
              "    <tr>\n",
              "      <th>10</th>\n",
              "      <td>RESULTS</td>\n",
              "      <td>the outcome measures in rheumatology clinical ...</td>\n",
              "      <td>10</td>\n",
              "      <td>11</td>\n",
              "    </tr>\n",
              "    <tr>\n",
              "      <th>11</th>\n",
              "      <td>CONCLUSIONS</td>\n",
              "      <td>low-dose oral prednisolone had both a short-te...</td>\n",
              "      <td>11</td>\n",
              "      <td>11</td>\n",
              "    </tr>\n",
              "    <tr>\n",
              "      <th>12</th>\n",
              "      <td>BACKGROUND</td>\n",
              "      <td>emotional eating is associated with overeating...</td>\n",
              "      <td>0</td>\n",
              "      <td>10</td>\n",
              "    </tr>\n",
              "    <tr>\n",
              "      <th>13</th>\n",
              "      <td>BACKGROUND</td>\n",
              "      <td>yet , empirical evidence for individual ( trai...</td>\n",
              "      <td>1</td>\n",
              "      <td>10</td>\n",
              "    </tr>\n",
              "  </tbody>\n",
              "</table>\n",
              "</div>\n",
              "    <div class=\"colab-df-buttons\">\n",
              "\n",
              "  <div class=\"colab-df-container\">\n",
              "    <button class=\"colab-df-convert\" onclick=\"convertToInteractive('df-fcf98485-7a57-4db6-874f-03fba13b0cac')\"\n",
              "            title=\"Convert this dataframe to an interactive table.\"\n",
              "            style=\"display:none;\">\n",
              "\n",
              "  <svg xmlns=\"http://www.w3.org/2000/svg\" height=\"24px\" viewBox=\"0 -960 960 960\">\n",
              "    <path d=\"M120-120v-720h720v720H120Zm60-500h600v-160H180v160Zm220 220h160v-160H400v160Zm0 220h160v-160H400v160ZM180-400h160v-160H180v160Zm440 0h160v-160H620v160ZM180-180h160v-160H180v160Zm440 0h160v-160H620v160Z\"/>\n",
              "  </svg>\n",
              "    </button>\n",
              "\n",
              "  <style>\n",
              "    .colab-df-container {\n",
              "      display:flex;\n",
              "      gap: 12px;\n",
              "    }\n",
              "\n",
              "    .colab-df-convert {\n",
              "      background-color: #E8F0FE;\n",
              "      border: none;\n",
              "      border-radius: 50%;\n",
              "      cursor: pointer;\n",
              "      display: none;\n",
              "      fill: #1967D2;\n",
              "      height: 32px;\n",
              "      padding: 0 0 0 0;\n",
              "      width: 32px;\n",
              "    }\n",
              "\n",
              "    .colab-df-convert:hover {\n",
              "      background-color: #E2EBFA;\n",
              "      box-shadow: 0px 1px 2px rgba(60, 64, 67, 0.3), 0px 1px 3px 1px rgba(60, 64, 67, 0.15);\n",
              "      fill: #174EA6;\n",
              "    }\n",
              "\n",
              "    .colab-df-buttons div {\n",
              "      margin-bottom: 4px;\n",
              "    }\n",
              "\n",
              "    [theme=dark] .colab-df-convert {\n",
              "      background-color: #3B4455;\n",
              "      fill: #D2E3FC;\n",
              "    }\n",
              "\n",
              "    [theme=dark] .colab-df-convert:hover {\n",
              "      background-color: #434B5C;\n",
              "      box-shadow: 0px 1px 3px 1px rgba(0, 0, 0, 0.15);\n",
              "      filter: drop-shadow(0px 1px 2px rgba(0, 0, 0, 0.3));\n",
              "      fill: #FFFFFF;\n",
              "    }\n",
              "  </style>\n",
              "\n",
              "    <script>\n",
              "      const buttonEl =\n",
              "        document.querySelector('#df-fcf98485-7a57-4db6-874f-03fba13b0cac button.colab-df-convert');\n",
              "      buttonEl.style.display =\n",
              "        google.colab.kernel.accessAllowed ? 'block' : 'none';\n",
              "\n",
              "      async function convertToInteractive(key) {\n",
              "        const element = document.querySelector('#df-fcf98485-7a57-4db6-874f-03fba13b0cac');\n",
              "        const dataTable =\n",
              "          await google.colab.kernel.invokeFunction('convertToInteractive',\n",
              "                                                    [key], {});\n",
              "        if (!dataTable) return;\n",
              "\n",
              "        const docLinkHtml = 'Like what you see? Visit the ' +\n",
              "          '<a target=\"_blank\" href=https://colab.research.google.com/notebooks/data_table.ipynb>data table notebook</a>'\n",
              "          + ' to learn more about interactive tables.';\n",
              "        element.innerHTML = '';\n",
              "        dataTable['output_type'] = 'display_data';\n",
              "        await google.colab.output.renderOutput(dataTable, element);\n",
              "        const docLink = document.createElement('div');\n",
              "        docLink.innerHTML = docLinkHtml;\n",
              "        element.appendChild(docLink);\n",
              "      }\n",
              "    </script>\n",
              "  </div>\n",
              "\n",
              "\n",
              "<div id=\"df-4ce53bac-eddf-4fc0-9f4c-2946088a48f3\">\n",
              "  <button class=\"colab-df-quickchart\" onclick=\"quickchart('df-4ce53bac-eddf-4fc0-9f4c-2946088a48f3')\"\n",
              "            title=\"Suggest charts\"\n",
              "            style=\"display:none;\">\n",
              "\n",
              "<svg xmlns=\"http://www.w3.org/2000/svg\" height=\"24px\"viewBox=\"0 0 24 24\"\n",
              "     width=\"24px\">\n",
              "    <g>\n",
              "        <path d=\"M19 3H5c-1.1 0-2 .9-2 2v14c0 1.1.9 2 2 2h14c1.1 0 2-.9 2-2V5c0-1.1-.9-2-2-2zM9 17H7v-7h2v7zm4 0h-2V7h2v10zm4 0h-2v-4h2v4z\"/>\n",
              "    </g>\n",
              "</svg>\n",
              "  </button>\n",
              "\n",
              "<style>\n",
              "  .colab-df-quickchart {\n",
              "      --bg-color: #E8F0FE;\n",
              "      --fill-color: #1967D2;\n",
              "      --hover-bg-color: #E2EBFA;\n",
              "      --hover-fill-color: #174EA6;\n",
              "      --disabled-fill-color: #AAA;\n",
              "      --disabled-bg-color: #DDD;\n",
              "  }\n",
              "\n",
              "  [theme=dark] .colab-df-quickchart {\n",
              "      --bg-color: #3B4455;\n",
              "      --fill-color: #D2E3FC;\n",
              "      --hover-bg-color: #434B5C;\n",
              "      --hover-fill-color: #FFFFFF;\n",
              "      --disabled-bg-color: #3B4455;\n",
              "      --disabled-fill-color: #666;\n",
              "  }\n",
              "\n",
              "  .colab-df-quickchart {\n",
              "    background-color: var(--bg-color);\n",
              "    border: none;\n",
              "    border-radius: 50%;\n",
              "    cursor: pointer;\n",
              "    display: none;\n",
              "    fill: var(--fill-color);\n",
              "    height: 32px;\n",
              "    padding: 0;\n",
              "    width: 32px;\n",
              "  }\n",
              "\n",
              "  .colab-df-quickchart:hover {\n",
              "    background-color: var(--hover-bg-color);\n",
              "    box-shadow: 0 1px 2px rgba(60, 64, 67, 0.3), 0 1px 3px 1px rgba(60, 64, 67, 0.15);\n",
              "    fill: var(--button-hover-fill-color);\n",
              "  }\n",
              "\n",
              "  .colab-df-quickchart-complete:disabled,\n",
              "  .colab-df-quickchart-complete:disabled:hover {\n",
              "    background-color: var(--disabled-bg-color);\n",
              "    fill: var(--disabled-fill-color);\n",
              "    box-shadow: none;\n",
              "  }\n",
              "\n",
              "  .colab-df-spinner {\n",
              "    border: 2px solid var(--fill-color);\n",
              "    border-color: transparent;\n",
              "    border-bottom-color: var(--fill-color);\n",
              "    animation:\n",
              "      spin 1s steps(1) infinite;\n",
              "  }\n",
              "\n",
              "  @keyframes spin {\n",
              "    0% {\n",
              "      border-color: transparent;\n",
              "      border-bottom-color: var(--fill-color);\n",
              "      border-left-color: var(--fill-color);\n",
              "    }\n",
              "    20% {\n",
              "      border-color: transparent;\n",
              "      border-left-color: var(--fill-color);\n",
              "      border-top-color: var(--fill-color);\n",
              "    }\n",
              "    30% {\n",
              "      border-color: transparent;\n",
              "      border-left-color: var(--fill-color);\n",
              "      border-top-color: var(--fill-color);\n",
              "      border-right-color: var(--fill-color);\n",
              "    }\n",
              "    40% {\n",
              "      border-color: transparent;\n",
              "      border-right-color: var(--fill-color);\n",
              "      border-top-color: var(--fill-color);\n",
              "    }\n",
              "    60% {\n",
              "      border-color: transparent;\n",
              "      border-right-color: var(--fill-color);\n",
              "    }\n",
              "    80% {\n",
              "      border-color: transparent;\n",
              "      border-right-color: var(--fill-color);\n",
              "      border-bottom-color: var(--fill-color);\n",
              "    }\n",
              "    90% {\n",
              "      border-color: transparent;\n",
              "      border-bottom-color: var(--fill-color);\n",
              "    }\n",
              "  }\n",
              "</style>\n",
              "\n",
              "  <script>\n",
              "    async function quickchart(key) {\n",
              "      const quickchartButtonEl =\n",
              "        document.querySelector('#' + key + ' button');\n",
              "      quickchartButtonEl.disabled = true;  // To prevent multiple clicks.\n",
              "      quickchartButtonEl.classList.add('colab-df-spinner');\n",
              "      try {\n",
              "        const charts = await google.colab.kernel.invokeFunction(\n",
              "            'suggestCharts', [key], {});\n",
              "      } catch (error) {\n",
              "        console.error('Error during call to suggestCharts:', error);\n",
              "      }\n",
              "      quickchartButtonEl.classList.remove('colab-df-spinner');\n",
              "      quickchartButtonEl.classList.add('colab-df-quickchart-complete');\n",
              "    }\n",
              "    (() => {\n",
              "      let quickchartButtonEl =\n",
              "        document.querySelector('#df-4ce53bac-eddf-4fc0-9f4c-2946088a48f3 button');\n",
              "      quickchartButtonEl.style.display =\n",
              "        google.colab.kernel.accessAllowed ? 'block' : 'none';\n",
              "    })();\n",
              "  </script>\n",
              "</div>\n",
              "\n",
              "    </div>\n",
              "  </div>\n"
            ],
            "application/vnd.google.colaboratory.intrinsic+json": {
              "type": "dataframe",
              "variable_name": "train_df"
            }
          },
          "metadata": {},
          "execution_count": 12
        }
      ]
    },
    {
      "cell_type": "markdown",
      "source": [
        "Artık verilerimiz DataFrame formunda, üzerinde bazı veri analizleri yapabiliriz."
      ],
      "metadata": {
        "id": "edW7ka81p2Hc"
      }
    },
    {
      "cell_type": "code",
      "source": [
        "# Distribution of labels in training data\n",
        "train_df.target.value_counts()"
      ],
      "metadata": {
        "colab": {
          "base_uri": "https://localhost:8080/"
        },
        "id": "-h7Ri7oBpwP4",
        "outputId": "d1825527-c921-46cd-e395-c6867b60457f"
      },
      "execution_count": null,
      "outputs": [
        {
          "output_type": "execute_result",
          "data": {
            "text/plain": [
              "target\n",
              "METHODS        59353\n",
              "RESULTS        57953\n",
              "CONCLUSIONS    27168\n",
              "BACKGROUND     21727\n",
              "OBJECTIVE      13839\n",
              "Name: count, dtype: int64"
            ]
          },
          "metadata": {},
          "execution_count": 13
        }
      ]
    },
    {
      "cell_type": "markdown",
      "source": [
        "OBJECTIVE etiketli cümlelerin en az yaygın olduğu gibi görünüyor.\n",
        "\n",
        "Özet uzunluklarımızın dağılımını kontrol etmeye ne dersiniz?"
      ],
      "metadata": {
        "id": "QmDhCbF8p9C9"
      }
    },
    {
      "cell_type": "code",
      "source": [
        "train_df.total_lines.plot.hist();"
      ],
      "metadata": {
        "colab": {
          "base_uri": "https://localhost:8080/",
          "height": 431
        },
        "id": "c8Qry9vSp4nF",
        "outputId": "ea4f225a-5ca3-48bb-ffb4-c3b8bf9438f2"
      },
      "execution_count": null,
      "outputs": [
        {
          "output_type": "display_data",
          "data": {
            "text/plain": [
              "<Figure size 640x480 with 1 Axes>"
            ],
            "image/png": "[encoded data removed]"
          },
          "metadata": {}
        }
      ]
    },
    {
      "cell_type": "markdown",
      "source": [
        "Tamam, özetlerin çoğu yaklaşık 7 ila 15 cümle uzunluğunda gibi görünüyor.\n",
        "\n",
        "Bir modeli eğittiğimizde veya görünmeyen örnekler üzerinde test ettiğimizde, sonuçlarımızın tuhafen olmadığından emin olmak için bunları kontrol etmek iyidir."
      ],
      "metadata": {
        "id": "fn9bs9_WqFxz"
      }
    },
    {
      "cell_type": "markdown",
      "source": [
        "# Cümle listelerini al\n",
        "\n",
        "Derin öğrenme modelimizi oluşturduğumuzda, ana girdilerinden biri dizelerin bir listesi (bir soyutun satırları) olacaktır.\n",
        "\n",
        "\"Metin\" sütunlarımızda tolist() yöntemini çağırarak bunları DataFrame'lerimizden kolayca alabiliriz."
      ],
      "metadata": {
        "id": "wRt4X-LRqKH8"
      }
    },
    {
      "cell_type": "code",
      "source": [
        "# Convert abstract text lines into lists\n",
        "train_sentences = train_df[\"text\"].tolist()\n",
        "val_sentences = val_df[\"text\"].tolist()\n",
        "test_sentences = test_df[\"text\"].tolist()\n",
        "len(train_sentences), len(val_sentences), len(test_sentences)"
      ],
      "metadata": {
        "colab": {
          "base_uri": "https://localhost:8080/"
        },
        "id": "E6J5jBcbqAN6",
        "outputId": "e7d792cb-b2c1-4fdb-bee7-986f476a45d6"
      },
      "execution_count": null,
      "outputs": [
        {
          "output_type": "execute_result",
          "data": {
            "text/plain": [
              "(180040, 30212, 30135)"
            ]
          },
          "metadata": {},
          "execution_count": 15
        }
      ]
    },
    {
      "cell_type": "code",
      "source": [
        "# View first 10 lines of training sentences\n",
        "train_sentences[:10]"
      ],
      "metadata": {
        "colab": {
          "base_uri": "https://localhost:8080/"
        },
        "id": "qc3hqoozqd1Y",
        "outputId": "9e4eaab3-cbbc-4b79-97d1-79419b2a48f6"
      },
      "execution_count": null,
      "outputs": [
        {
          "output_type": "execute_result",
          "data": {
            "text/plain": [
              "['to investigate the efficacy of @ weeks of daily low-dose oral prednisolone in improving pain , mobility , and systemic low-grade inflammation in the short term and whether the effect would be sustained at @ weeks in older adults with moderate to severe knee osteoarthritis ( oa ) .',\n",
              " 'a total of @ patients with primary knee oa were randomized @:@ ; @ received @ mg/day of prednisolone and @ received placebo for @ weeks .',\n",
              " 'outcome measures included pain reduction and improvement in function scores and systemic inflammation markers .',\n",
              " 'pain was assessed using the visual analog pain scale ( @-@ mm ) .',\n",
              " 'secondary outcome measures included the western ontario and mcmaster universities osteoarthritis index scores , patient global assessment ( pga ) of the severity of knee oa , and @-min walk distance ( @mwd ) .',\n",
              " 'serum levels of interleukin @ ( il-@ ) , il-@ , tumor necrosis factor ( tnf ) - , and high-sensitivity c-reactive protein ( hscrp ) were measured .',\n",
              " 'there was a clinically relevant reduction in the intervention group compared to the placebo group for knee pain , physical function , pga , and @mwd at @ weeks .',\n",
              " 'the mean difference between treatment arms ( @ % ci ) was @ ( @-@ @ ) , p < @ ; @ ( @-@ @ ) , p < @ ; @ ( @-@ @ ) , p < @ ; and @ ( @-@ @ ) , p < @ , respectively .',\n",
              " 'further , there was a clinically relevant reduction in the serum levels of il-@ , il-@ , tnf - , and hscrp at @ weeks in the intervention group when compared to the placebo group .',\n",
              " 'these differences remained significant at @ weeks .']"
            ]
          },
          "metadata": {},
          "execution_count": 16
        }
      ]
    },
    {
      "cell_type": "markdown",
      "source": [
        "Pekala, metin örneklerimizi ayırdık. Tahmin edebileceğiniz gibi, makine öğrenimi modellerimizle kullanmadan önce metni sayılara dönüştürmek için kod yazmamız gerekecek, buna yakında ulaşacağız."
      ],
      "metadata": {
        "id": "nshr_Ne0qmCo"
      }
    },
    {
      "cell_type": "markdown",
      "source": [
        "# Sayısal etiketler yapın (ML modelleri sayısal etiketler gerektirir)\n",
        "\n",
        "Bir tane sıcak ve etiket kodlanmış etiketler oluşturacağız.\n",
        "\n",
        "Sadece etiket kodlu etiketler yapmaktan kurtulabiliriz, ancak TensorFlow'un CategoricalCrossentropy kayıp işlevi, bir sıcak kodlanmış etikete sahip olmayı sever (bu, daha sonra etiket yumuşatmayı kullanmamızı sağlayacaktır).\n",
        "\n",
        "Etiketleri sayısal olarak kodlamak için Scikit-Learn'in OneHotEncoder ve LabelEncoder sınıflarını kullanacağız.\n",
        "\n",
        "- https://scikit-learn.org/stable/modules/generated/sklearn.preprocessing.OneHotEncoder.html\n",
        "- https://scikit-learn.org/stable/modules/generated/sklearn.preprocessing.LabelEncoder.html"
      ],
      "metadata": {
        "id": "BaQBiAZWqzl0"
      }
    },
    {
      "cell_type": "markdown",
      "source": [
        "Sparse yeni versiyonda gelen bir özellik, varsayılan true'dir. False yaptığımızda hata vermedi, True olduğunda matris uzunluğu belirsiz uyarısı alındı.\n",
        "\n",
        "Onehotencoder iki boyutludur, doğru şekilde veri olmazsa şeklini (-1,1) yap uyarısı alırsın. Bu yüzden kod satırına eklendi.\n",
        "\n",
        "val_labels_one_hot  --> Doğrulama hedef etiketlerimizi aynı şekilde dönüştürmek için yalnızca dönüştürülmüş yöntemi kullanmamız gerekiyor. Yani bulunan eğitim veri çerçevesinden etiketlerin yapısını alınır ve doğrulama veri çerçevesini aynı şekilde kodlar.\n"
      ],
      "metadata": {
        "id": "cLIbbmM25IMR"
      }
    },
    {
      "cell_type": "code",
      "source": [
        "# One hot encode labels\n",
        "from sklearn.preprocessing import OneHotEncoder\n",
        "one_hot_encoder = OneHotEncoder(sparse=False)\n",
        "train_labels_one_hot = one_hot_encoder.fit_transform(train_df[\"target\"].to_numpy().reshape(-1, 1))\n",
        "val_labels_one_hot = one_hot_encoder.transform(val_df[\"target\"].to_numpy().reshape(-1, 1))\n",
        "test_labels_one_hot = one_hot_encoder.transform(test_df[\"target\"].to_numpy().reshape(-1, 1))\n",
        "\n",
        "# Check what training labels look like\n",
        "train_labels_one_hot"
      ],
      "metadata": {
        "colab": {
          "base_uri": "https://localhost:8080/"
        },
        "id": "TnkldKi1qmuF",
        "outputId": "811029c8-5b0b-4385-fd52-484c340707b9"
      },
      "execution_count": null,
      "outputs": [
        {
          "output_type": "stream",
          "name": "stderr",
          "text": [
            "/usr/local/lib/python3.10/dist-packages/sklearn/preprocessing/_encoders.py:868: FutureWarning: `sparse` was renamed to `sparse_output` in version 1.2 and will be removed in 1.4. `sparse_output` is ignored unless you leave `sparse` to its default value.\n",
            "  warnings.warn(\n"
          ]
        },
        {
          "output_type": "execute_result",
          "data": {
            "text/plain": [
              "array([[0., 0., 0., 1., 0.],\n",
              "       [0., 0., 1., 0., 0.],\n",
              "       [0., 0., 1., 0., 0.],\n",
              "       ...,\n",
              "       [0., 0., 0., 0., 1.],\n",
              "       [0., 1., 0., 0., 0.],\n",
              "       [0., 1., 0., 0., 0.]])"
            ]
          },
          "metadata": {},
          "execution_count": 17
        }
      ]
    },
    {
      "cell_type": "markdown",
      "source": [
        "# Etiket kodlama etiketleri"
      ],
      "metadata": {
        "id": "Ba32aZnNrO0i"
      }
    },
    {
      "cell_type": "markdown",
      "source": [
        "LabelEncoder bir sınıftır.\n",
        "\n"
      ],
      "metadata": {
        "id": "_uNHeiPR7XwW"
      }
    },
    {
      "cell_type": "code",
      "source": [
        "# Extract labels (\"target\" columns) and encode them into integers\n",
        "from sklearn.preprocessing import LabelEncoder\n",
        "label_encoder = LabelEncoder()\n",
        "train_labels_encoded = label_encoder.fit_transform(train_df[\"target\"].to_numpy())\n",
        "val_labels_encoded = label_encoder.transform(val_df[\"target\"].to_numpy())\n",
        "test_labels_encoded = label_encoder.transform(test_df[\"target\"].to_numpy())\n",
        "\n",
        "# Check what training labels look like\n",
        "train_labels_encoded"
      ],
      "metadata": {
        "colab": {
          "base_uri": "https://localhost:8080/"
        },
        "id": "sg-Xi3tnrHDN",
        "outputId": "a573f8a3-1c6b-4e3a-e591-c12c9bdf51ef"
      },
      "execution_count": null,
      "outputs": [
        {
          "output_type": "execute_result",
          "data": {
            "text/plain": [
              "array([3, 2, 2, ..., 4, 1, 1])"
            ]
          },
          "metadata": {},
          "execution_count": 18
        }
      ]
    },
    {
      "cell_type": "markdown",
      "source": [
        "Şimdi bir LabelEncoder örneğini eğittik, classes_ özniteliğini kullanarak sınıf adlarını ve sınıf sayısını alabiliriz."
      ],
      "metadata": {
        "id": "rXnaB9k2rb0j"
      }
    },
    {
      "cell_type": "code",
      "source": [
        "# Get class names and number of classes from LabelEncoder instance\n",
        "num_classes = len(label_encoder.classes_)\n",
        "class_names = label_encoder.classes_\n",
        "num_classes, class_names"
      ],
      "metadata": {
        "colab": {
          "base_uri": "https://localhost:8080/"
        },
        "id": "Cx5gx6flrVym",
        "outputId": "b17ede1a-cbd6-46ba-b2dc-0d0523dea72e"
      },
      "execution_count": null,
      "outputs": [
        {
          "output_type": "execute_result",
          "data": {
            "text/plain": [
              "(5,\n",
              " array(['BACKGROUND', 'CONCLUSIONS', 'METHODS', 'OBJECTIVE', 'RESULTS'],\n",
              "       dtype=object))"
            ]
          },
          "metadata": {},
          "execution_count": 19
        }
      ]
    },
    {
      "cell_type": "markdown",
      "source": [
        "# Bir dizi model deneyi oluşturma\n",
        "\n",
        "Verilerimizi işledik, bu yüzden şimdi, gerçek makine öğrenimi tarzında, bir dizi modelleme deneyi kurmanın zamanı geldi.\n",
        "\n",
        "Tıbbi kağıt özetlerinde ortak cümle sınıflandırması için Sinir ağlarında özetlenen dizi modelini çoğaltmaya doğru ilerlerken, daha karmaşık modeller oluşturarak yenmeye çalışacağımız bir puan elde etmek için basit bir temel model oluşturarak başlayacağız. https://arxiv.org/pdf/1612.05251\n",
        "\n",
        "Her model için, eğitim verileri üzerinde eğiteceğiz ve doğrulama verileri üzerinde değerlendireceğiz."
      ],
      "metadata": {
        "id": "4zBzO9Swrnls"
      }
    },
    {
      "cell_type": "markdown",
      "source": [
        "# Model 0: Temel alma\n",
        "\n",
        "İlk modelimiz, Scikit-Learn'in makine öğrenimi haritası tarafından önerildiği gibi bir TF-IDF Multinomial Naive Bayes olacağız. https://scikit-learn.org/stable/tutorial/machine_learning_map/index.html\n",
        "\n",
        "Bunu oluşturmak için, TF-IDF (terim frekansı-ters belge frekansı) algoritmasını kullanarak soyut cümlelerimizi sayılara dönüştürmek için TfidfVectorizer sınıfını kullanan bir Scikit-Learn Pipeline oluşturacağız ve ardından MultinomialNB agloritm'i kullanarak cümlelerimizi sınıflandırmayı öğreneceğiz.\n",
        "\n",
        "- https://scikit-learn.org/stable/modules/generated/sklearn.feature_extraction.text.TfidfVectorizer.html\n",
        "- https://scikit-learn.org/stable/modules/generated/sklearn.naive_bayes.MultinomialNB.html"
      ],
      "metadata": {
        "id": "R6FqCK1Zryfj"
      }
    },
    {
      "cell_type": "markdown",
      "source": [
        "Metinleri eğitim cümlelerinde sayılara dönüştürmek için pipeline'yi ekledik.\n",
        "\n",
        "Pipeline bir tuple türünde listedir."
      ],
      "metadata": {
        "id": "rrV4WxkPUR15"
      }
    },
    {
      "cell_type": "code",
      "source": [
        "from sklearn.feature_extraction.text import TfidfVectorizer\n",
        "from sklearn.naive_bayes import MultinomialNB\n",
        "from sklearn.pipeline import Pipeline\n",
        "\n",
        "# Create a pipeline\n",
        "model_0 = Pipeline([\n",
        "  (\"tf-idf\", TfidfVectorizer()),\n",
        "  (\"clf\", MultinomialNB())\n",
        "])\n",
        "\n",
        "# Fit the pipeline to the training data\n",
        "model_0.fit(X=train_sentences,\n",
        "            y=train_labels_encoded);"
      ],
      "metadata": {
        "id": "JzAHg3Sarebz"
      },
      "execution_count": null,
      "outputs": []
    },
    {
      "cell_type": "markdown",
      "source": [
        "Multinomial Naive Bayes algoritmasının hızı nedeniyle çok hızlı antrenman yapıyor.\n",
        "\n",
        "Score() yöntemini kullanarak modelimizin doğrulama veri kümesi üzerindeki doğruluğunu değerlendirebiliriz."
      ],
      "metadata": {
        "id": "EwupLqP1sPEx"
      }
    },
    {
      "cell_type": "code",
      "source": [
        "# Evaluate baseline on validation dataset\n",
        "model_0.score(X=val_sentences,\n",
        "              y=val_labels_encoded)"
      ],
      "metadata": {
        "colab": {
          "base_uri": "https://localhost:8080/"
        },
        "id": "BXr9M1eTsKZP",
        "outputId": "7d962e00-a81e-4cf0-f41c-b854f887be30"
      },
      "execution_count": null,
      "outputs": [
        {
          "output_type": "execute_result",
          "data": {
            "text/plain": [
              "0.7218323844829869"
            ]
          },
          "metadata": {},
          "execution_count": 21
        }
      ]
    },
    {
      "cell_type": "markdown",
      "source": [
        "Güzel! Görünüşe göre %72.1 doğruluk, daha derin modellerimizle yenilecek sayı olacak.\n",
        "\n",
        "Şimdi daha fazla değerlendirmek için temel modelimizle bazı tahminlerde bulunalım."
      ],
      "metadata": {
        "id": "ucYZzdIqscfn"
      }
    },
    {
      "cell_type": "code",
      "source": [
        "# Make predictions\n",
        "baseline_preds = model_0.predict(val_sentences)\n",
        "baseline_preds"
      ],
      "metadata": {
        "colab": {
          "base_uri": "https://localhost:8080/"
        },
        "id": "TGuG4JdksU4c",
        "outputId": "988627dc-9edb-4f71-f2b0-343a0c5902b9"
      },
      "execution_count": null,
      "outputs": [
        {
          "output_type": "execute_result",
          "data": {
            "text/plain": [
              "array([4, 1, 3, ..., 4, 4, 1])"
            ]
          },
          "metadata": {},
          "execution_count": 22
        }
      ]
    },
    {
      "cell_type": "markdown",
      "source": [
        "Temel çizgimizin tahminlerini değerlendirmek için, önceki not defterinde oluşturduğumuz calculate_results() işlevini içe aktaracağız ve bunları temel doğruluk etiketleriyle karşılaştırmak için helper_functions.py komut dosyamıza ekleyeceğiz. https://github.com/mrdbourke/tensorflow-deep-learning/blob/main/extras/helper_functions.py\n",
        "\n",
        "Daha spesifik olarak calculate_results() işlevi aşağıdakileri elde etmemize yardımcı olacaktır:\n",
        "\n",
        "* Accuracy\n",
        "* Precision\n",
        "* Recall\n",
        "* F1 Score"
      ],
      "metadata": {
        "id": "mhq94VHTsjcJ"
      }
    },
    {
      "cell_type": "markdown",
      "source": [
        "# Yardımcı fonksiyonlar komut dosyasını indirin\n",
        "\n",
        "Önceki not defterlerinde oluşturduğumuz yardımcı işlevleri saklamak için kullandığımız helper_functions.py betiğimizi alalım."
      ],
      "metadata": {
        "id": "mHl0wQe-s8vW"
      }
    },
    {
      "cell_type": "code",
      "source": [
        "# Download helper functions script\n",
        "!wget https://raw.githubusercontent.com/mrdbourke/tensorflow-deep-learning/main/extras/helper_functions.py"
      ],
      "metadata": {
        "colab": {
          "base_uri": "https://localhost:8080/"
        },
        "id": "FvArrmdWsfGQ",
        "outputId": "c47f92ec-6a17-4b99-8d1e-564f61172dff"
      },
      "execution_count": null,
      "outputs": [
        {
          "output_type": "stream",
          "name": "stdout",
          "text": [
            "--2024-05-26 09:44:23--  https://raw.githubusercontent.com/mrdbourke/tensorflow-deep-learning/main/extras/helper_functions.py\n",
            "Resolving raw.githubusercontent.com (raw.githubusercontent.com)... 185.199.109.133, 185.199.111.133, 185.199.108.133, ...\n",
            "Connecting to raw.githubusercontent.com (raw.githubusercontent.com)|185.199.109.133|:443... connected.\n",
            "HTTP request sent, awaiting response... 200 OK\n",
            "Length: 10246 (10K) [text/plain]\n",
            "Saving to: ‘helper_functions.py’\n",
            "\n",
            "\rhelper_functions.py   0%[                    ]       0  --.-KB/s               \rhelper_functions.py 100%[===================>]  10.01K  --.-KB/s    in 0s      \n",
            "\n",
            "2024-05-26 09:44:23 (110 MB/s) - ‘helper_functions.py’ saved [10246/10246]\n",
            "\n"
          ]
        }
      ]
    },
    {
      "cell_type": "markdown",
      "source": [
        "Şimdi yardımcı işlevler komut dosyamız var, caculate_results() işlevini içe aktarabilir ve temel modelimizin nasıl gittiğini görebiliriz."
      ],
      "metadata": {
        "id": "xca6y8DEtK6t"
      }
    },
    {
      "cell_type": "code",
      "source": [
        "# Import calculate_results helper function\n",
        "from helper_functions import calculate_results"
      ],
      "metadata": {
        "id": "AqCZc2-stBol"
      },
      "execution_count": null,
      "outputs": []
    },
    {
      "cell_type": "code",
      "source": [
        "# Calculate baseline results\n",
        "baseline_results = calculate_results(y_true=val_labels_encoded,\n",
        "                                     y_pred=baseline_preds)\n",
        "baseline_results"
      ],
      "metadata": {
        "colab": {
          "base_uri": "https://localhost:8080/"
        },
        "id": "G0Vm9tCjtN6H",
        "outputId": "22d08752-ca2a-45e9-a996-794a462f2bfd"
      },
      "execution_count": null,
      "outputs": [
        {
          "output_type": "execute_result",
          "data": {
            "text/plain": [
              "{'accuracy': 72.1832384482987,\n",
              " 'precision': 0.7186466952323352,\n",
              " 'recall': 0.7218323844829869,\n",
              " 'f1': 0.6989250353450294}"
            ]
          },
          "metadata": {},
          "execution_count": 25
        }
      ]
    },
    {
      "cell_type": "markdown",
      "source": [
        "# Derin dizi modelleri için verilerimizi hazırlama\n",
        "\n",
        "Etiketleri sayısal formatta hazırlamıştık, şimdi metinleri sayısal biçime dönüştürmek için çalışma yapmalıyız, metin vektörleştirme. Her bir token bir sayıya dönüştürülür ve bu birleştirilmiş kelimelere dayalı bir embeddings oluşturulur. Denemek ve geliştirmek için çalışma temelimiz var.\n",
        "\n",
        "Ancak daha derin modeller oluşturmaya başlamadan önce, vektörleştirme ve katmanları gömme oluşturmalıyız.\n",
        "\n",
        "Vektörleştirme katmanı metnimizi sayılara dönüştürecek ve gömme katmanı bu sayılar arasındaki ilişkileri yakalayacaktır.\n",
        "\n",
        "Vektörleştirme ve gömme katmanlarımızı oluşturmaya başlamak için uygun kitaplıkları (yani TensorFlow ve NumPy) içe aktarmamız gerekecek."
      ],
      "metadata": {
        "id": "foMd1wQ6tXvR"
      }
    },
    {
      "cell_type": "code",
      "source": [
        "import numpy as np\n",
        "import tensorflow as tf\n",
        "from tensorflow.keras import layers"
      ],
      "metadata": {
        "id": "TG9ZAaUOtRkK"
      },
      "execution_count": null,
      "outputs": []
    },
    {
      "cell_type": "markdown",
      "source": [
        "Cümlelerimizi sayılara dönüştüreceğimiz için, her cümlede kaç kelime olduğunu bulmak iyi bir fikirdir.\n",
        "\n",
        "Modelimiz cümlelerimizden geçtiğinde, hepsi aynı uzunlukta olduğunda en iyi şekilde çalışır (bu, aynı boyutta tensörlerde gruplar oluşturmak için önemlidir).\n",
        "\n",
        "Örneğin, bir cümle sekiz kelime uzunluğunda ve diğeri 29 kelime uzunluğundaysa, sekiz kelimelik cümleyi sıfırla doldurmak istiyoruz, böylece 29 kelimelik cümle ile aynı uzunlukta olur.\n",
        "\n",
        "Eğitim setindeki cümlelerin ortalama uzunluğunu bulmak için biraz kod yazalım."
      ],
      "metadata": {
        "id": "dQRFvt01tkpE"
      }
    },
    {
      "cell_type": "code",
      "source": [
        "# How long is each sentence on average?\n",
        "sent_lens = [len(sentence.split()) for sentence in train_sentences]\n",
        "avg_sent_len = np.mean(sent_lens)\n",
        "avg_sent_len # return average sentence length (in tokens)"
      ],
      "metadata": {
        "colab": {
          "base_uri": "https://localhost:8080/"
        },
        "id": "bOKYzuAqtgi0",
        "outputId": "784afe08-5a6c-407f-d2a9-168feb34f647"
      },
      "execution_count": null,
      "outputs": [
        {
          "output_type": "execute_result",
          "data": {
            "text/plain": [
              "26.338269273494777"
            ]
          },
          "metadata": {},
          "execution_count": 27
        }
      ]
    },
    {
      "cell_type": "markdown",
      "source": [
        "Bunun yapılmasının nedeni cümlenin uzunluğunda bir dağılım olabilir. Bir cümle dört kelime uzunluğunda da olabilir yüz kelime de. Bu yüzden bu dağılım hakkında fikrimiz olmalı.\n",
        "\n",
        "Cümle uzunluklarının dağılımına ne dersin?"
      ],
      "metadata": {
        "id": "e7Up9Xmbtrbc"
      }
    },
    {
      "cell_type": "code",
      "source": [
        "# What's the distribution look like?\n",
        "import matplotlib.pyplot as plt\n",
        "plt.hist(sent_lens, bins=7);"
      ],
      "metadata": {
        "colab": {
          "base_uri": "https://localhost:8080/",
          "height": 430
        },
        "id": "1refiqv1tnrk",
        "outputId": "9d0be96a-a9d9-47fb-d784-32bdfa939b7e"
      },
      "execution_count": null,
      "outputs": [
        {
          "output_type": "display_data",
          "data": {
            "text/plain": [
              "<Figure size 640x480 with 1 Axes>"
            ],
            "image/png": "[encoded data removed]"
          },
          "metadata": {}
        }
      ]
    },
    {
      "cell_type": "markdown",
      "source": [
        "Cümlelerin büyük çoğunluğunun uzunluğu 0 ile 50 token arasında gibi görünüyor.\n",
        "\n",
        "Cümle uzunluklarının %95'ini kapsayan değeri bulmak için NumPy'nin yüzdelik dilimini kullanabiliriz.\n",
        "\n",
        "https://numpy.org/doc/stable/reference/generated/numpy.percentile.html"
      ],
      "metadata": {
        "id": "oQ2UQNB2tzZm"
      }
    },
    {
      "cell_type": "code",
      "source": [
        "# How long of a sentence covers 95% of the lengths?\n",
        "output_seq_len = int(np.percentile(sent_lens, 95))\n",
        "output_seq_len"
      ],
      "metadata": {
        "colab": {
          "base_uri": "https://localhost:8080/"
        },
        "id": "rnARq_SRtuC8",
        "outputId": "8dab307e-8221-41bc-be38-97189b90d696"
      },
      "execution_count": null,
      "outputs": [
        {
          "output_type": "execute_result",
          "data": {
            "text/plain": [
              "55"
            ]
          },
          "metadata": {},
          "execution_count": 29
        }
      ]
    },
    {
      "cell_type": "markdown",
      "source": [
        "Harika! Eğitim setimizdeki cümlelerin %95'inin uzunluğu 55 token veya daha az gibi görünüyor.\n",
        "\n",
        "Belirteç katmanımızı oluşturduğumuzda, tüm cümlelerimizi aynı uzunlukta dönüştürmek için bu değeri kullanacağız. Uzunluğu 55'in altında olan cümleler sıfırlarla doldurulur ve uzunluğu 55'in üzerinde olan cümleler kesilir (55'ten sonraki kelimeler kesilir).\n",
        "\n",
        "🤔 Soru: Neden %95?\n",
        "\n",
        "Eğitim setindeki cümlelerin maksimum cümle uzunluğunu kullanabiliriz."
      ],
      "metadata": {
        "id": "uwCu3kxouHWc"
      }
    },
    {
      "cell_type": "code",
      "source": [
        "# Maximum sentence length in the training set\n",
        "max(sent_lens)"
      ],
      "metadata": {
        "colab": {
          "base_uri": "https://localhost:8080/"
        },
        "id": "AqaArZfEt34n",
        "outputId": "0d6bba17-0bed-4ca3-b516-b8a0d348a49d"
      },
      "execution_count": null,
      "outputs": [
        {
          "output_type": "execute_result",
          "data": {
            "text/plain": [
              "296"
            ]
          },
          "metadata": {},
          "execution_count": 30
        }
      ]
    },
    {
      "cell_type": "markdown",
      "source": [
        "Bununla birlikte, neredeyse hiçbir cümle maksimum uzunluğa yaklaşmadığından, modelimize aktardığımız verilerin çoğunun sıfır olacağı anlamına gelir (maksimum uzunluğun altındaki tüm cümleler sıfırlarla doldurulacağından).\n",
        "\n",
        "🔑 Not: Bir NLP sorunu için bir metin külliyatı ile çalışırken attığımız adımlar iyi bir uygulamadır. Numunelerinizin ne kadar uzun olduğunu ve bunların dağılımının ne olduğunu bilmek istiyorsunuz. Daha fazla örnek için bkz. bölüm 4 PubMed 200k RCT makalesinin Veri Analizi. https://arxiv.org/pdf/1710.06071"
      ],
      "metadata": {
        "id": "qDFFSPEiuOUh"
      }
    },
    {
      "cell_type": "markdown",
      "source": [
        "# Metin vektörleştirici oluştur\n",
        "\n",
        "Artık metinlerimiz hakkında biraz daha bilgimiz var, bunu sayıya dönüştürmenin bir yolunu oluşturalım.\n",
        "\n",
        "Bunu yapmak için TensorFlow'dan TextVectorization katmanını kullanacağız.\n",
        "\n",
        "Max_tokens (veri kümemizdeki benzersiz kelimelerin sayısı) ve output_sequence_length (her vektörleştirilmiş cümle için istediğimiz çıktı uzunluğu) hariç tüm parametreleri varsayılan tutacağız.\n",
        "\n",
        "PubMed 200k RCT makalesinin 3.2. Bölümü, PubMed 20k veri kümesinin kelime boyutunu 68.000 olarak belirtir. Yani bunu max_tokens parametremiz olarak kullanacağız. https://arxiv.org/pdf/1710.06071"
      ],
      "metadata": {
        "id": "-fc6NvZmuUta"
      }
    },
    {
      "cell_type": "markdown",
      "source": [
        "Tokenization ile embedding arasındaki fark, embedding daha zengin bir temsildir. Örneğin embedding, eğitim verilerinden geçerken her kelime için üç boyutlu bir vektör oluşturulabilir. Tüm bu değerler, metnimizdeki kelimelerin modelimiz olarak birbirleriyle nasıl ilişkili olduğunu öğrenebilir.\n",
        "\n",
        "Tokenization, her kelime bir int rakam olabilir, one hot encoding ile 010, 100, 001 gibi matris olabilir. Embedingste 0-1 arası rakamlardan oluşan 3x3 matris oluşabilir."
      ],
      "metadata": {
        "id": "WYhc1dJvQYok"
      }
    },
    {
      "cell_type": "code",
      "source": [
        "# How many words are in our vocabulary? (taken from 3.2 in https://arxiv.org/pdf/1710.06071.pdf)\n",
        "max_tokens = 68000"
      ],
      "metadata": {
        "id": "-Sd_Nt_9uKAa"
      },
      "execution_count": null,
      "outputs": []
    },
    {
      "cell_type": "markdown",
      "source": [
        "Ve 55'lik bir cümle uzunluğunun eğitim cümlelerinin %95'ini kapsadığını keşfettiğimizden, bunu output_sequence_length parametremiz olarak kullanacağız."
      ],
      "metadata": {
        "id": "buR_fnL2ujO0"
      }
    },
    {
      "cell_type": "code",
      "source": [
        "# Create text vectorizer\n",
        "\n",
        "# After TensorFlow 2.6\n",
        "from tensorflow.keras.layers import TextVectorization\n",
        "\n",
        "# Before TensorFlow 2.6\n",
        "# from tensorflow.keras.layers.experimental.preprocessing import TextVectorization\n",
        "\n",
        "text_vectorizer = TextVectorization(max_tokens=max_tokens, # number of words in vocabulary\n",
        "                                    output_sequence_length=55) # desired output length of vectorized sequences"
      ],
      "metadata": {
        "id": "Tj9LECRRufqa"
      },
      "execution_count": null,
      "outputs": []
    },
    {
      "cell_type": "markdown",
      "source": [
        "Harika! Text_vectorizer'ımız hazır gibi görünüyor, hadi onu eğitim verilerine uyarlayalım (eğitim verilerini okusun ve hangi sayının hangi kelimeyi temsil etmesi gerektiğini bulsun) ve ardından test edelim."
      ],
      "metadata": {
        "id": "z_R7qD2rurBj"
      }
    },
    {
      "cell_type": "markdown",
      "source": [
        "Bunu test verilerindeki doğrulamaya uyarlarsak, bu veri kümelerinin görünmemesi amaçlanmıştır. Böylece eğitim verilerine uyum sağladık ve daha sonra doğrulama ve test verilerimize sığdırabiliriz."
      ],
      "metadata": {
        "id": "9Vjax7MPdbbF"
      }
    },
    {
      "cell_type": "code",
      "source": [
        "# Adapt text vectorizer to training sentences\n",
        "text_vectorizer.adapt(train_sentences)"
      ],
      "metadata": {
        "id": "06SETRFbunHh"
      },
      "execution_count": null,
      "outputs": []
    },
    {
      "cell_type": "code",
      "source": [
        "# Test out text vectorizer\n",
        "import random\n",
        "target_sentence = random.choice(train_sentences)\n",
        "print(f\"Text:\\n{target_sentence}\")\n",
        "print(f\"\\nLength of text: {len(target_sentence.split())}\")\n",
        "print(f\"\\nVectorized text:\\n{text_vectorizer([target_sentence])}\")"
      ],
      "metadata": {
        "colab": {
          "base_uri": "https://localhost:8080/"
        },
        "id": "viMxpj3iutYv",
        "outputId": "9f9b450a-ac96-4d2d-8cca-c8922286bce5"
      },
      "execution_count": null,
      "outputs": [
        {
          "output_type": "stream",
          "name": "stdout",
          "text": [
            "Text:\n",
            "the results show that ta had the greatest impact on risky drinking practices and hangover effects .\n",
            "\n",
            "Length of text: 17\n",
            "\n",
            "Vectorized text:\n",
            "[[    2   117   812    28  2906    55     2  2289   305    18  4746   871\n",
            "    819     3 31037    71     0     0     0     0     0     0     0     0\n",
            "      0     0     0     0     0     0     0     0     0     0     0     0\n",
            "      0     0     0     0     0     0     0     0     0     0     0     0\n",
            "      0     0     0     0     0     0     0]]\n"
          ]
        }
      ]
    },
    {
      "cell_type": "markdown",
      "source": [
        "Harika, şimdi dizilerimizi sayılara dönüştürmenin bir yolu var.\n",
        "\n",
        "🛠Alıştırma: Hücreyi bir düzine kadar kez üzerinde çalıştırmayı deneyin. Uzunluğu 55'ten az olan diziler hakkında ne fark ediyorsunuz?\n",
        "\n",
        "Text_vectorizer'ımızın get_vocabulary() yöntemini kullanarak metnimiz hakkında birkaç farklı bilgi bulabiliriz."
      ],
      "metadata": {
        "id": "RF99Vqs4u1Cr"
      }
    },
    {
      "cell_type": "code",
      "source": [
        "# How many words in our training vocabulary?\n",
        "rct_20k_text_vocab = text_vectorizer.get_vocabulary()\n",
        "print(f\"Number of words in vocabulary: {len(rct_20k_text_vocab)}\"),\n",
        "print(f\"Most common words in the vocabulary: {rct_20k_text_vocab[:5]}\")\n",
        "print(f\"Least common words in the vocabulary: {rct_20k_text_vocab[-5:]}\")"
      ],
      "metadata": {
        "colab": {
          "base_uri": "https://localhost:8080/"
        },
        "id": "e-v0Gwl7uwKz",
        "outputId": "8811aec3-f49d-400d-a541-f9252db77ed8"
      },
      "execution_count": null,
      "outputs": [
        {
          "output_type": "stream",
          "name": "stdout",
          "text": [
            "Number of words in vocabulary: 64841\n",
            "Most common words in the vocabulary: ['', '[UNK]', 'the', 'and', 'of']\n",
            "Least common words in the vocabulary: ['aainduced', 'aaigroup', 'aachener', 'aachen', 'aaacp']\n"
          ]
        }
      ]
    },
    {
      "cell_type": "markdown",
      "source": [
        "Ve text_vectorizer'ımızın yapılandırmasını anlamak istersek, get_config() yöntemini kullanabiliriz."
      ],
      "metadata": {
        "id": "xhR64IlNvBBV"
      }
    },
    {
      "cell_type": "code",
      "source": [
        "# Get the config of our text vectorizer\n",
        "text_vectorizer.get_config()"
      ],
      "metadata": {
        "colab": {
          "base_uri": "https://localhost:8080/"
        },
        "id": "qGfuAfc1u8fd",
        "outputId": "74497e48-7d9b-4049-d282-ebaab8951a15"
      },
      "execution_count": null,
      "outputs": [
        {
          "output_type": "execute_result",
          "data": {
            "text/plain": [
              "{'name': 'text_vectorization',\n",
              " 'trainable': True,\n",
              " 'dtype': 'string',\n",
              " 'batch_input_shape': (None,),\n",
              " 'max_tokens': 68000,\n",
              " 'standardize': 'lower_and_strip_punctuation',\n",
              " 'split': 'whitespace',\n",
              " 'ngrams': None,\n",
              " 'output_mode': 'int',\n",
              " 'output_sequence_length': 55,\n",
              " 'pad_to_max_tokens': False,\n",
              " 'sparse': False,\n",
              " 'ragged': False,\n",
              " 'vocabulary': None,\n",
              " 'idf_weights': None,\n",
              " 'encoding': 'utf-8',\n",
              " 'vocabulary_size': 64841}"
            ]
          },
          "metadata": {},
          "execution_count": 36
        }
      ]
    },
    {
      "cell_type": "markdown",
      "source": [
        "# Özel metin yerleştirme oluştur\n",
        "\n",
        "Belirteç_vektörleştirme katmanımız, metnimizdeki kelimeleri doğrudan sayılarla eşler. Ancak, bu mutlaka bu sayılar arasındaki ilişkileri yakalamaz.\n",
        "\n",
        "Metnimizin daha zengin bir sayısal temsilini oluşturmak için bir gömme kullanabiliriz. https://www.tensorflow.org/text/guide/word_embeddings?hl=tr\n",
        "\n",
        "Modelimiz öğrendikçe (birçok farklı soyut cümle örneğini ve etiketlerini gözden geçirerek), külliyatımızdaki belirteçler arasındaki ilişkileri daha iyi temsil etmek için gömmesini güncelleyecektir.\n",
        "\n",
        "TensorFlow'un Gömme katmanını kullanarak eğitilebilir bir gömme katmanı oluşturabiliriz.\n",
        "\n",
        "Bir kez daha, burada ilgilendiğimiz ana parametreler, Gömme katmanımızın giriş ve çıkışlarıdır.\n",
        "\n",
        "Input_dim parametresi kelime dağarcığımızın boyutunu tanımlar. Ve output_dim parametresi, gömme çıktısının boyutunu tanımlar.\n",
        "\n",
        "Bir kez oluşturulduktan sonra, gömme katmanımız text_vectorization katmanımızın tamsayı çıktılarını girdi olarak alacak ve bunları output_dim boyutu vektörlerine dönüştürecektir.\n",
        "\n",
        "Bunu iş başında görelim."
      ],
      "metadata": {
        "id": "_jR7Pym0vKs3"
      }
    },
    {
      "cell_type": "markdown",
      "source": [
        "- output dim --> 32,64, 128'in gibi 8'in katları olmalı.\n",
        "- Her ne kadar büyük gömülürse modelin eğitmesi gereken parametre sayısı o kadar fazla olur.\n",
        "- mask_zero: Boolean değerdir. input_value=0. Özel bir padding. RNN kullanımı çeşitli uzunlukta giriş verileri kullanılırken elverişlidir. Eğer true ise modeldeki tüm subsequent katmanlar maskelenmeli. Daha verimli hesaplama için TRUE olmalı.\n",
        "- Çıktıyı incele, çok sıfır var o zaman verimli bir model (obe_hot benzeri).\n",
        "\n",
        "- token_embeding --> Token yerleştirme katmanına herhangi bir şey aktarmadan önce bunun sayısal biçimde olması gerekli.\n",
        "- Gömülü cümle şeklinde her bir dizi uzunluğunda rakamlardan 55 adet var her biri 128 vektör uzunluğunda."
      ],
      "metadata": {
        "id": "4bCYyC4bGbK_"
      }
    },
    {
      "cell_type": "code",
      "source": [
        "# Create token embedding layer\n",
        "token_embed = layers.Embedding(input_dim=len(rct_20k_text_vocab), # length of vocabulary\n",
        "                               output_dim=128, # Note: different embedding sizes result in drastically different numbers of parameters to train\n",
        "                               # Use masking to handle variable sequence lengths (save space)\n",
        "                               mask_zero=True,\n",
        "                               name=\"token_embedding\")\n",
        "\n",
        "# Show example embedding\n",
        "print(f\"Sentence before vectorization:\\n{target_sentence}\\n\")\n",
        "vectorized_sentence = text_vectorizer([target_sentence])\n",
        "print(f\"Sentence after vectorization (before embedding):\\n{vectorized_sentence}\\n\")\n",
        "embedded_sentence = token_embed(vectorized_sentence)\n",
        "print(f\"Sentence after embedding:\\n{embedded_sentence}\\n\")\n",
        "print(f\"Embedded sentence shape: {embedded_sentence.shape}\")"
      ],
      "metadata": {
        "colab": {
          "base_uri": "https://localhost:8080/"
        },
        "id": "vja5tJDYvDfL",
        "outputId": "fb0751ac-fe03-4657-aefa-90bdd5ff5a4f"
      },
      "execution_count": null,
      "outputs": [
        {
          "output_type": "stream",
          "name": "stdout",
          "text": [
            "Sentence before vectorization:\n",
            "the results show that ta had the greatest impact on risky drinking practices and hangover effects .\n",
            "\n",
            "Sentence after vectorization (before embedding):\n",
            "[[    2   117   812    28  2906    55     2  2289   305    18  4746   871\n",
            "    819     3 31037    71     0     0     0     0     0     0     0     0\n",
            "      0     0     0     0     0     0     0     0     0     0     0     0\n",
            "      0     0     0     0     0     0     0     0     0     0     0     0\n",
            "      0     0     0     0     0     0     0]]\n",
            "\n",
            "Sentence after embedding:\n",
            "[[[-0.03742189  0.04519233 -0.04743247 ... -0.00782454  0.00720356\n",
            "   -0.03978801]\n",
            "  [-0.03464318 -0.02600943  0.01602042 ...  0.02787316 -0.02455582\n",
            "    0.03628517]\n",
            "  [ 0.02106059 -0.02171903  0.00117943 ... -0.04986173 -0.02140907\n",
            "    0.0099216 ]\n",
            "  ...\n",
            "  [-0.03375705  0.01014236 -0.00080926 ... -0.03642828 -0.02278515\n",
            "    0.0145144 ]\n",
            "  [-0.03375705  0.01014236 -0.00080926 ... -0.03642828 -0.02278515\n",
            "    0.0145144 ]\n",
            "  [-0.03375705  0.01014236 -0.00080926 ... -0.03642828 -0.02278515\n",
            "    0.0145144 ]]]\n",
            "\n",
            "Embedded sentence shape: (1, 55, 128)\n"
          ]
        }
      ]
    },
    {
      "cell_type": "markdown",
      "source": [
        "# Veri kümeleri oluşturun (mümkün olduğunca hızlı)\n",
        "\n",
        "Bir makine öğrenimi modeliyle kullanılmak üzere veri kümelerimizi önceden işleme zahmetini yaşadık, ancak modellerimizle daha hızlı çalışmasını sağlamak için kullanabileceğimiz birkaç adım var.\n",
        "\n",
        "Yani, tf.data API, daha hızlı veri yüklemesini sağlayan yöntemler sağlar.\n",
        "\n",
        "📖 Kaynak: TensorFlow'da veri yüklemeyle ilgili en iyi uygulamalar için aşağıdakilere göz atın:\n",
        "\n",
        "- tf.data: TensorFlow giriş boru hatları oluşturun https://www.tensorflow.org/guide/data?hl=tr\n",
        "\n",
        "- tf.data API ile daha iyi performans https://www.tensorflow.org/guide/data_performance?hl=tr\n",
        "\n",
        "Verilerimizle kullanmak isteyeceğimiz ana adımlar, onu bir PrefetchDataset gruplarına dönüştürmektir.\n",
        "\n",
        "Bunu yaparak TensorFlow'un verilerimizi GPU'ya mümkün olduğunca hızlı bir şekilde yüklemesini ve daha hızlı eğitim süresine yol açmasını sağlayacağız.\n",
        "\n",
        "Toplu bir PrefetchDataset oluşturmak için batch() ve prefetch() yöntemlerini kullanabiliriz, tf.data.AUTOTUNE parametresi ayrıca TensorFlow'un veri kümelerini hazırlamak için kullanılacak en uygun işlem miktarını belirlemesine izin verecektir.\n",
        "\n",
        "* https://www.tensorflow.org/api_docs/python/tf/data/Dataset#batch\n",
        "* https://www.tensorflow.org/api_docs/python/tf/data/Dataset#prefetch\n",
        "* https://www.tensorflow.org/api_docs/python/tf/data#AUTOTUNE"
      ],
      "metadata": {
        "id": "u6lUWRwUvxko"
      }
    },
    {
      "cell_type": "markdown",
      "source": [
        "##### Aşağısı için;\n",
        "\n",
        "- test_dataset --> Test cümleleri ile çalışıyoruz. Bu ayrı bir listedir.\n",
        "- Hepsi etiket dizesidir.\n",
        "- Eğitim veri seti, veri setini dilimleme eğilimindedir. Yani artık test veri kümelerindeki eğitim doğrulamalarındaki örneklerin her biri artık veri kümelerini dilimleme eğiliminde.\n",
        "- Çıktıdaki şekil (None, (5)) tuple tarzındadır. One hot eğitim verisi bir üst şekli etiketler.\n",
        "- train_labels_one_hot.shape, train_labels_one_hot[0] 180040 adet örneğin tamamı için 0 ve 1 dizisi var. 1 pozitif değer o yüzden 1 tane 5 var."
      ],
      "metadata": {
        "id": "aWvEtKYYepk2"
      }
    },
    {
      "cell_type": "code",
      "source": [
        "# Turn our data into TensorFlow Datasets\n",
        "train_dataset = tf.data.Dataset.from_tensor_slices((train_sentences, train_labels_one_hot))\n",
        "valid_dataset = tf.data.Dataset.from_tensor_slices((val_sentences, val_labels_one_hot))\n",
        "test_dataset = tf.data.Dataset.from_tensor_slices((test_sentences, test_labels_one_hot))\n",
        "\n",
        "train_dataset"
      ],
      "metadata": {
        "colab": {
          "base_uri": "https://localhost:8080/"
        },
        "id": "uDsWypP4vsM2",
        "outputId": "a80c7d92-3ecc-489c-d7d6-fde1cb3585a8"
      },
      "execution_count": null,
      "outputs": [
        {
          "output_type": "execute_result",
          "data": {
            "text/plain": [
              "<_TensorSliceDataset element_spec=(TensorSpec(shape=(), dtype=tf.string, name=None), TensorSpec(shape=(5,), dtype=tf.float64, name=None))>"
            ]
          },
          "metadata": {},
          "execution_count": 38
        }
      ]
    },
    {
      "cell_type": "markdown",
      "source": [
        "- Batch ile veri setinin modele yüklenmesi daha verimli olur.\n",
        "## Prefetching slaytını buraya yerleştir.\n",
        "- buffer_size --> Bir seferde kaç tane numuneyi önceden getirmemiz gerekir?\n",
        "- Aşağıdaki kodlar ile otomatik olarak çok sayıda veriyi önceden getirebiliriz ve eğitim veri setini karıştırmıyoruz. Çünkü eğitim veri setindeki örnekler sırası aslında yapmaya çalıştığımız şey için önemli.\n",
        "- Modelin dizilim sırasını öğrenmesini isteriz.\n",
        "- Gerçek veri seti otomatik ayarlama sırasında 32 adet önceden veri getiren ve aynı şeyi yapan geçerli veri setine eşit.\n",
        "- Tüm veri setlerinin önceden getirildiğinden, eşleştirildiğinden ve aktarılmaya hazır olduğundan emin olmak için bir modeldir."
      ],
      "metadata": {
        "id": "f29wpIBXgM0r"
      }
    },
    {
      "cell_type": "code",
      "source": [
        "# Take the TensorSliceDataset's and turn them into prefetched batches\n",
        "train_dataset = train_dataset.batch(32).prefetch(tf.data.AUTOTUNE)\n",
        "valid_dataset = valid_dataset.batch(32).prefetch(tf.data.AUTOTUNE)\n",
        "test_dataset = test_dataset.batch(32).prefetch(tf.data.AUTOTUNE)\n",
        "\n",
        "train_dataset"
      ],
      "metadata": {
        "colab": {
          "base_uri": "https://localhost:8080/"
        },
        "id": "JfyR-Cq5wNMF",
        "outputId": "bb46e408-a8c0-4352-d048-bf67683c67e1"
      },
      "execution_count": null,
      "outputs": [
        {
          "output_type": "execute_result",
          "data": {
            "text/plain": [
              "<_PrefetchDataset element_spec=(TensorSpec(shape=(None,), dtype=tf.string, name=None), TensorSpec(shape=(None, 5), dtype=tf.float64, name=None))>"
            ]
          },
          "metadata": {},
          "execution_count": 39
        }
      ]
    },
    {
      "cell_type": "markdown",
      "source": [
        "# Model 1: Jeton gömmeli Conv1D\n",
        "\n",
        "Pekala, artık metnimizi ve etiketlerimizi sayısal olarak temsil etmenin bir yolu var, temel çizgimizi denemek ve geliştirmek için bir dizi derin model oluşturma zamanımız var.\n",
        "\n",
        "Tüm derin modellerimiz benzer bir yapı izleyecektir:\n",
        "\n",
        "Input (text) -> Tokenize -> Embedding -> Layers -> Output (label probability)\n",
        "\n",
        "Baştan sona değiştireceğimiz ana bileşen Katmanlar bileşenidir. Çünkü herhangi bir modern derin NLP modeli, içinde anlamlı kalıplar keşfedilmeden önce metnin bir gömmeye dönüştürülmesini gerektirir.\n",
        "\n",
        "İnşa edeceğimiz ilk model, 1 boyutlu bir Evrişimli Sinir Ağıdır.\n",
        "\n",
        "Ayrıca standart makine öğrenimi iş akışını da takip edeceğiz:\n",
        "\n",
        "* Model oluştur\n",
        "\n",
        "* Tren modeli\n",
        "\n",
        "* Modeli değerlendirin (tahminlerde bulunun ve temel gerçekle karşılaştırın)"
      ],
      "metadata": {
        "id": "gTR5aJshwVMh"
      }
    },
    {
      "cell_type": "markdown",
      "source": [
        "- test_vectors --> metin girdisini vektörleştirir veya tamsayılarla eşleştirir.\n",
        "- kernel_size --> 5 verildi. Aynı anda 5 tokene birden bakılır. Yani beşer kelime ile ilerlenir.\n",
        "- Global tek boyutlu çalıştığımıza dikkat.\n",
        "- Çok sınıflı sınıflandırmadan dolayı softmax ve crossentropy kullanıldı."
      ],
      "metadata": {
        "id": "cf8a7L0LhyzP"
      }
    },
    {
      "cell_type": "code",
      "source": [
        "# Create 1D convolutional model to process sequences\n",
        "inputs = layers.Input(shape=(1,), dtype=tf.string)\n",
        "text_vectors = text_vectorizer(inputs) # vectorize text inputs\n",
        "token_embeddings = token_embed(text_vectors) # create embedding\n",
        "x = layers.Conv1D(64, kernel_size=5, padding=\"same\", activation=\"relu\")(token_embeddings)\n",
        "x = layers.GlobalAveragePooling1D()(x) # condense the output of our feature vector\n",
        "outputs = layers.Dense(num_classes, activation=\"softmax\")(x)\n",
        "model_1 = tf.keras.Model(inputs, outputs)\n",
        "\n",
        "# Compile\n",
        "model_1.compile(loss=\"categorical_crossentropy\", # if your labels are integer form (not one hot) use sparse_categorical_crossentropy\n",
        "                optimizer=tf.keras.optimizers.Adam(),\n",
        "                metrics=[\"accuracy\"])"
      ],
      "metadata": {
        "id": "p3QkYKI-wPsW"
      },
      "execution_count": null,
      "outputs": []
    },
    {
      "cell_type": "code",
      "source": [
        "# Get summary of Conv1D model\n",
        "model_1.summary()"
      ],
      "metadata": {
        "colab": {
          "base_uri": "https://localhost:8080/"
        },
        "id": "6vtc1qnEwhQN",
        "outputId": "80baa08d-3526-41c3-a3a5-c163ebb7d5e7"
      },
      "execution_count": null,
      "outputs": [
        {
          "output_type": "stream",
          "name": "stdout",
          "text": [
            "Model: \"model\"\n",
            "_________________________________________________________________\n",
            " Layer (type)                Output Shape              Param #   \n",
            "=================================================================\n",
            " input_1 (InputLayer)        [(None, 1)]               0         \n",
            "                                                                 \n",
            " text_vectorization (TextVe  (None, 55)                0         \n",
            " ctorization)                                                    \n",
            "                                                                 \n",
            " token_embedding (Embedding  (None, 55, 128)           8299648   \n",
            " )                                                               \n",
            "                                                                 \n",
            " conv1d (Conv1D)             (None, 55, 64)            41024     \n",
            "                                                                 \n",
            " global_average_pooling1d (  (None, 64)                0         \n",
            " GlobalAveragePooling1D)                                         \n",
            "                                                                 \n",
            " dense (Dense)               (None, 5)                 325       \n",
            "                                                                 \n",
            "=================================================================\n",
            "Total params: 8340997 (31.82 MB)\n",
            "Trainable params: 8340997 (31.82 MB)\n",
            "Non-trainable params: 0 (0.00 Byte)\n",
            "_________________________________________________________________\n"
          ]
        }
      ]
    },
    {
      "cell_type": "markdown",
      "source": [
        "Harika! İlk derin sekans modelimizi inşa ettik ve kullanıma hazırız.\n",
        "\n",
        "Model özetini kontrol ederken, eğitilebilir parametrelerin çoğunun gömme katmanı içinde olduğunu fark edeceksiniz. Gömmenin boyutunu artıracak olsaydık (Gömme katmanının output_dim parametresini artırarak), eğitilebilir parametrelerin sayısı önemli ölçüde artardı.\n",
        "\n",
        "Modelimizi eğitim verilerine uydurmanın zamanı geldi, ancak dikkatli bir değişiklik yapacağız.\n",
        "\n",
        "Eğitim verilerimiz yaklaşık 200.000 cümle içerdiğinden, bir GPU ile bile derin bir modele uyum biraz zaman alabilir. Bu nedenle, deneylerimizi hızlı tutmak için onları eğitim veri kümesinin bir alt kümesinde çalıştıracağız.\n",
        "\n",
        "Daha spesifik olarak, eğitilecek eğitim setinin yalnızca ilk %10'unu (yaklaşık 18.000 örnek) ve doğrulamak için doğrulama setindeki partilerin ilk %10'unu kullanacağız.\n",
        "\n",
        "🔑 Not: Modellerinizi daha büyük miktarda veriye ölçeklendirmeden önce çalıştıklarından emin olmak için önce daha küçük veri alt kümeleri üzerinde test etmek makine öğreniminde standart bir uygulamadır. Sadece bir avuç büyük deney yerine çok sayıda küçük deney yapmayı hedeflemelisiniz. Ve zamanınız sınırlı olduğundan, daha küçük deneyler yürütmenin en iyi yollarından biri, üzerinde çalıştığınız veri miktarını azaltmaktır (benzer bir dağılımı kapsadığı sürece, tam veri kümesinin %10'u genellikle iyi bir miktardır)."
      ],
      "metadata": {
        "id": "0fMDLL-Awrgd"
      }
    },
    {
      "cell_type": "markdown",
      "source": [
        "- Veri kümesini zaten sığacak şekilde önceden biçimlendirmiştik.\n",
        "- her dönem için adımların %10'unu atarız. Yani modelin partilerin yalnızca %10'una bakmasını istedik.\n",
        "- Hızlı yapmak için bunu yaptık. Sonuca bakıp hatanın nerede olduğunu anlamak için mümkün olduğunca baştan modeli kısa tuttuk. Denemeleri beş dk altında yapmaya çalıştık."
      ],
      "metadata": {
        "id": "oA5Vb89zjidW"
      }
    },
    {
      "cell_type": "code",
      "source": [
        "# Fit the model\n",
        "model_1_history = model_1.fit(train_dataset,\n",
        "                              steps_per_epoch=int(0.1 * len(train_dataset)), # only fit on 10% of batches for faster training time\n",
        "                              epochs=3,\n",
        "                              validation_data=valid_dataset,\n",
        "                              validation_steps=int(0.1 * len(valid_dataset))) # only validate on 10% of batches"
      ],
      "metadata": {
        "colab": {
          "base_uri": "https://localhost:8080/"
        },
        "id": "HF3sSisWwk3o",
        "outputId": "c5c84227-9d3f-4f83-a6cf-3abcda373983"
      },
      "execution_count": null,
      "outputs": [
        {
          "output_type": "stream",
          "name": "stdout",
          "text": [
            "Epoch 1/3\n",
            "562/562 [==============================] - 22s 32ms/step - loss: 0.9044 - accuracy: 0.6424 - val_loss: 0.6750 - val_accuracy: 0.7407\n",
            "Epoch 2/3\n",
            "562/562 [==============================] - 6s 10ms/step - loss: 0.6529 - accuracy: 0.7587 - val_loss: 0.6247 - val_accuracy: 0.7763\n",
            "Epoch 3/3\n",
            "562/562 [==============================] - 5s 8ms/step - loss: 0.6148 - accuracy: 0.7747 - val_loss: 0.5972 - val_accuracy: 0.7859\n"
          ]
        }
      ]
    },
    {
      "cell_type": "markdown",
      "source": [
        "Mükemmel! İlk eğitimli derin dizi modelimize sahibiz ve çok uzun sürmedi (ve toplu verilerimizi önceden getirmeseydik, daha uzun sürerdi).\n",
        "\n",
        "Modelimizle bazı tahminlerde bulunma ve ardından değerlendirme zamanı."
      ],
      "metadata": {
        "id": "u9nV1VyVwzaL"
      }
    },
    {
      "cell_type": "code",
      "source": [
        "# Evaluate on whole validation dataset (we only validated on 10% of batches during training)\n",
        "model_1.evaluate(valid_dataset)"
      ],
      "metadata": {
        "colab": {
          "base_uri": "https://localhost:8080/"
        },
        "id": "S7bkQOMSwvVf",
        "outputId": "7096756f-da2d-45da-be75-62756f4a8d55"
      },
      "execution_count": null,
      "outputs": [
        {
          "output_type": "stream",
          "name": "stdout",
          "text": [
            "945/945 [==============================] - 3s 3ms/step - loss: 0.5975 - accuracy: 0.7851\n"
          ]
        },
        {
          "output_type": "execute_result",
          "data": {
            "text/plain": [
              "[0.5974754095077515, 0.7851185202598572]"
            ]
          },
          "metadata": {},
          "execution_count": 43
        }
      ]
    },
    {
      "cell_type": "markdown",
      "source": [
        "5 çıkış nöronlu çıkış katmanını olduğuna dikkat."
      ],
      "metadata": {
        "id": "kOxaCWq9kWE9"
      }
    },
    {
      "cell_type": "code",
      "source": [
        "# Make predictions (our model outputs prediction probabilities for each class)\n",
        "model_1_pred_probs = model_1.predict(valid_dataset)\n",
        "model_1_pred_probs"
      ],
      "metadata": {
        "colab": {
          "base_uri": "https://localhost:8080/"
        },
        "id": "pYZekVurxJvJ",
        "outputId": "9bd9310a-645a-4f9e-ea1b-6c33b3ecc64e"
      },
      "execution_count": null,
      "outputs": [
        {
          "output_type": "stream",
          "name": "stdout",
          "text": [
            "945/945 [==============================] - 2s 2ms/step\n"
          ]
        },
        {
          "output_type": "execute_result",
          "data": {
            "text/plain": [
              "array([[4.5350292e-01, 1.5268451e-01, 5.1064614e-02, 3.1896669e-01,\n",
              "        2.3781238e-02],\n",
              "       [4.2298776e-01, 3.2249162e-01, 1.3181584e-02, 2.2843315e-01,\n",
              "        1.2905969e-02],\n",
              "       [1.6796981e-01, 4.8694215e-03, 2.0715173e-03, 8.2504600e-01,\n",
              "        4.3267570e-05],\n",
              "       ...,\n",
              "       [5.0882604e-06, 6.4331025e-04, 7.4563478e-04, 3.8982062e-06,\n",
              "        9.9860209e-01],\n",
              "       [4.9294360e-02, 5.0346988e-01, 7.8770652e-02, 5.0562967e-02,\n",
              "        3.1790212e-01],\n",
              "       [1.7661135e-01, 6.7972195e-01, 4.4538587e-02, 4.6248626e-02,\n",
              "        5.2879483e-02]], dtype=float32)"
            ]
          },
          "metadata": {},
          "execution_count": 44
        }
      ]
    },
    {
      "cell_type": "markdown",
      "source": [
        "Her bir dizideki max değerin indeksini verir."
      ],
      "metadata": {
        "id": "85UoLkvYkfD8"
      }
    },
    {
      "cell_type": "code",
      "source": [
        "# Convert pred probs to classes\n",
        "model_1_preds = tf.argmax(model_1_pred_probs, axis=1)\n",
        "model_1_preds"
      ],
      "metadata": {
        "colab": {
          "base_uri": "https://localhost:8080/"
        },
        "id": "HExAQvq_xPnQ",
        "outputId": "84994922-4999-4a22-8163-a7b430354dff"
      },
      "execution_count": null,
      "outputs": [
        {
          "output_type": "execute_result",
          "data": {
            "text/plain": [
              "<tf.Tensor: shape=(30212,), dtype=int64, numpy=array([0, 0, 3, ..., 4, 1, 1])>"
            ]
          },
          "metadata": {},
          "execution_count": 45
        }
      ]
    },
    {
      "cell_type": "code",
      "source": [
        "# Calculate model_1 results\n",
        "model_1_results = calculate_results(y_true=val_labels_encoded,\n",
        "                                    y_pred=model_1_preds)\n",
        "model_1_results"
      ],
      "metadata": {
        "colab": {
          "base_uri": "https://localhost:8080/"
        },
        "id": "qFlMXbhxxSOi",
        "outputId": "938e2090-c843-4dee-b121-7c2309277986"
      },
      "execution_count": null,
      "outputs": [
        {
          "output_type": "execute_result",
          "data": {
            "text/plain": [
              "{'accuracy': 78.51184959618695,\n",
              " 'precision': 0.7820725119484493,\n",
              " 'recall': 0.7851184959618694,\n",
              " 'f1': 0.7826269979016853}"
            ]
          },
          "metadata": {},
          "execution_count": 46
        }
      ]
    },
    {
      "cell_type": "markdown",
      "source": [
        "# Model 2: Önceden eğitilmiş belirteç gömmeleri ile özellik çıkarma\n",
        "\n",
        "Kendi gömmelerimizi eğitmek, deneylerimizi yavaşlatarak çalışması biraz zaman aldı.\n",
        "\n",
        "Tıbbi Kağıt Özetlerinde Ortak Cümle Sınıflandırması için Sinir Ağlarındaki model mimarisini çoğaltmaya doğru ilerlediğimiz için, belirteç gömmelerini başlatmanın bir yolu olarak önceden eğitilmiş bir GloVe gömme kullandıklarından bahseder.\n",
        "* https://arxiv.org/pdf/1612.05251\n",
        "* https://nlp.stanford.edu/projects/glove/\n",
        "\n",
        "Bunu taklit etmek için, TensorFlow Hub'dan önceden eğitilmiş Evrensel Cümle Kodlayıcı gömmeleriyle hangi sonuçları alabileceğimizi görelim. https://www.kaggle.com/models/google/universal-sentence-encoder/tensorFlow2/universal-sentence-encoder/2?tfhub-redirect=true\n",
        "\n",
        "🔑 Not: GloVe gömmelerini kağıda göre kullanabiliriz, ancak TensorFlow ile çalıştığımız için TensorFlow Hub'da bulunanları kullanacağız (GloVe gömmeleri değil). Önceden eğitilmiş GloVe gömmelerini uzantı olarak kullanarak tasarruf edeceğiz. https://keras.io/examples/nlp/pretrained_word_embeddings/\n",
        "\n",
        "Model yapısı şöyle görünecektir:\n",
        "\n",
        "Inputs (string) -> Pretrained embeddings from TensorFlow Hub (Universal Sentence Encoder) -> Layers -> Output (prediction probabilities)\n",
        "\n",
        "Önceki bir modelde kullandığımız tokenizasyon katmanının eksikliğini fark edeceksiniz. Bunun nedeni, Evrensel Cümle Kodlayıcısının (USE) bizim için tokenizasyonla ilgilenmesidir.\n",
        "\n",
        "Bu tür bir modele transfer öğrenimi veya daha spesifik olarak özellik çıkarma transfer öğrenimi denir. Başka bir deyişle, bir modelin başka bir yerde öğrendiği kalıpları almak ve bunu kendi sorunumuza uygulamak.\n",
        "\n",
        "TensorFlow Hub'dan önceden eğitilmiş bir gömme kullanarak oluşturduğumuz özellik çıkarıcı modeli.\n",
        "\n",
        "Önceden eğitilmiş USE'ı modelimizde kullanabileceğimiz bir katmana indirmek için hub.KerasLayer sınıfını kullanabiliriz.\n",
        "\n",
        "Önceden eğitilmiş gömmeleri donmuş tutacağız (eğitilebilir=Yanlış ayarlayarak) ve model çıktılarını kendi verilerimize göre uyarlamak için üste eğitilebilir birkaç katman ekleyeceğiz.\n",
        "\n",
        "🔑 Not: Nispeten büyük bir modeli (~916MB) indirmek zorunda kaldığından, aşağıdaki hücrenin çalışması biraz zaman alabilir. https://www.tensorflow.org/hub/api_docs/python/hub/KerasLayer"
      ],
      "metadata": {
        "id": "G64CzDOAxbbq"
      }
    },
    {
      "cell_type": "markdown",
      "source": [
        "trainable = False --> Bu sadece özellik çıkarımı (feature extracting) kullanıldığı için ... Burada ince ayar yapmadık."
      ],
      "metadata": {
        "id": "ys8whgXEkr9N"
      }
    },
    {
      "cell_type": "code",
      "source": [
        "# Download pretrained TensorFlow Hub USE\n",
        "import tensorflow_hub as hub\n",
        "tf_hub_embedding_layer = hub.KerasLayer(\"https://tfhub.dev/google/universal-sentence-encoder/4\",\n",
        "                                        trainable=False,\n",
        "                                        name=\"universal_sentence_encoder\")"
      ],
      "metadata": {
        "id": "3HWzRuAQxUja"
      },
      "execution_count": null,
      "outputs": []
    },
    {
      "cell_type": "markdown",
      "source": [
        "Güzel, şimdi önceden eğitilmiş KULLANIM'ımız indirildi ve bir hub olarak örneklendi.KerasLayer örneği, rastgele bir cümle üzerinde test edelim."
      ],
      "metadata": {
        "id": "QvOcTQe3yYHB"
      }
    },
    {
      "cell_type": "markdown",
      "source": [
        "burada vektörleşmeye gerek yok."
      ],
      "metadata": {
        "id": "NEU0mliLk-YX"
      }
    },
    {
      "cell_type": "code",
      "source": [
        "# Test out the embedding on a random sentence\n",
        "random_training_sentence = random.choice(train_sentences)\n",
        "print(f\"Random training sentence:\\n{random_training_sentence}\\n\")\n",
        "use_embedded_sentence = tf_hub_embedding_layer([random_training_sentence])\n",
        "print(f\"Sentence after embedding:\\n{use_embedded_sentence[0][:30]} (truncated output)...\\n\")\n",
        "print(f\"Length of sentence embedding:\\n{len(use_embedded_sentence[0])}\")"
      ],
      "metadata": {
        "colab": {
          "base_uri": "https://localhost:8080/"
        },
        "id": "4eNPJd0SyU3t",
        "outputId": "02efda1a-06bb-4857-9356-46b8e2d508e2"
      },
      "execution_count": null,
      "outputs": [
        {
          "output_type": "stream",
          "name": "stdout",
          "text": [
            "Random training sentence:\n",
            "in the prednisolone arm , a significantly higher proportion exceeded the defined iop elevation threshold ( @ % vs. @ % , p = @ ) , and glaucoma medications were initiated or increased more often ( @ % vs. @ % , p = @ ) .\n",
            "\n",
            "Sentence after embedding:\n",
            "[ 0.00497991 -0.02959559  0.05909719 -0.03945985 -0.02711803  0.03689428\n",
            "  0.04935927 -0.05415955  0.06088148  0.04126745  0.08186784  0.07972702\n",
            "  0.04983548  0.02305125  0.07145227 -0.05414707 -0.08237445  0.01710972\n",
            "  0.03582541 -0.01061846  0.0781955   0.00976987 -0.05994548  0.01212411\n",
            "  0.07372912  0.05618613  0.02525093 -0.0167991  -0.07665797  0.02936533] (truncated output)...\n",
            "\n",
            "Length of sentence embedding:\n",
            "512\n"
          ]
        }
      ]
    },
    {
      "cell_type": "markdown",
      "source": [
        "Güzel! Daha önce de belirttiğimiz gibi, TensorFlow Hub'ın önceden eğitilmiş USE modülü, metnimizi bizim için belirteçlemeye özen gösterir ve 512 boyutlu bir gömme vektörü çıkarır.\n",
        "\n",
        "Bir araya getirelim ve tf_hub_embedding_layer'ımızı kullanarak bir model derleyelim."
      ],
      "metadata": {
        "id": "hwZtFTY2yilV"
      }
    },
    {
      "cell_type": "markdown",
      "source": [
        "# TensorFlow Hub'dan bir NLP özellik çıkarma modeli oluşturma ve takma"
      ],
      "metadata": {
        "id": "B8_7F22jytTQ"
      }
    },
    {
      "cell_type": "markdown",
      "source": [
        "- Girişler katman şeklinde çünkü giriş şekli boş bir liste. Simgeleştirilmiş bir yerleştirme katmanı oluşturduğumuzda, simge düzeyinde bir yerleştirme var ve her token 128'e çevirdik. Bu da tüm diziyi tek uzun vektöre dönüştürdü.\n",
        "- relu --> Lineer olmayan aktivasyon ...\n",
        "- Modeli iyileştirme yollarından birisi de araya katman koymaktır. Girdilerden gömme oluşturulabilir. Gömme arasına bir grup katman eklenebilir.\n",
        "- Deney yaptığımız için bu çalışmada büyük bir katman oluşturmadık. Karmaşıklık her zaman arttırılabilir.\n",
        "- Eğitilebilir parametreler yoğun katmandadır. Eğitilebiliri açarsan modelin daha çok kalıp bulması gerektiği anlamına gelir.\n",
        "- Özellik çıkarmada katman sayısı arttıkça deney uzun sürer. Tüm parametreler dondurulmuş olduğu için hızlı eğitim oldu."
      ],
      "metadata": {
        "id": "TMymRtZvlT33"
      }
    },
    {
      "cell_type": "code",
      "source": [
        "# Define feature extractor model using TF Hub layer\n",
        "inputs = layers.Input(shape=[], dtype=tf.string)\n",
        "pretrained_embedding = tf_hub_embedding_layer(inputs) # tokenize text and create embedding\n",
        "x = layers.Dense(128, activation=\"relu\")(pretrained_embedding) # add a fully connected layer on top of the embedding\n",
        "# Note: you could add more layers here if you wanted to\n",
        "outputs = layers.Dense(5, activation=\"softmax\")(x) # create the output layer\n",
        "model_2 = tf.keras.Model(inputs=inputs,\n",
        "                        outputs=outputs)\n",
        "\n",
        "# Compile the model\n",
        "model_2.compile(loss=\"categorical_crossentropy\",\n",
        "                optimizer=tf.keras.optimizers.Adam(),\n",
        "                metrics=[\"accuracy\"])"
      ],
      "metadata": {
        "id": "7-PCov3Yya_1"
      },
      "execution_count": null,
      "outputs": []
    },
    {
      "cell_type": "code",
      "source": [
        "# Get a summary of the model\n",
        "model_2.summary()"
      ],
      "metadata": {
        "colab": {
          "base_uri": "https://localhost:8080/"
        },
        "id": "ovlP2B2_yxTx",
        "outputId": "b7c0dd9e-8f4b-4cbb-99cc-cb49458022a8"
      },
      "execution_count": null,
      "outputs": [
        {
          "output_type": "stream",
          "name": "stdout",
          "text": [
            "Model: \"model_1\"\n",
            "_________________________________________________________________\n",
            " Layer (type)                Output Shape              Param #   \n",
            "=================================================================\n",
            " input_2 (InputLayer)        [(None,)]                 0         \n",
            "                                                                 \n",
            " universal_sentence_encoder  (None, 512)               256797824 \n",
            "  (KerasLayer)                                                   \n",
            "                                                                 \n",
            " dense_1 (Dense)             (None, 128)               65664     \n",
            "                                                                 \n",
            " dense_2 (Dense)             (None, 5)                 645       \n",
            "                                                                 \n",
            "=================================================================\n",
            "Total params: 256864133 (979.86 MB)\n",
            "Trainable params: 66309 (259.02 KB)\n",
            "Non-trainable params: 256797824 (979.61 MB)\n",
            "_________________________________________________________________\n"
          ]
        }
      ]
    },
    {
      "cell_type": "markdown",
      "source": [
        "Modelimizin özetini kontrol ederek çok sayıda toplam parametre olduğunu görebiliriz, ancak bunların çoğu eğitilemez. Bunun nedeni, USE özellik çıkarıcı katmanımızı yerleştirdiğimizde training=False'i ayarlamamızdır.\n",
        "\n",
        "Bu nedenle, modelimizi eğittiğimizde, yalnızca en iyi iki çıkış katmanı eğitilecektir."
      ],
      "metadata": {
        "id": "eVWJ_cQazODW"
      }
    },
    {
      "cell_type": "code",
      "source": [
        "# Fit feature extractor model for 3 epochs\n",
        "model_2.fit(train_dataset,\n",
        "            steps_per_epoch=int(0.1 * len(train_dataset)),\n",
        "            epochs=3,\n",
        "            validation_data=valid_dataset,\n",
        "            validation_steps=int(0.1 * len(valid_dataset)))"
      ],
      "metadata": {
        "colab": {
          "base_uri": "https://localhost:8080/"
        },
        "id": "3UcarPXozCsT",
        "outputId": "6776fe31-1b24-4c7a-b92f-40d2fe4c452e"
      },
      "execution_count": null,
      "outputs": [
        {
          "output_type": "stream",
          "name": "stdout",
          "text": [
            "Epoch 1/3\n",
            "562/562 [==============================] - 12s 15ms/step - loss: 0.9134 - accuracy: 0.6502 - val_loss: 0.7952 - val_accuracy: 0.6905\n",
            "Epoch 2/3\n",
            "562/562 [==============================] - 9s 15ms/step - loss: 0.7699 - accuracy: 0.7008 - val_loss: 0.7554 - val_accuracy: 0.7058\n",
            "Epoch 3/3\n",
            "562/562 [==============================] - 9s 16ms/step - loss: 0.7540 - accuracy: 0.7115 - val_loss: 0.7390 - val_accuracy: 0.7154\n"
          ]
        },
        {
          "output_type": "execute_result",
          "data": {
            "text/plain": [
              "<keras.src.callbacks.History at 0x79c1c4e47d60>"
            ]
          },
          "metadata": {},
          "execution_count": 51
        }
      ]
    },
    {
      "cell_type": "code",
      "source": [
        "# Evaluate on whole validation dataset\n",
        "model_2.evaluate(valid_dataset)"
      ],
      "metadata": {
        "colab": {
          "base_uri": "https://localhost:8080/"
        },
        "id": "40IKDnaszRQZ",
        "outputId": "30bad24e-c5e7-4d1f-92bc-c023def5f24c"
      },
      "execution_count": null,
      "outputs": [
        {
          "output_type": "stream",
          "name": "stdout",
          "text": [
            "945/945 [==============================] - 11s 12ms/step - loss: 0.7432 - accuracy: 0.7123\n"
          ]
        },
        {
          "output_type": "execute_result",
          "data": {
            "text/plain": [
              "[0.743226170539856, 0.7122666239738464]"
            ]
          },
          "metadata": {},
          "execution_count": 52
        }
      ]
    },
    {
      "cell_type": "markdown",
      "source": [
        "Kendi özel gömme katmanımızı eğitmediğimiz için eğitim çok daha hızlıdır.\n",
        "\n",
        "Bazı tahminlerde bulunalım ve özellik çıkarma modelimizi değerlendirelim."
      ],
      "metadata": {
        "id": "HgU4SCixzYHq"
      }
    },
    {
      "cell_type": "markdown",
      "source": [
        "tahmin etiketleri (rakamlar) en yüksek olan modelin belirli bir cümleyle ilişkilendirme olasılığının en yüksek olduğunu düşündüğü cümledir. Pooling eklenerek yükselebilir, katman eklenebilir."
      ],
      "metadata": {
        "id": "auK5FZJ9m0Fp"
      }
    },
    {
      "cell_type": "code",
      "source": [
        "# Make predictions with feature extraction model\n",
        "model_2_pred_probs = model_2.predict(valid_dataset)\n",
        "model_2_pred_probs"
      ],
      "metadata": {
        "colab": {
          "base_uri": "https://localhost:8080/"
        },
        "id": "ttfT3_OBzUeS",
        "outputId": "4bd93e50-7af0-4112-e79f-0ffdb3f5c34f"
      },
      "execution_count": null,
      "outputs": [
        {
          "output_type": "stream",
          "name": "stdout",
          "text": [
            "945/945 [==============================] - 10s 10ms/step\n"
          ]
        },
        {
          "output_type": "execute_result",
          "data": {
            "text/plain": [
              "array([[4.0046996e-01, 3.9608353e-01, 3.1003817e-03, 1.8950954e-01,\n",
              "        1.0836623e-02],\n",
              "       [3.6482051e-01, 4.6634197e-01, 5.0247796e-03, 1.6075698e-01,\n",
              "        3.0557169e-03],\n",
              "       [2.4858898e-01, 1.2626658e-01, 1.7173460e-02, 5.7200366e-01,\n",
              "        3.5967283e-02],\n",
              "       ...,\n",
              "       [2.2320328e-03, 5.4576411e-03, 6.2854342e-02, 8.8110380e-04,\n",
              "        9.2857486e-01],\n",
              "       [3.6124818e-03, 4.2770397e-02, 2.0512339e-01, 1.3166309e-03,\n",
              "        7.4717706e-01],\n",
              "       [1.9051018e-01, 2.3421653e-01, 5.1770937e-01, 4.5676841e-03,\n",
              "        5.2996174e-02]], dtype=float32)"
            ]
          },
          "metadata": {},
          "execution_count": 53
        }
      ]
    },
    {
      "cell_type": "code",
      "source": [
        "# Convert the predictions with feature extraction model to classes\n",
        "model_2_preds = tf.argmax(model_2_pred_probs, axis=1)\n",
        "model_2_preds"
      ],
      "metadata": {
        "colab": {
          "base_uri": "https://localhost:8080/"
        },
        "id": "Rek1AVh6zbc5",
        "outputId": "0fa32a42-c48d-4b27-82c8-b3f85e7858f4"
      },
      "execution_count": null,
      "outputs": [
        {
          "output_type": "execute_result",
          "data": {
            "text/plain": [
              "<tf.Tensor: shape=(30212,), dtype=int64, numpy=array([0, 1, 3, ..., 4, 4, 2])>"
            ]
          },
          "metadata": {},
          "execution_count": 54
        }
      ]
    },
    {
      "cell_type": "code",
      "source": [
        "# Calculate results from TF Hub pretrained embeddings results on validation set\n",
        "model_2_results = calculate_results(y_true=val_labels_encoded,\n",
        "                                    y_pred=model_2_preds)\n",
        "model_2_results"
      ],
      "metadata": {
        "colab": {
          "base_uri": "https://localhost:8080/"
        },
        "id": "SJbcEH9BzgIU",
        "outputId": "6fd59854-efbb-4a49-a702-ff037f30c3d7"
      },
      "execution_count": null,
      "outputs": [
        {
          "output_type": "execute_result",
          "data": {
            "text/plain": [
              "{'accuracy': 71.2266649013637,\n",
              " 'precision': 0.7134084112377521,\n",
              " 'recall': 0.712266649013637,\n",
              " 'f1': 0.7092514260553279}"
            ]
          },
          "metadata": {},
          "execution_count": 55
        }
      ]
    },
    {
      "cell_type": "markdown",
      "source": [
        "# Model 3: Karakter gömmeli Conv1D\n",
        "\n",
        "### Karakter düzeyinde bir belirteç oluşturma\n",
        "\n",
        "Medical Paper Abstracts makalesinde Ortak Cümle Sınıflandırması için Sinir Ağları, modellerinin belirteç ve karakter gömmelerinin bir karışımını kullandığından bahseder. https://arxiv.org/pdf/1612.05251\n",
        "\n",
        "Özel bir belirteç gömme ve önceden eğitilmiş bir belirteç gömme ile modeller oluşturduk, bir karakter gömme kullanarak bir tane oluşturmaya ne dersiniz?\n",
        "\n",
        "Bir karakter ve belirteç gömme arasındaki fark, karakter gömmenin karakterlere bölünmüş diziler kullanılarak oluşturulmasıdır (örneğin, merhaba -> [h, e, l, l, o]), burada bir belirteç gömme, belirteçlere bölünmüş diziler üzerinde oluşturulur.\n",
        "\n",
        "Belirteç seviyesi, dizileri belirteçlere (kelimelere) böler ve her birini gömer, karakter gömer, dizileri karakterlere böler ve her biri için bir özellik vektörü oluşturur.\n",
        "\n",
        "TextVectorization sınıfını kullanarak önce dizilerimizi (karakterlere ayrıldıktan sonra) vektörleştirerek ve ardından bu vektörleştirilmiş dizileri bir Gömme katmanından geçirerek karakter düzeyinde bir gömme oluşturabiliriz.\n",
        "\n",
        "Dizilerimizi bir karakter düzeyinde vektörleştirmeden önce onları karakterlere ayırmamız gerekecek. Bunu yapmak için bir işlev yazalım."
      ],
      "metadata": {
        "id": "bzyiC5xcZXoy"
      }
    },
    {
      "cell_type": "markdown",
      "source": [
        "- belirteç = token...\n",
        "- karakter embedding --> her bir hard feature vector'e dönüşür.\n",
        "- Yukarıda oluşturduğumuz vektörler kelime içindi. Bu çalışma için verileri karakter olarak biçimlendirme gerekli.\n",
        "- Her karakteri, harfi bir tam sayıya dönüştürür."
      ],
      "metadata": {
        "id": "KgEy-bLQAYtj"
      }
    },
    {
      "cell_type": "code",
      "source": [
        "# Make function to split sentences into characters\n",
        "def split_chars(text):\n",
        "  return \" \".join(list(text))\n",
        "\n",
        "# Test splitting non-character-level sequence into characters\n",
        "split_chars(random_training_sentence)"
      ],
      "metadata": {
        "id": "IVJ3E3aVzlcj",
        "colab": {
          "base_uri": "https://localhost:8080/",
          "height": 69
        },
        "outputId": "3ace3d67-e375-483d-c9d5-fb4211a52feb"
      },
      "execution_count": null,
      "outputs": [
        {
          "output_type": "execute_result",
          "data": {
            "text/plain": [
              "'i n   t h e   p r e d n i s o l o n e   a r m   ,   a   s i g n i f i c a n t l y   h i g h e r   p r o p o r t i o n   e x c e e d e d   t h e   d e f i n e d   i o p   e l e v a t i o n   t h r e s h o l d   (   @   %   v s .   @   %   ,   p   =   @   )   ,   a n d   g l a u c o m a   m e d i c a t i o n s   w e r e   i n i t i a t e d   o r   i n c r e a s e d   m o r e   o f t e n   (   @   %   v s .   @   %   ,   p   =   @   )   .'"
            ],
            "application/vnd.google.colaboratory.intrinsic+json": {
              "type": "string"
            }
          },
          "metadata": {},
          "execution_count": 56
        }
      ]
    },
    {
      "cell_type": "markdown",
      "source": [
        "Harika! Karakter bölme işlevimiz çalışıyor gibi görünüyor. Dizi veri kümelerimizi karakterlere bölerek karakter düzeyinde veri kümeleri oluşturalım."
      ],
      "metadata": {
        "id": "ANAePfStZ3AX"
      }
    },
    {
      "cell_type": "code",
      "source": [
        "# Split sequence-level data splits into character-level data splits\n",
        "train_chars = [split_chars(sentence) for sentence in train_sentences]\n",
        "val_chars = [split_chars(sentence) for sentence in val_sentences]\n",
        "test_chars = [split_chars(sentence) for sentence in test_sentences]\n",
        "print(train_chars[0])"
      ],
      "metadata": {
        "id": "6C_Qot5ZzpsT",
        "colab": {
          "base_uri": "https://localhost:8080/"
        },
        "outputId": "770e21b0-c8fc-4861-fb64-1810188410d3"
      },
      "execution_count": null,
      "outputs": [
        {
          "output_type": "stream",
          "name": "stdout",
          "text": [
            "t o   i n v e s t i g a t e   t h e   e f f i c a c y   o f   @   w e e k s   o f   d a i l y   l o w - d o s e   o r a l   p r e d n i s o l o n e   i n   i m p r o v i n g   p a i n   ,   m o b i l i t y   ,   a n d   s y s t e m i c   l o w - g r a d e   i n f l a m m a t i o n   i n   t h e   s h o r t   t e r m   a n d   w h e t h e r   t h e   e f f e c t   w o u l d   b e   s u s t a i n e d   a t   @   w e e k s   i n   o l d e r   a d u l t s   w i t h   m o d e r a t e   t o   s e v e r e   k n e e   o s t e o a r t h r i t i s   (   o a   )   .\n"
          ]
        }
      ]
    },
    {
      "cell_type": "markdown",
      "source": [
        "Vektörleştirilmiş karakter dizilerimizin ne kadar uzun olması gerektiğini anlamak için, karakter dizisi uzunluklarımızın dağılımını kontrol edelim."
      ],
      "metadata": {
        "id": "thiyBiFPZ-xy"
      }
    },
    {
      "cell_type": "code",
      "source": [
        "# What's the average character length?\n",
        "char_lens = [len(sentence) for sentence in train_sentences]\n",
        "mean_char_len = np.mean(char_lens)\n",
        "mean_char_len"
      ],
      "metadata": {
        "colab": {
          "base_uri": "https://localhost:8080/"
        },
        "id": "8FgX-IZrZ57s",
        "outputId": "5be04f72-bf24-4e3a-f34b-9bf75385c0b0"
      },
      "execution_count": null,
      "outputs": [
        {
          "output_type": "execute_result",
          "data": {
            "text/plain": [
              "149.3662574983337"
            ]
          },
          "metadata": {},
          "execution_count": 58
        }
      ]
    },
    {
      "cell_type": "code",
      "source": [
        "# Check the distribution of our sequences at character-level\n",
        "import matplotlib.pyplot as plt\n",
        "plt.hist(char_lens, bins=7);"
      ],
      "metadata": {
        "colab": {
          "base_uri": "https://localhost:8080/",
          "height": 430
        },
        "id": "cuIxvejzaBly",
        "outputId": "357944b9-a41a-4f3b-9a39-809a41cae215"
      },
      "execution_count": null,
      "outputs": [
        {
          "output_type": "display_data",
          "data": {
            "text/plain": [
              "<Figure size 640x480 with 1 Axes>"
            ],
            "image/png": "[encoded data removed]"
          },
          "metadata": {}
        }
      ]
    },
    {
      "cell_type": "markdown",
      "source": [
        "Tamam, dizilerimizin çoğu 0 ila 200 karakter uzunluğunda gibi görünüyor.\n",
        "\n",
        "Dizilerimizin %95'ini hangi uzunluğun kapsadığını bulmak için NumPy'nin yüzdelik dilimini kullanalım."
      ],
      "metadata": {
        "id": "twXCbAQ7aHPK"
      }
    },
    {
      "cell_type": "code",
      "source": [
        "# Find what character length covers 95% of sequences\n",
        "output_seq_char_len = int(np.percentile(char_lens, 95))\n",
        "output_seq_char_len"
      ],
      "metadata": {
        "colab": {
          "base_uri": "https://localhost:8080/"
        },
        "id": "TOcmJbVdaD8r",
        "outputId": "6bf78fcd-51e5-4bb5-ad0e-f0cce151aedb"
      },
      "execution_count": null,
      "outputs": [
        {
          "output_type": "execute_result",
          "data": {
            "text/plain": [
              "290"
            ]
          },
          "metadata": {},
          "execution_count": 60
        }
      ]
    },
    {
      "cell_type": "markdown",
      "source": [
        "Harika, şimdi dizilerin %95'ini kapsayan dizi uzunluğunu biliyoruz, bunu TextVectorization katmanımızda output_sequence_length parametresi olarak kullanacağız.\n",
        "\n",
        "🔑 Not: En uygun output_sequence_length'in ne olması gerektiğini bulmak için burada deney yapabilirsiniz, belki de ortalama sonuçları %95 yüzdelik dilim kullanmak kadar iyi sonuçlar elde edebilirsiniz.\n",
        "\n",
        "Max_tokens'i (dizilerimizdeki farklı karakterlerin toplam sayısı) 28, başka bir deyişle, alfabenin 26 harfi + boşluk + OOV (kelime dağarcığı dışında veya bilinmeyen) belirteçleri olarak ayarlayacağız."
      ],
      "metadata": {
        "id": "QkUdYEWvaPNk"
      }
    },
    {
      "cell_type": "markdown",
      "source": [
        "ascii --> tüm küçük harfleri aldık.\n",
        "\n",
        "Aşağıdaki işlem neden önemli? Bunun uzunluğunu alabiliriz ve bu, karakter seviyesi mağduriyetimiz için üslerimizi kapsayacaktır.\n",
        "Bu yüzden klavyedeki her karakter burada ele alınmalıdır."
      ],
      "metadata": {
        "id": "24Fmpn0qEGSJ"
      }
    },
    {
      "cell_type": "code",
      "source": [
        "# Get all keyboard characters for char-level embedding\n",
        "import string\n",
        "alphabet = string.ascii_lowercase + string.digits + string.punctuation\n",
        "alphabet"
      ],
      "metadata": {
        "colab": {
          "base_uri": "https://localhost:8080/",
          "height": 35
        },
        "id": "ICbVF60FaKRQ",
        "outputId": "b2a2a758-02e4-4e45-9b25-042f8f0a8ea5"
      },
      "execution_count": null,
      "outputs": [
        {
          "output_type": "execute_result",
          "data": {
            "text/plain": [
              "'abcdefghijklmnopqrstuvwxyz0123456789!\"#$%&\\'()*+,-./:;<=>?@[\\\\]^_`{|}~'"
            ],
            "application/vnd.google.colaboratory.intrinsic+json": {
              "type": "string"
            }
          },
          "metadata": {},
          "execution_count": 61
        }
      ]
    },
    {
      "cell_type": "markdown",
      "source": [
        "oov --> out of vocab, [UNK] unknown.\n",
        "\n",
        "standardize --> giriş metnini uygulamak için standardizasyon için isteğe bağlı spesifikasyondur. None veya lower_and....olabilir.\n",
        "\n"
      ],
      "metadata": {
        "id": "oYrasiwgEtkM"
      }
    },
    {
      "cell_type": "code",
      "source": [
        "# Create char-level token vectorizer instance\n",
        "NUM_CHAR_TOKENS = len(alphabet) + 2 # num characters in alphabet + space + OOV token\n",
        "char_vectorizer = TextVectorization(max_tokens=NUM_CHAR_TOKENS,\n",
        "                                    output_sequence_length=output_seq_char_len,\n",
        "                                    standardize=\"lower_and_strip_punctuation\",\n",
        "                                    name=\"char_vectorizer\")\n",
        "\n",
        "# Adapt character vectorizer to training characters\n",
        "char_vectorizer.adapt(train_chars)"
      ],
      "metadata": {
        "id": "SzJnpdf-aTZi"
      },
      "execution_count": null,
      "outputs": []
    },
    {
      "cell_type": "markdown",
      "source": [
        "Güzel! Şimdi char_vectorizer'ımızı karakter düzeyindeki dizilerimize uyarladık, get_vocabulary() yöntemini kullanarak bununla ilgili bazı özellikleri kontrol edelim."
      ],
      "metadata": {
        "id": "vAnm_Z2PaZjC"
      }
    },
    {
      "cell_type": "markdown",
      "source": [
        "standardizasyon None olsaydı, çıktı;\n",
        "\n",
        "- 57\n",
        "- '', [UNK], 'e', 't', 'i'\n",
        "- 'I', '\"', ']', '//', ...olurdu.\n",
        "\n",
        "Yani none ile noktalama işaretlerini terketmiş olursunuz.\n",
        "\n",
        "\n",
        "\n"
      ],
      "metadata": {
        "id": "JW0nmdqgGrK_"
      }
    },
    {
      "cell_type": "code",
      "source": [
        "# Check character vocabulary characteristics\n",
        "char_vocab = char_vectorizer.get_vocabulary()\n",
        "print(f\"Number of different characters in character vocab: {len(char_vocab)}\")\n",
        "print(f\"5 most common characters: {char_vocab[:5]}\")\n",
        "print(f\"5 least common characters: {char_vocab[-5:]}\")"
      ],
      "metadata": {
        "colab": {
          "base_uri": "https://localhost:8080/"
        },
        "id": "OuOGgAscaV_l",
        "outputId": "42d5d261-d315-4ff6-e26b-7f6eca8c1e37"
      },
      "execution_count": null,
      "outputs": [
        {
          "output_type": "stream",
          "name": "stdout",
          "text": [
            "Number of different characters in character vocab: 28\n",
            "5 most common characters: ['', '[UNK]', 'e', 't', 'i']\n",
            "5 least common characters: ['k', 'x', 'z', 'q', 'j']\n"
          ]
        }
      ]
    },
    {
      "cell_type": "markdown",
      "source": [
        "Çalıştığından emin olmak için rastgele karakter dizileri üzerinde de test edebiliriz."
      ],
      "metadata": {
        "id": "indn0OSAanxu"
      }
    },
    {
      "cell_type": "code",
      "source": [
        "# Test out character vectorizer\n",
        "random_train_chars = random.choice(train_chars)\n",
        "print(f\"Charified text:\\n{random_train_chars}\")\n",
        "print(f\"\\nLength of chars: {len(random_train_chars.split())}\")\n",
        "vectorized_chars = char_vectorizer([random_train_chars])\n",
        "print(f\"\\nVectorized chars:\\n{vectorized_chars}\")\n",
        "print(f\"\\nLength of vectorized chars: {len(vectorized_chars[0])}\")"
      ],
      "metadata": {
        "colab": {
          "base_uri": "https://localhost:8080/"
        },
        "id": "d_2j1WOGafKz",
        "outputId": "568d147a-3601-4815-bf90-ef0006c4237f"
      },
      "execution_count": null,
      "outputs": [
        {
          "output_type": "stream",
          "name": "stdout",
          "text": [
            "Charified text:\n",
            "f u t u r e   i n t e r v e n t i o n s   s h o u l d   c o n s i d e r   t h e   r o l e   o f   h e a l t h   l i t e r a c y   i n   p r o m o t i n g   i n j u r y   p r e v e n t i o n   .\n",
            "\n",
            "Length of chars: 84\n",
            "\n",
            "Vectorized chars:\n",
            "[[17 16  3 16  8  2  4  6  3  2  8 21  2  6  3  4  7  6  9  9 13  7 16 12\n",
            "  10 11  7  6  9  4 10  2  8  3 13  2  8  7 12  2  7 17 13  2  5 12  3 13\n",
            "  12  4  3  2  8  5 11 19  4  6 14  8  7 15  7  3  4  6 18  4  6 27 16  8\n",
            "  19 14  8  2 21  2  6  3  4  7  6  0  0  0  0  0  0  0  0  0  0  0  0  0\n",
            "   0  0  0  0  0  0  0  0  0  0  0  0  0  0  0  0  0  0  0  0  0  0  0  0\n",
            "   0  0  0  0  0  0  0  0  0  0  0  0  0  0  0  0  0  0  0  0  0  0  0  0\n",
            "   0  0  0  0  0  0  0  0  0  0  0  0  0  0  0  0  0  0  0  0  0  0  0  0\n",
            "   0  0  0  0  0  0  0  0  0  0  0  0  0  0  0  0  0  0  0  0  0  0  0  0\n",
            "   0  0  0  0  0  0  0  0  0  0  0  0  0  0  0  0  0  0  0  0  0  0  0  0\n",
            "   0  0  0  0  0  0  0  0  0  0  0  0  0  0  0  0  0  0  0  0  0  0  0  0\n",
            "   0  0  0  0  0  0  0  0  0  0  0  0  0  0  0  0  0  0  0  0  0  0  0  0\n",
            "   0  0  0  0  0  0  0  0  0  0  0  0  0  0  0  0  0  0  0  0  0  0  0  0\n",
            "   0  0]]\n",
            "\n",
            "Length of vectorized chars: 290\n"
          ]
        }
      ]
    },
    {
      "cell_type": "markdown",
      "source": [
        "Uzunluğu 290'dan (output_seq_char_length) daha kısa olan dizilerin sonunda sıfırlarla doldurulduğunu fark edeceksiniz, bu da modelimize geçirilen tüm dizilerin aynı uzunlukta olmasını sağlar.\n",
        "\n",
        "Ayrıca, TextVectorization'ın standartlaştırma parametresinin \"lower_and_strip_punctuation\" ve bölünmüş parametrenin varsayılan olarak \"whitespace\" olması nedeniyle, semboller (@ gibi) ve boşluklar kaldırılır.\n",
        "\n",
        "🔑 Not: Noktalama işaretlerinin kaldırılmasını istemediyseniz (@, % vb. tutun), özel bir standardizasyon çağrılabilir oluşturabilir ve bunu standartlaştırma parametresi olarak geçirebilirsiniz. Daha fazla bilgi için TextVectorization katmanı belgelerine bakın."
      ],
      "metadata": {
        "id": "4EANVRplazIk"
      }
    },
    {
      "cell_type": "markdown",
      "source": [
        "# Karakter düzeyinde bir gömme oluşturma\n",
        "\n",
        "Karakter düzeyindeki dizilerimizi vektörleştirmenin bir yolu var, şimdi bir karakter düzeyinde gömme oluşturma zamanı.\n",
        "\n",
        "Tıpkı özel belirteç gömmemiz gibi, bunu tensorflow.keras.layers.Embedding sınıfını kullanarak yapabiliriz. https://www.tensorflow.org/api_docs/python/tf/keras/layers/Embedding\n",
        "\n",
        "Karakter düzeyinde gömme katmanımız bir giriş boyutu ve çıkış boyutu gerektirir.\n",
        "\n",
        "Giriş boyutu (input_dim), char_vocab'ımızdaki (28) farklı karakterlerin sayısına eşit olacaktır. Ve Tıbbi Kağıt Özetlerinde Ortak Cümle Sınıflandırması için Sinir Ağları Şekil 1'deki modelin yapısını takip ettiğimizden, karakter gömmenin (output_dim) çıktı boyutu 25 olacaktır. https://arxiv.org/pdf/1612.05251"
      ],
      "metadata": {
        "id": "SR_fmhHAa3E5"
      }
    },
    {
      "cell_type": "markdown",
      "source": [
        "dokümanda, input_dim --> int. Kelime haznesidir. Örneğin max tamsayı indexi +1 gibi.\n",
        "\n",
        "output_dim --> int. Yoğun gömmenin şekilsel boyutu."
      ],
      "metadata": {
        "id": "Oh5CgvRBJUu7"
      }
    },
    {
      "cell_type": "code",
      "source": [
        "# Create char embedding layer\n",
        "char_embed = layers.Embedding(input_dim=NUM_CHAR_TOKENS, # number of different characters\n",
        "                              output_dim=25, # embedding dimension of each character (same as Figure 1 in https://arxiv.org/pdf/1612.05251.pdf)\n",
        "                              mask_zero=False, # don't use masks (this messes up model_5 if set to True)\n",
        "                              name=\"char_embed\")\n",
        "\n",
        "# Test out character embedding layer\n",
        "print(f\"Charified text (before vectorization and embedding):\\n{random_train_chars}\\n\")\n",
        "char_embed_example = char_embed(char_vectorizer([random_train_chars]))\n",
        "print(f\"Embedded chars (after vectorization and embedding):\\n{char_embed_example}\\n\")\n",
        "print(f\"Character embedding shape: {char_embed_example.shape}\")"
      ],
      "metadata": {
        "colab": {
          "base_uri": "https://localhost:8080/"
        },
        "id": "myjjSmijaqFy",
        "outputId": "8acc2d7a-bf35-4ee2-d207-a91931216a6a"
      },
      "execution_count": null,
      "outputs": [
        {
          "output_type": "stream",
          "name": "stdout",
          "text": [
            "Charified text (before vectorization and embedding):\n",
            "f u t u r e   i n t e r v e n t i o n s   s h o u l d   c o n s i d e r   t h e   r o l e   o f   h e a l t h   l i t e r a c y   i n   p r o m o t i n g   i n j u r y   p r e v e n t i o n   .\n",
            "\n",
            "Embedded chars (after vectorization and embedding):\n",
            "[[[-0.00804998 -0.03078482  0.02936046 ... -0.03349607  0.04212847\n",
            "   -0.00902678]\n",
            "  [ 0.01195908 -0.02387935  0.01971792 ...  0.04171995  0.0353037\n",
            "    0.02558834]\n",
            "  [-0.02780032  0.0073716  -0.02678081 ...  0.0077134   0.03727556\n",
            "    0.01433602]\n",
            "  ...\n",
            "  [-0.02112738  0.02913321  0.04687997 ... -0.03959308  0.00380766\n",
            "   -0.04945362]\n",
            "  [-0.02112738  0.02913321  0.04687997 ... -0.03959308  0.00380766\n",
            "   -0.04945362]\n",
            "  [-0.02112738  0.02913321  0.04687997 ... -0.03959308  0.00380766\n",
            "   -0.04945362]]]\n",
            "\n",
            "Character embedding shape: (1, 290, 25)\n"
          ]
        }
      ]
    },
    {
      "cell_type": "markdown",
      "source": [
        "Dizilerimizdeki karakterlerin her biri 25 boyutlu bir gömmeye dönüştürülür.\n",
        "\n",
        "her bir harf özellik vektörüne dönüştü.\n",
        "\n",
        "290 uzunluğa kadar sıfırlarla doldurulur. 1 dizi var, 290 karakter var (char vectorizer kaç harf olursa olsun 290'a kadar padding yapar), 25 gömme karakteri.\n"
      ],
      "metadata": {
        "id": "BYYWvwK1bFml"
      }
    },
    {
      "cell_type": "markdown",
      "source": [
        "# Karakter gömmelerine uyacak bir Conv1D modeli oluşturma\n",
        "\n",
        "Şimdi karakter düzeyindeki dizilerimizi sayılara (char_vectorizer) dönüştürmenin ve onları bir gömme (char_embed) olarak sayısal olarak temsil etmenin bir yolu var, karakter düzeyinde bir dizi modeli oluşturarak dizilerimizdeki bilgileri kodlamada ne kadar etkili olduklarını test edelim.\n",
        "\n",
        "Model, özel belirteç yerleştirme modelimizle (model_1) aynı yapıya sahip olacaktır, ancak belirteç düzeyinde diziler yerine karakter düzeyinde diziler giriş olarak alacaktır.\n",
        "\n",
        "Input (character-level text) -> Tokenize -> Embedding -> Layers (Conv1D, GlobalMaxPool1D) -> Output (label probability)"
      ],
      "metadata": {
        "id": "QLKVpYNpbJI6"
      }
    },
    {
      "cell_type": "code",
      "source": [
        "# Make Conv1D on chars only\n",
        "inputs = layers.Input(shape=(1,), dtype=\"string\")\n",
        "char_vectors = char_vectorizer(inputs)\n",
        "char_embeddings = char_embed(char_vectors)\n",
        "x = layers.Conv1D(64, kernel_size=5, padding=\"same\", activation=\"relu\")(char_embeddings)\n",
        "x = layers.GlobalMaxPool1D()(x)\n",
        "outputs = layers.Dense(num_classes, activation=\"softmax\")(x)\n",
        "model_3 = tf.keras.Model(inputs=inputs,\n",
        "                         outputs=outputs,\n",
        "                         name=\"model_3_conv1D_char_embedding\")\n",
        "\n",
        "# Compile model\n",
        "model_3.compile(loss=\"categorical_crossentropy\",\n",
        "                optimizer=tf.keras.optimizers.Adam(),\n",
        "                metrics=[\"accuracy\"])"
      ],
      "metadata": {
        "id": "QXGwr-HDbBmo"
      },
      "execution_count": null,
      "outputs": []
    },
    {
      "cell_type": "code",
      "source": [
        "# Check the summary of conv1d_char_model\n",
        "model_3.summary()"
      ],
      "metadata": {
        "colab": {
          "base_uri": "https://localhost:8080/"
        },
        "id": "6zuxszLZbQUZ",
        "outputId": "a0b5e263-a64d-4d91-ec79-f24611270460"
      },
      "execution_count": null,
      "outputs": [
        {
          "output_type": "stream",
          "name": "stdout",
          "text": [
            "Model: \"model_3_conv1D_char_embedding\"\n",
            "_________________________________________________________________\n",
            " Layer (type)                Output Shape              Param #   \n",
            "=================================================================\n",
            " input_3 (InputLayer)        [(None, 1)]               0         \n",
            "                                                                 \n",
            " char_vectorizer (TextVecto  (None, 290)               0         \n",
            " rization)                                                       \n",
            "                                                                 \n",
            " char_embed (Embedding)      (None, 290, 25)           1750      \n",
            "                                                                 \n",
            " conv1d_1 (Conv1D)           (None, 290, 64)           8064      \n",
            "                                                                 \n",
            " global_max_pooling1d (Glob  (None, 64)                0         \n",
            " alMaxPooling1D)                                                 \n",
            "                                                                 \n",
            " dense_3 (Dense)             (None, 5)                 325       \n",
            "                                                                 \n",
            "=================================================================\n",
            "Total params: 10139 (39.61 KB)\n",
            "Trainable params: 10139 (39.61 KB)\n",
            "Non-trainable params: 0 (0.00 Byte)\n",
            "_________________________________________________________________\n"
          ]
        }
      ]
    },
    {
      "cell_type": "markdown",
      "source": [
        "Modelimizi verilere sığdırmadan önce, karakter düzeyinde toplu PrefetchedDataset'ler oluşturacağız."
      ],
      "metadata": {
        "id": "aaIC0EP6bWTo"
      }
    },
    {
      "cell_type": "code",
      "source": [
        "# Create char datasets\n",
        "train_char_dataset = tf.data.Dataset.from_tensor_slices((train_chars, train_labels_one_hot)).batch(32).prefetch(tf.data.AUTOTUNE)\n",
        "val_char_dataset = tf.data.Dataset.from_tensor_slices((val_chars, val_labels_one_hot)).batch(32).prefetch(tf.data.AUTOTUNE)\n",
        "\n",
        "train_char_dataset"
      ],
      "metadata": {
        "colab": {
          "base_uri": "https://localhost:8080/"
        },
        "id": "ZPu_bGL0bSiN",
        "outputId": "98f6fba7-6586-4d66-8023-dc78dbda4d7a"
      },
      "execution_count": null,
      "outputs": [
        {
          "output_type": "execute_result",
          "data": {
            "text/plain": [
              "<_PrefetchDataset element_spec=(TensorSpec(shape=(None,), dtype=tf.string, name=None), TensorSpec(shape=(None, 5), dtype=tf.float64, name=None))>"
            ]
          },
          "metadata": {},
          "execution_count": 68
        }
      ]
    },
    {
      "cell_type": "code",
      "source": [
        "# Fit the model on chars only\n",
        "model_3_history = model_3.fit(train_char_dataset,\n",
        "                              steps_per_epoch=int(0.1 * len(train_char_dataset)),\n",
        "                              epochs=3,\n",
        "                              validation_data=val_char_dataset,\n",
        "                              validation_steps=int(0.1 * len(val_char_dataset)))"
      ],
      "metadata": {
        "colab": {
          "base_uri": "https://localhost:8080/"
        },
        "id": "f4EIdnvPbaHf",
        "outputId": "3f3454c3-9264-44bb-9077-7379af62cf35"
      },
      "execution_count": null,
      "outputs": [
        {
          "output_type": "stream",
          "name": "stdout",
          "text": [
            "Epoch 1/3\n",
            "562/562 [==============================] - 5s 6ms/step - loss: 1.2843 - accuracy: 0.4856 - val_loss: 1.0526 - val_accuracy: 0.5938\n",
            "Epoch 2/3\n",
            "562/562 [==============================] - 3s 6ms/step - loss: 1.0002 - accuracy: 0.6045 - val_loss: 0.9365 - val_accuracy: 0.6297\n",
            "Epoch 3/3\n",
            "562/562 [==============================] - 4s 7ms/step - loss: 0.9184 - accuracy: 0.6423 - val_loss: 0.8620 - val_accuracy: 0.6616\n"
          ]
        }
      ]
    },
    {
      "cell_type": "code",
      "source": [
        "# Evaluate model_3 on whole validation char dataset\n",
        "model_3.evaluate(val_char_dataset)"
      ],
      "metadata": {
        "colab": {
          "base_uri": "https://localhost:8080/"
        },
        "id": "kBIHqvihbg8H",
        "outputId": "f685fb57-41b3-4423-afb0-8f922d187a10"
      },
      "execution_count": null,
      "outputs": [
        {
          "output_type": "stream",
          "name": "stdout",
          "text": [
            "945/945 [==============================] - 4s 4ms/step - loss: 0.8796 - accuracy: 0.6594\n"
          ]
        },
        {
          "output_type": "execute_result",
          "data": {
            "text/plain": [
              "[0.8795744180679321, 0.6594399809837341]"
            ]
          },
          "metadata": {},
          "execution_count": 70
        }
      ]
    },
    {
      "cell_type": "markdown",
      "source": [
        "Güzel! Karakter düzeyindeki modelimiz çalışıyor gibi görünüyor, onunla bazı tahminlerde bulunalım ve değerlendirelim."
      ],
      "metadata": {
        "id": "8Bel41oqbnAX"
      }
    },
    {
      "cell_type": "code",
      "source": [
        "# Make predictions with character model only\n",
        "model_3_pred_probs = model_3.predict(val_char_dataset)\n",
        "model_3_pred_probs"
      ],
      "metadata": {
        "colab": {
          "base_uri": "https://localhost:8080/"
        },
        "id": "cVOTDsx7bj6C",
        "outputId": "52d638c6-763f-4390-8309-a5c590c7f151"
      },
      "execution_count": null,
      "outputs": [
        {
          "output_type": "stream",
          "name": "stdout",
          "text": [
            "945/945 [==============================] - 3s 3ms/step\n"
          ]
        },
        {
          "output_type": "execute_result",
          "data": {
            "text/plain": [
              "array([[0.14670706, 0.26414698, 0.10993239, 0.42251855, 0.0566951 ],\n",
              "       [0.17952669, 0.61284536, 0.04472806, 0.05347157, 0.10942832],\n",
              "       [0.13054176, 0.18297566, 0.32385087, 0.32372358, 0.03890812],\n",
              "       ...,\n",
              "       [0.01579976, 0.03398993, 0.22404483, 0.02109311, 0.70507234],\n",
              "       [0.06259605, 0.19586767, 0.28120074, 0.05509917, 0.4052364 ],\n",
              "       [0.40614358, 0.36372653, 0.1394411 , 0.0765835 , 0.01410534]],\n",
              "      dtype=float32)"
            ]
          },
          "metadata": {},
          "execution_count": 71
        }
      ]
    },
    {
      "cell_type": "code",
      "source": [
        "# Convert predictions to classes\n",
        "model_3_preds = tf.argmax(model_3_pred_probs, axis=1)\n",
        "model_3_preds"
      ],
      "metadata": {
        "colab": {
          "base_uri": "https://localhost:8080/"
        },
        "id": "9yjbW973bqjo",
        "outputId": "614789d5-47d8-4113-9ec0-2f99fd37c57f"
      },
      "execution_count": null,
      "outputs": [
        {
          "output_type": "execute_result",
          "data": {
            "text/plain": [
              "<tf.Tensor: shape=(30212,), dtype=int64, numpy=array([3, 1, 2, ..., 4, 4, 0])>"
            ]
          },
          "metadata": {},
          "execution_count": 72
        }
      ]
    },
    {
      "cell_type": "code",
      "source": [
        "# Calculate Conv1D char only model results\n",
        "model_3_results = calculate_results(y_true=val_labels_encoded,\n",
        "                                        y_pred=model_3_preds)\n",
        "model_3_results"
      ],
      "metadata": {
        "colab": {
          "base_uri": "https://localhost:8080/"
        },
        "id": "xDxwSz9lbu95",
        "outputId": "ecc7f839-7b32-4944-cf95-cb4ce963a928"
      },
      "execution_count": null,
      "outputs": [
        {
          "output_type": "execute_result",
          "data": {
            "text/plain": [
              "{'accuracy': 65.94399576327287,\n",
              " 'precision': 0.6525733371595827,\n",
              " 'recall': 0.6594399576327287,\n",
              " 'f1': 0.6498297077690731}"
            ]
          },
          "metadata": {},
          "execution_count": 73
        }
      ]
    },
    {
      "cell_type": "markdown",
      "source": [
        "# Model 4: Önceden eğitilmiş token gömmelerini + karakter gömmelerini birleştirme (hibrit gömme katmanı)\n",
        "\n",
        "Pekala, şimdi işler baharatlı olacak.\n",
        "\n",
        "Medical Paper Abstracts'da Ortak Cümle Sınıflandırması için Sinir Ağları Şekil 1'dekine benzer bir model oluşturmaya yaklaşırken, bahsettikleri hibrit belirteç gömme katmanını ele almanın zamanı geldi. https://arxiv.org/pdf/1612.05251\n",
        "\n",
        "Bu karma belirteç gömme katmanı, belirteç gömme ve karakter gömmelerinin bir kombinasyonudur. Başka bir deyişle, dizileri sıra etiketi tahmin katmanına geçirmeden önce temsil etmek için yığılmış bir gömme oluştururlar.\n",
        "\n",
        "Şimdiye kadar belirteç ve karakter düzeyinde gömmeler kullanan iki model geliştirdik, ancak bu iki model bu gömmelerin her birini özel olarak kullandı.\n",
        "\n",
        "Şekil 1'deki modeli çoğaltmaya (veya çoğaltmaya yaklaşmaya) başlamak için aşağıdaki adımlardan geçeceğiz:\n",
        "\n",
        "1. Token düzeyinde bir model oluşturun (model_1'e benzer)\n",
        "\n",
        "2. Karakter düzeyinde bir model oluşturun (kağıdı yansıtmak için hafif bir değişiklikle model_3'e benzer)\n",
        "\n",
        "3. 1 ve 2'nin çıktılarını birleştirin (layers.Concatenate) https://www.tensorflow.org/api_docs/python/tf/keras/layers/Concatenate\n",
        "\n",
        "4. Tıbbi Kağıt Özetlerinde Ortak Cümle Sınıflandırması için Sinir Ağları'nın Şekil 1 ve bölüm 4.2'ye benzer 3'ün üzerine bir dizi çıktı katmanı oluşturun\n",
        "\n",
        "5. Token ve karakter düzeyinde dizileri girdi olarak alan ve çıktı olarak sıra etiketi olasılıkları üreten bir model oluşturun"
      ],
      "metadata": {
        "id": "7ShmhhMZb27Z"
      }
    },
    {
      "cell_type": "code",
      "source": [
        "# 1. Setup token inputs/model\n",
        "token_inputs = layers.Input(shape=[], dtype=tf.string, name=\"token_input\")\n",
        "token_embeddings = tf_hub_embedding_layer(token_inputs)\n",
        "token_output = layers.Dense(128, activation=\"relu\")(token_embeddings)\n",
        "token_model = tf.keras.Model(inputs=token_inputs,\n",
        "                             outputs=token_output)\n",
        "\n",
        "# 2. Setup char inputs/model\n",
        "char_inputs = layers.Input(shape=(1,), dtype=tf.string, name=\"char_input\")\n",
        "char_vectors = char_vectorizer(char_inputs)\n",
        "char_embeddings = char_embed(char_vectors)\n",
        "char_bi_lstm = layers.Bidirectional(layers.LSTM(25))(char_embeddings) # bi-LSTM shown in Figure 1 of https://arxiv.org/pdf/1612.05251.pdf\n",
        "char_model = tf.keras.Model(inputs=char_inputs,\n",
        "                            outputs=char_bi_lstm)\n",
        "\n",
        "# 3. Concatenate token and char inputs (create hybrid token embedding)\n",
        "token_char_concat = layers.Concatenate(name=\"token_char_hybrid\")([token_model.output,\n",
        "                                                                  char_model.output])\n",
        "\n",
        "# 4. Create output layers - addition of dropout discussed in 4.2 of https://arxiv.org/pdf/1612.05251.pdf\n",
        "combined_dropout = layers.Dropout(0.5)(token_char_concat)\n",
        "combined_dense = layers.Dense(200, activation=\"relu\")(combined_dropout) # slightly different to Figure 1 due to different shapes of token/char embedding layers\n",
        "final_dropout = layers.Dropout(0.5)(combined_dense)\n",
        "output_layer = layers.Dense(num_classes, activation=\"softmax\")(final_dropout)\n",
        "\n",
        "# 5. Construct model with char and token inputs\n",
        "model_4 = tf.keras.Model(inputs=[token_model.input, char_model.input],\n",
        "                         outputs=output_layer,\n",
        "                         name=\"model_4_token_and_char_embeddings\")"
      ],
      "metadata": {
        "id": "KolRw1Jpbwsc"
      },
      "execution_count": null,
      "outputs": []
    },
    {
      "cell_type": "markdown",
      "source": [
        "4.2 ile ilgili olarak; model, stokastik gradyan iniş kullanılarak eğitilir ve her gradyan adımında tüm parametreler, yani jeton yerleştirmeleri, karakter yerleştirmeleri, çift yönlü LSTM parametreleri ve geçiş olasılıkları güncellenir. Düzenleme için, karakter geliştirilmiş token yerleştirmelerine ve etiket tahmin katmanından önce 0,5 oranında bırakma uygulanır.\n",
        "\n",
        "5 --> bu sıralı API ile değil fonksiyonel API ile oluşturduk. Bu yüzden token modeli girişine ihtiyacımız var ve bunu da kullanabilmek için char model girişi kullanılmalı."
      ],
      "metadata": {
        "id": "x6Gorf6M6NTc"
      }
    },
    {
      "cell_type": "code",
      "source": [
        "# Get summary of token and character model\n",
        "model_4.summary()"
      ],
      "metadata": {
        "colab": {
          "base_uri": "https://localhost:8080/"
        },
        "id": "Ocj3Y4TWcQZY",
        "outputId": "50e7abe2-8b2a-46ce-8d4f-50da098ba465"
      },
      "execution_count": null,
      "outputs": [
        {
          "output_type": "stream",
          "name": "stdout",
          "text": [
            "Model: \"model_4_token_and_char_embeddings\"\n",
            "__________________________________________________________________________________________________\n",
            " Layer (type)                Output Shape                 Param #   Connected to                  \n",
            "==================================================================================================\n",
            " char_input (InputLayer)     [(None, 1)]                  0         []                            \n",
            "                                                                                                  \n",
            " token_input (InputLayer)    [(None,)]                    0         []                            \n",
            "                                                                                                  \n",
            " char_vectorizer (TextVecto  (None, 290)                  0         ['char_input[0][0]']          \n",
            " rization)                                                                                        \n",
            "                                                                                                  \n",
            " universal_sentence_encoder  (None, 512)                  2567978   ['token_input[0][0]']         \n",
            "  (KerasLayer)                                            24                                      \n",
            "                                                                                                  \n",
            " char_embed (Embedding)      (None, 290, 25)              1750      ['char_vectorizer[1][0]']     \n",
            "                                                                                                  \n",
            " dense_4 (Dense)             (None, 128)                  65664     ['universal_sentence_encoder[1\n",
            "                                                                    ][0]']                        \n",
            "                                                                                                  \n",
            " bidirectional (Bidirection  (None, 50)                   10200     ['char_embed[1][0]']          \n",
            " al)                                                                                              \n",
            "                                                                                                  \n",
            " token_char_hybrid (Concate  (None, 178)                  0         ['dense_4[0][0]',             \n",
            " nate)                                                               'bidirectional[0][0]']       \n",
            "                                                                                                  \n",
            " dropout (Dropout)           (None, 178)                  0         ['token_char_hybrid[0][0]']   \n",
            "                                                                                                  \n",
            " dense_5 (Dense)             (None, 200)                  35800     ['dropout[0][0]']             \n",
            "                                                                                                  \n",
            " dropout_1 (Dropout)         (None, 200)                  0         ['dense_5[0][0]']             \n",
            "                                                                                                  \n",
            " dense_6 (Dense)             (None, 5)                    1005      ['dropout_1[0][0]']           \n",
            "                                                                                                  \n",
            "==================================================================================================\n",
            "Total params: 256912243 (980.04 MB)\n",
            "Trainable params: 114419 (446.95 KB)\n",
            "Non-trainable params: 256797824 (979.61 MB)\n",
            "__________________________________________________________________________________________________\n"
          ]
        }
      ]
    },
    {
      "cell_type": "markdown",
      "source": [
        "Aslında yapılan iki model oluşturuldu, çıktılar birleştirildi, bir token ve bir karakter çıktısı birleşti ve sonra bunlar üzerine bazı katmanlar ekledik."
      ],
      "metadata": {
        "id": "qMCp9S078bzo"
      }
    },
    {
      "cell_type": "code",
      "source": [
        "# Plot hybrid token and character model\n",
        "from tensorflow.keras.utils import plot_model\n",
        "plot_model(model_4)"
      ],
      "metadata": {
        "colab": {
          "base_uri": "https://localhost:8080/",
          "height": 856
        },
        "id": "l-rI9zaVcTzS",
        "outputId": "e709195e-2422-45c4-e893-f59839ba89bc"
      },
      "execution_count": null,
      "outputs": [
        {
          "output_type": "execute_result",
          "data": {
            "image/png": "[encoded data removed]",
            "text/plain": [
              "<IPython.core.display.Image object>"
            ]
          },
          "metadata": {},
          "execution_count": 76
        }
      ]
    },
    {
      "cell_type": "markdown",
      "source": [
        "Şimdi bu iyi görünümlü bir model. Modellerimizin geri kalanına sahip olduğumuz gibi derleyelim.\n",
        "\n",
        "🔑 Not: Medical Paper Abstracts'ta Ortak Cümle Sınıflandırması için Sinir Ağları Bölüm 4.2, SGD (stokastik gradyan iniş) optimize ediciyi kullanarak bahseder, ancak diğer modellerimizle tutarlı kalmak için Adam optimizer'ı kullanacağız. Bir alıştırma olarak, tf.keras.optimizers.Adam yerine tf.keras.optimizers.SGD kullanmayı deneyebilir ve sonuçları karşılaştırabilirsiniz.\n",
        "\n",
        "- https://arxiv.org/pdf/1612.05251\n",
        "- https://www.tensorflow.org/api_docs/python/tf/keras/optimizers/Adam\n",
        "- https://www.tensorflow.org/api_docs/python/tf/keras/optimizers/SGD"
      ],
      "metadata": {
        "id": "_sdbndzbcbSQ"
      }
    },
    {
      "cell_type": "code",
      "source": [
        "# Compile token char model\n",
        "model_4.compile(loss=\"categorical_crossentropy\",\n",
        "                optimizer=tf.keras.optimizers.Adam(), # section 4.2 of https://arxiv.org/pdf/1612.05251.pdf mentions using SGD but we'll stick with Adam\n",
        "                metrics=[\"accuracy\"])"
      ],
      "metadata": {
        "id": "-8ZbCDMWcW3l"
      },
      "execution_count": null,
      "outputs": []
    },
    {
      "cell_type": "markdown",
      "source": [
        "Ve yine, deneylerimizi hızlı tutmak için, token-character-hybrid modelimizi eğitimin %10'una sığdıracağız ve doğrulama gruplarının %10'unu doğrulayacağız. Bununla birlikte, bu model ile fark, iki girdi, belirteç düzeyinde diziler ve karakter düzeyinde diziler gerektirmesidir.\n",
        "\n",
        "Bunu, ilk girdi olduğu gibi bir demet ile bir tf.data.Dataset oluşturarak yapabiliriz, örneğin:\n",
        "\n",
        "((Token_data, char_data), (etiket))\n",
        "\n",
        "Bunu iş başında görelim."
      ],
      "metadata": {
        "id": "2GgVSsvccsfG"
      }
    },
    {
      "cell_type": "markdown",
      "source": [
        "# Token ve karakter verilerini bir tf.data veri kümesinde birleştirme"
      ],
      "metadata": {
        "id": "C8bnY-p0cwlC"
      }
    },
    {
      "cell_type": "markdown",
      "source": [
        "zip kodu ile iki farklı veri kümesi birleştirilir.\n",
        "\n",
        "hızlı deney yapma hedefiyle val...kodları yazıldı.\n",
        "\n",
        "Token model girdisine ve char model girdisine nasıl sahip olduğumuza dikkat. Token seviyesinde veriler vardı, cümleleri eğittik ve traine aldık. Yani bu modelin inşa edildiği sırayla aynı. Aksi takdirde, farklı bir sırayla iletirsek, modelimiz belirteç seviyesi modelini kullanmaya çalışabilir."
      ],
      "metadata": {
        "id": "KiKHqElwXCL2"
      }
    },
    {
      "cell_type": "code",
      "source": [
        "# Combine chars and tokens into a dataset\n",
        "train_char_token_data = tf.data.Dataset.from_tensor_slices((train_sentences, train_chars)) # make data\n",
        "train_char_token_labels = tf.data.Dataset.from_tensor_slices(train_labels_one_hot) # make labels\n",
        "train_char_token_dataset = tf.data.Dataset.zip((train_char_token_data, train_char_token_labels)) # combine data and labels\n",
        "\n",
        "# Prefetch and batch train data\n",
        "train_char_token_dataset = train_char_token_dataset.batch(32).prefetch(tf.data.AUTOTUNE)\n",
        "\n",
        "# Repeat same steps validation data\n",
        "val_char_token_data = tf.data.Dataset.from_tensor_slices((val_sentences, val_chars))\n",
        "val_char_token_labels = tf.data.Dataset.from_tensor_slices(val_labels_one_hot)\n",
        "val_char_token_dataset = tf.data.Dataset.zip((val_char_token_data, val_char_token_labels))\n",
        "val_char_token_dataset = val_char_token_dataset.batch(32).prefetch(tf.data.AUTOTUNE)"
      ],
      "metadata": {
        "id": "kDNYVk05coau"
      },
      "execution_count": null,
      "outputs": []
    },
    {
      "cell_type": "code",
      "source": [
        "# Check out training char and token embedding dataset\n",
        "train_char_token_dataset, val_char_token_dataset\n"
      ],
      "metadata": {
        "colab": {
          "base_uri": "https://localhost:8080/"
        },
        "id": "qa1QFOg8c4Bc",
        "outputId": "cab062dd-7542-42c4-c2f9-707ebff7155c"
      },
      "execution_count": null,
      "outputs": [
        {
          "output_type": "execute_result",
          "data": {
            "text/plain": [
              "(<_PrefetchDataset element_spec=((TensorSpec(shape=(None,), dtype=tf.string, name=None), TensorSpec(shape=(None,), dtype=tf.string, name=None)), TensorSpec(shape=(None, 5), dtype=tf.float64, name=None))>,\n",
              " <_PrefetchDataset element_spec=((TensorSpec(shape=(None,), dtype=tf.string, name=None), TensorSpec(shape=(None,), dtype=tf.string, name=None)), TensorSpec(shape=(None, 5), dtype=tf.float64, name=None))>)"
            ]
          },
          "metadata": {},
          "execution_count": 79
        }
      ]
    },
    {
      "cell_type": "markdown",
      "source": [
        "# Token ve karakter düzeyindeki dizilere bir model takmak"
      ],
      "metadata": {
        "id": "ZHIxqwrdc_Ui"
      }
    },
    {
      "cell_type": "markdown",
      "source": [
        "hızlı olması için 3 epoch'ta bıraktık.\n",
        "\n",
        "doğrulama veri setinin %10'unu doğrulayacağız."
      ],
      "metadata": {
        "id": "5oTRl-7yZmX6"
      }
    },
    {
      "cell_type": "code",
      "source": [
        "# Fit the model on tokens and chars\n",
        "model_4_history = model_4.fit(train_char_token_dataset, # train on dataset of token and characters\n",
        "                              steps_per_epoch=int(0.1 * len(train_char_token_dataset)),\n",
        "                              epochs=3,\n",
        "                              validation_data=val_char_token_dataset,\n",
        "                              validation_steps=int(0.1 * len(val_char_token_dataset)))"
      ],
      "metadata": {
        "colab": {
          "base_uri": "https://localhost:8080/"
        },
        "id": "jwA__NOCc6Hd",
        "outputId": "6c232b7f-e941-459e-8343-d5e847f0b2c5"
      },
      "execution_count": null,
      "outputs": [
        {
          "output_type": "stream",
          "name": "stdout",
          "text": [
            "Epoch 1/3\n",
            "562/562 [==============================] - 30s 39ms/step - loss: 0.9793 - accuracy: 0.6075 - val_loss: 0.7731 - val_accuracy: 0.6988\n",
            "Epoch 2/3\n",
            "562/562 [==============================] - 21s 37ms/step - loss: 0.7831 - accuracy: 0.6981 - val_loss: 0.7099 - val_accuracy: 0.7304\n",
            "Epoch 3/3\n",
            "562/562 [==============================] - 22s 39ms/step - loss: 0.7649 - accuracy: 0.7089 - val_loss: 0.6822 - val_accuracy: 0.7463\n"
          ]
        }
      ]
    },
    {
      "cell_type": "code",
      "source": [
        "# Evaluate on the whole validation dataset\n",
        "model_4.evaluate(val_char_token_dataset)"
      ],
      "metadata": {
        "colab": {
          "base_uri": "https://localhost:8080/"
        },
        "id": "0kwWgJ1zdCQA",
        "outputId": "588a97c4-9206-4892-d55a-2891402779f8"
      },
      "execution_count": null,
      "outputs": [
        {
          "output_type": "stream",
          "name": "stdout",
          "text": [
            "945/945 [==============================] - 19s 20ms/step - loss: 0.6884 - accuracy: 0.7389\n"
          ]
        },
        {
          "output_type": "execute_result",
          "data": {
            "text/plain": [
              "[0.6884146928787231, 0.7389116883277893]"
            ]
          },
          "metadata": {},
          "execution_count": 81
        }
      ]
    },
    {
      "cell_type": "markdown",
      "source": [
        "Güzel! Jeton-karakter hibrit modelimiz hayat buldu!\n",
        "\n",
        "Onunla tahminlerde bulunmak için, çoklu girdiler aldığı için, predict() yöntemini belirteç düzeyinde diziler ve karakter düzeyinde dizilerden oluşan bir demet geçirebiliriz.\n",
        "\n",
        "Daha sonra tahminleri daha önce yaptığımız gibi değerlendirebiliriz."
      ],
      "metadata": {
        "id": "KakchyjNdKQl"
      }
    },
    {
      "cell_type": "code",
      "source": [
        "# Make predictions using the token-character model hybrid\n",
        "model_4_pred_probs = model_4.predict(val_char_token_dataset)\n",
        "model_4_pred_probs"
      ],
      "metadata": {
        "colab": {
          "base_uri": "https://localhost:8080/"
        },
        "id": "dl25iVI2dHUp",
        "outputId": "2348db92-b41d-425c-ce42-969d9e6d7aa7"
      },
      "execution_count": null,
      "outputs": [
        {
          "output_type": "stream",
          "name": "stdout",
          "text": [
            "945/945 [==============================] - 19s 19ms/step\n"
          ]
        },
        {
          "output_type": "execute_result",
          "data": {
            "text/plain": [
              "array([[4.8437497e-01, 2.8186223e-01, 3.9808974e-03, 2.2409682e-01,\n",
              "        5.6849886e-03],\n",
              "       [3.3021954e-01, 4.8030534e-01, 4.3293838e-03, 1.8304074e-01,\n",
              "        2.1049688e-03],\n",
              "       [2.9702640e-01, 1.3865821e-01, 6.0653888e-02, 4.6788013e-01,\n",
              "        3.5781443e-02],\n",
              "       ...,\n",
              "       [6.0831587e-04, 6.4504277e-03, 5.5881247e-02, 1.7279369e-04,\n",
              "        9.3688720e-01],\n",
              "       [5.5852984e-03, 5.2003253e-02, 1.5944619e-01, 2.8186822e-03,\n",
              "        7.8014660e-01],\n",
              "       [3.7063694e-01, 2.6162291e-01, 2.8209108e-01, 3.9810058e-02,\n",
              "        4.5839034e-02]], dtype=float32)"
            ]
          },
          "metadata": {},
          "execution_count": 82
        }
      ]
    },
    {
      "cell_type": "code",
      "source": [
        "# Turn prediction probabilities into prediction classes\n",
        "model_4_preds = tf.argmax(model_4_pred_probs, axis=1)\n",
        "model_4_preds"
      ],
      "metadata": {
        "colab": {
          "base_uri": "https://localhost:8080/"
        },
        "id": "y_aGMpnJdNk2",
        "outputId": "50c492cb-6e7f-4a0e-c119-1eeaa26ff468"
      },
      "execution_count": null,
      "outputs": [
        {
          "output_type": "execute_result",
          "data": {
            "text/plain": [
              "<tf.Tensor: shape=(30212,), dtype=int64, numpy=array([0, 1, 3, ..., 4, 4, 0])>"
            ]
          },
          "metadata": {},
          "execution_count": 83
        }
      ]
    },
    {
      "cell_type": "code",
      "source": [
        "# Get results of token-char-hybrid model\n",
        "model_4_results = calculate_results(y_true=val_labels_encoded,\n",
        "                                    y_pred=model_4_preds)\n",
        "model_4_results"
      ],
      "metadata": {
        "colab": {
          "base_uri": "https://localhost:8080/"
        },
        "id": "IvVojvpLdPir",
        "outputId": "b64b1bce-47ec-4544-eb25-eed341e6b372"
      },
      "execution_count": null,
      "outputs": [
        {
          "output_type": "execute_result",
          "data": {
            "text/plain": [
              "{'accuracy': 73.89116907189197,\n",
              " 'precision': 0.7376808705274569,\n",
              " 'recall': 0.7389116907189196,\n",
              " 'f1': 0.7363186287619419}"
            ]
          },
          "metadata": {},
          "execution_count": 84
        }
      ]
    },
    {
      "cell_type": "markdown",
      "source": [
        "# Model 5: Önceden eğitilmiş token gömmeleri + karakter gömmeleri + konumsal gömmeler ile Öğrenmeyi Aktarın\n",
        "\n",
        "Token gömmelerini ve karakter gömmelerini birleştirmek modelimize biraz performans artışı sağladı gibi görünüyor.\n",
        "\n",
        "Ama ekleyebileceğimiz bulmacanın bir parçası daha var.\n",
        "\n",
        "Ya kendi özelliklerimizi modele dönüştürseydik?\n",
        "\n",
        "Yani, modelimize örneklerimiz hakkında daha fazla bilgi vermek için veriler hakkında kendi bilgimizi alıp sayısal bir şekilde kodlasaydık ne olur?\n",
        "\n",
        "Bir modele girdi olarak özellikler oluşturmak için kendi bilginizi uygulama sürecine özellik mühendisliği denir.\n",
        "\n",
        "Sınıflandırmaya çalıştığımız diziler hakkında önemli bir şey düşünebiliyor musunuz?\n",
        "\n",
        "Bir özete bakacak olsaydınız, cümlelerin sırayla görünmesini bekler miydiniz? Yoksa sırayla görünmeleri mantıklı mı? Örneğin, begging'de SONUÇLAR olarak etiketlenmiş diziler ve sonunda HEDEF olarak etiketlenmiş diziler?\n",
        "\n",
        "Özetler tipik olarak sıralı bir sırada gelir, örneğin:\n",
        "\n",
        "- OBJECTIVE ...\n",
        "- METHODS ...\n",
        "- METHODS ...\n",
        "- METHODS ...\n",
        "- RESULTS ...\n",
        "- CONCLUSIONS ...\n",
        "\n",
        "ya da;\n",
        "\n",
        "- BACKGROUND ...\n",
        "- OBJECTIVE ...\n",
        "- METHODS ...\n",
        "- METHODS ...\n",
        "- RESULTS ...\n",
        "- RESULTS ...\n",
        "- CONCLUSIONS ...\n",
        "- CONCLUSIONS ...\n",
        "\n",
        "Tabii ki, dizi etiketlerinin kendilerini eğitim verilerine dönüştüremeyiz (test zamanında bunlara sahip değiliz), ancak bir dizi dizinin sırasını soyut olarak kodlayabiliriz.\n",
        "\n",
        "Örneğin,\n",
        "\n",
        "- Sentence 1 of 10 ...\n",
        "- Sentence 2 of 10 ...\n",
        "- Sentence 3 of 10 ...\n",
        "- Sentence 4 of 10 ...\n",
        "\n",
        "Bunu preprocess_text_with_line_numbers() işlevimizi oluşturduğumuzda fark etmiş olabilirsiniz. Bir özet metin dosyasında okuduğumuzda, bir özetteki satır sayısını ve her satırın kendisinin sayısını saydık.\n",
        "\n",
        "Bunu yapmak, DataFrames'lerimizin \"line_number\" ve \"total_lines\" sütunlarına yol açtı.\n"
      ],
      "metadata": {
        "id": "D3r1iQBGdWfJ"
      }
    },
    {
      "cell_type": "markdown",
      "source": [
        "Feature Engineering\n",
        "- Verilerden kesin olmayan özellikleri alıp rakamlara dönüştürme (amaç modelin öğrenmesi).\n",
        "- Modele nasıl fazladan veri kaynağı ekleyebiliriz?\n",
        "\n"
      ],
      "metadata": {
        "id": "CZpfgT3ejFc4"
      }
    },
    {
      "cell_type": "code",
      "source": [
        "# Inspect training dataframe\n",
        "train_df.head()"
      ],
      "metadata": {
        "colab": {
          "base_uri": "https://localhost:8080/",
          "height": 204
        },
        "id": "-IxodTBhdR1f",
        "outputId": "c8739eff-0e71-437b-854a-adee7591b6b8"
      },
      "execution_count": null,
      "outputs": [
        {
          "output_type": "execute_result",
          "data": {
            "text/plain": [
              "      target                                               text  line_number  \\\n",
              "0  OBJECTIVE  to investigate the efficacy of @ weeks of dail...            0   \n",
              "1    METHODS  a total of @ patients with primary knee oa wer...            1   \n",
              "2    METHODS  outcome measures included pain reduction and i...            2   \n",
              "3    METHODS  pain was assessed using the visual analog pain...            3   \n",
              "4    METHODS  secondary outcome measures included the wester...            4   \n",
              "\n",
              "   total_lines  \n",
              "0           11  \n",
              "1           11  \n",
              "2           11  \n",
              "3           11  \n",
              "4           11  "
            ],
            "text/html": [
              "\n",
              "  <div id=\"df-104b53dc-891e-4607-97f2-9b7ff51ac0f1\" class=\"colab-df-container\">\n",
              "    <div>\n",
              "<style scoped>\n",
              "    .dataframe tbody tr th:only-of-type {\n",
              "        vertical-align: middle;\n",
              "    }\n",
              "\n",
              "    .dataframe tbody tr th {\n",
              "        vertical-align: top;\n",
              "    }\n",
              "\n",
              "    .dataframe thead th {\n",
              "        text-align: right;\n",
              "    }\n",
              "</style>\n",
              "<table border=\"1\" class=\"dataframe\">\n",
              "  <thead>\n",
              "    <tr style=\"text-align: right;\">\n",
              "      <th></th>\n",
              "      <th>target</th>\n",
              "      <th>text</th>\n",
              "      <th>line_number</th>\n",
              "      <th>total_lines</th>\n",
              "    </tr>\n",
              "  </thead>\n",
              "  <tbody>\n",
              "    <tr>\n",
              "      <th>0</th>\n",
              "      <td>OBJECTIVE</td>\n",
              "      <td>to investigate the efficacy of @ weeks of dail...</td>\n",
              "      <td>0</td>\n",
              "      <td>11</td>\n",
              "    </tr>\n",
              "    <tr>\n",
              "      <th>1</th>\n",
              "      <td>METHODS</td>\n",
              "      <td>a total of @ patients with primary knee oa wer...</td>\n",
              "      <td>1</td>\n",
              "      <td>11</td>\n",
              "    </tr>\n",
              "    <tr>\n",
              "      <th>2</th>\n",
              "      <td>METHODS</td>\n",
              "      <td>outcome measures included pain reduction and i...</td>\n",
              "      <td>2</td>\n",
              "      <td>11</td>\n",
              "    </tr>\n",
              "    <tr>\n",
              "      <th>3</th>\n",
              "      <td>METHODS</td>\n",
              "      <td>pain was assessed using the visual analog pain...</td>\n",
              "      <td>3</td>\n",
              "      <td>11</td>\n",
              "    </tr>\n",
              "    <tr>\n",
              "      <th>4</th>\n",
              "      <td>METHODS</td>\n",
              "      <td>secondary outcome measures included the wester...</td>\n",
              "      <td>4</td>\n",
              "      <td>11</td>\n",
              "    </tr>\n",
              "  </tbody>\n",
              "</table>\n",
              "</div>\n",
              "    <div class=\"colab-df-buttons\">\n",
              "\n",
              "  <div class=\"colab-df-container\">\n",
              "    <button class=\"colab-df-convert\" onclick=\"convertToInteractive('df-104b53dc-891e-4607-97f2-9b7ff51ac0f1')\"\n",
              "            title=\"Convert this dataframe to an interactive table.\"\n",
              "            style=\"display:none;\">\n",
              "\n",
              "  <svg xmlns=\"http://www.w3.org/2000/svg\" height=\"24px\" viewBox=\"0 -960 960 960\">\n",
              "    <path d=\"M120-120v-720h720v720H120Zm60-500h600v-160H180v160Zm220 220h160v-160H400v160Zm0 220h160v-160H400v160ZM180-400h160v-160H180v160Zm440 0h160v-160H620v160ZM180-180h160v-160H180v160Zm440 0h160v-160H620v160Z\"/>\n",
              "  </svg>\n",
              "    </button>\n",
              "\n",
              "  <style>\n",
              "    .colab-df-container {\n",
              "      display:flex;\n",
              "      gap: 12px;\n",
              "    }\n",
              "\n",
              "    .colab-df-convert {\n",
              "      background-color: #E8F0FE;\n",
              "      border: none;\n",
              "      border-radius: 50%;\n",
              "      cursor: pointer;\n",
              "      display: none;\n",
              "      fill: #1967D2;\n",
              "      height: 32px;\n",
              "      padding: 0 0 0 0;\n",
              "      width: 32px;\n",
              "    }\n",
              "\n",
              "    .colab-df-convert:hover {\n",
              "      background-color: #E2EBFA;\n",
              "      box-shadow: 0px 1px 2px rgba(60, 64, 67, 0.3), 0px 1px 3px 1px rgba(60, 64, 67, 0.15);\n",
              "      fill: #174EA6;\n",
              "    }\n",
              "\n",
              "    .colab-df-buttons div {\n",
              "      margin-bottom: 4px;\n",
              "    }\n",
              "\n",
              "    [theme=dark] .colab-df-convert {\n",
              "      background-color: #3B4455;\n",
              "      fill: #D2E3FC;\n",
              "    }\n",
              "\n",
              "    [theme=dark] .colab-df-convert:hover {\n",
              "      background-color: #434B5C;\n",
              "      box-shadow: 0px 1px 3px 1px rgba(0, 0, 0, 0.15);\n",
              "      filter: drop-shadow(0px 1px 2px rgba(0, 0, 0, 0.3));\n",
              "      fill: #FFFFFF;\n",
              "    }\n",
              "  </style>\n",
              "\n",
              "    <script>\n",
              "      const buttonEl =\n",
              "        document.querySelector('#df-104b53dc-891e-4607-97f2-9b7ff51ac0f1 button.colab-df-convert');\n",
              "      buttonEl.style.display =\n",
              "        google.colab.kernel.accessAllowed ? 'block' : 'none';\n",
              "\n",
              "      async function convertToInteractive(key) {\n",
              "        const element = document.querySelector('#df-104b53dc-891e-4607-97f2-9b7ff51ac0f1');\n",
              "        const dataTable =\n",
              "          await google.colab.kernel.invokeFunction('convertToInteractive',\n",
              "                                                    [key], {});\n",
              "        if (!dataTable) return;\n",
              "\n",
              "        const docLinkHtml = 'Like what you see? Visit the ' +\n",
              "          '<a target=\"_blank\" href=https://colab.research.google.com/notebooks/data_table.ipynb>data table notebook</a>'\n",
              "          + ' to learn more about interactive tables.';\n",
              "        element.innerHTML = '';\n",
              "        dataTable['output_type'] = 'display_data';\n",
              "        await google.colab.output.renderOutput(dataTable, element);\n",
              "        const docLink = document.createElement('div');\n",
              "        docLink.innerHTML = docLinkHtml;\n",
              "        element.appendChild(docLink);\n",
              "      }\n",
              "    </script>\n",
              "  </div>\n",
              "\n",
              "\n",
              "<div id=\"df-2d8f4578-e461-4c79-b5c2-5f1103329e1b\">\n",
              "  <button class=\"colab-df-quickchart\" onclick=\"quickchart('df-2d8f4578-e461-4c79-b5c2-5f1103329e1b')\"\n",
              "            title=\"Suggest charts\"\n",
              "            style=\"display:none;\">\n",
              "\n",
              "<svg xmlns=\"http://www.w3.org/2000/svg\" height=\"24px\"viewBox=\"0 0 24 24\"\n",
              "     width=\"24px\">\n",
              "    <g>\n",
              "        <path d=\"M19 3H5c-1.1 0-2 .9-2 2v14c0 1.1.9 2 2 2h14c1.1 0 2-.9 2-2V5c0-1.1-.9-2-2-2zM9 17H7v-7h2v7zm4 0h-2V7h2v10zm4 0h-2v-4h2v4z\"/>\n",
              "    </g>\n",
              "</svg>\n",
              "  </button>\n",
              "\n",
              "<style>\n",
              "  .colab-df-quickchart {\n",
              "      --bg-color: #E8F0FE;\n",
              "      --fill-color: #1967D2;\n",
              "      --hover-bg-color: #E2EBFA;\n",
              "      --hover-fill-color: #174EA6;\n",
              "      --disabled-fill-color: #AAA;\n",
              "      --disabled-bg-color: #DDD;\n",
              "  }\n",
              "\n",
              "  [theme=dark] .colab-df-quickchart {\n",
              "      --bg-color: #3B4455;\n",
              "      --fill-color: #D2E3FC;\n",
              "      --hover-bg-color: #434B5C;\n",
              "      --hover-fill-color: #FFFFFF;\n",
              "      --disabled-bg-color: #3B4455;\n",
              "      --disabled-fill-color: #666;\n",
              "  }\n",
              "\n",
              "  .colab-df-quickchart {\n",
              "    background-color: var(--bg-color);\n",
              "    border: none;\n",
              "    border-radius: 50%;\n",
              "    cursor: pointer;\n",
              "    display: none;\n",
              "    fill: var(--fill-color);\n",
              "    height: 32px;\n",
              "    padding: 0;\n",
              "    width: 32px;\n",
              "  }\n",
              "\n",
              "  .colab-df-quickchart:hover {\n",
              "    background-color: var(--hover-bg-color);\n",
              "    box-shadow: 0 1px 2px rgba(60, 64, 67, 0.3), 0 1px 3px 1px rgba(60, 64, 67, 0.15);\n",
              "    fill: var(--button-hover-fill-color);\n",
              "  }\n",
              "\n",
              "  .colab-df-quickchart-complete:disabled,\n",
              "  .colab-df-quickchart-complete:disabled:hover {\n",
              "    background-color: var(--disabled-bg-color);\n",
              "    fill: var(--disabled-fill-color);\n",
              "    box-shadow: none;\n",
              "  }\n",
              "\n",
              "  .colab-df-spinner {\n",
              "    border: 2px solid var(--fill-color);\n",
              "    border-color: transparent;\n",
              "    border-bottom-color: var(--fill-color);\n",
              "    animation:\n",
              "      spin 1s steps(1) infinite;\n",
              "  }\n",
              "\n",
              "  @keyframes spin {\n",
              "    0% {\n",
              "      border-color: transparent;\n",
              "      border-bottom-color: var(--fill-color);\n",
              "      border-left-color: var(--fill-color);\n",
              "    }\n",
              "    20% {\n",
              "      border-color: transparent;\n",
              "      border-left-color: var(--fill-color);\n",
              "      border-top-color: var(--fill-color);\n",
              "    }\n",
              "    30% {\n",
              "      border-color: transparent;\n",
              "      border-left-color: var(--fill-color);\n",
              "      border-top-color: var(--fill-color);\n",
              "      border-right-color: var(--fill-color);\n",
              "    }\n",
              "    40% {\n",
              "      border-color: transparent;\n",
              "      border-right-color: var(--fill-color);\n",
              "      border-top-color: var(--fill-color);\n",
              "    }\n",
              "    60% {\n",
              "      border-color: transparent;\n",
              "      border-right-color: var(--fill-color);\n",
              "    }\n",
              "    80% {\n",
              "      border-color: transparent;\n",
              "      border-right-color: var(--fill-color);\n",
              "      border-bottom-color: var(--fill-color);\n",
              "    }\n",
              "    90% {\n",
              "      border-color: transparent;\n",
              "      border-bottom-color: var(--fill-color);\n",
              "    }\n",
              "  }\n",
              "</style>\n",
              "\n",
              "  <script>\n",
              "    async function quickchart(key) {\n",
              "      const quickchartButtonEl =\n",
              "        document.querySelector('#' + key + ' button');\n",
              "      quickchartButtonEl.disabled = true;  // To prevent multiple clicks.\n",
              "      quickchartButtonEl.classList.add('colab-df-spinner');\n",
              "      try {\n",
              "        const charts = await google.colab.kernel.invokeFunction(\n",
              "            'suggestCharts', [key], {});\n",
              "      } catch (error) {\n",
              "        console.error('Error during call to suggestCharts:', error);\n",
              "      }\n",
              "      quickchartButtonEl.classList.remove('colab-df-spinner');\n",
              "      quickchartButtonEl.classList.add('colab-df-quickchart-complete');\n",
              "    }\n",
              "    (() => {\n",
              "      let quickchartButtonEl =\n",
              "        document.querySelector('#df-2d8f4578-e461-4c79-b5c2-5f1103329e1b button');\n",
              "      quickchartButtonEl.style.display =\n",
              "        google.colab.kernel.accessAllowed ? 'block' : 'none';\n",
              "    })();\n",
              "  </script>\n",
              "</div>\n",
              "\n",
              "    </div>\n",
              "  </div>\n"
            ],
            "application/vnd.google.colaboratory.intrinsic+json": {
              "type": "dataframe",
              "variable_name": "train_df"
            }
          },
          "metadata": {},
          "execution_count": 85
        }
      ]
    },
    {
      "cell_type": "markdown",
      "source": [
        "\"Line_number\" ve \"total_lines\" sütunları, mutlaka eğitim verileriyle birlikte gelmeyen, ancak konumsal bir gömme olarak modelimize aktarılabilen özelliklerdir. Başka bir deyişle, konumsal gömme, cümlenin bir soyutta göründüğü yerdir.\n",
        "\n",
        "Bu özellikleri kullanabiliriz çünkü test zamanında mevcut olacaklar."
      ],
      "metadata": {
        "id": "D-7wMGbVd-In"
      }
    },
    {
      "cell_type": "markdown",
      "source": [
        "Özetler tipik olarak onlar hakkında sıralı bir sıraya sahip olduğundan (örneğin, arka plan, amaç, yöntemler, sonuçlar, sonuç), belirli bir cümlenin gerçekleştiği yerin satır numarasını modelimize eklemek mantıklıdır. İşin güzel yanı, bu özellikler test zamanında mevcut olacak (sadece bir özetteki cümle sayısını ve her birinin sayısını sayabiliriz).\n",
        "\n",
        "Yani, modelimizin hiç görmediği bir soyuttaki dizilerin etiketlerini tahmin edecek olsaydık, çizgi sayısını ve her bir çizginin konumunu izleyebilir ve modelimize aktarabilirdik.\n",
        "\n",
        "🛠 Alıştırma: Konumsal gömme özelliğimizi oluşturmanın başka bir yolu, \"line_number\" ve \"toplam_lines\" sütunlarını bir arada birleştirmek olacaktır, örneğin bir \"line_position\" sütunu 1_of_11, 2_of_11, vb. gibi değerler içerebilir. 1_of_11, 11 cümle uzunluğunda bir özetteki ilk satır olacaktır. Aşağıdaki adımlardan geçtikten sonra, bu konumsal gömme aşamasını tekrar gözden geçirmek ve birleşik bir \"line_position\" sütununun iki ayrı sütuna karşı nasıl gittiğini görmek isteyebilirsiniz."
      ],
      "metadata": {
        "id": "xZI-ZVhWeCTR"
      }
    },
    {
      "cell_type": "markdown",
      "source": [
        "# Konumsal gömmeler oluştur\n",
        "\n",
        "Tamam, konumsal gömmeler hakkında yeterince konuşalım, onları oluşturalım.\n",
        "\n",
        "\"Line_number\" ve \"total_line\" sütunlarımız zaten sayısal olduğundan, onları modelimize olduğu gibi geçirebiliriz.\n",
        "\n",
        "Ancak modelimizin \"line_number\"=5 içeren bir satırın \"line_number\"=1 olan bir satırdan beş kat daha büyük olduğunu düşünmekten kaçınmak için, \"line_number\" ve \"total_lines\" özelliklerimizi kodlamak için one-hot-encoding kullanacağız.\n",
        "\n",
        "Bunu yapmak için tf.one_hot yardımcı programını kullanabiliriz.\n",
        "\n",
        "Tf.one_hot, tek sıcak kodlanmış bir tensör döndürür. Bir diziyi (veya tensörü) girdi olarak kabul eder ve derinlik parametresi döndürülen tensörün boyutunu belirler.\n",
        "\n",
        "Derinlik parametresini neye ayarlamamız gerektiğini bulmak için, \"line_number\" sütununun dağılımını araştıralım.\n",
        "\n",
        "🔑 Not: Özelliklerimizi tek sıcak kodlama söz konusu olduğunda, Scikit-Learn'in OneHotEncoder sınıfı burada başka bir uygulanabilir seçenektir. https://scikit-learn.org/stable/modules/generated/sklearn.preprocessing.OneHotEncoder.html"
      ],
      "metadata": {
        "id": "zHCtgKt7eMeV"
      }
    },
    {
      "cell_type": "markdown",
      "source": [
        "Özellik mühendisliği uygulanırken satır numaraları (cümle nolar, her cümle 1 satır diye geçiyor burada) kullanılmalı mı?\n",
        "\n",
        " Bir model yalnızca eğitildiği formatta veriler üzerinde gerçekleştirebilir veya tahminlerde bulunabilir.\n",
        "\n",
        "Aksi durumda chorme gibi farklı tarayıcılarda sorun çıkabilir?\n",
        "\n",
        " Özellik mühendisliği test zamanında erişilebilir olmalı.\n",
        " - line numbers\n",
        " - toyal lines\n",
        "\n"
      ],
      "metadata": {
        "id": "BD9hGXiqzFT-"
      }
    },
    {
      "cell_type": "code",
      "source": [
        "# How many different line numbers are there?\n",
        "train_df[\"line_number\"].value_counts()"
      ],
      "metadata": {
        "colab": {
          "base_uri": "https://localhost:8080/"
        },
        "id": "X0O1zaN7d6C0",
        "outputId": "35f0973a-90ab-4fdf-f176-7bec38329901"
      },
      "execution_count": null,
      "outputs": [
        {
          "output_type": "execute_result",
          "data": {
            "text/plain": [
              "line_number\n",
              "0     15000\n",
              "1     15000\n",
              "2     15000\n",
              "3     15000\n",
              "4     14992\n",
              "5     14949\n",
              "6     14758\n",
              "7     14279\n",
              "8     13346\n",
              "9     11981\n",
              "10    10041\n",
              "11     7892\n",
              "12     5853\n",
              "13     4152\n",
              "14     2835\n",
              "15     1861\n",
              "16     1188\n",
              "17      751\n",
              "18      462\n",
              "19      286\n",
              "20      162\n",
              "21      101\n",
              "22       66\n",
              "23       33\n",
              "24       22\n",
              "25       14\n",
              "26        7\n",
              "27        4\n",
              "28        3\n",
              "29        1\n",
              "30        1\n",
              "Name: count, dtype: int64"
            ]
          },
          "metadata": {},
          "execution_count": 86
        }
      ]
    },
    {
      "cell_type": "code",
      "source": [
        "# Check the distribution of \"line_number\" column\n",
        "train_df.line_number.plot.hist()"
      ],
      "metadata": {
        "colab": {
          "base_uri": "https://localhost:8080/",
          "height": 447
        },
        "id": "a6iQ2mx0eSns",
        "outputId": "dd0d3f91-2aa5-4890-a300-b4d52a632cf7"
      },
      "execution_count": null,
      "outputs": [
        {
          "output_type": "execute_result",
          "data": {
            "text/plain": [
              "<Axes: ylabel='Frequency'>"
            ]
          },
          "metadata": {},
          "execution_count": 87
        },
        {
          "output_type": "display_data",
          "data": {
            "text/plain": [
              "<Figure size 640x480 with 1 Axes>"
            ],
            "image/png": "[encoded data removed]"
          },
          "metadata": {}
        }
      ]
    },
    {
      "cell_type": "markdown",
      "source": [
        "\"Line_number\" sütununun dağılımına bakıldığında, satırların çoğunluğunun 15 veya daha az konumu var gibi görünüyor.\n",
        "\n",
        "Bunu bilerek, tf.one_hot'un derinlik parametresini 15 olarak ayarlayalım."
      ],
      "metadata": {
        "id": "SC26IbdcebH1"
      }
    },
    {
      "cell_type": "code",
      "source": [
        "# Use TensorFlow to create one-hot-encoded tensors of our \"line_number\" column\n",
        "train_line_numbers_one_hot = tf.one_hot(train_df[\"line_number\"].to_numpy(), depth=15)\n",
        "val_line_numbers_one_hot = tf.one_hot(val_df[\"line_number\"].to_numpy(), depth=15)\n",
        "test_line_numbers_one_hot = tf.one_hot(test_df[\"line_number\"].to_numpy(), depth=15)"
      ],
      "metadata": {
        "id": "yfiG6bnQeXRa"
      },
      "execution_count": null,
      "outputs": []
    },
    {
      "cell_type": "markdown",
      "source": [
        "Tf.one_hot'un derinlik parametresini 15'e ayarlamak, \"line_number\" değeri 15'in üzerinde olan herhangi bir numunenin tüm 0'ların tensörüne ayarlandığı anlamına gelir; burada 15'in altındaki \"satır_number\" olan herhangi bir örnek, tüm 0'ların tensörüne dönüşür, ancak dizinde \"line_number\" değerine eşit bir 1 ile.\n",
        "\n",
        "🔑 Not: \"line_number\" (derinlik=30) tüm potansiyel değerleri için yer olan tek sıcak bir tensör oluşturabiliriz, ancak bu, değerlerin büyük çoğunluğunun 0 olduğu mevcut olanın (derinlik=15) iki katı büyüklüğünde bir tensörle sonuçlanır. Ayrıca, yalnızca ~2.000/180.000 örnek 15'in üzerinde bir \"satır_numarası\" değerine sahiptir. Bu nedenle, özellik alanımızı ikiye katlamak için verilerimiz hakkında fazla bilgi edinmezdik. Bu tür bir soruna boyutsallığın laneti denir. Ancak, bu derin modellerle çalıştığımız için, modele mümkün olduğunca fazla bilgi atmaya ve ne olduğunu görmeye değer olabilir. Derinlik parametresinin değerlerini bir uzantı olarak keşfetmeyi bırakacağım."
      ],
      "metadata": {
        "id": "L2FYTBbSei6A"
      }
    },
    {
      "cell_type": "code",
      "source": [
        "# Check one-hot encoded \"line_number\" feature samples\n",
        "train_line_numbers_one_hot.shape, train_line_numbers_one_hot[:20]"
      ],
      "metadata": {
        "colab": {
          "base_uri": "https://localhost:8080/"
        },
        "id": "GArI6bLgediS",
        "outputId": "42a76e31-6435-4131-d203-15e10343cd6f"
      },
      "execution_count": null,
      "outputs": [
        {
          "output_type": "execute_result",
          "data": {
            "text/plain": [
              "(TensorShape([180040, 15]),\n",
              " <tf.Tensor: shape=(20, 15), dtype=float32, numpy=\n",
              " array([[1., 0., 0., 0., 0., 0., 0., 0., 0., 0., 0., 0., 0., 0., 0.],\n",
              "        [0., 1., 0., 0., 0., 0., 0., 0., 0., 0., 0., 0., 0., 0., 0.],\n",
              "        [0., 0., 1., 0., 0., 0., 0., 0., 0., 0., 0., 0., 0., 0., 0.],\n",
              "        [0., 0., 0., 1., 0., 0., 0., 0., 0., 0., 0., 0., 0., 0., 0.],\n",
              "        [0., 0., 0., 0., 1., 0., 0., 0., 0., 0., 0., 0., 0., 0., 0.],\n",
              "        [0., 0., 0., 0., 0., 1., 0., 0., 0., 0., 0., 0., 0., 0., 0.],\n",
              "        [0., 0., 0., 0., 0., 0., 1., 0., 0., 0., 0., 0., 0., 0., 0.],\n",
              "        [0., 0., 0., 0., 0., 0., 0., 1., 0., 0., 0., 0., 0., 0., 0.],\n",
              "        [0., 0., 0., 0., 0., 0., 0., 0., 1., 0., 0., 0., 0., 0., 0.],\n",
              "        [0., 0., 0., 0., 0., 0., 0., 0., 0., 1., 0., 0., 0., 0., 0.],\n",
              "        [0., 0., 0., 0., 0., 0., 0., 0., 0., 0., 1., 0., 0., 0., 0.],\n",
              "        [0., 0., 0., 0., 0., 0., 0., 0., 0., 0., 0., 1., 0., 0., 0.],\n",
              "        [1., 0., 0., 0., 0., 0., 0., 0., 0., 0., 0., 0., 0., 0., 0.],\n",
              "        [0., 1., 0., 0., 0., 0., 0., 0., 0., 0., 0., 0., 0., 0., 0.],\n",
              "        [0., 0., 1., 0., 0., 0., 0., 0., 0., 0., 0., 0., 0., 0., 0.],\n",
              "        [0., 0., 0., 1., 0., 0., 0., 0., 0., 0., 0., 0., 0., 0., 0.],\n",
              "        [0., 0., 0., 0., 1., 0., 0., 0., 0., 0., 0., 0., 0., 0., 0.],\n",
              "        [0., 0., 0., 0., 0., 1., 0., 0., 0., 0., 0., 0., 0., 0., 0.],\n",
              "        [0., 0., 0., 0., 0., 0., 1., 0., 0., 0., 0., 0., 0., 0., 0.],\n",
              "        [0., 0., 0., 0., 0., 0., 0., 1., 0., 0., 0., 0., 0., 0., 0.]],\n",
              "       dtype=float32)>)"
            ]
          },
          "metadata": {},
          "execution_count": 89
        }
      ]
    },
    {
      "cell_type": "markdown",
      "source": [
        "\"Toplam_satır\" sütunuyla \"satır_numarası\" sütunumuz için yaptığımızın aynısını yapabiliriz. İlk olarak, tf.one_hot'un derinlik parametresi için uygun bir değer bulalım."
      ],
      "metadata": {
        "id": "9930EtAseqLI"
      }
    },
    {
      "cell_type": "code",
      "source": [
        "# How many different numbers of lines are there?\n",
        "train_df[\"total_lines\"].value_counts()"
      ],
      "metadata": {
        "colab": {
          "base_uri": "https://localhost:8080/"
        },
        "id": "1Zfyx0ixemHw",
        "outputId": "5758b903-4104-43c8-8055-8d49a97c1566"
      },
      "execution_count": null,
      "outputs": [
        {
          "output_type": "execute_result",
          "data": {
            "text/plain": [
              "total_lines\n",
              "11    24468\n",
              "10    23639\n",
              "12    22113\n",
              "9     19400\n",
              "13    18438\n",
              "14    14610\n",
              "8     12285\n",
              "15    10768\n",
              "7      7464\n",
              "16     7429\n",
              "17     5202\n",
              "6      3353\n",
              "18     3344\n",
              "19     2480\n",
              "20     1281\n",
              "5      1146\n",
              "21      770\n",
              "22      759\n",
              "23      264\n",
              "4       215\n",
              "24      200\n",
              "25      182\n",
              "26       81\n",
              "28       58\n",
              "3        32\n",
              "30       31\n",
              "27       28\n",
              "Name: count, dtype: int64"
            ]
          },
          "metadata": {},
          "execution_count": 90
        }
      ]
    },
    {
      "cell_type": "code",
      "source": [
        "# Check the distribution of total lines\n",
        "train_df.total_lines.plot.hist();"
      ],
      "metadata": {
        "colab": {
          "base_uri": "https://localhost:8080/",
          "height": 431
        },
        "id": "0DtCv4D0essB",
        "outputId": "5ada9083-f9a0-4a20-8548-4ec1fe0a6347"
      },
      "execution_count": null,
      "outputs": [
        {
          "output_type": "display_data",
          "data": {
            "text/plain": [
              "<Figure size 640x480 with 1 Axes>"
            ],
            "image/png": "[encoded data removed]"
          },
          "metadata": {}
        }
      ]
    },
    {
      "cell_type": "markdown",
      "source": [
        "\"Total_lines\" sütunumuzun dağılımına bakıldığında, 20 değeri örneklerin çoğunu kapsıyor gibi görünüyor.\n",
        "\n",
        "Bunu np.percentile() ile doğrulayabiliriz. https://numpy.org/doc/stable/reference/generated/numpy.percentile.html"
      ],
      "metadata": {
        "id": "ap6vQeYee0aF"
      }
    },
    {
      "cell_type": "code",
      "source": [
        "# Check the coverage of a \"total_lines\" value of 20\n",
        "np.percentile(train_df.total_lines, 98) # a value of 20 covers 98% of samples"
      ],
      "metadata": {
        "colab": {
          "base_uri": "https://localhost:8080/"
        },
        "id": "9Dhl-L_SexBP",
        "outputId": "8b90887f-98c5-4e7d-8eb0-8bdb32d1de24"
      },
      "execution_count": null,
      "outputs": [
        {
          "output_type": "execute_result",
          "data": {
            "text/plain": [
              "20.0"
            ]
          },
          "metadata": {},
          "execution_count": 92
        }
      ]
    },
    {
      "cell_type": "markdown",
      "source": [
        "Güzel! Bolca yakınsama. \"Total_lines\" sütunumuzu tıpkı \"line_number\" sütunumuzu yaptığımız gibi tek-sıcak kodlayalım."
      ],
      "metadata": {
        "id": "m8KPq5_Be-cB"
      }
    },
    {
      "cell_type": "code",
      "source": [
        "# Use TensorFlow to create one-hot-encoded tensors of our \"total_lines\" column\n",
        "train_total_lines_one_hot = tf.one_hot(train_df[\"total_lines\"].to_numpy(), depth=20)\n",
        "val_total_lines_one_hot = tf.one_hot(val_df[\"total_lines\"].to_numpy(), depth=20)\n",
        "test_total_lines_one_hot = tf.one_hot(test_df[\"total_lines\"].to_numpy(), depth=20)\n",
        "\n",
        "# Check shape and samples of total lines one-hot tensor\n",
        "train_total_lines_one_hot.shape, train_total_lines_one_hot[:10]"
      ],
      "metadata": {
        "colab": {
          "base_uri": "https://localhost:8080/"
        },
        "id": "x1u1sw-Ve59o",
        "outputId": "60abbc1b-5aac-45a5-bd3f-80660ab8a4a9"
      },
      "execution_count": null,
      "outputs": [
        {
          "output_type": "execute_result",
          "data": {
            "text/plain": [
              "(TensorShape([180040, 20]),\n",
              " <tf.Tensor: shape=(10, 20), dtype=float32, numpy=\n",
              " array([[0., 0., 0., 0., 0., 0., 0., 0., 0., 0., 0., 1., 0., 0., 0., 0.,\n",
              "         0., 0., 0., 0.],\n",
              "        [0., 0., 0., 0., 0., 0., 0., 0., 0., 0., 0., 1., 0., 0., 0., 0.,\n",
              "         0., 0., 0., 0.],\n",
              "        [0., 0., 0., 0., 0., 0., 0., 0., 0., 0., 0., 1., 0., 0., 0., 0.,\n",
              "         0., 0., 0., 0.],\n",
              "        [0., 0., 0., 0., 0., 0., 0., 0., 0., 0., 0., 1., 0., 0., 0., 0.,\n",
              "         0., 0., 0., 0.],\n",
              "        [0., 0., 0., 0., 0., 0., 0., 0., 0., 0., 0., 1., 0., 0., 0., 0.,\n",
              "         0., 0., 0., 0.],\n",
              "        [0., 0., 0., 0., 0., 0., 0., 0., 0., 0., 0., 1., 0., 0., 0., 0.,\n",
              "         0., 0., 0., 0.],\n",
              "        [0., 0., 0., 0., 0., 0., 0., 0., 0., 0., 0., 1., 0., 0., 0., 0.,\n",
              "         0., 0., 0., 0.],\n",
              "        [0., 0., 0., 0., 0., 0., 0., 0., 0., 0., 0., 1., 0., 0., 0., 0.,\n",
              "         0., 0., 0., 0.],\n",
              "        [0., 0., 0., 0., 0., 0., 0., 0., 0., 0., 0., 1., 0., 0., 0., 0.,\n",
              "         0., 0., 0., 0.],\n",
              "        [0., 0., 0., 0., 0., 0., 0., 0., 0., 0., 0., 1., 0., 0., 0., 0.,\n",
              "         0., 0., 0., 0.]], dtype=float32)>)"
            ]
          },
          "metadata": {},
          "execution_count": 93
        }
      ]
    },
    {
      "cell_type": "markdown",
      "source": [
        "20'den büyük değerin burada karşılığı olmayacak sıfırlar olur."
      ],
      "metadata": {
        "id": "eU62QdaZ49AY"
      }
    },
    {
      "cell_type": "markdown",
      "source": [
        "# Tribrid gömme modeli oluşturma\n",
        "\n",
        "Konumsal gömme tensörleri hazır.\n",
        "\n",
        "Şimdiye kadar inşa ettiğimiz en büyük modeli inşa etme zamanı. Token gömmeleri, karakter gömmeleri ve yeni hazırlanmış konumsal gömmelerimizi içeren bir tane.\n",
        "\n",
        "Keşfedilmiş bölgeye gireceğiz ama burada daha önce uygulamadığınız hiçbir şey olmayacak.\n",
        "\n",
        "Daha spesifik olarak aşağıdaki adımlardan geçeceğiz:\n",
        "\n",
        "1. Token düzeyinde bir model oluşturun (model_1'e benzer)\n",
        "\n",
        "2. Karakter düzeyinde bir model oluşturun (kağıdı yansıtmak için hafif bir değişiklikle model_3'e benzer)\n",
        "\n",
        "3. Bir \"line_number\" modeli oluşturun (tek-sıcak kodlanmış \"line_number\" tensörünü alır ve doğrusal olmayan bir katmandan geçirir)\n",
        "\n",
        "4. Bir \"total_lines\" modeli oluşturun (tek-sıcak kodlu \"total_lines\" tensörü alır ve doğrusal olmayan bir katmandan geçirir)\n",
        "\n",
        "5. 1 ve 2'nin çıktılarını bir token-karakter-hibrit gömme içinde birleştirin (katmanlar kullanarak. Birleştirin) ve Tıbbi Kağıt Özetlerinde Ortak Cümle Sınıflandırması için Sinir Ağları'nın Şekil 1 ve bölüm 4.2'sine çıktı serisini iletin https://www.tensorflow.org/api_docs/python/tf/keras/layers/Concatenate\n",
        "\n",
        "6. 3, 4 ve 5'in çıktılarını bir token-karakter-konumsal tribrid gömmede birleştirin (katmanlar kullanarak. Birleştirin)\n",
        "\n",
        "7. Tribrid gömme ve çıkış tahmin edilen etiket olasılıklarını kabul etmek için bir çıktı katmanı oluşturun\n",
        "\n",
        "8. 1, 2, 3, 4 girişlerini ve 7'nin çıkışlarını bir tf.keras.Model'de birleştirin https://www.tensorflow.org/api_docs/python/tf/keras/Model\n",
        "\n",
        "https://arxiv.org/pdf/1612.05251"
      ],
      "metadata": {
        "id": "X9rlUpO9fHf-"
      }
    },
    {
      "cell_type": "markdown",
      "source": [
        "LSTM(32) dokümandan gelir, videoda 24 yapmış gerekçesi de karakter gömme token 50 ike 25 alıyor, ama 8'in katlarını tercih etmek için bunu uyguluyor.\n",
        "\n",
        "train_line_numbers_one_hot[0].shape --> 15\n",
        "\n",
        "train_total_lines_one_hot.shape --> (180040,20)\n",
        "\n",
        "4'te model ismi y diye adlandırıldı, x ile karıştırmamamk için. Ayrıca 32'lik özellik vektörüne gömülme olur."
      ],
      "metadata": {
        "id": "1v9H-a3jFrhd"
      }
    },
    {
      "cell_type": "code",
      "source": [
        "# 1. Token inputs\n",
        "token_inputs = layers.Input(shape=[], dtype=\"string\", name=\"token_inputs\")\n",
        "token_embeddings = tf_hub_embedding_layer(token_inputs)\n",
        "token_outputs = layers.Dense(128, activation=\"relu\")(token_embeddings)\n",
        "token_model = tf.keras.Model(inputs=token_inputs,\n",
        "                             outputs=token_outputs)\n",
        "\n",
        "# 2. Char inputs\n",
        "char_inputs = layers.Input(shape=(1,), dtype=\"string\", name=\"char_inputs\")\n",
        "char_vectors = char_vectorizer(char_inputs)\n",
        "char_embeddings = char_embed(char_vectors)\n",
        "char_bi_lstm = layers.Bidirectional(layers.LSTM(32))(char_embeddings)\n",
        "char_model = tf.keras.Model(inputs=char_inputs,\n",
        "                            outputs=char_bi_lstm)\n",
        "\n",
        "# 3. Line numbers inputs\n",
        "line_number_inputs = layers.Input(shape=(15,), dtype=tf.int32, name=\"line_number_input\")\n",
        "x = layers.Dense(32, activation=\"relu\")(line_number_inputs)\n",
        "line_number_model = tf.keras.Model(inputs=line_number_inputs,\n",
        "                                   outputs=x)\n",
        "\n",
        "# 4. Total lines inputs\n",
        "total_lines_inputs = layers.Input(shape=(20,), dtype=tf.int32, name=\"total_lines_input\")\n",
        "y = layers.Dense(32, activation=\"relu\")(total_lines_inputs)\n",
        "total_line_model = tf.keras.Model(inputs=total_lines_inputs,\n",
        "                                  outputs=y)\n",
        "\n",
        "# 5. Combine token and char embeddings into a hybrid embedding\n",
        "combined_embeddings = layers.Concatenate(name=\"token_char_hybrid_embedding\")([token_model.output,\n",
        "                                                                              char_model.output])\n",
        "z = layers.Dense(256, activation=\"relu\")(combined_embeddings)\n",
        "z = layers.Dropout(0.5)(z)\n",
        "\n",
        "# 6. Combine positional embeddings with combined token and char embeddings into a tribrid embedding\n",
        "z = layers.Concatenate(name=\"token_char_positional_embedding\")([line_number_model.output,\n",
        "                                                                total_line_model.output,\n",
        "                                                                z])\n",
        "\n",
        "# 7. Create output layer\n",
        "output_layer = layers.Dense(5, activation=\"softmax\", name=\"output_layer\")(z)\n",
        "\n",
        "# 8. Put together model\n",
        "model_5 = tf.keras.Model(inputs=[line_number_model.input,\n",
        "                                 total_line_model.input,\n",
        "                                 token_model.input,\n",
        "                                 char_model.input],\n",
        "                         outputs=output_layer)"
      ],
      "metadata": {
        "id": "oqPn9X3-fBXK"
      },
      "execution_count": null,
      "outputs": []
    },
    {
      "cell_type": "markdown",
      "source": [
        "8'de bunların sırası, satır numarası, token girişi vs karakteri hatırlamak için önemli.\n",
        "\n",
        "summary bir sıralı model biri görünüyor."
      ],
      "metadata": {
        "id": "rRAJPuv3NuN5"
      }
    },
    {
      "cell_type": "code",
      "source": [
        "# Get a summary of our token, char and positional embedding model\n",
        "model_5.summary()"
      ],
      "metadata": {
        "colab": {
          "base_uri": "https://localhost:8080/"
        },
        "id": "dNA1iHizfoJV",
        "outputId": "7f1a4397-a14d-4e79-a293-512a1e5af9a1"
      },
      "execution_count": null,
      "outputs": [
        {
          "output_type": "stream",
          "name": "stdout",
          "text": [
            "Model: \"model_8\"\n",
            "__________________________________________________________________________________________________\n",
            " Layer (type)                Output Shape                 Param #   Connected to                  \n",
            "==================================================================================================\n",
            " char_inputs (InputLayer)    [(None, 1)]                  0         []                            \n",
            "                                                                                                  \n",
            " token_inputs (InputLayer)   [(None,)]                    0         []                            \n",
            "                                                                                                  \n",
            " char_vectorizer (TextVecto  (None, 290)                  0         ['char_inputs[0][0]']         \n",
            " rization)                                                                                        \n",
            "                                                                                                  \n",
            " universal_sentence_encoder  (None, 512)                  2567978   ['token_inputs[0][0]']        \n",
            "  (KerasLayer)                                            24                                      \n",
            "                                                                                                  \n",
            " char_embed (Embedding)      (None, 290, 25)              1750      ['char_vectorizer[2][0]']     \n",
            "                                                                                                  \n",
            " dense_7 (Dense)             (None, 128)                  65664     ['universal_sentence_encoder[2\n",
            "                                                                    ][0]']                        \n",
            "                                                                                                  \n",
            " bidirectional_1 (Bidirecti  (None, 64)                   14848     ['char_embed[2][0]']          \n",
            " onal)                                                                                            \n",
            "                                                                                                  \n",
            " token_char_hybrid_embeddin  (None, 192)                  0         ['dense_7[0][0]',             \n",
            " g (Concatenate)                                                     'bidirectional_1[0][0]']     \n",
            "                                                                                                  \n",
            " line_number_input (InputLa  [(None, 15)]                 0         []                            \n",
            " yer)                                                                                             \n",
            "                                                                                                  \n",
            " total_lines_input (InputLa  [(None, 20)]                 0         []                            \n",
            " yer)                                                                                             \n",
            "                                                                                                  \n",
            " dense_10 (Dense)            (None, 256)                  49408     ['token_char_hybrid_embedding[\n",
            "                                                                    0][0]']                       \n",
            "                                                                                                  \n",
            " dense_8 (Dense)             (None, 32)                   512       ['line_number_input[0][0]']   \n",
            "                                                                                                  \n",
            " dense_9 (Dense)             (None, 32)                   672       ['total_lines_input[0][0]']   \n",
            "                                                                                                  \n",
            " dropout_2 (Dropout)         (None, 256)                  0         ['dense_10[0][0]']            \n",
            "                                                                                                  \n",
            " token_char_positional_embe  (None, 320)                  0         ['dense_8[0][0]',             \n",
            " dding (Concatenate)                                                 'dense_9[0][0]',             \n",
            "                                                                     'dropout_2[0][0]']           \n",
            "                                                                                                  \n",
            " output_layer (Dense)        (None, 5)                    1605      ['token_char_positional_embedd\n",
            "                                                                    ing[0][0]']                   \n",
            "                                                                                                  \n",
            "==================================================================================================\n",
            "Total params: 256932283 (980.12 MB)\n",
            "Trainable params: 134459 (525.23 KB)\n",
            "Non-trainable params: 256797824 (979.61 MB)\n",
            "__________________________________________________________________________________________________\n"
          ]
        }
      ]
    },
    {
      "cell_type": "markdown",
      "source": [
        "* char_inputs --> karakter gömme\n",
        "* token_inputs --> token dömme\n",
        "* line_number_input ve total_line_input --> özellik gömme\n"
      ],
      "metadata": {
        "id": "enxU6Qp_fz3N"
      }
    },
    {
      "cell_type": "code",
      "source": [
        "# Plot the token, char, positional embedding model\n",
        "from tensorflow.keras.utils import plot_model\n",
        "plot_model(model_5)"
      ],
      "metadata": {
        "colab": {
          "base_uri": "https://localhost:8080/",
          "height": 856
        },
        "id": "CjaOGsiIfruq",
        "outputId": "ee0695f8-749a-454b-ea4a-8dccaec8a0d8"
      },
      "execution_count": null,
      "outputs": [
        {
          "output_type": "execute_result",
          "data": {
            "image/png": "[encoded data removed]",
            "text/plain": [
              "<IPython.core.display.Image object>"
            ]
          },
          "metadata": {},
          "execution_count": 96
        }
      ]
    },
    {
      "cell_type": "markdown",
      "source": [
        "Modeli görselleştirmek, anlaşılmayı çok daha kolay hale getirir.\n",
        "\n",
        "Esasen yaptığımız şey, dizilerimiz hakkında mümkün olduğunca fazla bilgiyi çeşitli gömmelere (modelimize girdiler) kodlamaya çalışmaktır, böylece modelimiz hangi etiketin bir diziye (modelimizin çıktıları) ait olduğunu bulmak için en iyi şansa sahiptir.\n",
        "\n",
        "Modelimizin, Tıbbi Kağıt Özetlerinde Ortak Cümle Sınıflandırması için Sinir Ağları Şekil 1'de gösterilen modele çok benzediğini fark edeceksiniz. Ancak, hala birkaç fark devam ediyor: https://arxiv.org/pdf/1612.05251\n",
        "\n",
        "- GloVe emebdding'ler yerine önceden eğitilmiş TensorFlow Hub belirteç gömmeleri kullanıyoruz.\n",
        "\n",
        "- Bi-LSTM katmanı yerine token-karakter hibrit gömmelerimizin üzerinde yoğun bir katman kullanıyoruz.\n",
        "\n",
        "- Makalenin Bölüm 3.1.3'ü, bir etiket dizisi optimizasyon katmanından bahseder (bu, dizi etiketlerinin saygın bir sırayla çıkmasını sağlamaya yardımcı olur) ancak Şekil 1'de gösterilmez. Modelimizde bu katmanın eksikliği için makyaj yapmak için konumsal gömme katmanlarını oluşturduk.\n",
        "\n",
        "- Makalenin 4.2. Bölümü, belirteç ve karakter gömmelerinin eğitim sırasında güncellendiğinden bahseder, önceden eğitilmiş TensorFlow Hub gömmelerimiz donmuş kalır.\n",
        "\n",
        "- Kağıt SGD optimize ediciyi kullanıyor, Adam'a bağlı kalacağız.\n",
        "\n",
        "- https://www.tensorflow.org/api_docs/python/tf/keras/optimizers/SGD\n",
        "- https://www.tensorflow.org/api_docs/python/tf/keras/optimizers/Adam\n",
        "\n",
        "Yukarıdaki tüm farklılıklar bu projenin potansiyel uzantılarıdır."
      ],
      "metadata": {
        "id": "q8fKdPN2fynV"
      }
    },
    {
      "cell_type": "code",
      "source": [
        "# Check which layers of our model are trainable or not\n",
        "for layer in model_5.layers:\n",
        "  print(layer, layer.trainable)"
      ],
      "metadata": {
        "colab": {
          "base_uri": "https://localhost:8080/"
        },
        "id": "7XwffreUfueY",
        "outputId": "e7f5f67b-c13d-4190-988a-44c9352cdb80"
      },
      "execution_count": null,
      "outputs": [
        {
          "output_type": "stream",
          "name": "stdout",
          "text": [
            "<keras.src.engine.input_layer.InputLayer object at 0x79c0a0f934c0> True\n",
            "<keras.src.engine.input_layer.InputLayer object at 0x79c145d13ee0> True\n",
            "<keras.src.layers.preprocessing.text_vectorization.TextVectorization object at 0x79c16b965390> True\n",
            "<tensorflow_hub.keras_layer.KerasLayer object at 0x79c15411d6f0> False\n",
            "<keras.src.layers.core.embedding.Embedding object at 0x79c0a0cfb4f0> True\n",
            "<keras.src.layers.core.dense.Dense object at 0x79c145f3bd30> True\n",
            "<keras.src.layers.rnn.bidirectional.Bidirectional object at 0x79c145d10730> True\n",
            "<keras.src.layers.merging.concatenate.Concatenate object at 0x79c145ee2410> True\n",
            "<keras.src.engine.input_layer.InputLayer object at 0x79c145ec2d10> True\n",
            "<keras.src.engine.input_layer.InputLayer object at 0x79c145d138e0> True\n",
            "<keras.src.layers.core.dense.Dense object at 0x79c145db2050> True\n",
            "<keras.src.layers.core.dense.Dense object at 0x79c145ea42b0> True\n",
            "<keras.src.layers.core.dense.Dense object at 0x79c145ec31c0> True\n",
            "<keras.src.layers.regularization.dropout.Dropout object at 0x79c0a1825ae0> True\n",
            "<keras.src.layers.merging.concatenate.Concatenate object at 0x79c145d033a0> True\n",
            "<keras.src.layers.core.dense.Dense object at 0x79c145c3fc40> True\n"
          ]
        }
      ]
    },
    {
      "cell_type": "markdown",
      "source": [
        "Şimdi modelimiz inşa edildi, derleyelim.\n",
        "\n",
        "Bu sefer, kayıp fonksiyonumuza label_smoothing adlı yeni bir parametre tanıtacağız. Etiket yumuşatma, bir örneğe belirli bir etiket uygulamaya çok fazla odaklanmadığından emin olarak modelimizi düzenlemeye (aşırı takmayı önlemeye) yardımcı olur.\n",
        "\n",
        "Örneğin, bir çıktı tahminine sahip olmak yerine:\n",
        "\n",
        "- Bir numune için [0.0, 0.0, 1.0, 0.0, 0.0] (model, doğru etiketin indeks 2 olduğundan çok emindir).\n",
        "\n",
        "Tahminler şöyle bir şey olacak şekilde yumuşatılacak:\n",
        "\n",
        "- [0.01, 0.01, 0.096, 0.01, 0.01] diğer etiketlerin her birine küçük bir aktivasyon vererek, umarım genellemeyi iyileştirir.\n",
        "\n",
        "📖 Kaynak: Etiket yumuşatma hakkında daha fazla bilgi için, PyImageSearch'ün harika blog gönderisine bakın, Keras, TensorFlow ve Deep Learning ile etiket yumuşatma. https://pyimagesearch.com/2019/12/30/label-smoothing-with-keras-tensorflow-and-deep-learning/"
      ],
      "metadata": {
        "id": "Zc12rKWKgM2Q"
      }
    },
    {
      "cell_type": "markdown",
      "source": [
        "label smooting --> 0-1 arası float türünde sayıdır. Etiket değerleri yumuşatılmıştır. Etiket değerine olan güvenirlilik esnektir. Örneğin bu değer 0.2 ise bir 0 etiketi için 0.1 ve 1 etiketi için 0.9 kullanılır.\n",
        "\n",
        "Sıfırda, bir sıfır noktasında takılırsa, öğrenmeyi tamamen durdurabilir çünkü model der ki ben sadece 1.0 olanı öğreneceğim, diğerleri unutulabilir.\n",
        "\n",
        "Ama yumuşatılmışta model 0.01'de sıkışıp kalmaz, daha sağlıklı tahminler...\n",
        "\n",
        "Etiket yumuşatması olan bu işlevi kullanabilmek için etiketlerimize tek bir sıcak kodlama biçiminde ihtiyacımız vardı."
      ],
      "metadata": {
        "id": "6tBjQDafha4i"
      }
    },
    {
      "cell_type": "code",
      "source": [
        "# Compile token, char, positional embedding model\n",
        "model_5.compile(loss=tf.keras.losses.CategoricalCrossentropy(label_smoothing=0.2), # add label smoothing (examples which are really confident get smoothed a little)\n",
        "                optimizer=tf.keras.optimizers.Adam(),\n",
        "                metrics=[\"accuracy\"])"
      ],
      "metadata": {
        "id": "YQY7JexTgHVF"
      },
      "execution_count": null,
      "outputs": []
    },
    {
      "cell_type": "markdown",
      "source": [
        "# Tribrid gömme veri kümeleri oluşturun ve tribrid modelini sığdırın\n",
        "\n",
        "Model derlenmiş!\n",
        "\n",
        "Yine, deneylerimizi hızlı tutmak için, 3 çağ için 20.000 örneğe sığdıralım.\n",
        "\n",
        "Bu sefer modelimiz dört özellik girişi gerektiriyor:\n",
        "\n",
        "1. Eğitim hattı numaraları tek sıcak tensör (train_line_numbers_one_hot)\n",
        "\n",
        "2. Eğitim toplam hatları bir-sıcak tensör (train_total_lines_one_hot)\n",
        "\n",
        "3. Token-seviye dizileri tensörü (train_sentences)\n",
        "\n",
        "4. Char-level dizileri tensörü (train_chars)\n",
        "\n",
        "Uygun şekilde şekillendirilmiş ve toplu PrefetchedDataset'ler oluşturmak için bunları tf.data.Dataset.from_tensor_slices() yöntemimize demet olarak aktarabiliriz."
      ],
      "metadata": {
        "id": "-szMMyfjgseO"
      }
    },
    {
      "cell_type": "code",
      "source": [
        "# Create training and validation datasets (all four kinds of inputs)\n",
        "train_pos_char_token_data = tf.data.Dataset.from_tensor_slices((train_line_numbers_one_hot, # line numbers\n",
        "                                                                train_total_lines_one_hot, # total lines\n",
        "                                                                train_sentences, # train tokens\n",
        "                                                                train_chars)) # train chars\n",
        "train_pos_char_token_labels = tf.data.Dataset.from_tensor_slices(train_labels_one_hot) # train labels\n",
        "train_pos_char_token_dataset = tf.data.Dataset.zip((train_pos_char_token_data, train_pos_char_token_labels)) # combine data and labels\n",
        "train_pos_char_token_dataset = train_pos_char_token_dataset.batch(32).prefetch(tf.data.AUTOTUNE) # turn into batches and prefetch appropriately\n",
        "\n",
        "# Validation dataset\n",
        "val_pos_char_token_data = tf.data.Dataset.from_tensor_slices((val_line_numbers_one_hot,\n",
        "                                                              val_total_lines_one_hot,\n",
        "                                                              val_sentences,\n",
        "                                                              val_chars))\n",
        "val_pos_char_token_labels = tf.data.Dataset.from_tensor_slices(val_labels_one_hot)\n",
        "val_pos_char_token_dataset = tf.data.Dataset.zip((val_pos_char_token_data, val_pos_char_token_labels))\n",
        "val_pos_char_token_dataset = val_pos_char_token_dataset.batch(32).prefetch(tf.data.AUTOTUNE) # turn into batches and prefetch appropriately\n",
        "\n",
        "# Check input shapes\n",
        "train_pos_char_token_dataset, val_pos_char_token_dataset"
      ],
      "metadata": {
        "colab": {
          "base_uri": "https://localhost:8080/"
        },
        "id": "DaIvV_ZSgm4-",
        "outputId": "c9d88253-2e68-4e9a-bc90-baf82bd7a553"
      },
      "execution_count": null,
      "outputs": [
        {
          "output_type": "execute_result",
          "data": {
            "text/plain": [
              "(<_PrefetchDataset element_spec=((TensorSpec(shape=(None, 15), dtype=tf.float32, name=None), TensorSpec(shape=(None, 20), dtype=tf.float32, name=None), TensorSpec(shape=(None,), dtype=tf.string, name=None), TensorSpec(shape=(None,), dtype=tf.string, name=None)), TensorSpec(shape=(None, 5), dtype=tf.float64, name=None))>,\n",
              " <_PrefetchDataset element_spec=((TensorSpec(shape=(None, 15), dtype=tf.float32, name=None), TensorSpec(shape=(None, 20), dtype=tf.float32, name=None), TensorSpec(shape=(None,), dtype=tf.string, name=None), TensorSpec(shape=(None,), dtype=tf.string, name=None)), TensorSpec(shape=(None, 5), dtype=tf.float64, name=None))>)"
            ]
          },
          "metadata": {},
          "execution_count": 99
        }
      ]
    },
    {
      "cell_type": "code",
      "source": [
        "# Fit the token, char and positional embedding model\n",
        "history_model_5 = model_5.fit(train_pos_char_token_dataset,\n",
        "                              steps_per_epoch=int(0.1 * len(train_pos_char_token_dataset)),\n",
        "                              epochs=3,\n",
        "                              validation_data=val_pos_char_token_dataset,\n",
        "                              validation_steps=int(0.1 * len(val_pos_char_token_dataset)))"
      ],
      "metadata": {
        "colab": {
          "base_uri": "https://localhost:8080/"
        },
        "id": "AHRJ5r-kg-ZQ",
        "outputId": "7b4a6392-23b8-4ba1-bb62-d4a4dbe11a04"
      },
      "execution_count": null,
      "outputs": [
        {
          "output_type": "stream",
          "name": "stdout",
          "text": [
            "Epoch 1/3\n",
            "562/562 [==============================] - 34s 50ms/step - loss: 1.0907 - accuracy: 0.7295 - val_loss: 0.9811 - val_accuracy: 0.8042\n",
            "Epoch 2/3\n",
            "562/562 [==============================] - 22s 39ms/step - loss: 0.9665 - accuracy: 0.8157 - val_loss: 0.9480 - val_accuracy: 0.8305\n",
            "Epoch 3/3\n",
            "562/562 [==============================] - 24s 42ms/step - loss: 0.9487 - accuracy: 0.8247 - val_loss: 0.9382 - val_accuracy: 0.8328\n"
          ]
        }
      ]
    },
    {
      "cell_type": "markdown",
      "source": [
        "Tribrid modeli eğitildi! Daha önce yaptığımız gibi bazı tahminlerde bulunma ve değerlendirme zamanı."
      ],
      "metadata": {
        "id": "BIrpeNjNhF6X"
      }
    },
    {
      "cell_type": "code",
      "source": [
        "# Make predictions with token-char-positional hybrid model\n",
        "model_5_pred_probs = model_5.predict(val_pos_char_token_dataset, verbose=1)\n",
        "model_5_pred_probs"
      ],
      "metadata": {
        "colab": {
          "base_uri": "https://localhost:8080/"
        },
        "id": "L_9hw6c7hB1l",
        "outputId": "6d1b4cc5-5426-4369-bea3-1559ae630237"
      },
      "execution_count": null,
      "outputs": [
        {
          "output_type": "stream",
          "name": "stdout",
          "text": [
            "945/945 [==============================] - 20s 20ms/step\n"
          ]
        },
        {
          "output_type": "execute_result",
          "data": {
            "text/plain": [
              "array([[0.51483923, 0.10175978, 0.01016533, 0.35504222, 0.01819343],\n",
              "       [0.5518715 , 0.10501808, 0.03760202, 0.2964235 , 0.00908487],\n",
              "       [0.3176443 , 0.09885965, 0.11041926, 0.40041655, 0.07266029],\n",
              "       ...,\n",
              "       [0.04038502, 0.10775369, 0.04257334, 0.03546455, 0.77382344],\n",
              "       [0.03879575, 0.2708974 , 0.07644685, 0.03186337, 0.5819966 ],\n",
              "       [0.22774342, 0.5674316 , 0.0939118 , 0.04629599, 0.0646171 ]],\n",
              "      dtype=float32)"
            ]
          },
          "metadata": {},
          "execution_count": 101
        }
      ]
    },
    {
      "cell_type": "code",
      "source": [
        "# Turn prediction probabilities into prediction classes\n",
        "model_5_preds = tf.argmax(model_5_pred_probs, axis=1)\n",
        "model_5_preds"
      ],
      "metadata": {
        "colab": {
          "base_uri": "https://localhost:8080/"
        },
        "id": "ICHC64k1hIKO",
        "outputId": "c445a35a-86c7-479f-d847-80464a8dfe9b"
      },
      "execution_count": null,
      "outputs": [
        {
          "output_type": "execute_result",
          "data": {
            "text/plain": [
              "<tf.Tensor: shape=(30212,), dtype=int64, numpy=array([0, 0, 3, ..., 4, 4, 1])>"
            ]
          },
          "metadata": {},
          "execution_count": 102
        }
      ]
    },
    {
      "cell_type": "code",
      "source": [
        "# Calculate results of token-char-positional hybrid model\n",
        "model_5_results = calculate_results(y_true=val_labels_encoded,\n",
        "                                    y_pred=model_5_preds)\n",
        "model_5_results"
      ],
      "metadata": {
        "colab": {
          "base_uri": "https://localhost:8080/"
        },
        "id": "HqFHAMC2hMA0",
        "outputId": "16a77501-282d-4ab6-dcd9-7aab16d854ed"
      },
      "execution_count": null,
      "outputs": [
        {
          "output_type": "execute_result",
          "data": {
            "text/plain": [
              "{'accuracy': 83.36753607837946,\n",
              " 'precision': 0.833008690519503,\n",
              " 'recall': 0.8336753607837946,\n",
              " 'f1': 0.8325484337481674}"
            ]
          },
          "metadata": {},
          "execution_count": 103
        }
      ]
    },
    {
      "cell_type": "markdown",
      "source": [
        "Bazı yeni özellikler bu modele enjekte edilmişti, karakter içe aktarma, token girişleri, konumsal ve embeddings'ler...\n",
        "\n",
        "yeni bir katman eklenebilir, yumuşatma etiket ayarı değiştirilebilir."
      ],
      "metadata": {
        "id": "K_C1SObdwX7y"
      }
    },
    {
      "cell_type": "markdown",
      "source": [
        "# 200k'yı müsait zamanda dene!!!"
      ],
      "metadata": {
        "id": "rQ-S1TtUxlWJ"
      }
    },
    {
      "cell_type": "markdown",
      "source": [
        "# Model sonuçlarını karşılaştır\n",
        "\n",
        "Çok uzakta, uzun bir yol kat ettik. Temel bir modelden üç farklı türde gömme içeren bir modeli eğitmeye kadar.\n",
        "\n",
        "Şimdi her modelin performansını birbirleriyle karşılaştırmanın zamanı geldi.\n",
        "\n",
        "Ayrıca modelimizi PubMed 200k RCT ile karşılaştırabileceğiz: Tıbbi Özetler makalesinde Sıralı Cümle Sınıflandırması için bir Veri Kümesi.\n",
        "\n",
        "Tüm model sonuçlarımız sözlüklerde olduğundan, onları görselleştirmek için bir panda DataFrame'de birleştirelim. https://arxiv.org/pdf/1710.06071"
      ],
      "metadata": {
        "id": "LH3za4jlhRRh"
      }
    },
    {
      "cell_type": "code",
      "source": [
        "# Combine model results into a DataFrame\n",
        "all_model_results = pd.DataFrame({\"baseline\": baseline_results,\n",
        "                                  \"custom_token_embed_conv1d\": model_1_results,\n",
        "                                  \"pretrained_token_embed\": model_2_results,\n",
        "                                  \"custom_char_embed_conv1d\": model_3_results,\n",
        "                                  \"hybrid_char_token_embed\": model_4_results,\n",
        "                                  \"tribrid_pos_char_token_embed\": model_5_results})\n",
        "all_model_results = all_model_results.transpose()\n",
        "all_model_results"
      ],
      "metadata": {
        "colab": {
          "base_uri": "https://localhost:8080/",
          "height": 235
        },
        "id": "gKoVXKemhNzs",
        "outputId": "2881e15b-b761-484a-e11e-b530ac4c8084"
      },
      "execution_count": null,
      "outputs": [
        {
          "output_type": "execute_result",
          "data": {
            "text/plain": [
              "                               accuracy  precision    recall        f1\n",
              "baseline                      72.183238   0.718647  0.721832  0.698925\n",
              "custom_token_embed_conv1d     78.511850   0.782073  0.785118  0.782627\n",
              "pretrained_token_embed        71.226665   0.713408  0.712267  0.709251\n",
              "custom_char_embed_conv1d      65.943996   0.652573  0.659440  0.649830\n",
              "hybrid_char_token_embed       73.891169   0.737681  0.738912  0.736319\n",
              "tribrid_pos_char_token_embed  83.367536   0.833009  0.833675  0.832548"
            ],
            "text/html": [
              "\n",
              "  <div id=\"df-ed223e15-c667-4d6c-be25-9f335786df57\" class=\"colab-df-container\">\n",
              "    <div>\n",
              "<style scoped>\n",
              "    .dataframe tbody tr th:only-of-type {\n",
              "        vertical-align: middle;\n",
              "    }\n",
              "\n",
              "    .dataframe tbody tr th {\n",
              "        vertical-align: top;\n",
              "    }\n",
              "\n",
              "    .dataframe thead th {\n",
              "        text-align: right;\n",
              "    }\n",
              "</style>\n",
              "<table border=\"1\" class=\"dataframe\">\n",
              "  <thead>\n",
              "    <tr style=\"text-align: right;\">\n",
              "      <th></th>\n",
              "      <th>accuracy</th>\n",
              "      <th>precision</th>\n",
              "      <th>recall</th>\n",
              "      <th>f1</th>\n",
              "    </tr>\n",
              "  </thead>\n",
              "  <tbody>\n",
              "    <tr>\n",
              "      <th>baseline</th>\n",
              "      <td>72.183238</td>\n",
              "      <td>0.718647</td>\n",
              "      <td>0.721832</td>\n",
              "      <td>0.698925</td>\n",
              "    </tr>\n",
              "    <tr>\n",
              "      <th>custom_token_embed_conv1d</th>\n",
              "      <td>78.511850</td>\n",
              "      <td>0.782073</td>\n",
              "      <td>0.785118</td>\n",
              "      <td>0.782627</td>\n",
              "    </tr>\n",
              "    <tr>\n",
              "      <th>pretrained_token_embed</th>\n",
              "      <td>71.226665</td>\n",
              "      <td>0.713408</td>\n",
              "      <td>0.712267</td>\n",
              "      <td>0.709251</td>\n",
              "    </tr>\n",
              "    <tr>\n",
              "      <th>custom_char_embed_conv1d</th>\n",
              "      <td>65.943996</td>\n",
              "      <td>0.652573</td>\n",
              "      <td>0.659440</td>\n",
              "      <td>0.649830</td>\n",
              "    </tr>\n",
              "    <tr>\n",
              "      <th>hybrid_char_token_embed</th>\n",
              "      <td>73.891169</td>\n",
              "      <td>0.737681</td>\n",
              "      <td>0.738912</td>\n",
              "      <td>0.736319</td>\n",
              "    </tr>\n",
              "    <tr>\n",
              "      <th>tribrid_pos_char_token_embed</th>\n",
              "      <td>83.367536</td>\n",
              "      <td>0.833009</td>\n",
              "      <td>0.833675</td>\n",
              "      <td>0.832548</td>\n",
              "    </tr>\n",
              "  </tbody>\n",
              "</table>\n",
              "</div>\n",
              "    <div class=\"colab-df-buttons\">\n",
              "\n",
              "  <div class=\"colab-df-container\">\n",
              "    <button class=\"colab-df-convert\" onclick=\"convertToInteractive('df-ed223e15-c667-4d6c-be25-9f335786df57')\"\n",
              "            title=\"Convert this dataframe to an interactive table.\"\n",
              "            style=\"display:none;\">\n",
              "\n",
              "  <svg xmlns=\"http://www.w3.org/2000/svg\" height=\"24px\" viewBox=\"0 -960 960 960\">\n",
              "    <path d=\"M120-120v-720h720v720H120Zm60-500h600v-160H180v160Zm220 220h160v-160H400v160Zm0 220h160v-160H400v160ZM180-400h160v-160H180v160Zm440 0h160v-160H620v160ZM180-180h160v-160H180v160Zm440 0h160v-160H620v160Z\"/>\n",
              "  </svg>\n",
              "    </button>\n",
              "\n",
              "  <style>\n",
              "    .colab-df-container {\n",
              "      display:flex;\n",
              "      gap: 12px;\n",
              "    }\n",
              "\n",
              "    .colab-df-convert {\n",
              "      background-color: #E8F0FE;\n",
              "      border: none;\n",
              "      border-radius: 50%;\n",
              "      cursor: pointer;\n",
              "      display: none;\n",
              "      fill: #1967D2;\n",
              "      height: 32px;\n",
              "      padding: 0 0 0 0;\n",
              "      width: 32px;\n",
              "    }\n",
              "\n",
              "    .colab-df-convert:hover {\n",
              "      background-color: #E2EBFA;\n",
              "      box-shadow: 0px 1px 2px rgba(60, 64, 67, 0.3), 0px 1px 3px 1px rgba(60, 64, 67, 0.15);\n",
              "      fill: #174EA6;\n",
              "    }\n",
              "\n",
              "    .colab-df-buttons div {\n",
              "      margin-bottom: 4px;\n",
              "    }\n",
              "\n",
              "    [theme=dark] .colab-df-convert {\n",
              "      background-color: #3B4455;\n",
              "      fill: #D2E3FC;\n",
              "    }\n",
              "\n",
              "    [theme=dark] .colab-df-convert:hover {\n",
              "      background-color: #434B5C;\n",
              "      box-shadow: 0px 1px 3px 1px rgba(0, 0, 0, 0.15);\n",
              "      filter: drop-shadow(0px 1px 2px rgba(0, 0, 0, 0.3));\n",
              "      fill: #FFFFFF;\n",
              "    }\n",
              "  </style>\n",
              "\n",
              "    <script>\n",
              "      const buttonEl =\n",
              "        document.querySelector('#df-ed223e15-c667-4d6c-be25-9f335786df57 button.colab-df-convert');\n",
              "      buttonEl.style.display =\n",
              "        google.colab.kernel.accessAllowed ? 'block' : 'none';\n",
              "\n",
              "      async function convertToInteractive(key) {\n",
              "        const element = document.querySelector('#df-ed223e15-c667-4d6c-be25-9f335786df57');\n",
              "        const dataTable =\n",
              "          await google.colab.kernel.invokeFunction('convertToInteractive',\n",
              "                                                    [key], {});\n",
              "        if (!dataTable) return;\n",
              "\n",
              "        const docLinkHtml = 'Like what you see? Visit the ' +\n",
              "          '<a target=\"_blank\" href=https://colab.research.google.com/notebooks/data_table.ipynb>data table notebook</a>'\n",
              "          + ' to learn more about interactive tables.';\n",
              "        element.innerHTML = '';\n",
              "        dataTable['output_type'] = 'display_data';\n",
              "        await google.colab.output.renderOutput(dataTable, element);\n",
              "        const docLink = document.createElement('div');\n",
              "        docLink.innerHTML = docLinkHtml;\n",
              "        element.appendChild(docLink);\n",
              "      }\n",
              "    </script>\n",
              "  </div>\n",
              "\n",
              "\n",
              "<div id=\"df-68703954-d7d0-4579-a289-88d5b5e8f624\">\n",
              "  <button class=\"colab-df-quickchart\" onclick=\"quickchart('df-68703954-d7d0-4579-a289-88d5b5e8f624')\"\n",
              "            title=\"Suggest charts\"\n",
              "            style=\"display:none;\">\n",
              "\n",
              "<svg xmlns=\"http://www.w3.org/2000/svg\" height=\"24px\"viewBox=\"0 0 24 24\"\n",
              "     width=\"24px\">\n",
              "    <g>\n",
              "        <path d=\"M19 3H5c-1.1 0-2 .9-2 2v14c0 1.1.9 2 2 2h14c1.1 0 2-.9 2-2V5c0-1.1-.9-2-2-2zM9 17H7v-7h2v7zm4 0h-2V7h2v10zm4 0h-2v-4h2v4z\"/>\n",
              "    </g>\n",
              "</svg>\n",
              "  </button>\n",
              "\n",
              "<style>\n",
              "  .colab-df-quickchart {\n",
              "      --bg-color: #E8F0FE;\n",
              "      --fill-color: #1967D2;\n",
              "      --hover-bg-color: #E2EBFA;\n",
              "      --hover-fill-color: #174EA6;\n",
              "      --disabled-fill-color: #AAA;\n",
              "      --disabled-bg-color: #DDD;\n",
              "  }\n",
              "\n",
              "  [theme=dark] .colab-df-quickchart {\n",
              "      --bg-color: #3B4455;\n",
              "      --fill-color: #D2E3FC;\n",
              "      --hover-bg-color: #434B5C;\n",
              "      --hover-fill-color: #FFFFFF;\n",
              "      --disabled-bg-color: #3B4455;\n",
              "      --disabled-fill-color: #666;\n",
              "  }\n",
              "\n",
              "  .colab-df-quickchart {\n",
              "    background-color: var(--bg-color);\n",
              "    border: none;\n",
              "    border-radius: 50%;\n",
              "    cursor: pointer;\n",
              "    display: none;\n",
              "    fill: var(--fill-color);\n",
              "    height: 32px;\n",
              "    padding: 0;\n",
              "    width: 32px;\n",
              "  }\n",
              "\n",
              "  .colab-df-quickchart:hover {\n",
              "    background-color: var(--hover-bg-color);\n",
              "    box-shadow: 0 1px 2px rgba(60, 64, 67, 0.3), 0 1px 3px 1px rgba(60, 64, 67, 0.15);\n",
              "    fill: var(--button-hover-fill-color);\n",
              "  }\n",
              "\n",
              "  .colab-df-quickchart-complete:disabled,\n",
              "  .colab-df-quickchart-complete:disabled:hover {\n",
              "    background-color: var(--disabled-bg-color);\n",
              "    fill: var(--disabled-fill-color);\n",
              "    box-shadow: none;\n",
              "  }\n",
              "\n",
              "  .colab-df-spinner {\n",
              "    border: 2px solid var(--fill-color);\n",
              "    border-color: transparent;\n",
              "    border-bottom-color: var(--fill-color);\n",
              "    animation:\n",
              "      spin 1s steps(1) infinite;\n",
              "  }\n",
              "\n",
              "  @keyframes spin {\n",
              "    0% {\n",
              "      border-color: transparent;\n",
              "      border-bottom-color: var(--fill-color);\n",
              "      border-left-color: var(--fill-color);\n",
              "    }\n",
              "    20% {\n",
              "      border-color: transparent;\n",
              "      border-left-color: var(--fill-color);\n",
              "      border-top-color: var(--fill-color);\n",
              "    }\n",
              "    30% {\n",
              "      border-color: transparent;\n",
              "      border-left-color: var(--fill-color);\n",
              "      border-top-color: var(--fill-color);\n",
              "      border-right-color: var(--fill-color);\n",
              "    }\n",
              "    40% {\n",
              "      border-color: transparent;\n",
              "      border-right-color: var(--fill-color);\n",
              "      border-top-color: var(--fill-color);\n",
              "    }\n",
              "    60% {\n",
              "      border-color: transparent;\n",
              "      border-right-color: var(--fill-color);\n",
              "    }\n",
              "    80% {\n",
              "      border-color: transparent;\n",
              "      border-right-color: var(--fill-color);\n",
              "      border-bottom-color: var(--fill-color);\n",
              "    }\n",
              "    90% {\n",
              "      border-color: transparent;\n",
              "      border-bottom-color: var(--fill-color);\n",
              "    }\n",
              "  }\n",
              "</style>\n",
              "\n",
              "  <script>\n",
              "    async function quickchart(key) {\n",
              "      const quickchartButtonEl =\n",
              "        document.querySelector('#' + key + ' button');\n",
              "      quickchartButtonEl.disabled = true;  // To prevent multiple clicks.\n",
              "      quickchartButtonEl.classList.add('colab-df-spinner');\n",
              "      try {\n",
              "        const charts = await google.colab.kernel.invokeFunction(\n",
              "            'suggestCharts', [key], {});\n",
              "      } catch (error) {\n",
              "        console.error('Error during call to suggestCharts:', error);\n",
              "      }\n",
              "      quickchartButtonEl.classList.remove('colab-df-spinner');\n",
              "      quickchartButtonEl.classList.add('colab-df-quickchart-complete');\n",
              "    }\n",
              "    (() => {\n",
              "      let quickchartButtonEl =\n",
              "        document.querySelector('#df-68703954-d7d0-4579-a289-88d5b5e8f624 button');\n",
              "      quickchartButtonEl.style.display =\n",
              "        google.colab.kernel.accessAllowed ? 'block' : 'none';\n",
              "    })();\n",
              "  </script>\n",
              "</div>\n",
              "\n",
              "  <div id=\"id_e3054ae4-5778-4361-9e06-b6c46d482ca7\">\n",
              "    <style>\n",
              "      .colab-df-generate {\n",
              "        background-color: #E8F0FE;\n",
              "        border: none;\n",
              "        border-radius: 50%;\n",
              "        cursor: pointer;\n",
              "        display: none;\n",
              "        fill: #1967D2;\n",
              "        height: 32px;\n",
              "        padding: 0 0 0 0;\n",
              "        width: 32px;\n",
              "      }\n",
              "\n",
              "      .colab-df-generate:hover {\n",
              "        background-color: #E2EBFA;\n",
              "        box-shadow: 0px 1px 2px rgba(60, 64, 67, 0.3), 0px 1px 3px 1px rgba(60, 64, 67, 0.15);\n",
              "        fill: #174EA6;\n",
              "      }\n",
              "\n",
              "      [theme=dark] .colab-df-generate {\n",
              "        background-color: #3B4455;\n",
              "        fill: #D2E3FC;\n",
              "      }\n",
              "\n",
              "      [theme=dark] .colab-df-generate:hover {\n",
              "        background-color: #434B5C;\n",
              "        box-shadow: 0px 1px 3px 1px rgba(0, 0, 0, 0.15);\n",
              "        filter: drop-shadow(0px 1px 2px rgba(0, 0, 0, 0.3));\n",
              "        fill: #FFFFFF;\n",
              "      }\n",
              "    </style>\n",
              "    <button class=\"colab-df-generate\" onclick=\"generateWithVariable('all_model_results')\"\n",
              "            title=\"Generate code using this dataframe.\"\n",
              "            style=\"display:none;\">\n",
              "\n",
              "  <svg xmlns=\"http://www.w3.org/2000/svg\" height=\"24px\"viewBox=\"0 0 24 24\"\n",
              "       width=\"24px\">\n",
              "    <path d=\"M7,19H8.4L18.45,9,17,7.55,7,17.6ZM5,21V16.75L18.45,3.32a2,2,0,0,1,2.83,0l1.4,1.43a1.91,1.91,0,0,1,.58,1.4,1.91,1.91,0,0,1-.58,1.4L9.25,21ZM18.45,9,17,7.55Zm-12,3A5.31,5.31,0,0,0,4.9,8.1,5.31,5.31,0,0,0,1,6.5,5.31,5.31,0,0,0,4.9,4.9,5.31,5.31,0,0,0,6.5,1,5.31,5.31,0,0,0,8.1,4.9,5.31,5.31,0,0,0,12,6.5,5.46,5.46,0,0,0,6.5,12Z\"/>\n",
              "  </svg>\n",
              "    </button>\n",
              "    <script>\n",
              "      (() => {\n",
              "      const buttonEl =\n",
              "        document.querySelector('#id_e3054ae4-5778-4361-9e06-b6c46d482ca7 button.colab-df-generate');\n",
              "      buttonEl.style.display =\n",
              "        google.colab.kernel.accessAllowed ? 'block' : 'none';\n",
              "\n",
              "      buttonEl.onclick = () => {\n",
              "        google.colab.notebook.generateWithVariable('all_model_results');\n",
              "      }\n",
              "      })();\n",
              "    </script>\n",
              "  </div>\n",
              "\n",
              "    </div>\n",
              "  </div>\n"
            ],
            "application/vnd.google.colaboratory.intrinsic+json": {
              "type": "dataframe",
              "variable_name": "all_model_results",
              "summary": "{\n  \"name\": \"all_model_results\",\n  \"rows\": 6,\n  \"fields\": [\n    {\n      \"column\": \"accuracy\",\n      \"properties\": {\n        \"dtype\": \"number\",\n        \"std\": 6.062999995868637,\n        \"min\": 65.94399576327287,\n        \"max\": 83.36753607837946,\n        \"num_unique_values\": 6,\n        \"samples\": [\n          72.1832384482987,\n          78.51184959618695,\n          83.36753607837946\n        ],\n        \"semantic_type\": \"\",\n        \"description\": \"\"\n      }\n    },\n    {\n      \"column\": \"precision\",\n      \"properties\": {\n        \"dtype\": \"number\",\n        \"std\": 0.0620184711639172,\n        \"min\": 0.6525733371595827,\n        \"max\": 0.833008690519503,\n        \"num_unique_values\": 6,\n        \"samples\": [\n          0.7186466952323352,\n          0.7820725119484493,\n          0.833008690519503\n        ],\n        \"semantic_type\": \"\",\n        \"description\": \"\"\n      }\n    },\n    {\n      \"column\": \"recall\",\n      \"properties\": {\n        \"dtype\": \"number\",\n        \"std\": 0.060629999958686356,\n        \"min\": 0.6594399576327287,\n        \"max\": 0.8336753607837946,\n        \"num_unique_values\": 6,\n        \"samples\": [\n          0.7218323844829869,\n          0.7851184959618694,\n          0.8336753607837946\n        ],\n        \"semantic_type\": \"\",\n        \"description\": \"\"\n      }\n    },\n    {\n      \"column\": \"f1\",\n      \"properties\": {\n        \"dtype\": \"number\",\n        \"std\": 0.0648137266680304,\n        \"min\": 0.6498297077690731,\n        \"max\": 0.8325484337481674,\n        \"num_unique_values\": 6,\n        \"samples\": [\n          0.6989250353450294,\n          0.7826269979016853,\n          0.8325484337481674\n        ],\n        \"semantic_type\": \"\",\n        \"description\": \"\"\n      }\n    }\n  ]\n}"
            }
          },
          "metadata": {},
          "execution_count": 104
        }
      ]
    },
    {
      "cell_type": "code",
      "source": [
        "# Reduce the accuracy to same scale as other metrics\n",
        "all_model_results[\"accuracy\"] = all_model_results[\"accuracy\"]/100"
      ],
      "metadata": {
        "id": "4r597plehXCC"
      },
      "execution_count": null,
      "outputs": []
    },
    {
      "cell_type": "code",
      "source": [
        "# Plot and compare all of the model results\n",
        "all_model_results.plot(kind=\"bar\", figsize=(10, 7)).legend(bbox_to_anchor=(1.0, 1.0));"
      ],
      "metadata": {
        "colab": {
          "base_uri": "https://localhost:8080/",
          "height": 798
        },
        "id": "EgQmfdLehbar",
        "outputId": "6ddb40f1-5b18-4208-e37e-c9f067622790"
      },
      "execution_count": null,
      "outputs": [
        {
          "output_type": "display_data",
          "data": {
            "text/plain": [
              "<Figure size 1000x700 with 1 Axes>"
            ],
            "image/png": "[encoded data removed]"
          },
          "metadata": {}
        }
      ]
    },
    {
      "cell_type": "markdown",
      "source": [
        "PubMed 200k RCT: Tıbbi Özetlerde Sıralı Cümle Sınıflandırması için Bir Veri Kümesi makalesi, test edilen modellerinin test veri kümesindeki F1 puanlarını karşılaştırdığından, modelimizin F1 puanlarını ele alalım.\n",
        "\n",
        "🔑 Not: Bu karşılaştırmaları eğitim sırasında TensorBoard geri aramasını kullanarak TensorBoard'da da yapabilirdik."
      ],
      "metadata": {
        "id": "xe_rnQjwhgHd"
      }
    },
    {
      "cell_type": "code",
      "source": [
        "# Sort model results by f1-score\n",
        "all_model_results.sort_values(\"f1\", ascending=False)[\"f1\"].plot(kind=\"bar\", figsize=(10, 7));"
      ],
      "metadata": {
        "colab": {
          "base_uri": "https://localhost:8080/",
          "height": 798
        },
        "id": "IYYPH1cNhdC-",
        "outputId": "1f92bc93-10ba-4f54-a000-d729ea9f5b1f"
      },
      "execution_count": null,
      "outputs": [
        {
          "output_type": "display_data",
          "data": {
            "text/plain": [
              "<Figure size 1000x700 with 1 Axes>"
            ],
            "image/png": "[encoded data removed]"
          },
          "metadata": {}
        }
      ]
    },
    {
      "cell_type": "markdown",
      "source": [
        "Güzel! F1-scores'a dayanarak, tribrid gömme modelimiz adil bir farkla en iyi performansı sergiliyor gibi görünüyor.\n",
        "\n",
        "Bununla birlikte, PubMed 200k RCT'nin Tablo 3'ünde bildirilen sonuçlarla karşılaştırıldığında: Tıbbi Özetler makalesinde Sıralı Cümle Sınıflandırması için Bir Veri Kümesi, modelimizin F1-skoru hala düşük performans gösteriyor (yazar modeli, ~82.6'lık F1 skorumuza karşı 20k RCT veri kümesinde 90.0'lık bir F1 puanı elde ediyor). https://arxiv.org/pdf/1710.06071\n",
        "\n",
        "Bu fark hakkında dikkat edilmesi gereken bazı şeyler var:\n",
        "\n",
        "- Modellerimiz (taban çizgisi hariç), 20k RCT veri kümesindeki tam ~180.000 yerine ~18.000 (partilerin %10'u) dizi ve etiket örneği üzerinde eğitilmiştir.\n",
        "\n",
        "  - Bununla birlikte, makine öğrenimi deneylerinde genellikle durum böyledir, eğitimin daha az sayıda örnek üzerinde çalıştığından emin olun, ardından gerektiğinde yükseltin (bu projenin bir uzantısı, tam veri kümesinde bir model eğitecektir).\n",
        "\n",
        "- Modelimizin tahmin performans seviyeleri, test veri kümesinde değil, doğrulama veri kümesinde değerlendirilmiştir (en iyi modelimizi kısa süre içinde test veri kümesinde değerlendireceğiz)."
      ],
      "metadata": {
        "id": "I8WG5852hnUJ"
      }
    },
    {
      "cell_type": "markdown",
      "source": [
        "# En iyi performans gösteren modeli kaydedin ve yükleyin\n",
        "\n",
        "Çok az deney yaptığımız için, en iyi performans gösteren modelimizi kaydetmek iyi bir fikirdir, böylece onu yeniden eğitmek zorunda kalmadan yeniden kullanabiliriz.\n",
        "\n",
        "Üzerinde save() yöntemini çağırarak en iyi performans gösteren modelimizi kaydedebiliriz. https://www.tensorflow.org/guide/keras/serialization_and_saving#the_short_answer_to_saving_loading"
      ],
      "metadata": {
        "id": "wF1QrgU3hw7y"
      }
    },
    {
      "cell_type": "markdown",
      "source": [
        "Modeli kaydettiğinde model kaydedilir ve veri kümesini değerlendirdiğinde onu tekrar yüklemiş olursun.\n",
        "\n",
        "Bu modeli kaydedip colab dışında başka bir yerde kullanabilmeliyiz."
      ],
      "metadata": {
        "id": "YiLjdJ7irlj9"
      }
    },
    {
      "cell_type": "code",
      "source": [
        "# Save best performing model to SavedModel format (default)\n",
        "model_5.save(\"skimlit_tribrid_model\") # model will be saved to path specified by string"
      ],
      "metadata": {
        "id": "Y_TKMKyxhisF"
      },
      "execution_count": null,
      "outputs": []
    },
    {
      "cell_type": "markdown",
      "source": [
        "İsteğe bağlı: Google Colab kullanıyorsanız, daha kalıcı depolama için kayıtlı modelinizi Google Drive'a kopyalamak (veya indirmek) isteyebilirsiniz (bağlantınızı kestikten sonra Google Colab dosyaları kaybolur). https://colab.research.google.com/notebooks/io.ipynb#scrollTo=hauvGV4hV-Mh"
      ],
      "metadata": {
        "id": "dcedBKRah6Qq"
      }
    },
    {
      "cell_type": "code",
      "source": [
        "# Example of copying saved model from Google Colab to Drive (requires Google Drive to be mounted)\n",
        "# !cp skimlit_best_model -r /content/drive/MyDrive/tensorflow_course/skim_lit"
      ],
      "metadata": {
        "id": "xcka-lNlh3BM"
      },
      "execution_count": null,
      "outputs": []
    },
    {
      "cell_type": "markdown",
      "source": [
        "Tüm iyi yemek pişirme şovları gibi, önceden eğitilmiş bir modelimiz var (tam olarak Google Drive ve Google Storage'da kaydedilen ve saklanan model_5 için oluşturduğumuz aynı tür model). https://drive.google.com/file/d/1quaeTYEzwolI0dXv98S9GEXOTVu9Akfk/view\n",
        "\n",
        "Bu nedenle, değerlendirme için hepimizin aynı modeli kullandığımızdan emin olmak için onu indirip yükleyeceğiz.\n",
        "\n",
        "Ve modelimize yüklerken, birkaç özel nesne (TensorFlow Hub katmanımız ve TextVectorization katmanımız) kullandığından, bunları tf.keras.models.load_model()'ın custom_objects parametresinde belirterek yüklememiz gerekecek.\n",
        "\n",
        "- https://www.tensorflow.org/guide/keras/serialization_and_saving#custom_objects\n",
        "- https://www.tensorflow.org/api_docs/python/tf/keras/models/load_model"
      ],
      "metadata": {
        "id": "2-HUbn9BiF82"
      }
    },
    {
      "cell_type": "code",
      "source": [
        "# Download pretrained model from Google Storage\n",
        "!wget https://storage.googleapis.com/ztm_tf_course/skimlit/skimlit_tribrid_model.zip\n",
        "!mkdir skimlit_gs_model\n",
        "!unzip skimlit_tribrid_model.zip -d skimlit_gs_model"
      ],
      "metadata": {
        "colab": {
          "base_uri": "https://localhost:8080/"
        },
        "id": "1KEVHCH8iAYi",
        "outputId": "407ea708-04ee-4b86-f4b3-6e79d795a072"
      },
      "execution_count": null,
      "outputs": [
        {
          "output_type": "stream",
          "name": "stdout",
          "text": [
            "--2024-05-26 09:52:48--  https://storage.googleapis.com/ztm_tf_course/skimlit/skimlit_tribrid_model.zip\n",
            "Resolving storage.googleapis.com (storage.googleapis.com)... 209.85.145.207, 142.250.125.207, 142.250.148.207, ...\n",
            "Connecting to storage.googleapis.com (storage.googleapis.com)|209.85.145.207|:443... connected.\n",
            "HTTP request sent, awaiting response... 200 OK\n",
            "Length: 962182847 (918M) [application/zip]\n",
            "Saving to: ‘skimlit_tribrid_model.zip’\n",
            "\n",
            "skimlit_tribrid_mod 100%[===================>] 917.61M  36.0MB/s    in 16s     \n",
            "\n",
            "2024-05-26 09:53:04 (56.1 MB/s) - ‘skimlit_tribrid_model.zip’ saved [962182847/962182847]\n",
            "\n",
            "Archive:  skimlit_tribrid_model.zip\n",
            "   creating: skimlit_gs_model/skimlit_tribrid_model/\n",
            "  inflating: skimlit_gs_model/skimlit_tribrid_model/keras_metadata.pb  \n",
            "   creating: skimlit_gs_model/skimlit_tribrid_model/assets/\n",
            " extracting: skimlit_gs_model/skimlit_tribrid_model/fingerprint.pb  \n",
            "   creating: skimlit_gs_model/skimlit_tribrid_model/variables/\n",
            "  inflating: skimlit_gs_model/skimlit_tribrid_model/variables/variables.index  \n",
            "  inflating: skimlit_gs_model/skimlit_tribrid_model/variables/variables.data-00000-of-00001  \n",
            "  inflating: skimlit_gs_model/skimlit_tribrid_model/saved_model.pb  \n"
          ]
        }
      ]
    },
    {
      "cell_type": "code",
      "source": [
        "# Import TensorFlow model dependencies (if needed) - https://github.com/tensorflow/tensorflow/issues/38250\n",
        "import tensorflow_hub as hub\n",
        "import tensorflow as tf\n",
        "from tensorflow.keras.layers import TextVectorization\n",
        "\n",
        "model_path = \"skimlit_gs_model/skimlit_tribrid_model/\"\n",
        "\n",
        "# Load downloaded model from Google Storage\n",
        "loaded_model = tf.keras.models.load_model(model_path)#,\n",
        "                                          # Note: with TensorFlow 2.5+ if your SavedModel has a keras_metadata.pb file\n",
        "                                          # (created when using model.save()), you shouldn't need the custom_objects\n",
        "                                          # parameter. I'm leaving the code below here in case you do.\n",
        "                                          # custom_objects={\"TextVectorization\": TextVectorization, # required for char vectorization\n",
        "                                          #                 \"KerasLayer\": hub.KerasLayer}) # required for token embedding"
      ],
      "metadata": {
        "id": "Ic-N1xf4iVWT"
      },
      "execution_count": null,
      "outputs": []
    },
    {
      "cell_type": "markdown",
      "source": [
        "Dosyada oluşan modele sağ tık yaparsan istediğin yükleme seçenekleri çıkmaz.\n",
        "\n",
        "Yüklü modeli test etmenin yollarından birisi de tahmin yapıp karşılaştırmaktır. Bu tahminler result kodundaki sonuçlar ile çok yakın olmalı."
      ],
      "metadata": {
        "id": "Gf-YHaFWsI7C"
      }
    },
    {
      "cell_type": "markdown",
      "source": [
        "# Tahminlerde bulunun ve bunları gerçek etiketlerine karşı değerlendirin\n",
        "\n",
        "Modelimizin doğru bir şekilde kaydedildiğinden ve yüklendiğinden emin olmak için, onunla tahminlerde bulunalım, değerlendirelim ve ardından daha önce hesapladığımız tahmin sonuçlarıyla karşılaştıralım."
      ],
      "metadata": {
        "id": "sYblk7Ooih90"
      }
    },
    {
      "cell_type": "markdown",
      "source": [
        "Colab kapatılınca model gider. Drive'a indirmeli veya yerel makinede çalışmalı.\n",
        "\n",
        "Bir model ile sadece eğitim aldığı veri formatıyla aynı formatta tahminler yapılabilir.\n",
        "\n",
        "Kaynak şablonundaki veri tabloları google depolama alanında kayıtlıdır. Buradan veri almak için sağ tık link kopyala yap. (learntensorflow.io) Bu link !wget...unzip komutları ile yüklenebilir. -d dizin demek."
      ],
      "metadata": {
        "id": "TQ_wCIUZs1oC"
      }
    },
    {
      "cell_type": "code",
      "source": [
        "# Make predictions with the loaded model on the validation set\n",
        "loaded_pred_probs = loaded_model.predict(val_pos_char_token_dataset, verbose=1)\n",
        "loaded_preds = tf.argmax(loaded_pred_probs, axis=1)\n",
        "loaded_preds[:10]"
      ],
      "metadata": {
        "colab": {
          "base_uri": "https://localhost:8080/"
        },
        "id": "neRNJ6DviebA",
        "outputId": "d840fe81-94f0-4d2e-c5ef-98d04fb3e611"
      },
      "execution_count": null,
      "outputs": [
        {
          "output_type": "stream",
          "name": "stdout",
          "text": [
            "945/945 [==============================] - 19s 19ms/step\n"
          ]
        },
        {
          "output_type": "execute_result",
          "data": {
            "text/plain": [
              "<tf.Tensor: shape=(10,), dtype=int64, numpy=array([0, 0, 3, 2, 2, 4, 4, 4, 4, 1])>"
            ]
          },
          "metadata": {},
          "execution_count": 112
        }
      ]
    },
    {
      "cell_type": "code",
      "source": [
        "# Evaluate loaded model's predictions\n",
        "loaded_model_results = calculate_results(val_labels_encoded,\n",
        "                                         loaded_preds)\n",
        "loaded_model_results"
      ],
      "metadata": {
        "colab": {
          "base_uri": "https://localhost:8080/"
        },
        "id": "OPbRrQ-pik2o",
        "outputId": "25e4dcc7-c840-4c73-e4e4-6f808abda48f"
      },
      "execution_count": null,
      "outputs": [
        {
          "output_type": "execute_result",
          "data": {
            "text/plain": [
              "{'accuracy': 83.03323182841254,\n",
              " 'precision': 0.8290556618130785,\n",
              " 'recall': 0.8303323182841255,\n",
              " 'f1': 0.8294263092000485}"
            ]
          },
          "metadata": {},
          "execution_count": 113
        }
      ]
    },
    {
      "cell_type": "markdown",
      "source": [
        "Şimdi yüklü modelimizin tahminlerini, modelimizi kaydetmeden önce elde ettiğimiz tahmin sonuçlarıyla karşılaştıralım."
      ],
      "metadata": {
        "id": "nRN8JE0OiqEo"
      }
    },
    {
      "cell_type": "code",
      "source": [
        "# Compare loaded model results with original trained model results (should be quite close)\n",
        "np.isclose(list(model_5_results.values()), list(loaded_model_results.values()), rtol=1e-02)"
      ],
      "metadata": {
        "colab": {
          "base_uri": "https://localhost:8080/"
        },
        "id": "8hnVME3sim_Y",
        "outputId": "942a632d-45d1-473a-e597-713a82727ccd"
      },
      "execution_count": null,
      "outputs": [
        {
          "output_type": "execute_result",
          "data": {
            "text/plain": [
              "array([ True,  True,  True,  True])"
            ]
          },
          "metadata": {},
          "execution_count": 114
        }
      ]
    },
    {
      "cell_type": "markdown",
      "source": [
        "Kaydedilmiş bir Model'e yüklemenin tüm katmanları çözdüğünü (hepsini eğitilebilir hale getirdiğini) belirtmekte fayda var. Bu nedenle, herhangi bir katmanı dondurmak istiyorsanız, eğitilebilir özelliklerini False olarak ayarlamanız gerekir."
      ],
      "metadata": {
        "id": "3lTw7W46iwUT"
      }
    },
    {
      "cell_type": "code",
      "source": [
        "# Check loaded model summary (note the number of trainable parameters)\n",
        "loaded_model.summary()"
      ],
      "metadata": {
        "colab": {
          "base_uri": "https://localhost:8080/"
        },
        "id": "1Rwijw67isIJ",
        "outputId": "7be3a87a-ea3d-4ada-f9a9-cae9c8dcffcb"
      },
      "execution_count": null,
      "outputs": [
        {
          "output_type": "stream",
          "name": "stdout",
          "text": [
            "Model: \"model_8\"\n",
            "__________________________________________________________________________________________________\n",
            " Layer (type)                Output Shape                 Param #   Connected to                  \n",
            "==================================================================================================\n",
            " char_inputs (InputLayer)    [(None, 1)]                  0         []                            \n",
            "                                                                                                  \n",
            " token_inputs (InputLayer)   [(None,)]                    0         []                            \n",
            "                                                                                                  \n",
            " char_vectorizer (TextVecto  (None, 290)                  0         ['char_inputs[0][0]']         \n",
            " rization)                                                                                        \n",
            "                                                                                                  \n",
            " universal_sentence_encoder  (None, 512)                  2567978   ['token_inputs[0][0]']        \n",
            "  (KerasLayer)                                            24                                      \n",
            "                                                                                                  \n",
            " char_embed (Embedding)      (None, 290, 25)              1750      ['char_vectorizer[0][0]']     \n",
            "                                                                                                  \n",
            " dense_7 (Dense)             (None, 128)                  65664     ['universal_sentence_encoder[0\n",
            "                                                                    ][0]']                        \n",
            "                                                                                                  \n",
            " bidirectional_1 (Bidirecti  (None, 64)                   14848     ['char_embed[0][0]']          \n",
            " onal)                                                                                            \n",
            "                                                                                                  \n",
            " token_char_hybrid_embeddin  (None, 192)                  0         ['dense_7[0][0]',             \n",
            " g (Concatenate)                                                     'bidirectional_1[0][0]']     \n",
            "                                                                                                  \n",
            " line_number_input (InputLa  [(None, 15)]                 0         []                            \n",
            " yer)                                                                                             \n",
            "                                                                                                  \n",
            " total_lines_input (InputLa  [(None, 20)]                 0         []                            \n",
            " yer)                                                                                             \n",
            "                                                                                                  \n",
            " dense_10 (Dense)            (None, 256)                  49408     ['token_char_hybrid_embedding[\n",
            "                                                                    0][0]']                       \n",
            "                                                                                                  \n",
            " dense_8 (Dense)             (None, 32)                   512       ['line_number_input[0][0]']   \n",
            "                                                                                                  \n",
            " dense_9 (Dense)             (None, 32)                   672       ['total_lines_input[0][0]']   \n",
            "                                                                                                  \n",
            " dropout_2 (Dropout)         (None, 256)                  0         ['dense_10[0][0]']            \n",
            "                                                                                                  \n",
            " token_char_positional_embe  (None, 320)                  0         ['dense_8[0][0]',             \n",
            " dding (Concatenate)                                                 'dense_9[0][0]',             \n",
            "                                                                     'dropout_2[0][0]']           \n",
            "                                                                                                  \n",
            " output_layer (Dense)        (None, 5)                    1605      ['token_char_positional_embedd\n",
            "                                                                    ing[0][0]']                   \n",
            "                                                                                                  \n",
            "==================================================================================================\n",
            "Total params: 256932283 (980.12 MB)\n",
            "Trainable params: 134459 (525.23 KB)\n",
            "Non-trainable params: 256797824 (979.61 MB)\n",
            "__________________________________________________________________________________________________\n"
          ]
        }
      ]
    },
    {
      "cell_type": "markdown",
      "source": [
        "# Test veri setinde modeli değerlendirin\n",
        "\n",
        "Modelimizin performansını PubMed 200k RCT: a Dataset for Sequential Sentence Classification in Medical Abstracts makalesinin Tablo 3'ünde bildirilen sonuçlarla daha karşılaştırılabilir hale getirmek için, test veri kümesi hakkında tahminlerde bulunalım ve bunları değerlendirelim. https://arxiv.org/pdf/1710.06071"
      ],
      "metadata": {
        "id": "AgYnQyqTi2iO"
      }
    },
    {
      "cell_type": "code",
      "source": [
        "# Create test dataset batch and prefetched\n",
        "test_pos_char_token_data = tf.data.Dataset.from_tensor_slices((test_line_numbers_one_hot,\n",
        "                                                               test_total_lines_one_hot,\n",
        "                                                               test_sentences,\n",
        "                                                               test_chars))\n",
        "test_pos_char_token_labels = tf.data.Dataset.from_tensor_slices(test_labels_one_hot)\n",
        "test_pos_char_token_dataset = tf.data.Dataset.zip((test_pos_char_token_data, test_pos_char_token_labels))\n",
        "test_pos_char_token_dataset = test_pos_char_token_dataset.batch(32).prefetch(tf.data.AUTOTUNE)\n",
        "\n",
        "# Check shapes\n",
        "test_pos_char_token_dataset"
      ],
      "metadata": {
        "colab": {
          "base_uri": "https://localhost:8080/"
        },
        "id": "eEV3yz2ziyWY",
        "outputId": "330ee2ea-1100-4f91-d64c-64d64bd7084b"
      },
      "execution_count": null,
      "outputs": [
        {
          "output_type": "execute_result",
          "data": {
            "text/plain": [
              "<_PrefetchDataset element_spec=((TensorSpec(shape=(None, 15), dtype=tf.float32, name=None), TensorSpec(shape=(None, 20), dtype=tf.float32, name=None), TensorSpec(shape=(None,), dtype=tf.string, name=None), TensorSpec(shape=(None,), dtype=tf.string, name=None)), TensorSpec(shape=(None, 5), dtype=tf.float64, name=None))>"
            ]
          },
          "metadata": {},
          "execution_count": 116
        }
      ]
    },
    {
      "cell_type": "code",
      "source": [
        "# Make predictions on the test dataset\n",
        "test_pred_probs = loaded_model.predict(test_pos_char_token_dataset,\n",
        "                                       verbose=1)\n",
        "test_preds = tf.argmax(test_pred_probs, axis=1)\n",
        "test_preds[:10]"
      ],
      "metadata": {
        "colab": {
          "base_uri": "https://localhost:8080/"
        },
        "id": "K7j7Pjn7i8GO",
        "outputId": "ced407fe-8a20-47ff-a0fd-21f7f16fa6ec"
      },
      "execution_count": null,
      "outputs": [
        {
          "output_type": "stream",
          "name": "stdout",
          "text": [
            "604/942 [==================>...........] - ETA: 6s"
          ]
        }
      ]
    },
    {
      "cell_type": "code",
      "source": [
        "# Evaluate loaded model test predictions\n",
        "loaded_model_test_results = calculate_results(y_true=test_labels_encoded,\n",
        "                                              y_pred=test_preds)\n",
        "loaded_model_test_results"
      ],
      "metadata": {
        "colab": {
          "base_uri": "https://localhost:8080/"
        },
        "id": "-XPvtFQzi-To",
        "outputId": "c3438da9-31b3-444a-80a0-dc61d3e985d4"
      },
      "execution_count": null,
      "outputs": [
        {
          "output_type": "execute_result",
          "data": {
            "text/plain": [
              "{'accuracy': 82.57176041148166,\n",
              " 'precision': 0.8242659626849546,\n",
              " 'recall': 0.8257176041148167,\n",
              " 'f1': 0.8247141207593822}"
            ]
          },
          "metadata": {},
          "execution_count": 134
        }
      ]
    },
    {
      "cell_type": "markdown",
      "source": [
        "Görünüşe göre (şimdiye kadarki en iyi modelimiz) kağıttaki sonuçların performansını eşleştirmek için hala bazı yollara sahip (onların modeli test veri kümesinde 90.0 F1 puanı alır, bizimki de ~82.1 F1 puanı alır).\n",
        "\n",
        "Bununla birlikte, daha önce tartıştığımız gibi, modelimiz RCT 20k veri kümesindeki toplam ~180.000 dizinin yalnızca 20.000'inde eğitilmiştir. Ayrıca önceden eğitilmiş gömmelerimizi (kağıt ince ayarlı GloVe gömmeleri) ince ayar yapmadık. Sonuçlarımızı iyileştirmek için deneyebileceğimiz birkaç uzantı var."
      ],
      "metadata": {
        "id": "s9WGXc49jELO"
      }
    },
    {
      "cell_type": "markdown",
      "source": [
        "# En çok yanlış bul\n",
        "\n",
        "Modelinizin nerede yanlış gittiğini (veya potansiyel olarak verilerinizin nerede yanlış olduğunu) araştırmanın en iyi yollarından biri, \"en yanlış\" tahminleri görselleştirmektir.\n",
        "\n",
        "En yanlış tahminler, modelin yüksek olasılıklı bir tahminde bulunduğu ancak yanlış anladığı örneklerdir (modelin tahmini, temel doğruluk etiketiyle aynı fikirde değildir).\n",
        "\n",
        "En yanlış tahminlere bakmak, daha fazla modeli nasıl geliştireceğimiz veya verilerimizdeki etiketleri nasıl düzelteceğimiz konusunda bize değerli bilgiler verebilir.\n",
        "\n",
        "Test veri kümesinden en yanlış tahminleri görselleştirmemize yardımcı olacak bazı kodlar yazalım.\n",
        "\n",
        "Önce tüm tamsayı tabanlı test tahminlerimizi dize tabanlı sınıf adlarına dönüştüreceğiz."
      ],
      "metadata": {
        "id": "sktAJb8DjIFO"
      }
    },
    {
      "cell_type": "code",
      "source": [
        "%%time\n",
        "# Get list of class names of test predictions\n",
        "test_pred_classes = [label_encoder.classes_[pred] for pred in test_preds]\n",
        "test_pred_classes"
      ],
      "metadata": {
        "colab": {
          "base_uri": "https://localhost:8080/"
        },
        "id": "NDENOZ_RjAi4",
        "outputId": "b9c3a4af-53ca-406b-cfb9-ef19289f780f"
      },
      "execution_count": null,
      "outputs": [
        {
          "output_type": "stream",
          "name": "stdout",
          "text": [
            "CPU times: user 18.9 s, sys: 834 ms, total: 19.8 s\n",
            "Wall time: 40.9 s\n"
          ]
        },
        {
          "output_type": "execute_result",
          "data": {
            "text/plain": [
              "['OBJECTIVE',\n",
              " 'OBJECTIVE',\n",
              " 'METHODS',\n",
              " 'METHODS',\n",
              " 'RESULTS',\n",
              " 'RESULTS',\n",
              " 'RESULTS',\n",
              " 'CONCLUSIONS',\n",
              " 'CONCLUSIONS',\n",
              " 'BACKGROUND',\n",
              " 'BACKGROUND',\n",
              " 'METHODS',\n",
              " 'METHODS',\n",
              " 'METHODS',\n",
              " 'RESULTS',\n",
              " 'RESULTS',\n",
              " 'RESULTS',\n",
              " 'RESULTS',\n",
              " 'RESULTS',\n",
              " 'RESULTS',\n",
              " 'CONCLUSIONS',\n",
              " 'CONCLUSIONS',\n",
              " 'OBJECTIVE',\n",
              " 'OBJECTIVE',\n",
              " 'METHODS',\n",
              " 'METHODS',\n",
              " 'RESULTS',\n",
              " 'RESULTS',\n",
              " 'RESULTS',\n",
              " 'CONCLUSIONS',\n",
              " 'CONCLUSIONS',\n",
              " 'BACKGROUND',\n",
              " 'METHODS',\n",
              " 'BACKGROUND',\n",
              " 'METHODS',\n",
              " 'METHODS',\n",
              " 'METHODS',\n",
              " 'METHODS',\n",
              " 'RESULTS',\n",
              " 'RESULTS',\n",
              " 'RESULTS',\n",
              " 'RESULTS',\n",
              " 'CONCLUSIONS',\n",
              " 'CONCLUSIONS',\n",
              " 'BACKGROUND',\n",
              " 'BACKGROUND',\n",
              " 'BACKGROUND',\n",
              " 'OBJECTIVE',\n",
              " 'METHODS',\n",
              " 'METHODS',\n",
              " 'METHODS',\n",
              " 'METHODS',\n",
              " 'METHODS',\n",
              " 'METHODS',\n",
              " 'RESULTS',\n",
              " 'RESULTS',\n",
              " 'CONCLUSIONS',\n",
              " 'CONCLUSIONS',\n",
              " 'OBJECTIVE',\n",
              " 'METHODS',\n",
              " 'METHODS',\n",
              " 'METHODS',\n",
              " 'METHODS',\n",
              " 'METHODS',\n",
              " 'RESULTS',\n",
              " 'RESULTS',\n",
              " 'RESULTS',\n",
              " 'METHODS',\n",
              " 'CONCLUSIONS',\n",
              " 'OBJECTIVE',\n",
              " 'METHODS',\n",
              " 'METHODS',\n",
              " 'METHODS',\n",
              " 'RESULTS',\n",
              " 'METHODS',\n",
              " 'RESULTS',\n",
              " 'RESULTS',\n",
              " 'RESULTS',\n",
              " 'RESULTS',\n",
              " 'CONCLUSIONS',\n",
              " 'CONCLUSIONS',\n",
              " 'BACKGROUND',\n",
              " 'OBJECTIVE',\n",
              " 'METHODS',\n",
              " 'METHODS',\n",
              " 'METHODS',\n",
              " 'METHODS',\n",
              " 'METHODS',\n",
              " 'METHODS',\n",
              " 'METHODS',\n",
              " 'RESULTS',\n",
              " 'RESULTS',\n",
              " 'RESULTS',\n",
              " 'CONCLUSIONS',\n",
              " 'BACKGROUND',\n",
              " 'OBJECTIVE',\n",
              " 'METHODS',\n",
              " 'RESULTS',\n",
              " 'RESULTS',\n",
              " 'RESULTS',\n",
              " 'CONCLUSIONS',\n",
              " 'OBJECTIVE',\n",
              " 'METHODS',\n",
              " 'METHODS',\n",
              " 'METHODS',\n",
              " 'METHODS',\n",
              " 'METHODS',\n",
              " 'METHODS',\n",
              " 'METHODS',\n",
              " 'RESULTS',\n",
              " 'RESULTS',\n",
              " 'RESULTS',\n",
              " 'CONCLUSIONS',\n",
              " 'BACKGROUND',\n",
              " 'BACKGROUND',\n",
              " 'METHODS',\n",
              " 'METHODS',\n",
              " 'METHODS',\n",
              " 'METHODS',\n",
              " 'METHODS',\n",
              " 'METHODS',\n",
              " 'BACKGROUND',\n",
              " 'RESULTS',\n",
              " 'RESULTS',\n",
              " 'RESULTS',\n",
              " 'RESULTS',\n",
              " 'RESULTS',\n",
              " 'CONCLUSIONS',\n",
              " 'BACKGROUND',\n",
              " 'OBJECTIVE',\n",
              " 'METHODS',\n",
              " 'METHODS',\n",
              " 'RESULTS',\n",
              " 'METHODS',\n",
              " 'RESULTS',\n",
              " 'RESULTS',\n",
              " 'RESULTS',\n",
              " 'RESULTS',\n",
              " 'OBJECTIVE',\n",
              " 'METHODS',\n",
              " 'METHODS',\n",
              " 'METHODS',\n",
              " 'RESULTS',\n",
              " 'RESULTS',\n",
              " 'RESULTS',\n",
              " 'RESULTS',\n",
              " 'RESULTS',\n",
              " 'RESULTS',\n",
              " 'CONCLUSIONS',\n",
              " 'CONCLUSIONS',\n",
              " 'BACKGROUND',\n",
              " 'BACKGROUND',\n",
              " 'METHODS',\n",
              " 'BACKGROUND',\n",
              " 'METHODS',\n",
              " 'METHODS',\n",
              " 'METHODS',\n",
              " 'METHODS',\n",
              " 'METHODS',\n",
              " 'METHODS',\n",
              " 'CONCLUSIONS',\n",
              " 'CONCLUSIONS',\n",
              " 'RESULTS',\n",
              " 'BACKGROUND',\n",
              " 'CONCLUSIONS',\n",
              " 'BACKGROUND',\n",
              " 'OBJECTIVE',\n",
              " 'OBJECTIVE',\n",
              " 'METHODS',\n",
              " 'METHODS',\n",
              " 'RESULTS',\n",
              " 'RESULTS',\n",
              " 'RESULTS',\n",
              " 'RESULTS',\n",
              " 'RESULTS',\n",
              " 'CONCLUSIONS',\n",
              " 'OBJECTIVE',\n",
              " 'OBJECTIVE',\n",
              " 'METHODS',\n",
              " 'METHODS',\n",
              " 'METHODS',\n",
              " 'RESULTS',\n",
              " 'RESULTS',\n",
              " 'RESULTS',\n",
              " 'RESULTS',\n",
              " 'RESULTS',\n",
              " 'RESULTS',\n",
              " 'RESULTS',\n",
              " 'CONCLUSIONS',\n",
              " 'BACKGROUND',\n",
              " 'BACKGROUND',\n",
              " 'METHODS',\n",
              " 'METHODS',\n",
              " 'METHODS',\n",
              " 'METHODS',\n",
              " 'BACKGROUND',\n",
              " 'RESULTS',\n",
              " 'RESULTS',\n",
              " 'BACKGROUND',\n",
              " 'RESULTS',\n",
              " 'RESULTS',\n",
              " 'CONCLUSIONS',\n",
              " 'CONCLUSIONS',\n",
              " 'CONCLUSIONS',\n",
              " 'OBJECTIVE',\n",
              " 'METHODS',\n",
              " 'METHODS',\n",
              " 'METHODS',\n",
              " 'METHODS',\n",
              " 'RESULTS',\n",
              " 'RESULTS',\n",
              " 'RESULTS',\n",
              " 'RESULTS',\n",
              " 'CONCLUSIONS',\n",
              " 'BACKGROUND',\n",
              " 'METHODS',\n",
              " 'METHODS',\n",
              " 'METHODS',\n",
              " 'METHODS',\n",
              " 'METHODS',\n",
              " 'RESULTS',\n",
              " 'RESULTS',\n",
              " 'RESULTS',\n",
              " 'RESULTS',\n",
              " 'CONCLUSIONS',\n",
              " 'RESULTS',\n",
              " 'RESULTS',\n",
              " 'BACKGROUND',\n",
              " 'BACKGROUND',\n",
              " 'BACKGROUND',\n",
              " 'METHODS',\n",
              " 'METHODS',\n",
              " 'RESULTS',\n",
              " 'METHODS',\n",
              " 'METHODS',\n",
              " 'RESULTS',\n",
              " 'RESULTS',\n",
              " 'CONCLUSIONS',\n",
              " 'OBJECTIVE',\n",
              " 'BACKGROUND',\n",
              " 'OBJECTIVE',\n",
              " 'METHODS',\n",
              " 'METHODS',\n",
              " 'METHODS',\n",
              " 'RESULTS',\n",
              " 'RESULTS',\n",
              " 'RESULTS',\n",
              " 'CONCLUSIONS',\n",
              " 'CONCLUSIONS',\n",
              " 'BACKGROUND',\n",
              " 'METHODS',\n",
              " 'METHODS',\n",
              " 'METHODS',\n",
              " 'RESULTS',\n",
              " 'RESULTS',\n",
              " 'RESULTS',\n",
              " 'RESULTS',\n",
              " 'RESULTS',\n",
              " 'CONCLUSIONS',\n",
              " 'CONCLUSIONS',\n",
              " 'BACKGROUND',\n",
              " 'OBJECTIVE',\n",
              " 'METHODS',\n",
              " 'METHODS',\n",
              " 'METHODS',\n",
              " 'METHODS',\n",
              " 'METHODS',\n",
              " 'METHODS',\n",
              " 'RESULTS',\n",
              " 'METHODS',\n",
              " 'RESULTS',\n",
              " 'RESULTS',\n",
              " 'RESULTS',\n",
              " 'RESULTS',\n",
              " 'RESULTS',\n",
              " 'CONCLUSIONS',\n",
              " 'METHODS',\n",
              " 'CONCLUSIONS',\n",
              " 'BACKGROUND',\n",
              " 'OBJECTIVE',\n",
              " 'METHODS',\n",
              " 'METHODS',\n",
              " 'METHODS',\n",
              " 'METHODS',\n",
              " 'METHODS',\n",
              " 'RESULTS',\n",
              " 'METHODS',\n",
              " 'CONCLUSIONS',\n",
              " 'BACKGROUND',\n",
              " 'BACKGROUND',\n",
              " 'METHODS',\n",
              " 'METHODS',\n",
              " 'METHODS',\n",
              " 'METHODS',\n",
              " 'RESULTS',\n",
              " 'RESULTS',\n",
              " 'RESULTS',\n",
              " 'RESULTS',\n",
              " 'CONCLUSIONS',\n",
              " 'CONCLUSIONS',\n",
              " 'BACKGROUND',\n",
              " 'OBJECTIVE',\n",
              " 'METHODS',\n",
              " 'METHODS',\n",
              " 'METHODS',\n",
              " 'RESULTS',\n",
              " 'RESULTS',\n",
              " 'RESULTS',\n",
              " 'CONCLUSIONS',\n",
              " 'CONCLUSIONS',\n",
              " 'CONCLUSIONS',\n",
              " 'OBJECTIVE',\n",
              " 'METHODS',\n",
              " 'METHODS',\n",
              " 'METHODS',\n",
              " 'RESULTS',\n",
              " 'RESULTS',\n",
              " 'RESULTS',\n",
              " 'RESULTS',\n",
              " 'RESULTS',\n",
              " 'RESULTS',\n",
              " 'BACKGROUND',\n",
              " 'BACKGROUND',\n",
              " 'METHODS',\n",
              " 'RESULTS',\n",
              " 'RESULTS',\n",
              " 'RESULTS',\n",
              " 'RESULTS',\n",
              " 'CONCLUSIONS',\n",
              " 'BACKGROUND',\n",
              " 'BACKGROUND',\n",
              " 'METHODS',\n",
              " 'METHODS',\n",
              " 'RESULTS',\n",
              " 'RESULTS',\n",
              " 'RESULTS',\n",
              " 'RESULTS',\n",
              " 'RESULTS',\n",
              " 'RESULTS',\n",
              " 'CONCLUSIONS',\n",
              " 'CONCLUSIONS',\n",
              " 'OBJECTIVE',\n",
              " 'METHODS',\n",
              " 'METHODS',\n",
              " 'METHODS',\n",
              " 'METHODS',\n",
              " 'RESULTS',\n",
              " 'RESULTS',\n",
              " 'RESULTS',\n",
              " 'RESULTS',\n",
              " 'RESULTS',\n",
              " 'CONCLUSIONS',\n",
              " 'CONCLUSIONS',\n",
              " 'BACKGROUND',\n",
              " 'BACKGROUND',\n",
              " 'BACKGROUND',\n",
              " 'METHODS',\n",
              " 'METHODS',\n",
              " 'METHODS',\n",
              " 'METHODS',\n",
              " 'RESULTS',\n",
              " 'RESULTS',\n",
              " 'RESULTS',\n",
              " 'RESULTS',\n",
              " 'RESULTS',\n",
              " 'RESULTS',\n",
              " 'RESULTS',\n",
              " 'RESULTS',\n",
              " 'CONCLUSIONS',\n",
              " 'CONCLUSIONS',\n",
              " 'CONCLUSIONS',\n",
              " 'BACKGROUND',\n",
              " 'BACKGROUND',\n",
              " 'BACKGROUND',\n",
              " 'METHODS',\n",
              " 'METHODS',\n",
              " 'RESULTS',\n",
              " 'METHODS',\n",
              " 'RESULTS',\n",
              " 'RESULTS',\n",
              " 'RESULTS',\n",
              " 'RESULTS',\n",
              " 'RESULTS',\n",
              " 'RESULTS',\n",
              " 'CONCLUSIONS',\n",
              " 'CONCLUSIONS',\n",
              " 'BACKGROUND',\n",
              " 'OBJECTIVE',\n",
              " 'RESULTS',\n",
              " 'RESULTS',\n",
              " 'METHODS',\n",
              " 'RESULTS',\n",
              " 'RESULTS',\n",
              " 'RESULTS',\n",
              " 'RESULTS',\n",
              " 'RESULTS',\n",
              " 'CONCLUSIONS',\n",
              " 'CONCLUSIONS',\n",
              " 'BACKGROUND',\n",
              " 'OBJECTIVE',\n",
              " 'METHODS',\n",
              " 'METHODS',\n",
              " 'METHODS',\n",
              " 'METHODS',\n",
              " 'RESULTS',\n",
              " 'RESULTS',\n",
              " 'RESULTS',\n",
              " 'CONCLUSIONS',\n",
              " 'OBJECTIVE',\n",
              " 'METHODS',\n",
              " 'METHODS',\n",
              " 'METHODS',\n",
              " 'RESULTS',\n",
              " 'RESULTS',\n",
              " 'RESULTS',\n",
              " 'RESULTS',\n",
              " 'RESULTS',\n",
              " 'CONCLUSIONS',\n",
              " 'CONCLUSIONS',\n",
              " 'OBJECTIVE',\n",
              " 'METHODS',\n",
              " 'METHODS',\n",
              " 'METHODS',\n",
              " 'RESULTS',\n",
              " 'RESULTS',\n",
              " 'RESULTS',\n",
              " 'RESULTS',\n",
              " 'RESULTS',\n",
              " 'RESULTS',\n",
              " 'RESULTS',\n",
              " 'CONCLUSIONS',\n",
              " 'OBJECTIVE',\n",
              " 'OBJECTIVE',\n",
              " 'RESULTS',\n",
              " 'RESULTS',\n",
              " 'RESULTS',\n",
              " 'RESULTS',\n",
              " 'METHODS',\n",
              " 'METHODS',\n",
              " 'RESULTS',\n",
              " 'BACKGROUND',\n",
              " 'BACKGROUND',\n",
              " 'METHODS',\n",
              " 'METHODS',\n",
              " 'RESULTS',\n",
              " 'RESULTS',\n",
              " 'RESULTS',\n",
              " 'RESULTS',\n",
              " 'CONCLUSIONS',\n",
              " 'CONCLUSIONS',\n",
              " 'CONCLUSIONS',\n",
              " 'BACKGROUND',\n",
              " 'BACKGROUND',\n",
              " 'BACKGROUND',\n",
              " 'OBJECTIVE',\n",
              " 'METHODS',\n",
              " 'METHODS',\n",
              " 'METHODS',\n",
              " 'RESULTS',\n",
              " 'CONCLUSIONS',\n",
              " 'METHODS',\n",
              " 'CONCLUSIONS',\n",
              " 'BACKGROUND',\n",
              " 'BACKGROUND',\n",
              " 'BACKGROUND',\n",
              " 'BACKGROUND',\n",
              " 'METHODS',\n",
              " 'METHODS',\n",
              " 'METHODS',\n",
              " 'RESULTS',\n",
              " 'RESULTS',\n",
              " 'RESULTS',\n",
              " 'RESULTS',\n",
              " 'CONCLUSIONS',\n",
              " 'CONCLUSIONS',\n",
              " 'CONCLUSIONS',\n",
              " 'CONCLUSIONS',\n",
              " 'BACKGROUND',\n",
              " 'BACKGROUND',\n",
              " 'BACKGROUND',\n",
              " 'METHODS',\n",
              " 'METHODS',\n",
              " 'METHODS',\n",
              " 'METHODS',\n",
              " 'RESULTS',\n",
              " 'RESULTS',\n",
              " 'RESULTS',\n",
              " 'RESULTS',\n",
              " 'CONCLUSIONS',\n",
              " 'CONCLUSIONS',\n",
              " 'CONCLUSIONS',\n",
              " 'BACKGROUND',\n",
              " 'BACKGROUND',\n",
              " 'BACKGROUND',\n",
              " 'OBJECTIVE',\n",
              " 'METHODS',\n",
              " 'METHODS',\n",
              " 'RESULTS',\n",
              " 'RESULTS',\n",
              " 'RESULTS',\n",
              " 'CONCLUSIONS',\n",
              " 'CONCLUSIONS',\n",
              " 'BACKGROUND',\n",
              " 'BACKGROUND',\n",
              " 'METHODS',\n",
              " 'METHODS',\n",
              " 'RESULTS',\n",
              " 'RESULTS',\n",
              " 'RESULTS',\n",
              " 'RESULTS',\n",
              " 'RESULTS',\n",
              " 'CONCLUSIONS',\n",
              " 'CONCLUSIONS',\n",
              " 'BACKGROUND',\n",
              " 'BACKGROUND',\n",
              " 'METHODS',\n",
              " 'METHODS',\n",
              " 'METHODS',\n",
              " 'RESULTS',\n",
              " 'RESULTS',\n",
              " 'RESULTS',\n",
              " 'RESULTS',\n",
              " 'RESULTS',\n",
              " 'CONCLUSIONS',\n",
              " 'CONCLUSIONS',\n",
              " 'BACKGROUND',\n",
              " 'OBJECTIVE',\n",
              " 'METHODS',\n",
              " 'METHODS',\n",
              " 'METHODS',\n",
              " 'RESULTS',\n",
              " 'RESULTS',\n",
              " 'CONCLUSIONS',\n",
              " 'CONCLUSIONS',\n",
              " 'OBJECTIVE',\n",
              " 'METHODS',\n",
              " 'METHODS',\n",
              " 'RESULTS',\n",
              " 'RESULTS',\n",
              " 'RESULTS',\n",
              " 'RESULTS',\n",
              " 'RESULTS',\n",
              " 'CONCLUSIONS',\n",
              " 'BACKGROUND',\n",
              " 'BACKGROUND',\n",
              " 'METHODS',\n",
              " 'METHODS',\n",
              " 'METHODS',\n",
              " 'RESULTS',\n",
              " 'RESULTS',\n",
              " 'RESULTS',\n",
              " 'RESULTS',\n",
              " 'RESULTS',\n",
              " 'RESULTS',\n",
              " 'CONCLUSIONS',\n",
              " 'BACKGROUND',\n",
              " 'BACKGROUND',\n",
              " 'BACKGROUND',\n",
              " 'BACKGROUND',\n",
              " 'OBJECTIVE',\n",
              " 'METHODS',\n",
              " 'METHODS',\n",
              " 'METHODS',\n",
              " 'METHODS',\n",
              " 'METHODS',\n",
              " 'RESULTS',\n",
              " 'RESULTS',\n",
              " 'RESULTS',\n",
              " 'CONCLUSIONS',\n",
              " 'CONCLUSIONS',\n",
              " 'OBJECTIVE',\n",
              " 'OBJECTIVE',\n",
              " 'METHODS',\n",
              " 'METHODS',\n",
              " 'RESULTS',\n",
              " 'RESULTS',\n",
              " 'RESULTS',\n",
              " 'CONCLUSIONS',\n",
              " 'CONCLUSIONS',\n",
              " 'BACKGROUND',\n",
              " 'BACKGROUND',\n",
              " 'BACKGROUND',\n",
              " 'METHODS',\n",
              " 'METHODS',\n",
              " 'METHODS',\n",
              " 'METHODS',\n",
              " 'METHODS',\n",
              " 'METHODS',\n",
              " 'RESULTS',\n",
              " 'RESULTS',\n",
              " 'RESULTS',\n",
              " 'CONCLUSIONS',\n",
              " 'METHODS',\n",
              " 'CONCLUSIONS',\n",
              " 'METHODS',\n",
              " 'RESULTS',\n",
              " 'CONCLUSIONS',\n",
              " 'RESULTS',\n",
              " 'BACKGROUND',\n",
              " 'OBJECTIVE',\n",
              " 'METHODS',\n",
              " 'METHODS',\n",
              " 'METHODS',\n",
              " 'RESULTS',\n",
              " 'METHODS',\n",
              " 'RESULTS',\n",
              " 'RESULTS',\n",
              " 'RESULTS',\n",
              " 'RESULTS',\n",
              " 'CONCLUSIONS',\n",
              " 'CONCLUSIONS',\n",
              " 'CONCLUSIONS',\n",
              " 'CONCLUSIONS',\n",
              " 'BACKGROUND',\n",
              " 'BACKGROUND',\n",
              " 'METHODS',\n",
              " 'METHODS',\n",
              " 'RESULTS',\n",
              " 'METHODS',\n",
              " 'METHODS',\n",
              " 'METHODS',\n",
              " 'RESULTS',\n",
              " 'RESULTS',\n",
              " 'CONCLUSIONS',\n",
              " 'CONCLUSIONS',\n",
              " 'CONCLUSIONS',\n",
              " 'BACKGROUND',\n",
              " 'BACKGROUND',\n",
              " 'BACKGROUND',\n",
              " 'METHODS',\n",
              " 'METHODS',\n",
              " 'METHODS',\n",
              " 'RESULTS',\n",
              " 'RESULTS',\n",
              " 'RESULTS',\n",
              " 'RESULTS',\n",
              " 'RESULTS',\n",
              " 'CONCLUSIONS',\n",
              " 'CONCLUSIONS',\n",
              " 'OBJECTIVE',\n",
              " 'OBJECTIVE',\n",
              " 'METHODS',\n",
              " 'METHODS',\n",
              " 'RESULTS',\n",
              " 'RESULTS',\n",
              " 'RESULTS',\n",
              " 'CONCLUSIONS',\n",
              " 'CONCLUSIONS',\n",
              " 'OBJECTIVE',\n",
              " 'METHODS',\n",
              " 'METHODS',\n",
              " 'CONCLUSIONS',\n",
              " 'METHODS',\n",
              " 'RESULTS',\n",
              " 'RESULTS',\n",
              " 'OBJECTIVE',\n",
              " 'BACKGROUND',\n",
              " 'BACKGROUND',\n",
              " 'METHODS',\n",
              " 'METHODS',\n",
              " 'METHODS',\n",
              " 'METHODS',\n",
              " 'RESULTS',\n",
              " 'RESULTS',\n",
              " 'METHODS',\n",
              " 'RESULTS',\n",
              " 'RESULTS',\n",
              " 'CONCLUSIONS',\n",
              " 'CONCLUSIONS',\n",
              " 'CONCLUSIONS',\n",
              " 'CONCLUSIONS',\n",
              " 'OBJECTIVE',\n",
              " 'METHODS',\n",
              " 'METHODS',\n",
              " 'RESULTS',\n",
              " 'RESULTS',\n",
              " 'METHODS',\n",
              " 'RESULTS',\n",
              " 'CONCLUSIONS',\n",
              " 'OBJECTIVE',\n",
              " 'BACKGROUND',\n",
              " 'METHODS',\n",
              " 'METHODS',\n",
              " 'METHODS',\n",
              " 'METHODS',\n",
              " 'RESULTS',\n",
              " 'RESULTS',\n",
              " 'RESULTS',\n",
              " 'RESULTS',\n",
              " 'RESULTS',\n",
              " 'RESULTS',\n",
              " 'CONCLUSIONS',\n",
              " 'CONCLUSIONS',\n",
              " 'BACKGROUND',\n",
              " 'BACKGROUND',\n",
              " 'BACKGROUND',\n",
              " 'METHODS',\n",
              " 'METHODS',\n",
              " 'METHODS',\n",
              " 'METHODS',\n",
              " 'RESULTS',\n",
              " 'METHODS',\n",
              " 'RESULTS',\n",
              " 'RESULTS',\n",
              " 'CONCLUSIONS',\n",
              " 'CONCLUSIONS',\n",
              " 'CONCLUSIONS',\n",
              " 'CONCLUSIONS',\n",
              " 'OBJECTIVE',\n",
              " 'METHODS',\n",
              " 'METHODS',\n",
              " 'METHODS',\n",
              " 'METHODS',\n",
              " 'METHODS',\n",
              " 'METHODS',\n",
              " 'RESULTS',\n",
              " 'RESULTS',\n",
              " 'RESULTS',\n",
              " 'RESULTS',\n",
              " 'RESULTS',\n",
              " 'RESULTS',\n",
              " 'CONCLUSIONS',\n",
              " 'CONCLUSIONS',\n",
              " 'BACKGROUND',\n",
              " 'METHODS',\n",
              " 'BACKGROUND',\n",
              " 'OBJECTIVE',\n",
              " 'METHODS',\n",
              " 'RESULTS',\n",
              " 'METHODS',\n",
              " 'RESULTS',\n",
              " 'RESULTS',\n",
              " 'RESULTS',\n",
              " 'CONCLUSIONS',\n",
              " 'RESULTS',\n",
              " 'BACKGROUND',\n",
              " 'BACKGROUND',\n",
              " 'METHODS',\n",
              " 'METHODS',\n",
              " 'METHODS',\n",
              " 'RESULTS',\n",
              " 'RESULTS',\n",
              " 'RESULTS',\n",
              " 'RESULTS',\n",
              " 'RESULTS',\n",
              " 'RESULTS',\n",
              " 'CONCLUSIONS',\n",
              " 'CONCLUSIONS',\n",
              " 'BACKGROUND',\n",
              " 'BACKGROUND',\n",
              " 'BACKGROUND',\n",
              " 'OBJECTIVE',\n",
              " 'METHODS',\n",
              " 'METHODS',\n",
              " 'METHODS',\n",
              " 'RESULTS',\n",
              " 'METHODS',\n",
              " 'METHODS',\n",
              " 'RESULTS',\n",
              " 'RESULTS',\n",
              " 'RESULTS',\n",
              " 'CONCLUSIONS',\n",
              " 'RESULTS',\n",
              " 'RESULTS',\n",
              " 'RESULTS',\n",
              " 'RESULTS',\n",
              " 'RESULTS',\n",
              " 'CONCLUSIONS',\n",
              " 'CONCLUSIONS',\n",
              " 'BACKGROUND',\n",
              " 'OBJECTIVE',\n",
              " 'METHODS',\n",
              " 'METHODS',\n",
              " 'RESULTS',\n",
              " 'METHODS',\n",
              " 'RESULTS',\n",
              " 'RESULTS',\n",
              " 'RESULTS',\n",
              " 'CONCLUSIONS',\n",
              " 'CONCLUSIONS',\n",
              " 'CONCLUSIONS',\n",
              " 'BACKGROUND',\n",
              " 'BACKGROUND',\n",
              " 'METHODS',\n",
              " 'METHODS',\n",
              " 'METHODS',\n",
              " 'METHODS',\n",
              " 'METHODS',\n",
              " 'METHODS',\n",
              " 'RESULTS',\n",
              " 'RESULTS',\n",
              " 'CONCLUSIONS',\n",
              " 'CONCLUSIONS',\n",
              " 'CONCLUSIONS',\n",
              " 'BACKGROUND',\n",
              " 'BACKGROUND',\n",
              " 'BACKGROUND',\n",
              " 'BACKGROUND',\n",
              " 'BACKGROUND',\n",
              " 'OBJECTIVE',\n",
              " 'METHODS',\n",
              " 'METHODS',\n",
              " 'RESULTS',\n",
              " 'RESULTS',\n",
              " 'RESULTS',\n",
              " 'CONCLUSIONS',\n",
              " 'CONCLUSIONS',\n",
              " 'BACKGROUND',\n",
              " 'METHODS',\n",
              " 'BACKGROUND',\n",
              " 'BACKGROUND',\n",
              " 'METHODS',\n",
              " 'METHODS',\n",
              " 'RESULTS',\n",
              " 'METHODS',\n",
              " 'RESULTS',\n",
              " 'RESULTS',\n",
              " 'RESULTS',\n",
              " 'RESULTS',\n",
              " 'RESULTS',\n",
              " 'RESULTS',\n",
              " 'CONCLUSIONS',\n",
              " 'BACKGROUND',\n",
              " 'BACKGROUND',\n",
              " 'BACKGROUND',\n",
              " 'METHODS',\n",
              " 'METHODS',\n",
              " 'METHODS',\n",
              " 'RESULTS',\n",
              " 'METHODS',\n",
              " 'RESULTS',\n",
              " 'RESULTS',\n",
              " 'CONCLUSIONS',\n",
              " 'RESULTS',\n",
              " 'CONCLUSIONS',\n",
              " 'OBJECTIVE',\n",
              " 'RESULTS',\n",
              " 'METHODS',\n",
              " 'RESULTS',\n",
              " 'METHODS',\n",
              " 'RESULTS',\n",
              " 'RESULTS',\n",
              " 'RESULTS',\n",
              " 'CONCLUSIONS',\n",
              " 'RESULTS',\n",
              " 'CONCLUSIONS',\n",
              " 'CONCLUSIONS',\n",
              " 'BACKGROUND',\n",
              " 'OBJECTIVE',\n",
              " 'METHODS',\n",
              " 'METHODS',\n",
              " 'RESULTS',\n",
              " 'RESULTS',\n",
              " 'METHODS',\n",
              " 'RESULTS',\n",
              " 'RESULTS',\n",
              " 'CONCLUSIONS',\n",
              " 'CONCLUSIONS',\n",
              " 'CONCLUSIONS',\n",
              " 'BACKGROUND',\n",
              " 'BACKGROUND',\n",
              " 'METHODS',\n",
              " 'METHODS',\n",
              " 'METHODS',\n",
              " 'METHODS',\n",
              " 'METHODS',\n",
              " 'RESULTS',\n",
              " 'RESULTS',\n",
              " 'RESULTS',\n",
              " 'RESULTS',\n",
              " 'CONCLUSIONS',\n",
              " 'OBJECTIVE',\n",
              " 'METHODS',\n",
              " 'METHODS',\n",
              " 'METHODS',\n",
              " 'METHODS',\n",
              " 'RESULTS',\n",
              " 'RESULTS',\n",
              " 'RESULTS',\n",
              " 'CONCLUSIONS',\n",
              " 'RESULTS',\n",
              " 'BACKGROUND',\n",
              " 'BACKGROUND',\n",
              " 'METHODS',\n",
              " 'METHODS',\n",
              " 'METHODS',\n",
              " 'METHODS',\n",
              " 'METHODS',\n",
              " 'RESULTS',\n",
              " 'RESULTS',\n",
              " 'RESULTS',\n",
              " 'RESULTS',\n",
              " 'RESULTS',\n",
              " 'CONCLUSIONS',\n",
              " 'BACKGROUND',\n",
              " 'METHODS',\n",
              " 'RESULTS',\n",
              " 'RESULTS',\n",
              " 'RESULTS',\n",
              " 'RESULTS',\n",
              " 'RESULTS',\n",
              " 'CONCLUSIONS',\n",
              " 'CONCLUSIONS',\n",
              " 'BACKGROUND',\n",
              " 'BACKGROUND',\n",
              " 'BACKGROUND',\n",
              " 'BACKGROUND',\n",
              " 'METHODS',\n",
              " 'METHODS',\n",
              " 'METHODS',\n",
              " 'METHODS',\n",
              " 'RESULTS',\n",
              " 'RESULTS',\n",
              " 'METHODS',\n",
              " 'RESULTS',\n",
              " 'RESULTS',\n",
              " 'CONCLUSIONS',\n",
              " 'CONCLUSIONS',\n",
              " 'BACKGROUND',\n",
              " 'BACKGROUND',\n",
              " 'METHODS',\n",
              " 'METHODS',\n",
              " 'METHODS',\n",
              " 'RESULTS',\n",
              " 'RESULTS',\n",
              " 'METHODS',\n",
              " 'RESULTS',\n",
              " 'RESULTS',\n",
              " 'RESULTS',\n",
              " 'CONCLUSIONS',\n",
              " 'CONCLUSIONS',\n",
              " 'CONCLUSIONS',\n",
              " 'CONCLUSIONS',\n",
              " 'BACKGROUND',\n",
              " 'METHODS',\n",
              " 'METHODS',\n",
              " 'METHODS',\n",
              " 'METHODS',\n",
              " 'METHODS',\n",
              " 'RESULTS',\n",
              " 'RESULTS',\n",
              " 'RESULTS',\n",
              " 'RESULTS',\n",
              " 'RESULTS',\n",
              " 'RESULTS',\n",
              " 'CONCLUSIONS',\n",
              " 'RESULTS',\n",
              " 'METHODS',\n",
              " 'OBJECTIVE',\n",
              " 'METHODS',\n",
              " 'RESULTS',\n",
              " 'METHODS',\n",
              " 'RESULTS',\n",
              " 'RESULTS',\n",
              " 'RESULTS',\n",
              " 'RESULTS',\n",
              " 'RESULTS',\n",
              " 'CONCLUSIONS',\n",
              " 'CONCLUSIONS',\n",
              " 'BACKGROUND',\n",
              " 'BACKGROUND',\n",
              " 'BACKGROUND',\n",
              " 'OBJECTIVE',\n",
              " 'METHODS',\n",
              " 'METHODS',\n",
              " 'METHODS',\n",
              " 'METHODS',\n",
              " 'RESULTS',\n",
              " 'RESULTS',\n",
              " 'RESULTS',\n",
              " 'RESULTS',\n",
              " 'RESULTS',\n",
              " 'RESULTS',\n",
              " 'RESULTS',\n",
              " 'CONCLUSIONS',\n",
              " 'RESULTS',\n",
              " 'CONCLUSIONS',\n",
              " 'CONCLUSIONS',\n",
              " 'BACKGROUND',\n",
              " 'OBJECTIVE',\n",
              " 'METHODS',\n",
              " 'METHODS',\n",
              " 'METHODS',\n",
              " 'RESULTS',\n",
              " 'RESULTS',\n",
              " 'RESULTS',\n",
              " 'CONCLUSIONS',\n",
              " 'BACKGROUND',\n",
              " 'BACKGROUND',\n",
              " 'METHODS',\n",
              " 'METHODS',\n",
              " 'METHODS',\n",
              " 'METHODS',\n",
              " 'METHODS',\n",
              " 'METHODS',\n",
              " 'RESULTS',\n",
              " 'RESULTS',\n",
              " 'RESULTS',\n",
              " 'CONCLUSIONS',\n",
              " 'CONCLUSIONS',\n",
              " ...]"
            ]
          },
          "metadata": {},
          "execution_count": 135
        }
      ]
    },
    {
      "cell_type": "markdown",
      "source": [
        "Şimdi test DataFame'imizi birkaç değerle zenginleştireceğiz:\n",
        "\n",
        "1. Belirli bir örnek için modelimizin tahminini içeren bir \"tahmin\" (dize) sütunu.\n",
        "\n",
        "2. Belirli bir örnek için modelin maksimum tahmin olasılığını içeren bir \"pred_prob\" (float) sütunu.\n",
        "\n",
        "3. Modelin tahmininin numunenin hedef etiketiyle eşleşip eşleşmediğini gösteren bir \"doğru\" (bool) sütunu."
      ],
      "metadata": {
        "id": "Hk3CaY3zjRio"
      }
    },
    {
      "cell_type": "code",
      "source": [
        "# Create prediction-enriched test dataframe\n",
        "test_df[\"prediction\"] = test_pred_classes # create column with test prediction class names\n",
        "test_df[\"pred_prob\"] = tf.reduce_max(test_pred_probs, axis=1).numpy() # get the maximum prediction probability\n",
        "test_df[\"correct\"] = test_df[\"prediction\"] == test_df[\"target\"] # create binary column for whether the prediction is right or not\n",
        "test_df.head(20)"
      ],
      "metadata": {
        "colab": {
          "base_uri": "https://localhost:8080/",
          "height": 669
        },
        "id": "-Z53BWxmjKl0",
        "outputId": "ad6a3b76-a3ed-4b8c-d08b-8600cb6d79f9"
      },
      "execution_count": null,
      "outputs": [
        {
          "output_type": "execute_result",
          "data": {
            "text/plain": [
              "         target                                               text  \\\n",
              "0    BACKGROUND  this study analyzed liver function abnormaliti...   \n",
              "1       RESULTS  a post hoc analysis was conducted with the use...   \n",
              "2       RESULTS  liver function tests ( lfts ) were measured at...   \n",
              "3       RESULTS  survival analyses were used to assess the asso...   \n",
              "4       RESULTS  the percentage of patients with abnormal lfts ...   \n",
              "5       RESULTS  when mean hemodynamic profiles were compared i...   \n",
              "6       RESULTS  multivariable analyses revealed that patients ...   \n",
              "7   CONCLUSIONS  abnormal lfts are common in the adhf populatio...   \n",
              "8   CONCLUSIONS  elevated meld-xi scores are associated with po...   \n",
              "9    BACKGROUND  minimally invasive endovascular aneurysm repai...   \n",
              "10   BACKGROUND  the aim of this study was to analyse the cost-...   \n",
              "11      METHODS  resource use was determined from the amsterdam...   \n",
              "12      METHODS  the analysis was performed from a provider per...   \n",
              "13      METHODS  all costs were calculated as if all patients h...   \n",
              "14      RESULTS            a total of @ patients were randomized .   \n",
              "15      RESULTS  the @-day mortality rate was @ per cent after ...   \n",
              "16      RESULTS  at @months , the total mortality rate for evar...   \n",
              "17      RESULTS  the mean cost difference between evar and or w...   \n",
              "18      RESULTS  the incremental cost-effectiveness ratio per p...   \n",
              "19      RESULTS  there was no significant difference in quality...   \n",
              "\n",
              "    line_number  total_lines   prediction  pred_prob  correct  \n",
              "0             0            8    OBJECTIVE   0.523885    False  \n",
              "1             1            8    OBJECTIVE   0.351917    False  \n",
              "2             2            8      METHODS   0.802459    False  \n",
              "3             3            8      METHODS   0.652782    False  \n",
              "4             4            8      RESULTS   0.665070     True  \n",
              "5             5            8      RESULTS   0.881815     True  \n",
              "6             6            8      RESULTS   0.529839     True  \n",
              "7             7            8  CONCLUSIONS   0.568003     True  \n",
              "8             8            8  CONCLUSIONS   0.461431     True  \n",
              "9             0           12   BACKGROUND   0.537819     True  \n",
              "10            1           12   BACKGROUND   0.438333     True  \n",
              "11            2           12      METHODS   0.655861     True  \n",
              "12            3           12      METHODS   0.855098     True  \n",
              "13            4           12      METHODS   0.551562     True  \n",
              "14            5           12      RESULTS   0.712396     True  \n",
              "15            6           12      RESULTS   0.678077     True  \n",
              "16            7           12      RESULTS   0.895397     True  \n",
              "17            8           12      RESULTS   0.848448     True  \n",
              "18            9           12      RESULTS   0.797882     True  \n",
              "19           10           12      RESULTS   0.726361     True  "
            ],
            "text/html": [
              "\n",
              "  <div id=\"df-21b8a5af-4715-4c9c-881c-260cab81c159\" class=\"colab-df-container\">\n",
              "    <div>\n",
              "<style scoped>\n",
              "    .dataframe tbody tr th:only-of-type {\n",
              "        vertical-align: middle;\n",
              "    }\n",
              "\n",
              "    .dataframe tbody tr th {\n",
              "        vertical-align: top;\n",
              "    }\n",
              "\n",
              "    .dataframe thead th {\n",
              "        text-align: right;\n",
              "    }\n",
              "</style>\n",
              "<table border=\"1\" class=\"dataframe\">\n",
              "  <thead>\n",
              "    <tr style=\"text-align: right;\">\n",
              "      <th></th>\n",
              "      <th>target</th>\n",
              "      <th>text</th>\n",
              "      <th>line_number</th>\n",
              "      <th>total_lines</th>\n",
              "      <th>prediction</th>\n",
              "      <th>pred_prob</th>\n",
              "      <th>correct</th>\n",
              "    </tr>\n",
              "  </thead>\n",
              "  <tbody>\n",
              "    <tr>\n",
              "      <th>0</th>\n",
              "      <td>BACKGROUND</td>\n",
              "      <td>this study analyzed liver function abnormaliti...</td>\n",
              "      <td>0</td>\n",
              "      <td>8</td>\n",
              "      <td>OBJECTIVE</td>\n",
              "      <td>0.523885</td>\n",
              "      <td>False</td>\n",
              "    </tr>\n",
              "    <tr>\n",
              "      <th>1</th>\n",
              "      <td>RESULTS</td>\n",
              "      <td>a post hoc analysis was conducted with the use...</td>\n",
              "      <td>1</td>\n",
              "      <td>8</td>\n",
              "      <td>OBJECTIVE</td>\n",
              "      <td>0.351917</td>\n",
              "      <td>False</td>\n",
              "    </tr>\n",
              "    <tr>\n",
              "      <th>2</th>\n",
              "      <td>RESULTS</td>\n",
              "      <td>liver function tests ( lfts ) were measured at...</td>\n",
              "      <td>2</td>\n",
              "      <td>8</td>\n",
              "      <td>METHODS</td>\n",
              "      <td>0.802459</td>\n",
              "      <td>False</td>\n",
              "    </tr>\n",
              "    <tr>\n",
              "      <th>3</th>\n",
              "      <td>RESULTS</td>\n",
              "      <td>survival analyses were used to assess the asso...</td>\n",
              "      <td>3</td>\n",
              "      <td>8</td>\n",
              "      <td>METHODS</td>\n",
              "      <td>0.652782</td>\n",
              "      <td>False</td>\n",
              "    </tr>\n",
              "    <tr>\n",
              "      <th>4</th>\n",
              "      <td>RESULTS</td>\n",
              "      <td>the percentage of patients with abnormal lfts ...</td>\n",
              "      <td>4</td>\n",
              "      <td>8</td>\n",
              "      <td>RESULTS</td>\n",
              "      <td>0.665070</td>\n",
              "      <td>True</td>\n",
              "    </tr>\n",
              "    <tr>\n",
              "      <th>5</th>\n",
              "      <td>RESULTS</td>\n",
              "      <td>when mean hemodynamic profiles were compared i...</td>\n",
              "      <td>5</td>\n",
              "      <td>8</td>\n",
              "      <td>RESULTS</td>\n",
              "      <td>0.881815</td>\n",
              "      <td>True</td>\n",
              "    </tr>\n",
              "    <tr>\n",
              "      <th>6</th>\n",
              "      <td>RESULTS</td>\n",
              "      <td>multivariable analyses revealed that patients ...</td>\n",
              "      <td>6</td>\n",
              "      <td>8</td>\n",
              "      <td>RESULTS</td>\n",
              "      <td>0.529839</td>\n",
              "      <td>True</td>\n",
              "    </tr>\n",
              "    <tr>\n",
              "      <th>7</th>\n",
              "      <td>CONCLUSIONS</td>\n",
              "      <td>abnormal lfts are common in the adhf populatio...</td>\n",
              "      <td>7</td>\n",
              "      <td>8</td>\n",
              "      <td>CONCLUSIONS</td>\n",
              "      <td>0.568003</td>\n",
              "      <td>True</td>\n",
              "    </tr>\n",
              "    <tr>\n",
              "      <th>8</th>\n",
              "      <td>CONCLUSIONS</td>\n",
              "      <td>elevated meld-xi scores are associated with po...</td>\n",
              "      <td>8</td>\n",
              "      <td>8</td>\n",
              "      <td>CONCLUSIONS</td>\n",
              "      <td>0.461431</td>\n",
              "      <td>True</td>\n",
              "    </tr>\n",
              "    <tr>\n",
              "      <th>9</th>\n",
              "      <td>BACKGROUND</td>\n",
              "      <td>minimally invasive endovascular aneurysm repai...</td>\n",
              "      <td>0</td>\n",
              "      <td>12</td>\n",
              "      <td>BACKGROUND</td>\n",
              "      <td>0.537819</td>\n",
              "      <td>True</td>\n",
              "    </tr>\n",
              "    <tr>\n",
              "      <th>10</th>\n",
              "      <td>BACKGROUND</td>\n",
              "      <td>the aim of this study was to analyse the cost-...</td>\n",
              "      <td>1</td>\n",
              "      <td>12</td>\n",
              "      <td>BACKGROUND</td>\n",
              "      <td>0.438333</td>\n",
              "      <td>True</td>\n",
              "    </tr>\n",
              "    <tr>\n",
              "      <th>11</th>\n",
              "      <td>METHODS</td>\n",
              "      <td>resource use was determined from the amsterdam...</td>\n",
              "      <td>2</td>\n",
              "      <td>12</td>\n",
              "      <td>METHODS</td>\n",
              "      <td>0.655861</td>\n",
              "      <td>True</td>\n",
              "    </tr>\n",
              "    <tr>\n",
              "      <th>12</th>\n",
              "      <td>METHODS</td>\n",
              "      <td>the analysis was performed from a provider per...</td>\n",
              "      <td>3</td>\n",
              "      <td>12</td>\n",
              "      <td>METHODS</td>\n",
              "      <td>0.855098</td>\n",
              "      <td>True</td>\n",
              "    </tr>\n",
              "    <tr>\n",
              "      <th>13</th>\n",
              "      <td>METHODS</td>\n",
              "      <td>all costs were calculated as if all patients h...</td>\n",
              "      <td>4</td>\n",
              "      <td>12</td>\n",
              "      <td>METHODS</td>\n",
              "      <td>0.551562</td>\n",
              "      <td>True</td>\n",
              "    </tr>\n",
              "    <tr>\n",
              "      <th>14</th>\n",
              "      <td>RESULTS</td>\n",
              "      <td>a total of @ patients were randomized .</td>\n",
              "      <td>5</td>\n",
              "      <td>12</td>\n",
              "      <td>RESULTS</td>\n",
              "      <td>0.712396</td>\n",
              "      <td>True</td>\n",
              "    </tr>\n",
              "    <tr>\n",
              "      <th>15</th>\n",
              "      <td>RESULTS</td>\n",
              "      <td>the @-day mortality rate was @ per cent after ...</td>\n",
              "      <td>6</td>\n",
              "      <td>12</td>\n",
              "      <td>RESULTS</td>\n",
              "      <td>0.678077</td>\n",
              "      <td>True</td>\n",
              "    </tr>\n",
              "    <tr>\n",
              "      <th>16</th>\n",
              "      <td>RESULTS</td>\n",
              "      <td>at @months , the total mortality rate for evar...</td>\n",
              "      <td>7</td>\n",
              "      <td>12</td>\n",
              "      <td>RESULTS</td>\n",
              "      <td>0.895397</td>\n",
              "      <td>True</td>\n",
              "    </tr>\n",
              "    <tr>\n",
              "      <th>17</th>\n",
              "      <td>RESULTS</td>\n",
              "      <td>the mean cost difference between evar and or w...</td>\n",
              "      <td>8</td>\n",
              "      <td>12</td>\n",
              "      <td>RESULTS</td>\n",
              "      <td>0.848448</td>\n",
              "      <td>True</td>\n",
              "    </tr>\n",
              "    <tr>\n",
              "      <th>18</th>\n",
              "      <td>RESULTS</td>\n",
              "      <td>the incremental cost-effectiveness ratio per p...</td>\n",
              "      <td>9</td>\n",
              "      <td>12</td>\n",
              "      <td>RESULTS</td>\n",
              "      <td>0.797882</td>\n",
              "      <td>True</td>\n",
              "    </tr>\n",
              "    <tr>\n",
              "      <th>19</th>\n",
              "      <td>RESULTS</td>\n",
              "      <td>there was no significant difference in quality...</td>\n",
              "      <td>10</td>\n",
              "      <td>12</td>\n",
              "      <td>RESULTS</td>\n",
              "      <td>0.726361</td>\n",
              "      <td>True</td>\n",
              "    </tr>\n",
              "  </tbody>\n",
              "</table>\n",
              "</div>\n",
              "    <div class=\"colab-df-buttons\">\n",
              "\n",
              "  <div class=\"colab-df-container\">\n",
              "    <button class=\"colab-df-convert\" onclick=\"convertToInteractive('df-21b8a5af-4715-4c9c-881c-260cab81c159')\"\n",
              "            title=\"Convert this dataframe to an interactive table.\"\n",
              "            style=\"display:none;\">\n",
              "\n",
              "  <svg xmlns=\"http://www.w3.org/2000/svg\" height=\"24px\" viewBox=\"0 -960 960 960\">\n",
              "    <path d=\"M120-120v-720h720v720H120Zm60-500h600v-160H180v160Zm220 220h160v-160H400v160Zm0 220h160v-160H400v160ZM180-400h160v-160H180v160Zm440 0h160v-160H620v160ZM180-180h160v-160H180v160Zm440 0h160v-160H620v160Z\"/>\n",
              "  </svg>\n",
              "    </button>\n",
              "\n",
              "  <style>\n",
              "    .colab-df-container {\n",
              "      display:flex;\n",
              "      gap: 12px;\n",
              "    }\n",
              "\n",
              "    .colab-df-convert {\n",
              "      background-color: #E8F0FE;\n",
              "      border: none;\n",
              "      border-radius: 50%;\n",
              "      cursor: pointer;\n",
              "      display: none;\n",
              "      fill: #1967D2;\n",
              "      height: 32px;\n",
              "      padding: 0 0 0 0;\n",
              "      width: 32px;\n",
              "    }\n",
              "\n",
              "    .colab-df-convert:hover {\n",
              "      background-color: #E2EBFA;\n",
              "      box-shadow: 0px 1px 2px rgba(60, 64, 67, 0.3), 0px 1px 3px 1px rgba(60, 64, 67, 0.15);\n",
              "      fill: #174EA6;\n",
              "    }\n",
              "\n",
              "    .colab-df-buttons div {\n",
              "      margin-bottom: 4px;\n",
              "    }\n",
              "\n",
              "    [theme=dark] .colab-df-convert {\n",
              "      background-color: #3B4455;\n",
              "      fill: #D2E3FC;\n",
              "    }\n",
              "\n",
              "    [theme=dark] .colab-df-convert:hover {\n",
              "      background-color: #434B5C;\n",
              "      box-shadow: 0px 1px 3px 1px rgba(0, 0, 0, 0.15);\n",
              "      filter: drop-shadow(0px 1px 2px rgba(0, 0, 0, 0.3));\n",
              "      fill: #FFFFFF;\n",
              "    }\n",
              "  </style>\n",
              "\n",
              "    <script>\n",
              "      const buttonEl =\n",
              "        document.querySelector('#df-21b8a5af-4715-4c9c-881c-260cab81c159 button.colab-df-convert');\n",
              "      buttonEl.style.display =\n",
              "        google.colab.kernel.accessAllowed ? 'block' : 'none';\n",
              "\n",
              "      async function convertToInteractive(key) {\n",
              "        const element = document.querySelector('#df-21b8a5af-4715-4c9c-881c-260cab81c159');\n",
              "        const dataTable =\n",
              "          await google.colab.kernel.invokeFunction('convertToInteractive',\n",
              "                                                    [key], {});\n",
              "        if (!dataTable) return;\n",
              "\n",
              "        const docLinkHtml = 'Like what you see? Visit the ' +\n",
              "          '<a target=\"_blank\" href=https://colab.research.google.com/notebooks/data_table.ipynb>data table notebook</a>'\n",
              "          + ' to learn more about interactive tables.';\n",
              "        element.innerHTML = '';\n",
              "        dataTable['output_type'] = 'display_data';\n",
              "        await google.colab.output.renderOutput(dataTable, element);\n",
              "        const docLink = document.createElement('div');\n",
              "        docLink.innerHTML = docLinkHtml;\n",
              "        element.appendChild(docLink);\n",
              "      }\n",
              "    </script>\n",
              "  </div>\n",
              "\n",
              "\n",
              "<div id=\"df-791b7de7-8f34-4b75-bb81-cb084a5f250d\">\n",
              "  <button class=\"colab-df-quickchart\" onclick=\"quickchart('df-791b7de7-8f34-4b75-bb81-cb084a5f250d')\"\n",
              "            title=\"Suggest charts\"\n",
              "            style=\"display:none;\">\n",
              "\n",
              "<svg xmlns=\"http://www.w3.org/2000/svg\" height=\"24px\"viewBox=\"0 0 24 24\"\n",
              "     width=\"24px\">\n",
              "    <g>\n",
              "        <path d=\"M19 3H5c-1.1 0-2 .9-2 2v14c0 1.1.9 2 2 2h14c1.1 0 2-.9 2-2V5c0-1.1-.9-2-2-2zM9 17H7v-7h2v7zm4 0h-2V7h2v10zm4 0h-2v-4h2v4z\"/>\n",
              "    </g>\n",
              "</svg>\n",
              "  </button>\n",
              "\n",
              "<style>\n",
              "  .colab-df-quickchart {\n",
              "      --bg-color: #E8F0FE;\n",
              "      --fill-color: #1967D2;\n",
              "      --hover-bg-color: #E2EBFA;\n",
              "      --hover-fill-color: #174EA6;\n",
              "      --disabled-fill-color: #AAA;\n",
              "      --disabled-bg-color: #DDD;\n",
              "  }\n",
              "\n",
              "  [theme=dark] .colab-df-quickchart {\n",
              "      --bg-color: #3B4455;\n",
              "      --fill-color: #D2E3FC;\n",
              "      --hover-bg-color: #434B5C;\n",
              "      --hover-fill-color: #FFFFFF;\n",
              "      --disabled-bg-color: #3B4455;\n",
              "      --disabled-fill-color: #666;\n",
              "  }\n",
              "\n",
              "  .colab-df-quickchart {\n",
              "    background-color: var(--bg-color);\n",
              "    border: none;\n",
              "    border-radius: 50%;\n",
              "    cursor: pointer;\n",
              "    display: none;\n",
              "    fill: var(--fill-color);\n",
              "    height: 32px;\n",
              "    padding: 0;\n",
              "    width: 32px;\n",
              "  }\n",
              "\n",
              "  .colab-df-quickchart:hover {\n",
              "    background-color: var(--hover-bg-color);\n",
              "    box-shadow: 0 1px 2px rgba(60, 64, 67, 0.3), 0 1px 3px 1px rgba(60, 64, 67, 0.15);\n",
              "    fill: var(--button-hover-fill-color);\n",
              "  }\n",
              "\n",
              "  .colab-df-quickchart-complete:disabled,\n",
              "  .colab-df-quickchart-complete:disabled:hover {\n",
              "    background-color: var(--disabled-bg-color);\n",
              "    fill: var(--disabled-fill-color);\n",
              "    box-shadow: none;\n",
              "  }\n",
              "\n",
              "  .colab-df-spinner {\n",
              "    border: 2px solid var(--fill-color);\n",
              "    border-color: transparent;\n",
              "    border-bottom-color: var(--fill-color);\n",
              "    animation:\n",
              "      spin 1s steps(1) infinite;\n",
              "  }\n",
              "\n",
              "  @keyframes spin {\n",
              "    0% {\n",
              "      border-color: transparent;\n",
              "      border-bottom-color: var(--fill-color);\n",
              "      border-left-color: var(--fill-color);\n",
              "    }\n",
              "    20% {\n",
              "      border-color: transparent;\n",
              "      border-left-color: var(--fill-color);\n",
              "      border-top-color: var(--fill-color);\n",
              "    }\n",
              "    30% {\n",
              "      border-color: transparent;\n",
              "      border-left-color: var(--fill-color);\n",
              "      border-top-color: var(--fill-color);\n",
              "      border-right-color: var(--fill-color);\n",
              "    }\n",
              "    40% {\n",
              "      border-color: transparent;\n",
              "      border-right-color: var(--fill-color);\n",
              "      border-top-color: var(--fill-color);\n",
              "    }\n",
              "    60% {\n",
              "      border-color: transparent;\n",
              "      border-right-color: var(--fill-color);\n",
              "    }\n",
              "    80% {\n",
              "      border-color: transparent;\n",
              "      border-right-color: var(--fill-color);\n",
              "      border-bottom-color: var(--fill-color);\n",
              "    }\n",
              "    90% {\n",
              "      border-color: transparent;\n",
              "      border-bottom-color: var(--fill-color);\n",
              "    }\n",
              "  }\n",
              "</style>\n",
              "\n",
              "  <script>\n",
              "    async function quickchart(key) {\n",
              "      const quickchartButtonEl =\n",
              "        document.querySelector('#' + key + ' button');\n",
              "      quickchartButtonEl.disabled = true;  // To prevent multiple clicks.\n",
              "      quickchartButtonEl.classList.add('colab-df-spinner');\n",
              "      try {\n",
              "        const charts = await google.colab.kernel.invokeFunction(\n",
              "            'suggestCharts', [key], {});\n",
              "      } catch (error) {\n",
              "        console.error('Error during call to suggestCharts:', error);\n",
              "      }\n",
              "      quickchartButtonEl.classList.remove('colab-df-spinner');\n",
              "      quickchartButtonEl.classList.add('colab-df-quickchart-complete');\n",
              "    }\n",
              "    (() => {\n",
              "      let quickchartButtonEl =\n",
              "        document.querySelector('#df-791b7de7-8f34-4b75-bb81-cb084a5f250d button');\n",
              "      quickchartButtonEl.style.display =\n",
              "        google.colab.kernel.accessAllowed ? 'block' : 'none';\n",
              "    })();\n",
              "  </script>\n",
              "</div>\n",
              "\n",
              "    </div>\n",
              "  </div>\n"
            ],
            "application/vnd.google.colaboratory.intrinsic+json": {
              "type": "dataframe",
              "variable_name": "test_df",
              "summary": "{\n  \"name\": \"test_df\",\n  \"rows\": 30135,\n  \"fields\": [\n    {\n      \"column\": \"target\",\n      \"properties\": {\n        \"dtype\": \"category\",\n        \"num_unique_values\": 5,\n        \"samples\": [\n          \"RESULTS\",\n          \"OBJECTIVE\",\n          \"CONCLUSIONS\"\n        ],\n        \"semantic_type\": \"\",\n        \"description\": \"\"\n      }\n    },\n    {\n      \"column\": \"text\",\n      \"properties\": {\n        \"dtype\": \"string\",\n        \"num_unique_values\": 29735,\n        \"samples\": [\n          \"in this secondary study of an open-label , @-week , randomized , controlled trial conducted between april @ and august @ , clinically stable patients with schizophrenia ( dsm-iv ) treated with risperidone or olanzapine were randomly assigned to the reduction group ( dose reduced by @ % ) or maintenance group ( dose kept constant ) .\",\n          \"between july , @ , and june , @ , we did a multinational double-blind , randomised , phase @ study comparing vacc-@x with placebo .\",\n          \"a sample of @ participants was interviewed over the telephone for possible cognitive and background moderators .\"\n        ],\n        \"semantic_type\": \"\",\n        \"description\": \"\"\n      }\n    },\n    {\n      \"column\": \"line_number\",\n      \"properties\": {\n        \"dtype\": \"number\",\n        \"std\": 4,\n        \"min\": 0,\n        \"max\": 27,\n        \"num_unique_values\": 28,\n        \"samples\": [\n          9,\n          25,\n          8\n        ],\n        \"semantic_type\": \"\",\n        \"description\": \"\"\n      }\n    },\n    {\n      \"column\": \"total_lines\",\n      \"properties\": {\n        \"dtype\": \"number\",\n        \"std\": 3,\n        \"min\": 3,\n        \"max\": 27,\n        \"num_unique_values\": 23,\n        \"samples\": [\n          24,\n          16,\n          8\n        ],\n        \"semantic_type\": \"\",\n        \"description\": \"\"\n      }\n    },\n    {\n      \"column\": \"prediction\",\n      \"properties\": {\n        \"dtype\": \"category\",\n        \"num_unique_values\": 5,\n        \"samples\": [\n          \"METHODS\",\n          \"BACKGROUND\",\n          \"RESULTS\"\n        ],\n        \"semantic_type\": \"\",\n        \"description\": \"\"\n      }\n    },\n    {\n      \"column\": \"pred_prob\",\n      \"properties\": {\n        \"dtype\": \"float32\",\n        \"num_unique_values\": 29942,\n        \"samples\": [\n          0.43912726640701294,\n          0.7561424970626831,\n          0.5553714036941528\n        ],\n        \"semantic_type\": \"\",\n        \"description\": \"\"\n      }\n    },\n    {\n      \"column\": \"correct\",\n      \"properties\": {\n        \"dtype\": \"boolean\",\n        \"num_unique_values\": 2,\n        \"samples\": [\n          true,\n          false\n        ],\n        \"semantic_type\": \"\",\n        \"description\": \"\"\n      }\n    }\n  ]\n}"
            }
          },
          "metadata": {},
          "execution_count": 136
        }
      ]
    },
    {
      "cell_type": "markdown",
      "source": [
        "İyi görünüyor! Verilerimizin böyle olması, farklı şekillerde manipüle etmeyi ve görüntülemeyi çok kolaylaştırır.\n",
        "\n",
        "En yüksek \"pred_prob\"a sahip örnekleri ve tahminin nerede yanlış olduğunu (\"doğru\" == Yanlış) bulmak için DataFrame'imizi sıralamaya ne dersiniz?"
      ],
      "metadata": {
        "id": "tRKxaHtUja8M"
      }
    },
    {
      "cell_type": "code",
      "source": [
        "# Find top 100 most wrong samples (note: 100 is an abitrary number, you could go through all of them if you wanted)\n",
        "top_100_wrong = test_df[test_df[\"correct\"] == False].sort_values(\"pred_prob\", ascending=False)[:100]\n",
        "top_100_wrong"
      ],
      "metadata": {
        "colab": {
          "base_uri": "https://localhost:8080/",
          "height": 419
        },
        "id": "pOJV39o2jWtw",
        "outputId": "f0aea9fd-08d6-4b1d-ce94-758a046a5cb6"
      },
      "execution_count": null,
      "outputs": [
        {
          "output_type": "execute_result",
          "data": {
            "text/plain": [
              "            target                                               text  \\\n",
              "13874  CONCLUSIONS  symptom outcomes will be assessed and estimate...   \n",
              "8545       METHODS                                 pretest-posttest .   \n",
              "16347   BACKGROUND  to evaluate the effects of the lactic acid bac...   \n",
              "2388       RESULTS  the primary endpoint is the cumulative three-y...   \n",
              "10452   BACKGROUND  to validate the association between accommodat...   \n",
              "...            ...                                                ...   \n",
              "12134      RESULTS  we conducted a population-based case-control s...   \n",
              "2605       RESULTS  circulating epc ( cells positive for cd@ , cd@...   \n",
              "19223      METHODS  of the @ dogs receiving placebo , @ ( @ % ) vo...   \n",
              "20003  CONCLUSIONS  most subjects with bronchospasm responded to r...   \n",
              "24605  CONCLUSIONS               clinicaltrials.gov identifier nct@ .   \n",
              "\n",
              "       line_number  total_lines  prediction  pred_prob  correct  \n",
              "13874            4            6     METHODS   0.946719    False  \n",
              "8545             1           11  BACKGROUND   0.934974    False  \n",
              "16347            0           12   OBJECTIVE   0.930986    False  \n",
              "2388             4           13     METHODS   0.928262    False  \n",
              "10452            0           10   OBJECTIVE   0.918880    False  \n",
              "...            ...          ...         ...        ...      ...  \n",
              "12134            2           16     METHODS   0.840899    False  \n",
              "2605             4           10     METHODS   0.840442    False  \n",
              "19223            7           10     RESULTS   0.840310    False  \n",
              "20003            9           11     RESULTS   0.839986    False  \n",
              "24605           10           10  BACKGROUND   0.839616    False  \n",
              "\n",
              "[100 rows x 7 columns]"
            ],
            "text/html": [
              "\n",
              "  <div id=\"df-4ff46a2c-4ab6-4944-a4e6-403f23221291\" class=\"colab-df-container\">\n",
              "    <div>\n",
              "<style scoped>\n",
              "    .dataframe tbody tr th:only-of-type {\n",
              "        vertical-align: middle;\n",
              "    }\n",
              "\n",
              "    .dataframe tbody tr th {\n",
              "        vertical-align: top;\n",
              "    }\n",
              "\n",
              "    .dataframe thead th {\n",
              "        text-align: right;\n",
              "    }\n",
              "</style>\n",
              "<table border=\"1\" class=\"dataframe\">\n",
              "  <thead>\n",
              "    <tr style=\"text-align: right;\">\n",
              "      <th></th>\n",
              "      <th>target</th>\n",
              "      <th>text</th>\n",
              "      <th>line_number</th>\n",
              "      <th>total_lines</th>\n",
              "      <th>prediction</th>\n",
              "      <th>pred_prob</th>\n",
              "      <th>correct</th>\n",
              "    </tr>\n",
              "  </thead>\n",
              "  <tbody>\n",
              "    <tr>\n",
              "      <th>13874</th>\n",
              "      <td>CONCLUSIONS</td>\n",
              "      <td>symptom outcomes will be assessed and estimate...</td>\n",
              "      <td>4</td>\n",
              "      <td>6</td>\n",
              "      <td>METHODS</td>\n",
              "      <td>0.946719</td>\n",
              "      <td>False</td>\n",
              "    </tr>\n",
              "    <tr>\n",
              "      <th>8545</th>\n",
              "      <td>METHODS</td>\n",
              "      <td>pretest-posttest .</td>\n",
              "      <td>1</td>\n",
              "      <td>11</td>\n",
              "      <td>BACKGROUND</td>\n",
              "      <td>0.934974</td>\n",
              "      <td>False</td>\n",
              "    </tr>\n",
              "    <tr>\n",
              "      <th>16347</th>\n",
              "      <td>BACKGROUND</td>\n",
              "      <td>to evaluate the effects of the lactic acid bac...</td>\n",
              "      <td>0</td>\n",
              "      <td>12</td>\n",
              "      <td>OBJECTIVE</td>\n",
              "      <td>0.930986</td>\n",
              "      <td>False</td>\n",
              "    </tr>\n",
              "    <tr>\n",
              "      <th>2388</th>\n",
              "      <td>RESULTS</td>\n",
              "      <td>the primary endpoint is the cumulative three-y...</td>\n",
              "      <td>4</td>\n",
              "      <td>13</td>\n",
              "      <td>METHODS</td>\n",
              "      <td>0.928262</td>\n",
              "      <td>False</td>\n",
              "    </tr>\n",
              "    <tr>\n",
              "      <th>10452</th>\n",
              "      <td>BACKGROUND</td>\n",
              "      <td>to validate the association between accommodat...</td>\n",
              "      <td>0</td>\n",
              "      <td>10</td>\n",
              "      <td>OBJECTIVE</td>\n",
              "      <td>0.918880</td>\n",
              "      <td>False</td>\n",
              "    </tr>\n",
              "    <tr>\n",
              "      <th>...</th>\n",
              "      <td>...</td>\n",
              "      <td>...</td>\n",
              "      <td>...</td>\n",
              "      <td>...</td>\n",
              "      <td>...</td>\n",
              "      <td>...</td>\n",
              "      <td>...</td>\n",
              "    </tr>\n",
              "    <tr>\n",
              "      <th>12134</th>\n",
              "      <td>RESULTS</td>\n",
              "      <td>we conducted a population-based case-control s...</td>\n",
              "      <td>2</td>\n",
              "      <td>16</td>\n",
              "      <td>METHODS</td>\n",
              "      <td>0.840899</td>\n",
              "      <td>False</td>\n",
              "    </tr>\n",
              "    <tr>\n",
              "      <th>2605</th>\n",
              "      <td>RESULTS</td>\n",
              "      <td>circulating epc ( cells positive for cd@ , cd@...</td>\n",
              "      <td>4</td>\n",
              "      <td>10</td>\n",
              "      <td>METHODS</td>\n",
              "      <td>0.840442</td>\n",
              "      <td>False</td>\n",
              "    </tr>\n",
              "    <tr>\n",
              "      <th>19223</th>\n",
              "      <td>METHODS</td>\n",
              "      <td>of the @ dogs receiving placebo , @ ( @ % ) vo...</td>\n",
              "      <td>7</td>\n",
              "      <td>10</td>\n",
              "      <td>RESULTS</td>\n",
              "      <td>0.840310</td>\n",
              "      <td>False</td>\n",
              "    </tr>\n",
              "    <tr>\n",
              "      <th>20003</th>\n",
              "      <td>CONCLUSIONS</td>\n",
              "      <td>most subjects with bronchospasm responded to r...</td>\n",
              "      <td>9</td>\n",
              "      <td>11</td>\n",
              "      <td>RESULTS</td>\n",
              "      <td>0.839986</td>\n",
              "      <td>False</td>\n",
              "    </tr>\n",
              "    <tr>\n",
              "      <th>24605</th>\n",
              "      <td>CONCLUSIONS</td>\n",
              "      <td>clinicaltrials.gov identifier nct@ .</td>\n",
              "      <td>10</td>\n",
              "      <td>10</td>\n",
              "      <td>BACKGROUND</td>\n",
              "      <td>0.839616</td>\n",
              "      <td>False</td>\n",
              "    </tr>\n",
              "  </tbody>\n",
              "</table>\n",
              "<p>100 rows × 7 columns</p>\n",
              "</div>\n",
              "    <div class=\"colab-df-buttons\">\n",
              "\n",
              "  <div class=\"colab-df-container\">\n",
              "    <button class=\"colab-df-convert\" onclick=\"convertToInteractive('df-4ff46a2c-4ab6-4944-a4e6-403f23221291')\"\n",
              "            title=\"Convert this dataframe to an interactive table.\"\n",
              "            style=\"display:none;\">\n",
              "\n",
              "  <svg xmlns=\"http://www.w3.org/2000/svg\" height=\"24px\" viewBox=\"0 -960 960 960\">\n",
              "    <path d=\"M120-120v-720h720v720H120Zm60-500h600v-160H180v160Zm220 220h160v-160H400v160Zm0 220h160v-160H400v160ZM180-400h160v-160H180v160Zm440 0h160v-160H620v160ZM180-180h160v-160H180v160Zm440 0h160v-160H620v160Z\"/>\n",
              "  </svg>\n",
              "    </button>\n",
              "\n",
              "  <style>\n",
              "    .colab-df-container {\n",
              "      display:flex;\n",
              "      gap: 12px;\n",
              "    }\n",
              "\n",
              "    .colab-df-convert {\n",
              "      background-color: #E8F0FE;\n",
              "      border: none;\n",
              "      border-radius: 50%;\n",
              "      cursor: pointer;\n",
              "      display: none;\n",
              "      fill: #1967D2;\n",
              "      height: 32px;\n",
              "      padding: 0 0 0 0;\n",
              "      width: 32px;\n",
              "    }\n",
              "\n",
              "    .colab-df-convert:hover {\n",
              "      background-color: #E2EBFA;\n",
              "      box-shadow: 0px 1px 2px rgba(60, 64, 67, 0.3), 0px 1px 3px 1px rgba(60, 64, 67, 0.15);\n",
              "      fill: #174EA6;\n",
              "    }\n",
              "\n",
              "    .colab-df-buttons div {\n",
              "      margin-bottom: 4px;\n",
              "    }\n",
              "\n",
              "    [theme=dark] .colab-df-convert {\n",
              "      background-color: #3B4455;\n",
              "      fill: #D2E3FC;\n",
              "    }\n",
              "\n",
              "    [theme=dark] .colab-df-convert:hover {\n",
              "      background-color: #434B5C;\n",
              "      box-shadow: 0px 1px 3px 1px rgba(0, 0, 0, 0.15);\n",
              "      filter: drop-shadow(0px 1px 2px rgba(0, 0, 0, 0.3));\n",
              "      fill: #FFFFFF;\n",
              "    }\n",
              "  </style>\n",
              "\n",
              "    <script>\n",
              "      const buttonEl =\n",
              "        document.querySelector('#df-4ff46a2c-4ab6-4944-a4e6-403f23221291 button.colab-df-convert');\n",
              "      buttonEl.style.display =\n",
              "        google.colab.kernel.accessAllowed ? 'block' : 'none';\n",
              "\n",
              "      async function convertToInteractive(key) {\n",
              "        const element = document.querySelector('#df-4ff46a2c-4ab6-4944-a4e6-403f23221291');\n",
              "        const dataTable =\n",
              "          await google.colab.kernel.invokeFunction('convertToInteractive',\n",
              "                                                    [key], {});\n",
              "        if (!dataTable) return;\n",
              "\n",
              "        const docLinkHtml = 'Like what you see? Visit the ' +\n",
              "          '<a target=\"_blank\" href=https://colab.research.google.com/notebooks/data_table.ipynb>data table notebook</a>'\n",
              "          + ' to learn more about interactive tables.';\n",
              "        element.innerHTML = '';\n",
              "        dataTable['output_type'] = 'display_data';\n",
              "        await google.colab.output.renderOutput(dataTable, element);\n",
              "        const docLink = document.createElement('div');\n",
              "        docLink.innerHTML = docLinkHtml;\n",
              "        element.appendChild(docLink);\n",
              "      }\n",
              "    </script>\n",
              "  </div>\n",
              "\n",
              "\n",
              "<div id=\"df-2c70d654-72f6-4f8d-8231-78b09944fa7c\">\n",
              "  <button class=\"colab-df-quickchart\" onclick=\"quickchart('df-2c70d654-72f6-4f8d-8231-78b09944fa7c')\"\n",
              "            title=\"Suggest charts\"\n",
              "            style=\"display:none;\">\n",
              "\n",
              "<svg xmlns=\"http://www.w3.org/2000/svg\" height=\"24px\"viewBox=\"0 0 24 24\"\n",
              "     width=\"24px\">\n",
              "    <g>\n",
              "        <path d=\"M19 3H5c-1.1 0-2 .9-2 2v14c0 1.1.9 2 2 2h14c1.1 0 2-.9 2-2V5c0-1.1-.9-2-2-2zM9 17H7v-7h2v7zm4 0h-2V7h2v10zm4 0h-2v-4h2v4z\"/>\n",
              "    </g>\n",
              "</svg>\n",
              "  </button>\n",
              "\n",
              "<style>\n",
              "  .colab-df-quickchart {\n",
              "      --bg-color: #E8F0FE;\n",
              "      --fill-color: #1967D2;\n",
              "      --hover-bg-color: #E2EBFA;\n",
              "      --hover-fill-color: #174EA6;\n",
              "      --disabled-fill-color: #AAA;\n",
              "      --disabled-bg-color: #DDD;\n",
              "  }\n",
              "\n",
              "  [theme=dark] .colab-df-quickchart {\n",
              "      --bg-color: #3B4455;\n",
              "      --fill-color: #D2E3FC;\n",
              "      --hover-bg-color: #434B5C;\n",
              "      --hover-fill-color: #FFFFFF;\n",
              "      --disabled-bg-color: #3B4455;\n",
              "      --disabled-fill-color: #666;\n",
              "  }\n",
              "\n",
              "  .colab-df-quickchart {\n",
              "    background-color: var(--bg-color);\n",
              "    border: none;\n",
              "    border-radius: 50%;\n",
              "    cursor: pointer;\n",
              "    display: none;\n",
              "    fill: var(--fill-color);\n",
              "    height: 32px;\n",
              "    padding: 0;\n",
              "    width: 32px;\n",
              "  }\n",
              "\n",
              "  .colab-df-quickchart:hover {\n",
              "    background-color: var(--hover-bg-color);\n",
              "    box-shadow: 0 1px 2px rgba(60, 64, 67, 0.3), 0 1px 3px 1px rgba(60, 64, 67, 0.15);\n",
              "    fill: var(--button-hover-fill-color);\n",
              "  }\n",
              "\n",
              "  .colab-df-quickchart-complete:disabled,\n",
              "  .colab-df-quickchart-complete:disabled:hover {\n",
              "    background-color: var(--disabled-bg-color);\n",
              "    fill: var(--disabled-fill-color);\n",
              "    box-shadow: none;\n",
              "  }\n",
              "\n",
              "  .colab-df-spinner {\n",
              "    border: 2px solid var(--fill-color);\n",
              "    border-color: transparent;\n",
              "    border-bottom-color: var(--fill-color);\n",
              "    animation:\n",
              "      spin 1s steps(1) infinite;\n",
              "  }\n",
              "\n",
              "  @keyframes spin {\n",
              "    0% {\n",
              "      border-color: transparent;\n",
              "      border-bottom-color: var(--fill-color);\n",
              "      border-left-color: var(--fill-color);\n",
              "    }\n",
              "    20% {\n",
              "      border-color: transparent;\n",
              "      border-left-color: var(--fill-color);\n",
              "      border-top-color: var(--fill-color);\n",
              "    }\n",
              "    30% {\n",
              "      border-color: transparent;\n",
              "      border-left-color: var(--fill-color);\n",
              "      border-top-color: var(--fill-color);\n",
              "      border-right-color: var(--fill-color);\n",
              "    }\n",
              "    40% {\n",
              "      border-color: transparent;\n",
              "      border-right-color: var(--fill-color);\n",
              "      border-top-color: var(--fill-color);\n",
              "    }\n",
              "    60% {\n",
              "      border-color: transparent;\n",
              "      border-right-color: var(--fill-color);\n",
              "    }\n",
              "    80% {\n",
              "      border-color: transparent;\n",
              "      border-right-color: var(--fill-color);\n",
              "      border-bottom-color: var(--fill-color);\n",
              "    }\n",
              "    90% {\n",
              "      border-color: transparent;\n",
              "      border-bottom-color: var(--fill-color);\n",
              "    }\n",
              "  }\n",
              "</style>\n",
              "\n",
              "  <script>\n",
              "    async function quickchart(key) {\n",
              "      const quickchartButtonEl =\n",
              "        document.querySelector('#' + key + ' button');\n",
              "      quickchartButtonEl.disabled = true;  // To prevent multiple clicks.\n",
              "      quickchartButtonEl.classList.add('colab-df-spinner');\n",
              "      try {\n",
              "        const charts = await google.colab.kernel.invokeFunction(\n",
              "            'suggestCharts', [key], {});\n",
              "      } catch (error) {\n",
              "        console.error('Error during call to suggestCharts:', error);\n",
              "      }\n",
              "      quickchartButtonEl.classList.remove('colab-df-spinner');\n",
              "      quickchartButtonEl.classList.add('colab-df-quickchart-complete');\n",
              "    }\n",
              "    (() => {\n",
              "      let quickchartButtonEl =\n",
              "        document.querySelector('#df-2c70d654-72f6-4f8d-8231-78b09944fa7c button');\n",
              "      quickchartButtonEl.style.display =\n",
              "        google.colab.kernel.accessAllowed ? 'block' : 'none';\n",
              "    })();\n",
              "  </script>\n",
              "</div>\n",
              "\n",
              "  <div id=\"id_94c071d3-1635-4518-ab68-62f938815a35\">\n",
              "    <style>\n",
              "      .colab-df-generate {\n",
              "        background-color: #E8F0FE;\n",
              "        border: none;\n",
              "        border-radius: 50%;\n",
              "        cursor: pointer;\n",
              "        display: none;\n",
              "        fill: #1967D2;\n",
              "        height: 32px;\n",
              "        padding: 0 0 0 0;\n",
              "        width: 32px;\n",
              "      }\n",
              "\n",
              "      .colab-df-generate:hover {\n",
              "        background-color: #E2EBFA;\n",
              "        box-shadow: 0px 1px 2px rgba(60, 64, 67, 0.3), 0px 1px 3px 1px rgba(60, 64, 67, 0.15);\n",
              "        fill: #174EA6;\n",
              "      }\n",
              "\n",
              "      [theme=dark] .colab-df-generate {\n",
              "        background-color: #3B4455;\n",
              "        fill: #D2E3FC;\n",
              "      }\n",
              "\n",
              "      [theme=dark] .colab-df-generate:hover {\n",
              "        background-color: #434B5C;\n",
              "        box-shadow: 0px 1px 3px 1px rgba(0, 0, 0, 0.15);\n",
              "        filter: drop-shadow(0px 1px 2px rgba(0, 0, 0, 0.3));\n",
              "        fill: #FFFFFF;\n",
              "      }\n",
              "    </style>\n",
              "    <button class=\"colab-df-generate\" onclick=\"generateWithVariable('top_100_wrong')\"\n",
              "            title=\"Generate code using this dataframe.\"\n",
              "            style=\"display:none;\">\n",
              "\n",
              "  <svg xmlns=\"http://www.w3.org/2000/svg\" height=\"24px\"viewBox=\"0 0 24 24\"\n",
              "       width=\"24px\">\n",
              "    <path d=\"M7,19H8.4L18.45,9,17,7.55,7,17.6ZM5,21V16.75L18.45,3.32a2,2,0,0,1,2.83,0l1.4,1.43a1.91,1.91,0,0,1,.58,1.4,1.91,1.91,0,0,1-.58,1.4L9.25,21ZM18.45,9,17,7.55Zm-12,3A5.31,5.31,0,0,0,4.9,8.1,5.31,5.31,0,0,0,1,6.5,5.31,5.31,0,0,0,4.9,4.9,5.31,5.31,0,0,0,6.5,1,5.31,5.31,0,0,0,8.1,4.9,5.31,5.31,0,0,0,12,6.5,5.46,5.46,0,0,0,6.5,12Z\"/>\n",
              "  </svg>\n",
              "    </button>\n",
              "    <script>\n",
              "      (() => {\n",
              "      const buttonEl =\n",
              "        document.querySelector('#id_94c071d3-1635-4518-ab68-62f938815a35 button.colab-df-generate');\n",
              "      buttonEl.style.display =\n",
              "        google.colab.kernel.accessAllowed ? 'block' : 'none';\n",
              "\n",
              "      buttonEl.onclick = () => {\n",
              "        google.colab.notebook.generateWithVariable('top_100_wrong');\n",
              "      }\n",
              "      })();\n",
              "    </script>\n",
              "  </div>\n",
              "\n",
              "    </div>\n",
              "  </div>\n"
            ],
            "application/vnd.google.colaboratory.intrinsic+json": {
              "type": "dataframe",
              "variable_name": "top_100_wrong",
              "summary": "{\n  \"name\": \"top_100_wrong\",\n  \"rows\": 100,\n  \"fields\": [\n    {\n      \"column\": \"target\",\n      \"properties\": {\n        \"dtype\": \"category\",\n        \"num_unique_values\": 5,\n        \"samples\": [\n          \"METHODS\",\n          \"OBJECTIVE\",\n          \"BACKGROUND\"\n        ],\n        \"semantic_type\": \"\",\n        \"description\": \"\"\n      }\n    },\n    {\n      \"column\": \"text\",\n      \"properties\": {\n        \"dtype\": \"string\",\n        \"num_unique_values\": 99,\n        \"samples\": [\n          \"the secondary aim was to assess onset of analgesia , volume of drug required to achieve t@ level , grade and duration of motor block and apgar score .\",\n          \"neurofeedback participants made more prompt and greater improvements in adhd symptoms , which were sustained at the @-month follow-up , than did ct participants or those in the control group .\",\n          \"circulating epc ( cells positive for cd@ , cd@ and kinase insert domain receptor - kdr cell-surface antigens by flow cytometry ) number was evaluated in @ healthy subjects ( @ f/@ m , @ @ years ) , randomized to receive @ mackerel or sardine portions per week for @ weeks followed by a @ week free-diet period .\"\n        ],\n        \"semantic_type\": \"\",\n        \"description\": \"\"\n      }\n    },\n    {\n      \"column\": \"line_number\",\n      \"properties\": {\n        \"dtype\": \"number\",\n        \"std\": 4,\n        \"min\": 0,\n        \"max\": 19,\n        \"num_unique_values\": 17,\n        \"samples\": [\n          4,\n          1,\n          19\n        ],\n        \"semantic_type\": \"\",\n        \"description\": \"\"\n      }\n    },\n    {\n      \"column\": \"total_lines\",\n      \"properties\": {\n        \"dtype\": \"number\",\n        \"std\": 3,\n        \"min\": 6,\n        \"max\": 27,\n        \"num_unique_values\": 16,\n        \"samples\": [\n          6,\n          11,\n          9\n        ],\n        \"semantic_type\": \"\",\n        \"description\": \"\"\n      }\n    },\n    {\n      \"column\": \"prediction\",\n      \"properties\": {\n        \"dtype\": \"category\",\n        \"num_unique_values\": 5,\n        \"samples\": [\n          \"BACKGROUND\",\n          \"CONCLUSIONS\",\n          \"OBJECTIVE\"\n        ],\n        \"semantic_type\": \"\",\n        \"description\": \"\"\n      }\n    },\n    {\n      \"column\": \"pred_prob\",\n      \"properties\": {\n        \"dtype\": \"float32\",\n        \"num_unique_values\": 100,\n        \"samples\": [\n          0.8441712260246277,\n          0.8642430901527405,\n          0.8525983095169067\n        ],\n        \"semantic_type\": \"\",\n        \"description\": \"\"\n      }\n    },\n    {\n      \"column\": \"correct\",\n      \"properties\": {\n        \"dtype\": \"boolean\",\n        \"num_unique_values\": 1,\n        \"samples\": [\n          false\n        ],\n        \"semantic_type\": \"\",\n        \"description\": \"\"\n      }\n    }\n  ]\n}"
            }
          },
          "metadata": {},
          "execution_count": 137
        }
      ]
    },
    {
      "cell_type": "markdown",
      "source": [
        "Harika (ya da o kadar iyi değil)! Şimdi modelimizin en yanlış tahminlerinin bir alt kümesine sahipiz, bunları görselleştirmek için biraz kod yazalım."
      ],
      "metadata": {
        "id": "_PEhMB8qjgid"
      }
    },
    {
      "cell_type": "code",
      "source": [
        "# Investigate top wrong preds\n",
        "for row in top_100_wrong[0:10].itertuples(): # adjust indexes to view different samples\n",
        "  _, target, text, line_number, total_lines, prediction, pred_prob, _ = row\n",
        "  print(f\"Target: {target}, Pred: {prediction}, Prob: {pred_prob}, Line number: {line_number}, Total lines: {total_lines}\\n\")\n",
        "  print(f\"Text:\\n{text}\\n\")\n",
        "  print(\"-----\\n\")"
      ],
      "metadata": {
        "colab": {
          "base_uri": "https://localhost:8080/"
        },
        "id": "q7aICO_QjdXP",
        "outputId": "a81f51c3-fb8e-418a-c515-ee52b69fe801"
      },
      "execution_count": null,
      "outputs": [
        {
          "output_type": "stream",
          "name": "stdout",
          "text": [
            "Target: CONCLUSIONS, Pred: METHODS, Prob: 0.9467191696166992, Line number: 4, Total lines: 6\n",
            "\n",
            "Text:\n",
            "symptom outcomes will be assessed and estimates of cost-effectiveness made .\n",
            "\n",
            "-----\n",
            "\n",
            "Target: METHODS, Pred: BACKGROUND, Prob: 0.9349740743637085, Line number: 1, Total lines: 11\n",
            "\n",
            "Text:\n",
            "pretest-posttest .\n",
            "\n",
            "-----\n",
            "\n",
            "Target: BACKGROUND, Pred: OBJECTIVE, Prob: 0.9309859275817871, Line number: 0, Total lines: 12\n",
            "\n",
            "Text:\n",
            "to evaluate the effects of the lactic acid bacterium lactobacillus salivarius on caries risk factors .\n",
            "\n",
            "-----\n",
            "\n",
            "Target: RESULTS, Pred: METHODS, Prob: 0.9282616972923279, Line number: 4, Total lines: 13\n",
            "\n",
            "Text:\n",
            "the primary endpoint is the cumulative three-year hiv incidence .\n",
            "\n",
            "-----\n",
            "\n",
            "Target: BACKGROUND, Pred: OBJECTIVE, Prob: 0.918879508972168, Line number: 0, Total lines: 10\n",
            "\n",
            "Text:\n",
            "to validate the association between accommodation and visual asthenopia by measuring objective accommodative amplitude with the optical quality analysis system ( oqas , visiometrics , terrassa , spain ) , and to investigate associations among accommodation , ocular surface instability , and visual asthenopia while viewing @d displays .\n",
            "\n",
            "-----\n",
            "\n",
            "Target: METHODS, Pred: RESULTS, Prob: 0.9169083833694458, Line number: 6, Total lines: 9\n",
            "\n",
            "Text:\n",
            "-@ % vs. fish : -@ % vs. fish + s : -@ % ; p < @ ) but there were no significant differences between groups .\n",
            "\n",
            "-----\n",
            "\n",
            "Target: RESULTS, Pred: METHODS, Prob: 0.9150744080543518, Line number: 6, Total lines: 14\n",
            "\n",
            "Text:\n",
            "the primary outcome was to evaluate changes in abdominal and shoulder-tip pain via a @-mm visual analog scale at @ , @ , and @hours postoperatively .\n",
            "\n",
            "-----\n",
            "\n",
            "Target: RESULTS, Pred: METHODS, Prob: 0.9143453240394592, Line number: 3, Total lines: 16\n",
            "\n",
            "Text:\n",
            "a cluster randomised trial was implemented with @,@ children in @ government primary schools on the south coast of kenya in @-@ .\n",
            "\n",
            "-----\n",
            "\n",
            "Target: CONCLUSIONS, Pred: BACKGROUND, Prob: 0.9103127717971802, Line number: 19, Total lines: 19\n",
            "\n",
            "Text:\n",
            "clinicaltrials.gov identifier : nct@ .\n",
            "\n",
            "-----\n",
            "\n",
            "Target: CONCLUSIONS, Pred: BACKGROUND, Prob: 0.9066623449325562, Line number: 18, Total lines: 18\n",
            "\n",
            "Text:\n",
            "nct@ ( clinicaltrials.gov ) .\n",
            "\n",
            "-----\n",
            "\n"
          ]
        }
      ]
    },
    {
      "cell_type": "markdown",
      "source": [
        "En yanlış tahminler hakkında ne fark ediyorsunuz? Model aptalca hatalar yapıyor mu? Veya bazı etiketler yanlış/belirsiz mi (örneğin, soyuttaki bir satır potansiyel olarak HEDEF veya ARKA PLAN olarak etiketlenebilir ve mantıklı olabilir).\n",
        "\n",
        "Buradaki bir sonraki adım, tutarsız etiketlere sahip birkaç örnek varsa, eğitim veri kümenizi gözden geçirebilir, etiketleri güncelleyebilir ve ardından bir modeli yeniden eğitebilirsiniz. Veri kümenizin etiketlerini iyileştirmeye/araştırmaya yardımcı olacak bir model kullanma süreci genellikle aktif öğrenme olarak adlandırılır."
      ],
      "metadata": {
        "id": "pjVPFPp0jmtl"
      }
    },
    {
      "cell_type": "markdown",
      "source": [
        "# Örnek tahminler yapın\n",
        "\n",
        "Tamam, test veri kümesi hakkında bazı tahminlerde bulunduk, şimdi modelimizi gerçekten test etme zamanı.\n",
        "\n",
        "Bunu yapmak için, vahşi doğadan bazı veriler alacağız ve modelimizin nasıl performans gösterdiğini göreceğiz.\n",
        "\n",
        "Başka bir deyişle, PubMed'den bir RCT özeti bulacak, metni modelimizle çalışması için önceden işleyecek, ardından hangi etiketi tahmin ettiğini görmek için vahşi soyuttaki her diziyi modelimizden geçirecektik.\n",
        "\n",
        "Uygun bir örnek için, bölünmüş özetler olmadan RCT'ler (randomize kontrollü çalışmalar) için PubMed'i aramamız gerekecek (PubMed'i keşfederken, özetlerin çoğunun zaten ayrı bölümlere önceden biçimlendirilmiş olduğunu fark edeceksiniz, bu okunabilirliğe önemli ölçüde yardımcı olur).\n",
        "\n",
        "Çeşitli PubMed çalışmalarından geçerken, yüksek işlevli otizm spektrum bozuklukları için manuelleştirilmiş bir sosyal tedavinin RCT'den aşağıdaki yapılandırılmamış özetini bulmayı başardım: https://pubmed.ncbi.nlm.nih.gov/20232240/\n",
        "\n",
        "Orjinali:\n",
        "\n",
        "This RCT examined the efficacy of a manualized social intervention for children with HFASDs. Participants were randomly assigned to treatment or wait-list conditions. Treatment included instruction and therapeutic activities targeting social skills, face-emotion recognition, interest expansion, and interpretation of non-literal language. A response-cost program was applied to reduce problem behaviors and foster skills acquisition. Significant treatment effects were found for five of seven primary outcome measures (parent ratings and direct child measures). Secondary measures based on staff ratings (treatment group only) corroborated gains reported by parents. High levels of parent, child and staff satisfaction were reported, along with high levels of treatment fidelity. Standardized effect size estimates were primarily in the medium and large ranges and favored the treatment group.\n",
        "\n",
        "Çevirisi:\n",
        "\n",
        "Bu RCT, HFASD'li çocuklar için manuelleştirilmiş bir sosyal müdahalenin etkinliğini incelemiştir. Katılımcılar rastgele tedavi veya bekleme listesi koşullarına atandı. Tedavi, sosyal becerileri, yüz-duygu tanımayı, ilgi alanını genişletmeyi ve edebi olmayan dilin yorumlanmasını hedefleyen öğretim ve terapötik faaliyetleri içeriyordu. Sorunlu davranışları azaltmak ve beceri edinimini teşvik etmek için bir response-cost programı uygulandı. Yedi birincil sonuç ölçütünün beşi (ebeveyn derecelendirmeleri ve doğrudan çocuk ölçümleri) için önemli tedavi etkileri bulundu. Personel derecelendirmelerine (yalnızca tedavi grubu) dayalı ikincil önlemler, ebeveynler tarafından bildirilen kazanımları doğruladı. Yüksek düzeyde tedavi sadakati ile birlikte yüksek düzeyde ebeveyn, çocuk ve personel memnuniyeti bildirilmiştir. Standartlaştırılmış etki boyutu tahminleri öncelikle orta ve büyük aralıklardaydı ve tedavi grubunu tercih etti.\n",
        "\n",
        "Büyük metin yığınına bakmak oldukça korkutucu görünebilir. Şimdi, çalışmanızla ilgili bir çalışma bulmak için literatürü gözden geçirmeye çalışan bir tıp araştırmacısı olduğunuzu hayal edin.\n",
        "\n",
        "Oldukça zor görünüyor değil mi?\n",
        "\n",
        "SkimLit'e girin 🤓🔥!\n",
        "\n",
        "Şimdiye kadarki en iyi modelimizin (model_5) yukarıdaki soyuttan ne yaptığını görelim.\n",
        "\n",
        "Ama bekle...\n",
        "\n",
        "Tahmin edebileceğiniz gibi, yukarıdaki özet, modelimizin eğitildiği verilerle aynı yapıda biçimlendirilmemiştir. Bu nedenle, üzerinde bir tahminde bulunmadan önce, tıpkı diğer dizilerimiz olduğu gibi onu önceden işlememiz gerekir.\n",
        "\n",
        "Daha spesifik olarak, her özet için şunları yapmamız gerekecek:\n",
        "\n",
        "- Cümlelere (satırlara) bölün.\n",
        "\n",
        "- Karakterlere bölün.\n",
        "\n",
        "- Her satırın numarasını bulun.\n",
        "\n",
        "- Toplam satır sayısını bulun.\n",
        "\n",
        "1 numaradan başlayarak, özetlerimizi gerçek cümlelere bölmenin birkaç yolu vardır. Basit bir tanesi, Python'un in-built split() string yöntemini kullanmak ve bir fullstop'un göründüğü her yerde özeti bölmek olacaktır. Ancak, bunun nerede yanlış gidebileceğini hayal edebiliyor musunuz?\n",
        "\n",
        "Başka bir daha gelişmiş seçenek, spaCy'nin (çok güçlü bir NLP kitaplığı) sentencizer sınıfından yararlanmak olacaktır. SpaCy'nin İngilizce dil modeline dayanan kullanımı kolay bir cümle ayırıcıdır.\n",
        "\n",
        "- https://spacy.io/\n",
        "- https://spacy.io/usage/linguistic-features#sbd\n",
        "- https://raw.githubusercontent.com/mrdbourke/tensorflow-deep-learning/main/extras/skimlit_example_abstracts.json\n",
        "\n",
        "Modelimizi denemek için PubMed RCT makalelerinden bazı özetler hazırladım, GitHub'dan indirebiliriz."
      ],
      "metadata": {
        "id": "09SU9_lfjqZQ"
      }
    },
    {
      "cell_type": "code",
      "source": [
        "import json\n",
        "# Download and open example abstracts (copy and pasted from PubMed)\n",
        "!wget https://raw.githubusercontent.com/mrdbourke/tensorflow-deep-learning/main/extras/skimlit_example_abstracts.json\n",
        "\n",
        "with open(\"skimlit_example_abstracts.json\", \"r\") as f:\n",
        "  example_abstracts = json.load(f)\n",
        "\n",
        "example_abstracts"
      ],
      "metadata": {
        "colab": {
          "base_uri": "https://localhost:8080/"
        },
        "id": "eAhXgRIEjis4",
        "outputId": "5901cb9e-aafa-4e3e-bb3d-8a0a4eb9f957"
      },
      "execution_count": null,
      "outputs": [
        {
          "output_type": "stream",
          "name": "stdout",
          "text": [
            "--2024-05-26 11:19:07--  https://raw.githubusercontent.com/mrdbourke/tensorflow-deep-learning/main/extras/skimlit_example_abstracts.json\n",
            "Resolving raw.githubusercontent.com (raw.githubusercontent.com)... 185.199.108.133, 185.199.111.133, 185.199.109.133, ...\n",
            "Connecting to raw.githubusercontent.com (raw.githubusercontent.com)|185.199.108.133|:443... connected.\n",
            "HTTP request sent, awaiting response... 200 OK\n",
            "Length: 6737 (6.6K) [text/plain]\n",
            "Saving to: ‘skimlit_example_abstracts.json.2’\n",
            "\n",
            "\r          skimlit_e   0%[                    ]       0  --.-KB/s               \rskimlit_example_abs 100%[===================>]   6.58K  --.-KB/s    in 0s      \n",
            "\n",
            "2024-05-26 11:19:07 (80.4 MB/s) - ‘skimlit_example_abstracts.json.2’ saved [6737/6737]\n",
            "\n"
          ]
        },
        {
          "output_type": "execute_result",
          "data": {
            "text/plain": [
              "[{'abstract': 'This RCT examined the efficacy of a manualized social intervention for children with HFASDs. Participants were randomly assigned to treatment or wait-list conditions. Treatment included instruction and therapeutic activities targeting social skills, face-emotion recognition, interest expansion, and interpretation of non-literal language. A response-cost program was applied to reduce problem behaviors and foster skills acquisition. Significant treatment effects were found for five of seven primary outcome measures (parent ratings and direct child measures). Secondary measures based on staff ratings (treatment group only) corroborated gains reported by parents. High levels of parent, child and staff satisfaction were reported, along with high levels of treatment fidelity. Standardized effect size estimates were primarily in the medium and large ranges and favored the treatment group.',\n",
              "  'source': 'https://pubmed.ncbi.nlm.nih.gov/20232240/',\n",
              "  'details': 'RCT of a manualized social treatment for high-functioning autism spectrum disorders'},\n",
              " {'abstract': \"Postpartum depression (PPD) is the most prevalent mood disorder associated with childbirth. No single cause of PPD has been identified, however the increased risk of nutritional deficiencies incurred through the high nutritional requirements of pregnancy may play a role in the pathology of depressive symptoms. Three nutritional interventions have drawn particular interest as possible non-invasive and cost-effective prevention and/or treatment strategies for PPD; omega-3 (n-3) long chain polyunsaturated fatty acids (LCPUFA), vitamin D and overall diet. We searched for meta-analyses of randomised controlled trials (RCT's) of nutritional interventions during the perinatal period with PPD as an outcome, and checked for any trials published subsequently to the meta-analyses. Fish oil: Eleven RCT's of prenatal fish oil supplementation RCT's show null and positive effects on PPD symptoms. Vitamin D: no relevant RCT's were identified, however seven observational studies of maternal vitamin D levels with PPD outcomes showed inconsistent associations. Diet: Two Australian RCT's with dietary advice interventions in pregnancy had a positive and null result on PPD. With the exception of fish oil, few RCT's with nutritional interventions during pregnancy assess PPD. Further research is needed to determine whether nutritional intervention strategies during pregnancy can protect against symptoms of PPD. Given the prevalence of PPD and ease of administering PPD measures, we recommend future prenatal nutritional RCT's include PPD as an outcome.\",\n",
              "  'source': 'https://pubmed.ncbi.nlm.nih.gov/28012571/',\n",
              "  'details': 'Formatting removed (can be used to compare model to actual example)'},\n",
              " {'abstract': 'Mental illness, including depression, anxiety and bipolar disorder, accounts for a significant proportion of global disability and poses a substantial social, economic and heath burden. Treatment is presently dominated by pharmacotherapy, such as antidepressants, and psychotherapy, such as cognitive behavioural therapy; however, such treatments avert less than half of the disease burden, suggesting that additional strategies are needed to prevent and treat mental disorders. There are now consistent mechanistic, observational and interventional data to suggest diet quality may be a modifiable risk factor for mental illness. This review provides an overview of the nutritional psychiatry field. It includes a discussion of the neurobiological mechanisms likely modulated by diet, the use of dietary and nutraceutical interventions in mental disorders, and recommendations for further research. Potential biological pathways related to mental disorders include inflammation, oxidative stress, the gut microbiome, epigenetic modifications and neuroplasticity. Consistent epidemiological evidence, particularly for depression, suggests an association between measures of diet quality and mental health, across multiple populations and age groups; these do not appear to be explained by other demographic, lifestyle factors or reverse causality. Our recently published intervention trial provides preliminary clinical evidence that dietary interventions in clinically diagnosed populations are feasible and can provide significant clinical benefit. Furthermore, nutraceuticals including n-3 fatty acids, folate, S-adenosylmethionine, N-acetyl cysteine and probiotics, among others, are promising avenues for future research. Continued research is now required to investigate the efficacy of intervention studies in large cohorts and within clinically relevant populations, particularly in patients with schizophrenia, bipolar and anxiety disorders.',\n",
              "  'source': 'https://pubmed.ncbi.nlm.nih.gov/28942748/',\n",
              "  'details': 'Effect of nutrition on mental health'},\n",
              " {'abstract': \"Hepatitis C virus (HCV) and alcoholic liver disease (ALD), either alone or in combination, count for more than two thirds of all liver diseases in the Western world. There is no safe level of drinking in HCV-infected patients and the most effective goal for these patients is total abstinence. Baclofen, a GABA(B) receptor agonist, represents a promising pharmacotherapy for alcohol dependence (AD). Previously, we performed a randomized clinical trial (RCT), which demonstrated the safety and efficacy of baclofen in patients affected by AD and cirrhosis. The goal of this post-hoc analysis was to explore baclofen's effect in a subgroup of alcohol-dependent HCV-infected cirrhotic patients. Any patient with HCV infection was selected for this analysis. Among the 84 subjects randomized in the main trial, 24 alcohol-dependent cirrhotic patients had a HCV infection; 12 received baclofen 10mg t.i.d. and 12 received placebo for 12-weeks. With respect to the placebo group (3/12, 25.0%), a significantly higher number of patients who achieved and maintained total alcohol abstinence was found in the baclofen group (10/12, 83.3%; p=0.0123). Furthermore, in the baclofen group, compared to placebo, there was a significantly higher increase in albumin values from baseline (p=0.0132) and a trend toward a significant reduction in INR levels from baseline (p=0.0716). In conclusion, baclofen was safe and significantly more effective than placebo in promoting alcohol abstinence, and improving some Liver Function Tests (LFTs) (i.e. albumin, INR) in alcohol-dependent HCV-infected cirrhotic patients. Baclofen may represent a clinically relevant alcohol pharmacotherapy for these patients.\",\n",
              "  'source': 'https://pubmed.ncbi.nlm.nih.gov/22244707/',\n",
              "  'details': 'Baclofen promotes alcohol abstinence in alcohol dependent cirrhotic patients with hepatitis C virus (HCV) infection'}]"
            ]
          },
          "metadata": {},
          "execution_count": 218
        }
      ]
    },
    {
      "cell_type": "code",
      "source": [
        "# See what our example abstracts look like\n",
        "abstracts = pd.DataFrame(example_abstracts)\n",
        "abstracts"
      ],
      "metadata": {
        "colab": {
          "base_uri": "https://localhost:8080/",
          "height": 173
        },
        "id": "M4ta-JyOkS6y",
        "outputId": "4f0f1048-692f-4c19-8cc8-ec4d22f582b8"
      },
      "execution_count": null,
      "outputs": [
        {
          "output_type": "execute_result",
          "data": {
            "text/plain": [
              "                                            abstract  \\\n",
              "0  This RCT examined the efficacy of a manualized...   \n",
              "1  Postpartum depression (PPD) is the most preval...   \n",
              "2  Mental illness, including depression, anxiety ...   \n",
              "3  Hepatitis C virus (HCV) and alcoholic liver di...   \n",
              "\n",
              "                                      source  \\\n",
              "0  https://pubmed.ncbi.nlm.nih.gov/20232240/   \n",
              "1  https://pubmed.ncbi.nlm.nih.gov/28012571/   \n",
              "2  https://pubmed.ncbi.nlm.nih.gov/28942748/   \n",
              "3  https://pubmed.ncbi.nlm.nih.gov/22244707/   \n",
              "\n",
              "                                             details  \n",
              "0  RCT of a manualized social treatment for high-...  \n",
              "1  Formatting removed (can be used to compare mod...  \n",
              "2               Effect of nutrition on mental health  \n",
              "3  Baclofen promotes alcohol abstinence in alcoho...  "
            ],
            "text/html": [
              "\n",
              "  <div id=\"df-2bc76c25-4871-45c6-8c85-50884c58d4cb\" class=\"colab-df-container\">\n",
              "    <div>\n",
              "<style scoped>\n",
              "    .dataframe tbody tr th:only-of-type {\n",
              "        vertical-align: middle;\n",
              "    }\n",
              "\n",
              "    .dataframe tbody tr th {\n",
              "        vertical-align: top;\n",
              "    }\n",
              "\n",
              "    .dataframe thead th {\n",
              "        text-align: right;\n",
              "    }\n",
              "</style>\n",
              "<table border=\"1\" class=\"dataframe\">\n",
              "  <thead>\n",
              "    <tr style=\"text-align: right;\">\n",
              "      <th></th>\n",
              "      <th>abstract</th>\n",
              "      <th>source</th>\n",
              "      <th>details</th>\n",
              "    </tr>\n",
              "  </thead>\n",
              "  <tbody>\n",
              "    <tr>\n",
              "      <th>0</th>\n",
              "      <td>This RCT examined the efficacy of a manualized...</td>\n",
              "      <td>https://pubmed.ncbi.nlm.nih.gov/20232240/</td>\n",
              "      <td>RCT of a manualized social treatment for high-...</td>\n",
              "    </tr>\n",
              "    <tr>\n",
              "      <th>1</th>\n",
              "      <td>Postpartum depression (PPD) is the most preval...</td>\n",
              "      <td>https://pubmed.ncbi.nlm.nih.gov/28012571/</td>\n",
              "      <td>Formatting removed (can be used to compare mod...</td>\n",
              "    </tr>\n",
              "    <tr>\n",
              "      <th>2</th>\n",
              "      <td>Mental illness, including depression, anxiety ...</td>\n",
              "      <td>https://pubmed.ncbi.nlm.nih.gov/28942748/</td>\n",
              "      <td>Effect of nutrition on mental health</td>\n",
              "    </tr>\n",
              "    <tr>\n",
              "      <th>3</th>\n",
              "      <td>Hepatitis C virus (HCV) and alcoholic liver di...</td>\n",
              "      <td>https://pubmed.ncbi.nlm.nih.gov/22244707/</td>\n",
              "      <td>Baclofen promotes alcohol abstinence in alcoho...</td>\n",
              "    </tr>\n",
              "  </tbody>\n",
              "</table>\n",
              "</div>\n",
              "    <div class=\"colab-df-buttons\">\n",
              "\n",
              "  <div class=\"colab-df-container\">\n",
              "    <button class=\"colab-df-convert\" onclick=\"convertToInteractive('df-2bc76c25-4871-45c6-8c85-50884c58d4cb')\"\n",
              "            title=\"Convert this dataframe to an interactive table.\"\n",
              "            style=\"display:none;\">\n",
              "\n",
              "  <svg xmlns=\"http://www.w3.org/2000/svg\" height=\"24px\" viewBox=\"0 -960 960 960\">\n",
              "    <path d=\"M120-120v-720h720v720H120Zm60-500h600v-160H180v160Zm220 220h160v-160H400v160Zm0 220h160v-160H400v160ZM180-400h160v-160H180v160Zm440 0h160v-160H620v160ZM180-180h160v-160H180v160Zm440 0h160v-160H620v160Z\"/>\n",
              "  </svg>\n",
              "    </button>\n",
              "\n",
              "  <style>\n",
              "    .colab-df-container {\n",
              "      display:flex;\n",
              "      gap: 12px;\n",
              "    }\n",
              "\n",
              "    .colab-df-convert {\n",
              "      background-color: #E8F0FE;\n",
              "      border: none;\n",
              "      border-radius: 50%;\n",
              "      cursor: pointer;\n",
              "      display: none;\n",
              "      fill: #1967D2;\n",
              "      height: 32px;\n",
              "      padding: 0 0 0 0;\n",
              "      width: 32px;\n",
              "    }\n",
              "\n",
              "    .colab-df-convert:hover {\n",
              "      background-color: #E2EBFA;\n",
              "      box-shadow: 0px 1px 2px rgba(60, 64, 67, 0.3), 0px 1px 3px 1px rgba(60, 64, 67, 0.15);\n",
              "      fill: #174EA6;\n",
              "    }\n",
              "\n",
              "    .colab-df-buttons div {\n",
              "      margin-bottom: 4px;\n",
              "    }\n",
              "\n",
              "    [theme=dark] .colab-df-convert {\n",
              "      background-color: #3B4455;\n",
              "      fill: #D2E3FC;\n",
              "    }\n",
              "\n",
              "    [theme=dark] .colab-df-convert:hover {\n",
              "      background-color: #434B5C;\n",
              "      box-shadow: 0px 1px 3px 1px rgba(0, 0, 0, 0.15);\n",
              "      filter: drop-shadow(0px 1px 2px rgba(0, 0, 0, 0.3));\n",
              "      fill: #FFFFFF;\n",
              "    }\n",
              "  </style>\n",
              "\n",
              "    <script>\n",
              "      const buttonEl =\n",
              "        document.querySelector('#df-2bc76c25-4871-45c6-8c85-50884c58d4cb button.colab-df-convert');\n",
              "      buttonEl.style.display =\n",
              "        google.colab.kernel.accessAllowed ? 'block' : 'none';\n",
              "\n",
              "      async function convertToInteractive(key) {\n",
              "        const element = document.querySelector('#df-2bc76c25-4871-45c6-8c85-50884c58d4cb');\n",
              "        const dataTable =\n",
              "          await google.colab.kernel.invokeFunction('convertToInteractive',\n",
              "                                                    [key], {});\n",
              "        if (!dataTable) return;\n",
              "\n",
              "        const docLinkHtml = 'Like what you see? Visit the ' +\n",
              "          '<a target=\"_blank\" href=https://colab.research.google.com/notebooks/data_table.ipynb>data table notebook</a>'\n",
              "          + ' to learn more about interactive tables.';\n",
              "        element.innerHTML = '';\n",
              "        dataTable['output_type'] = 'display_data';\n",
              "        await google.colab.output.renderOutput(dataTable, element);\n",
              "        const docLink = document.createElement('div');\n",
              "        docLink.innerHTML = docLinkHtml;\n",
              "        element.appendChild(docLink);\n",
              "      }\n",
              "    </script>\n",
              "  </div>\n",
              "\n",
              "\n",
              "<div id=\"df-952b1b9e-db5d-479f-be45-bcd85ed07f32\">\n",
              "  <button class=\"colab-df-quickchart\" onclick=\"quickchart('df-952b1b9e-db5d-479f-be45-bcd85ed07f32')\"\n",
              "            title=\"Suggest charts\"\n",
              "            style=\"display:none;\">\n",
              "\n",
              "<svg xmlns=\"http://www.w3.org/2000/svg\" height=\"24px\"viewBox=\"0 0 24 24\"\n",
              "     width=\"24px\">\n",
              "    <g>\n",
              "        <path d=\"M19 3H5c-1.1 0-2 .9-2 2v14c0 1.1.9 2 2 2h14c1.1 0 2-.9 2-2V5c0-1.1-.9-2-2-2zM9 17H7v-7h2v7zm4 0h-2V7h2v10zm4 0h-2v-4h2v4z\"/>\n",
              "    </g>\n",
              "</svg>\n",
              "  </button>\n",
              "\n",
              "<style>\n",
              "  .colab-df-quickchart {\n",
              "      --bg-color: #E8F0FE;\n",
              "      --fill-color: #1967D2;\n",
              "      --hover-bg-color: #E2EBFA;\n",
              "      --hover-fill-color: #174EA6;\n",
              "      --disabled-fill-color: #AAA;\n",
              "      --disabled-bg-color: #DDD;\n",
              "  }\n",
              "\n",
              "  [theme=dark] .colab-df-quickchart {\n",
              "      --bg-color: #3B4455;\n",
              "      --fill-color: #D2E3FC;\n",
              "      --hover-bg-color: #434B5C;\n",
              "      --hover-fill-color: #FFFFFF;\n",
              "      --disabled-bg-color: #3B4455;\n",
              "      --disabled-fill-color: #666;\n",
              "  }\n",
              "\n",
              "  .colab-df-quickchart {\n",
              "    background-color: var(--bg-color);\n",
              "    border: none;\n",
              "    border-radius: 50%;\n",
              "    cursor: pointer;\n",
              "    display: none;\n",
              "    fill: var(--fill-color);\n",
              "    height: 32px;\n",
              "    padding: 0;\n",
              "    width: 32px;\n",
              "  }\n",
              "\n",
              "  .colab-df-quickchart:hover {\n",
              "    background-color: var(--hover-bg-color);\n",
              "    box-shadow: 0 1px 2px rgba(60, 64, 67, 0.3), 0 1px 3px 1px rgba(60, 64, 67, 0.15);\n",
              "    fill: var(--button-hover-fill-color);\n",
              "  }\n",
              "\n",
              "  .colab-df-quickchart-complete:disabled,\n",
              "  .colab-df-quickchart-complete:disabled:hover {\n",
              "    background-color: var(--disabled-bg-color);\n",
              "    fill: var(--disabled-fill-color);\n",
              "    box-shadow: none;\n",
              "  }\n",
              "\n",
              "  .colab-df-spinner {\n",
              "    border: 2px solid var(--fill-color);\n",
              "    border-color: transparent;\n",
              "    border-bottom-color: var(--fill-color);\n",
              "    animation:\n",
              "      spin 1s steps(1) infinite;\n",
              "  }\n",
              "\n",
              "  @keyframes spin {\n",
              "    0% {\n",
              "      border-color: transparent;\n",
              "      border-bottom-color: var(--fill-color);\n",
              "      border-left-color: var(--fill-color);\n",
              "    }\n",
              "    20% {\n",
              "      border-color: transparent;\n",
              "      border-left-color: var(--fill-color);\n",
              "      border-top-color: var(--fill-color);\n",
              "    }\n",
              "    30% {\n",
              "      border-color: transparent;\n",
              "      border-left-color: var(--fill-color);\n",
              "      border-top-color: var(--fill-color);\n",
              "      border-right-color: var(--fill-color);\n",
              "    }\n",
              "    40% {\n",
              "      border-color: transparent;\n",
              "      border-right-color: var(--fill-color);\n",
              "      border-top-color: var(--fill-color);\n",
              "    }\n",
              "    60% {\n",
              "      border-color: transparent;\n",
              "      border-right-color: var(--fill-color);\n",
              "    }\n",
              "    80% {\n",
              "      border-color: transparent;\n",
              "      border-right-color: var(--fill-color);\n",
              "      border-bottom-color: var(--fill-color);\n",
              "    }\n",
              "    90% {\n",
              "      border-color: transparent;\n",
              "      border-bottom-color: var(--fill-color);\n",
              "    }\n",
              "  }\n",
              "</style>\n",
              "\n",
              "  <script>\n",
              "    async function quickchart(key) {\n",
              "      const quickchartButtonEl =\n",
              "        document.querySelector('#' + key + ' button');\n",
              "      quickchartButtonEl.disabled = true;  // To prevent multiple clicks.\n",
              "      quickchartButtonEl.classList.add('colab-df-spinner');\n",
              "      try {\n",
              "        const charts = await google.colab.kernel.invokeFunction(\n",
              "            'suggestCharts', [key], {});\n",
              "      } catch (error) {\n",
              "        console.error('Error during call to suggestCharts:', error);\n",
              "      }\n",
              "      quickchartButtonEl.classList.remove('colab-df-spinner');\n",
              "      quickchartButtonEl.classList.add('colab-df-quickchart-complete');\n",
              "    }\n",
              "    (() => {\n",
              "      let quickchartButtonEl =\n",
              "        document.querySelector('#df-952b1b9e-db5d-479f-be45-bcd85ed07f32 button');\n",
              "      quickchartButtonEl.style.display =\n",
              "        google.colab.kernel.accessAllowed ? 'block' : 'none';\n",
              "    })();\n",
              "  </script>\n",
              "</div>\n",
              "\n",
              "  <div id=\"id_69597434-52bc-4caf-9ddf-d08e36805e66\">\n",
              "    <style>\n",
              "      .colab-df-generate {\n",
              "        background-color: #E8F0FE;\n",
              "        border: none;\n",
              "        border-radius: 50%;\n",
              "        cursor: pointer;\n",
              "        display: none;\n",
              "        fill: #1967D2;\n",
              "        height: 32px;\n",
              "        padding: 0 0 0 0;\n",
              "        width: 32px;\n",
              "      }\n",
              "\n",
              "      .colab-df-generate:hover {\n",
              "        background-color: #E2EBFA;\n",
              "        box-shadow: 0px 1px 2px rgba(60, 64, 67, 0.3), 0px 1px 3px 1px rgba(60, 64, 67, 0.15);\n",
              "        fill: #174EA6;\n",
              "      }\n",
              "\n",
              "      [theme=dark] .colab-df-generate {\n",
              "        background-color: #3B4455;\n",
              "        fill: #D2E3FC;\n",
              "      }\n",
              "\n",
              "      [theme=dark] .colab-df-generate:hover {\n",
              "        background-color: #434B5C;\n",
              "        box-shadow: 0px 1px 3px 1px rgba(0, 0, 0, 0.15);\n",
              "        filter: drop-shadow(0px 1px 2px rgba(0, 0, 0, 0.3));\n",
              "        fill: #FFFFFF;\n",
              "      }\n",
              "    </style>\n",
              "    <button class=\"colab-df-generate\" onclick=\"generateWithVariable('abstracts')\"\n",
              "            title=\"Generate code using this dataframe.\"\n",
              "            style=\"display:none;\">\n",
              "\n",
              "  <svg xmlns=\"http://www.w3.org/2000/svg\" height=\"24px\"viewBox=\"0 0 24 24\"\n",
              "       width=\"24px\">\n",
              "    <path d=\"M7,19H8.4L18.45,9,17,7.55,7,17.6ZM5,21V16.75L18.45,3.32a2,2,0,0,1,2.83,0l1.4,1.43a1.91,1.91,0,0,1,.58,1.4,1.91,1.91,0,0,1-.58,1.4L9.25,21ZM18.45,9,17,7.55Zm-12,3A5.31,5.31,0,0,0,4.9,8.1,5.31,5.31,0,0,0,1,6.5,5.31,5.31,0,0,0,4.9,4.9,5.31,5.31,0,0,0,6.5,1,5.31,5.31,0,0,0,8.1,4.9,5.31,5.31,0,0,0,12,6.5,5.46,5.46,0,0,0,6.5,12Z\"/>\n",
              "  </svg>\n",
              "    </button>\n",
              "    <script>\n",
              "      (() => {\n",
              "      const buttonEl =\n",
              "        document.querySelector('#id_69597434-52bc-4caf-9ddf-d08e36805e66 button.colab-df-generate');\n",
              "      buttonEl.style.display =\n",
              "        google.colab.kernel.accessAllowed ? 'block' : 'none';\n",
              "\n",
              "      buttonEl.onclick = () => {\n",
              "        google.colab.notebook.generateWithVariable('abstracts');\n",
              "      }\n",
              "      })();\n",
              "    </script>\n",
              "  </div>\n",
              "\n",
              "    </div>\n",
              "  </div>\n"
            ],
            "application/vnd.google.colaboratory.intrinsic+json": {
              "type": "dataframe",
              "variable_name": "abstracts",
              "summary": "{\n  \"name\": \"abstracts\",\n  \"rows\": 4,\n  \"fields\": [\n    {\n      \"column\": \"abstract\",\n      \"properties\": {\n        \"dtype\": \"string\",\n        \"num_unique_values\": 4,\n        \"samples\": [\n          \"Postpartum depression (PPD) is the most prevalent mood disorder associated with childbirth. No single cause of PPD has been identified, however the increased risk of nutritional deficiencies incurred through the high nutritional requirements of pregnancy may play a role in the pathology of depressive symptoms. Three nutritional interventions have drawn particular interest as possible non-invasive and cost-effective prevention and/or treatment strategies for PPD; omega-3 (n-3) long chain polyunsaturated fatty acids (LCPUFA), vitamin D and overall diet. We searched for meta-analyses of randomised controlled trials (RCT's) of nutritional interventions during the perinatal period with PPD as an outcome, and checked for any trials published subsequently to the meta-analyses. Fish oil: Eleven RCT's of prenatal fish oil supplementation RCT's show null and positive effects on PPD symptoms. Vitamin D: no relevant RCT's were identified, however seven observational studies of maternal vitamin D levels with PPD outcomes showed inconsistent associations. Diet: Two Australian RCT's with dietary advice interventions in pregnancy had a positive and null result on PPD. With the exception of fish oil, few RCT's with nutritional interventions during pregnancy assess PPD. Further research is needed to determine whether nutritional intervention strategies during pregnancy can protect against symptoms of PPD. Given the prevalence of PPD and ease of administering PPD measures, we recommend future prenatal nutritional RCT's include PPD as an outcome.\",\n          \"Hepatitis C virus (HCV) and alcoholic liver disease (ALD), either alone or in combination, count for more than two thirds of all liver diseases in the Western world. There is no safe level of drinking in HCV-infected patients and the most effective goal for these patients is total abstinence. Baclofen, a GABA(B) receptor agonist, represents a promising pharmacotherapy for alcohol dependence (AD). Previously, we performed a randomized clinical trial (RCT), which demonstrated the safety and efficacy of baclofen in patients affected by AD and cirrhosis. The goal of this post-hoc analysis was to explore baclofen's effect in a subgroup of alcohol-dependent HCV-infected cirrhotic patients. Any patient with HCV infection was selected for this analysis. Among the 84 subjects randomized in the main trial, 24 alcohol-dependent cirrhotic patients had a HCV infection; 12 received baclofen 10mg t.i.d. and 12 received placebo for 12-weeks. With respect to the placebo group (3/12, 25.0%), a significantly higher number of patients who achieved and maintained total alcohol abstinence was found in the baclofen group (10/12, 83.3%; p=0.0123). Furthermore, in the baclofen group, compared to placebo, there was a significantly higher increase in albumin values from baseline (p=0.0132) and a trend toward a significant reduction in INR levels from baseline (p=0.0716). In conclusion, baclofen was safe and significantly more effective than placebo in promoting alcohol abstinence, and improving some Liver Function Tests (LFTs) (i.e. albumin, INR) in alcohol-dependent HCV-infected cirrhotic patients. Baclofen may represent a clinically relevant alcohol pharmacotherapy for these patients.\",\n          \"This RCT examined the efficacy of a manualized social intervention for children with HFASDs. Participants were randomly assigned to treatment or wait-list conditions. Treatment included instruction and therapeutic activities targeting social skills, face-emotion recognition, interest expansion, and interpretation of non-literal language. A response-cost program was applied to reduce problem behaviors and foster skills acquisition. Significant treatment effects were found for five of seven primary outcome measures (parent ratings and direct child measures). Secondary measures based on staff ratings (treatment group only) corroborated gains reported by parents. High levels of parent, child and staff satisfaction were reported, along with high levels of treatment fidelity. Standardized effect size estimates were primarily in the medium and large ranges and favored the treatment group.\"\n        ],\n        \"semantic_type\": \"\",\n        \"description\": \"\"\n      }\n    },\n    {\n      \"column\": \"source\",\n      \"properties\": {\n        \"dtype\": \"string\",\n        \"num_unique_values\": 4,\n        \"samples\": [\n          \"https://pubmed.ncbi.nlm.nih.gov/28012571/\",\n          \"https://pubmed.ncbi.nlm.nih.gov/22244707/\",\n          \"https://pubmed.ncbi.nlm.nih.gov/20232240/\"\n        ],\n        \"semantic_type\": \"\",\n        \"description\": \"\"\n      }\n    },\n    {\n      \"column\": \"details\",\n      \"properties\": {\n        \"dtype\": \"string\",\n        \"num_unique_values\": 4,\n        \"samples\": [\n          \"Formatting removed (can be used to compare model to actual example)\",\n          \"Baclofen promotes alcohol abstinence in alcohol dependent cirrhotic patients with hepatitis C virus (HCV) infection\",\n          \"RCT of a manualized social treatment for high-functioning autism spectrum disorders\"\n        ],\n        \"semantic_type\": \"\",\n        \"description\": \"\"\n      }\n    }\n  ]\n}"
            }
          },
          "metadata": {},
          "execution_count": 140
        }
      ]
    },
    {
      "cell_type": "markdown",
      "source": [
        "Şimdi bazı örnek özetler indirdik, bakalım bunlardan biri eğitimli modelimizle nasıl gidiyor.\n",
        "\n",
        "İlk olarak, büyük bir metin parçasından cümlelere dönüştürmek için spaCy kullanarak ayrıştırmamız gerekecek."
      ],
      "metadata": {
        "id": "dPFIuklUkdDh"
      }
    },
    {
      "cell_type": "code",
      "source": [
        "# Create sentencizer - Source: https://spacy.io/usage/linguistic-features#sbd\n",
        "from spacy.lang.en import English\n",
        "nlp = English() # setup English sentence parser\n",
        "\n",
        "# New version of spaCy\n",
        "sentencizer = nlp.add_pipe(\"sentencizer\") # create sentence splitting pipeline object\n",
        "\n",
        "# Old version of spaCy\n",
        "# sentencizer = nlp.create_pipe(\"sentencizer\") # create sentence splitting pipeline object\n",
        "# nlp.add_pipe(sentencizer) # add sentence splitting pipeline object to sentence parser\n",
        "\n",
        "# Create \"doc\" of parsed sequences, change index for a different abstract\n",
        "doc = nlp(example_abstracts[0][\"abstract\"])\n",
        "abstract_lines = [str(sent) for sent in list(doc.sents)] # return detected sentences from doc in string type (not spaCy token type)\n",
        "abstract_lines"
      ],
      "metadata": {
        "colab": {
          "base_uri": "https://localhost:8080/"
        },
        "id": "QedIk6zUkZ8z",
        "outputId": "dc1066b4-a976-4748-ad45-c33bfcfbceb6"
      },
      "execution_count": null,
      "outputs": [
        {
          "output_type": "execute_result",
          "data": {
            "text/plain": [
              "['This RCT examined the efficacy of a manualized social intervention for children with HFASDs.',\n",
              " 'Participants were randomly assigned to treatment or wait-list conditions.',\n",
              " 'Treatment included instruction and therapeutic activities targeting social skills, face-emotion recognition, interest expansion, and interpretation of non-literal language.',\n",
              " 'A response-cost program was applied to reduce problem behaviors and foster skills acquisition.',\n",
              " 'Significant treatment effects were found for five of seven primary outcome measures (parent ratings and direct child measures).',\n",
              " 'Secondary measures based on staff ratings (treatment group only) corroborated gains reported by parents.',\n",
              " 'High levels of parent, child and staff satisfaction were reported, along with high levels of treatment fidelity.',\n",
              " 'Standardized effect size estimates were primarily in the medium and large ranges and favored the treatment group.']"
            ]
          },
          "metadata": {},
          "execution_count": 141
        }
      ]
    },
    {
      "cell_type": "markdown",
      "source": [
        "Güzel! SpaCy, özetteki cümleleri doğru bir şekilde bölmüş gibi görünüyor. Bununla birlikte, ayrı cümlelere mükemmel bir şekilde bölünmeyen daha karmaşık özetler olabileceği unutulmamalıdır (Baclofen'deki örnek gibi, hepatit C virüsü (HCV) enfeksiyonu olan alkol bağımlı sirotik hastalarda alkol yoksunluğunu teşvik eder), bu durumda, daha özel bölme tekniklerinin araştırılması gerekir. https://pubmed.ncbi.nlm.nih.gov/22244707/\n",
        "\n",
        "Şimdi özetimiz cümlelere bölündü, toplam satırların yanı sıra satır sayılarını da saymak için biraz kod yazmaya ne dersiniz?\n",
        "\n",
        "Bunu yapmak için, preprocess_text_with_line_numbers() işlevimizin bazı işlevlerinden yararlanabiliriz."
      ],
      "metadata": {
        "id": "NzUQYzZLkj-a"
      }
    },
    {
      "cell_type": "code",
      "source": [
        "# Get total number of lines\n",
        "total_lines_in_sample = len(abstract_lines)\n",
        "\n",
        "# Go through each line in abstract and create a list of dictionaries containing features for each line\n",
        "sample_lines = []\n",
        "for i, line in enumerate(abstract_lines):\n",
        "  sample_dict = {}\n",
        "  sample_dict[\"text\"] = str(line)\n",
        "  sample_dict[\"line_number\"] = i\n",
        "  sample_dict[\"total_lines\"] = total_lines_in_sample - 1\n",
        "  sample_lines.append(sample_dict)\n",
        "sample_lines"
      ],
      "metadata": {
        "colab": {
          "base_uri": "https://localhost:8080/"
        },
        "id": "RF6gJaiEkgAp",
        "outputId": "556e39ec-b029-4c9f-ce79-ccb4ce76fce6"
      },
      "execution_count": null,
      "outputs": [
        {
          "output_type": "execute_result",
          "data": {
            "text/plain": [
              "[{'text': 'This RCT examined the efficacy of a manualized social intervention for children with HFASDs.',\n",
              "  'line_number': 0,\n",
              "  'total_lines': 7},\n",
              " {'text': 'Participants were randomly assigned to treatment or wait-list conditions.',\n",
              "  'line_number': 1,\n",
              "  'total_lines': 7},\n",
              " {'text': 'Treatment included instruction and therapeutic activities targeting social skills, face-emotion recognition, interest expansion, and interpretation of non-literal language.',\n",
              "  'line_number': 2,\n",
              "  'total_lines': 7},\n",
              " {'text': 'A response-cost program was applied to reduce problem behaviors and foster skills acquisition.',\n",
              "  'line_number': 3,\n",
              "  'total_lines': 7},\n",
              " {'text': 'Significant treatment effects were found for five of seven primary outcome measures (parent ratings and direct child measures).',\n",
              "  'line_number': 4,\n",
              "  'total_lines': 7},\n",
              " {'text': 'Secondary measures based on staff ratings (treatment group only) corroborated gains reported by parents.',\n",
              "  'line_number': 5,\n",
              "  'total_lines': 7},\n",
              " {'text': 'High levels of parent, child and staff satisfaction were reported, along with high levels of treatment fidelity.',\n",
              "  'line_number': 6,\n",
              "  'total_lines': 7},\n",
              " {'text': 'Standardized effect size estimates were primarily in the medium and large ranges and favored the treatment group.',\n",
              "  'line_number': 7,\n",
              "  'total_lines': 7}]"
            ]
          },
          "metadata": {},
          "execution_count": 142
        }
      ]
    },
    {
      "cell_type": "markdown",
      "source": [
        "Şimdi \"line_number\" ve \"total_lines\" değerlerimiz var, onları tf.one_hot ile tek sıcak kodlayabiliriz, tıpkı eğitim veri kümemizde yaptığımız gibi (derinlik parametresi için aynı değerleri kullanarak)."
      ],
      "metadata": {
        "id": "hILw-f2okvhv"
      }
    },
    {
      "cell_type": "code",
      "source": [
        "# Get all line_number values from sample abstract\n",
        "test_abstract_line_numbers = [line[\"line_number\"] for line in sample_lines]\n",
        "# One-hot encode to same depth as training data, so model accepts right input shape\n",
        "test_abstract_line_numbers_one_hot = tf.one_hot(test_abstract_line_numbers, depth=15)\n",
        "test_abstract_line_numbers_one_hot"
      ],
      "metadata": {
        "colab": {
          "base_uri": "https://localhost:8080/"
        },
        "id": "RcjHzqu4kp8X",
        "outputId": "edd3a0e0-5523-448a-a6e2-64be62df41f1"
      },
      "execution_count": null,
      "outputs": [
        {
          "output_type": "execute_result",
          "data": {
            "text/plain": [
              "<tf.Tensor: shape=(8, 15), dtype=float32, numpy=\n",
              "array([[1., 0., 0., 0., 0., 0., 0., 0., 0., 0., 0., 0., 0., 0., 0.],\n",
              "       [0., 1., 0., 0., 0., 0., 0., 0., 0., 0., 0., 0., 0., 0., 0.],\n",
              "       [0., 0., 1., 0., 0., 0., 0., 0., 0., 0., 0., 0., 0., 0., 0.],\n",
              "       [0., 0., 0., 1., 0., 0., 0., 0., 0., 0., 0., 0., 0., 0., 0.],\n",
              "       [0., 0., 0., 0., 1., 0., 0., 0., 0., 0., 0., 0., 0., 0., 0.],\n",
              "       [0., 0., 0., 0., 0., 1., 0., 0., 0., 0., 0., 0., 0., 0., 0.],\n",
              "       [0., 0., 0., 0., 0., 0., 1., 0., 0., 0., 0., 0., 0., 0., 0.],\n",
              "       [0., 0., 0., 0., 0., 0., 0., 1., 0., 0., 0., 0., 0., 0., 0.]],\n",
              "      dtype=float32)>"
            ]
          },
          "metadata": {},
          "execution_count": 143
        }
      ]
    },
    {
      "cell_type": "code",
      "source": [
        "# Get all total_lines values from sample abstract\n",
        "test_abstract_total_lines = [line[\"total_lines\"] for line in sample_lines]\n",
        "# One-hot encode to same depth as training data, so model accepts right input shape\n",
        "test_abstract_total_lines_one_hot = tf.one_hot(test_abstract_total_lines, depth=20)\n",
        "test_abstract_total_lines_one_hot"
      ],
      "metadata": {
        "colab": {
          "base_uri": "https://localhost:8080/"
        },
        "id": "8ZC7DnLGk1Tg",
        "outputId": "9c5fc459-ee0c-4440-cd1c-ff43f4a27da0"
      },
      "execution_count": null,
      "outputs": [
        {
          "output_type": "execute_result",
          "data": {
            "text/plain": [
              "<tf.Tensor: shape=(8, 20), dtype=float32, numpy=\n",
              "array([[0., 0., 0., 0., 0., 0., 0., 1., 0., 0., 0., 0., 0., 0., 0., 0.,\n",
              "        0., 0., 0., 0.],\n",
              "       [0., 0., 0., 0., 0., 0., 0., 1., 0., 0., 0., 0., 0., 0., 0., 0.,\n",
              "        0., 0., 0., 0.],\n",
              "       [0., 0., 0., 0., 0., 0., 0., 1., 0., 0., 0., 0., 0., 0., 0., 0.,\n",
              "        0., 0., 0., 0.],\n",
              "       [0., 0., 0., 0., 0., 0., 0., 1., 0., 0., 0., 0., 0., 0., 0., 0.,\n",
              "        0., 0., 0., 0.],\n",
              "       [0., 0., 0., 0., 0., 0., 0., 1., 0., 0., 0., 0., 0., 0., 0., 0.,\n",
              "        0., 0., 0., 0.],\n",
              "       [0., 0., 0., 0., 0., 0., 0., 1., 0., 0., 0., 0., 0., 0., 0., 0.,\n",
              "        0., 0., 0., 0.],\n",
              "       [0., 0., 0., 0., 0., 0., 0., 1., 0., 0., 0., 0., 0., 0., 0., 0.,\n",
              "        0., 0., 0., 0.],\n",
              "       [0., 0., 0., 0., 0., 0., 0., 1., 0., 0., 0., 0., 0., 0., 0., 0.,\n",
              "        0., 0., 0., 0.]], dtype=float32)>"
            ]
          },
          "metadata": {},
          "execution_count": 144
        }
      ]
    },
    {
      "cell_type": "markdown",
      "source": [
        "Soyut satırlarımızı karakterlere bölmek için split_chars() işlevimizi de kullanabiliriz."
      ],
      "metadata": {
        "id": "TYU0ipJDk6rz"
      }
    },
    {
      "cell_type": "code",
      "source": [
        "# Split abstract lines into characters\n",
        "abstract_chars = [split_chars(sentence) for sentence in abstract_lines]\n",
        "abstract_chars"
      ],
      "metadata": {
        "colab": {
          "base_uri": "https://localhost:8080/"
        },
        "id": "mMsoK_H6k-J9",
        "outputId": "168b89f3-4326-4821-8e4e-42c5c05de9f9"
      },
      "execution_count": null,
      "outputs": [
        {
          "output_type": "execute_result",
          "data": {
            "text/plain": [
              "['T h i s   R C T   e x a m i n e d   t h e   e f f i c a c y   o f   a   m a n u a l i z e d   s o c i a l   i n t e r v e n t i o n   f o r   c h i l d r e n   w i t h   H F A S D s .',\n",
              " 'P a r t i c i p a n t s   w e r e   r a n d o m l y   a s s i g n e d   t o   t r e a t m e n t   o r   w a i t - l i s t   c o n d i t i o n s .',\n",
              " 'T r e a t m e n t   i n c l u d e d   i n s t r u c t i o n   a n d   t h e r a p e u t i c   a c t i v i t i e s   t a r g e t i n g   s o c i a l   s k i l l s ,   f a c e - e m o t i o n   r e c o g n i t i o n ,   i n t e r e s t   e x p a n s i o n ,   a n d   i n t e r p r e t a t i o n   o f   n o n - l i t e r a l   l a n g u a g e .',\n",
              " 'A   r e s p o n s e - c o s t   p r o g r a m   w a s   a p p l i e d   t o   r e d u c e   p r o b l e m   b e h a v i o r s   a n d   f o s t e r   s k i l l s   a c q u i s i t i o n .',\n",
              " 'S i g n i f i c a n t   t r e a t m e n t   e f f e c t s   w e r e   f o u n d   f o r   f i v e   o f   s e v e n   p r i m a r y   o u t c o m e   m e a s u r e s   ( p a r e n t   r a t i n g s   a n d   d i r e c t   c h i l d   m e a s u r e s ) .',\n",
              " 'S e c o n d a r y   m e a s u r e s   b a s e d   o n   s t a f f   r a t i n g s   ( t r e a t m e n t   g r o u p   o n l y )   c o r r o b o r a t e d   g a i n s   r e p o r t e d   b y   p a r e n t s .',\n",
              " 'H i g h   l e v e l s   o f   p a r e n t ,   c h i l d   a n d   s t a f f   s a t i s f a c t i o n   w e r e   r e p o r t e d ,   a l o n g   w i t h   h i g h   l e v e l s   o f   t r e a t m e n t   f i d e l i t y .',\n",
              " 'S t a n d a r d i z e d   e f f e c t   s i z e   e s t i m a t e s   w e r e   p r i m a r i l y   i n   t h e   m e d i u m   a n d   l a r g e   r a n g e s   a n d   f a v o r e d   t h e   t r e a t m e n t   g r o u p .']"
            ]
          },
          "metadata": {},
          "execution_count": 145
        }
      ]
    },
    {
      "cell_type": "markdown",
      "source": [
        "Pekala, şimdi vahşi RCT özetimizi modelimizin eğitildiği aynı özelliklere önceden işledik, bu özellikleri modelimize aktarabilir ve sıra etiketi tahminleri yapabiliriz!"
      ],
      "metadata": {
        "id": "f7mW9tirk8tB"
      }
    },
    {
      "cell_type": "code",
      "source": [
        "# Make predictions on sample abstract features\n",
        "%%time\n",
        "test_abstract_pred_probs = loaded_model.predict(x=(test_abstract_line_numbers_one_hot,\n",
        "                                                   test_abstract_total_lines_one_hot,\n",
        "                                                   tf.constant(abstract_lines),\n",
        "                                                   tf.constant(abstract_chars)))\n",
        "test_abstract_pred_probs"
      ],
      "metadata": {
        "colab": {
          "base_uri": "https://localhost:8080/"
        },
        "id": "zhMxaI_6k3UE",
        "outputId": "252d8b38-3764-482c-89e6-4c916c49b367"
      },
      "execution_count": null,
      "outputs": [
        {
          "output_type": "stream",
          "name": "stdout",
          "text": [
            "1/1 [==============================] - 0s 113ms/step\n",
            "CPU times: user 133 ms, sys: 2.28 ms, total: 135 ms\n",
            "Wall time: 208 ms\n"
          ]
        },
        {
          "output_type": "execute_result",
          "data": {
            "text/plain": [
              "array([[0.26448247, 0.11054242, 0.01762423, 0.5750656 , 0.03228523],\n",
              "       [0.06927066, 0.03808297, 0.7078093 , 0.09543166, 0.08940545],\n",
              "       [0.13772687, 0.04937517, 0.5467969 , 0.16341288, 0.10268807],\n",
              "       [0.09659056, 0.1711164 , 0.5257439 , 0.07601643, 0.13053273],\n",
              "       [0.04459697, 0.08888116, 0.45675445, 0.04623032, 0.36353707],\n",
              "       [0.03265214, 0.1462643 , 0.517485  , 0.04088319, 0.2627154 ],\n",
              "       [0.03290154, 0.17796215, 0.07166825, 0.02870874, 0.6887593 ],\n",
              "       [0.0184372 , 0.1349517 , 0.3208419 , 0.03389723, 0.49187198]],\n",
              "      dtype=float32)"
            ]
          },
          "metadata": {},
          "execution_count": 146
        }
      ]
    },
    {
      "cell_type": "code",
      "source": [
        "# Turn prediction probabilities into prediction classes\n",
        "test_abstract_preds = tf.argmax(test_abstract_pred_probs, axis=1)\n",
        "test_abstract_preds"
      ],
      "metadata": {
        "colab": {
          "base_uri": "https://localhost:8080/"
        },
        "id": "eBuFVoAklD0x",
        "outputId": "38fb11ec-ba9f-4265-88a7-60c047c4eec6"
      },
      "execution_count": null,
      "outputs": [
        {
          "output_type": "execute_result",
          "data": {
            "text/plain": [
              "<tf.Tensor: shape=(8,), dtype=int64, numpy=array([3, 2, 2, 2, 2, 2, 4, 4])>"
            ]
          },
          "metadata": {},
          "execution_count": 147
        }
      ]
    },
    {
      "cell_type": "markdown",
      "source": [
        "Şimdi örnek özetimizde her satır için tahmin edilen dizi etiketimiz var, her cümleyi tahmin edilen etiketiyle görselleştirmek için biraz kod yazalım."
      ],
      "metadata": {
        "id": "7JzB1wBzlI8x"
      }
    },
    {
      "cell_type": "code",
      "source": [
        "# Turn prediction class integers into string class names\n",
        "test_abstract_pred_classes = [label_encoder.classes_[i] for i in test_abstract_preds]\n",
        "test_abstract_pred_classes"
      ],
      "metadata": {
        "colab": {
          "base_uri": "https://localhost:8080/"
        },
        "id": "7MaFkPkZlGEg",
        "outputId": "9288e7c2-bf9a-49de-e38a-7983ddb2d96d"
      },
      "execution_count": null,
      "outputs": [
        {
          "output_type": "execute_result",
          "data": {
            "text/plain": [
              "['OBJECTIVE',\n",
              " 'METHODS',\n",
              " 'METHODS',\n",
              " 'METHODS',\n",
              " 'METHODS',\n",
              " 'METHODS',\n",
              " 'RESULTS',\n",
              " 'RESULTS']"
            ]
          },
          "metadata": {},
          "execution_count": 148
        }
      ]
    },
    {
      "cell_type": "code",
      "source": [
        "# Visualize abstract lines and predicted sequence labels\n",
        "for i, line in enumerate(abstract_lines):\n",
        "  print(f\"{test_abstract_pred_classes[i]}: {line}\")"
      ],
      "metadata": {
        "colab": {
          "base_uri": "https://localhost:8080/"
        },
        "id": "E1gr4qyIlLHT",
        "outputId": "115f3067-6e4f-426e-96bd-e50fa49f522b"
      },
      "execution_count": null,
      "outputs": [
        {
          "output_type": "stream",
          "name": "stdout",
          "text": [
            "OBJECTIVE: This RCT examined the efficacy of a manualized social intervention for children with HFASDs.\n",
            "METHODS: Participants were randomly assigned to treatment or wait-list conditions.\n",
            "METHODS: Treatment included instruction and therapeutic activities targeting social skills, face-emotion recognition, interest expansion, and interpretation of non-literal language.\n",
            "METHODS: A response-cost program was applied to reduce problem behaviors and foster skills acquisition.\n",
            "METHODS: Significant treatment effects were found for five of seven primary outcome measures (parent ratings and direct child measures).\n",
            "METHODS: Secondary measures based on staff ratings (treatment group only) corroborated gains reported by parents.\n",
            "RESULTS: High levels of parent, child and staff satisfaction were reported, along with high levels of treatment fidelity.\n",
            "RESULTS: Standardized effect size estimates were primarily in the medium and large ranges and favored the treatment group.\n"
          ]
        }
      ]
    },
    {
      "cell_type": "markdown",
      "source": [
        "Güzel! Okumak çok daha kolay değil mi? Demek istediğim, modelimizin tahminleri geliştirilebilir gibi görünüyor, ama bu ne kadar havalı?\n",
        "\n",
        "Sitedeki yapılandırılmamış herhangi bir RCT özetini biçimlendirmek için modelimizi PubMed web sitesinin arka ucuna uyguladığımızı hayal edin.\n",
        "\n",
        "Ya da herhangi bir yapılandırılmamış RCT özetine (modelimiz tarafından desteklenen) yapı ekleyecek \"SkimLit\" adlı bir tarayıcı uzantısı bile olabilir.\n",
        "\n",
        "Ve eğer tıbbi araştırmacı arkadaşınızı gösterdiyse ve tahminlerin standartlara uygun olmadığını düşündülerse, \"bu etiket doğru mu?... değilse, ne olmalı?\" diyen bir düğme olabilir. Bu şekilde, modelimizin gelecekteki tahminleriyle birlikte veri kümesi zaman içinde geliştirilebilir.\n",
        "\n",
        "Tabii ki, modeli, kullanılabilirliği, ön işleme işlevselliğini (örneğin, örnek soyut ön işleme boru hattımızı işlevsel hale getirmek) geliştirmek için kullanabileceğimiz daha birçok yol var, ancak bunları alıştırmalar/uzantılar için bırakacağım.\n",
        "\n",
        "🤔 Soru: Vahşi doğadan test örneğimizin sonuçlarının gerçekten vahşi olduğundan nasıl emin olabiliriz? Test ettiğimiz numune hakkında kontrol etmemiz gereken bir şey var mı?"
      ],
      "metadata": {
        "id": "vQoPPZRslQkm"
      }
    },
    {
      "cell_type": "markdown",
      "source": [
        "# 📖 Müfredat dışı\n",
        "\n",
        "Metin/spaCy ile çalışma hakkında daha fazla bilgi için spaCy'nin gelişmiş NLP kursuna bakın. Üretim düzeyinde NLP sorunları üzerinde çalışacaksanız, muhtemelen spaCy kullanacaksınız. https://course.spacy.io/en/\n",
        "\n",
        "Az önce yaşadığımız gibi bir metin sınıflandırma sorununa nasıl yaklaşılacağına dair başka bir bakış için, metin sınıflandırması için Google'ın Makine Öğrenimi Kursu'ndan geçmenizi öneririm. https://developers.google.com/machine-learning/guides/text-classification?hl=tr\n",
        "\n",
        "Veri kümemiz dengesiz sınıflara sahip olduğundan (birçok gerçek dünya veri kümesinde olduğu gibi), dengesiz sınıflarla bir modeli eğitmek için farklı yöntemler için TensorFlow kılavuzuna bakmaya değer olabilir. https://www.tensorflow.org/tutorials/structured_data/imbalanced_data?hl=tr"
      ],
      "metadata": {
        "id": "4w06we2QlVuS"
      }
    },
    {
      "cell_type": "markdown",
      "source": [
        "# 🛠Alıştırmalar\n",
        "\n",
        "1. Eğitim veri kümesindeki tüm veriler üzerinde model_5'i iyileştirmeyi durdurana kadar birçok dönem boyunca eğitin. Bu biraz zaman alabileceğinden, kullanmak isteyebilirsiniz:\n",
        "\n",
        "  - Sadece modelin en iyi ağırlıklarını kaydetmek için tf.keras.callbacks.ModelCheckpoint. https://www.tensorflow.org/api_docs/python/tf/keras/callbacks/ModelCheckpoint\n",
        "\n",
        "  - tf.keras.callbacks.Doğrulama kaybı ~3 dönem için gelişmeyi durdurduktan sonra modeli eğitimden durdurmak için EarlyStopping. https://www.tensorflow.org/api_docs/python/tf/keras/callbacks/EarlyStopping\n",
        "\n",
        "2. Önceden eğitilmiş GloVe gömmelerini kullanma konusunda Keras kılavuzuna göz atın. Bunu modellerimizden biriyle çalıştırabilir misin? https://keras.io/examples/nlp/pretrained_word_embeddings/\n",
        "\n",
        "  - İpucu: Bunu özel bir belirteç Gömme katmanıyla birleştirmek isteyeceksiniz. https://www.tensorflow.org/api_docs/python/tf/keras/layers/Embedding\n",
        "\n",
        "  - GloVe gömülerini ince ayar yapıp yapmamanız veya donmuş bırakmanız size kalmış.\n",
        "\n",
        "3. TensorFlow Hub BERT PubMed uzmanı (PubMed metinleri üzerinde önceden eğitilmiş bir dil modeli) için TensorFlow Hub Evrensel Cümle Kodlayıcısı önceden eğitilmiş gömmeyi değiştirmeyi deneyin. Bu etki ortaya çıkar mı? https://www.kaggle.com/models/google/experts-bert/tensorFlow2/pubmed/2?tfhub-redirect=true\n",
        "\n",
        "  - Not: BERT PubMed uzmanı önceden eğitilmiş gömmeyi kullanmak, diziler için ekstra bir ön işlem adımı gerektirir (TensorFlow Hub kılavuzunda ayrıntılı olarak açıklandığı gibi). https://www.kaggle.com/models/google/experts-bert/tensorFlow2/pubmed/2?tfhub-redirect=true\n",
        "\n",
        "  - BERT modeli bu makalede bahsedilen sonuçları yendi mi? Https://arxiv.org/pdf/1710.06071.pdf\n",
        "\n",
        "4. Her dizi için line_number ve total_lines özelliklerimizi birleştirirseniz ne olur? Örneğin, bunun yerine bir X_of_Y özelliği oluşturuldu mu? Bu, model performansını etkiler mi?\n",
        "\n",
        "  - Başka bir örnek: line_number=1 ve total_lines=11, line_of_X=1_of_11'e dönüşür.\n",
        "\n",
        "5. Örnek bir soyut dize almak için bir işlev (veya bir dizi işlev) yazın, önceden işleyin (modelimizin eğitildiği şekilde), özetteki her dizi için bir tahminde bulunun ve özeti biçimde döndürün:\n",
        "\n",
        "  - PREDICTED_LABEL: SEQUENCE\n",
        "  - PREDICTED_LABEL: SEQUENCE\n",
        "  - PREDICTED_LABEL: SEQUENCE\n",
        "  - PREDICTED_LABEL: SEQUENCE\n",
        "\n",
        "...\n",
        "\n",
        "PubMed'den kendi düzenlenmemiş RCT özetinizi bulabilir veya bunu şu adresten deneyebilirsiniz: Baclofen, hepatit C virüsü (HCV) enfeksiyonu olan alkol bağımlı siroz hastalarında alkolden uzak durmayı teşvik eder. https://pubmed.ncbi.nlm.nih.gov/22244707/"
      ],
      "metadata": {
        "id": "ZFp-6R_Els_u"
      }
    },
    {
      "cell_type": "markdown",
      "source": [
        "# Kronik Grastrit İncelemesi"
      ],
      "metadata": {
        "id": "tzU9dgJ8U64K"
      }
    },
    {
      "cell_type": "code",
      "source": [
        "import json\n",
        "import requests\n",
        "\n",
        "url = \"https://raw.githubusercontent.com/MuhammedBarut/dosyalar_nlp/main/kronik_gastrit.json\"\n",
        "\n",
        "response = requests.get(url)\n",
        "kronik_gastrit = response.json()\n",
        "\n",
        "print(kronik_gastrit)"
      ],
      "metadata": {
        "colab": {
          "base_uri": "https://localhost:8080/"
        },
        "id": "w1Lf1LmTaXXc",
        "outputId": "7f554d88-de02-4f7b-fc70-508377b7277d"
      },
      "execution_count": null,
      "outputs": [
        {
          "output_type": "stream",
          "name": "stdout",
          "text": [
            "[{'abstract': \"H. pylori is a Gram-negative, spiral shaped microaerophile pathogen which is colonized in more than half of the world population's stomach. It is a major cause of gastritis associated disease like gastritis, gastric ulcer, duodenal ulcer, gastric adenocarcinoma, mucosa associated lymphoid tissue lymphoma (MALT lymphoma). Genetic diversity within the virulence genes of bacteria such as Cytotoxin associated gene Pathogenicity Island (cagPAI) and vacuolating cytotoxinA (vacA) may have a modifying effect on the pathogenic potential of the infecting strain. This study aimed to investigate which genes can be suggested as potentially related virulence factors for H. pylori associated active chronic gastritis and stomach Adenocarcinoma in Iran and Turkey. We focused on some cag (PAI) components and vacA gene subtypes based on correlations shown in some previous studies and Formalin Fixed Paraffin Embedded (FFPE) tissues obtained from Iranian and Turkish patients. The prevalence of the cagA, cagE, cagT, cagG, cagM, vacA s1a, vacA s2, vacA m1 and vacA m2 genes were studied in these strains by using the polymerase chain reaction (PCR) method and specific primers and We found that vacAs1a, vacAm2 and cagA genes with mean prevalence of 82.41%, 71.42% and 69.23% were dominant in Iranian and Turkish patients. In conclusion in Turkish and Iranian population the genes that were studied, was homogeneous and there is no significant differences in bacterial genetic and with the exception of H. pylori infection other factors such as host genetics and nourishment play an important role in the formation of gastric cancer. But it is possible that if statistical population increases, the cagA gene association with cancer will be meaningful.\", 'source': 'https://tez.yok.gov.tr/UlusalTezMerkezi/tezSorguSonucYeni.jsp', 'details': 'Investigation of the effect of diabetes mellitus on Sydney classification parameters used in chronic gastritis caused by Helicobacter Pylori infection'}]\n"
          ]
        }
      ]
    },
    {
      "cell_type": "code",
      "source": [
        "# See what our example abstracts look like\n",
        "ozet = pd.DataFrame(kronik_gastrit)\n",
        "ozet"
      ],
      "metadata": {
        "colab": {
          "base_uri": "https://localhost:8080/",
          "height": 89
        },
        "id": "-QE-pnV-b-5L",
        "outputId": "0628ad45-d37f-4ff9-f714-1f7e1ceab8b3"
      },
      "execution_count": null,
      "outputs": [
        {
          "output_type": "execute_result",
          "data": {
            "text/plain": [
              "                                            abstract  \\\n",
              "0  H. pylori is a Gram-negative, spiral shaped mi...   \n",
              "\n",
              "                                              source  \\\n",
              "0  https://tez.yok.gov.tr/UlusalTezMerkezi/tezSor...   \n",
              "\n",
              "                                             details  \n",
              "0  Investigation of the effect of diabetes mellit...  "
            ],
            "text/html": [
              "\n",
              "  <div id=\"df-7ea2eb73-f92a-4874-8197-920089dbc109\" class=\"colab-df-container\">\n",
              "    <div>\n",
              "<style scoped>\n",
              "    .dataframe tbody tr th:only-of-type {\n",
              "        vertical-align: middle;\n",
              "    }\n",
              "\n",
              "    .dataframe tbody tr th {\n",
              "        vertical-align: top;\n",
              "    }\n",
              "\n",
              "    .dataframe thead th {\n",
              "        text-align: right;\n",
              "    }\n",
              "</style>\n",
              "<table border=\"1\" class=\"dataframe\">\n",
              "  <thead>\n",
              "    <tr style=\"text-align: right;\">\n",
              "      <th></th>\n",
              "      <th>abstract</th>\n",
              "      <th>source</th>\n",
              "      <th>details</th>\n",
              "    </tr>\n",
              "  </thead>\n",
              "  <tbody>\n",
              "    <tr>\n",
              "      <th>0</th>\n",
              "      <td>H. pylori is a Gram-negative, spiral shaped mi...</td>\n",
              "      <td>https://tez.yok.gov.tr/UlusalTezMerkezi/tezSor...</td>\n",
              "      <td>Investigation of the effect of diabetes mellit...</td>\n",
              "    </tr>\n",
              "  </tbody>\n",
              "</table>\n",
              "</div>\n",
              "    <div class=\"colab-df-buttons\">\n",
              "\n",
              "  <div class=\"colab-df-container\">\n",
              "    <button class=\"colab-df-convert\" onclick=\"convertToInteractive('df-7ea2eb73-f92a-4874-8197-920089dbc109')\"\n",
              "            title=\"Convert this dataframe to an interactive table.\"\n",
              "            style=\"display:none;\">\n",
              "\n",
              "  <svg xmlns=\"http://www.w3.org/2000/svg\" height=\"24px\" viewBox=\"0 -960 960 960\">\n",
              "    <path d=\"M120-120v-720h720v720H120Zm60-500h600v-160H180v160Zm220 220h160v-160H400v160Zm0 220h160v-160H400v160ZM180-400h160v-160H180v160Zm440 0h160v-160H620v160ZM180-180h160v-160H180v160Zm440 0h160v-160H620v160Z\"/>\n",
              "  </svg>\n",
              "    </button>\n",
              "\n",
              "  <style>\n",
              "    .colab-df-container {\n",
              "      display:flex;\n",
              "      gap: 12px;\n",
              "    }\n",
              "\n",
              "    .colab-df-convert {\n",
              "      background-color: #E8F0FE;\n",
              "      border: none;\n",
              "      border-radius: 50%;\n",
              "      cursor: pointer;\n",
              "      display: none;\n",
              "      fill: #1967D2;\n",
              "      height: 32px;\n",
              "      padding: 0 0 0 0;\n",
              "      width: 32px;\n",
              "    }\n",
              "\n",
              "    .colab-df-convert:hover {\n",
              "      background-color: #E2EBFA;\n",
              "      box-shadow: 0px 1px 2px rgba(60, 64, 67, 0.3), 0px 1px 3px 1px rgba(60, 64, 67, 0.15);\n",
              "      fill: #174EA6;\n",
              "    }\n",
              "\n",
              "    .colab-df-buttons div {\n",
              "      margin-bottom: 4px;\n",
              "    }\n",
              "\n",
              "    [theme=dark] .colab-df-convert {\n",
              "      background-color: #3B4455;\n",
              "      fill: #D2E3FC;\n",
              "    }\n",
              "\n",
              "    [theme=dark] .colab-df-convert:hover {\n",
              "      background-color: #434B5C;\n",
              "      box-shadow: 0px 1px 3px 1px rgba(0, 0, 0, 0.15);\n",
              "      filter: drop-shadow(0px 1px 2px rgba(0, 0, 0, 0.3));\n",
              "      fill: #FFFFFF;\n",
              "    }\n",
              "  </style>\n",
              "\n",
              "    <script>\n",
              "      const buttonEl =\n",
              "        document.querySelector('#df-7ea2eb73-f92a-4874-8197-920089dbc109 button.colab-df-convert');\n",
              "      buttonEl.style.display =\n",
              "        google.colab.kernel.accessAllowed ? 'block' : 'none';\n",
              "\n",
              "      async function convertToInteractive(key) {\n",
              "        const element = document.querySelector('#df-7ea2eb73-f92a-4874-8197-920089dbc109');\n",
              "        const dataTable =\n",
              "          await google.colab.kernel.invokeFunction('convertToInteractive',\n",
              "                                                    [key], {});\n",
              "        if (!dataTable) return;\n",
              "\n",
              "        const docLinkHtml = 'Like what you see? Visit the ' +\n",
              "          '<a target=\"_blank\" href=https://colab.research.google.com/notebooks/data_table.ipynb>data table notebook</a>'\n",
              "          + ' to learn more about interactive tables.';\n",
              "        element.innerHTML = '';\n",
              "        dataTable['output_type'] = 'display_data';\n",
              "        await google.colab.output.renderOutput(dataTable, element);\n",
              "        const docLink = document.createElement('div');\n",
              "        docLink.innerHTML = docLinkHtml;\n",
              "        element.appendChild(docLink);\n",
              "      }\n",
              "    </script>\n",
              "  </div>\n",
              "\n",
              "\n",
              "  <div id=\"id_6db82312-39d6-4ae1-bb81-3a0bdae77dec\">\n",
              "    <style>\n",
              "      .colab-df-generate {\n",
              "        background-color: #E8F0FE;\n",
              "        border: none;\n",
              "        border-radius: 50%;\n",
              "        cursor: pointer;\n",
              "        display: none;\n",
              "        fill: #1967D2;\n",
              "        height: 32px;\n",
              "        padding: 0 0 0 0;\n",
              "        width: 32px;\n",
              "      }\n",
              "\n",
              "      .colab-df-generate:hover {\n",
              "        background-color: #E2EBFA;\n",
              "        box-shadow: 0px 1px 2px rgba(60, 64, 67, 0.3), 0px 1px 3px 1px rgba(60, 64, 67, 0.15);\n",
              "        fill: #174EA6;\n",
              "      }\n",
              "\n",
              "      [theme=dark] .colab-df-generate {\n",
              "        background-color: #3B4455;\n",
              "        fill: #D2E3FC;\n",
              "      }\n",
              "\n",
              "      [theme=dark] .colab-df-generate:hover {\n",
              "        background-color: #434B5C;\n",
              "        box-shadow: 0px 1px 3px 1px rgba(0, 0, 0, 0.15);\n",
              "        filter: drop-shadow(0px 1px 2px rgba(0, 0, 0, 0.3));\n",
              "        fill: #FFFFFF;\n",
              "      }\n",
              "    </style>\n",
              "    <button class=\"colab-df-generate\" onclick=\"generateWithVariable('ozet')\"\n",
              "            title=\"Generate code using this dataframe.\"\n",
              "            style=\"display:none;\">\n",
              "\n",
              "  <svg xmlns=\"http://www.w3.org/2000/svg\" height=\"24px\"viewBox=\"0 0 24 24\"\n",
              "       width=\"24px\">\n",
              "    <path d=\"M7,19H8.4L18.45,9,17,7.55,7,17.6ZM5,21V16.75L18.45,3.32a2,2,0,0,1,2.83,0l1.4,1.43a1.91,1.91,0,0,1,.58,1.4,1.91,1.91,0,0,1-.58,1.4L9.25,21ZM18.45,9,17,7.55Zm-12,3A5.31,5.31,0,0,0,4.9,8.1,5.31,5.31,0,0,0,1,6.5,5.31,5.31,0,0,0,4.9,4.9,5.31,5.31,0,0,0,6.5,1,5.31,5.31,0,0,0,8.1,4.9,5.31,5.31,0,0,0,12,6.5,5.46,5.46,0,0,0,6.5,12Z\"/>\n",
              "  </svg>\n",
              "    </button>\n",
              "    <script>\n",
              "      (() => {\n",
              "      const buttonEl =\n",
              "        document.querySelector('#id_6db82312-39d6-4ae1-bb81-3a0bdae77dec button.colab-df-generate');\n",
              "      buttonEl.style.display =\n",
              "        google.colab.kernel.accessAllowed ? 'block' : 'none';\n",
              "\n",
              "      buttonEl.onclick = () => {\n",
              "        google.colab.notebook.generateWithVariable('ozet');\n",
              "      }\n",
              "      })();\n",
              "    </script>\n",
              "  </div>\n",
              "\n",
              "    </div>\n",
              "  </div>\n"
            ],
            "application/vnd.google.colaboratory.intrinsic+json": {
              "type": "dataframe",
              "variable_name": "ozet",
              "summary": "{\n  \"name\": \"ozet\",\n  \"rows\": 1,\n  \"fields\": [\n    {\n      \"column\": \"abstract\",\n      \"properties\": {\n        \"dtype\": \"string\",\n        \"num_unique_values\": 1,\n        \"samples\": [\n          \"H. pylori is a Gram-negative, spiral shaped microaerophile pathogen which is colonized in more than half of the world population's stomach. It is a major cause of gastritis associated disease like gastritis, gastric ulcer, duodenal ulcer, gastric adenocarcinoma, mucosa associated lymphoid tissue lymphoma (MALT lymphoma). Genetic diversity within the virulence genes of bacteria such as Cytotoxin associated gene Pathogenicity Island (cagPAI) and vacuolating cytotoxinA (vacA) may have a modifying effect on the pathogenic potential of the infecting strain. This study aimed to investigate which genes can be suggested as potentially related virulence factors for H. pylori associated active chronic gastritis and stomach Adenocarcinoma in Iran and Turkey. We focused on some cag (PAI) components and vacA gene subtypes based on correlations shown in some previous studies and Formalin Fixed Paraffin Embedded (FFPE) tissues obtained from Iranian and Turkish patients. The prevalence of the cagA, cagE, cagT, cagG, cagM, vacA s1a, vacA s2, vacA m1 and vacA m2 genes were studied in these strains by using the polymerase chain reaction (PCR) method and specific primers and We found that vacAs1a, vacAm2 and cagA genes with mean prevalence of 82.41%, 71.42% and 69.23% were dominant in Iranian and Turkish patients. In conclusion in Turkish and Iranian population the genes that were studied, was homogeneous and there is no significant differences in bacterial genetic and with the exception of H. pylori infection other factors such as host genetics and nourishment play an important role in the formation of gastric cancer. But it is possible that if statistical population increases, the cagA gene association with cancer will be meaningful.\"\n        ],\n        \"semantic_type\": \"\",\n        \"description\": \"\"\n      }\n    },\n    {\n      \"column\": \"source\",\n      \"properties\": {\n        \"dtype\": \"string\",\n        \"num_unique_values\": 1,\n        \"samples\": [\n          \"https://tez.yok.gov.tr/UlusalTezMerkezi/tezSorguSonucYeni.jsp\"\n        ],\n        \"semantic_type\": \"\",\n        \"description\": \"\"\n      }\n    },\n    {\n      \"column\": \"details\",\n      \"properties\": {\n        \"dtype\": \"string\",\n        \"num_unique_values\": 1,\n        \"samples\": [\n          \"Investigation of the effect of diabetes mellitus on Sydney classification parameters used in chronic gastritis caused by Helicobacter Pylori infection\"\n        ],\n        \"semantic_type\": \"\",\n        \"description\": \"\"\n      }\n    }\n  ]\n}"
            }
          },
          "metadata": {},
          "execution_count": 231
        }
      ]
    },
    {
      "cell_type": "code",
      "source": [
        "# Create sentencizer - Source: https://spacy.io/usage/linguistic-features#sbd\n",
        "from spacy.lang.en import English\n",
        "nlp = English() # setup English sentence parser\n",
        "\n",
        "# New version of spaCy\n",
        "sentencizer = nlp.add_pipe(\"sentencizer\") # create sentence splitting pipeline object\n",
        "\n",
        "# Create \"doc\" of parsed sequences, change index for a different abstract\n",
        "doc = nlp(kronik_gastrit[0][\"abstract\"])\n",
        "abstract_lines = [str(sent) for sent in list(doc.sents)] # return detected sentences from doc in string type (not spaCy token type)\n",
        "abstract_lines"
      ],
      "metadata": {
        "colab": {
          "base_uri": "https://localhost:8080/"
        },
        "id": "4nM5ceA0gpjA",
        "outputId": "d6493829-fb12-41fb-c5bf-62dff003f212"
      },
      "execution_count": null,
      "outputs": [
        {
          "output_type": "execute_result",
          "data": {
            "text/plain": [
              "[\"H. pylori is a Gram-negative, spiral shaped microaerophile pathogen which is colonized in more than half of the world population's stomach.\",\n",
              " 'It is a major cause of gastritis associated disease like gastritis, gastric ulcer, duodenal ulcer, gastric adenocarcinoma, mucosa associated lymphoid tissue lymphoma (MALT lymphoma).',\n",
              " 'Genetic diversity within the virulence genes of bacteria such as Cytotoxin associated gene Pathogenicity Island (cagPAI) and vacuolating cytotoxinA (vacA) may have a modifying effect on the pathogenic potential of the infecting strain.',\n",
              " 'This study aimed to investigate which genes can be suggested as potentially related virulence factors for H. pylori associated active chronic gastritis and stomach Adenocarcinoma in Iran and Turkey.',\n",
              " 'We focused on some cag (PAI) components and vacA gene subtypes based on correlations shown in some previous studies and Formalin Fixed Paraffin Embedded (FFPE) tissues obtained from Iranian and Turkish patients.',\n",
              " 'The prevalence of the cagA, cagE, cagT, cagG, cagM, vacA s1a, vacA s2, vacA m1 and vacA m2 genes were studied in these strains by using the polymerase chain reaction (PCR) method and specific primers and We found that vacAs1a, vacAm2 and cagA genes with mean prevalence of 82.41%, 71.42% and 69.23% were dominant in Iranian and Turkish patients.',\n",
              " 'In conclusion in Turkish and Iranian population the genes that were studied, was homogeneous and there is no significant differences in bacterial genetic and with the exception of H. pylori infection other factors such as host genetics and nourishment play an important role in the formation of gastric cancer.',\n",
              " 'But it is possible that if statistical population increases, the cagA gene association with cancer will be meaningful.']"
            ]
          },
          "metadata": {},
          "execution_count": 232
        }
      ]
    },
    {
      "cell_type": "code",
      "source": [
        "# Get total number of lines\n",
        "total_lines_in_sample = len(abstract_lines)\n",
        "\n",
        "# Go through each line in abstract and create a list of dictionaries containing features for each line\n",
        "sample_lines = []\n",
        "for i, line in enumerate(abstract_lines):\n",
        "  sample_dict = {}\n",
        "  sample_dict[\"text\"] = str(line)\n",
        "  sample_dict[\"line_number\"] = i\n",
        "  sample_dict[\"total_lines\"] = total_lines_in_sample - 1\n",
        "  sample_lines.append(sample_dict)\n",
        "sample_lines"
      ],
      "metadata": {
        "colab": {
          "base_uri": "https://localhost:8080/"
        },
        "id": "Y62ohgOTcYVs",
        "outputId": "165249fc-7657-4d35-9acd-bca18c22191f"
      },
      "execution_count": null,
      "outputs": [
        {
          "output_type": "execute_result",
          "data": {
            "text/plain": [
              "[{'text': \"H. pylori is a Gram-negative, spiral shaped microaerophile pathogen which is colonized in more than half of the world population's stomach.\",\n",
              "  'line_number': 0,\n",
              "  'total_lines': 7},\n",
              " {'text': 'It is a major cause of gastritis associated disease like gastritis, gastric ulcer, duodenal ulcer, gastric adenocarcinoma, mucosa associated lymphoid tissue lymphoma (MALT lymphoma).',\n",
              "  'line_number': 1,\n",
              "  'total_lines': 7},\n",
              " {'text': 'Genetic diversity within the virulence genes of bacteria such as Cytotoxin associated gene Pathogenicity Island (cagPAI) and vacuolating cytotoxinA (vacA) may have a modifying effect on the pathogenic potential of the infecting strain.',\n",
              "  'line_number': 2,\n",
              "  'total_lines': 7},\n",
              " {'text': 'This study aimed to investigate which genes can be suggested as potentially related virulence factors for H. pylori associated active chronic gastritis and stomach Adenocarcinoma in Iran and Turkey.',\n",
              "  'line_number': 3,\n",
              "  'total_lines': 7},\n",
              " {'text': 'We focused on some cag (PAI) components and vacA gene subtypes based on correlations shown in some previous studies and Formalin Fixed Paraffin Embedded (FFPE) tissues obtained from Iranian and Turkish patients.',\n",
              "  'line_number': 4,\n",
              "  'total_lines': 7},\n",
              " {'text': 'The prevalence of the cagA, cagE, cagT, cagG, cagM, vacA s1a, vacA s2, vacA m1 and vacA m2 genes were studied in these strains by using the polymerase chain reaction (PCR) method and specific primers and We found that vacAs1a, vacAm2 and cagA genes with mean prevalence of 82.41%, 71.42% and 69.23% were dominant in Iranian and Turkish patients.',\n",
              "  'line_number': 5,\n",
              "  'total_lines': 7},\n",
              " {'text': 'In conclusion in Turkish and Iranian population the genes that were studied, was homogeneous and there is no significant differences in bacterial genetic and with the exception of H. pylori infection other factors such as host genetics and nourishment play an important role in the formation of gastric cancer.',\n",
              "  'line_number': 6,\n",
              "  'total_lines': 7},\n",
              " {'text': 'But it is possible that if statistical population increases, the cagA gene association with cancer will be meaningful.',\n",
              "  'line_number': 7,\n",
              "  'total_lines': 7}]"
            ]
          },
          "metadata": {},
          "execution_count": 233
        }
      ]
    },
    {
      "cell_type": "code",
      "source": [
        "# Get all line_number values from sample abstract\n",
        "test_abstract_line_numbers = [line[\"line_number\"] for line in sample_lines]\n",
        "# One-hot encode to same depth as training data, so model accepts right input shape\n",
        "test_abstract_line_numbers_one_hot = tf.one_hot(test_abstract_line_numbers, depth=15)\n",
        "test_abstract_line_numbers_one_hot"
      ],
      "metadata": {
        "colab": {
          "base_uri": "https://localhost:8080/"
        },
        "id": "GgjVf4IWdn1X",
        "outputId": "07abc4b4-611d-44b5-a0c2-bf7779bdae3c"
      },
      "execution_count": null,
      "outputs": [
        {
          "output_type": "execute_result",
          "data": {
            "text/plain": [
              "<tf.Tensor: shape=(8, 15), dtype=float32, numpy=\n",
              "array([[1., 0., 0., 0., 0., 0., 0., 0., 0., 0., 0., 0., 0., 0., 0.],\n",
              "       [0., 1., 0., 0., 0., 0., 0., 0., 0., 0., 0., 0., 0., 0., 0.],\n",
              "       [0., 0., 1., 0., 0., 0., 0., 0., 0., 0., 0., 0., 0., 0., 0.],\n",
              "       [0., 0., 0., 1., 0., 0., 0., 0., 0., 0., 0., 0., 0., 0., 0.],\n",
              "       [0., 0., 0., 0., 1., 0., 0., 0., 0., 0., 0., 0., 0., 0., 0.],\n",
              "       [0., 0., 0., 0., 0., 1., 0., 0., 0., 0., 0., 0., 0., 0., 0.],\n",
              "       [0., 0., 0., 0., 0., 0., 1., 0., 0., 0., 0., 0., 0., 0., 0.],\n",
              "       [0., 0., 0., 0., 0., 0., 0., 1., 0., 0., 0., 0., 0., 0., 0.]],\n",
              "      dtype=float32)>"
            ]
          },
          "metadata": {},
          "execution_count": 234
        }
      ]
    },
    {
      "cell_type": "code",
      "source": [
        "# Split abstract lines into characters\n",
        "abstract_chars = [split_chars(sentence) for sentence in abstract_lines]\n",
        "abstract_chars"
      ],
      "metadata": {
        "colab": {
          "base_uri": "https://localhost:8080/"
        },
        "id": "fUwvgwind1PZ",
        "outputId": "ff369d88-b7da-4f7a-8220-b8d70b5fbf52"
      },
      "execution_count": null,
      "outputs": [
        {
          "output_type": "execute_result",
          "data": {
            "text/plain": [
              "[\"H .   p y l o r i   i s   a   G r a m - n e g a t i v e ,   s p i r a l   s h a p e d   m i c r o a e r o p h i l e   p a t h o g e n   w h i c h   i s   c o l o n i z e d   i n   m o r e   t h a n   h a l f   o f   t h e   w o r l d   p o p u l a t i o n ' s   s t o m a c h .\",\n",
              " 'I t   i s   a   m a j o r   c a u s e   o f   g a s t r i t i s   a s s o c i a t e d   d i s e a s e   l i k e   g a s t r i t i s ,   g a s t r i c   u l c e r ,   d u o d e n a l   u l c e r ,   g a s t r i c   a d e n o c a r c i n o m a ,   m u c o s a   a s s o c i a t e d   l y m p h o i d   t i s s u e   l y m p h o m a   ( M A L T   l y m p h o m a ) .',\n",
              " 'G e n e t i c   d i v e r s i t y   w i t h i n   t h e   v i r u l e n c e   g e n e s   o f   b a c t e r i a   s u c h   a s   C y t o t o x i n   a s s o c i a t e d   g e n e   P a t h o g e n i c i t y   I s l a n d   ( c a g P A I )   a n d   v a c u o l a t i n g   c y t o t o x i n A   ( v a c A )   m a y   h a v e   a   m o d i f y i n g   e f f e c t   o n   t h e   p a t h o g e n i c   p o t e n t i a l   o f   t h e   i n f e c t i n g   s t r a i n .',\n",
              " 'T h i s   s t u d y   a i m e d   t o   i n v e s t i g a t e   w h i c h   g e n e s   c a n   b e   s u g g e s t e d   a s   p o t e n t i a l l y   r e l a t e d   v i r u l e n c e   f a c t o r s   f o r   H .   p y l o r i   a s s o c i a t e d   a c t i v e   c h r o n i c   g a s t r i t i s   a n d   s t o m a c h   A d e n o c a r c i n o m a   i n   I r a n   a n d   T u r k e y .',\n",
              " 'W e   f o c u s e d   o n   s o m e   c a g   ( P A I )   c o m p o n e n t s   a n d   v a c A   g e n e   s u b t y p e s   b a s e d   o n   c o r r e l a t i o n s   s h o w n   i n   s o m e   p r e v i o u s   s t u d i e s   a n d   F o r m a l i n   F i x e d   P a r a f f i n   E m b e d d e d   ( F F P E )   t i s s u e s   o b t a i n e d   f r o m   I r a n i a n   a n d   T u r k i s h   p a t i e n t s .',\n",
              " 'T h e   p r e v a l e n c e   o f   t h e   c a g A ,   c a g E ,   c a g T ,   c a g G ,   c a g M ,   v a c A   s 1 a ,   v a c A   s 2 ,   v a c A   m 1   a n d   v a c A   m 2   g e n e s   w e r e   s t u d i e d   i n   t h e s e   s t r a i n s   b y   u s i n g   t h e   p o l y m e r a s e   c h a i n   r e a c t i o n   ( P C R )   m e t h o d   a n d   s p e c i f i c   p r i m e r s   a n d   W e   f o u n d   t h a t   v a c A s 1 a ,   v a c A m 2   a n d   c a g A   g e n e s   w i t h   m e a n   p r e v a l e n c e   o f   8 2 . 4 1 % ,   7 1 . 4 2 %   a n d   6 9 . 2 3 %   w e r e   d o m i n a n t   i n   I r a n i a n   a n d   T u r k i s h   p a t i e n t s .',\n",
              " 'I n   c o n c l u s i o n   i n   T u r k i s h   a n d   I r a n i a n   p o p u l a t i o n   t h e   g e n e s   t h a t   w e r e   s t u d i e d ,   w a s   h o m o g e n e o u s   a n d   t h e r e   i s   n o   s i g n i f i c a n t   d i f f e r e n c e s   i n   b a c t e r i a l   g e n e t i c   a n d   w i t h   t h e   e x c e p t i o n   o f   H .   p y l o r i   i n f e c t i o n   o t h e r   f a c t o r s   s u c h   a s   h o s t   g e n e t i c s   a n d   n o u r i s h m e n t   p l a y   a n   i m p o r t a n t   r o l e   i n   t h e   f o r m a t i o n   o f   g a s t r i c   c a n c e r .',\n",
              " 'B u t   i t   i s   p o s s i b l e   t h a t   i f   s t a t i s t i c a l   p o p u l a t i o n   i n c r e a s e s ,   t h e   c a g A   g e n e   a s s o c i a t i o n   w i t h   c a n c e r   w i l l   b e   m e a n i n g f u l .']"
            ]
          },
          "metadata": {},
          "execution_count": 235
        }
      ]
    },
    {
      "cell_type": "code",
      "source": [
        "# Make predictions on sample abstract features\n",
        "%%time\n",
        "test_abstract_pred_probs = loaded_model.predict(x=(test_abstract_line_numbers_one_hot,\n",
        "                                                   test_abstract_total_lines_one_hot,\n",
        "                                                   tf.constant(abstract_lines),\n",
        "                                                   tf.constant(abstract_chars)))\n",
        "test_abstract_pred_probs"
      ],
      "metadata": {
        "colab": {
          "base_uri": "https://localhost:8080/"
        },
        "collapsed": true,
        "id": "cyb9y5w2d9z9",
        "outputId": "6aa35338-a632-4ed5-c90a-9e0c2a92c1da"
      },
      "execution_count": null,
      "outputs": [
        {
          "output_type": "stream",
          "name": "stdout",
          "text": [
            "1/1 [==============================] - 0s 36ms/step\n",
            "CPU times: user 104 ms, sys: 884 µs, total: 105 ms\n",
            "Wall time: 93.9 ms\n"
          ]
        },
        {
          "output_type": "execute_result",
          "data": {
            "text/plain": [
              "array([[0.5048185 , 0.1020873 , 0.02903611, 0.32913283, 0.03492522],\n",
              "       [0.36879376, 0.21634556, 0.04051226, 0.34645888, 0.0278895 ],\n",
              "       [0.4134071 , 0.26191053, 0.05812656, 0.24422096, 0.02233484],\n",
              "       [0.20578164, 0.43534684, 0.07648571, 0.25100738, 0.03137844],\n",
              "       [0.09973665, 0.24112633, 0.36120215, 0.07625338, 0.2216814 ],\n",
              "       [0.03243421, 0.13685814, 0.34434414, 0.04047624, 0.44588727],\n",
              "       [0.0633763 , 0.52659875, 0.06158883, 0.04794252, 0.30049357],\n",
              "       [0.06297437, 0.79957044, 0.01628507, 0.04813183, 0.07303828]],\n",
              "      dtype=float32)"
            ]
          },
          "metadata": {},
          "execution_count": 236
        }
      ]
    },
    {
      "cell_type": "code",
      "source": [
        "# Turn prediction probabilities into prediction classes\n",
        "test_abstract_preds = tf.argmax(test_abstract_pred_probs, axis=1)\n",
        "test_abstract_preds"
      ],
      "metadata": {
        "colab": {
          "base_uri": "https://localhost:8080/"
        },
        "id": "iVxmCQExeIQ9",
        "outputId": "1d42e3dc-ac6b-4baa-db09-96970e6d9d6a"
      },
      "execution_count": null,
      "outputs": [
        {
          "output_type": "execute_result",
          "data": {
            "text/plain": [
              "<tf.Tensor: shape=(8,), dtype=int64, numpy=array([0, 0, 0, 1, 2, 4, 1, 1])>"
            ]
          },
          "metadata": {},
          "execution_count": 237
        }
      ]
    },
    {
      "cell_type": "code",
      "source": [
        "# Turn prediction class integers into string class names\n",
        "test_abstract_pred_classes = [label_encoder.classes_[i] for i in test_abstract_preds]\n",
        "test_abstract_pred_classes"
      ],
      "metadata": {
        "colab": {
          "base_uri": "https://localhost:8080/"
        },
        "id": "AQ4p0VVqeLfN",
        "outputId": "bc7b215c-d7ff-48b8-a797-cdd4596e6b07"
      },
      "execution_count": null,
      "outputs": [
        {
          "output_type": "execute_result",
          "data": {
            "text/plain": [
              "['BACKGROUND',\n",
              " 'BACKGROUND',\n",
              " 'BACKGROUND',\n",
              " 'CONCLUSIONS',\n",
              " 'METHODS',\n",
              " 'RESULTS',\n",
              " 'CONCLUSIONS',\n",
              " 'CONCLUSIONS']"
            ]
          },
          "metadata": {},
          "execution_count": 238
        }
      ]
    },
    {
      "cell_type": "code",
      "source": [
        "# Visualize abstract lines and predicted sequence labels\n",
        "for i, line in enumerate(abstract_lines):\n",
        "  print(f\"{test_abstract_pred_classes[i]}: {line}\")"
      ],
      "metadata": {
        "colab": {
          "base_uri": "https://localhost:8080/"
        },
        "id": "nRIQaqdoeOk2",
        "outputId": "c0a07455-c960-4df2-9a5f-1db9f6d608a2"
      },
      "execution_count": null,
      "outputs": [
        {
          "output_type": "stream",
          "name": "stdout",
          "text": [
            "BACKGROUND: H. pylori is a Gram-negative, spiral shaped microaerophile pathogen which is colonized in more than half of the world population's stomach.\n",
            "BACKGROUND: It is a major cause of gastritis associated disease like gastritis, gastric ulcer, duodenal ulcer, gastric adenocarcinoma, mucosa associated lymphoid tissue lymphoma (MALT lymphoma).\n",
            "BACKGROUND: Genetic diversity within the virulence genes of bacteria such as Cytotoxin associated gene Pathogenicity Island (cagPAI) and vacuolating cytotoxinA (vacA) may have a modifying effect on the pathogenic potential of the infecting strain.\n",
            "CONCLUSIONS: This study aimed to investigate which genes can be suggested as potentially related virulence factors for H. pylori associated active chronic gastritis and stomach Adenocarcinoma in Iran and Turkey.\n",
            "METHODS: We focused on some cag (PAI) components and vacA gene subtypes based on correlations shown in some previous studies and Formalin Fixed Paraffin Embedded (FFPE) tissues obtained from Iranian and Turkish patients.\n",
            "RESULTS: The prevalence of the cagA, cagE, cagT, cagG, cagM, vacA s1a, vacA s2, vacA m1 and vacA m2 genes were studied in these strains by using the polymerase chain reaction (PCR) method and specific primers and We found that vacAs1a, vacAm2 and cagA genes with mean prevalence of 82.41%, 71.42% and 69.23% were dominant in Iranian and Turkish patients.\n",
            "CONCLUSIONS: In conclusion in Turkish and Iranian population the genes that were studied, was homogeneous and there is no significant differences in bacterial genetic and with the exception of H. pylori infection other factors such as host genetics and nourishment play an important role in the formation of gastric cancer.\n",
            "CONCLUSIONS: But it is possible that if statistical population increases, the cagA gene association with cancer will be meaningful.\n"
          ]
        }
      ]
    },
    {
      "cell_type": "code",
      "source": [],
      "metadata": {
        "id": "N9g9rHAPhiG2"
      },
      "execution_count": null,
      "outputs": []
    }
  ]
}