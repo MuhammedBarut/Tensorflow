{
  "nbformat": 4,
  "nbformat_minor": 0,
  "metadata": {
    "colab": {
      "provenance": [],
      "gpuType": "T4"
    },
    "kernelspec": {
      "name": "python3",
      "display_name": "Python 3"
    },
    "language_info": {
      "name": "python"
    },
    "accelerator": "GPU"
  },
  "cells": [
    {
      "cell_type": "markdown",
      "source": [
        "# **Medikal Metinlerin Sınıflandırılması**"
      ],
      "metadata": {
        "id": "76ILSckHUDRV"
      }
    },
    {
      "cell_type": "code",
      "source": [
        "import datetime\n",
        "print(f\"Bu çalışma kitabının son çalışma tarihi: {datetime.datetime.now()}\")"
      ],
      "metadata": {
        "id": "bjYpVtvDXEZ0",
        "colab": {
          "base_uri": "https://localhost:8080/"
        },
        "outputId": "783e2765-51ae-4a79-f3b1-b3534a522cb8"
      },
      "execution_count": null,
      "outputs": [
        {
          "output_type": "stream",
          "name": "stdout",
          "text": [
            "Bu çalışma kitabının son çalışma tarihi: 2025-01-02 19:29:58.423089\n"
          ]
        }
      ]
    },
    {
      "cell_type": "code",
      "source": [
        "# GPU var mı?\n",
        "!nvidia-smi -L"
      ],
      "metadata": {
        "id": "jrV2Rn7OXYgs",
        "colab": {
          "base_uri": "https://localhost:8080/"
        },
        "outputId": "1583b019-4b29-4612-8f79-a09e100e5811"
      },
      "execution_count": null,
      "outputs": [
        {
          "output_type": "stream",
          "name": "stdout",
          "text": [
            "GPU 0: Tesla T4 (UUID: GPU-5a3cb6f8-b03a-a8b4-bddd-74a236c92ff7)\n"
          ]
        }
      ]
    },
    {
      "cell_type": "markdown",
      "source": [
        "### **İçindekiler**\n",
        "```\n",
        "1. Tanıtım & Genel Bilgiler\n",
        "2. Veri\n",
        "  2.1. Verilerin Yüklenmesi ve Kontrolü\n",
        "  2.2. Satır Okuma Fonksiyonu\n",
        "  2.3. Veriyi Ön İşleyecek Fonksiyon Yazımı\n",
        "  2.4. Verilerin İncelenmesi\n",
        "  2.5. Tek Sıcak Kodlayıcı İle Sayısal Etiketler\n",
        "3. Modelleme\n",
        "  3.1. Model 0 Temel Model Yazımı ve Değerlendirilmesi\n",
        "  3.2. Yardımcı Fonksiyonlar Dosyası\n",
        "  3.3. Derin Modelleme İçin Veri Hazırlığı\n",
        "  3.4. Metin Vektörleştirme\n",
        "  3.5. Gömme Hazırlama\n",
        "  3.6. Veri Kümelerini hazırlama\n",
        "  3.7. Kelime Düzeyinde Conv1D İle Modelleme ve Değerlendirme\n",
        "  3.8. Tensorflow Hub İle Modelleme ve Değerlendirme\n",
        "  3.9. Karakter Düzeyinde Conv1D İle Modelleme ve Değerlendirme\n",
        "  3.10. Önceden Eğitilmiş Token Gömmeler ve Karakter Gömmeleri Birleştirerek Modelleme ve Değerlendirme\n",
        "  3.11. Önceden Eğitilmiş Token Gömmeler, Karakter Gömmeleri ve Konumsal Gömmeleri Birleştirerek Modelleme ve Değerlendirme\n",
        "4. Model Sonuçlarını Karşılaştır\n",
        "5. Model Kaydetme ve Yükleme\n",
        "6. Değerlendirme\n",
        "  6.1. Doğrulama Veri Setini Değerlendir\n",
        "  6.2. Test Veri Setinde Modeli Değerlendir\n",
        "  6.3. En Çok Yanlışı Bul\n",
        "  6.4. Örnek Tahminler Yap\n",
        "  6.5. Kendi Denemelerim :)\n",
        "7. Kaynakça\n",
        "```"
      ],
      "metadata": {
        "id": "WI5e_GQqUDEj"
      }
    },
    {
      "cell_type": "markdown",
      "source": [
        "# **1. Tanıtım & Genel Bilgiler**"
      ],
      "metadata": {
        "id": "AlgHgm_9j5sX"
      }
    },
    {
      "cell_type": "markdown",
      "source": [
        "PubMed sağlıkla ilgili makalelerin yer aldığı bir websitesidir. Bu çalışmada 2017 tarihli PubMed 200k RCT makalesinin arkasındaki derin öğrenme modelini çoğaltacağız: Tıbbi Özetlerde Sıralı Cümle Sınıflandırması için Bir Veri Kümesi. https://arxiv.org/abs/1710.06071\n",
        "\n",
        "Yayınlandığında, makale ~200.000 etiketli Randomize Kontrollü Deneme (RCT) özetinden oluşan PubMed 200k RCT adlı yeni bir veri kümesi sundu.\n",
        "\n",
        "Veri kümesinin amacı, NLP modellerinin sıralı olarak görünen cümleleri sınıflandırma yeteneğini araştırmaktı.\n",
        "\n",
        "Başka bir deyişle, bir RCT'nin özeti göz önüne alındığında, her cümle soyutta nasıl bir role hizmet eder?\n",
        "\n",
        "Uzun bir paragrafı bölümlere ayırıp özetini çıkarmak isteseydik? Buradaki model many to one sorunu. Örnek bir paragrafta on cümle varsa hepsi ayrı ayrı değerlendirilir, bu input, ama hedef paragrafın etiketi ise tek kelime, bu da output. Yani kolaylaştırmak için her bir diziye hangi bölüme ait olmaları gerektiğine dair etiket veririz."
      ],
      "metadata": {
        "id": "jhvGdVthvDY1"
      }
    },
    {
      "cell_type": "markdown",
      "source": [
        "Modelleme Adımları\n",
        "\n",
        "1. Verileri hazırlayın (tensörlere dönüştürün)\n",
        "2. Tensorflow hub'ı, önceden eğitilmiş bir model oluşturun veya seçin (sorunuza uyacak şekilde)\n",
        "3. Modeli verilere uydurun ve tahmin yapın\n",
        "4. Modeli değerlendirin\n",
        "5. Deneyerek geliştirin\n",
        "6. Eğitilen modelinizi kaydedin ve yeniden yükleyin\n",
        "\n",
        "* Tüm veri sayılara dönüştürülmeli. Nöral ağlar metin veya doğal dil işleyemez.\n",
        "* Tüm tensörler doğru ölçüde (şekil) olmalıdır."
      ],
      "metadata": {
        "id": "JR5IyqAduq4o"
      }
    },
    {
      "cell_type": "markdown",
      "source": [
        "Örneğin;\n",
        "\n",
        "**Okuması zor:**\n",
        "\n",
        "Nutritional psychiatry: the present state of the\n",
        "evidence\n",
        "\n",
        "Wolfgang Marx 1, Genevieve Moseley 2, Michael Berk 2, Felice Jacka 2\n",
        "\n",
        "Affiliations + expand\n",
        "PMID: 28942748 DOI: 10.1017/S0029665117002026\n",
        "Abstract Mental illness, including depression, anxiety and bipolar disorder, accounts for a significant\n",
        "proportion of global disability and poses a substantial social, economic and heath burden. Treatment is presently dominated by pharmacotherapy, such as antidepressants, and psychotherapy, such as cognitive behavioural therapy; however, such treatments avert less than half of the disease burden, suggesting that additional strategies are needed to prevent and treat mental disorders. There are now consistent mechanistic, observational and interventional data to suggest diet quality may be a modifiable risk factor for mental illness. This review provides an overview of the nutritional psychiatry field. It includes a discussion of the neurobiological mechanisms likely modulated by diet, the use of dietary and nutraceutical interventions in mental disorders, and recommendations for further research. Potential biological pathways related to mental disorders include inflammation, oxidative stress, the gut microbiome, epigenetic modifications and neuroplasticity. Consistent epidemiological evidence, particularly for depression, suggests an association between measures of diet quality and mental health, across multiple populations and age groups; these do not appear to be explained by other demographic, lifestyle factors or reverse causality. Our recently published intervention trial provides preliminary clinical evidence that dietary interventions in clinically diagnosed populations are feasible and can provide significant clinical benefit. Furthermore, nutraceuticals including n-3 fatty acids, folate, S- adenosylmethionine, N-acetyl cysteine and probiotics, among others, are promising avenues for future research. Continued research is now required to investigate the efficacy of intervention studies in large cohorts and within clinically relevant populations, particularly in patients with\n",
        "schizophrenia, bipolar and anxiety disorders.\n",
        "Source: https://pubmed.ncbi.n/m.nih.gov/28942748/\n",
        "\n",
        "**Okuması kolay:**\n",
        "\n",
        "Considerations for a surgical RCT for diffuse low-\n",
        "grade glioma: a survey\n",
        "\n",
        "Alireza Mansouri 1, Karanbir Brar 2, Michael D Cusimano 3\n",
        "Affiliations + expand\n",
        "\n",
        "PMID: 32537182 PMCID: PMC7274180 (available on 2021-06-01) DOI: 10.1093/nop/npz058\n",
        "\n",
        "Abstract\n",
        "Background: Diffuse low-grade gliomas (DLGGs) are heterogeneous tumors that inevitably\n",
        "-maximal safe resection of DLGGs has been favored. However, this transition is not supported by\n",
        "-ai realise it main an intes leadin a disa. Hi enver, ai. ansi, is sort upor up front :\n",
        "randomized controlled trial (RCT) data. Here, we sought to survey the neuro-oncology community\n",
        "\n",
        "Methods: A 21-question survey focusing on a surgical RCT for DLGGs was developed and validated by 2 neurosurgeons. A sample case of a patient for whom management might be debatable was presented to gather additional insight. The survey was disseminated to members of the Society for Neuro-Oncology (SNO) and responses were collected from March 16 to July 10,2018.\n",
        "\n",
        "Results: A total of 131 responses were collected. Sixty-three of 117 (54%) respondents thought an RCT would not be ethical, 39 of 117 (33%) would consider participating, and 56 of 117 (48%) believed an RCT would be valuable for determining the differing roles of biopsy, surgery, and observation. This was exemplified by an evenly distributed selection of the latter management options for our sample case. Eighty-three of 120 (69.2%) respondents did not believe in equipoise for DLGG patients. Quality of life and overall survival were deemed equally important end points for\n",
        "a putative RCT.\n",
        "\n",
        "Conclusions: Based on our survey, it is evident that management of certain DLGG patients is not well defined and an RCT may be justified. As with any surgical RCT, logistic challenges are anticipated. Robust patient-relevant end points and standardization of perioperative adjuncts are\n",
        "necessary if a surgical RCT is undertaken.\n",
        "Source: https://pubmed.ncbi.nlm.nih.gov/32537182/"
      ],
      "metadata": {
        "id": "0f2TXS9awbDZ"
      }
    },
    {
      "cell_type": "markdown",
      "source": [
        "**Veriler bazı etiketler alır;**\n",
        "\n",
        "- background\n",
        "- objective\n",
        "- methods\n",
        "- result\n",
        "- conclusion\n",
        "\n",
        "Örnek tahmin edilmiş output olarak [0.03, 0.82, 0.13, 0.02, 0.001] olabilir.\n",
        "\n",
        "Burada çok sınıflı sınıflandırma var.\n",
        "\n",
        "input örneği olarak shape = [batch_size, embedding_size]\n",
        "\n",
        "[None, 512] ya da [32, 512] gibi.\n",
        "\n",
        "Output shape [5] (Yukarıdaki beş etikete dikkat. Aslında modelde makalede senin hangi parametreleri verdiğinle ilgili bir konu).\n",
        "\n",
        "Giriş ve çıktı şekli üzerinde çalıştığımız problemdeki gömme stiline bağlıdır."
      ],
      "metadata": {
        "id": "1f55Khrvwr6x"
      }
    },
    {
      "cell_type": "markdown",
      "source": [
        "**Örneğin modele giren veri**\n",
        "\n",
        "Örneğin, aşağıdaki girdiyi alan bir NLP modelini eğitebilir miyiz (not: aşağıdaki örnekte tüm sayısal semboller \"@\" ile değiştirilmiştir):\n",
        "\n",
        "To investigate the efficacy of @ weeks of daily low-dose oral prednisolone in improving pain , mobility , and systemic low-grade inflammation in the short term and whether the effect would be sustained at @ weeks in older adults with moderate to severe knee osteoarthritis ( OA ). A total of @ patients with primary knee OA were randomized @:@ ; @ received @ mg/day of prednisolone and @ received placebo for @ weeks. Outcome measures included pain reduction and improvement in function scores and systemic inflammation markers. Pain was assessed using the visual analog pain scale ( @-@ mm ). Secondary outcome measures included the Western Ontario and McMaster Universities Osteoarthritis Index scores , patient global assessment ( PGA ) of the severity of knee OA , and @-min walk distance ( @MWD )., Serum levels of interleukin @ ( IL-@ ) , IL-@ , tumor necrosis factor ( TNF ) - , and high-sensitivity C-reactive protein ( hsCRP ) were measured. There was a clinically relevant reduction in the intervention group compared to the placebo group for knee pain , physical function , PGA , and @MWD at @ weeks. The mean difference between treatment arms ( @ % CI ) was @ ( @-@ @ ) , p < @ ; @ ( @-@ @ ) , p < @ ; @ ( @-@ @ ) , p < @ ; and @ ( @-@ @ ) , p < @ , respectively. Further , there was a clinically relevant reduction in the serum levels of IL-@ , IL-@ , TNF - , and hsCRP at @ weeks in the intervention group when compared to the placebo group. These differences remained significant at @ weeks. The Outcome Measures in Rheumatology Clinical Trials-Osteoarthritis Research Society International responder rate was @ % in the intervention group and @ % in the placebo group ( p < @ ). Low-dose oral prednisolone had both a short-term and a longer sustained effect resulting in less knee pain , better physical function , and attenuation of systemic inflammation in older patients with knee OA ( ClinicalTrials.gov identifier NCT@ ).\n",
        "\n",
        "**Modelden çıkmış olması gereken durumu**\n",
        "\n",
        "Ve aşağıdaki çıktıyı döndürür:\n",
        "\n",
        "['###24293578\\n',\n",
        " 'OBJECTIVE\\tTo investigate the efficacy of @ weeks of daily low-dose oral prednisolone in improving pain , mobility , and systemic low-grade inflammation in the short term and whether the effect would be sustained at @ weeks in older adults with moderate to severe knee osteoarthritis ( OA ) .\\n',\n",
        " 'METHODS\\tA total of @ patients with primary knee OA were randomized @:@ ; @ received @ mg/day of prednisolone and @ received placebo for @ weeks .\\n',\n",
        " 'METHODS\\tOutcome measures included pain reduction and improvement in function scores and systemic inflammation markers .\\n',\n",
        " 'METHODS\\tPain was assessed using the visual analog pain scale ( @-@ mm ) .\\n',\n",
        " 'METHODS\\tSecondary outcome measures included the Western Ontario and McMaster Universities Osteoarthritis Index scores , patient global assessment ( PGA ) of the severity of knee OA , and @-min walk distance ( @MWD ) .\\n',\n",
        " 'METHODS\\tSerum levels of interleukin @ ( IL-@ ) , IL-@ , tumor necrosis factor ( TNF ) - , and high-sensitivity C-reactive protein ( hsCRP ) were measured .\\n',\n",
        " 'RESULTS\\tThere was a clinically relevant reduction in the intervention group compared to the placebo group for knee pain , physical function , PGA , and @MWD at @ weeks .\\n',\n",
        " 'RESULTS\\tThe mean difference between treatment arms ( @ % CI ) was @ ( @-@ @ ) , p < @ ; @ ( @-@ @ ) , p < @ ; @ ( @-@ @ ) , p < @ ; and @ ( @-@ @ ) , p < @ , respectively .\\n',\n",
        " 'RESULTS\\tFurther , there was a clinically relevant reduction in the serum levels of IL-@ , IL-@ , TNF - , and hsCRP at @ weeks in the intervention group when compared to the placebo group .\\n',\n",
        " 'RESULTS\\tThese differences remained significant at @ weeks .\\n',\n",
        " 'RESULTS\\tThe Outcome Measures in Rheumatology Clinical Trials-Osteoarthritis Research Society International responder rate was @ % in the intervention group and @ % in the placebo group ( p < @ ) .\\n',\n",
        " 'CONCLUSIONS\\tLow-dose oral prednisolone had both a short-term and a longer sustained effect resulting in less knee pain , better physical function , and attenuation of systemic inflammation in older patients with knee OA ( ClinicalTrials.gov identifier NCT@ ) .\\n',\n",
        " '\\n']"
      ],
      "metadata": {
        "id": "37lwZ9uUw_aq"
      }
    },
    {
      "cell_type": "markdown",
      "source": [
        "Araştırmacıların literatürü gözden geçirmelerini gözden geçirmelerini ve gerektiğinde daha derine dalmalarını sağlamak için soyut cümleleri oynadıkları role (örneğin amaç, yöntemler, sonuçlar, vb.) sınıflandırmak için bir NLP modeli oluşturun.\n",
        "\n",
        "1. Verilerimizin nereden geldiği: PubMed 200k RCT: Tıbbi Özetlerde Sıralı Cümle Sınıflandırması için bir Veri Kümesi https://arxiv.org/abs/1710.06071\n",
        "\n",
        "2. Modelimiz nereden geliyor: Tıbbi kağıt özetlerinde ortak cümle sınıflandırması için sinir ağları. https://arxiv.org/pdf/1612.05251\n",
        "\n",
        "📖 Kaynaklar: Bu not defterindeki kodu gözden geçirmeden önce, ne yapacağımıza dair bir arka plan almak isteyebilirsiniz. Bunu yapmak için, aşağıdaki kağıtları gözden geçirmek için bir (veya iki saat) harcayın ve ardından bu deftere dönün:"
      ],
      "metadata": {
        "id": "Qc-w9ycjxO4P"
      }
    },
    {
      "cell_type": "markdown",
      "source": [
        "# **2. Veri**"
      ],
      "metadata": {
        "id": "lZM8tNw0j5qB"
      }
    },
    {
      "cell_type": "markdown",
      "source": [
        "### **2.1. Verilerin Yüklenmesi ve Kontrolü**"
      ],
      "metadata": {
        "id": "cS20h4pKj5ok"
      }
    },
    {
      "cell_type": "code",
      "source": [
        "# PubMed 200k RCT veri kümesini indirme işlemi\n",
        "# Makele yazarı .txt formatında dosyaları kaydetti https://github.com/Franck-Dernoncourt/pubmed-rct\n",
        "\n",
        "!git clone https://github.com/Franck-Dernoncourt/pubmed-rct.git\n",
        "!ls pubmed-rct"
      ],
      "metadata": {
        "id": "BXqEQQkj2ofc",
        "colab": {
          "base_uri": "https://localhost:8080/"
        },
        "outputId": "09a0613c-86e7-4d68-95c7-8bd6adf44cfa"
      },
      "execution_count": null,
      "outputs": [
        {
          "output_type": "stream",
          "name": "stdout",
          "text": [
            "fatal: destination path 'pubmed-rct' already exists and is not an empty directory.\n",
            "PubMed_200k_RCT\t\t\t\t       PubMed_20k_RCT_numbers_replaced_with_at_sign\n",
            "PubMed_200k_RCT_numbers_replaced_with_at_sign  README.md\n",
            "PubMed_20k_RCT\n"
          ]
        }
      ]
    },
    {
      "cell_type": "markdown",
      "source": [
        "GitHub sayfasındaki README dosyasına baktığımızda aşağıdaki bilgileri elde ediyoruz: https://github.com/Franck-Dernoncourt/pubmed-rct\n",
        "\n",
        "- PubMed 20k, PubMed 200k'nin bir alt kümesidir. Yani, PubMed 20k'deki herhangi bir özet mevcut, PubMed 200k'de de mevcuttur.\n",
        "\n",
        "- PubMed_200k_RCT, PubMed_200k_RCT_numbers_replaced_with_at_sign ile aynıdır, ancak ikincisinde tüm sayılar @ ile değiştirilmiştir. (PubMed_20k_RCT vs. PubMed_20k_RCT_numbers_replaced_with_at_sign).\n",
        "\n",
        "- Github dosya boyutu sınırı 100 MiB olduğundan, PubMed_200k_RCT\\train.7z ve PubMed_200k_RCT_numbers_replaced_with_at_sign\\train.zip dosyalarını sıkıştırmak zorunda kaldık. Train.7z'yi açmak için Windows'ta 7-Zip, Mac OS X'te Keka veya Linux'ta p7zip kullanabilirsiniz.\n",
        "\n",
        "Başlangıç olarak, odaklanacağımız veri kümesi PubMed_20k_RCT_numbers_replaced_with_at_sign'dır.\n",
        "\n",
        "Tüm 200 bin veri kümesiyle çalışmak yerine, daha küçük bir alt kümeyle başlayarak deneylerimizi hızlı tutacağız. @ ile değiştirmek yerine sayılarla veri kümesini seçebilirdik ama seçmedik."
      ],
      "metadata": {
        "id": "FY2CYtR82sFW"
      }
    },
    {
      "cell_type": "code",
      "source": [
        "# PubMed_20K veri setinde neler var?\n",
        "!ls pubmed-rct/PubMed_20k_RCT_numbers_replaced_with_at_sign\n",
        "\n",
        "# train.txt - eğitim örnekleri.\n",
        "# dev.txt - dev, doğrulama kümesinin başka bir adı olan geliştirme kümesinin kısaltmasıdır (doğrulama olarak kullanıyoruz)\n",
        "# test.txt - test örnekleri."
      ],
      "metadata": {
        "id": "Rgq5cjTX22mz",
        "colab": {
          "base_uri": "https://localhost:8080/"
        },
        "outputId": "edc6c302-cadf-4e10-981b-161eacc1136e"
      },
      "execution_count": null,
      "outputs": [
        {
          "output_type": "stream",
          "name": "stdout",
          "text": [
            "dev.txt  test.txt  train.txt\n"
          ]
        }
      ]
    },
    {
      "cell_type": "code",
      "source": [
        "# 20k veri kümesini kullanarak başlayın\n",
        "data_dir = \"pubmed-rct/PubMed_20k_RCT_numbers_replaced_with_at_sign/\""
      ],
      "metadata": {
        "id": "95dvaBT14D7t"
      },
      "execution_count": null,
      "outputs": []
    },
    {
      "cell_type": "code",
      "source": [
        "# Hedef dizindeki tüm dosya adlarını kontrol edin\n",
        "import os\n",
        "filenames = [data_dir + filename for filename in os.listdir(data_dir)]\n",
        "filenames"
      ],
      "metadata": {
        "id": "sIP-gLEU4D4L",
        "colab": {
          "base_uri": "https://localhost:8080/"
        },
        "outputId": "ad704f48-b2c9-413b-b1f2-660c5f92a2da"
      },
      "execution_count": null,
      "outputs": [
        {
          "output_type": "execute_result",
          "data": {
            "text/plain": [
              "['pubmed-rct/PubMed_20k_RCT_numbers_replaced_with_at_sign/dev.txt',\n",
              " 'pubmed-rct/PubMed_20k_RCT_numbers_replaced_with_at_sign/test.txt',\n",
              " 'pubmed-rct/PubMed_20k_RCT_numbers_replaced_with_at_sign/train.txt']"
            ]
          },
          "metadata": {},
          "execution_count": 46
        }
      ]
    },
    {
      "cell_type": "markdown",
      "source": [
        "### **2.2. Satır Okuma Fonksiyonu**"
      ],
      "metadata": {
        "id": "vRT64-fuj5l_"
      }
    },
    {
      "cell_type": "code",
      "source": [
        "# google'a yaz --> \"python read text file\"\n",
        "# realpython.com/read-write-files-pyhton\n",
        "# r --> read; f--> file...dosyayı oku sonra file'ye dönüştür\n",
        "# readlines -->  Dosya nesnesinden kalan satırları okur ve bunları bir liste olarak döndürür\n",
        "\n",
        "# Bir belgenin satırlarını okumak için işlev oluşturun\n",
        "def get_lines(filename):\n",
        "  \"\"\"\n",
        "  Dosya adını (bir metin dosyası) okur ve metnin satırlarını liste olarak döndürür.\n",
        "\n",
        "  Argümanlar:\n",
        "      dosya adı: okunacak hedef dosya yolunu içeren bir dize.\n",
        "\n",
        "  Return:\n",
        "      Hedef dosya adından satır başına bir dize içeren dizelerin listesi.\n",
        "      Örneğin:\n",
        "      [\"bu dosya adının ilk satırıdır\",\n",
        "       \"bu dosya adının ikinci satırıdır\",\n",
        "       \"...\"]\n",
        "  \"\"\"\n",
        "  with open(filename, \"r\") as f:\n",
        "    return f.readlines()"
      ],
      "metadata": {
        "id": "CBE60FwV4w80"
      },
      "execution_count": null,
      "outputs": []
    },
    {
      "cell_type": "code",
      "source": [
        "# bir metin dosyasının dosya yolunu alan, açan, satırların her birini okuyan ve döndüren get_lines() metodu\n",
        "\n",
        "# eğitim dosyalarının bulunduğu satırları okuyun\n",
        "train_lines = get_lines(data_dir+\"train.txt\")\n",
        "train_lines[:20]"
      ],
      "metadata": {
        "id": "HU1nbwFB6X0F",
        "colab": {
          "base_uri": "https://localhost:8080/"
        },
        "outputId": "27c888a7-d213-4a6d-b947-65ae327c4f3c"
      },
      "execution_count": null,
      "outputs": [
        {
          "output_type": "execute_result",
          "data": {
            "text/plain": [
              "['###24293578\\n',\n",
              " 'OBJECTIVE\\tTo investigate the efficacy of @ weeks of daily low-dose oral prednisolone in improving pain , mobility , and systemic low-grade inflammation in the short term and whether the effect would be sustained at @ weeks in older adults with moderate to severe knee osteoarthritis ( OA ) .\\n',\n",
              " 'METHODS\\tA total of @ patients with primary knee OA were randomized @:@ ; @ received @ mg/day of prednisolone and @ received placebo for @ weeks .\\n',\n",
              " 'METHODS\\tOutcome measures included pain reduction and improvement in function scores and systemic inflammation markers .\\n',\n",
              " 'METHODS\\tPain was assessed using the visual analog pain scale ( @-@ mm ) .\\n',\n",
              " 'METHODS\\tSecondary outcome measures included the Western Ontario and McMaster Universities Osteoarthritis Index scores , patient global assessment ( PGA ) of the severity of knee OA , and @-min walk distance ( @MWD ) .\\n',\n",
              " 'METHODS\\tSerum levels of interleukin @ ( IL-@ ) , IL-@ , tumor necrosis factor ( TNF ) - , and high-sensitivity C-reactive protein ( hsCRP ) were measured .\\n',\n",
              " 'RESULTS\\tThere was a clinically relevant reduction in the intervention group compared to the placebo group for knee pain , physical function , PGA , and @MWD at @ weeks .\\n',\n",
              " 'RESULTS\\tThe mean difference between treatment arms ( @ % CI ) was @ ( @-@ @ ) , p < @ ; @ ( @-@ @ ) , p < @ ; @ ( @-@ @ ) , p < @ ; and @ ( @-@ @ ) , p < @ , respectively .\\n',\n",
              " 'RESULTS\\tFurther , there was a clinically relevant reduction in the serum levels of IL-@ , IL-@ , TNF - , and hsCRP at @ weeks in the intervention group when compared to the placebo group .\\n',\n",
              " 'RESULTS\\tThese differences remained significant at @ weeks .\\n',\n",
              " 'RESULTS\\tThe Outcome Measures in Rheumatology Clinical Trials-Osteoarthritis Research Society International responder rate was @ % in the intervention group and @ % in the placebo group ( p < @ ) .\\n',\n",
              " 'CONCLUSIONS\\tLow-dose oral prednisolone had both a short-term and a longer sustained effect resulting in less knee pain , better physical function , and attenuation of systemic inflammation in older patients with knee OA ( ClinicalTrials.gov identifier NCT@ ) .\\n',\n",
              " '\\n',\n",
              " '###24854809\\n',\n",
              " 'BACKGROUND\\tEmotional eating is associated with overeating and the development of obesity .\\n',\n",
              " 'BACKGROUND\\tYet , empirical evidence for individual ( trait ) differences in emotional eating and cognitive mechanisms that contribute to eating during sad mood remain equivocal .\\n',\n",
              " 'OBJECTIVE\\tThe aim of this study was to test if attention bias for food moderates the effect of self-reported emotional eating during sad mood ( vs neutral mood ) on actual food intake .\\n',\n",
              " 'OBJECTIVE\\tIt was expected that emotional eating is predictive of elevated attention for food and higher food intake after an experimentally induced sad mood and that attentional maintenance on food predicts food intake during a sad versus a neutral mood .\\n',\n",
              " 'METHODS\\tParticipants ( N = @ ) were randomly assigned to one of the two experimental mood induction conditions ( sad/neutral ) .\\n']"
            ]
          },
          "metadata": {},
          "execution_count": 48
        }
      ]
    },
    {
      "cell_type": "markdown",
      "source": [
        "Örnek başlarında ###4343 gibi sayısal kimlik biçimleri var. Başlangıcı ayırt etmede kullanabilirsin.\n",
        "\n",
        "Eğitim metin dosyasındaki satırları okumak, farklı örnekler içeren dizelerin bir listesiyle sonuçlanır, bir örnekteki cümleler ve cümlenin özette oynadığı roldür.\n",
        "\n",
        "Her cümlenin rolü, bir sekme (\\t) ile ayrılmış her satırın başında ön eklenir ve her cümle yeni bir satırla (\\n) biter.\n",
        "\n",
        "Farklı özetler kimlikleri (### ile başlayan satırlar) ve yeni satırlar (\\n) ile ayrılır.\n",
        "\n",
        "Bunu bilerek, örneklerimizi gelecekteki makine öğrenimi modelimize eğitim verileri olarak aktarmaya hazır hale getirmek için yapmamız gereken birkaç adım var gibi görünüyor.\n",
        "\n",
        "Aşağıdaki adımları gerçekleştirmek için bir işlev yazalım:\n",
        "\n",
        "- Örneklerden oluşan bir hedef dosya alın.\n",
        "- Hedef dosyadaki satırları okuyun.\n",
        "- Hedef dosyadaki her satır için:\n",
        "  - Satır ### ile başlıyorsa, bunu soyut kimlik ve yeni bir özetin başlangıcı olarak işaretleyin.\n",
        "    - Bir örnekteki satır sayısının sayısını koruyun.\n",
        "  - Satır \\n ile başlıyorsa, bunu soyut bir örneğin sonu olarak işaretleyin.\n",
        "    - Bir örnekteki toplam satırların sayısını koruyun.\n",
        "  - \\t'den önceki metni satırın etiketi olarak kaydedin.\n",
        "  - \\t'den sonraki metni satırın metni olarak kaydedin.\n",
        "- Hedef metin dosyasındaki tüm satırları anahtar/değer çiftlerini içeren sözlüklerin bir listesi olarak döndürün:\n",
        "  - \"Line_number\" - özetteki satırın konumu (örn. 3).\n",
        "  - \"Hedef\" - çizginin soyuttaki rolü (örn. AMAÇ).\n",
        "  - \"Metin\" - soyuttaki satırın metni.\n",
        "  - \"Total_lines\" - soyut bir örnekteki toplam satır (örn. 14).\n",
        "- Özet kimlikleri ve yeni satırlar, döndürülen önceden işlenmiş verilerden atlanmalıdır.\n",
        "\n",
        "Örnek, önceden işlenmiş numune döndürdü (özetten tek bir satır):\n",
        "```\n",
        "[{'line_number': 0,\n",
        "  'target': 'OBJECTIVE',\n",
        "  'text': 'to investigate the efficacy of @ weeks of daily low-dose oral prednisolone in improving pain , mobility , and systemic low-grade inflammation in the short term and whether the effect would be sustained at @ weeks in older adults with moderate to severe knee osteoarthritis.',\n",
        "  'total_lines': 11},\n",
        "  ...]\n",
        "  ```"
      ],
      "metadata": {
        "id": "rYAu1wbC64_0"
      }
    },
    {
      "cell_type": "markdown",
      "source": [
        "### **2.3. Veriyi Ön İşleyecek Fonksiyon Yazımı**"
      ],
      "metadata": {
        "id": "aHulSXzmj5j3"
      }
    },
    {
      "cell_type": "code",
      "source": [
        "def preprocess_text_with_line_numbers(filename):\n",
        "  \"\"\"Özet satır verilerinin sözlüklerinin listesini döndürür.\n",
        "\n",
        "  Dosya adını alır, içeriğini okur ve her satıra göre sıralar,\n",
        "  hedef etiketi, cümlenin metni gibi şeyleri çıkarmak,\n",
        "  güncel özette kaç cümle var ve cümle numarası kaç\n",
        "  hedef hattıdır.\n",
        "\n",
        "  Argümanlar:\n",
        "      dosya adı: satır verilerini okumak ve çıkarmak için hedef metin dosyasının bir dizesi\n",
        "      itibaren.\n",
        "\n",
        "  Return:\n",
        "      Her biri özetten bir satır içeren sözlüklerin listesi,\n",
        "      satır etiketi, özetteki satır konumu ve toplam sayı\n",
        "      Özetteki satırların nereden geldiği. Örneğin:\n",
        "\n",
        "      [{\"target\": 'CONCLUSION',\n",
        "        \"text\": The study couldn't have gone better, turns out people are kinder than you think\",\n",
        "        \"line_number\": 8,\n",
        "        \"total_lines\": 8}]\n",
        "  \"\"\"\n",
        "  input_lines = get_lines(filename) # dosya adından tüm satırları al\n",
        "  abstract_lines = \"\" # boş bir özet oluştur\n",
        "  abstract_samples = [] # boş bir özet listesi oluştur\n",
        "\n",
        "  # Hedef dosyadaki her satırda döngü yapın\n",
        "  for line in input_lines:\n",
        "    if line.startswith(\"###\"): # satırın kimlik satırı olup olmadığını kontrol edin\n",
        "      abstract_id = line\n",
        "      abstract_lines = \"\" # özet dizeyi sıfırla\n",
        "    elif line.isspace(): # satırın yeni bir satır olup olmadığını kontrol edin\n",
        "      abstract_line_split = abstract_lines.splitlines() # Özeti ayrı satırlara bölme\n",
        "\n",
        "      # Her satırı özet olarak yineleyin ve aynı anda sayın\n",
        "      for abstract_line_number, abstract_line in enumerate(abstract_line_split):\n",
        "        line_data = {} # satırdaki verileri depolamak için boş dict oluştur\n",
        "        target_text_split = abstract_line.split(\"\\t\") # hedef etiketi metinden ayır\n",
        "        line_data[\"target\"] = target_text_split[0] # hedef etiketi al\n",
        "        line_data[\"text\"] = target_text_split[1].lower() # hedef metni alın ve indirin\n",
        "        line_data[\"line_number\"] = abstract_line_number # özette çizgi hangi sayı doğrusunda görünüyor?\n",
        "        line_data[\"total_lines\"] = len(abstract_line_split) - 1 # özette toplam kaç satır var? (0'dan başlayın)\n",
        "        abstract_samples.append(line_data) # özet örnekler listesine satır verileri ekleme\n",
        "\n",
        "    else: # Yukarıdaki koşullar yerine getirilmezse satır etiketli bir cümle içerir\n",
        "      abstract_lines += line\n",
        "\n",
        "  return abstract_samples"
      ],
      "metadata": {
        "id": "lA__qdJuRg8C"
      },
      "execution_count": null,
      "outputs": []
    },
    {
      "cell_type": "markdown",
      "source": [
        "```python\n",
        "def preprocess_text_with_line_numbers(filename):\n",
        "```\n",
        "Bu satırda, fonksiyonun adı ve parametresi belirleniyor. `filename` parametresi, işlenecek dosyanın adını alır.\n",
        "\n",
        "---\n",
        "\n",
        "```python\n",
        "input_lines = get_lines(filename)\n",
        "abstract_lines = \"\"\n",
        "abstract_samples = []\n",
        "```\n",
        "- `get_lines(filename)`: Bu fonksiyon, belirtilen dosyanın içeriğini satır satır okur ve her satırı bir liste halinde döndürür.\n",
        "- `abstract_lines`: Bu değişken, her bir özetin metnini geçici olarak tutacak bir string değişkendir. Başlangıçta boş olarak tanımlanır.\n",
        "- `abstract_samples`: Bu değişken, özetin her bir satırını ve ilgili bilgileri içeren sözlüklerin listesi olacak şekilde tanımlanır.\n",
        "\n",
        "---\n",
        "\n",
        "```python\n",
        "for line in input_lines:\n",
        "```\n",
        "Bu döngü, dosyanın her bir satırı üzerinde işlem yapacak şekilde başlar.\n",
        "\n",
        "```python\n",
        "if line.startswith(\"###\"):\n",
        "    abstract_id = line\n",
        "    abstract_lines = \"\"\n",
        "```\n",
        "- Eğer satır, \"###\" ile başlıyorsa (yani bir kimlik satırı ise), bu satırda genellikle bir özetin kimliği yer alır.\n",
        "- `abstract_id = line`: Bu satırdaki kimlik bilgisini alır (ancak bu örnekte `abstract_id` sadece bir kere atanıyor, ilerleyen kodda kullanılmıyor).\n",
        "- `abstract_lines = \"\"`: Yeni bir özet başladığında, geçici özet metni sıfırlanır.\n",
        "\n",
        "```python\n",
        "elif line.isspace():\n",
        "    abstract_line_split = abstract_lines.splitlines()\n",
        "```\n",
        "- `line.isspace()`: Eğer satır boşsa (yani sadece boşluk karakteri içeriyorsa), bir özetin bittiğini ve bir sonraki özetin başladığını gösterir.\n",
        "- `abstract_lines.splitlines()`: Boş satır bulunduğunda, birikmiş özet metni satırlara ayrılır.\n",
        "\n",
        "---\n",
        "\n",
        "```python\n",
        "for abstract_line_number, abstract_line in enumerate(abstract_line_split):\n",
        "    line_data = {}\n",
        "    target_text_split = abstract_line.split(\"\\t\")\n",
        "    line_data[\"target\"] = target_text_split[0]\n",
        "    line_data[\"text\"] = target_text_split[1].lower()\n",
        "    line_data[\"line_number\"] = abstract_line_number\n",
        "    line_data[\"total_lines\"] = len(abstract_line_split) - 1\n",
        "    abstract_samples.append(line_data)\n",
        "```\n",
        "Bu kısım, her bir özet satırını işler:\n",
        "- `enumerate(abstract_line_split)`: Özetteki her bir satırı numaralandırarak işler.\n",
        "- `line_data = {}`: Bu satırdaki verileri tutacak bir sözlük oluşturur.\n",
        "- `target_text_split = abstract_line.split(\"\\t\")`: Satır, tab karakteri ile iki kısımdan oluştuğu için, bu karakterle metni ikiye böler. Birinci kısım hedef etiketi (örneğin `OBJECTIVE`), ikinci kısım ise metin kısmıdır (örneğin, özet metni).\n",
        "- `line_data[\"target\"]`: Etiket kısmını alır.\n",
        "- `line_data[\"text\"]`: Metin kısmını alır ve küçük harflere dönüştürür (`lower()` metodu ile), böylece metin büyük-küçük harf duyarlı olmadan işlenir.\n",
        "- `line_data[\"line_number\"]`: Bu satırın özetin içinde hangi sırada olduğunu belirler.\n",
        "- `line_data[\"total_lines\"]`: Özetteki toplam satır sayısını (0'dan başladığı için 1 eksik) hesaplar.\n",
        "- `abstract_samples.append(line_data)`: Her bir satırdaki bilgileri `abstract_samples` listesine ekler.\n",
        "\n",
        "---\n",
        "\n",
        "```python\n",
        "else:\n",
        "    abstract_lines += line\n",
        "```\n",
        "- Eğer satır boş değilse ve \"###\" ile başlamıyorsa, bu satır bir özet satırıdır. Bu durumda satır, geçici `abstract_lines` değişkenine eklenir.\n",
        "\n",
        "```python\n",
        "return abstract_samples\n",
        "```\n",
        "Fonksiyon, özetin her satırını içeren `abstract_samples` listesini döndürür. Bu liste, her satır için etiket, metin, satır numarası ve toplam satır sayısı gibi bilgileri içeren sözlüklerden oluşur.\n",
        "\n"
      ],
      "metadata": {
        "id": "MFYsAYZ-WICP"
      }
    },
    {
      "cell_type": "code",
      "source": [
        "# Dosyadan veri alın ve ön işleme tabi tutun\n",
        "%%time\n",
        "train_samples = preprocess_text_with_line_numbers(data_dir + \"train.txt\")\n",
        "val_samples = preprocess_text_with_line_numbers(data_dir + \"dev.txt\") # dev, doğrulama kümesinin başka bir adıdır\n",
        "test_samples = preprocess_text_with_line_numbers(data_dir + \"test.txt\")\n",
        "len(train_samples), len(val_samples), len(test_samples)"
      ],
      "metadata": {
        "id": "Rx5waGT0XgBG",
        "colab": {
          "base_uri": "https://localhost:8080/"
        },
        "outputId": "6a227b29-ee86-439d-e412-04e05449ab74"
      },
      "execution_count": null,
      "outputs": [
        {
          "output_type": "stream",
          "name": "stdout",
          "text": [
            "CPU times: user 656 ms, sys: 109 ms, total: 764 ms\n",
            "Wall time: 819 ms\n"
          ]
        },
        {
          "output_type": "execute_result",
          "data": {
            "text/plain": [
              "(180040, 30212, 30135)"
            ]
          },
          "metadata": {},
          "execution_count": 50
        }
      ]
    },
    {
      "cell_type": "code",
      "source": [
        "# Eğitim verilerimizin ilk özetini kontrol edin\n",
        "train_samples[:14]"
      ],
      "metadata": {
        "id": "KNsylqUJXf62",
        "colab": {
          "base_uri": "https://localhost:8080/"
        },
        "outputId": "9d41a5b7-0b5f-412f-b5c1-e4d6b5ff77f6"
      },
      "execution_count": null,
      "outputs": [
        {
          "output_type": "execute_result",
          "data": {
            "text/plain": [
              "[{'target': 'OBJECTIVE',\n",
              "  'text': 'to investigate the efficacy of @ weeks of daily low-dose oral prednisolone in improving pain , mobility , and systemic low-grade inflammation in the short term and whether the effect would be sustained at @ weeks in older adults with moderate to severe knee osteoarthritis ( oa ) .',\n",
              "  'line_number': 0,\n",
              "  'total_lines': 11},\n",
              " {'target': 'METHODS',\n",
              "  'text': 'a total of @ patients with primary knee oa were randomized @:@ ; @ received @ mg/day of prednisolone and @ received placebo for @ weeks .',\n",
              "  'line_number': 1,\n",
              "  'total_lines': 11},\n",
              " {'target': 'METHODS',\n",
              "  'text': 'outcome measures included pain reduction and improvement in function scores and systemic inflammation markers .',\n",
              "  'line_number': 2,\n",
              "  'total_lines': 11},\n",
              " {'target': 'METHODS',\n",
              "  'text': 'pain was assessed using the visual analog pain scale ( @-@ mm ) .',\n",
              "  'line_number': 3,\n",
              "  'total_lines': 11},\n",
              " {'target': 'METHODS',\n",
              "  'text': 'secondary outcome measures included the western ontario and mcmaster universities osteoarthritis index scores , patient global assessment ( pga ) of the severity of knee oa , and @-min walk distance ( @mwd ) .',\n",
              "  'line_number': 4,\n",
              "  'total_lines': 11},\n",
              " {'target': 'METHODS',\n",
              "  'text': 'serum levels of interleukin @ ( il-@ ) , il-@ , tumor necrosis factor ( tnf ) - , and high-sensitivity c-reactive protein ( hscrp ) were measured .',\n",
              "  'line_number': 5,\n",
              "  'total_lines': 11},\n",
              " {'target': 'RESULTS',\n",
              "  'text': 'there was a clinically relevant reduction in the intervention group compared to the placebo group for knee pain , physical function , pga , and @mwd at @ weeks .',\n",
              "  'line_number': 6,\n",
              "  'total_lines': 11},\n",
              " {'target': 'RESULTS',\n",
              "  'text': 'the mean difference between treatment arms ( @ % ci ) was @ ( @-@ @ ) , p < @ ; @ ( @-@ @ ) , p < @ ; @ ( @-@ @ ) , p < @ ; and @ ( @-@ @ ) , p < @ , respectively .',\n",
              "  'line_number': 7,\n",
              "  'total_lines': 11},\n",
              " {'target': 'RESULTS',\n",
              "  'text': 'further , there was a clinically relevant reduction in the serum levels of il-@ , il-@ , tnf - , and hscrp at @ weeks in the intervention group when compared to the placebo group .',\n",
              "  'line_number': 8,\n",
              "  'total_lines': 11},\n",
              " {'target': 'RESULTS',\n",
              "  'text': 'these differences remained significant at @ weeks .',\n",
              "  'line_number': 9,\n",
              "  'total_lines': 11},\n",
              " {'target': 'RESULTS',\n",
              "  'text': 'the outcome measures in rheumatology clinical trials-osteoarthritis research society international responder rate was @ % in the intervention group and @ % in the placebo group ( p < @ ) .',\n",
              "  'line_number': 10,\n",
              "  'total_lines': 11},\n",
              " {'target': 'CONCLUSIONS',\n",
              "  'text': 'low-dose oral prednisolone had both a short-term and a longer sustained effect resulting in less knee pain , better physical function , and attenuation of systemic inflammation in older patients with knee oa ( clinicaltrials.gov identifier nct@ ) .',\n",
              "  'line_number': 11,\n",
              "  'total_lines': 11},\n",
              " {'target': 'BACKGROUND',\n",
              "  'text': 'emotional eating is associated with overeating and the development of obesity .',\n",
              "  'line_number': 0,\n",
              "  'total_lines': 10},\n",
              " {'target': 'BACKGROUND',\n",
              "  'text': 'yet , empirical evidence for individual ( trait ) differences in emotional eating and cognitive mechanisms that contribute to eating during sad mood remain equivocal .',\n",
              "  'line_number': 1,\n",
              "  'total_lines': 10}]"
            ]
          },
          "metadata": {},
          "execution_count": 51
        }
      ]
    },
    {
      "cell_type": "markdown",
      "source": [
        "### **2.4. Verilerin İncelenmesi**"
      ],
      "metadata": {
        "id": "kpZRFc5Kj5h1"
      }
    },
    {
      "cell_type": "code",
      "source": [
        "import pandas as pd\n",
        "train_df = pd.DataFrame(train_samples)\n",
        "val_df = pd.DataFrame(val_samples)\n",
        "test_df = pd.DataFrame(test_samples)\n",
        "train_df.head(14)"
      ],
      "metadata": {
        "id": "cIoJuFaFXxVH",
        "colab": {
          "base_uri": "https://localhost:8080/",
          "height": 483
        },
        "outputId": "5005c187-0884-4afa-e2d5-c19b95bbc703"
      },
      "execution_count": null,
      "outputs": [
        {
          "output_type": "execute_result",
          "data": {
            "text/plain": [
              "         target                                               text  \\\n",
              "0     OBJECTIVE  to investigate the efficacy of @ weeks of dail...   \n",
              "1       METHODS  a total of @ patients with primary knee oa wer...   \n",
              "2       METHODS  outcome measures included pain reduction and i...   \n",
              "3       METHODS  pain was assessed using the visual analog pain...   \n",
              "4       METHODS  secondary outcome measures included the wester...   \n",
              "5       METHODS  serum levels of interleukin @ ( il-@ ) , il-@ ...   \n",
              "6       RESULTS  there was a clinically relevant reduction in t...   \n",
              "7       RESULTS  the mean difference between treatment arms ( @...   \n",
              "8       RESULTS  further , there was a clinically relevant redu...   \n",
              "9       RESULTS  these differences remained significant at @ we...   \n",
              "10      RESULTS  the outcome measures in rheumatology clinical ...   \n",
              "11  CONCLUSIONS  low-dose oral prednisolone had both a short-te...   \n",
              "12   BACKGROUND  emotional eating is associated with overeating...   \n",
              "13   BACKGROUND  yet , empirical evidence for individual ( trai...   \n",
              "\n",
              "    line_number  total_lines  \n",
              "0             0           11  \n",
              "1             1           11  \n",
              "2             2           11  \n",
              "3             3           11  \n",
              "4             4           11  \n",
              "5             5           11  \n",
              "6             6           11  \n",
              "7             7           11  \n",
              "8             8           11  \n",
              "9             9           11  \n",
              "10           10           11  \n",
              "11           11           11  \n",
              "12            0           10  \n",
              "13            1           10  "
            ],
            "text/html": [
              "\n",
              "  <div id=\"df-fb611bb6-e25a-4ac2-9738-650ca1e9c5ef\" class=\"colab-df-container\">\n",
              "    <div>\n",
              "<style scoped>\n",
              "    .dataframe tbody tr th:only-of-type {\n",
              "        vertical-align: middle;\n",
              "    }\n",
              "\n",
              "    .dataframe tbody tr th {\n",
              "        vertical-align: top;\n",
              "    }\n",
              "\n",
              "    .dataframe thead th {\n",
              "        text-align: right;\n",
              "    }\n",
              "</style>\n",
              "<table border=\"1\" class=\"dataframe\">\n",
              "  <thead>\n",
              "    <tr style=\"text-align: right;\">\n",
              "      <th></th>\n",
              "      <th>target</th>\n",
              "      <th>text</th>\n",
              "      <th>line_number</th>\n",
              "      <th>total_lines</th>\n",
              "    </tr>\n",
              "  </thead>\n",
              "  <tbody>\n",
              "    <tr>\n",
              "      <th>0</th>\n",
              "      <td>OBJECTIVE</td>\n",
              "      <td>to investigate the efficacy of @ weeks of dail...</td>\n",
              "      <td>0</td>\n",
              "      <td>11</td>\n",
              "    </tr>\n",
              "    <tr>\n",
              "      <th>1</th>\n",
              "      <td>METHODS</td>\n",
              "      <td>a total of @ patients with primary knee oa wer...</td>\n",
              "      <td>1</td>\n",
              "      <td>11</td>\n",
              "    </tr>\n",
              "    <tr>\n",
              "      <th>2</th>\n",
              "      <td>METHODS</td>\n",
              "      <td>outcome measures included pain reduction and i...</td>\n",
              "      <td>2</td>\n",
              "      <td>11</td>\n",
              "    </tr>\n",
              "    <tr>\n",
              "      <th>3</th>\n",
              "      <td>METHODS</td>\n",
              "      <td>pain was assessed using the visual analog pain...</td>\n",
              "      <td>3</td>\n",
              "      <td>11</td>\n",
              "    </tr>\n",
              "    <tr>\n",
              "      <th>4</th>\n",
              "      <td>METHODS</td>\n",
              "      <td>secondary outcome measures included the wester...</td>\n",
              "      <td>4</td>\n",
              "      <td>11</td>\n",
              "    </tr>\n",
              "    <tr>\n",
              "      <th>5</th>\n",
              "      <td>METHODS</td>\n",
              "      <td>serum levels of interleukin @ ( il-@ ) , il-@ ...</td>\n",
              "      <td>5</td>\n",
              "      <td>11</td>\n",
              "    </tr>\n",
              "    <tr>\n",
              "      <th>6</th>\n",
              "      <td>RESULTS</td>\n",
              "      <td>there was a clinically relevant reduction in t...</td>\n",
              "      <td>6</td>\n",
              "      <td>11</td>\n",
              "    </tr>\n",
              "    <tr>\n",
              "      <th>7</th>\n",
              "      <td>RESULTS</td>\n",
              "      <td>the mean difference between treatment arms ( @...</td>\n",
              "      <td>7</td>\n",
              "      <td>11</td>\n",
              "    </tr>\n",
              "    <tr>\n",
              "      <th>8</th>\n",
              "      <td>RESULTS</td>\n",
              "      <td>further , there was a clinically relevant redu...</td>\n",
              "      <td>8</td>\n",
              "      <td>11</td>\n",
              "    </tr>\n",
              "    <tr>\n",
              "      <th>9</th>\n",
              "      <td>RESULTS</td>\n",
              "      <td>these differences remained significant at @ we...</td>\n",
              "      <td>9</td>\n",
              "      <td>11</td>\n",
              "    </tr>\n",
              "    <tr>\n",
              "      <th>10</th>\n",
              "      <td>RESULTS</td>\n",
              "      <td>the outcome measures in rheumatology clinical ...</td>\n",
              "      <td>10</td>\n",
              "      <td>11</td>\n",
              "    </tr>\n",
              "    <tr>\n",
              "      <th>11</th>\n",
              "      <td>CONCLUSIONS</td>\n",
              "      <td>low-dose oral prednisolone had both a short-te...</td>\n",
              "      <td>11</td>\n",
              "      <td>11</td>\n",
              "    </tr>\n",
              "    <tr>\n",
              "      <th>12</th>\n",
              "      <td>BACKGROUND</td>\n",
              "      <td>emotional eating is associated with overeating...</td>\n",
              "      <td>0</td>\n",
              "      <td>10</td>\n",
              "    </tr>\n",
              "    <tr>\n",
              "      <th>13</th>\n",
              "      <td>BACKGROUND</td>\n",
              "      <td>yet , empirical evidence for individual ( trai...</td>\n",
              "      <td>1</td>\n",
              "      <td>10</td>\n",
              "    </tr>\n",
              "  </tbody>\n",
              "</table>\n",
              "</div>\n",
              "    <div class=\"colab-df-buttons\">\n",
              "\n",
              "  <div class=\"colab-df-container\">\n",
              "    <button class=\"colab-df-convert\" onclick=\"convertToInteractive('df-fb611bb6-e25a-4ac2-9738-650ca1e9c5ef')\"\n",
              "            title=\"Convert this dataframe to an interactive table.\"\n",
              "            style=\"display:none;\">\n",
              "\n",
              "  <svg xmlns=\"http://www.w3.org/2000/svg\" height=\"24px\" viewBox=\"0 -960 960 960\">\n",
              "    <path d=\"M120-120v-720h720v720H120Zm60-500h600v-160H180v160Zm220 220h160v-160H400v160Zm0 220h160v-160H400v160ZM180-400h160v-160H180v160Zm440 0h160v-160H620v160ZM180-180h160v-160H180v160Zm440 0h160v-160H620v160Z\"/>\n",
              "  </svg>\n",
              "    </button>\n",
              "\n",
              "  <style>\n",
              "    .colab-df-container {\n",
              "      display:flex;\n",
              "      gap: 12px;\n",
              "    }\n",
              "\n",
              "    .colab-df-convert {\n",
              "      background-color: #E8F0FE;\n",
              "      border: none;\n",
              "      border-radius: 50%;\n",
              "      cursor: pointer;\n",
              "      display: none;\n",
              "      fill: #1967D2;\n",
              "      height: 32px;\n",
              "      padding: 0 0 0 0;\n",
              "      width: 32px;\n",
              "    }\n",
              "\n",
              "    .colab-df-convert:hover {\n",
              "      background-color: #E2EBFA;\n",
              "      box-shadow: 0px 1px 2px rgba(60, 64, 67, 0.3), 0px 1px 3px 1px rgba(60, 64, 67, 0.15);\n",
              "      fill: #174EA6;\n",
              "    }\n",
              "\n",
              "    .colab-df-buttons div {\n",
              "      margin-bottom: 4px;\n",
              "    }\n",
              "\n",
              "    [theme=dark] .colab-df-convert {\n",
              "      background-color: #3B4455;\n",
              "      fill: #D2E3FC;\n",
              "    }\n",
              "\n",
              "    [theme=dark] .colab-df-convert:hover {\n",
              "      background-color: #434B5C;\n",
              "      box-shadow: 0px 1px 3px 1px rgba(0, 0, 0, 0.15);\n",
              "      filter: drop-shadow(0px 1px 2px rgba(0, 0, 0, 0.3));\n",
              "      fill: #FFFFFF;\n",
              "    }\n",
              "  </style>\n",
              "\n",
              "    <script>\n",
              "      const buttonEl =\n",
              "        document.querySelector('#df-fb611bb6-e25a-4ac2-9738-650ca1e9c5ef button.colab-df-convert');\n",
              "      buttonEl.style.display =\n",
              "        google.colab.kernel.accessAllowed ? 'block' : 'none';\n",
              "\n",
              "      async function convertToInteractive(key) {\n",
              "        const element = document.querySelector('#df-fb611bb6-e25a-4ac2-9738-650ca1e9c5ef');\n",
              "        const dataTable =\n",
              "          await google.colab.kernel.invokeFunction('convertToInteractive',\n",
              "                                                    [key], {});\n",
              "        if (!dataTable) return;\n",
              "\n",
              "        const docLinkHtml = 'Like what you see? Visit the ' +\n",
              "          '<a target=\"_blank\" href=https://colab.research.google.com/notebooks/data_table.ipynb>data table notebook</a>'\n",
              "          + ' to learn more about interactive tables.';\n",
              "        element.innerHTML = '';\n",
              "        dataTable['output_type'] = 'display_data';\n",
              "        await google.colab.output.renderOutput(dataTable, element);\n",
              "        const docLink = document.createElement('div');\n",
              "        docLink.innerHTML = docLinkHtml;\n",
              "        element.appendChild(docLink);\n",
              "      }\n",
              "    </script>\n",
              "  </div>\n",
              "\n",
              "\n",
              "<div id=\"df-3ca45f98-d1d2-4424-b7d5-4582b2f07da4\">\n",
              "  <button class=\"colab-df-quickchart\" onclick=\"quickchart('df-3ca45f98-d1d2-4424-b7d5-4582b2f07da4')\"\n",
              "            title=\"Suggest charts\"\n",
              "            style=\"display:none;\">\n",
              "\n",
              "<svg xmlns=\"http://www.w3.org/2000/svg\" height=\"24px\"viewBox=\"0 0 24 24\"\n",
              "     width=\"24px\">\n",
              "    <g>\n",
              "        <path d=\"M19 3H5c-1.1 0-2 .9-2 2v14c0 1.1.9 2 2 2h14c1.1 0 2-.9 2-2V5c0-1.1-.9-2-2-2zM9 17H7v-7h2v7zm4 0h-2V7h2v10zm4 0h-2v-4h2v4z\"/>\n",
              "    </g>\n",
              "</svg>\n",
              "  </button>\n",
              "\n",
              "<style>\n",
              "  .colab-df-quickchart {\n",
              "      --bg-color: #E8F0FE;\n",
              "      --fill-color: #1967D2;\n",
              "      --hover-bg-color: #E2EBFA;\n",
              "      --hover-fill-color: #174EA6;\n",
              "      --disabled-fill-color: #AAA;\n",
              "      --disabled-bg-color: #DDD;\n",
              "  }\n",
              "\n",
              "  [theme=dark] .colab-df-quickchart {\n",
              "      --bg-color: #3B4455;\n",
              "      --fill-color: #D2E3FC;\n",
              "      --hover-bg-color: #434B5C;\n",
              "      --hover-fill-color: #FFFFFF;\n",
              "      --disabled-bg-color: #3B4455;\n",
              "      --disabled-fill-color: #666;\n",
              "  }\n",
              "\n",
              "  .colab-df-quickchart {\n",
              "    background-color: var(--bg-color);\n",
              "    border: none;\n",
              "    border-radius: 50%;\n",
              "    cursor: pointer;\n",
              "    display: none;\n",
              "    fill: var(--fill-color);\n",
              "    height: 32px;\n",
              "    padding: 0;\n",
              "    width: 32px;\n",
              "  }\n",
              "\n",
              "  .colab-df-quickchart:hover {\n",
              "    background-color: var(--hover-bg-color);\n",
              "    box-shadow: 0 1px 2px rgba(60, 64, 67, 0.3), 0 1px 3px 1px rgba(60, 64, 67, 0.15);\n",
              "    fill: var(--button-hover-fill-color);\n",
              "  }\n",
              "\n",
              "  .colab-df-quickchart-complete:disabled,\n",
              "  .colab-df-quickchart-complete:disabled:hover {\n",
              "    background-color: var(--disabled-bg-color);\n",
              "    fill: var(--disabled-fill-color);\n",
              "    box-shadow: none;\n",
              "  }\n",
              "\n",
              "  .colab-df-spinner {\n",
              "    border: 2px solid var(--fill-color);\n",
              "    border-color: transparent;\n",
              "    border-bottom-color: var(--fill-color);\n",
              "    animation:\n",
              "      spin 1s steps(1) infinite;\n",
              "  }\n",
              "\n",
              "  @keyframes spin {\n",
              "    0% {\n",
              "      border-color: transparent;\n",
              "      border-bottom-color: var(--fill-color);\n",
              "      border-left-color: var(--fill-color);\n",
              "    }\n",
              "    20% {\n",
              "      border-color: transparent;\n",
              "      border-left-color: var(--fill-color);\n",
              "      border-top-color: var(--fill-color);\n",
              "    }\n",
              "    30% {\n",
              "      border-color: transparent;\n",
              "      border-left-color: var(--fill-color);\n",
              "      border-top-color: var(--fill-color);\n",
              "      border-right-color: var(--fill-color);\n",
              "    }\n",
              "    40% {\n",
              "      border-color: transparent;\n",
              "      border-right-color: var(--fill-color);\n",
              "      border-top-color: var(--fill-color);\n",
              "    }\n",
              "    60% {\n",
              "      border-color: transparent;\n",
              "      border-right-color: var(--fill-color);\n",
              "    }\n",
              "    80% {\n",
              "      border-color: transparent;\n",
              "      border-right-color: var(--fill-color);\n",
              "      border-bottom-color: var(--fill-color);\n",
              "    }\n",
              "    90% {\n",
              "      border-color: transparent;\n",
              "      border-bottom-color: var(--fill-color);\n",
              "    }\n",
              "  }\n",
              "</style>\n",
              "\n",
              "  <script>\n",
              "    async function quickchart(key) {\n",
              "      const quickchartButtonEl =\n",
              "        document.querySelector('#' + key + ' button');\n",
              "      quickchartButtonEl.disabled = true;  // To prevent multiple clicks.\n",
              "      quickchartButtonEl.classList.add('colab-df-spinner');\n",
              "      try {\n",
              "        const charts = await google.colab.kernel.invokeFunction(\n",
              "            'suggestCharts', [key], {});\n",
              "      } catch (error) {\n",
              "        console.error('Error during call to suggestCharts:', error);\n",
              "      }\n",
              "      quickchartButtonEl.classList.remove('colab-df-spinner');\n",
              "      quickchartButtonEl.classList.add('colab-df-quickchart-complete');\n",
              "    }\n",
              "    (() => {\n",
              "      let quickchartButtonEl =\n",
              "        document.querySelector('#df-3ca45f98-d1d2-4424-b7d5-4582b2f07da4 button');\n",
              "      quickchartButtonEl.style.display =\n",
              "        google.colab.kernel.accessAllowed ? 'block' : 'none';\n",
              "    })();\n",
              "  </script>\n",
              "</div>\n",
              "\n",
              "    </div>\n",
              "  </div>\n"
            ],
            "application/vnd.google.colaboratory.intrinsic+json": {
              "type": "dataframe",
              "variable_name": "train_df"
            }
          },
          "metadata": {},
          "execution_count": 52
        }
      ]
    },
    {
      "cell_type": "code",
      "source": [
        "# Eğitim verilerindeki etiketlerin dağılımı\n",
        "train_df.target.value_counts()"
      ],
      "metadata": {
        "id": "wheVa1cuXxE6",
        "colab": {
          "base_uri": "https://localhost:8080/",
          "height": 269
        },
        "outputId": "76624ea3-0799-4b3e-a94c-2dba41068994"
      },
      "execution_count": null,
      "outputs": [
        {
          "output_type": "execute_result",
          "data": {
            "text/plain": [
              "target\n",
              "METHODS        59353\n",
              "RESULTS        57953\n",
              "CONCLUSIONS    27168\n",
              "BACKGROUND     21727\n",
              "OBJECTIVE      13839\n",
              "Name: count, dtype: int64"
            ],
            "text/html": [
              "<div>\n",
              "<style scoped>\n",
              "    .dataframe tbody tr th:only-of-type {\n",
              "        vertical-align: middle;\n",
              "    }\n",
              "\n",
              "    .dataframe tbody tr th {\n",
              "        vertical-align: top;\n",
              "    }\n",
              "\n",
              "    .dataframe thead th {\n",
              "        text-align: right;\n",
              "    }\n",
              "</style>\n",
              "<table border=\"1\" class=\"dataframe\">\n",
              "  <thead>\n",
              "    <tr style=\"text-align: right;\">\n",
              "      <th></th>\n",
              "      <th>count</th>\n",
              "    </tr>\n",
              "    <tr>\n",
              "      <th>target</th>\n",
              "      <th></th>\n",
              "    </tr>\n",
              "  </thead>\n",
              "  <tbody>\n",
              "    <tr>\n",
              "      <th>METHODS</th>\n",
              "      <td>59353</td>\n",
              "    </tr>\n",
              "    <tr>\n",
              "      <th>RESULTS</th>\n",
              "      <td>57953</td>\n",
              "    </tr>\n",
              "    <tr>\n",
              "      <th>CONCLUSIONS</th>\n",
              "      <td>27168</td>\n",
              "    </tr>\n",
              "    <tr>\n",
              "      <th>BACKGROUND</th>\n",
              "      <td>21727</td>\n",
              "    </tr>\n",
              "    <tr>\n",
              "      <th>OBJECTIVE</th>\n",
              "      <td>13839</td>\n",
              "    </tr>\n",
              "  </tbody>\n",
              "</table>\n",
              "</div><br><label><b>dtype:</b> int64</label>"
            ]
          },
          "metadata": {},
          "execution_count": 53
        }
      ]
    },
    {
      "cell_type": "code",
      "source": [
        "# Cümle uzunluklarının dağılımı\n",
        "train_df.total_lines.plot.hist();"
      ],
      "metadata": {
        "id": "t5mfBu5WXxBV",
        "colab": {
          "base_uri": "https://localhost:8080/",
          "height": 431
        },
        "outputId": "60da2035-b246-481b-8d7c-074cc665078d"
      },
      "execution_count": null,
      "outputs": [
        {
          "output_type": "display_data",
          "data": {
            "text/plain": [
              "<Figure size 640x480 with 1 Axes>"
            ],
            "image/png": "[encoded data removed]"
          },
          "metadata": {}
        }
      ]
    },
    {
      "cell_type": "code",
      "source": [
        "# Özet metin satırlarını listelere dönüştürün\n",
        "train_sentences = train_df[\"text\"].tolist()\n",
        "val_sentences = val_df[\"text\"].tolist()\n",
        "test_sentences = test_df[\"text\"].tolist()\n",
        "len(train_sentences), len(val_sentences), len(test_sentences)\n",
        "\n",
        "# tolist() bir veri penceresi içeriğini Python list formatına dönüştürür\n",
        "# Örn. her bir satırdaki cümleler ['This is a test.', 'Another sentence.', 'Final sentence.'] olur"
      ],
      "metadata": {
        "id": "axcIJ2K-YHQo",
        "colab": {
          "base_uri": "https://localhost:8080/"
        },
        "outputId": "904c54bd-e7f4-4b47-de20-84f4814b1df2"
      },
      "execution_count": null,
      "outputs": [
        {
          "output_type": "execute_result",
          "data": {
            "text/plain": [
              "(180040, 30212, 30135)"
            ]
          },
          "metadata": {},
          "execution_count": 55
        }
      ]
    },
    {
      "cell_type": "code",
      "source": [
        "# Eğitim cümlelerinin ilk 10 satırını görüntüleyin\n",
        "train_sentences[:10]"
      ],
      "metadata": {
        "id": "RgVzk9iNYHNp",
        "colab": {
          "base_uri": "https://localhost:8080/"
        },
        "outputId": "4127d8f8-7a77-49a6-fde4-44c1f01a4c1d"
      },
      "execution_count": null,
      "outputs": [
        {
          "output_type": "execute_result",
          "data": {
            "text/plain": [
              "['to investigate the efficacy of @ weeks of daily low-dose oral prednisolone in improving pain , mobility , and systemic low-grade inflammation in the short term and whether the effect would be sustained at @ weeks in older adults with moderate to severe knee osteoarthritis ( oa ) .',\n",
              " 'a total of @ patients with primary knee oa were randomized @:@ ; @ received @ mg/day of prednisolone and @ received placebo for @ weeks .',\n",
              " 'outcome measures included pain reduction and improvement in function scores and systemic inflammation markers .',\n",
              " 'pain was assessed using the visual analog pain scale ( @-@ mm ) .',\n",
              " 'secondary outcome measures included the western ontario and mcmaster universities osteoarthritis index scores , patient global assessment ( pga ) of the severity of knee oa , and @-min walk distance ( @mwd ) .',\n",
              " 'serum levels of interleukin @ ( il-@ ) , il-@ , tumor necrosis factor ( tnf ) - , and high-sensitivity c-reactive protein ( hscrp ) were measured .',\n",
              " 'there was a clinically relevant reduction in the intervention group compared to the placebo group for knee pain , physical function , pga , and @mwd at @ weeks .',\n",
              " 'the mean difference between treatment arms ( @ % ci ) was @ ( @-@ @ ) , p < @ ; @ ( @-@ @ ) , p < @ ; @ ( @-@ @ ) , p < @ ; and @ ( @-@ @ ) , p < @ , respectively .',\n",
              " 'further , there was a clinically relevant reduction in the serum levels of il-@ , il-@ , tnf - , and hscrp at @ weeks in the intervention group when compared to the placebo group .',\n",
              " 'these differences remained significant at @ weeks .']"
            ]
          },
          "metadata": {},
          "execution_count": 56
        }
      ]
    },
    {
      "cell_type": "markdown",
      "source": [
        "### **2.5. Tek Sıcak Kodlayıcı İle Sayısal Etiketler**"
      ],
      "metadata": {
        "id": "q_t8PsIaj5fw"
      }
    },
    {
      "cell_type": "markdown",
      "source": [
        "TensorFlow'un CategoricalCrossentropy kayıp işlevi, one hpt encoding etikete sahip olmalı.\n",
        "\n",
        "Etiketleri sayısal olarak kodlamak için Scikit-Learn'in OneHotEncoder ve LabelEncoder sınıflarını kullanacağız.\n",
        "\n",
        "- https://scikit-learn.org/stable/modules/generated/sklearn.preprocessing.OneHotEncoder.html\n",
        "- https://scikit-learn.org/stable/modules/generated/sklearn.preprocessing.LabelEncoder.html\n",
        "\n",
        "Aşağıdaki kod öbekleri için;\n",
        "\n",
        "***Sparse*** yeni versiyonda gelen bir özellik, varsayılan true'dir. False yaptığımızda hata vermedi, True olduğunda matris uzunluğu belirsiz uyarısı alındı.\n",
        "\n",
        "Onehotencoder iki boyutludur, doğru şekilde veri olmazsa şeklini (-1,1) yap uyarısı alırsın. Bu yüzden kod satırına eklendi.\n",
        "\n",
        "val_labels_one_hot  --> Doğrulama hedef etiketlerimizi aynı şekilde dönüştürmek için yalnızca dönüştürülmüş yöntemi kullanmamız gerekiyor. Yani bulunan eğitim veri çerçevesinden etiketlerin yapısını alınır ve doğrulama veri çerçevesini aynı şekilde kodlar."
      ],
      "metadata": {
        "id": "v9f-ILAwZMXX"
      }
    },
    {
      "cell_type": "code",
      "source": [
        "# One hot encode etiketleri\n",
        "from sklearn.preprocessing import OneHotEncoder\n",
        "one_hot_encoder = OneHotEncoder(sparse_output=False)\n",
        "train_labels_one_hot = one_hot_encoder.fit_transform(train_df[\"target\"].to_numpy().reshape(-1, 1))\n",
        "val_labels_one_hot = one_hot_encoder.transform(val_df[\"target\"].to_numpy().reshape(-1, 1))\n",
        "test_labels_one_hot = one_hot_encoder.transform(test_df[\"target\"].to_numpy().reshape(-1, 1))\n",
        "\n",
        "# Eğitim etiketlerinin nasıl göründüğünü kontrol edin\n",
        "train_labels_one_hot"
      ],
      "metadata": {
        "id": "23iwEA9jZ8VA",
        "colab": {
          "base_uri": "https://localhost:8080/"
        },
        "outputId": "aea1db84-00ef-4813-c014-4696b681d7ca"
      },
      "execution_count": null,
      "outputs": [
        {
          "output_type": "execute_result",
          "data": {
            "text/plain": [
              "array([[0., 0., 0., 1., 0.],\n",
              "       [0., 0., 1., 0., 0.],\n",
              "       [0., 0., 1., 0., 0.],\n",
              "       ...,\n",
              "       [0., 0., 0., 0., 1.],\n",
              "       [0., 1., 0., 0., 0.],\n",
              "       [0., 1., 0., 0., 0.]])"
            ]
          },
          "metadata": {},
          "execution_count": 57
        }
      ]
    },
    {
      "cell_type": "markdown",
      "source": [
        "`One-hot encoding` (ya da bir diğer adıyla tek-sıcak kodlama), kategorik değişkenlerin sayısal verilere dönüştürülmesi için yaygın olarak kullanılan bir tekniktir. Bu teknik, modelin kategorik verileri sayısal formatta anlamasını sağlamak için kullanılır.\n",
        "\n",
        "`One-hot encoding`, kategorik verileri ikili (binary) bir vektöre dönüştürme işlemidir. Bu işlem, her bir kategori için ayrı bir sütun oluşturur ve sadece o kategoriye ait olan satırda 1 değeri, diğer tüm kategorilerde ise 0 değeri bulunur. Yani, her kategori için \"1\" bir yerleştirilir, geri kalan yerler \"0\" olur.\n",
        "\n",
        "Örneğin, bir etiket sütununda aşağıdaki kategoriler varsa:\n",
        "```\n",
        "[\"cat\", \"dog\", \"fish\", \"dog\", \"cat\"]\n",
        "```\n",
        "\n",
        "Bu, `One-hot encoding` uygulandıktan sonra şöyle bir yapıya dönüşür:\n",
        "```\n",
        "cat   -> [1, 0, 0]\n",
        "dog   -> [0, 1, 0]\n",
        "fish  -> [0, 0, 1]\n",
        "dog   -> [0, 1, 0]\n",
        "cat   -> [1, 0, 0]\n",
        "```\n",
        "\n",
        "Her kategori için bir sütun eklenir (örneğin, \"cat\", \"dog\", \"fish\") ve her satırda bu kategorilerden birine 1 değeri atanır, diğerleri 0 olur.\n",
        "\n",
        "---\n",
        "\n",
        "```python\n",
        "from sklearn.preprocessing import OneHotEncoder\n",
        "one_hot_encoder = OneHotEncoder(sparse=False)\n",
        "```\n",
        "\n",
        "1. **`OneHotEncoder`**: `sklearn.preprocessing` modülünden `OneHotEncoder` sınıfını içeri aktarıyoruz. Bu sınıf, kategorik verileri one-hot encoding formatına dönüştürmek için kullanılır.\n",
        "\n",
        "   - **`sparse=False`**: Bu parametre, dönüşümün **sparse matrix** (seyrek matris) yerine normal bir numpy dizisi (dense array) formatında yapılmasını sağlar. Sparse matrisler bellek tasarrufu sağlasa da, burada genellikle dense (yoğun) diziler tercih edilir.\n",
        "\n",
        "---\n",
        "\n",
        "```python\n",
        "train_labels_one_hot = one_hot_encoder.fit_transform(train_df[\"target\"].to_numpy().reshape(-1, 1))\n",
        "val_labels_one_hot = one_hot_encoder.transform(val_df[\"target\"].to_numpy().reshape(-1, 1))\n",
        "test_labels_one_hot = one_hot_encoder.transform(test_df[\"target\"].to_numpy().reshape(-1, 1))\n",
        "```\n",
        "\n",
        "2. **`fit_transform` ve `transform`**:\n",
        "   - **`fit_transform`**: Bu metod, eğitim verisinde (train) `OneHotEncoder`'ı uygular ve aynı zamanda bu verilerle yeni kodlamayı öğrenir. `train_df[\"target\"]` etiketlerini one-hot encoding formatına dönüştürür.\n",
        "   - **`transform`**: Bu metod, eğitim verisiyle öğrenilen kodlamayı kullanarak, doğrulama (val) ve test (test) etiketlerine one-hot encoding uygular.\n",
        "\n",
        "3. **`to_numpy().reshape(-1, 1)`**:\n",
        "   - `train_df[\"target\"]`: Bu, `train_df` DataFrame'inin \"target\" adlı etiket sütununu alır.\n",
        "   - `.to_numpy()`: Pandas Series'i numpy dizisine dönüştürür.\n",
        "   - `.reshape(-1, 1)`: Bu işlem, veriyi iki boyutlu bir vektöre dönüştürür (örneğin, 2D şekli `(n, 1)` yapar, burada `n` satır sayısını temsil eder). `OneHotEncoder` sadece 2D verilerle çalışır, bu yüzden bu dönüşüm gereklidir.\n",
        "\n",
        "---\n",
        "\n",
        "**Eğitim Etiketlerinin Görünümü**\n",
        "\n",
        "```python\n",
        "train_labels_one_hot\n",
        "```\n",
        "Bu satır, eğitim etiketlerinin one-hot encoding uygulanmış halini gösterir. Örneğin, eğer `train_df[\"target\"]` 3 farklı kategori içeriyorsa (örneğin, `[\"cat\", \"dog\", \"fish\"]`), `train_labels_one_hot` şu şekilde bir numpy array olabilir:\n",
        "\n",
        "```python\n",
        "array([[1., 0., 0.],  # cat\n",
        "       [0., 1., 0.],  # dog\n",
        "       [0., 0., 1.]]) # fish\n",
        "```\n",
        "\n",
        "Her satır, orijinal etiketin one-hot encoding karşılığıdır.\n",
        "\n",
        "---"
      ],
      "metadata": {
        "id": "BQoKCcgQa5s8"
      }
    },
    {
      "cell_type": "code",
      "source": [
        "# Etiketleri (\"hedef\" sütunlar) çıkarın ve bunları tam sayılara kodlayın\n",
        "from sklearn.preprocessing import LabelEncoder\n",
        "label_encoder = LabelEncoder()\n",
        "train_labels_encoded = label_encoder.fit_transform(train_df[\"target\"].to_numpy())\n",
        "val_labels_encoded = label_encoder.transform(val_df[\"target\"].to_numpy())\n",
        "test_labels_encoded = label_encoder.transform(test_df[\"target\"].to_numpy())\n",
        "\n",
        "# Eğitim etiketlerinin nasıl göründüğünü kontrol edin\n",
        "train_labels_encoded"
      ],
      "metadata": {
        "id": "IrtErYtnZ8R0",
        "colab": {
          "base_uri": "https://localhost:8080/"
        },
        "outputId": "d094a930-faa6-4422-8273-e59e1444e293"
      },
      "execution_count": null,
      "outputs": [
        {
          "output_type": "execute_result",
          "data": {
            "text/plain": [
              "array([3, 2, 2, ..., 4, 1, 1])"
            ]
          },
          "metadata": {},
          "execution_count": 58
        }
      ]
    },
    {
      "cell_type": "markdown",
      "source": [
        "`Label Encoding` (Etiket Kodlama), kategorik verilerin sayısal verilere dönüştürülmesinin bir başka yaygın yoludur. Bu, kategorik etiketlerin her birini tek bir sayıya dönüştürmek için kullanılır. Bu işlem, **sınıflandırma problemlerinde** modelin sayısal verileri anlaması için gereklidir.\n",
        "\n",
        "`Label Encoding`, her kategoriyi bir sayıya dönüştürür. Örneğin, \"cat\", \"dog\", \"fish\" gibi etiketler sırasıyla 0, 1, 2 gibi sayılarla değiştirilir.\n",
        "\n",
        "Bu işlem genellikle **etiketlerin sıralı olduğu** durumlarda kullanılır. Yani, etiketler arasında bir sıralama veya hiyerarşi varsa, `Label Encoding` mantıklı olabilir. Ancak, sırasız etiketlerde de kullanılabilir, ancak bu durumda sıralamanın modelin performansını etkilememesi için dikkatli olunması gerekir.\n",
        "\n",
        "Örnek:\n",
        "- \"cat\" -> 0\n",
        "- \"dog\" -> 1\n",
        "- \"fish\" -> 2\n",
        "\n",
        "---\n",
        "\n",
        "```python\n",
        "from sklearn.preprocessing import LabelEncoder\n",
        "label_encoder = LabelEncoder()\n",
        "```\n",
        "\n",
        "1. **`LabelEncoder`**: Bu sınıf, **kategorik etiketleri** sayısal verilere dönüştürmek için kullanılır. `LabelEncoder`, her farklı kategoriyi (etiketi) bir sayı ile eşler.\n",
        "\n",
        "```python\n",
        "train_labels_encoded = label_encoder.fit_transform(train_df[\"target\"].to_numpy())\n",
        "```\n",
        "\n",
        "2. **`fit_transform`**:\n",
        "   - **`fit_transform`**: Bu metot, `train_df[\"target\"]` sütunundaki tüm etiketleri (kategorik veriler) öğrenir (fit) ve her etiketi bir sayıya dönüştürür (transform).\n",
        "   - `train_df[\"target\"].to_numpy()`: Bu, `train_df` DataFrame'inin `target` adlı sütununu bir numpy dizisine dönüştürür. `LabelEncoder`, numpy dizileri ile çalışır, bu yüzden verinin bu formata dönüştürülmesi gereklidir.\n",
        "   - Sonuçta, her etiketin sayısal karşılığı olan bir numpy dizisi elde edilir.\n",
        "\n",
        "```python\n",
        "val_labels_encoded = label_encoder.transform(val_df[\"target\"].to_numpy())\n",
        "test_labels_encoded = label_encoder.transform(test_df[\"target\"].to_numpy())\n",
        "```\n",
        "\n",
        "3. **`transform`**:\n",
        "   - **`transform`**: Bu metod, eğitim verisiyle (`fit`) öğrenilen kodlamayı kullanarak **doğrulama (val)** ve **test (test)** setlerindeki etiketleri sayılara dönüştürür.\n",
        "   - Burada önemli olan, `fit_transform` sadece eğitim verisinde yapılırken, doğrulama ve test verisinde sadece `transform` kullanılır. Bu, modelin **gerçek test verisi**yle karşılaşmadan önce öğrenme işleminin bitmesini sağlar.\n",
        "\n",
        "---\n",
        "\n",
        " `train_labels_encoded` Nasıl Görünür?\n",
        "\n",
        "`train_labels_encoded` dizisi, `train_df[\"target\"]` etiketlerinin sayısal karşılıklarını içerir. Örneğin, eğer `train_df[\"target\"]` şu etiketleri içeriyorsa:\n",
        "\n",
        "```\n",
        "[\"cat\", \"dog\", \"fish\", \"dog\", \"cat\"]\n",
        "```\n",
        "\n",
        "Ve `LabelEncoder` bunları şu şekilde sayılara dönüştürürse:\n",
        "```\n",
        "cat -> 0\n",
        "dog -> 1\n",
        "fish -> 2\n",
        "```\n",
        "\n",
        "O zaman `train_labels_encoded` şu şekilde olur:\n",
        "\n",
        "```python\n",
        "array([0, 1, 2, 1, 0])\n",
        "```\n",
        "\n",
        "Burada her etiketin sayısal karşılığı gösterilmektedir.\n",
        "\n",
        "---\n",
        "\n",
        "`Label Encoding` çeşitli sebeplerle kullanılır:\n",
        "\n",
        "1. **Makine Öğrenmesi Modellerinin Sayısal Veri İhtiyacı**: Çoğu makine öğrenmesi algoritması (özellikle doğrusal modeller ve karar ağaçları) kategorik verileri doğrudan işleyemez. Bu nedenle, kategorik etiketlerin sayısal verilere dönüştürülmesi gerekir.\n",
        "\n",
        "2. **Kategorik Değişkenlerin Kodlanması**: Eğer verinizde kategorik etiketler varsa, bunların sayısal bir forma dönüştürülmesi gereklidir. `LabelEncoder`, her farklı kategoriyi benzersiz bir sayıya dönüştürür.\n",
        "\n",
        "3. **Sıralı Veriler İçin**: Eğer etiketler sıralı ise (örneğin, düşük, orta, yüksek gibi), `Label Encoding` kullanmak anlamlıdır çünkü her kategoriye bir sıra numarası atar. Örneğin, bir müşteri memnuniyetini 1, 2, 3 olarak kodlamak uygun olabilir.\n",
        "\n",
        "4. **Bellek ve Hesaplama Verimliliği**: `One-hot encoding`'de her kategori için ayrı bir sütun oluşturulurken, `Label Encoding` sadece tek bir sütun kullanır. Bu, veri setinin boyutunu küçültür ve bellek kullanımı açısından daha verimli olabilir. Ancak, `Label Encoding` bazen etiketler arasındaki ilişkiyi yanlış anlamaya yol açabilir.\n",
        "\n",
        "---\n",
        "\n",
        " `Label Encoding` ve `One-hot Encoding` Farkı:\n",
        "\n",
        "- **`Label Encoding`**: Her kategoriyi bir sayıya dönüştürür. Genellikle sıralı verilerde kullanılır ve kategoriler arasında gizli sıralama ilişkileri oluşturabilir.\n",
        "  \n",
        "  Örnek:\n",
        "  ```\n",
        "  [\"cat\", \"dog\", \"fish\"]\n",
        "  --> [0, 1, 2]\n",
        "  ```\n",
        "\n",
        "- **`One-hot Encoding`**: Her kategoriyi ikili vektörler ile temsil eder. Kategoriler arasındaki ilişkiyi temsil etmez ve her kategori bağımsız olarak işlenir.\n",
        "  \n",
        "  Örnek:\n",
        "  ```\n",
        "  [\"cat\", \"dog\", \"fish\"]\n",
        "  --> [[1, 0, 0], [0, 1, 0], [0, 0, 1]]\n",
        "  ```"
      ],
      "metadata": {
        "id": "R4kbyMxmblct"
      }
    },
    {
      "cell_type": "code",
      "source": [
        "# LabelEncoder örneğinden sınıf adlarını ve sınıf sayısını alın\n",
        "num_classes = len(label_encoder.classes_)\n",
        "class_names = label_encoder.classes_\n",
        "num_classes, class_names"
      ],
      "metadata": {
        "id": "VBxAPLplZ90E",
        "colab": {
          "base_uri": "https://localhost:8080/"
        },
        "outputId": "572e3d70-b8df-403f-e117-086f6e6b0ea1"
      },
      "execution_count": null,
      "outputs": [
        {
          "output_type": "execute_result",
          "data": {
            "text/plain": [
              "(5,\n",
              " array(['BACKGROUND', 'CONCLUSIONS', 'METHODS', 'OBJECTIVE', 'RESULTS'],\n",
              "       dtype=object))"
            ]
          },
          "metadata": {},
          "execution_count": 59
        }
      ]
    },
    {
      "cell_type": "markdown",
      "source": [
        "Bu kod, **LabelEncoder** tarafından kodlanan sınıf etiketlerini ve toplam sınıf sayısını almak için kullanılır. Şimdi kodu daha ayrıntılı şekilde açıklayalım:\n",
        "\n",
        "```python\n",
        "num_classes = len(label_encoder.classes_)\n",
        "class_names = label_encoder.classes_\n",
        "num_classes, class_names\n",
        "```\n",
        "\n",
        "1. **`label_encoder.classes_`**:\n",
        "   - **`LabelEncoder`** sınıfının `.classes_` özelliği, etiketlerin **sayısal formda** kodlanmış hallerini, **orijinal kategorik etiketler** olarak içerir.\n",
        "   - Bu özellik, eğitim verisi üzerinde `fit()` metodu çalıştırıldıktan sonra doldurulur ve her bir sınıfın (etiketin) sırasıyla **sıfırdan başlayarak numaralandığı** sınıf adlarını içerir.\n",
        "   - Örneğin, `LabelEncoder` ile \"cat\", \"dog\", \"fish\" etiketlerini kodladığınızda, `label_encoder.classes_` şu şekilde olur:\n",
        "     ```python\n",
        "     array(['cat', 'dog', 'fish'])\n",
        "     ```\n",
        "\n",
        "2. **`len(label_encoder.classes_)`**:\n",
        "   - Bu ifade, **`label_encoder.classes_`**'deki öğelerin sayısını döndürür. Yani, **kaç farklı sınıf** olduğunu verir.\n",
        "   - Örneğin, eğer `classes_` şöyleyse:\n",
        "     ```python\n",
        "     array(['cat', 'dog', 'fish'])\n",
        "     ```\n",
        "     Burada 3 sınıf olduğu için, `num_classes` değeri `3` olacaktır.\n",
        "\n",
        "3. **`class_names = label_encoder.classes_`**:\n",
        "   - Bu satır, **sınıf adlarını** (`classes_`) bir değişkene atar. Yani, etiketlerin orijinal hallerini `class_names` değişkenine kaydeder.\n",
        "   - Eğer `classes_` array'ı şu şekildeyse:\n",
        "     ```python\n",
        "     array(['cat', 'dog', 'fish'])\n",
        "     ```\n",
        "     O zaman `class_names` şu değeri alır:\n",
        "     ```python\n",
        "     array(['cat', 'dog', 'fish'])\n",
        "     ```\n",
        "\n",
        "4. **`num_classes, class_names`**:\n",
        "   - Son olarak, bu iki değeri döndürür:\n",
        "     - `num_classes`: Toplam sınıf sayısını verir.\n",
        "     - `class_names`: Etiketlerin orijinal, kategorik isimlerini verir.\n",
        "\n",
        "   Bu kodun çıktısı şu şekilde olur:\n",
        "\n",
        "   ```python\n",
        "   num_classes = 3\n",
        "   class_names = ['cat', 'dog', 'fish']\n",
        "   ```\n",
        "\n",
        "---\n",
        "\n",
        "### Örnek:\n",
        "\n",
        "Varsayalım ki etiketleriniz şu şekilde:\n",
        "```\n",
        "[\"cat\", \"dog\", \"fish\"]\n",
        "```\n",
        "\n",
        "`LabelEncoder` bunları sırasıyla şu şekilde kodlar:\n",
        "```\n",
        "0 -> cat\n",
        "1 -> dog\n",
        "2 -> fish\n",
        "```\n",
        "\n",
        "Kod çalıştığında:\n",
        "- `num_classes` değeri `3` olur (çünkü üç farklı sınıf var).\n",
        "- `class_names` değeri şu şekilde olur:\n",
        "  ```python\n",
        "  array(['cat', 'dog', 'fish'])\n",
        "  ```\n",
        "\n",
        "Bu sayede, modelin tahminlerinin geri dönüştürülmesi ve anlaşılabilir hale getirilmesi kolaylaşır."
      ],
      "metadata": {
        "id": "GjGhG3EzcL1H"
      }
    },
    {
      "cell_type": "markdown",
      "source": [
        "# **3. Modelleme**"
      ],
      "metadata": {
        "id": "fLg5Opx7j5di"
      }
    },
    {
      "cell_type": "markdown",
      "source": [
        "Medikal çalışmasının kaynağı --> https://arxiv.org/pdf/1612.05251"
      ],
      "metadata": {
        "id": "FSsiIcfHajv6"
      }
    },
    {
      "cell_type": "markdown",
      "source": [
        "### **3.1. Model 0 Temel Model Yazımı ve Değerlendirilmesi**"
      ],
      "metadata": {
        "id": "do7rBdEbj5ZV"
      }
    },
    {
      "cell_type": "markdown",
      "source": [
        "İlk modelimiz, Scikit-Learn'in makine öğrenimi haritası tarafından önerildiği gibi bir TF-IDF Multinomial Naive Bayes modelidir. https://scikit-learn.org/stable/tutorial/machine_learning_map/index.html\n",
        "\n",
        "Bunu oluşturmak için, TF-IDF (terim frekansı-ters belge frekansı) algoritmasını kullanarak soyut cümlelerimizi sayılara dönüştürmek için TfidfVectorizer sınıfını kullanan bir Scikit-Learn Pipeline oluşturacağız ve ardından MultinomialNB agloritm'i kullanarak cümlelerimizi sınıflandırmayı öğreneceğiz.\n",
        "\n",
        "- https://scikit-learn.org/stable/modules/generated/sklearn.feature_extraction.text.TfidfVectorizer.html\n",
        "- https://scikit-learn.org/stable/modules/generated/sklearn.naive_bayes.MultinomialNB.html"
      ],
      "metadata": {
        "id": "909wi9kJcY_M"
      }
    },
    {
      "cell_type": "code",
      "source": [
        "%%time\n",
        "from sklearn.feature_extraction.text import TfidfVectorizer\n",
        "from sklearn.naive_bayes import MultinomialNB\n",
        "from sklearn.pipeline import Pipeline\n",
        "\n",
        "# Boru hattı oluştur\n",
        "model_0 = Pipeline([\n",
        "  (\"tf-idf\", TfidfVectorizer()),\n",
        "  (\"clf\", MultinomialNB())\n",
        "])\n",
        "\n",
        "# Eğitim verilerini boru hattına uydur\n",
        "model_0.fit(X=train_sentences,\n",
        "            y=train_labels_encoded);"
      ],
      "metadata": {
        "id": "jkUJxnNf6qS6",
        "colab": {
          "base_uri": "https://localhost:8080/",
          "height": 189
        },
        "outputId": "81c8d0a0-4949-46f6-df3a-3101829fd348"
      },
      "execution_count": null,
      "outputs": [
        {
          "output_type": "stream",
          "name": "stdout",
          "text": [
            "CPU times: user 3.05 s, sys: 39.5 ms, total: 3.09 s\n",
            "Wall time: 3.1 s\n"
          ]
        },
        {
          "output_type": "execute_result",
          "data": {
            "text/plain": [
              "Pipeline(steps=[('tf-idf', TfidfVectorizer()), ('clf', MultinomialNB())])"
            ],
            "text/html": [
              "<style>#sk-container-id-2 {\n",
              "  /* Definition of color scheme common for light and dark mode */\n",
              "  --sklearn-color-text: #000;\n",
              "  --sklearn-color-text-muted: #666;\n",
              "  --sklearn-color-line: gray;\n",
              "  /* Definition of color scheme for unfitted estimators */\n",
              "  --sklearn-color-unfitted-level-0: #fff5e6;\n",
              "  --sklearn-color-unfitted-level-1: #f6e4d2;\n",
              "  --sklearn-color-unfitted-level-2: #ffe0b3;\n",
              "  --sklearn-color-unfitted-level-3: chocolate;\n",
              "  /* Definition of color scheme for fitted estimators */\n",
              "  --sklearn-color-fitted-level-0: #f0f8ff;\n",
              "  --sklearn-color-fitted-level-1: #d4ebff;\n",
              "  --sklearn-color-fitted-level-2: #b3dbfd;\n",
              "  --sklearn-color-fitted-level-3: cornflowerblue;\n",
              "\n",
              "  /* Specific color for light theme */\n",
              "  --sklearn-color-text-on-default-background: var(--sg-text-color, var(--theme-code-foreground, var(--jp-content-font-color1, black)));\n",
              "  --sklearn-color-background: var(--sg-background-color, var(--theme-background, var(--jp-layout-color0, white)));\n",
              "  --sklearn-color-border-box: var(--sg-text-color, var(--theme-code-foreground, var(--jp-content-font-color1, black)));\n",
              "  --sklearn-color-icon: #696969;\n",
              "\n",
              "  @media (prefers-color-scheme: dark) {\n",
              "    /* Redefinition of color scheme for dark theme */\n",
              "    --sklearn-color-text-on-default-background: var(--sg-text-color, var(--theme-code-foreground, var(--jp-content-font-color1, white)));\n",
              "    --sklearn-color-background: var(--sg-background-color, var(--theme-background, var(--jp-layout-color0, #111)));\n",
              "    --sklearn-color-border-box: var(--sg-text-color, var(--theme-code-foreground, var(--jp-content-font-color1, white)));\n",
              "    --sklearn-color-icon: #878787;\n",
              "  }\n",
              "}\n",
              "\n",
              "#sk-container-id-2 {\n",
              "  color: var(--sklearn-color-text);\n",
              "}\n",
              "\n",
              "#sk-container-id-2 pre {\n",
              "  padding: 0;\n",
              "}\n",
              "\n",
              "#sk-container-id-2 input.sk-hidden--visually {\n",
              "  border: 0;\n",
              "  clip: rect(1px 1px 1px 1px);\n",
              "  clip: rect(1px, 1px, 1px, 1px);\n",
              "  height: 1px;\n",
              "  margin: -1px;\n",
              "  overflow: hidden;\n",
              "  padding: 0;\n",
              "  position: absolute;\n",
              "  width: 1px;\n",
              "}\n",
              "\n",
              "#sk-container-id-2 div.sk-dashed-wrapped {\n",
              "  border: 1px dashed var(--sklearn-color-line);\n",
              "  margin: 0 0.4em 0.5em 0.4em;\n",
              "  box-sizing: border-box;\n",
              "  padding-bottom: 0.4em;\n",
              "  background-color: var(--sklearn-color-background);\n",
              "}\n",
              "\n",
              "#sk-container-id-2 div.sk-container {\n",
              "  /* jupyter's `normalize.less` sets `[hidden] { display: none; }`\n",
              "     but bootstrap.min.css set `[hidden] { display: none !important; }`\n",
              "     so we also need the `!important` here to be able to override the\n",
              "     default hidden behavior on the sphinx rendered scikit-learn.org.\n",
              "     See: https://github.com/scikit-learn/scikit-learn/issues/21755 */\n",
              "  display: inline-block !important;\n",
              "  position: relative;\n",
              "}\n",
              "\n",
              "#sk-container-id-2 div.sk-text-repr-fallback {\n",
              "  display: none;\n",
              "}\n",
              "\n",
              "div.sk-parallel-item,\n",
              "div.sk-serial,\n",
              "div.sk-item {\n",
              "  /* draw centered vertical line to link estimators */\n",
              "  background-image: linear-gradient(var(--sklearn-color-text-on-default-background), var(--sklearn-color-text-on-default-background));\n",
              "  background-size: 2px 100%;\n",
              "  background-repeat: no-repeat;\n",
              "  background-position: center center;\n",
              "}\n",
              "\n",
              "/* Parallel-specific style estimator block */\n",
              "\n",
              "#sk-container-id-2 div.sk-parallel-item::after {\n",
              "  content: \"\";\n",
              "  width: 100%;\n",
              "  border-bottom: 2px solid var(--sklearn-color-text-on-default-background);\n",
              "  flex-grow: 1;\n",
              "}\n",
              "\n",
              "#sk-container-id-2 div.sk-parallel {\n",
              "  display: flex;\n",
              "  align-items: stretch;\n",
              "  justify-content: center;\n",
              "  background-color: var(--sklearn-color-background);\n",
              "  position: relative;\n",
              "}\n",
              "\n",
              "#sk-container-id-2 div.sk-parallel-item {\n",
              "  display: flex;\n",
              "  flex-direction: column;\n",
              "}\n",
              "\n",
              "#sk-container-id-2 div.sk-parallel-item:first-child::after {\n",
              "  align-self: flex-end;\n",
              "  width: 50%;\n",
              "}\n",
              "\n",
              "#sk-container-id-2 div.sk-parallel-item:last-child::after {\n",
              "  align-self: flex-start;\n",
              "  width: 50%;\n",
              "}\n",
              "\n",
              "#sk-container-id-2 div.sk-parallel-item:only-child::after {\n",
              "  width: 0;\n",
              "}\n",
              "\n",
              "/* Serial-specific style estimator block */\n",
              "\n",
              "#sk-container-id-2 div.sk-serial {\n",
              "  display: flex;\n",
              "  flex-direction: column;\n",
              "  align-items: center;\n",
              "  background-color: var(--sklearn-color-background);\n",
              "  padding-right: 1em;\n",
              "  padding-left: 1em;\n",
              "}\n",
              "\n",
              "\n",
              "/* Toggleable style: style used for estimator/Pipeline/ColumnTransformer box that is\n",
              "clickable and can be expanded/collapsed.\n",
              "- Pipeline and ColumnTransformer use this feature and define the default style\n",
              "- Estimators will overwrite some part of the style using the `sk-estimator` class\n",
              "*/\n",
              "\n",
              "/* Pipeline and ColumnTransformer style (default) */\n",
              "\n",
              "#sk-container-id-2 div.sk-toggleable {\n",
              "  /* Default theme specific background. It is overwritten whether we have a\n",
              "  specific estimator or a Pipeline/ColumnTransformer */\n",
              "  background-color: var(--sklearn-color-background);\n",
              "}\n",
              "\n",
              "/* Toggleable label */\n",
              "#sk-container-id-2 label.sk-toggleable__label {\n",
              "  cursor: pointer;\n",
              "  display: flex;\n",
              "  width: 100%;\n",
              "  margin-bottom: 0;\n",
              "  padding: 0.5em;\n",
              "  box-sizing: border-box;\n",
              "  text-align: center;\n",
              "  align-items: start;\n",
              "  justify-content: space-between;\n",
              "  gap: 0.5em;\n",
              "}\n",
              "\n",
              "#sk-container-id-2 label.sk-toggleable__label .caption {\n",
              "  font-size: 0.6rem;\n",
              "  font-weight: lighter;\n",
              "  color: var(--sklearn-color-text-muted);\n",
              "}\n",
              "\n",
              "#sk-container-id-2 label.sk-toggleable__label-arrow:before {\n",
              "  /* Arrow on the left of the label */\n",
              "  content: \"▸\";\n",
              "  float: left;\n",
              "  margin-right: 0.25em;\n",
              "  color: var(--sklearn-color-icon);\n",
              "}\n",
              "\n",
              "#sk-container-id-2 label.sk-toggleable__label-arrow:hover:before {\n",
              "  color: var(--sklearn-color-text);\n",
              "}\n",
              "\n",
              "/* Toggleable content - dropdown */\n",
              "\n",
              "#sk-container-id-2 div.sk-toggleable__content {\n",
              "  max-height: 0;\n",
              "  max-width: 0;\n",
              "  overflow: hidden;\n",
              "  text-align: left;\n",
              "  /* unfitted */\n",
              "  background-color: var(--sklearn-color-unfitted-level-0);\n",
              "}\n",
              "\n",
              "#sk-container-id-2 div.sk-toggleable__content.fitted {\n",
              "  /* fitted */\n",
              "  background-color: var(--sklearn-color-fitted-level-0);\n",
              "}\n",
              "\n",
              "#sk-container-id-2 div.sk-toggleable__content pre {\n",
              "  margin: 0.2em;\n",
              "  border-radius: 0.25em;\n",
              "  color: var(--sklearn-color-text);\n",
              "  /* unfitted */\n",
              "  background-color: var(--sklearn-color-unfitted-level-0);\n",
              "}\n",
              "\n",
              "#sk-container-id-2 div.sk-toggleable__content.fitted pre {\n",
              "  /* unfitted */\n",
              "  background-color: var(--sklearn-color-fitted-level-0);\n",
              "}\n",
              "\n",
              "#sk-container-id-2 input.sk-toggleable__control:checked~div.sk-toggleable__content {\n",
              "  /* Expand drop-down */\n",
              "  max-height: 200px;\n",
              "  max-width: 100%;\n",
              "  overflow: auto;\n",
              "}\n",
              "\n",
              "#sk-container-id-2 input.sk-toggleable__control:checked~label.sk-toggleable__label-arrow:before {\n",
              "  content: \"▾\";\n",
              "}\n",
              "\n",
              "/* Pipeline/ColumnTransformer-specific style */\n",
              "\n",
              "#sk-container-id-2 div.sk-label input.sk-toggleable__control:checked~label.sk-toggleable__label {\n",
              "  color: var(--sklearn-color-text);\n",
              "  background-color: var(--sklearn-color-unfitted-level-2);\n",
              "}\n",
              "\n",
              "#sk-container-id-2 div.sk-label.fitted input.sk-toggleable__control:checked~label.sk-toggleable__label {\n",
              "  background-color: var(--sklearn-color-fitted-level-2);\n",
              "}\n",
              "\n",
              "/* Estimator-specific style */\n",
              "\n",
              "/* Colorize estimator box */\n",
              "#sk-container-id-2 div.sk-estimator input.sk-toggleable__control:checked~label.sk-toggleable__label {\n",
              "  /* unfitted */\n",
              "  background-color: var(--sklearn-color-unfitted-level-2);\n",
              "}\n",
              "\n",
              "#sk-container-id-2 div.sk-estimator.fitted input.sk-toggleable__control:checked~label.sk-toggleable__label {\n",
              "  /* fitted */\n",
              "  background-color: var(--sklearn-color-fitted-level-2);\n",
              "}\n",
              "\n",
              "#sk-container-id-2 div.sk-label label.sk-toggleable__label,\n",
              "#sk-container-id-2 div.sk-label label {\n",
              "  /* The background is the default theme color */\n",
              "  color: var(--sklearn-color-text-on-default-background);\n",
              "}\n",
              "\n",
              "/* On hover, darken the color of the background */\n",
              "#sk-container-id-2 div.sk-label:hover label.sk-toggleable__label {\n",
              "  color: var(--sklearn-color-text);\n",
              "  background-color: var(--sklearn-color-unfitted-level-2);\n",
              "}\n",
              "\n",
              "/* Label box, darken color on hover, fitted */\n",
              "#sk-container-id-2 div.sk-label.fitted:hover label.sk-toggleable__label.fitted {\n",
              "  color: var(--sklearn-color-text);\n",
              "  background-color: var(--sklearn-color-fitted-level-2);\n",
              "}\n",
              "\n",
              "/* Estimator label */\n",
              "\n",
              "#sk-container-id-2 div.sk-label label {\n",
              "  font-family: monospace;\n",
              "  font-weight: bold;\n",
              "  display: inline-block;\n",
              "  line-height: 1.2em;\n",
              "}\n",
              "\n",
              "#sk-container-id-2 div.sk-label-container {\n",
              "  text-align: center;\n",
              "}\n",
              "\n",
              "/* Estimator-specific */\n",
              "#sk-container-id-2 div.sk-estimator {\n",
              "  font-family: monospace;\n",
              "  border: 1px dotted var(--sklearn-color-border-box);\n",
              "  border-radius: 0.25em;\n",
              "  box-sizing: border-box;\n",
              "  margin-bottom: 0.5em;\n",
              "  /* unfitted */\n",
              "  background-color: var(--sklearn-color-unfitted-level-0);\n",
              "}\n",
              "\n",
              "#sk-container-id-2 div.sk-estimator.fitted {\n",
              "  /* fitted */\n",
              "  background-color: var(--sklearn-color-fitted-level-0);\n",
              "}\n",
              "\n",
              "/* on hover */\n",
              "#sk-container-id-2 div.sk-estimator:hover {\n",
              "  /* unfitted */\n",
              "  background-color: var(--sklearn-color-unfitted-level-2);\n",
              "}\n",
              "\n",
              "#sk-container-id-2 div.sk-estimator.fitted:hover {\n",
              "  /* fitted */\n",
              "  background-color: var(--sklearn-color-fitted-level-2);\n",
              "}\n",
              "\n",
              "/* Specification for estimator info (e.g. \"i\" and \"?\") */\n",
              "\n",
              "/* Common style for \"i\" and \"?\" */\n",
              "\n",
              ".sk-estimator-doc-link,\n",
              "a:link.sk-estimator-doc-link,\n",
              "a:visited.sk-estimator-doc-link {\n",
              "  float: right;\n",
              "  font-size: smaller;\n",
              "  line-height: 1em;\n",
              "  font-family: monospace;\n",
              "  background-color: var(--sklearn-color-background);\n",
              "  border-radius: 1em;\n",
              "  height: 1em;\n",
              "  width: 1em;\n",
              "  text-decoration: none !important;\n",
              "  margin-left: 0.5em;\n",
              "  text-align: center;\n",
              "  /* unfitted */\n",
              "  border: var(--sklearn-color-unfitted-level-1) 1pt solid;\n",
              "  color: var(--sklearn-color-unfitted-level-1);\n",
              "}\n",
              "\n",
              ".sk-estimator-doc-link.fitted,\n",
              "a:link.sk-estimator-doc-link.fitted,\n",
              "a:visited.sk-estimator-doc-link.fitted {\n",
              "  /* fitted */\n",
              "  border: var(--sklearn-color-fitted-level-1) 1pt solid;\n",
              "  color: var(--sklearn-color-fitted-level-1);\n",
              "}\n",
              "\n",
              "/* On hover */\n",
              "div.sk-estimator:hover .sk-estimator-doc-link:hover,\n",
              ".sk-estimator-doc-link:hover,\n",
              "div.sk-label-container:hover .sk-estimator-doc-link:hover,\n",
              ".sk-estimator-doc-link:hover {\n",
              "  /* unfitted */\n",
              "  background-color: var(--sklearn-color-unfitted-level-3);\n",
              "  color: var(--sklearn-color-background);\n",
              "  text-decoration: none;\n",
              "}\n",
              "\n",
              "div.sk-estimator.fitted:hover .sk-estimator-doc-link.fitted:hover,\n",
              ".sk-estimator-doc-link.fitted:hover,\n",
              "div.sk-label-container:hover .sk-estimator-doc-link.fitted:hover,\n",
              ".sk-estimator-doc-link.fitted:hover {\n",
              "  /* fitted */\n",
              "  background-color: var(--sklearn-color-fitted-level-3);\n",
              "  color: var(--sklearn-color-background);\n",
              "  text-decoration: none;\n",
              "}\n",
              "\n",
              "/* Span, style for the box shown on hovering the info icon */\n",
              ".sk-estimator-doc-link span {\n",
              "  display: none;\n",
              "  z-index: 9999;\n",
              "  position: relative;\n",
              "  font-weight: normal;\n",
              "  right: .2ex;\n",
              "  padding: .5ex;\n",
              "  margin: .5ex;\n",
              "  width: min-content;\n",
              "  min-width: 20ex;\n",
              "  max-width: 50ex;\n",
              "  color: var(--sklearn-color-text);\n",
              "  box-shadow: 2pt 2pt 4pt #999;\n",
              "  /* unfitted */\n",
              "  background: var(--sklearn-color-unfitted-level-0);\n",
              "  border: .5pt solid var(--sklearn-color-unfitted-level-3);\n",
              "}\n",
              "\n",
              ".sk-estimator-doc-link.fitted span {\n",
              "  /* fitted */\n",
              "  background: var(--sklearn-color-fitted-level-0);\n",
              "  border: var(--sklearn-color-fitted-level-3);\n",
              "}\n",
              "\n",
              ".sk-estimator-doc-link:hover span {\n",
              "  display: block;\n",
              "}\n",
              "\n",
              "/* \"?\"-specific style due to the `<a>` HTML tag */\n",
              "\n",
              "#sk-container-id-2 a.estimator_doc_link {\n",
              "  float: right;\n",
              "  font-size: 1rem;\n",
              "  line-height: 1em;\n",
              "  font-family: monospace;\n",
              "  background-color: var(--sklearn-color-background);\n",
              "  border-radius: 1rem;\n",
              "  height: 1rem;\n",
              "  width: 1rem;\n",
              "  text-decoration: none;\n",
              "  /* unfitted */\n",
              "  color: var(--sklearn-color-unfitted-level-1);\n",
              "  border: var(--sklearn-color-unfitted-level-1) 1pt solid;\n",
              "}\n",
              "\n",
              "#sk-container-id-2 a.estimator_doc_link.fitted {\n",
              "  /* fitted */\n",
              "  border: var(--sklearn-color-fitted-level-1) 1pt solid;\n",
              "  color: var(--sklearn-color-fitted-level-1);\n",
              "}\n",
              "\n",
              "/* On hover */\n",
              "#sk-container-id-2 a.estimator_doc_link:hover {\n",
              "  /* unfitted */\n",
              "  background-color: var(--sklearn-color-unfitted-level-3);\n",
              "  color: var(--sklearn-color-background);\n",
              "  text-decoration: none;\n",
              "}\n",
              "\n",
              "#sk-container-id-2 a.estimator_doc_link.fitted:hover {\n",
              "  /* fitted */\n",
              "  background-color: var(--sklearn-color-fitted-level-3);\n",
              "}\n",
              "</style><div id=\"sk-container-id-2\" class=\"sk-top-container\"><div class=\"sk-text-repr-fallback\"><pre>Pipeline(steps=[(&#x27;tf-idf&#x27;, TfidfVectorizer()), (&#x27;clf&#x27;, MultinomialNB())])</pre><b>In a Jupyter environment, please rerun this cell to show the HTML representation or trust the notebook. <br />On GitHub, the HTML representation is unable to render, please try loading this page with nbviewer.org.</b></div><div class=\"sk-container\" hidden><div class=\"sk-item sk-dashed-wrapped\"><div class=\"sk-label-container\"><div class=\"sk-label fitted sk-toggleable\"><input class=\"sk-toggleable__control sk-hidden--visually\" id=\"sk-estimator-id-4\" type=\"checkbox\" ><label for=\"sk-estimator-id-4\" class=\"sk-toggleable__label fitted sk-toggleable__label-arrow\"><div><div>Pipeline</div></div><div><a class=\"sk-estimator-doc-link fitted\" rel=\"noreferrer\" target=\"_blank\" href=\"https://scikit-learn.org/1.6/modules/generated/sklearn.pipeline.Pipeline.html\">?<span>Documentation for Pipeline</span></a><span class=\"sk-estimator-doc-link fitted\">i<span>Fitted</span></span></div></label><div class=\"sk-toggleable__content fitted\"><pre>Pipeline(steps=[(&#x27;tf-idf&#x27;, TfidfVectorizer()), (&#x27;clf&#x27;, MultinomialNB())])</pre></div> </div></div><div class=\"sk-serial\"><div class=\"sk-item\"><div class=\"sk-estimator fitted sk-toggleable\"><input class=\"sk-toggleable__control sk-hidden--visually\" id=\"sk-estimator-id-5\" type=\"checkbox\" ><label for=\"sk-estimator-id-5\" class=\"sk-toggleable__label fitted sk-toggleable__label-arrow\"><div><div>TfidfVectorizer</div></div><div><a class=\"sk-estimator-doc-link fitted\" rel=\"noreferrer\" target=\"_blank\" href=\"https://scikit-learn.org/1.6/modules/generated/sklearn.feature_extraction.text.TfidfVectorizer.html\">?<span>Documentation for TfidfVectorizer</span></a></div></label><div class=\"sk-toggleable__content fitted\"><pre>TfidfVectorizer()</pre></div> </div></div><div class=\"sk-item\"><div class=\"sk-estimator fitted sk-toggleable\"><input class=\"sk-toggleable__control sk-hidden--visually\" id=\"sk-estimator-id-6\" type=\"checkbox\" ><label for=\"sk-estimator-id-6\" class=\"sk-toggleable__label fitted sk-toggleable__label-arrow\"><div><div>MultinomialNB</div></div><div><a class=\"sk-estimator-doc-link fitted\" rel=\"noreferrer\" target=\"_blank\" href=\"https://scikit-learn.org/1.6/modules/generated/sklearn.naive_bayes.MultinomialNB.html\">?<span>Documentation for MultinomialNB</span></a></div></label><div class=\"sk-toggleable__content fitted\"><pre>MultinomialNB()</pre></div> </div></div></div></div></div></div>"
            ]
          },
          "metadata": {},
          "execution_count": 60
        }
      ]
    },
    {
      "cell_type": "code",
      "source": [
        "# Değerlerinde verileri üzerindeki bu modeli değerlendir\n",
        "model_0.score(\n",
        "    X = val_sentences,\n",
        "    y = val_labels_encoded\n",
        ")"
      ],
      "metadata": {
        "id": "mXAk9C2l8Dbl",
        "colab": {
          "base_uri": "https://localhost:8080/"
        },
        "outputId": "d7c28102-1de0-4f6a-bc77-3ee31ed83ff3"
      },
      "execution_count": null,
      "outputs": [
        {
          "output_type": "execute_result",
          "data": {
            "text/plain": [
              "0.7218323844829869"
            ]
          },
          "metadata": {},
          "execution_count": 61
        }
      ]
    },
    {
      "cell_type": "code",
      "source": [
        "# Tahminler yap\n",
        "baseline_preds = model_0.predict(val_sentences)\n",
        "baseline_preds[:20]"
      ],
      "metadata": {
        "id": "Lhf43dqp8HYr",
        "colab": {
          "base_uri": "https://localhost:8080/"
        },
        "outputId": "92706482-b3f4-4e0a-c621-80dd25f314e1"
      },
      "execution_count": null,
      "outputs": [
        {
          "output_type": "execute_result",
          "data": {
            "text/plain": [
              "array([4, 1, 3, 2, 2, 2, 2, 2, 4, 4, 0, 4, 1, 1, 2, 2, 4, 1, 4, 4])"
            ]
          },
          "metadata": {},
          "execution_count": 62
        }
      ]
    },
    {
      "cell_type": "markdown",
      "source": [
        "`from sklearn.feature_extraction.text import TfidfVectorizer`\n",
        "- **TfidfVectorizer**: Bu, metin verilerini sayısal verilere dönüştüren bir vektörleştirici (vectorizer) sınıfıdır. \"TF-IDF\" (Term Frequency-Inverse Document Frequency) yöntemi, her terimin önemini hesaplarken, terimin bir belgedeki sıklığını (TF) ve tüm koleksiyon içindeki nadirliğini (IDF) göz önünde bulundurur. Bu sayede önemli ve nadir kelimelere yüksek ağırlık verilir.\n",
        "- **Amaç**: Doğal dildeki metni makine öğrenimi modelinin anlayacağı sayısal verilere dönüştürmek.\n",
        "\n",
        "`from sklearn.naive_bayes import MultinomialNB`\n",
        "- **MultinomialNB**: Bu, Naive Bayes sınıflandırıcılarının bir çeşididir. Özellikle metin verileri gibi çok terimli (multinomial) verilerle çalışmak için uygundur. Her bir belgeyi, o belgenin hangi sınıfa ait olduğunu tahmin etmek için kullanır.\n",
        "- **Amaç**: Metin verilerini belirli bir kategoriye (sınıfa) sınıflandırmak. Örneğin, bir e-postanın spam olup olmadığını tahmin etmek.\n",
        "\n",
        "`from sklearn.pipeline import Pipeline`\n",
        "- **Pipeline**: Bu, bir dizi adımı sırasıyla birleştiren bir sınıftır. Bir boru hattı (pipeline), veriyi işlemek için gereken tüm adımları (veya işlemleri) sıralı şekilde organize eder. Yani, bu yapıyı kullanarak, veri hazırlık aşamasından modelin eğitilmesine kadar her şeyi bir arada tutabilirsiniz.\n",
        "- **Amaç**: Veriyi ve modeli düzenli bir şekilde işlemeyi sağlayan bir \"boru hattı\" oluşturmak.\n",
        "\n",
        "`model_0 = Pipeline([(\"tf-idf\", TfidfVectorizer()), (\"clf\", MultinomialNB())])`\n",
        "- **Bu satırda**:\n",
        "  - Bir **pipeline** oluşturuluyor. Bu boru hattı, iki adım içeriyor:\n",
        "    1. **\"tf-idf\"**: İlk adımda metin verilerini, `TfidfVectorizer` kullanarak sayısal verilere dönüştürmek.\n",
        "    2. **\"clf\"**: İkinci adımda, dönüştürülmüş veriyi `MultinomialNB` sınıflandırıcısına vererek sınıflandırmak.\n",
        "- **Amaç**: Veriyi sayısal hale getirdikten sonra, bu sayısal veriyi kullanarak bir sınıflandırma yapmak.\n",
        "\n",
        "`model_0.fit(X=train_sentences, y=train_labels_encoded)`\n",
        "- **fit**: Modeli eğitim verileriyle (X) ve etiketleriyle (y) eğitir. Bu adımda:\n",
        "  - `X` (train_sentences): Eğitim verisi, yani metinleri içeren bir liste veya dizi.\n",
        "  - `y` (train_labels_encoded): Eğitim verilerine karşılık gelen etiketler. Bu, her bir metne hangi sınıfın (etiketin) ait olduğunu gösterir. Örneğin, bir metnin \"spam\" veya \"ham\" (spam değil) olduğunu belirten etiketler olabilir.\n",
        "  \n",
        "- **Amaç**: Model, eğitim verilerini kullanarak metinlerin hangi sınıfa ait olduğunu öğrenir. İlk adımda metinleri sayısal verilere dönüştürür, sonra ikinci adımda bu sayısal veriyi sınıflandırıcıya verir ve öğrenme işlemi başlar."
      ],
      "metadata": {
        "id": "6ivSrWnk-fpi"
      }
    },
    {
      "cell_type": "markdown",
      "source": [
        "### **3.2. Yardımcı Fonksiyonlar Dosyası**"
      ],
      "metadata": {
        "id": "CYo03qcGj5XY"
      }
    },
    {
      "cell_type": "markdown",
      "source": [
        "Temel modelin tahminlerini değerlendirmek için önceden hazırlanmış helper_functions.py komut dosyasını içeri aktaracağız. Bu dosya içerisinde calculate_results() işlevi ile değerlendirme yaparız.\n",
        "\n",
        "Daha spesifik olarak calculate_results() işlevi aşağıdakileri elde etmemize yardımcı olacaktır:\n",
        "\n",
        "* Accuracy\n",
        "* Precision\n",
        "* Recall\n",
        "* F1 Score"
      ],
      "metadata": {
        "id": "cwtnvfmJ8dy7"
      }
    },
    {
      "cell_type": "code",
      "source": [
        "# Yardımcı işlevler komut dosyasını indirin\n",
        "!wget https://raw.githubusercontent.com/mrdbourke/tensorflow-deep-learning/main/extras/helper_functions.py"
      ],
      "metadata": {
        "id": "iFnqZ32S9H7r",
        "colab": {
          "base_uri": "https://localhost:8080/"
        },
        "outputId": "77501a1a-6698-4203-a31e-e439ca36e638"
      },
      "execution_count": null,
      "outputs": [
        {
          "output_type": "stream",
          "name": "stdout",
          "text": [
            "--2025-01-02 19:30:13--  https://raw.githubusercontent.com/mrdbourke/tensorflow-deep-learning/main/extras/helper_functions.py\n",
            "Resolving raw.githubusercontent.com (raw.githubusercontent.com)... 185.199.109.133, 185.199.110.133, 185.199.111.133, ...\n",
            "Connecting to raw.githubusercontent.com (raw.githubusercontent.com)|185.199.109.133|:443... connected.\n",
            "HTTP request sent, awaiting response... 200 OK\n",
            "Length: 10246 (10K) [text/plain]\n",
            "Saving to: ‘helper_functions.py.1’\n",
            "\n",
            "\rhelper_functions.py   0%[                    ]       0  --.-KB/s               \rhelper_functions.py 100%[===================>]  10.01K  --.-KB/s    in 0.001s  \n",
            "\n",
            "2025-01-02 19:30:13 (14.7 MB/s) - ‘helper_functions.py.1’ saved [10246/10246]\n",
            "\n"
          ]
        }
      ]
    },
    {
      "cell_type": "code",
      "source": [
        "### İçe aktarılmış olan yardımcı fonksiyonların detayları\n",
        "\n",
        "import tensorflow as tf\n",
        "\n",
        "# Create a function to import an image and resize it to be able to be used with our model\n",
        "def load_and_prep_image(filename, img_shape=224, scale=True):\n",
        "  \"\"\"\n",
        "  Reads in an image from filename, turns it into a tensor and reshapes into\n",
        "  (224, 224, 3).\n",
        "\n",
        "  Parameters\n",
        "  ----------\n",
        "  filename (str): string filename of target image\n",
        "  img_shape (int): size to resize target image to, default 224\n",
        "  scale (bool): whether to scale pixel values to range(0, 1), default True\n",
        "  \"\"\"\n",
        "  # Read in the image\n",
        "  img = tf.io.read_file(filename)\n",
        "  # Decode it into a tensor\n",
        "  img = tf.image.decode_jpeg(img)\n",
        "  # Resize the image\n",
        "  img = tf.image.resize(img, [img_shape, img_shape])\n",
        "  if scale:\n",
        "    # Rescale the image (get all values between 0 and 1)\n",
        "    return img/255.\n",
        "  else:\n",
        "    return img\n",
        "\n",
        "# Note: The following confusion matrix code is a remix of Scikit-Learn's\n",
        "# plot_confusion_matrix function - https://scikit-learn.org/stable/modules/generated/sklearn.metrics.plot_confusion_matrix.html\n",
        "import itertools\n",
        "import matplotlib.pyplot as plt\n",
        "import numpy as np\n",
        "from sklearn.metrics import confusion_matrix\n",
        "\n",
        "# Our function needs a different name to sklearn's plot_confusion_matrix\n",
        "def make_confusion_matrix(y_true, y_pred, classes=None, figsize=(10, 10), text_size=15, norm=False, savefig=False):\n",
        "  \"\"\"Makes a labelled confusion matrix comparing predictions and ground truth labels.\n",
        "\n",
        "  If classes is passed, confusion matrix will be labelled, if not, integer class values\n",
        "  will be used.\n",
        "\n",
        "  Args:\n",
        "    y_true: Array of truth labels (must be same shape as y_pred).\n",
        "    y_pred: Array of predicted labels (must be same shape as y_true).\n",
        "    classes: Array of class labels (e.g. string form). If `None`, integer labels are used.\n",
        "    figsize: Size of output figure (default=(10, 10)).\n",
        "    text_size: Size of output figure text (default=15).\n",
        "    norm: normalize values or not (default=False).\n",
        "    savefig: save confusion matrix to file (default=False).\n",
        "\n",
        "  Returns:\n",
        "    A labelled confusion matrix plot comparing y_true and y_pred.\n",
        "\n",
        "  Example usage:\n",
        "    make_confusion_matrix(y_true=test_labels, # ground truth test labels\n",
        "                          y_pred=y_preds, # predicted labels\n",
        "                          classes=class_names, # array of class label names\n",
        "                          figsize=(15, 15),\n",
        "                          text_size=10)\n",
        "  \"\"\"\n",
        "  # Create the confustion matrix\n",
        "  cm = confusion_matrix(y_true, y_pred)\n",
        "  cm_norm = cm.astype(\"float\") / cm.sum(axis=1)[:, np.newaxis] # normalize it\n",
        "  n_classes = cm.shape[0] # find the number of classes we're dealing with\n",
        "\n",
        "  # Plot the figure and make it pretty\n",
        "  fig, ax = plt.subplots(figsize=figsize)\n",
        "  cax = ax.matshow(cm, cmap=plt.cm.Blues) # colors will represent how 'correct' a class is, darker == better\n",
        "  fig.colorbar(cax)\n",
        "\n",
        "  # Are there a list of classes?\n",
        "  if classes:\n",
        "    labels = classes\n",
        "  else:\n",
        "    labels = np.arange(cm.shape[0])\n",
        "\n",
        "  # Label the axes\n",
        "  ax.set(title=\"Confusion Matrix\",\n",
        "         xlabel=\"Predicted label\",\n",
        "         ylabel=\"True label\",\n",
        "         xticks=np.arange(n_classes), # create enough axis slots for each class\n",
        "         yticks=np.arange(n_classes),\n",
        "         xticklabels=labels, # axes will labeled with class names (if they exist) or ints\n",
        "         yticklabels=labels)\n",
        "\n",
        "  # Make x-axis labels appear on bottom\n",
        "  ax.xaxis.set_label_position(\"bottom\")\n",
        "  ax.xaxis.tick_bottom()\n",
        "\n",
        "  # Set the threshold for different colors\n",
        "  threshold = (cm.max() + cm.min()) / 2.\n",
        "\n",
        "  # Plot the text on each cell\n",
        "  for i, j in itertools.product(range(cm.shape[0]), range(cm.shape[1])):\n",
        "    if norm:\n",
        "      plt.text(j, i, f\"{cm[i, j]} ({cm_norm[i, j]*100:.1f}%)\",\n",
        "              horizontalalignment=\"center\",\n",
        "              color=\"white\" if cm[i, j] > threshold else \"black\",\n",
        "              size=text_size)\n",
        "    else:\n",
        "      plt.text(j, i, f\"{cm[i, j]}\",\n",
        "              horizontalalignment=\"center\",\n",
        "              color=\"white\" if cm[i, j] > threshold else \"black\",\n",
        "              size=text_size)\n",
        "\n",
        "  # Save the figure to the current working directory\n",
        "  if savefig:\n",
        "    fig.savefig(\"confusion_matrix.png\")\n",
        "\n",
        "# Make a function to predict on images and plot them (works with multi-class)\n",
        "def pred_and_plot(model, filename, class_names):\n",
        "  \"\"\"\n",
        "  Imports an image located at filename, makes a prediction on it with\n",
        "  a trained model and plots the image with the predicted class as the title.\n",
        "  \"\"\"\n",
        "  # Import the target image and preprocess it\n",
        "  img = load_and_prep_image(filename)\n",
        "\n",
        "  # Make a prediction\n",
        "  pred = model.predict(tf.expand_dims(img, axis=0))\n",
        "\n",
        "  # Get the predicted class\n",
        "  if len(pred[0]) > 1: # check for multi-class\n",
        "    pred_class = class_names[pred.argmax()] # if more than one output, take the max\n",
        "  else:\n",
        "    pred_class = class_names[int(tf.round(pred)[0][0])] # if only one output, round\n",
        "\n",
        "  # Plot the image and predicted class\n",
        "  plt.imshow(img)\n",
        "  plt.title(f\"Prediction: {pred_class}\")\n",
        "  plt.axis(False);\n",
        "\n",
        "import datetime\n",
        "\n",
        "def create_tensorboard_callback(dir_name, experiment_name):\n",
        "  \"\"\"\n",
        "  Creates a TensorBoard callback instand to store log files.\n",
        "\n",
        "  Stores log files with the filepath:\n",
        "    \"dir_name/experiment_name/current_datetime/\"\n",
        "\n",
        "  Args:\n",
        "    dir_name: target directory to store TensorBoard log files\n",
        "    experiment_name: name of experiment directory (e.g. efficientnet_model_1)\n",
        "  \"\"\"\n",
        "  log_dir = dir_name + \"/\" + experiment_name + \"/\" + datetime.datetime.now().strftime(\"%Y%m%d-%H%M%S\")\n",
        "  tensorboard_callback = tf.keras.callbacks.TensorBoard(\n",
        "      log_dir=log_dir\n",
        "  )\n",
        "  print(f\"Saving TensorBoard log files to: {log_dir}\")\n",
        "  return tensorboard_callback\n",
        "\n",
        "# Plot the validation and training data separately\n",
        "import matplotlib.pyplot as plt\n",
        "\n",
        "def plot_loss_curves(history):\n",
        "  \"\"\"\n",
        "  Returns separate loss curves for training and validation metrics.\n",
        "\n",
        "  Args:\n",
        "    history: TensorFlow model History object (see: https://www.tensorflow.org/api_docs/python/tf/keras/callbacks/History)\n",
        "  \"\"\"\n",
        "  loss = history.history['loss']\n",
        "  val_loss = history.history['val_loss']\n",
        "\n",
        "  accuracy = history.history['accuracy']\n",
        "  val_accuracy = history.history['val_accuracy']\n",
        "\n",
        "  epochs = range(len(history.history['loss']))\n",
        "\n",
        "  # Plot loss\n",
        "  plt.plot(epochs, loss, label='training_loss')\n",
        "  plt.plot(epochs, val_loss, label='val_loss')\n",
        "  plt.title('Loss')\n",
        "  plt.xlabel('Epochs')\n",
        "  plt.legend()\n",
        "\n",
        "  # Plot accuracy\n",
        "  plt.figure()\n",
        "  plt.plot(epochs, accuracy, label='training_accuracy')\n",
        "  plt.plot(epochs, val_accuracy, label='val_accuracy')\n",
        "  plt.title('Accuracy')\n",
        "  plt.xlabel('Epochs')\n",
        "  plt.legend();\n",
        "\n",
        "def compare_historys(original_history, new_history, initial_epochs=5):\n",
        "    \"\"\"\n",
        "    Compares two TensorFlow model History objects.\n",
        "\n",
        "    Args:\n",
        "      original_history: History object from original model (before new_history)\n",
        "      new_history: History object from continued model training (after original_history)\n",
        "      initial_epochs: Number of epochs in original_history (new_history plot starts from here)\n",
        "    \"\"\"\n",
        "\n",
        "    # Get original history measurements\n",
        "    acc = original_history.history[\"accuracy\"]\n",
        "    loss = original_history.history[\"loss\"]\n",
        "\n",
        "    val_acc = original_history.history[\"val_accuracy\"]\n",
        "    val_loss = original_history.history[\"val_loss\"]\n",
        "\n",
        "    # Combine original history with new history\n",
        "    total_acc = acc + new_history.history[\"accuracy\"]\n",
        "    total_loss = loss + new_history.history[\"loss\"]\n",
        "\n",
        "    total_val_acc = val_acc + new_history.history[\"val_accuracy\"]\n",
        "    total_val_loss = val_loss + new_history.history[\"val_loss\"]\n",
        "\n",
        "    # Make plots\n",
        "    plt.figure(figsize=(8, 8))\n",
        "    plt.subplot(2, 1, 1)\n",
        "    plt.plot(total_acc, label='Training Accuracy')\n",
        "    plt.plot(total_val_acc, label='Validation Accuracy')\n",
        "    plt.plot([initial_epochs-1, initial_epochs-1],\n",
        "              plt.ylim(), label='Start Fine Tuning') # reshift plot around epochs\n",
        "    plt.legend(loc='lower right')\n",
        "    plt.title('Training and Validation Accuracy')\n",
        "\n",
        "    plt.subplot(2, 1, 2)\n",
        "    plt.plot(total_loss, label='Training Loss')\n",
        "    plt.plot(total_val_loss, label='Validation Loss')\n",
        "    plt.plot([initial_epochs-1, initial_epochs-1],\n",
        "              plt.ylim(), label='Start Fine Tuning') # reshift plot around epochs\n",
        "    plt.legend(loc='upper right')\n",
        "    plt.title('Training and Validation Loss')\n",
        "    plt.xlabel('epoch')\n",
        "    plt.show()\n",
        "\n",
        "# Create function to unzip a zipfile into current working directory\n",
        "# (since we're going to be downloading and unzipping a few files)\n",
        "import zipfile\n",
        "\n",
        "def unzip_data(filename):\n",
        "  \"\"\"\n",
        "  Unzips filename into the current working directory.\n",
        "\n",
        "  Args:\n",
        "    filename (str): a filepath to a target zip folder to be unzipped.\n",
        "  \"\"\"\n",
        "  zip_ref = zipfile.ZipFile(filename, \"r\")\n",
        "  zip_ref.extractall()\n",
        "  zip_ref.close()\n",
        "\n",
        "# Walk through an image classification directory and find out how many files (images)\n",
        "# are in each subdirectory.\n",
        "import os\n",
        "\n",
        "def walk_through_dir(dir_path):\n",
        "  \"\"\"\n",
        "  Walks through dir_path returning its contents.\n",
        "\n",
        "  Args:\n",
        "    dir_path (str): target directory\n",
        "\n",
        "  Returns:\n",
        "    A print out of:\n",
        "      number of subdiretories in dir_path\n",
        "      number of images (files) in each subdirectory\n",
        "      name of each subdirectory\n",
        "  \"\"\"\n",
        "  for dirpath, dirnames, filenames in os.walk(dir_path):\n",
        "    print(f\"There are {len(dirnames)} directories and {len(filenames)} images in '{dirpath}'.\")\n",
        "\n",
        "# Function to evaluate: accuracy, precision, recall, f1-score\n",
        "from sklearn.metrics import accuracy_score, precision_recall_fscore_support\n",
        "\n",
        "def calculate_results(y_true, y_pred):\n",
        "  \"\"\"\n",
        "  Calculates model accuracy, precision, recall and f1 score of a binary classification model.\n",
        "\n",
        "  Args:\n",
        "      y_true: true labels in the form of a 1D array\n",
        "      y_pred: predicted labels in the form of a 1D array\n",
        "\n",
        "  Returns a dictionary of accuracy, precision, recall, f1-score.\n",
        "  \"\"\"\n",
        "  # Calculate model accuracy\n",
        "  model_accuracy = accuracy_score(y_true, y_pred) * 100\n",
        "  # Calculate model precision, recall and f1 score using \"weighted average\n",
        "  model_precision, model_recall, model_f1, _ = precision_recall_fscore_support(y_true, y_pred, average=\"weighted\")\n",
        "  model_results = {\"accuracy\": model_accuracy,\n",
        "                  \"precision\": model_precision,\n",
        "                  \"recall\": model_recall,\n",
        "                  \"f1\": model_f1}\n",
        "  return model_results"
      ],
      "metadata": {
        "id": "7_-HlRGI9H4r"
      },
      "execution_count": null,
      "outputs": []
    },
    {
      "cell_type": "code",
      "source": [
        "# calculate_results'u yardımcı fonksiyonlardan içeri aktarma\n",
        "from helper_functions import calculate_results\n",
        "\n",
        "# Temel modelin sonuçları nedir?\n",
        "baseline_results = calculate_results(\n",
        "    y_true = val_labels_encoded,\n",
        "    y_pred = baseline_preds\n",
        ")\n",
        "\n",
        "baseline_results"
      ],
      "metadata": {
        "id": "zoFV1fOY9fcC",
        "colab": {
          "base_uri": "https://localhost:8080/"
        },
        "outputId": "f133b1f2-8ebc-4da8-c7da-1be3342702dc"
      },
      "execution_count": null,
      "outputs": [
        {
          "output_type": "execute_result",
          "data": {
            "text/plain": [
              "{'accuracy': 72.1832384482987,\n",
              " 'precision': 0.7186466952323352,\n",
              " 'recall': 0.7218323844829869,\n",
              " 'f1': 0.6989250353450294}"
            ]
          },
          "metadata": {},
          "execution_count": 65
        }
      ]
    },
    {
      "cell_type": "markdown",
      "source": [
        "### **3.3. Derin Modelleme İçin Veri Hazırlığı**"
      ],
      "metadata": {
        "id": "5u6NpAHBj5U8"
      }
    },
    {
      "cell_type": "markdown",
      "source": [
        "Etiketleri sayısal formatta hazırlamıştık, şimdi metinleri sayısal biçime dönüştürmek için çalışma yapmalıyız, metin vektörleştirme. Her bir token bir sayıya dönüştürülür ve bu birleştirilmiş kelimelere dayalı bir embeddings oluşturulur. Denemek ve geliştirmek için çalışma temelimiz var.\n",
        "\n",
        "Ancak daha derin modeller oluşturmaya başlamadan önce, vektörleştirme ve katmanları gömme oluşturmalıyız.\n",
        "\n",
        "Vektörleştirme katmanı metnimizi sayılara dönüştürecek ve gömme katmanı bu sayılar arasındaki ilişkileri yakalayacaktır.\n",
        "\n",
        "Vektörleştirme ve gömme katmanlarımızı oluşturmaya başlamak için uygun kitaplıkları (yani TensorFlow ve NumPy) içe aktarmamız gerekecek.\n",
        "\n",
        "Cümlelerimizi sayılara dönüştüreceğimiz için, her cümlede kaç kelime olduğunu bulmak gerekir.\n",
        "\n",
        "Modelimiz cümlelerimizden geçtiğinde, hepsi aynı uzunlukta olduğunda en iyi şekilde çalışır (bu, aynı boyutta tensörlerde gruplar oluşturmak için önemlidir).\n",
        "\n",
        "Örneğin, bir cümle sekiz kelime uzunluğunda ve diğeri 29 kelime uzunluğundaysa, sekiz kelimelik cümleyi sıfırla doldurmak istiyoruz, böylece 29 kelimelik cümle ile aynı uzunlukta olur."
      ],
      "metadata": {
        "id": "X2jmqEBPi8Q-"
      }
    },
    {
      "cell_type": "code",
      "source": [
        "import numpy as np\n",
        "import tensorflow as tf\n",
        "from tensorflow.keras import layers\n",
        "import matplotlib.pyplot as plt"
      ],
      "metadata": {
        "id": "Q8Ow2KOvjvxp"
      },
      "execution_count": null,
      "outputs": []
    },
    {
      "cell_type": "code",
      "source": [
        "# Her cümle ortalama ne kadar uzunlukta? Dağılım hakkında bilgimiz olmalı\n",
        "# Bir cümle 4 kelime iken diğeri 90 kelime de olabilir\n",
        "sent_lens = [len(sentence.split()) for sentence in train_sentences]\n",
        "avg_sent_len = np.mean(sent_lens)\n",
        "\n",
        "avg_sent_len # ortalama cümle uzunluğunu döndür (belirteç cinsinden)"
      ],
      "metadata": {
        "id": "nUhtDwkyjzDa",
        "colab": {
          "base_uri": "https://localhost:8080/"
        },
        "outputId": "50fa5220-09a0-4a34-c089-f40ffa8c8c74"
      },
      "execution_count": null,
      "outputs": [
        {
          "output_type": "execute_result",
          "data": {
            "text/plain": [
              "26.338269273494777"
            ]
          },
          "metadata": {},
          "execution_count": 67
        }
      ]
    },
    {
      "cell_type": "markdown",
      "source": [
        "`sent_lens = [len(sentence.split()) for sentence in train_sentences]`\n",
        "- Bu satırda, eğitim verisindeki her cümle için kelime sayısı hesaplanıyor.\n",
        "- `train_sentences`: Bu, eğitim verisindeki cümlelerin bir listesidir. Her bir öğe bir cümledir.\n",
        "- `sentence.split()`: Bu, her cümleyi boşluk karakterine göre böler ve cümledeki kelimeleri bir liste olarak döndürür. Örneğin, `\"Bu bir test cümlesidir.\"` cümlesi `[\"Bu\", \"bir\", \"test\", \"cümlesidir.\"]` olarak bölünür.\n",
        "- `len(sentence.split())`: Bu, her cümlenin kelime sayısını hesaplar. Örneğin, `\"Bu bir test cümlesidir.\"` cümlesi 4 kelime içerdiği için `len(sentence.split())` değeri 4 olacaktır.\n",
        "- **Amaç**: Her cümlenin kelime sayısını içeren bir liste (`sent_lens`) oluşturmak.\n",
        "\n",
        "`avg_sent_len = np.mean(sent_lens)`\n",
        "- **`np.mean(sent_lens)`**: NumPy kütüphanesinin `mean` fonksiyonu, `sent_lens` listesindeki tüm cümlelerin kelime sayılarının ortalamasını hesaplar.\n",
        "- **Amaç**: Cümlelerin ortalama kelime sayısını bulmak.\n",
        "\n",
        "Örnek:\n",
        "- Diyelim ki `train_sentences` şöyle:\n",
        "  ```python\n",
        "  train_sentences = [\n",
        "      \"Merhaba.\",\n",
        "      \"Bugün çok güzel bir gün.\",\n",
        "      \"Yapay zeka, veri biliminde önemli bir yer tutmaktadır. Çeşitli alanlarda kullanılmaktadır.\"\n",
        "  ]\n",
        "  ```\n",
        "- İlk cümlede 1 kelime var, ikinci cümlede 5 kelime var, üçüncü cümlede ise 10 kelime var.\n",
        "- `sent_lens` listesi: `[1, 5, 10]`\n",
        "- Ortalama cümle uzunluğu (`avg_sent_len`) hesaplanır: `(1 + 5 + 10) / 3 = 5.33` (yaklaşık)\n",
        "\n",
        "Sonuç olarak, ortalama cümle uzunluğu yaklaşık 5.33 kelime olacaktır."
      ],
      "metadata": {
        "id": "W6Chrg2d_Y0r"
      }
    },
    {
      "cell_type": "code",
      "source": [
        "# Dağılım nasıl?\n",
        "plt.hist(sent_lens, bins = 7);"
      ],
      "metadata": {
        "id": "WLQnBg9Gkf5_",
        "colab": {
          "base_uri": "https://localhost:8080/",
          "height": 430
        },
        "outputId": "b528005f-e07f-4b4a-db16-0556940e01eb"
      },
      "execution_count": null,
      "outputs": [
        {
          "output_type": "display_data",
          "data": {
            "text/plain": [
              "<Figure size 640x480 with 1 Axes>"
            ],
            "image/png": "[encoded data removed]"
          },
          "metadata": {}
        }
      ]
    },
    {
      "cell_type": "markdown",
      "source": [
        "Cümlelerin büyük çoğunluğunun uzunluğu 0 ile 50 token arasında gibi görünüyor.\n",
        "\n",
        "Cümle uzunluklarının %95'ini kapsayan değeri bulmak için NumPy'nin yüzdelik dilimini kullanabiliriz.\n",
        "\n",
        "https://numpy.org/doc/stable/reference/generated/numpy.percentile.html\n",
        "\n",
        "🤔 Soru: Neden %95?\n",
        "\n",
        "Eğitim setindeki cümlelerin maksimum cümle uzunluğunu kullanabiliriz.\n",
        "\n",
        "Sonuç 55 çıkar (aşağıda). Belirteç katmanımızı oluşturduğumuzda, tüm cümlelerimizi aynı uzunlukta dönüştürmek için bu değeri kullanacağız. Uzunluğu 55'in altında olan cümleler sıfırlarla doldurulur ve uzunluğu 55'in üzerinde olan cümleler kesilir (55'ten sonraki kelimeler kesilir)."
      ],
      "metadata": {
        "id": "VJtKueVokt7J"
      }
    },
    {
      "cell_type": "code",
      "source": [
        "# Bir cümlenin uzunluğu, uzunlukların %95'ini kapsıyor?\n",
        "output_seq_len = int(np.percentile(sent_lens, 95))\n",
        "\n",
        "output_seq_len # çıktımızın uzunluğunu döndür"
      ],
      "metadata": {
        "id": "bucDAYY4kurv",
        "colab": {
          "base_uri": "https://localhost:8080/"
        },
        "outputId": "dfdfccad-6cc5-4ab3-cc7c-ed04695f6b0f"
      },
      "execution_count": null,
      "outputs": [
        {
          "output_type": "execute_result",
          "data": {
            "text/plain": [
              "55"
            ]
          },
          "metadata": {},
          "execution_count": 69
        }
      ]
    },
    {
      "cell_type": "code",
      "source": [
        "# Eğitim veri setindeki maksimum cümle uzunluğu\n",
        "max(sent_lens)"
      ],
      "metadata": {
        "id": "e1fWyaeclVLl",
        "colab": {
          "base_uri": "https://localhost:8080/"
        },
        "outputId": "f69063ee-2f0a-407a-9250-6e938fc2d7ef"
      },
      "execution_count": null,
      "outputs": [
        {
          "output_type": "execute_result",
          "data": {
            "text/plain": [
              "296"
            ]
          },
          "metadata": {},
          "execution_count": 70
        }
      ]
    },
    {
      "cell_type": "markdown",
      "source": [
        "🔑 Not: Bir NLP sorunu için bir metin külliyatı ile çalışırken attığımız adımlar iyi bir uygulamadır. Numunelerinizin ne kadar uzun olduğunu ve bunların dağılımının ne olduğunu bilmek istiyorsunuz. Daha fazla örnek için bkz. bölüm 4 PubMed 200k RCT makalesinin Veri Analizi. https://arxiv.org/pdf/1710.06071"
      ],
      "metadata": {
        "id": "odqGm6Klm0vc"
      }
    },
    {
      "cell_type": "markdown",
      "source": [
        "### **3.4. Metin Vektörleştirme**"
      ],
      "metadata": {
        "id": "mMFoavzfj5Sr"
      }
    },
    {
      "cell_type": "markdown",
      "source": [
        "Metinleri sayıya dönüştürmeliyiz, TensorFlow'dan TextVectorization katmanını kullanmalıyız.\n",
        "\n",
        "Max_tokens (veri kümemizdeki benzersiz kelimelerin sayısı) ve output_sequence_length (her vektörleştirilmiş cümle için istediğimiz çıktı uzunluğu) hariç tüm parametreleri varsayılan tutacağız.\n",
        "\n",
        "PubMed 200k RCT makalesinin 3.2. Bölümü, PubMed 20k veri kümesinin kelime boyutunu 68.000 olarak belirtir. Yani bunu max_tokens parametremiz olarak kullanacağız. https://arxiv.org/pdf/1710.06071\n",
        "\n",
        "***Tokenization ile embedding arasındaki fark, embedding daha zengin bir temsildir. Örneğin embedding, eğitim verilerinden geçerken her kelime için üç boyutlu bir vektör oluşturulabilir. Tüm bu değerler, metnimizdeki kelimelerin modelimiz olarak birbirleriyle nasıl ilişkili olduğunu öğrenebilir.***\n",
        "\n",
        "***Tokenization, her kelime bir int rakam olabilir, one hot encoding ile 010, 100, 001 gibi matris olabilir. Embedingste 0-1 arası rakamlardan oluşan 3x3 matris oluşabilir.***"
      ],
      "metadata": {
        "id": "1CPRVK8em7f6"
      }
    },
    {
      "cell_type": "code",
      "source": [
        "# Kelime dağarcığımızda kaç kelime var? (doküman 3.2 in https://arxiv.org/pdf/1710.06071.pdf)\n",
        "max_tokens = 68000"
      ],
      "metadata": {
        "id": "mYkMj8Yrofcq"
      },
      "execution_count": null,
      "outputs": []
    },
    {
      "cell_type": "code",
      "source": [
        "# Metin vektörleştirici oluştur\n",
        "from tensorflow.keras.layers import TextVectorization\n",
        "\n",
        "text_vectorizer = TextVectorization(\n",
        "    max_tokens = max_tokens,       # kelime hazinesindeki kelime sayısı\n",
        "    output_sequence_length = 55    # vektörleştirilmiş dizilerin istenen çıktı uzunluğu\n",
        ")"
      ],
      "metadata": {
        "id": "GWdGp91Sos5n"
      },
      "execution_count": null,
      "outputs": []
    },
    {
      "cell_type": "markdown",
      "source": [
        "* Modelin eğitilmesi sırasında daha küçük max_tokens değerleri kullanmak, işlem gücünü azaltabilir ve eğitim süresini hızlandırabilir. Ancak, çok düşük bir max_tokens değeri, önemli kelimelerin kaybolmasına neden olabilir.\n",
        "* Yaygın olarak, max_tokens değeri 10,000 ile 50,000 arasında bir aralıkta seçilir, ancak bu sayılar veri setinizin büyüklüğüne bağlı olarak değişebilir.\n",
        "\n",
        "`max_tokens` Değerini Belirlemek için Yöntemler\n",
        "\n",
        "1. **Kelime Frekansına Dayalı Seçim**\n",
        "Bir yöntem, eğitim verinizdeki kelimelerin frekansını hesaplamak ve en sık kullanılan belirli sayıda kelimeyi seçmektir. Örneğin, `max_tokens`'ı eğitim setinizdeki en sık 10,000 kelimeye sınırlayabilirsiniz.\n",
        "\n",
        "```python\n",
        "from tensorflow.keras.layers import TextVectorization\n",
        "import numpy as np\n",
        "\n",
        "# Verinizin kelimelerini tokenize edin\n",
        "all_words = ' '.join(train_sentences)  # Tüm cümleleri birleştir\n",
        "word_list = all_words.split()  # Tüm kelimelere ayır\n",
        "\n",
        "# Kelime sıklığını hesapla\n",
        "word_counts = {word: word_list.count(word) for word in set(word_list)}\n",
        "\n",
        "# Kelime sıklığına göre en sık geçen 10,000 kelimeyi seç\n",
        "sorted_words = sorted(word_counts.items(), key=lambda x: x[1], reverse=True)\n",
        "most_common_words = sorted_words[:10000]\n",
        "\n",
        "# max_tokens olarak en sık geçen kelimeler sayısını belirleyebilirsiniz\n",
        "max_tokens = len(most_common_words)\n",
        "```\n",
        "\n",
        "2. **Veri Setindeki Kelimeleri Sayarak**\n",
        "Veri setindeki kelimeleri sayarak doğrudan `max_tokens` değerini hesaplayabilirsiniz. Örneğin, toplamda kaç farklı kelime olduğunu bulabilir ve bunun bir yüzdesi olarak `max_tokens` belirleyebilirsiniz.\n",
        "\n",
        "```python\n",
        "from collections import Counter\n",
        "\n",
        "# Tüm metni birleştir\n",
        "all_words = ' '.join(train_sentences)\n",
        "words = all_words.split()\n",
        "\n",
        "# Kelime sayısını ve farklı kelimelerin sayısını hesapla\n",
        "word_counts = Counter(words)\n",
        "unique_words = len(word_counts)\n",
        "\n",
        "# `max_tokens`'ı veri setindeki benzersiz kelimelerin sayısına göre belirleyebilirsiniz\n",
        "max_tokens = unique_words  # Örneğin tüm benzersiz kelimeler kullanılabilir\n",
        "```\n",
        "\n",
        "3. **Pratik Bir Yaklaşım**\n",
        "Eğer elinizde büyük bir veri seti varsa ve fazla işlem gücü harcamak istemiyorsanız, genel bir yaklaşım olarak `max_tokens`'ı 10,000 ile 50,000 arasında seçebilirsiniz. Bu, çoğu metin sınıflandırma modelinde yeterince iyi bir başlangıç noktasıdır.\n",
        "\n",
        "```python\n",
        "# Örnek olarak max_tokens değeri\n",
        "max_tokens = 10000  # veya 5000, 20000 gibi\n",
        "```"
      ],
      "metadata": {
        "id": "4vrysMFvAM1u"
      }
    },
    {
      "cell_type": "markdown",
      "source": [
        "Şimdi metin vektörleştiriciyi eğitim verilerine uyarlayalım (eğitim verilerini okusun ve hangi sayının hangi kelimeyi temsil etmesi gerektiğini bulsun) ve ardından test edelim.\n",
        "\n",
        "Bunu test verilerindeki doğrulamaya uyarlarsak, bu veri kümelerinin görünmemesi amaçlanmıştır. Böylece eğitim verilerine uyum sağladık ve daha sonra doğrulama ve test verilerimize sığdırabiliriz."
      ],
      "metadata": {
        "id": "0G4PpWq1pb5z"
      }
    },
    {
      "cell_type": "code",
      "source": [
        "# Metin vektörleştiricisini eğitim cümlelerine uyarlayın\n",
        "text_vectorizer.adapt(train_sentences)"
      ],
      "metadata": {
        "id": "GAQ1JD5Tp-BE"
      },
      "execution_count": null,
      "outputs": []
    },
    {
      "cell_type": "code",
      "source": [
        "# Metin vektörleştiricisini test edin\n",
        "import random\n",
        "target_sentence = random.choice(train_sentences)\n",
        "print(f\"Metin:\\n{target_sentence}\")\n",
        "print(f\"\\nMetin Uzunluğu: {len(target_sentence.split())}\")\n",
        "print(f\"\\nVektörleşmiş Metin:\\n{text_vectorizer([target_sentence])}\")"
      ],
      "metadata": {
        "id": "WJ6zlnhAp97F",
        "colab": {
          "base_uri": "https://localhost:8080/"
        },
        "outputId": "15161be2-b3c6-478b-abab-8ba1ec8650c3"
      },
      "execution_count": null,
      "outputs": [
        {
          "output_type": "stream",
          "name": "stdout",
          "text": [
            "Metin:\n",
            "among accord lipid trial participants , the occurrence of extremely low hdl-c ever during study follow-up was @ % higher among those randomized to fenofibrate ( @ % fenofibrate vs. @ % placebo , p < @ ) .\n",
            "\n",
            "Metin Uzunluğu: 39\n",
            "\n",
            "Vektörleşmiş Metin:\n",
            "[[ 116 9495  864   32   60    2 1066    4 3945  220 2784 6099   52   17\n",
            "    94   10   82  116  125   29    6 7078 7078   44   48   14    0    0\n",
            "     0    0    0    0    0    0    0    0    0    0    0    0    0    0\n",
            "     0    0    0    0    0    0    0    0    0    0    0    0    0]]\n"
          ]
        }
      ]
    },
    {
      "cell_type": "code",
      "source": [
        "# Eğitim sözlüğümüzde kaç kelime var?\n",
        "rct_20k_text_vocab = text_vectorizer.get_vocabulary()\n",
        "print(f\"Sözlükteki kelime sayısı: {len(rct_20k_text_vocab)}\"),\n",
        "print(f\"Sözlükteki en çok tekrar eden kelime: {rct_20k_text_vocab[:5]}\")\n",
        "print(f\"Sözlükte en az tekrar eden kelime: {rct_20k_text_vocab[-5:]}\")"
      ],
      "metadata": {
        "id": "Lz_ELzw4p92Q",
        "colab": {
          "base_uri": "https://localhost:8080/"
        },
        "outputId": "e154565c-ae04-4f5b-cf5c-4767ce675312"
      },
      "execution_count": null,
      "outputs": [
        {
          "output_type": "stream",
          "name": "stdout",
          "text": [
            "Sözlükteki kelime sayısı: 64841\n",
            "Sözlükteki en çok tekrar eden kelime: ['', '[UNK]', 'the', 'and', 'of']\n",
            "Sözlükte en az tekrar eden kelime: ['aainduced', 'aaigroup', 'aachener', 'aachen', 'aaacp']\n"
          ]
        }
      ]
    },
    {
      "cell_type": "code",
      "source": [
        "# Metin vektörleştiricimizin yapılandırmasını edinin\n",
        "text_vectorizer.get_config()"
      ],
      "metadata": {
        "id": "i0GdDHHVp9xf",
        "colab": {
          "base_uri": "https://localhost:8080/"
        },
        "outputId": "d691713d-cd29-44ad-c910-fdc80a6c6af2"
      },
      "execution_count": null,
      "outputs": [
        {
          "output_type": "execute_result",
          "data": {
            "text/plain": [
              "{'name': 'text_vectorization_1',\n",
              " 'trainable': True,\n",
              " 'dtype': {'module': 'keras',\n",
              "  'class_name': 'DTypePolicy',\n",
              "  'config': {'name': 'float32'},\n",
              "  'registered_name': None},\n",
              " 'max_tokens': 68000,\n",
              " 'standardize': 'lower_and_strip_punctuation',\n",
              " 'split': 'whitespace',\n",
              " 'ngrams': None,\n",
              " 'output_mode': 'int',\n",
              " 'output_sequence_length': 55,\n",
              " 'pad_to_max_tokens': False,\n",
              " 'sparse': False,\n",
              " 'ragged': False,\n",
              " 'vocabulary': None,\n",
              " 'idf_weights': None,\n",
              " 'encoding': 'utf-8',\n",
              " 'vocabulary_size': 64841}"
            ]
          },
          "metadata": {},
          "execution_count": 76
        }
      ]
    },
    {
      "cell_type": "markdown",
      "source": [
        "### **3.5. Gömme Hazırlama**"
      ],
      "metadata": {
        "id": "UYpH9jrvj5Qd"
      }
    },
    {
      "cell_type": "markdown",
      "source": [
        "Belirteç_vektörleştirme katmanımız, metnimizdeki kelimeleri doğrudan sayılarla eşler. Ancak, bu mutlaka bu sayılar arasındaki ilişkileri yakalamaz.\n",
        "\n",
        "Metnimizin daha zengin bir sayısal temsilini oluşturmak için bir gömme kullanabiliriz. https://www.tensorflow.org/text/guide/word_embeddings?hl=tr\n",
        "\n",
        "Modelimiz öğrendikçe (birçok farklı soyut cümle örneğini ve etiketlerini gözden geçirerek), külliyatımızdaki belirteçler arasındaki ilişkileri daha iyi temsil etmek için gömmesini güncelleyecektir.\n",
        "\n",
        "TensorFlow'un Gömme katmanını kullanarak eğitilebilir bir gömme katmanı oluşturabiliriz.\n",
        "\n",
        "Bir kez daha, burada ilgilendiğimiz ana parametreler, Gömme katmanımızın giriş ve çıkışlarıdır.\n",
        "\n",
        "Input_dim parametresi kelime dağarcığımızın boyutunu tanımlar. Ve output_dim parametresi, gömme çıktısının boyutunu tanımlar.\n",
        "\n",
        "Bir kez oluşturulduktan sonra, gömme katmanımız text_vectorization katmanımızın tamsayı çıktılarını girdi olarak alacak ve bunları output_dim boyutu vektörlerine dönüştürecektir."
      ],
      "metadata": {
        "id": "lG8pzvdLrVNH"
      }
    },
    {
      "cell_type": "markdown",
      "source": [
        "**Genel Notlar**\n",
        "- output dim --> 32,64, 128'in gibi 8'in katları olmalı.\n",
        "- Her ne kadar büyük gömülürse modelin eğitmesi gereken parametre sayısı o kadar fazla olur.\n",
        "- mask_zero: Boolean değerdir. input_value=0. Özel bir padding. RNN kullanımı çeşitli uzunlukta giriş verileri kullanılırken elverişlidir. Eğer true ise modeldeki tüm subsequent katmanlar maskelenmeli. Daha verimli hesaplama için TRUE olmalı.\n",
        "- Çıktıyı incele, çok sıfır var o zaman verimli bir model (one_hot benzeri).\n",
        "- token_embeding --> Token yerleştirme katmanına herhangi bir şey aktarmadan önce bunun sayısal biçimde olması gerekli.\n",
        "- Gömülü cümle şeklinde her bir dizi uzunluğunda rakamlardan 55 adet var her biri 128 vektör uzunluğunda."
      ],
      "metadata": {
        "id": "4ERZ1fBqtMPA"
      }
    },
    {
      "cell_type": "code",
      "source": [
        "# Gömme katmanı oluştur (aslında input_dim ve output_dim yeterli, listeyi uzatadabilirsin)\n",
        "token_embed = layers.Embedding(\n",
        "    input_dim = len(rct_20k_text_vocab), # kelime uzunluğu\n",
        "    output_dim = 128,                    # farklı yerleştirme boyutları, eğitilecek parametrelerin büyük ölçüde farklı olmasına neden olur\n",
        "    mask_zero = True,                    # Değişken dizi uzunluklarını işlemek için maskelemeyi kullanın (yerden tasarruf edin)\n",
        "    name = \"token_embedding\"\n",
        ")\n",
        "\n",
        "# Örnek gömmelerin gösterimi\n",
        "print(f\"Vektörleşme öncesi cümleler:\\n{target_sentence}\\n\")\n",
        "\n",
        "vectorized_sentence = text_vectorizer([target_sentence])\n",
        "print(f\"Vektörleşme sonrası cümle (gömme öncesi):\\n{vectorized_sentence}\\n\")\n",
        "\n",
        "embedded_sentence = token_embed(vectorized_sentence)\n",
        "print(f\"Gömme sonrası cümle:\\n{embedded_sentence}\\n\")\n",
        "print(f\"Gömülmüş cümle şekli: {embedded_sentence.shape}\")"
      ],
      "metadata": {
        "id": "SogevH0etatn",
        "colab": {
          "base_uri": "https://localhost:8080/"
        },
        "outputId": "6390db14-d741-4157-a6f3-32cf1c261911"
      },
      "execution_count": null,
      "outputs": [
        {
          "output_type": "stream",
          "name": "stdout",
          "text": [
            "Vektörleşme öncesi cümleler:\n",
            "among accord lipid trial participants , the occurrence of extremely low hdl-c ever during study follow-up was @ % higher among those randomized to fenofibrate ( @ % fenofibrate vs. @ % placebo , p < @ ) .\n",
            "\n",
            "Vektörleşme sonrası cümle (gömme öncesi):\n",
            "[[ 116 9495  864   32   60    2 1066    4 3945  220 2784 6099   52   17\n",
            "    94   10   82  116  125   29    6 7078 7078   44   48   14    0    0\n",
            "     0    0    0    0    0    0    0    0    0    0    0    0    0    0\n",
            "     0    0    0    0    0    0    0    0    0    0    0    0    0]]\n",
            "\n",
            "Gömme sonrası cümle:\n",
            "[[[ 0.0450269   0.03514195 -0.0080569  ...  0.00595022 -0.03892398\n",
            "    0.04339631]\n",
            "  [ 0.0489152   0.03578948  0.03945035 ... -0.03081435 -0.00316496\n",
            "    0.04754409]\n",
            "  [-0.00370265  0.04541652  0.04479161 ...  0.01556161  0.02524466\n",
            "    0.00633305]\n",
            "  ...\n",
            "  [-0.02776702 -0.03965263  0.04264294 ... -0.03421847  0.01198611\n",
            "   -0.02226293]\n",
            "  [-0.02776702 -0.03965263  0.04264294 ... -0.03421847  0.01198611\n",
            "   -0.02226293]\n",
            "  [-0.02776702 -0.03965263  0.04264294 ... -0.03421847  0.01198611\n",
            "   -0.02226293]]]\n",
            "\n",
            "Gömülmüş cümle şekli: (1, 55, 128)\n"
          ]
        }
      ]
    },
    {
      "cell_type": "markdown",
      "source": [
        "1. **`input_dim`**:\n",
        "   - **Tanım**: Gömme katmanına giren veri boyutunu belirtir. Bu, kelime veya token sayısına eşittir.\n",
        "   - **Özellik**: Burada `len(rct_20k_text_vocab)` değeri, kelime dağarcığındaki toplam kelime sayısını temsil eder.\n",
        "\n",
        "2. **`output_dim`**:\n",
        "   - **Tanım**: Gömme vektörlerinin boyutu. Yani, her token için kaç boyutlu bir vektör elde edileceğini belirtir.\n",
        "   - **Özellik**: Bu örnekte, her token için 64 boyutlu bir vektör kullanılacaktır.\n",
        "\n",
        "3. **`name`**:\n",
        "   - **Tanım**: Katmana bir isim verir. Bu genellikle modelin özelliklerini daha okunabilir hale getirmek için kullanılır.\n",
        "   - **Özellik**: Burada katmanın adı `token_embedding` olarak belirlenmiş.\n",
        "\n",
        "4. **`mask_zero`**:\n",
        "   - **Tanım**: Bu parametre, girişteki sıfırların (yani genellikle padding token'larının) göz ardı edilip edilmeyeceğini belirtir. Eğer `True` ise sıfır olan input değerleri maskelenir.\n",
        "   - **Özellik**: Bu durumda, sıfır olan değerler (padding) gömme katmanına dahil edilmez.\n",
        "\n",
        "5. **`input_length`**:\n",
        "   - **Tanım**: Gömme katmanına giren dizilerin uzunluğunu belirtir. Bu, giriş verisinin sabit bir uzunluğa sahip olduğunu varsayar.\n",
        "   - **Özellik**: Burada, her giriş dizisinin uzunluğu 55 olarak belirlenmiş.\n",
        "\n",
        "6. **`embeddings_initializer`**:\n",
        "   - **Tanım**: Gömme katmanındaki vektörlerin başlangıç değerlerini belirler. `uniform`, değerlerin küçük rastgele sayılarla başlatılacağı anlamına gelir.\n",
        "   - **Özellik**: Bu, genellikle ağırlıkların rastgele bir şekilde başlangıçta dağıtılması için kullanılır.\n",
        "\n",
        "7. **`trainable`**:\n",
        "   - **Tanım**: Gömme katmanının eğitilebilir olup olmadığını belirtir. Eğer `True` ise, gömme katmanındaki ağırlıklar (embedding vektörleri) eğitilebilir (yani öğrenilebilir).\n",
        "   - **Özellik**: Burada, gömme katmanı eğitilebilir olarak ayarlanmış.\n",
        "\n",
        "8. **`activity_regularizer`**:\n",
        "   - **Tanım**: Aktivite düzenleyici, katmanın çıktılarına uygulanan bir L2 ceza terimidir. Modelin daha az kompleks olmasını sağlamak için kullanılır.\n",
        "   - **Özellik**: Bu, gömme katmanının çıktısına L2 ceza uygulanacağını belirtir.\n",
        "\n",
        "9. **`embeddings_regularizer`**:\n",
        "   - **Tanım**: Gömme katmanının ağırlıklarına uygulanan düzenleyicidir. Bu da L2 ceza terimi kullanarak ağırlıkların büyüklüğünü sınırlamaya yardımcı olur.\n",
        "   - **Özellik**: Bu, gömme vektörlerinin regularizasyonu için L2 ceza uygulanır.\n",
        "\n",
        "10. **`update_embedding`**:\n",
        "    - **Tanım**: Bu parametre TensorFlow'un eski sürümlerinde kullanılabilir. Günümüzde bu parametre yerine `trainable=True` tercih edilmektedir.\n",
        "    - **Özellik**: Bu, gömme katmanının ağırlıklarının güncellenip güncellenmeyeceğini kontrol eder. Ancak bu parametre artık yaygın olarak kullanılmaz.\n",
        "\n",
        "11. **`input_shape`**:\n",
        "    - **Tanım**: Katman için giriş verisinin şekli. Burada `(None, 55)` kullanılmış; `None` giriş batch boyutunun dinamik olduğunu belirtir, `55` ise her dizinin uzunluğunu belirtir.\n",
        "\n",
        "12. **`dtype`**:\n",
        "    - **Tanım**: Katmandaki verinin veri türünü belirtir. Genellikle `float32` kullanılır.\n",
        "    - **Özellik**: Burada, veri türü olarak `float32` belirtilmiş.\n",
        "\n",
        "---\n",
        "\n",
        "- **`mask_zero=True`**: Eğer padding yapıyorsanız, sıfırların maskelenmesi önemli olabilir.\n",
        "- **`embeddings_initializer`** ve **`trainable=True`**: Gömme katmanlarının başlangıçta rastgele başlatılmasını ve eğitilebilir olmasını istiyorsanız bunları kullanabilirsiniz.\n",
        "- **`activity_regularizer`** ve **`embeddings_regularizer`**: Eğer overfitting'i engellemek için düzenleme (regularization) yapmak istiyorsanız bu parametreleri kullanabilirsiniz."
      ],
      "metadata": {
        "id": "75OSI68AvunB"
      }
    },
    {
      "cell_type": "markdown",
      "source": [
        "### **3.6. Veri Kümelerini hazırlama**"
      ],
      "metadata": {
        "id": "i1OzQJ3Nj5HZ"
      }
    },
    {
      "cell_type": "markdown",
      "source": [
        "Bir makine öğrenimi modeliyle kullanılmak üzere veri kümelerimizi önceden işleme zahmetini yaşadık, ancak modellerimizle daha hızlı çalışmasını sağlamak için kullanabileceğimiz birkaç adım var.\n",
        "\n",
        "Yani, tf.data API, daha hızlı veri yüklemesini sağlayan yöntemler sağlar.\n",
        "\n",
        "📖 Kaynak: TensorFlow'da veri yüklemeyle ilgili en iyi uygulamalar için aşağıdakilere göz atın:\n",
        "\n",
        "- tf.data: TensorFlow giriş boru hatları oluşturun https://www.tensorflow.org/guide/data?hl=tr\n",
        "\n",
        "- tf.data API ile daha iyi performans https://www.tensorflow.org/guide/data_performance?hl=tr\n",
        "\n",
        "Verilerimizle kullanmak isteyeceğimiz ana adımlar, onu bir PrefetchDataset gruplarına dönüştürmektir.\n",
        "\n",
        "Bunu yaparak TensorFlow'un verilerimizi GPU'ya mümkün olduğunca hızlı bir şekilde yüklemesini ve daha hızlı eğitim süresine yol açmasını sağlayacağız.\n",
        "\n",
        "Toplu bir PrefetchDataset oluşturmak için batch() ve prefetch() yöntemlerini kullanabiliriz, tf.data.AUTOTUNE parametresi ayrıca TensorFlow'un veri kümelerini hazırlamak için kullanılacak en uygun işlem miktarını belirlemesine izin verecektir.\n",
        "\n",
        "* https://www.tensorflow.org/api_docs/python/tf/data/Dataset#batch\n",
        "* https://www.tensorflow.org/api_docs/python/tf/data/Dataset#prefetch\n",
        "* https://www.tensorflow.org/api_docs/python/tf/data#AUTOTUNE"
      ],
      "metadata": {
        "id": "KKq_Uw1-waSD"
      }
    },
    {
      "cell_type": "code",
      "source": [
        "# Verilerimizi TensorFlow Veri Kümelerine dönüştürün\n",
        "train_dataset = tf.data.Dataset.from_tensor_slices((train_sentences, train_labels_one_hot))\n",
        "valid_dataset = tf.data.Dataset.from_tensor_slices((val_sentences, val_labels_one_hot))\n",
        "test_dataset = tf.data.Dataset.from_tensor_slices((test_sentences, test_labels_one_hot))\n",
        "\n",
        "train_dataset\n",
        "\n",
        "# Hepsi etiket dizesidir.\n",
        "# Eğitim veri seti, veri setini dilimleme eğilimindedir. Yani artık test veri kümelerindeki eğitim doğrulamalarındaki örneklerin her biri artık veri kümelerini dilimleme eğiliminde\n",
        "# Çıktıdaki şekil (None, (5)) tuple tarzındadır. One hot eğitim verisi bir üst şekli etiketler"
      ],
      "metadata": {
        "id": "iyH936Vcw_u-",
        "colab": {
          "base_uri": "https://localhost:8080/"
        },
        "outputId": "178cac1e-4a02-459d-e8d1-ec2188436407"
      },
      "execution_count": null,
      "outputs": [
        {
          "output_type": "execute_result",
          "data": {
            "text/plain": [
              "<_TensorSliceDataset element_spec=(TensorSpec(shape=(), dtype=tf.string, name=None), TensorSpec(shape=(5,), dtype=tf.float64, name=None))>"
            ]
          },
          "metadata": {},
          "execution_count": 78
        }
      ]
    },
    {
      "cell_type": "markdown",
      "source": [
        "Bu kod, **TensorFlow veri kümesi (dataset)** oluşturma sürecini gösterir ve **TensorFlow'un `tf.data` API'si** kullanılarak verilerin model eğitimi için uygun bir formatta sunulmasını sağlar.\n",
        "\n",
        "```python\n",
        "train_dataset = tf.data.Dataset.from_tensor_slices((train_sentences, train_labels_one_hot))\n",
        "```\n",
        "\n",
        "- **`train_labels_one_hot`, eğitim, doğrulama ve test setlerindeki etiketlerin one-hot kodlanmış** haliyle temsil edilen değerlerdir. **One-hot kodlama**, her etiketin bir dizi elemanı olarak temsil edilmesini sağlar. Örneğin, 3 sınıflı bir problemde \"2. sınıf\" için `[0, 1, 0]` şeklinde bir kodlama yapılır.\n",
        "\n",
        "`tf.data.Dataset.from_tensor_slices()` Fonksiyonu:\n",
        "\n",
        "- **`from_tensor_slices()`**: Bu fonksiyon, **tensörler** veya **numpy dizileri** gibi veri yapılarını alır ve bunları **TensorFlow veri kümesine** dönüştürür. Her bir eleman (örneğin bir cümle veya etiket), verisetindeki bir **örnek** (sample) olur.\n",
        "  \n",
        "- Bu fonksiyonun temel amacı, verileri **efektif bir şekilde batch’lemek**, **karıştırmak (shuffle)**, **önceden işleme uygulamak** (örneğin, tokenize etmek) ve modelin eğitim sürecine uygun hale getirmektir.\n",
        "\n",
        "Örneğin:\n",
        "\n",
        "```python\n",
        "train_sentences = [\"Bu bir cümledir.\", \"Bu başka bir cümledir.\"]\n",
        "train_labels_one_hot = [[1, 0], [0, 1]]\n",
        "```\n",
        "\n",
        "Bu verileri `from_tensor_slices()` ile dönüştürdüğümüzde, her cümle ve etiket bir çift (sentence, label) olarak gruplanır ve verisetinin bir parçası haline gelir.\n",
        "\n",
        "```python\n",
        "train_dataset = tf.data.Dataset.from_tensor_slices((train_sentences, train_labels_one_hot))\n",
        "```\n",
        "\n",
        "Bu işlem, her cümle ve etiketin bir arada olduğu bir **`tf.data.Dataset`** nesnesi oluşturur. Bu nesne, eğitim süreci için daha sonra kullanılabilir.\n",
        "\n",
        "TensorFlow Veri Kümesi Nedir? Ne İşe Yarar?\n",
        "\n",
        "**TensorFlow Veri Kümesi (Dataset)**, büyük ve karmaşık veri kümelerinin **verimli bir şekilde** işlenmesine olanak tanır. Bu nesne, modelin eğitim sürecinde çeşitli işlevler sunar:\n",
        "\n",
        "1. **Veri Yükleme**: Büyük veri kümelerinin belleğe sığmayan kısımlarını verimli bir şekilde yükler.\n",
        "  \n",
        "2. **Batches (Gruplama)**: Verileri küçük gruplara ayırarak modelin her seferinde sadece bir kısmı ile çalışmasını sağlar. Bu, bellek kullanımını optimize eder.\n",
        "\n",
        "3. **Shuffle (Karıştırma)**: Eğitim verilerini karıştırarak, modelin sıralamadan bağımsız olarak öğrenmesini sağlar ve overfitting (aşırı öğrenme) riskini azaltır.\n",
        "\n",
        "4. **Prefetch (Önceden Yükleme)**: Veriler bir batch işlemi için hazır olduğunda, bir sonraki batch'in yüklenmesine başlar. Bu, CPU ve GPU arasında zaman kaybını azaltır ve modelin daha hızlı eğitilmesini sağlar.\n",
        "\n",
        "5. **Transformations (Dönüştürme)**: Veri üzerinde dönüşümler (örneğin, normalizasyon, augmentation, veri temizleme) yapabilirsiniz.\n",
        "\n",
        "Kullanımda Neden Gerekli?\n",
        "\n",
        "TensorFlow veri kümesi, veriyi **yüksek performansla işlemek** için çok önemlidir çünkü:\n",
        "\n",
        "- **Veri Akışını Yönetir**: `tf.data.Dataset`, veri setinin akışını yönetir ve veri üzerinde yapılan işlemleri (örneğin, batch'leme, karıştırma, dönüştürme) kolayca uygular.\n",
        "  \n",
        "- **Bellek Verimliliği**: Büyük veri kümeleriyle çalışırken, `Dataset` nesnesi belleğe tüm veriyi yüklemek yerine, veriyi parça parça işler ve belleği verimli kullanır.\n",
        "  \n",
        "- **Paralel İşlem**: TensorFlow, verisetini paralel işlem yapacak şekilde optimize edebilir, yani birden fazla iş parçacığıyla verileri işleyebilir. Bu, eğitim süresini hızlandırır.\n",
        "\n",
        "- **Pipelines (Veri Boru Hatları)**: `tf.data.Dataset` ile veriyi doğrudan modelle beslemeden önce bir dizi işlem (tokenization, padding, vb.) uygulayabilirsiniz. Bu işlemleri düzenli ve yapılandırılmış bir şekilde yapmanıza olanak tanır.\n",
        "\n",
        "---"
      ],
      "metadata": {
        "id": "fQIGWGp3y0hF"
      }
    },
    {
      "cell_type": "code",
      "source": [
        "# TensorSliceDataset'leri alın ve bunları önceden getirilmiş gruplara dönüştürün\n",
        "train_dataset = train_dataset.batch(32).prefetch(tf.data.AUTOTUNE)\n",
        "valid_dataset = valid_dataset.batch(32).prefetch(tf.data.AUTOTUNE)\n",
        "test_dataset = test_dataset.batch(32).prefetch(tf.data.AUTOTUNE)\n",
        "\n",
        "train_dataset"
      ],
      "metadata": {
        "id": "bcLnSjss0B9j",
        "colab": {
          "base_uri": "https://localhost:8080/"
        },
        "outputId": "a758bcae-fc31-4da1-cf82-9c28a1d32b41"
      },
      "execution_count": null,
      "outputs": [
        {
          "output_type": "execute_result",
          "data": {
            "text/plain": [
              "<_PrefetchDataset element_spec=(TensorSpec(shape=(None,), dtype=tf.string, name=None), TensorSpec(shape=(None, 5), dtype=tf.float64, name=None))>"
            ]
          },
          "metadata": {},
          "execution_count": 79
        }
      ]
    },
    {
      "cell_type": "markdown",
      "source": [
        "Bu kod, daha önce oluşturduğunuz **`train_dataset`, `valid_dataset`,** ve **`test_dataset`** veri kümelerine iki önemli işlem uygular: **batch'leme** ve **prefetching**. Bu işlemler, eğitim sürecini daha verimli hale getirmek ve sistem kaynaklarını optimize etmek için kullanılır.\n",
        "\n",
        "```python\n",
        "train_dataset = train_dataset.batch(32).prefetch(tf.data.AUTOTUNE)\n",
        "```\n",
        "1. **Batch'leme (`batch(32)`)**\n",
        "- **`batch(32)`**: Bu, veri kümesindeki verileri küçük gruplara (batch'lere) ayırır. Buradaki `32`, her batch'teki örnek sayısını belirtir. Yani, model her seferinde **32 örneği** (cümleyi, resimleri, vb.) aynı anda işler. Bu, eğitim sırasında işlem verimliliğini artırır ve aynı zamanda GPU'nun paralel işlem kapasitesinden daha fazla yararlanmanıza yardımcı olur.\n",
        "  \n",
        "  - **Batch'leme** avantajları:\n",
        "    - Eğitimde veri kümelerini daha küçük parçalara ayırarak belleği verimli kullanır.\n",
        "    - Modelin her bir batch için daha verimli bir şekilde optimizasyon yapmasını sağlar.\n",
        "    - Hesaplamalar üzerinde paralellik sağlanarak daha hızlı eğitim yapılmasını sağlar.\n",
        "\n",
        "  Örneğin, eğer veri kümeniz 1000 örnekten oluşuyorsa ve batch boyutunu 32 olarak belirlediyseniz, eğitim sürecinde model 1000 örneği işlemek yerine, 32'lik batch'ler halinde çalışacak ve toplamda 32 batch ile tüm veriyi işleyecektir.\n",
        "\n",
        "2. **Prefetching (`prefetch(tf.data.AUTOTUNE)`)**\n",
        "- **`prefetch(tf.data.AUTOTUNE)`**: Prefetching, verinin eğitim sırasında önceden yüklenmesini sağlayarak eğitim sürecinin hızlanmasına yardımcı olur. Bu, verilerin **GPU'nun veya işlemcinin** boşta olduğu zamanlarda yüklenmesini sağlar. Böylece model veriyi işlerken bir sonraki batch'in verileri, işlemci veya GPU tarafından işlenmeden önce yüklenmiş olur.\n",
        "\n",
        "  - **`AUTOTUNE`**: `AUTOTUNE`, TensorFlow'a, verinin ne kadar hızlı yüklenmesi gerektiğini **otomatik olarak** ayarlamasını söyleyen bir mekanizmadır. Bu, TensorFlow'un veriyi yüklerken ve işlerken en verimli yolu bulmasını sağlar.\n",
        "  \n",
        "  - **Prefetching** avantajları:\n",
        "    - Eğitim sırasında veri yükleme süresi minimize edilir.\n",
        "    - CPU ve GPU arasındaki boşluklar doldurulur ve paralel işlem yapılabilir, böylece eğitim hızlanır.\n",
        "    - Verinin eğitim sırasında daha hızlı ve verimli bir şekilde sunulmasını sağlar.\n",
        "\n",
        "---\n",
        "\n",
        "Neden Bunlar Kullanılıyor?\n",
        "\n",
        "1. **Veri Akışı ve Bellek Yönetimi**:\n",
        "   - Eğitim sırasında veri kümeleri genellikle çok büyük olabilir. `batch(32)` kullanmak, verileri küçük parçalara ayırarak belleği daha verimli kullanır. Ayrıca, her batch ile ayrı ayrı çalışmak, daha iyi eğitim sağlar.\n",
        "   - `prefetch(tf.data.AUTOTUNE)` ile, verinin yüklenmesi sırasında modelin eğitimi devam eder. Bu, **I/O (Input/Output) gecikmelerini** azaltarak eğitim sürecini hızlandırır.\n",
        "\n",
        "2. **Paralel İşlem**:\n",
        "   - Bu iki işlem, veriyi paralel olarak yükler ve işler, yani CPU ve GPU arasındaki etkileşim daha verimli hale gelir. GPU'nun işlediği veriler yüklenirken, CPU bir sonraki batch'i hazırlamaya devam eder. Bu paralellik, eğitim süresini önemli ölçüde kısaltabilir.\n",
        "\n",
        "### Örnek Senaryo:\n",
        "\n",
        "Eğer `train_dataset`'inizde 1000 örnek varsa ve batch boyutunu 32 olarak belirlediyseniz, aşağıdaki işlemler gerçekleşir:\n",
        "\n",
        "1. Model, ilk batch (32 örnek) ile eğitim yapmaya başlar.\n",
        "2. Aynı anda, **bir sonraki batch** (32 örnek) **GPU'nun boşta olduğu zamanlarda** CPU tarafından yüklenir.\n",
        "3. İlk batch işlemi tamamlandığında, model ikinci batch'e geçer ve aynı süreç devam eder.\n",
        "   \n",
        "Bu sayede **verinin hazırlanması** ile **modelin eğitilmesi** paralel hale gelir ve eğitim süreci daha hızlı ilerler."
      ],
      "metadata": {
        "id": "J6tgohcg0UYu"
      }
    },
    {
      "cell_type": "markdown",
      "source": [
        "### **3.7. Kelime Düzeyinde Conv1D İle Modelleme ve Değerlendirme**"
      ],
      "metadata": {
        "id": "fqb4KprBj5FJ"
      }
    },
    {
      "cell_type": "markdown",
      "source": [
        "Tüm derin modellerimiz benzer bir yapı izleyecektir:\n",
        "\n",
        "Input (text) -> Tokenize -> Embedding -> Layers -> Output (label probability)\n",
        "\n",
        "Baştan sona değiştireceğimiz ana bileşen Katmanlar bileşenidir. Çünkü herhangi bir modern derin NLP modeli, içinde anlamlı kalıplar keşfedilmeden önce metnin bir gömmeye dönüştürülmesini gerektirir.\n",
        "\n",
        "İnşa edeceğimiz ilk model, 1 boyutlu bir Evrişimli Sinir Ağıdır."
      ],
      "metadata": {
        "id": "IZmzYQSf03g6"
      }
    },
    {
      "cell_type": "code",
      "source": [
        "%%time\n",
        "# Dizileri işlemek için 1 boyutlu evrişimli model oluşturun\n",
        "inputs = layers.Input(shape = (1,), dtype = tf.string)\n",
        "text_vectors = text_vectorizer(inputs)\n",
        "token_embeddings = token_embed(text_vectors)\n",
        "x = layers.Conv1D(64, kernel_size = 5, padding = \"same\", activation = \"relu\")(token_embeddings)\n",
        "x = layers.GlobalAveragePooling1D()(x)  # özellik vektörümüzün çıktısını yoğunlaştırın\n",
        "outputs = layers.Dense(num_classes, activation = \"softmax\")(x)\n",
        "model_1 = tf.keras.Model(inputs, outputs)\n",
        "\n",
        "# Modelin derlenmesi\n",
        "model_1.compile(\n",
        "    loss = \"categorical_crossentropy\", # eğer etiketleriniz tamsayı biçimindeyse (tek bir sıcak değil) sparse_categorical_crossentropy kullanın\n",
        "    optimizer = tf.keras.optimizers.Adam(),\n",
        "    metrics = [\"accuracy\"]\n",
        ")\n",
        "\n",
        "# Modelin uydurulması\n",
        "model_1_history = model_1.fit(\n",
        "    train_dataset,\n",
        "    steps_per_epoch = int(0.1 * len(train_dataset)),  # daha hızlı eğitim süresi için partilerin yalnızca %10'una sığdır\n",
        "    epochs = 5,\n",
        "    validation_data = valid_dataset,\n",
        "    validation_steps = int(0.1 * len(valid_dataset))  # grupların yalnızca %10'unu doğrulayın\n",
        ")\n",
        "\n",
        "# Model özeti\n",
        "model_1.summary()"
      ],
      "metadata": {
        "id": "YCjXH3pw3ACE",
        "colab": {
          "base_uri": "https://localhost:8080/",
          "height": 627
        },
        "outputId": "f5365342-f437-4a1e-a8bc-8aa1140f069a"
      },
      "execution_count": null,
      "outputs": [
        {
          "output_type": "stream",
          "name": "stdout",
          "text": [
            "Epoch 1/5\n"
          ]
        },
        {
          "output_type": "stream",
          "name": "stderr",
          "text": [
            "/usr/local/lib/python3.10/dist-packages/keras/src/layers/layer.py:934: UserWarning: Layer 'conv1d_2' (of type Conv1D) was passed an input with a mask attached to it. However, this layer does not support masking and will therefore destroy the mask information. Downstream layers will not see the mask.\n",
            "  warnings.warn(\n"
          ]
        },
        {
          "output_type": "stream",
          "name": "stdout",
          "text": [
            "\u001b[1m562/562\u001b[0m \u001b[32m━━━━━━━━━━━━━━━━━━━━\u001b[0m\u001b[37m\u001b[0m \u001b[1m9s\u001b[0m 10ms/step - accuracy: 0.5246 - loss: 1.1679 - val_accuracy: 0.7434 - val_loss: 0.6891\n",
            "Epoch 2/5\n",
            "\u001b[1m562/562\u001b[0m \u001b[32m━━━━━━━━━━━━━━━━━━━━\u001b[0m\u001b[37m\u001b[0m \u001b[1m5s\u001b[0m 9ms/step - accuracy: 0.7473 - loss: 0.6815 - val_accuracy: 0.7733 - val_loss: 0.6248\n",
            "Epoch 3/5\n",
            "\u001b[1m562/562\u001b[0m \u001b[32m━━━━━━━━━━━━━━━━━━━━\u001b[0m\u001b[37m\u001b[0m \u001b[1m5s\u001b[0m 10ms/step - accuracy: 0.7705 - loss: 0.6218 - val_accuracy: 0.7886 - val_loss: 0.5906\n",
            "Epoch 4/5\n",
            "\u001b[1m562/562\u001b[0m \u001b[32m━━━━━━━━━━━━━━━━━━━━\u001b[0m\u001b[37m\u001b[0m \u001b[1m5s\u001b[0m 9ms/step - accuracy: 0.7861 - loss: 0.5952 - val_accuracy: 0.8022 - val_loss: 0.5655\n",
            "Epoch 5/5\n",
            "\u001b[1m562/562\u001b[0m \u001b[32m━━━━━━━━━━━━━━━━━━━━\u001b[0m\u001b[37m\u001b[0m \u001b[1m5s\u001b[0m 9ms/step - accuracy: 0.7905 - loss: 0.5868 - val_accuracy: 0.7955 - val_loss: 0.5651\n"
          ]
        },
        {
          "output_type": "display_data",
          "data": {
            "text/plain": [
              "\u001b[1mModel: \"functional\"\u001b[0m\n"
            ],
            "text/html": [
              "<pre style=\"white-space:pre;overflow-x:auto;line-height:normal;font-family:Menlo,'DejaVu Sans Mono',consolas,'Courier New',monospace\"><span style=\"font-weight: bold\">Model: \"functional\"</span>\n",
              "</pre>\n"
            ]
          },
          "metadata": {}
        },
        {
          "output_type": "display_data",
          "data": {
            "text/plain": [
              "┏━━━━━━━━━━━━━━━━━━━━━━━━━━━━━━━━━━━━━━┳━━━━━━━━━━━━━━━━━━━━━━━━━━━━━┳━━━━━━━━━━━━━━━━━┓\n",
              "┃\u001b[1m \u001b[0m\u001b[1mLayer (type)                        \u001b[0m\u001b[1m \u001b[0m┃\u001b[1m \u001b[0m\u001b[1mOutput Shape               \u001b[0m\u001b[1m \u001b[0m┃\u001b[1m \u001b[0m\u001b[1m        Param #\u001b[0m\u001b[1m \u001b[0m┃\n",
              "┡━━━━━━━━━━━━━━━━━━━━━━━━━━━━━━━━━━━━━━╇━━━━━━━━━━━━━━━━━━━━━━━━━━━━━╇━━━━━━━━━━━━━━━━━┩\n",
              "│ input_layer_2 (\u001b[38;5;33mInputLayer\u001b[0m)           │ (\u001b[38;5;45mNone\u001b[0m, \u001b[38;5;34m1\u001b[0m)                   │               \u001b[38;5;34m0\u001b[0m │\n",
              "├──────────────────────────────────────┼─────────────────────────────┼─────────────────┤\n",
              "│ text_vectorization_1                 │ (\u001b[38;5;45mNone\u001b[0m, \u001b[38;5;34m55\u001b[0m)                  │               \u001b[38;5;34m0\u001b[0m │\n",
              "│ (\u001b[38;5;33mTextVectorization\u001b[0m)                  │                             │                 │\n",
              "├──────────────────────────────────────┼─────────────────────────────┼─────────────────┤\n",
              "│ token_embedding (\u001b[38;5;33mEmbedding\u001b[0m)          │ (\u001b[38;5;45mNone\u001b[0m, \u001b[38;5;34m55\u001b[0m, \u001b[38;5;34m128\u001b[0m)             │       \u001b[38;5;34m8,299,648\u001b[0m │\n",
              "├──────────────────────────────────────┼─────────────────────────────┼─────────────────┤\n",
              "│ conv1d_2 (\u001b[38;5;33mConv1D\u001b[0m)                    │ (\u001b[38;5;45mNone\u001b[0m, \u001b[38;5;34m55\u001b[0m, \u001b[38;5;34m64\u001b[0m)              │          \u001b[38;5;34m41,024\u001b[0m │\n",
              "├──────────────────────────────────────┼─────────────────────────────┼─────────────────┤\n",
              "│ global_average_pooling1d_2           │ (\u001b[38;5;45mNone\u001b[0m, \u001b[38;5;34m64\u001b[0m)                  │               \u001b[38;5;34m0\u001b[0m │\n",
              "│ (\u001b[38;5;33mGlobalAveragePooling1D\u001b[0m)             │                             │                 │\n",
              "├──────────────────────────────────────┼─────────────────────────────┼─────────────────┤\n",
              "│ dense (\u001b[38;5;33mDense\u001b[0m)                        │ (\u001b[38;5;45mNone\u001b[0m, \u001b[38;5;34m5\u001b[0m)                   │             \u001b[38;5;34m325\u001b[0m │\n",
              "└──────────────────────────────────────┴─────────────────────────────┴─────────────────┘\n"
            ],
            "text/html": [
              "<pre style=\"white-space:pre;overflow-x:auto;line-height:normal;font-family:Menlo,'DejaVu Sans Mono',consolas,'Courier New',monospace\">┏━━━━━━━━━━━━━━━━━━━━━━━━━━━━━━━━━━━━━━┳━━━━━━━━━━━━━━━━━━━━━━━━━━━━━┳━━━━━━━━━━━━━━━━━┓\n",
              "┃<span style=\"font-weight: bold\"> Layer (type)                         </span>┃<span style=\"font-weight: bold\"> Output Shape                </span>┃<span style=\"font-weight: bold\">         Param # </span>┃\n",
              "┡━━━━━━━━━━━━━━━━━━━━━━━━━━━━━━━━━━━━━━╇━━━━━━━━━━━━━━━━━━━━━━━━━━━━━╇━━━━━━━━━━━━━━━━━┩\n",
              "│ input_layer_2 (<span style=\"color: #0087ff; text-decoration-color: #0087ff\">InputLayer</span>)           │ (<span style=\"color: #00d7ff; text-decoration-color: #00d7ff\">None</span>, <span style=\"color: #00af00; text-decoration-color: #00af00\">1</span>)                   │               <span style=\"color: #00af00; text-decoration-color: #00af00\">0</span> │\n",
              "├──────────────────────────────────────┼─────────────────────────────┼─────────────────┤\n",
              "│ text_vectorization_1                 │ (<span style=\"color: #00d7ff; text-decoration-color: #00d7ff\">None</span>, <span style=\"color: #00af00; text-decoration-color: #00af00\">55</span>)                  │               <span style=\"color: #00af00; text-decoration-color: #00af00\">0</span> │\n",
              "│ (<span style=\"color: #0087ff; text-decoration-color: #0087ff\">TextVectorization</span>)                  │                             │                 │\n",
              "├──────────────────────────────────────┼─────────────────────────────┼─────────────────┤\n",
              "│ token_embedding (<span style=\"color: #0087ff; text-decoration-color: #0087ff\">Embedding</span>)          │ (<span style=\"color: #00d7ff; text-decoration-color: #00d7ff\">None</span>, <span style=\"color: #00af00; text-decoration-color: #00af00\">55</span>, <span style=\"color: #00af00; text-decoration-color: #00af00\">128</span>)             │       <span style=\"color: #00af00; text-decoration-color: #00af00\">8,299,648</span> │\n",
              "├──────────────────────────────────────┼─────────────────────────────┼─────────────────┤\n",
              "│ conv1d_2 (<span style=\"color: #0087ff; text-decoration-color: #0087ff\">Conv1D</span>)                    │ (<span style=\"color: #00d7ff; text-decoration-color: #00d7ff\">None</span>, <span style=\"color: #00af00; text-decoration-color: #00af00\">55</span>, <span style=\"color: #00af00; text-decoration-color: #00af00\">64</span>)              │          <span style=\"color: #00af00; text-decoration-color: #00af00\">41,024</span> │\n",
              "├──────────────────────────────────────┼─────────────────────────────┼─────────────────┤\n",
              "│ global_average_pooling1d_2           │ (<span style=\"color: #00d7ff; text-decoration-color: #00d7ff\">None</span>, <span style=\"color: #00af00; text-decoration-color: #00af00\">64</span>)                  │               <span style=\"color: #00af00; text-decoration-color: #00af00\">0</span> │\n",
              "│ (<span style=\"color: #0087ff; text-decoration-color: #0087ff\">GlobalAveragePooling1D</span>)             │                             │                 │\n",
              "├──────────────────────────────────────┼─────────────────────────────┼─────────────────┤\n",
              "│ dense (<span style=\"color: #0087ff; text-decoration-color: #0087ff\">Dense</span>)                        │ (<span style=\"color: #00d7ff; text-decoration-color: #00d7ff\">None</span>, <span style=\"color: #00af00; text-decoration-color: #00af00\">5</span>)                   │             <span style=\"color: #00af00; text-decoration-color: #00af00\">325</span> │\n",
              "└──────────────────────────────────────┴─────────────────────────────┴─────────────────┘\n",
              "</pre>\n"
            ]
          },
          "metadata": {}
        },
        {
          "output_type": "display_data",
          "data": {
            "text/plain": [
              "\u001b[1m Total params: \u001b[0m\u001b[38;5;34m25,022,993\u001b[0m (95.46 MB)\n"
            ],
            "text/html": [
              "<pre style=\"white-space:pre;overflow-x:auto;line-height:normal;font-family:Menlo,'DejaVu Sans Mono',consolas,'Courier New',monospace\"><span style=\"font-weight: bold\"> Total params: </span><span style=\"color: #00af00; text-decoration-color: #00af00\">25,022,993</span> (95.46 MB)\n",
              "</pre>\n"
            ]
          },
          "metadata": {}
        },
        {
          "output_type": "display_data",
          "data": {
            "text/plain": [
              "\u001b[1m Trainable params: \u001b[0m\u001b[38;5;34m8,340,997\u001b[0m (31.82 MB)\n"
            ],
            "text/html": [
              "<pre style=\"white-space:pre;overflow-x:auto;line-height:normal;font-family:Menlo,'DejaVu Sans Mono',consolas,'Courier New',monospace\"><span style=\"font-weight: bold\"> Trainable params: </span><span style=\"color: #00af00; text-decoration-color: #00af00\">8,340,997</span> (31.82 MB)\n",
              "</pre>\n"
            ]
          },
          "metadata": {}
        },
        {
          "output_type": "display_data",
          "data": {
            "text/plain": [
              "\u001b[1m Non-trainable params: \u001b[0m\u001b[38;5;34m0\u001b[0m (0.00 B)\n"
            ],
            "text/html": [
              "<pre style=\"white-space:pre;overflow-x:auto;line-height:normal;font-family:Menlo,'DejaVu Sans Mono',consolas,'Courier New',monospace\"><span style=\"font-weight: bold\"> Non-trainable params: </span><span style=\"color: #00af00; text-decoration-color: #00af00\">0</span> (0.00 B)\n",
              "</pre>\n"
            ]
          },
          "metadata": {}
        },
        {
          "output_type": "display_data",
          "data": {
            "text/plain": [
              "\u001b[1m Optimizer params: \u001b[0m\u001b[38;5;34m16,681,996\u001b[0m (63.64 MB)\n"
            ],
            "text/html": [
              "<pre style=\"white-space:pre;overflow-x:auto;line-height:normal;font-family:Menlo,'DejaVu Sans Mono',consolas,'Courier New',monospace\"><span style=\"font-weight: bold\"> Optimizer params: </span><span style=\"color: #00af00; text-decoration-color: #00af00\">16,681,996</span> (63.64 MB)\n",
              "</pre>\n"
            ]
          },
          "metadata": {}
        },
        {
          "output_type": "stream",
          "name": "stdout",
          "text": [
            "CPU times: user 30.2 s, sys: 1.99 s, total: 32.2 s\n",
            "Wall time: 42.1 s\n"
          ]
        }
      ]
    },
    {
      "cell_type": "markdown",
      "source": [
        "Model özetini kontrol ederken, eğitilebilir parametrelerin çoğunun gömme katmanı içinde olduğunu fark edeceksiniz. Gömmenin boyutunu artıracak olsaydık (Gömme katmanının output_dim parametresini artırarak), eğitilebilir parametrelerin sayısı önemli ölçüde artardı.\n",
        "\n",
        "Eğitim verilerimiz yaklaşık 200.000 cümle içerdiğinden, bir GPU ile bile derin bir modele uyum biraz zaman alabilir. Bu nedenle, deneylerimizi hızlı tutmak için onları eğitim veri kümesinin bir alt kümesinde çalıştıracağız.\n",
        "\n",
        "Daha spesifik olarak, eğitilecek eğitim setinin yalnızca ilk %10'unu (yaklaşık 18.000 örnek) ve doğrulamak için doğrulama setindeki partilerin ilk %10'unu kullanacağız.\n",
        "\n",
        "🔑 Not: Modellerinizi daha büyük miktarda veriye ölçeklendirmeden önce çalıştıklarından emin olmak için önce daha küçük veri alt kümeleri üzerinde test etmek makine öğreniminde standart bir uygulamadır. Sadece bir avuç büyük deney yerine çok sayıda küçük deney yapmayı hedeflemelisiniz. Ve zamanınız sınırlı olduğundan, daha küçük deneyler yürütmenin en iyi yollarından biri, üzerinde çalıştığınız veri miktarını azaltmaktır (benzer bir dağılımı kapsadığı sürece, tam veri kümesinin %10'u genellikle iyi bir miktardır).\n",
        "\n",
        "- Veri kümesini zaten sığacak şekilde önceden biçimlendirmiştik.\n",
        "- Her dönem için adımların %10'unu atarız. Yani modelin partilerin yalnızca %10'una bakmasını istedik.\n",
        "- Hızlı yapmak için bunu yaptık. Sonuca bakıp hatanın nerede olduğunu anlamak için mümkün olduğunca baştan modeli kısa tuttuk. Denemeleri beş dk altında yapmaya çalıştık."
      ],
      "metadata": {
        "id": "XX2o4Q8I5dJk"
      }
    },
    {
      "cell_type": "markdown",
      "source": [
        "```python\n",
        "inputs = layers.Input(shape = (1,), dtype = tf.string)\n",
        "```\n",
        "\n",
        "- **`layers.Input()`**: Modelin giriş katmanını tanımlar.\n",
        "  - **`shape=(1,)`**: Giriş verisi bir **dizi** olacağı için, burada her örnek **tek bir metin dizisi** (string) olacaktır. Bu durumda her örnek, tek bir metin satırını (ya da cümleyi) temsil eder.\n",
        "  - **`dtype=tf.string`**: Giriş veri türü, metin verisi olduğu için `tf.string` olarak belirtilmiştir.\n",
        "\n",
        "Bu katman, modelin aldığı ilk veriyi tanımlar. Buradaki `shape=(1,)`, her giriş örneğinin **tek bir metin dizisi** olduğunu gösterir.\n",
        "\n",
        "---\n",
        "\n",
        "```python\n",
        "text_vectors = text_vectorizer(inputs)\n",
        "```\n",
        "\n",
        "- **`text_vectorizer`**: Bu, muhtemelen metni sayısal bir formata dönüştüren bir katmandır. Örneğin, metni **token'lar** veya **kelime gömme vektörleri** (word embeddings) gibi sayısal verilere dönüştüren bir katman olabilir.\n",
        "  - Bu katman, metin verisini **vektörlere** dönüştürür. Eğer `text_vectorizer` bir `TextVectorization` katmanı ise, metni tokenize edip sabit boyutlu sayısal vektörlere dönüştürür.\n",
        "\n",
        "---\n",
        "\n",
        "```python\n",
        "token_embeddings = token_embed(text_vectors)\n",
        "```\n",
        "\n",
        "- **`token_embed`**: Burada, **gömme (embedding)** katmanı kullanılarak, kelimeler ya da token'lar, sürekli (dense) vektörlere dönüştürülür.\n",
        "  - **`token_embed`** daha önce tanımladığınız gömme katmanıdır ve burada `text_vectors`'ı alır ve her token'ı sabit boyutlu bir vektöre dönüştürür (örneğin, 64 boyutlu).\n",
        "  \n",
        "---\n",
        "\n",
        "```python\n",
        "x = layers.Conv1D(64, kernel_size = 5, padding = \"same\", activation = \"relu\")(token_embeddings)\n",
        "```\n",
        "\n",
        "- **`Conv1D`**: 1D evrişimsel (convolutional) katman, metin verisiyle çalışırken, kelime veya token sırasındaki ilişkileri öğrenmek için kullanılır.\n",
        "  - **`64`**: Çıkış (feature) sayısıdır. Bu, katmandan çıkan her bir **özellik haritası** (feature map) sayısını belirtir.\n",
        "  - **`kernel_size=5`**: Evrişim için kullanılan çekirdek (kernel) boyutudur. Burada 5, her bir evrişim işleminde 5 token'lık bir pencere boyutunu ifade eder.\n",
        "  - **`padding=\"same\"`**: Çıktı uzunluğunun giriş uzunluğuna eşit olmasını sağlar (yani giriş ve çıkış boyutları eşit olur). Bu, **sıfır dolgusu (zero padding)** ekler.\n",
        "  - **`activation=\"relu\"`**: Aktivasyon fonksiyonu olarak **ReLU** (Rectified Linear Unit) kullanılır. ReLU, evrişimsel katmandan sonra doğrusal olmayan bir aktivasyon sağlar.\n",
        "\n",
        "Bu katman, metin verisindeki özellikleri öğrenmeye çalışır. Her token (veya token dizisi) üzerinde kaydırılarak (sliding window) evrişim yapılır ve metnin önemli özelliklerini çıkarır.\n",
        "\n",
        "---\n",
        "\n",
        "```python\n",
        "x = GlobalAveragePooling1D()(x)\n",
        "```\n",
        "\n",
        "- **`GlobalAveragePooling1D`**: Bu katman, **evrişimsel katman** çıktısını **yoğunlaştırarak** (sıkıştırarak) tek bir vektör haline getirir.\n",
        "  - 1D veride, her bir özellik haritasındaki tüm zaman adımlarının (token'lar) ortalamasını alır. Yani, evrişimsel katmandan çıkan her özellik haritası (feature map) üzerinde ortalama hesaplanır ve bu, her harita için bir değer verir.\n",
        "  - Bu işlem, modelin çıkışını daha küçük boyutlu bir **özellik vektörü** haline getirir, bu sayede modelin genel özelliklerini temsil eden bir vektör elde edilir.\n",
        "\n",
        "Global Average Pooling, **evrişimsel katmandan çıkan tüm özelliklerin** özetini alarak, modelin daha genel bir temsilini çıkarmaya yardımcı olur.\n",
        "\n",
        "---\n",
        "\n",
        "Tam Bağlantılı Katman:\n",
        "\n",
        "```python\n",
        "outputs = layers.Dense(num_classes, activation = \"softmax\")(x)\n",
        "```\n",
        "\n",
        "- **`Dense(num_classes, activation=\"softmax\")`**: Bu, son katmandır ve modelin **sınıflandırma** yapmasını sağlar.\n",
        "  - **`num_classes`**: Modelin tahmin edeceği sınıf sayısını belirtir. Örneğin, 3 sınıflı bir sınıflandırma problemi için `num_classes = 3`.\n",
        "  - **`activation=\"softmax\"`**: **Softmax aktivasyonu**, çok sınıflı sınıflandırma problemleri için yaygın olarak kullanılır. Çıktı, her sınıf için bir olasılık dağılımı döndürür ve tüm sınıfların olasılıkları 1'e eşit olur.\n",
        "\n",
        "Bu katman, modelin çıktısını oluşturur ve verilen giriş metni için hangi sınıfa ait olduğunu tahmin eder.\n",
        "\n",
        "---\n",
        "\n",
        "Modeli Tanımlama:\n",
        "\n",
        "```python\n",
        "model_1 = tf.keras.Model(inputs, outputs)\n",
        "```\n",
        "\n",
        "- **`tf.keras.Model()`**: Keras API'sinde, `inputs` ve `outputs` parametreleriyle modelin son halini oluşturur. Bu, modelin **giriş** ve **çıkış** katmanlarını belirler ve modelin tamamlanmasını sağlar.\n",
        "\n",
        "Özetle:\n",
        "\n",
        "Bu kod, bir **1D evrişimli model** oluşturur ve metin verisini sınıflandırmak için kullanılır. Adım adım açıklanacak olursak:\n",
        "\n",
        "1. **Giriş katmanı**: Metin verisini (string) alır.\n",
        "2. **Metin vektörlemesi**: `text_vectorizer` kullanılarak metin, sayısal verilere dönüştürülür.\n",
        "3. **Gömme katmanı**: `token_embed` ile kelimeler veya token'lar gömme (embedding) vektörlerine dönüştürülür.\n",
        "4. **Evrişim katmanı**: `Conv1D` ile metin üzerindeki önemli özellikler öğrenilir.\n",
        "5. **Global Average Pooling**: Evrişimsel katmanın çıkışını sıkıştırarak bir özet vektör elde edilir.\n",
        "6. **Yoğun (Dense) katman**: Son olarak, `softmax` aktivasyonu kullanılarak sınıflandırma yapılır.\n",
        "\n",
        "Sonuç olarak, bu model **metin verilerini** sınıflandırmak amacıyla 1D evrişim kullanarak öğrenme yapar."
      ],
      "metadata": {
        "id": "IqOsN9VH6zdl"
      }
    },
    {
      "cell_type": "markdown",
      "source": [
        "Keras'ta, modelleri oluşturmanın iki ana yolu vardır:\n",
        "\n",
        "1. **Dizisel API**: Bu, modelin katmanlarını sırayla ekleyerek inşa edilen, daha basit ve genellikle daha küçük modeller için uygundur. Bu model türü `Sequential()` sınıfı kullanılarak oluşturulur.\n",
        "   \n",
        "   Örnek:\n",
        "   ```python\n",
        "   model = tf.keras.Sequential([\n",
        "       layers.Input(shape=(1,), dtype=tf.string),\n",
        "       text_vectorizer,\n",
        "       token_embed,\n",
        "       layers.Conv1D(64, kernel_size=5, padding=\"same\", activation=\"relu\"),\n",
        "       layers.GlobalAveragePooling1D(),\n",
        "       layers.Dense(num_classes, activation=\"softmax\")\n",
        "   ])\n",
        "   ```\n",
        "\n",
        "2. **Fonksiyonel API**: Daha karmaşık, esnek ve modüler modeller oluşturmak için kullanılır. Katmanlar, girdi ve çıktı bağlantıları arasında doğrudan bağlantılar kurularak model tanımlanır. Fonksiyonel API ile daha karmaşık yapıdaki ağlar, paylaşılan katmanlar, çok girişli ve çok çıkışlı ağlar ve daha fazlası tasarlanabilir.\n",
        "\n",
        "Bu kodda **Fonksiyonel API** kullanılmış çünkü modelde daha esnek bir yapı tercih edilmiştir. Birden fazla girdi, çıktı, dallanma veya katman paylaşımı gibi işlemler yapılabilir. Ancak, burada sadece bir girdi ve bir çıktı olsa da, Fonksiyonel API daha modüler bir tasarım sağlar.\n",
        "\n",
        "**Fonksiyonel API'nin Temel Özellikleri**:\n",
        "- Girdi ve çıktı katmanları açıkça tanımlanır.\n",
        "- Katmanlar doğrudan birbirine bağlanır.\n",
        "- Katmanlar arasında dallanma yapılabilir (örneğin, bir girdi birden fazla katmana yönlendirilebilir veya bir katman birden fazla çıktı verebilir).\n",
        "- Modelin yapısı daha esnektir ve genellikle karmaşık mimariler için kullanılır.\n",
        "\n",
        "**Birinci x Katmanında Hangi Değişkenler Eklenebilirdi?**\n",
        "\n",
        "İlk **`x`** katmanı şu şekilde tanımlanmış:\n",
        "\n",
        "```python\n",
        "x = layers.Conv1D(64, kernel_size=5, padding=\"same\", activation=\"relu\")(token_embeddings)\n",
        "```\n",
        "\n",
        "İlk `Conv1D` katmanında eklenebilecek bazı değişkenler şunlar olabilir:\n",
        "\n",
        "- **`filters`**: Bu parametre, çıkış kanal sayısını belirtir. Yani, kaç tane konvolüsyonel filtre uygulanacağı. Burada `64` olarak verilmiş, ancak bu sayı arttırılabilir veya azaltılabilir. Örneğin, daha büyük bir modelde `128` veya `256` gibi değerler kullanılabilir.\n",
        "  \n",
        "- **`kernel_size`**: Konvolüsyonel filtrelerin boyutunu belirtir. Burada `5` olarak belirlenmiş, ancak daha büyük veya küçük bir kernel (`3`, `7`, `9`, vb.) seçilebilir. Kernel boyutunun büyüklüğü, modelin nasıl öğrenme yapacağını etkiler.\n",
        "\n",
        "- **`strides`**: Konvolüsyon işleminin adım boyutudur. Varsayılan olarak `1`'dir, ancak daha büyük bir değer (örneğin `2`) kullanarak daha büyük adımlarla özelliklerin çıkarılması sağlanabilir.\n",
        "\n",
        "- **`dilation_rate`**: Konvolüsyon filtresinin genişliği. Bu parametre, filtrelerin girdi üzerinde ne kadar geniş bir aralığa yayıldığını belirler. Eğer dilasyon kullanılırsa, daha geniş aralıklar üzerinden özellik çıkarımı yapılabilir.\n",
        "\n",
        "- **`activation`**: Burada `relu` aktivasyon fonksiyonu kullanılmış. Fakat başka aktivasyon fonksiyonları da kullanılabilir: `tanh`, `sigmoid`, `leaky_relu` vb.\n",
        "\n",
        "- **`use_bias`**: Bu parametre, konvolüsyonel katmanda bias (önyargı) terimi kullanılıp kullanılmayacağını belirler. Varsayılan olarak `True` olarak gelir, ancak `False` yapılabilir.\n",
        "\n",
        "- **`kernel_initializer` ve `bias_initializer`**: Katmanın ağırlıklarının ve bias terimlerinin başlangıç değerlerini belirleyebilirsiniz. Örneğin, `kernel_initializer='he_normal'` gibi.\n",
        "\n",
        "- **`trainable`**: Katmanın eğitilebilir olup olmadığına karar veririz. Burada varsayılan olarak tüm katmanlar eğitilebilir, ancak `trainable=False` yaparak bir katmanın eğitim sırasında güncellenmesini engelleyebilirsiniz.\n",
        "\n",
        "Örneğin:\n",
        "```python\n",
        "x = layers.Conv1D(\n",
        "    filters=128,\n",
        "    kernel_size=3,\n",
        "    padding=\"same\",\n",
        "    activation=\"relu\",\n",
        "    strides=1,\n",
        "    dilation_rate=1,\n",
        "    use_bias=True,\n",
        "    kernel_initializer='he_normal'\n",
        ")(token_embeddings)\n",
        "```"
      ],
      "metadata": {
        "id": "3Ueihj11CdTB"
      }
    },
    {
      "cell_type": "code",
      "source": [
        "# Doğrulama veri kümesinin tamamını değerlendirin (eğitim sırasında grupların yalnızca %10'unu doğruladık)\n",
        "model_1.evaluate(valid_dataset)"
      ],
      "metadata": {
        "id": "sjfkts8A5zf-",
        "colab": {
          "base_uri": "https://localhost:8080/"
        },
        "outputId": "10c54192-0107-4037-f423-bed704004d99"
      },
      "execution_count": null,
      "outputs": [
        {
          "output_type": "stream",
          "name": "stdout",
          "text": [
            "\u001b[1m945/945\u001b[0m \u001b[32m━━━━━━━━━━━━━━━━━━━━\u001b[0m\u001b[37m\u001b[0m \u001b[1m3s\u001b[0m 3ms/step - accuracy: 0.8012 - loss: 0.5583\n"
          ]
        },
        {
          "output_type": "execute_result",
          "data": {
            "text/plain": [
              "[0.5608068704605103, 0.800973117351532]"
            ]
          },
          "metadata": {},
          "execution_count": 81
        }
      ]
    },
    {
      "cell_type": "code",
      "source": [
        "# Tahminlerde bulunun (modelimiz her sınıf için tahmin olasılıklarının çıktısını verir)\n",
        "model_1_pred_probs = model_1.predict(valid_dataset)\n",
        "model_1_pred_probs[:10]\n",
        "\n",
        "# 5 çıkış nöronlu çıkış katmanını olduğuna dikkat!"
      ],
      "metadata": {
        "id": "8rTphKEQ5zZS",
        "colab": {
          "base_uri": "https://localhost:8080/"
        },
        "outputId": "8e88a23e-85b1-4c29-fb4a-bb873f54a60d"
      },
      "execution_count": null,
      "outputs": [
        {
          "output_type": "stream",
          "name": "stdout",
          "text": [
            "\u001b[1m945/945\u001b[0m \u001b[32m━━━━━━━━━━━━━━━━━━━━\u001b[0m\u001b[37m\u001b[0m \u001b[1m2s\u001b[0m 2ms/step\n"
          ]
        },
        {
          "output_type": "execute_result",
          "data": {
            "text/plain": [
              "array([[5.3424037e-01, 1.6922709e-01, 4.2627126e-02, 1.9663626e-01,\n",
              "        5.7269096e-02],\n",
              "       [4.1625068e-01, 3.8065371e-01, 2.2781698e-02, 1.4178574e-01,\n",
              "        3.8528230e-02],\n",
              "       [1.6555984e-01, 5.2355202e-03, 1.7712441e-03, 8.2736790e-01,\n",
              "        6.5479027e-05],\n",
              "       [3.3826491e-05, 1.9337595e-04, 9.9888712e-01, 8.3502484e-05,\n",
              "        8.0219854e-04],\n",
              "       [7.5173406e-03, 1.0930215e-01, 5.1702136e-01, 4.9837832e-03,\n",
              "        3.6117539e-01],\n",
              "       [1.6721189e-02, 2.0874046e-02, 6.7839271e-01, 7.6261815e-03,\n",
              "        2.7638587e-01],\n",
              "       [1.1944027e-03, 3.2180697e-03, 6.3765353e-01, 7.2400115e-04,\n",
              "        3.5720989e-01],\n",
              "       [4.7482975e-02, 4.4579227e-02, 5.4065734e-01, 2.0480020e-02,\n",
              "        3.4680042e-01],\n",
              "       [2.4076807e-10, 9.4810110e-07, 1.6741293e-06, 7.8157598e-11,\n",
              "        9.9999738e-01],\n",
              "       [1.0809563e-02, 7.8868288e-01, 8.0670901e-02, 3.5253469e-02,\n",
              "        8.4583230e-02]], dtype=float32)"
            ]
          },
          "metadata": {},
          "execution_count": 82
        }
      ]
    },
    {
      "cell_type": "code",
      "source": [
        "# Pred problarını sınıflara dönüştürün\n",
        "model_1_preds = tf.argmax(model_1_pred_probs, axis = 1)\n",
        "model_1_preds[:10] # her bir dizideki maks. değeri verir"
      ],
      "metadata": {
        "id": "UM8d1V5R5zTZ",
        "colab": {
          "base_uri": "https://localhost:8080/"
        },
        "outputId": "c84f003e-77eb-49ca-856b-c757e0a4131e"
      },
      "execution_count": null,
      "outputs": [
        {
          "output_type": "execute_result",
          "data": {
            "text/plain": [
              "<tf.Tensor: shape=(10,), dtype=int64, numpy=array([0, 0, 3, 2, 2, 2, 2, 2, 4, 1])>"
            ]
          },
          "metadata": {},
          "execution_count": 83
        }
      ]
    },
    {
      "cell_type": "markdown",
      "source": [
        "`tf.argmax()` fonksiyonu, TensorFlow'da, verilen tensördeki en büyük değeri bulur ve bu değerin **indeksini** döndürür. Bu, genellikle modelin tahminlerinde kullanılan ve **sınıflandırma** problemlerinde kullanılan bir fonksiyondur.\n",
        "\n",
        "1. **`model_1_pred_probs`**:\n",
        "   - Bu, modelin sınıflandırma tahminlerinin olasılıklarını içeren bir tensördür. Model, **softmax aktivasyonu** ile her sınıf için bir olasılık dağılımı döndürür. Örneğin, 3 sınıflı bir sınıflandırma problemi için modelin çıktısı şu şekilde olabilir:\n",
        "     ```python\n",
        "     model_1_pred_probs = [[0.1, 0.7, 0.2],\n",
        "                           [0.4, 0.4, 0.2],\n",
        "                           [0.9, 0.05, 0.05]]\n",
        "     ```\n",
        "     Burada, her satır bir örneğin (örneğin bir metnin) olasılık dağılımını temsil eder ve her sütun bir sınıfın olasılığını gösterir.\n",
        "\n",
        "2. **`tf.argmax(model_1_pred_probs, axis=1)`**:\n",
        "   - **`tf.argmax()`** fonksiyonu, her satırdaki **en yüksek olasılığı** (veya değeri) bulur ve bu değerin **indeksini** döndürür.\n",
        "   - **`axis=1`**: Bu, `tf.argmax()` fonksiyonunun her satırdaki en büyük değeri bulmasını sağlar. Yani, **her örnek için** (her satır) en yüksek olasılığa sahip sınıfın indeksini seçer.\n",
        "     - **`axis=0`** olsaydı, `tf.argmax()` her sütun için en yüksek değeri seçerdi, yani tüm örnekler için her bir sınıfın en yüksek olasılığını bulurdu. Ancak burada `axis=1` kullanıldığı için **her örnek** için (yani her satırda) en yüksek olasılığı buluruz.\n",
        "\n",
        "### Örnek:\n",
        "\n",
        "Diyelim ki, modelinizin çıktısı şu şekilde:\n",
        "\n",
        "```python\n",
        "model_1_pred_probs = [[0.1, 0.7, 0.2],  # 1. örnek için sınıf olasılıkları\n",
        "                       [0.4, 0.4, 0.2],  # 2. örnek için sınıf olasılıkları\n",
        "                       [0.9, 0.05, 0.05]]  # 3. örnek için sınıf olasılıkları\n",
        "```\n",
        "\n",
        "Burada:\n",
        "- 1. örneğin olasılıkları `[0.1, 0.7, 0.2]`. En yüksek olasılık **0.7** ile **2. sınıf**.\n",
        "- 2. örneğin olasılıkları `[0.4, 0.4, 0.2]`. Burada en yüksek olasılık **0.4** ile 1. veya 2. sınıf. Ancak, `tf.argmax()` ilk bulduğu en büyük değeri alacağı için **1. sınıf** dönecektir.\n",
        "- 3. örneğin olasılıkları `[0.9, 0.05, 0.05]`. En yüksek olasılık **0.9** ile **1. sınıf**.\n",
        "\n",
        "Sonuç olarak:\n",
        "\n",
        "```python\n",
        "model_1_preds = tf.argmax(model_1_pred_probs, axis=1)\n",
        "```\n",
        "\n",
        "**`model_1_preds`** şu şekilde olacaktır:\n",
        "\n",
        "```python\n",
        "model_1_preds = [1, 0, 0]\n",
        "```\n",
        "\n",
        "Bu, modelin her bir örnek için tahmin ettiği sınıf indeksleridir:\n",
        "- 1. örnek için **2. sınıf** (indeks 1),\n",
        "- 2. örnek için **1. sınıf** (indeks 0),\n",
        "- 3. örnek için **1. sınıf** (indeks 0)."
      ],
      "metadata": {
        "id": "K8ggCgzg7nj4"
      }
    },
    {
      "cell_type": "code",
      "source": [
        "# model_1 sonuçlarını hesapla\n",
        "model_1_results = calculate_results(y_true=val_labels_encoded,\n",
        "                                    y_pred=model_1_preds)\n",
        "model_1_results"
      ],
      "metadata": {
        "id": "tR2ZzxEh5zOg",
        "colab": {
          "base_uri": "https://localhost:8080/",
          "height": 333
        },
        "outputId": "424a83d9-3d5f-40fe-ccbe-97f404d30303",
        "collapsed": true
      },
      "execution_count": null,
      "outputs": [
        {
          "output_type": "error",
          "ename": "ValueError",
          "evalue": "Input arrays use different devices: cpu, /job:localhost/replica:0/task:0/device:GPU:0",
          "traceback": [
            "\u001b[0;31m---------------------------------------------------------------------------\u001b[0m",
            "\u001b[0;31mValueError\u001b[0m                                Traceback (most recent call last)",
            "\u001b[0;32m<ipython-input-84-10fbecc56d17>\u001b[0m in \u001b[0;36m<cell line: 2>\u001b[0;34m()\u001b[0m\n\u001b[1;32m      1\u001b[0m \u001b[0;31m# model_1 sonuçlarını hesapla\u001b[0m\u001b[0;34m\u001b[0m\u001b[0;34m\u001b[0m\u001b[0m\n\u001b[0;32m----> 2\u001b[0;31m model_1_results = calculate_results(y_true=val_labels_encoded,\n\u001b[0m\u001b[1;32m      3\u001b[0m                                     y_pred=model_1_preds)\n\u001b[1;32m      4\u001b[0m \u001b[0mmodel_1_results\u001b[0m\u001b[0;34m\u001b[0m\u001b[0;34m\u001b[0m\u001b[0m\n",
            "\u001b[0;32m/content/helper_functions.py\u001b[0m in \u001b[0;36mcalculate_results\u001b[0;34m(y_true, y_pred)\u001b[0m\n\u001b[1;32m    279\u001b[0m   \"\"\"\n\u001b[1;32m    280\u001b[0m   \u001b[0;31m# Calculate model accuracy\u001b[0m\u001b[0;34m\u001b[0m\u001b[0;34m\u001b[0m\u001b[0m\n\u001b[0;32m--> 281\u001b[0;31m   \u001b[0mmodel_accuracy\u001b[0m \u001b[0;34m=\u001b[0m \u001b[0maccuracy_score\u001b[0m\u001b[0;34m(\u001b[0m\u001b[0my_true\u001b[0m\u001b[0;34m,\u001b[0m \u001b[0my_pred\u001b[0m\u001b[0;34m)\u001b[0m \u001b[0;34m*\u001b[0m \u001b[0;36m100\u001b[0m\u001b[0;34m\u001b[0m\u001b[0;34m\u001b[0m\u001b[0m\n\u001b[0m\u001b[1;32m    282\u001b[0m   \u001b[0;31m# Calculate model precision, recall and f1 score using \"weighted average\u001b[0m\u001b[0;34m\u001b[0m\u001b[0;34m\u001b[0m\u001b[0m\n\u001b[1;32m    283\u001b[0m   \u001b[0mmodel_precision\u001b[0m\u001b[0;34m,\u001b[0m \u001b[0mmodel_recall\u001b[0m\u001b[0;34m,\u001b[0m \u001b[0mmodel_f1\u001b[0m\u001b[0;34m,\u001b[0m \u001b[0m_\u001b[0m \u001b[0;34m=\u001b[0m \u001b[0mprecision_recall_fscore_support\u001b[0m\u001b[0;34m(\u001b[0m\u001b[0my_true\u001b[0m\u001b[0;34m,\u001b[0m \u001b[0my_pred\u001b[0m\u001b[0;34m,\u001b[0m \u001b[0maverage\u001b[0m\u001b[0;34m=\u001b[0m\u001b[0;34m\"weighted\"\u001b[0m\u001b[0;34m)\u001b[0m\u001b[0;34m\u001b[0m\u001b[0;34m\u001b[0m\u001b[0m\n",
            "\u001b[0;32m/usr/local/lib/python3.10/dist-packages/sklearn/utils/_param_validation.py\u001b[0m in \u001b[0;36mwrapper\u001b[0;34m(*args, **kwargs)\u001b[0m\n\u001b[1;32m    214\u001b[0m                     )\n\u001b[1;32m    215\u001b[0m                 ):\n\u001b[0;32m--> 216\u001b[0;31m                     \u001b[0;32mreturn\u001b[0m \u001b[0mfunc\u001b[0m\u001b[0;34m(\u001b[0m\u001b[0;34m*\u001b[0m\u001b[0margs\u001b[0m\u001b[0;34m,\u001b[0m \u001b[0;34m**\u001b[0m\u001b[0mkwargs\u001b[0m\u001b[0;34m)\u001b[0m\u001b[0;34m\u001b[0m\u001b[0;34m\u001b[0m\u001b[0m\n\u001b[0m\u001b[1;32m    217\u001b[0m             \u001b[0;32mexcept\u001b[0m \u001b[0mInvalidParameterError\u001b[0m \u001b[0;32mas\u001b[0m \u001b[0me\u001b[0m\u001b[0;34m:\u001b[0m\u001b[0;34m\u001b[0m\u001b[0;34m\u001b[0m\u001b[0m\n\u001b[1;32m    218\u001b[0m                 \u001b[0;31m# When the function is just a wrapper around an estimator, we allow\u001b[0m\u001b[0;34m\u001b[0m\u001b[0;34m\u001b[0m\u001b[0m\n",
            "\u001b[0;32m/usr/local/lib/python3.10/dist-packages/sklearn/metrics/_classification.py\u001b[0m in \u001b[0;36maccuracy_score\u001b[0;34m(y_true, y_pred, normalize, sample_weight)\u001b[0m\n\u001b[1;32m    222\u001b[0m     \u001b[0;36m0.5\u001b[0m\u001b[0;34m\u001b[0m\u001b[0;34m\u001b[0m\u001b[0m\n\u001b[1;32m    223\u001b[0m     \"\"\"\n\u001b[0;32m--> 224\u001b[0;31m     \u001b[0mxp\u001b[0m\u001b[0;34m,\u001b[0m \u001b[0m_\u001b[0m\u001b[0;34m,\u001b[0m \u001b[0mdevice\u001b[0m \u001b[0;34m=\u001b[0m \u001b[0mget_namespace_and_device\u001b[0m\u001b[0;34m(\u001b[0m\u001b[0my_true\u001b[0m\u001b[0;34m,\u001b[0m \u001b[0my_pred\u001b[0m\u001b[0;34m,\u001b[0m \u001b[0msample_weight\u001b[0m\u001b[0;34m)\u001b[0m\u001b[0;34m\u001b[0m\u001b[0;34m\u001b[0m\u001b[0m\n\u001b[0m\u001b[1;32m    225\u001b[0m     \u001b[0;31m# Compute accuracy for each possible representation\u001b[0m\u001b[0;34m\u001b[0m\u001b[0;34m\u001b[0m\u001b[0m\n\u001b[1;32m    226\u001b[0m     \u001b[0my_true\u001b[0m\u001b[0;34m,\u001b[0m \u001b[0my_pred\u001b[0m \u001b[0;34m=\u001b[0m \u001b[0mattach_unique\u001b[0m\u001b[0;34m(\u001b[0m\u001b[0my_true\u001b[0m\u001b[0;34m,\u001b[0m \u001b[0my_pred\u001b[0m\u001b[0;34m)\u001b[0m\u001b[0;34m\u001b[0m\u001b[0;34m\u001b[0m\u001b[0m\n",
            "\u001b[0;32m/usr/local/lib/python3.10/dist-packages/sklearn/utils/_array_api.py\u001b[0m in \u001b[0;36mget_namespace_and_device\u001b[0;34m(remove_none, remove_types, *array_list)\u001b[0m\n\u001b[1;32m    612\u001b[0m \u001b[0;34m\u001b[0m\u001b[0m\n\u001b[1;32m    613\u001b[0m     \u001b[0mxp\u001b[0m\u001b[0;34m,\u001b[0m \u001b[0mis_array_api\u001b[0m \u001b[0;34m=\u001b[0m \u001b[0mget_namespace\u001b[0m\u001b[0;34m(\u001b[0m\u001b[0;34m*\u001b[0m\u001b[0marray_list\u001b[0m\u001b[0;34m,\u001b[0m \u001b[0;34m**\u001b[0m\u001b[0mskip_remove_kwargs\u001b[0m\u001b[0;34m)\u001b[0m\u001b[0;34m\u001b[0m\u001b[0;34m\u001b[0m\u001b[0m\n\u001b[0;32m--> 614\u001b[0;31m     \u001b[0marrays_device\u001b[0m \u001b[0;34m=\u001b[0m \u001b[0mdevice\u001b[0m\u001b[0;34m(\u001b[0m\u001b[0;34m*\u001b[0m\u001b[0marray_list\u001b[0m\u001b[0;34m,\u001b[0m \u001b[0;34m**\u001b[0m\u001b[0mskip_remove_kwargs\u001b[0m\u001b[0;34m)\u001b[0m\u001b[0;34m\u001b[0m\u001b[0;34m\u001b[0m\u001b[0m\n\u001b[0m\u001b[1;32m    615\u001b[0m     \u001b[0;32mif\u001b[0m \u001b[0mis_array_api\u001b[0m\u001b[0;34m:\u001b[0m\u001b[0;34m\u001b[0m\u001b[0;34m\u001b[0m\u001b[0m\n\u001b[1;32m    616\u001b[0m         \u001b[0;32mreturn\u001b[0m \u001b[0mxp\u001b[0m\u001b[0;34m,\u001b[0m \u001b[0mis_array_api\u001b[0m\u001b[0;34m,\u001b[0m \u001b[0marrays_device\u001b[0m\u001b[0;34m\u001b[0m\u001b[0;34m\u001b[0m\u001b[0m\n",
            "\u001b[0;32m/usr/local/lib/python3.10/dist-packages/sklearn/utils/_array_api.py\u001b[0m in \u001b[0;36mdevice\u001b[0;34m(remove_none, remove_types, *array_list)\u001b[0m\n\u001b[1;32m    176\u001b[0m         \u001b[0mdevice_other\u001b[0m \u001b[0;34m=\u001b[0m \u001b[0m_single_array_device\u001b[0m\u001b[0;34m(\u001b[0m\u001b[0marray\u001b[0m\u001b[0;34m)\u001b[0m\u001b[0;34m\u001b[0m\u001b[0;34m\u001b[0m\u001b[0m\n\u001b[1;32m    177\u001b[0m         \u001b[0;32mif\u001b[0m \u001b[0mdevice_\u001b[0m \u001b[0;34m!=\u001b[0m \u001b[0mdevice_other\u001b[0m\u001b[0;34m:\u001b[0m\u001b[0;34m\u001b[0m\u001b[0;34m\u001b[0m\u001b[0m\n\u001b[0;32m--> 178\u001b[0;31m             raise ValueError(\n\u001b[0m\u001b[1;32m    179\u001b[0m                 \u001b[0;34mf\"Input arrays use different devices: {str(device_)}, \"\u001b[0m\u001b[0;34m\u001b[0m\u001b[0;34m\u001b[0m\u001b[0m\n\u001b[1;32m    180\u001b[0m                 \u001b[0;34mf\"{str(device_other)}\"\u001b[0m\u001b[0;34m\u001b[0m\u001b[0;34m\u001b[0m\u001b[0m\n",
            "\u001b[0;31mValueError\u001b[0m: Input arrays use different devices: cpu, /job:localhost/replica:0/task:0/device:GPU:0"
          ]
        }
      ]
    },
    {
      "cell_type": "markdown",
      "source": [
        "### **3.8. Tensorflow Hub İle Modelleme ve Değerlendirme**"
      ],
      "metadata": {
        "id": "ye8SznEVj5DE"
      }
    },
    {
      "cell_type": "markdown",
      "source": [
        "Tıbbi Kağıt Özetlerinde Ortak Cümle Sınıflandırması için Sinir Ağlarındaki model mimarisini çoğaltmaya doğru ilerlediğimiz için, belirteç gömmelerini başlatmanın bir yolu olarak önceden eğitilmiş bir GloVe gömme kullandıklarından bahseder.\n",
        "* https://arxiv.org/pdf/1612.05251\n",
        "* https://nlp.stanford.edu/projects/glove/\n",
        "\n",
        "Bunu taklit etmek için, TensorFlow Hub'dan önceden eğitilmiş Evrensel Cümle Kodlayıcı gömmeleriyle hangi sonuçları alabileceğimizi görelim. https://www.kaggle.com/models/google/universal-sentence-encoder/tensorFlow2/universal-sentence-encoder/2?tfhub-redirect=true\n",
        "\n",
        "🔑 Not: GloVe gömmelerini kağıda göre kullanabiliriz, ancak TensorFlow ile çalıştığımız için TensorFlow Hub'da bulunanları kullanacağız (GloVe gömmeleri değil). Önceden eğitilmiş GloVe gömmelerini uzantı olarak kullanarak tasarruf edeceğiz. https://keras.io/examples/nlp/pretrained_word_embeddings/\n",
        "\n",
        "Model yapısı şöyle görünecektir:\n",
        "\n",
        "Inputs (string) -> Pretrained embeddings from TensorFlow Hub (Universal Sentence Encoder) -> Layers -> Output (prediction probabilities)\n",
        "\n",
        "Önceki bir modelde kullandığımız tokenizasyon katmanının eksikliğini fark edeceksiniz. Bunun nedeni, Evrensel Cümle Kodlayıcısının (USE) bizim için tokenizasyonla ilgilenmesidir.\n",
        "\n",
        "Bu tür bir modele transfer öğrenimi veya daha spesifik olarak özellik çıkarma transfer öğrenimi denir. Başka bir deyişle, bir modelin başka bir yerde öğrendiği kalıpları almak ve bunu kendi sorunumuza uygulamak.\n",
        "\n",
        "TensorFlow Hub'dan önceden eğitilmiş bir gömme kullanarak oluşturduğumuz özellik çıkarıcı modeli.\n",
        "\n",
        "Önceden eğitilmiş USE'ı modelimizde kullanabileceğimiz bir katmana indirmek için hub.KerasLayer sınıfını kullanabiliriz.\n",
        "\n",
        "Önceden eğitilmiş gömmeleri donmuş tutacağız (eğitilebilir=Yanlış ayarlayarak) ve model çıktılarını kendi verilerimize göre uyarlamak için üste eğitilebilir birkaç katman ekleyeceğiz.\n",
        "\n",
        "🔑 Not: Nispeten büyük bir modeli (~916MB) indirmek zorunda kaldığından, aşağıdaki hücrenin çalışması biraz zaman alabilir. https://www.tensorflow.org/hub/api_docs/python/hub/KerasLayer"
      ],
      "metadata": {
        "id": "5jOVZBqm9Lga"
      }
    },
    {
      "cell_type": "code",
      "source": [
        "# Önceden eğitilmiş TensorFlow Hub'ı indirin KULLANIM\n",
        "import tensorflow_hub as hub\n",
        "tf_hub_embedding_layer = hub.KerasLayer(\"https://tfhub.dev/google/universal-sentence-encoder/4\",\n",
        "                                        trainable=False,\n",
        "                                        name=\"universal_sentence_encoder\")"
      ],
      "metadata": {
        "id": "_Sc2k-Pv-aNj"
      },
      "execution_count": null,
      "outputs": []
    },
    {
      "cell_type": "code",
      "source": [
        "# Rastgele cümlelerde gömmeyi test etme\n",
        "\n",
        "random_training_sentence = random.choice(train_sentences)\n",
        "print(f\"Rastgele eğitim cümlesi:\\n{random_training_sentence}\\n\")\n",
        "\n",
        "use_embedded_sentence = tf_hub_embedding_layer([random_training_sentence])\n",
        "print(f\"Gömme sonrası cümle:\\n{use_embedded_sentence[0][:30]} (kesilmiş çıktı)...\\n\")\n",
        "print(f\"Gömülmüş cümlenin uzunluğu:\\n{len(use_embedded_sentence[0])}\")"
      ],
      "metadata": {
        "id": "HyKY8GNL-aKV",
        "colab": {
          "base_uri": "https://localhost:8080/"
        },
        "outputId": "44e8723c-b76e-4e73-bce4-ea928df65849"
      },
      "execution_count": null,
      "outputs": [
        {
          "output_type": "stream",
          "name": "stdout",
          "text": [
            "Rastgele eğitim cümlesi:\n",
            "we evaluated angiogenesis-targeted sunitinib therapy in a randomized , double-blind trial of metastatic castration-resistant prostate cancer ( mcrpc ) .\n",
            "\n",
            "Gömme sonrası cümle:\n",
            "[-0.0332844   0.00323283 -0.07341916 -0.04258213 -0.04985864 -0.07613482\n",
            " -0.02224037 -0.04262499  0.03884448 -0.01723633  0.0887475  -0.06006488\n",
            "  0.01688014  0.08200955  0.05170288 -0.04839861 -0.08894092  0.05455948\n",
            "  0.04898502  0.00801988 -0.03343721  0.00720054 -0.03504387 -0.00383746\n",
            "  0.06791933 -0.03750411  0.02844876  0.00618231  0.05129638  0.06099223] (kesilmiş çıktı)...\n",
            "\n",
            "Gömülmüş cümlenin uzunluğu:\n",
            "512\n"
          ]
        }
      ]
    },
    {
      "cell_type": "markdown",
      "source": [
        "Daha önce de belirttiğimiz gibi, TensorFlow Hub'ın önceden eğitilmiş USE modülü, metnimizi bizim için belirteçlemeye özen gösterir ve 512 boyutlu bir gömme vektörü çıkarır."
      ],
      "metadata": {
        "id": "TzkJ03j3--BO"
      }
    },
    {
      "cell_type": "markdown",
      "source": [
        "**Tensorflow Hub'dan bir NLP özellik çıkarma modeli kullanımı**\n",
        "- Girişler katman şeklinde çünkü giriş şekli boş bir liste. Simgeleştirilmiş bir yerleştirme katmanı oluşturduğumuzda, simge düzeyinde bir yerleştirme var ve her token 128'e çevirdik. Bu da tüm diziyi tek uzun vektöre dönüştürdü.\n",
        "- relu --> Lineer olmayan aktivasyon ...\n",
        "- Modeli iyileştirme yollarından birisi de araya katman koymaktır. Girdilerden gömme oluşturulabilir. Gömme arasına bir grup katman eklenebilir.\n",
        "- Deney yaptığımız için bu çalışmada büyük bir katman oluşturmadık. Karmaşıklık her zaman arttırılabilir.\n",
        "- Eğitilebilir parametreler yoğun katmandadır. Eğitilebiliri açarsan modelin daha çok kalıp bulması gerektiği anlamına gelir.\n",
        "- Özellik çıkarmada katman sayısı arttıkça deney uzun sürer. Tüm parametreler dondurulmuş olduğu için hızlı eğitim oldu.\n"
      ],
      "metadata": {
        "id": "EOJkymuo_DJ_"
      }
    },
    {
      "cell_type": "code",
      "source": [
        "import tensorflow as tf\n",
        "import tensorflow_hub as hub\n",
        "from tensorflow.keras import layers\n",
        "\n",
        "tf_hub_embedding_layer = hub.KerasLayer(\"https://tfhub.dev/google/universal-sentence-encoder/4\",\n",
        "                                        trainable=False,\n",
        "                                        name=\"universal_sentence_encoder\")\n",
        "\n",
        "# Define the custom layer for the Universal Sentence Encoder\n",
        "class UniversalSentenceEncoderLayer(layers.Layer):\n",
        "    def __init__(self, hub_layer):\n",
        "        super().__init__()\n",
        "        self.encoder = hub_layer\n",
        "\n",
        "    def call(self, inputs):\n",
        "        return self.encoder(inputs)\n",
        "\n",
        "use_layer = UniversalSentenceEncoderLayer(tf_hub_embedding_layer)\n",
        "\n",
        "# Create the model\n",
        "inputs = layers.Input(shape=(), dtype=tf.string)\n",
        "pretrained_embedding = use_layer(inputs)\n",
        "x = layers.Dense(128, activation=\"relu\")(pretrained_embedding)\n",
        "outputs = layers.Dense(num_classes, activation=\"softmax\")(x)\n",
        "\n",
        "model_2 = tf.keras.Model(inputs, outputs, name=\"model_2_USE_feature_extractor\")\n",
        "\n",
        "# Modelin derlenmesi\n",
        "model_2.compile(\n",
        "    loss = \"categorical_crossentropy\",\n",
        "    optimizer = tf.keras.optimizers.Adam(),\n",
        "    metrics = [\"accuracy\"]\n",
        ")\n",
        "\n",
        "# Summary of the model\n",
        "model_2.summary()"
      ],
      "metadata": {
        "colab": {
          "base_uri": "https://localhost:8080/",
          "height": 273
        },
        "id": "ywHdAJV3doAG",
        "outputId": "4533cb3d-b362-489b-9dd0-2f063dc36143"
      },
      "execution_count": null,
      "outputs": [
        {
          "output_type": "display_data",
          "data": {
            "text/plain": [
              "\u001b[1mModel: \"model_2_USE_feature_extractor\"\u001b[0m\n"
            ],
            "text/html": [
              "<pre style=\"white-space:pre;overflow-x:auto;line-height:normal;font-family:Menlo,'DejaVu Sans Mono',consolas,'Courier New',monospace\"><span style=\"font-weight: bold\">Model: \"model_2_USE_feature_extractor\"</span>\n",
              "</pre>\n"
            ]
          },
          "metadata": {}
        },
        {
          "output_type": "display_data",
          "data": {
            "text/plain": [
              "┏━━━━━━━━━━━━━━━━━━━━━━━━━━━━━━━━━━━━━━┳━━━━━━━━━━━━━━━━━━━━━━━━━━━━━┳━━━━━━━━━━━━━━━━━┓\n",
              "┃\u001b[1m \u001b[0m\u001b[1mLayer (type)                        \u001b[0m\u001b[1m \u001b[0m┃\u001b[1m \u001b[0m\u001b[1mOutput Shape               \u001b[0m\u001b[1m \u001b[0m┃\u001b[1m \u001b[0m\u001b[1m        Param #\u001b[0m\u001b[1m \u001b[0m┃\n",
              "┡━━━━━━━━━━━━━━━━━━━━━━━━━━━━━━━━━━━━━━╇━━━━━━━━━━━━━━━━━━━━━━━━━━━━━╇━━━━━━━━━━━━━━━━━┩\n",
              "│ input_layer_5 (\u001b[38;5;33mInputLayer\u001b[0m)           │ (\u001b[38;5;45mNone\u001b[0m)                      │               \u001b[38;5;34m0\u001b[0m │\n",
              "├──────────────────────────────────────┼─────────────────────────────┼─────────────────┤\n",
              "│ universal_sentence_encoder_layer_2   │ (\u001b[38;5;45mNone\u001b[0m, \u001b[38;5;34m512\u001b[0m)                 │               \u001b[38;5;34m0\u001b[0m │\n",
              "│ (\u001b[38;5;33mUniversalSentenceEncoderLayer\u001b[0m)      │                             │                 │\n",
              "├──────────────────────────────────────┼─────────────────────────────┼─────────────────┤\n",
              "│ dense_5 (\u001b[38;5;33mDense\u001b[0m)                      │ (\u001b[38;5;45mNone\u001b[0m, \u001b[38;5;34m128\u001b[0m)                 │          \u001b[38;5;34m65,664\u001b[0m │\n",
              "├──────────────────────────────────────┼─────────────────────────────┼─────────────────┤\n",
              "│ dense_6 (\u001b[38;5;33mDense\u001b[0m)                      │ (\u001b[38;5;45mNone\u001b[0m, \u001b[38;5;34m5\u001b[0m)                   │             \u001b[38;5;34m645\u001b[0m │\n",
              "└──────────────────────────────────────┴─────────────────────────────┴─────────────────┘\n"
            ],
            "text/html": [
              "<pre style=\"white-space:pre;overflow-x:auto;line-height:normal;font-family:Menlo,'DejaVu Sans Mono',consolas,'Courier New',monospace\">┏━━━━━━━━━━━━━━━━━━━━━━━━━━━━━━━━━━━━━━┳━━━━━━━━━━━━━━━━━━━━━━━━━━━━━┳━━━━━━━━━━━━━━━━━┓\n",
              "┃<span style=\"font-weight: bold\"> Layer (type)                         </span>┃<span style=\"font-weight: bold\"> Output Shape                </span>┃<span style=\"font-weight: bold\">         Param # </span>┃\n",
              "┡━━━━━━━━━━━━━━━━━━━━━━━━━━━━━━━━━━━━━━╇━━━━━━━━━━━━━━━━━━━━━━━━━━━━━╇━━━━━━━━━━━━━━━━━┩\n",
              "│ input_layer_5 (<span style=\"color: #0087ff; text-decoration-color: #0087ff\">InputLayer</span>)           │ (<span style=\"color: #00d7ff; text-decoration-color: #00d7ff\">None</span>)                      │               <span style=\"color: #00af00; text-decoration-color: #00af00\">0</span> │\n",
              "├──────────────────────────────────────┼─────────────────────────────┼─────────────────┤\n",
              "│ universal_sentence_encoder_layer_2   │ (<span style=\"color: #00d7ff; text-decoration-color: #00d7ff\">None</span>, <span style=\"color: #00af00; text-decoration-color: #00af00\">512</span>)                 │               <span style=\"color: #00af00; text-decoration-color: #00af00\">0</span> │\n",
              "│ (<span style=\"color: #0087ff; text-decoration-color: #0087ff\">UniversalSentenceEncoderLayer</span>)      │                             │                 │\n",
              "├──────────────────────────────────────┼─────────────────────────────┼─────────────────┤\n",
              "│ dense_5 (<span style=\"color: #0087ff; text-decoration-color: #0087ff\">Dense</span>)                      │ (<span style=\"color: #00d7ff; text-decoration-color: #00d7ff\">None</span>, <span style=\"color: #00af00; text-decoration-color: #00af00\">128</span>)                 │          <span style=\"color: #00af00; text-decoration-color: #00af00\">65,664</span> │\n",
              "├──────────────────────────────────────┼─────────────────────────────┼─────────────────┤\n",
              "│ dense_6 (<span style=\"color: #0087ff; text-decoration-color: #0087ff\">Dense</span>)                      │ (<span style=\"color: #00d7ff; text-decoration-color: #00d7ff\">None</span>, <span style=\"color: #00af00; text-decoration-color: #00af00\">5</span>)                   │             <span style=\"color: #00af00; text-decoration-color: #00af00\">645</span> │\n",
              "└──────────────────────────────────────┴─────────────────────────────┴─────────────────┘\n",
              "</pre>\n"
            ]
          },
          "metadata": {}
        },
        {
          "output_type": "display_data",
          "data": {
            "text/plain": [
              "\u001b[1m Total params: \u001b[0m\u001b[38;5;34m66,309\u001b[0m (259.02 KB)\n"
            ],
            "text/html": [
              "<pre style=\"white-space:pre;overflow-x:auto;line-height:normal;font-family:Menlo,'DejaVu Sans Mono',consolas,'Courier New',monospace\"><span style=\"font-weight: bold\"> Total params: </span><span style=\"color: #00af00; text-decoration-color: #00af00\">66,309</span> (259.02 KB)\n",
              "</pre>\n"
            ]
          },
          "metadata": {}
        },
        {
          "output_type": "display_data",
          "data": {
            "text/plain": [
              "\u001b[1m Trainable params: \u001b[0m\u001b[38;5;34m66,309\u001b[0m (259.02 KB)\n"
            ],
            "text/html": [
              "<pre style=\"white-space:pre;overflow-x:auto;line-height:normal;font-family:Menlo,'DejaVu Sans Mono',consolas,'Courier New',monospace\"><span style=\"font-weight: bold\"> Trainable params: </span><span style=\"color: #00af00; text-decoration-color: #00af00\">66,309</span> (259.02 KB)\n",
              "</pre>\n"
            ]
          },
          "metadata": {}
        },
        {
          "output_type": "display_data",
          "data": {
            "text/plain": [
              "\u001b[1m Non-trainable params: \u001b[0m\u001b[38;5;34m0\u001b[0m (0.00 B)\n"
            ],
            "text/html": [
              "<pre style=\"white-space:pre;overflow-x:auto;line-height:normal;font-family:Menlo,'DejaVu Sans Mono',consolas,'Courier New',monospace\"><span style=\"font-weight: bold\"> Non-trainable params: </span><span style=\"color: #00af00; text-decoration-color: #00af00\">0</span> (0.00 B)\n",
              "</pre>\n"
            ]
          },
          "metadata": {}
        }
      ]
    },
    {
      "cell_type": "code",
      "source": [
        "# Özellik çıkarıcı modelini 3 dönem için uygun hale getirin\n",
        "model_2.fit(\n",
        "    train_dataset,\n",
        "    steps_per_epoch=int(0.1 * len(train_dataset)),\n",
        "    epochs=3,\n",
        "    validation_data=valid_dataset,\n",
        "    validation_steps=int(0.1 * len(valid_dataset))\n",
        ")"
      ],
      "metadata": {
        "colab": {
          "base_uri": "https://localhost:8080/",
          "height": 1000
        },
        "id": "SydjPxThi8V9",
        "outputId": "e2ecf9cb-fc41-4ae9-bd81-ac81a88cfa5c",
        "collapsed": true
      },
      "execution_count": null,
      "outputs": [
        {
          "output_type": "stream",
          "name": "stdout",
          "text": [
            "Epoch 1/3\n"
          ]
        },
        {
          "output_type": "error",
          "ename": "InvalidArgumentError",
          "evalue": "Graph execution error:\n\nDetected at node data defined at (most recent call last):\n<stack traces unavailable>\nDetected at node data defined at (most recent call last):\n<stack traces unavailable>\nDetected unsupported operations when trying to compile graph __inference_one_step_on_data_49214[] on XLA_GPU_JIT: _Arg (No registered '_Arg' OpKernel for XLA_GPU_JIT devices compatible with node {{node data}}\n\t (OpKernel was found, but attributes didn't match) Requested Attributes: T=DT_STRING, _output_shapes=[[32]], _user_specified_name=\"data\", index=0){{node data}}\nThe op is created at: \nFile \"/usr/lib/python3.10/runpy.py\", line 196, in _run_module_as_main\nFile \"/usr/lib/python3.10/runpy.py\", line 86, in _run_code\nFile \"/usr/local/lib/python3.10/dist-packages/colab_kernel_launcher.py\", line 37, in <module>\nFile \"/usr/local/lib/python3.10/dist-packages/traitlets/config/application.py\", line 992, in launch_instance\nFile \"/usr/local/lib/python3.10/dist-packages/ipykernel/kernelapp.py\", line 619, in start\nFile \"/usr/local/lib/python3.10/dist-packages/tornado/platform/asyncio.py\", line 195, in start\nFile \"/usr/lib/python3.10/asyncio/base_events.py\", line 603, in run_forever\nFile \"/usr/lib/python3.10/asyncio/base_events.py\", line 1909, in _run_once\nFile \"/usr/lib/python3.10/asyncio/events.py\", line 80, in _run\nFile \"/usr/local/lib/python3.10/dist-packages/tornado/ioloop.py\", line 685, in <lambda>\nFile \"/usr/local/lib/python3.10/dist-packages/tornado/ioloop.py\", line 738, in _run_callback\nFile \"/usr/local/lib/python3.10/dist-packages/tornado/gen.py\", line 825, in inner\nFile \"/usr/local/lib/python3.10/dist-packages/tornado/gen.py\", line 786, in run\nFile \"/usr/local/lib/python3.10/dist-packages/ipykernel/kernelbase.py\", line 361, in process_one\nFile \"/usr/local/lib/python3.10/dist-packages/tornado/gen.py\", line 234, in wrapper\nFile \"/usr/local/lib/python3.10/dist-packages/ipykernel/kernelbase.py\", line 261, in dispatch_shell\nFile \"/usr/local/lib/python3.10/dist-packages/tornado/gen.py\", line 234, in wrapper\nFile \"/usr/local/lib/python3.10/dist-packages/ipykernel/kernelbase.py\", line 539, in execute_request\nFile \"/usr/local/lib/python3.10/dist-packages/tornado/gen.py\", line 234, in wrapper\nFile \"/usr/local/lib/python3.10/dist-packages/ipykernel/ipkernel.py\", line 302, in do_execute\nFile \"/usr/local/lib/python3.10/dist-packages/ipykernel/zmqshell.py\", line 539, in run_cell\nFile \"/usr/local/lib/python3.10/dist-packages/IPython/core/interactiveshell.py\", line 2975, in run_cell\nFile \"/usr/local/lib/python3.10/dist-packages/IPython/core/interactiveshell.py\", line 3030, in _run_cell\nFile \"/usr/local/lib/python3.10/dist-packages/IPython/core/async_helpers.py\", line 78, in _pseudo_sync_runner\nFile \"/usr/local/lib/python3.10/dist-packages/IPython/core/interactiveshell.py\", line 3257, in run_cell_async\nFile \"/usr/local/lib/python3.10/dist-packages/IPython/core/interactiveshell.py\", line 3473, in run_ast_nodes\nFile \"/usr/local/lib/python3.10/dist-packages/IPython/core/interactiveshell.py\", line 3553, in run_code\nFile \"<ipython-input-91-1a024b239fec>\", line 2, in <cell line: 2>\nFile \"/usr/local/lib/python3.10/dist-packages/keras/src/utils/traceback_utils.py\", line 117, in error_handler\nFile \"/usr/local/lib/python3.10/dist-packages/keras/src/backend/tensorflow/trainer.py\", line 320, in fit\nFile \"/usr/local/lib/python3.10/dist-packages/keras/src/backend/tensorflow/trainer.py\", line 121, in one_step_on_iterator\nFile \"/usr/local/lib/python3.10/dist-packages/tensorflow/core/function/polymorphism/function_type.py\", line 356, in placeholder_arguments\nFile \"/usr/local/lib/python3.10/dist-packages/tensorflow/core/function/trace_type/default_types.py\", line 250, in placeholder_value\nFile \"/usr/local/lib/python3.10/dist-packages/tensorflow/core/function/trace_type/default_types.py\", line 251, in <listcomp>\n\ttf2xla conversion failed while converting __inference_one_step_on_data_49214[]. Run with TF_DUMP_GRAPH_PREFIX=/path/to/dump/dir and --vmodule=xla_compiler=2 to obtain a dump of the compiled functions.\n\t [[StatefulPartitionedCall]] [Op:__inference_one_step_on_iterator_49615]",
          "traceback": [
            "\u001b[0;31m---------------------------------------------------------------------------\u001b[0m",
            "\u001b[0;31mInvalidArgumentError\u001b[0m                      Traceback (most recent call last)",
            "\u001b[0;32m<ipython-input-96-1a024b239fec>\u001b[0m in \u001b[0;36m<cell line: 2>\u001b[0;34m()\u001b[0m\n\u001b[1;32m      1\u001b[0m \u001b[0;31m# Özellik çıkarıcı modelini 3 dönem için uygun hale getirin\u001b[0m\u001b[0;34m\u001b[0m\u001b[0;34m\u001b[0m\u001b[0m\n\u001b[0;32m----> 2\u001b[0;31m model_2.fit(\n\u001b[0m\u001b[1;32m      3\u001b[0m     \u001b[0mtrain_dataset\u001b[0m\u001b[0;34m,\u001b[0m\u001b[0;34m\u001b[0m\u001b[0;34m\u001b[0m\u001b[0m\n\u001b[1;32m      4\u001b[0m     \u001b[0msteps_per_epoch\u001b[0m\u001b[0;34m=\u001b[0m\u001b[0mint\u001b[0m\u001b[0;34m(\u001b[0m\u001b[0;36m0.1\u001b[0m \u001b[0;34m*\u001b[0m \u001b[0mlen\u001b[0m\u001b[0;34m(\u001b[0m\u001b[0mtrain_dataset\u001b[0m\u001b[0;34m)\u001b[0m\u001b[0;34m)\u001b[0m\u001b[0;34m,\u001b[0m\u001b[0;34m\u001b[0m\u001b[0;34m\u001b[0m\u001b[0m\n\u001b[1;32m      5\u001b[0m     \u001b[0mepochs\u001b[0m\u001b[0;34m=\u001b[0m\u001b[0;36m3\u001b[0m\u001b[0;34m,\u001b[0m\u001b[0;34m\u001b[0m\u001b[0;34m\u001b[0m\u001b[0m\n",
            "\u001b[0;32m/usr/local/lib/python3.10/dist-packages/keras/src/utils/traceback_utils.py\u001b[0m in \u001b[0;36merror_handler\u001b[0;34m(*args, **kwargs)\u001b[0m\n\u001b[1;32m    120\u001b[0m             \u001b[0;31m# To get the full stack trace, call:\u001b[0m\u001b[0;34m\u001b[0m\u001b[0;34m\u001b[0m\u001b[0m\n\u001b[1;32m    121\u001b[0m             \u001b[0;31m# `keras.config.disable_traceback_filtering()`\u001b[0m\u001b[0;34m\u001b[0m\u001b[0;34m\u001b[0m\u001b[0m\n\u001b[0;32m--> 122\u001b[0;31m             \u001b[0;32mraise\u001b[0m \u001b[0me\u001b[0m\u001b[0;34m.\u001b[0m\u001b[0mwith_traceback\u001b[0m\u001b[0;34m(\u001b[0m\u001b[0mfiltered_tb\u001b[0m\u001b[0;34m)\u001b[0m \u001b[0;32mfrom\u001b[0m \u001b[0;32mNone\u001b[0m\u001b[0;34m\u001b[0m\u001b[0;34m\u001b[0m\u001b[0m\n\u001b[0m\u001b[1;32m    123\u001b[0m         \u001b[0;32mfinally\u001b[0m\u001b[0;34m:\u001b[0m\u001b[0;34m\u001b[0m\u001b[0;34m\u001b[0m\u001b[0m\n\u001b[1;32m    124\u001b[0m             \u001b[0;32mdel\u001b[0m \u001b[0mfiltered_tb\u001b[0m\u001b[0;34m\u001b[0m\u001b[0;34m\u001b[0m\u001b[0m\n",
            "\u001b[0;32m/usr/local/lib/python3.10/dist-packages/tensorflow/python/eager/execute.py\u001b[0m in \u001b[0;36mquick_execute\u001b[0;34m(op_name, num_outputs, inputs, attrs, ctx, name)\u001b[0m\n\u001b[1;32m     51\u001b[0m   \u001b[0;32mtry\u001b[0m\u001b[0;34m:\u001b[0m\u001b[0;34m\u001b[0m\u001b[0;34m\u001b[0m\u001b[0m\n\u001b[1;32m     52\u001b[0m     \u001b[0mctx\u001b[0m\u001b[0;34m.\u001b[0m\u001b[0mensure_initialized\u001b[0m\u001b[0;34m(\u001b[0m\u001b[0;34m)\u001b[0m\u001b[0;34m\u001b[0m\u001b[0;34m\u001b[0m\u001b[0m\n\u001b[0;32m---> 53\u001b[0;31m     tensors = pywrap_tfe.TFE_Py_Execute(ctx._handle, device_name, op_name,\n\u001b[0m\u001b[1;32m     54\u001b[0m                                         inputs, attrs, num_outputs)\n\u001b[1;32m     55\u001b[0m   \u001b[0;32mexcept\u001b[0m \u001b[0mcore\u001b[0m\u001b[0;34m.\u001b[0m\u001b[0m_NotOkStatusException\u001b[0m \u001b[0;32mas\u001b[0m \u001b[0me\u001b[0m\u001b[0;34m:\u001b[0m\u001b[0;34m\u001b[0m\u001b[0;34m\u001b[0m\u001b[0m\n",
            "\u001b[0;31mInvalidArgumentError\u001b[0m: Graph execution error:\n\nDetected at node data defined at (most recent call last):\n<stack traces unavailable>\nDetected at node data defined at (most recent call last):\n<stack traces unavailable>\nDetected unsupported operations when trying to compile graph __inference_one_step_on_data_49214[] on XLA_GPU_JIT: _Arg (No registered '_Arg' OpKernel for XLA_GPU_JIT devices compatible with node {{node data}}\n\t (OpKernel was found, but attributes didn't match) Requested Attributes: T=DT_STRING, _output_shapes=[[32]], _user_specified_name=\"data\", index=0){{node data}}\nThe op is created at: \nFile \"/usr/lib/python3.10/runpy.py\", line 196, in _run_module_as_main\nFile \"/usr/lib/python3.10/runpy.py\", line 86, in _run_code\nFile \"/usr/local/lib/python3.10/dist-packages/colab_kernel_launcher.py\", line 37, in <module>\nFile \"/usr/local/lib/python3.10/dist-packages/traitlets/config/application.py\", line 992, in launch_instance\nFile \"/usr/local/lib/python3.10/dist-packages/ipykernel/kernelapp.py\", line 619, in start\nFile \"/usr/local/lib/python3.10/dist-packages/tornado/platform/asyncio.py\", line 195, in start\nFile \"/usr/lib/python3.10/asyncio/base_events.py\", line 603, in run_forever\nFile \"/usr/lib/python3.10/asyncio/base_events.py\", line 1909, in _run_once\nFile \"/usr/lib/python3.10/asyncio/events.py\", line 80, in _run\nFile \"/usr/local/lib/python3.10/dist-packages/tornado/ioloop.py\", line 685, in <lambda>\nFile \"/usr/local/lib/python3.10/dist-packages/tornado/ioloop.py\", line 738, in _run_callback\nFile \"/usr/local/lib/python3.10/dist-packages/tornado/gen.py\", line 825, in inner\nFile \"/usr/local/lib/python3.10/dist-packages/tornado/gen.py\", line 786, in run\nFile \"/usr/local/lib/python3.10/dist-packages/ipykernel/kernelbase.py\", line 361, in process_one\nFile \"/usr/local/lib/python3.10/dist-packages/tornado/gen.py\", line 234, in wrapper\nFile \"/usr/local/lib/python3.10/dist-packages/ipykernel/kernelbase.py\", line 261, in dispatch_shell\nFile \"/usr/local/lib/python3.10/dist-packages/tornado/gen.py\", line 234, in wrapper\nFile \"/usr/local/lib/python3.10/dist-packages/ipykernel/kernelbase.py\", line 539, in execute_request\nFile \"/usr/local/lib/python3.10/dist-packages/tornado/gen.py\", line 234, in wrapper\nFile \"/usr/local/lib/python3.10/dist-packages/ipykernel/ipkernel.py\", line 302, in do_execute\nFile \"/usr/local/lib/python3.10/dist-packages/ipykernel/zmqshell.py\", line 539, in run_cell\nFile \"/usr/local/lib/python3.10/dist-packages/IPython/core/interactiveshell.py\", line 2975, in run_cell\nFile \"/usr/local/lib/python3.10/dist-packages/IPython/core/interactiveshell.py\", line 3030, in _run_cell\nFile \"/usr/local/lib/python3.10/dist-packages/IPython/core/async_helpers.py\", line 78, in _pseudo_sync_runner\nFile \"/usr/local/lib/python3.10/dist-packages/IPython/core/interactiveshell.py\", line 3257, in run_cell_async\nFile \"/usr/local/lib/python3.10/dist-packages/IPython/core/interactiveshell.py\", line 3473, in run_ast_nodes\nFile \"/usr/local/lib/python3.10/dist-packages/IPython/core/interactiveshell.py\", line 3553, in run_code\nFile \"<ipython-input-91-1a024b239fec>\", line 2, in <cell line: 2>\nFile \"/usr/local/lib/python3.10/dist-packages/keras/src/utils/traceback_utils.py\", line 117, in error_handler\nFile \"/usr/local/lib/python3.10/dist-packages/keras/src/backend/tensorflow/trainer.py\", line 320, in fit\nFile \"/usr/local/lib/python3.10/dist-packages/keras/src/backend/tensorflow/trainer.py\", line 121, in one_step_on_iterator\nFile \"/usr/local/lib/python3.10/dist-packages/tensorflow/core/function/polymorphism/function_type.py\", line 356, in placeholder_arguments\nFile \"/usr/local/lib/python3.10/dist-packages/tensorflow/core/function/trace_type/default_types.py\", line 250, in placeholder_value\nFile \"/usr/local/lib/python3.10/dist-packages/tensorflow/core/function/trace_type/default_types.py\", line 251, in <listcomp>\n\ttf2xla conversion failed while converting __inference_one_step_on_data_49214[]. Run with TF_DUMP_GRAPH_PREFIX=/path/to/dump/dir and --vmodule=xla_compiler=2 to obtain a dump of the compiled functions.\n\t [[StatefulPartitionedCall]] [Op:__inference_one_step_on_iterator_49615]"
          ]
        }
      ]
    },
    {
      "cell_type": "markdown",
      "source": [
        "Modelimizin özetini kontrol ederek çok sayıda toplam parametre olduğunu görebiliriz, ancak bunların çoğu eğitilemez. Bunun nedeni, USE özellik çıkarıcı katmanımızı yerleştirdiğimizde training=False'i ayarlamamızdır.\n",
        "\n",
        "Bu nedenle, modelimizi eğittiğimizde, yalnızca en iyi iki çıkış katmanı eğitilecektir."
      ],
      "metadata": {
        "id": "vaLEK50lBShK"
      }
    },
    {
      "cell_type": "code",
      "source": [
        "# Doğrulama veri kümesinin tamamını değerlendirin\n",
        "model_2.evaluate(valid_dataset)"
      ],
      "metadata": {
        "id": "-cBt8TNc_gRj",
        "colab": {
          "base_uri": "https://localhost:8080/",
          "height": 1000
        },
        "collapsed": true,
        "outputId": "896f7c45-ba49-44fb-8468-13511e4fa1ce"
      },
      "execution_count": null,
      "outputs": [
        {
          "output_type": "error",
          "ename": "InvalidArgumentError",
          "evalue": "Graph execution error:\n\nDetected at node data defined at (most recent call last):\n<stack traces unavailable>\nDetected at node data defined at (most recent call last):\n<stack traces unavailable>\nDetected unsupported operations when trying to compile graph __inference_one_step_on_data_50115[] on XLA_GPU_JIT: _Arg (No registered '_Arg' OpKernel for XLA_GPU_JIT devices compatible with node {{node data}}\n\t (OpKernel was found, but attributes didn't match) Requested Attributes: T=DT_STRING, _output_shapes=[[32]], _user_specified_name=\"data\", index=0){{node data}}\nThe op is created at: \nFile \"/usr/lib/python3.10/runpy.py\", line 196, in _run_module_as_main\nFile \"/usr/lib/python3.10/runpy.py\", line 86, in _run_code\nFile \"/usr/local/lib/python3.10/dist-packages/colab_kernel_launcher.py\", line 37, in <module>\nFile \"/usr/local/lib/python3.10/dist-packages/traitlets/config/application.py\", line 992, in launch_instance\nFile \"/usr/local/lib/python3.10/dist-packages/ipykernel/kernelapp.py\", line 619, in start\nFile \"/usr/local/lib/python3.10/dist-packages/tornado/platform/asyncio.py\", line 195, in start\nFile \"/usr/lib/python3.10/asyncio/base_events.py\", line 603, in run_forever\nFile \"/usr/lib/python3.10/asyncio/base_events.py\", line 1909, in _run_once\nFile \"/usr/lib/python3.10/asyncio/events.py\", line 80, in _run\nFile \"/usr/local/lib/python3.10/dist-packages/tornado/ioloop.py\", line 685, in <lambda>\nFile \"/usr/local/lib/python3.10/dist-packages/tornado/ioloop.py\", line 738, in _run_callback\nFile \"/usr/local/lib/python3.10/dist-packages/tornado/gen.py\", line 825, in inner\nFile \"/usr/local/lib/python3.10/dist-packages/tornado/gen.py\", line 786, in run\nFile \"/usr/local/lib/python3.10/dist-packages/ipykernel/kernelbase.py\", line 361, in process_one\nFile \"/usr/local/lib/python3.10/dist-packages/tornado/gen.py\", line 234, in wrapper\nFile \"/usr/local/lib/python3.10/dist-packages/ipykernel/kernelbase.py\", line 261, in dispatch_shell\nFile \"/usr/local/lib/python3.10/dist-packages/tornado/gen.py\", line 234, in wrapper\nFile \"/usr/local/lib/python3.10/dist-packages/ipykernel/kernelbase.py\", line 539, in execute_request\nFile \"/usr/local/lib/python3.10/dist-packages/tornado/gen.py\", line 234, in wrapper\nFile \"/usr/local/lib/python3.10/dist-packages/ipykernel/ipkernel.py\", line 302, in do_execute\nFile \"/usr/local/lib/python3.10/dist-packages/ipykernel/zmqshell.py\", line 539, in run_cell\nFile \"/usr/local/lib/python3.10/dist-packages/IPython/core/interactiveshell.py\", line 2975, in run_cell\nFile \"/usr/local/lib/python3.10/dist-packages/IPython/core/interactiveshell.py\", line 3030, in _run_cell\nFile \"/usr/local/lib/python3.10/dist-packages/IPython/core/async_helpers.py\", line 78, in _pseudo_sync_runner\nFile \"/usr/local/lib/python3.10/dist-packages/IPython/core/interactiveshell.py\", line 3257, in run_cell_async\nFile \"/usr/local/lib/python3.10/dist-packages/IPython/core/interactiveshell.py\", line 3473, in run_ast_nodes\nFile \"/usr/local/lib/python3.10/dist-packages/IPython/core/interactiveshell.py\", line 3553, in run_code\nFile \"<ipython-input-92-80b67b28824a>\", line 2, in <cell line: 2>\nFile \"/usr/local/lib/python3.10/dist-packages/keras/src/utils/traceback_utils.py\", line 117, in error_handler\nFile \"/usr/local/lib/python3.10/dist-packages/keras/src/backend/tensorflow/trainer.py\", line 433, in evaluate\nFile \"/usr/local/lib/python3.10/dist-packages/keras/src/backend/tensorflow/trainer.py\", line 165, in one_step_on_iterator\nFile \"/usr/local/lib/python3.10/dist-packages/tensorflow/core/function/polymorphism/function_type.py\", line 356, in placeholder_arguments\nFile \"/usr/local/lib/python3.10/dist-packages/tensorflow/core/function/trace_type/default_types.py\", line 250, in placeholder_value\nFile \"/usr/local/lib/python3.10/dist-packages/tensorflow/core/function/trace_type/default_types.py\", line 251, in <listcomp>\n\ttf2xla conversion failed while converting __inference_one_step_on_data_50115[]. Run with TF_DUMP_GRAPH_PREFIX=/path/to/dump/dir and --vmodule=xla_compiler=2 to obtain a dump of the compiled functions.\n\t [[StatefulPartitionedCall]] [Op:__inference_one_step_on_iterator_50496]",
          "traceback": [
            "\u001b[0;31m---------------------------------------------------------------------------\u001b[0m",
            "\u001b[0;31mInvalidArgumentError\u001b[0m                      Traceback (most recent call last)",
            "\u001b[0;32m<ipython-input-92-80b67b28824a>\u001b[0m in \u001b[0;36m<cell line: 2>\u001b[0;34m()\u001b[0m\n\u001b[1;32m      1\u001b[0m \u001b[0;31m# Doğrulama veri kümesinin tamamını değerlendirin\u001b[0m\u001b[0;34m\u001b[0m\u001b[0;34m\u001b[0m\u001b[0m\n\u001b[0;32m----> 2\u001b[0;31m \u001b[0mmodel_2\u001b[0m\u001b[0;34m.\u001b[0m\u001b[0mevaluate\u001b[0m\u001b[0;34m(\u001b[0m\u001b[0mvalid_dataset\u001b[0m\u001b[0;34m)\u001b[0m\u001b[0;34m\u001b[0m\u001b[0;34m\u001b[0m\u001b[0m\n\u001b[0m",
            "\u001b[0;32m/usr/local/lib/python3.10/dist-packages/keras/src/utils/traceback_utils.py\u001b[0m in \u001b[0;36merror_handler\u001b[0;34m(*args, **kwargs)\u001b[0m\n\u001b[1;32m    120\u001b[0m             \u001b[0;31m# To get the full stack trace, call:\u001b[0m\u001b[0;34m\u001b[0m\u001b[0;34m\u001b[0m\u001b[0m\n\u001b[1;32m    121\u001b[0m             \u001b[0;31m# `keras.config.disable_traceback_filtering()`\u001b[0m\u001b[0;34m\u001b[0m\u001b[0;34m\u001b[0m\u001b[0m\n\u001b[0;32m--> 122\u001b[0;31m             \u001b[0;32mraise\u001b[0m \u001b[0me\u001b[0m\u001b[0;34m.\u001b[0m\u001b[0mwith_traceback\u001b[0m\u001b[0;34m(\u001b[0m\u001b[0mfiltered_tb\u001b[0m\u001b[0;34m)\u001b[0m \u001b[0;32mfrom\u001b[0m \u001b[0;32mNone\u001b[0m\u001b[0;34m\u001b[0m\u001b[0;34m\u001b[0m\u001b[0m\n\u001b[0m\u001b[1;32m    123\u001b[0m         \u001b[0;32mfinally\u001b[0m\u001b[0;34m:\u001b[0m\u001b[0;34m\u001b[0m\u001b[0;34m\u001b[0m\u001b[0m\n\u001b[1;32m    124\u001b[0m             \u001b[0;32mdel\u001b[0m \u001b[0mfiltered_tb\u001b[0m\u001b[0;34m\u001b[0m\u001b[0;34m\u001b[0m\u001b[0m\n",
            "\u001b[0;32m/usr/local/lib/python3.10/dist-packages/tensorflow/python/eager/execute.py\u001b[0m in \u001b[0;36mquick_execute\u001b[0;34m(op_name, num_outputs, inputs, attrs, ctx, name)\u001b[0m\n\u001b[1;32m     51\u001b[0m   \u001b[0;32mtry\u001b[0m\u001b[0;34m:\u001b[0m\u001b[0;34m\u001b[0m\u001b[0;34m\u001b[0m\u001b[0m\n\u001b[1;32m     52\u001b[0m     \u001b[0mctx\u001b[0m\u001b[0;34m.\u001b[0m\u001b[0mensure_initialized\u001b[0m\u001b[0;34m(\u001b[0m\u001b[0;34m)\u001b[0m\u001b[0;34m\u001b[0m\u001b[0;34m\u001b[0m\u001b[0m\n\u001b[0;32m---> 53\u001b[0;31m     tensors = pywrap_tfe.TFE_Py_Execute(ctx._handle, device_name, op_name,\n\u001b[0m\u001b[1;32m     54\u001b[0m                                         inputs, attrs, num_outputs)\n\u001b[1;32m     55\u001b[0m   \u001b[0;32mexcept\u001b[0m \u001b[0mcore\u001b[0m\u001b[0;34m.\u001b[0m\u001b[0m_NotOkStatusException\u001b[0m \u001b[0;32mas\u001b[0m \u001b[0me\u001b[0m\u001b[0;34m:\u001b[0m\u001b[0;34m\u001b[0m\u001b[0;34m\u001b[0m\u001b[0m\n",
            "\u001b[0;31mInvalidArgumentError\u001b[0m: Graph execution error:\n\nDetected at node data defined at (most recent call last):\n<stack traces unavailable>\nDetected at node data defined at (most recent call last):\n<stack traces unavailable>\nDetected unsupported operations when trying to compile graph __inference_one_step_on_data_50115[] on XLA_GPU_JIT: _Arg (No registered '_Arg' OpKernel for XLA_GPU_JIT devices compatible with node {{node data}}\n\t (OpKernel was found, but attributes didn't match) Requested Attributes: T=DT_STRING, _output_shapes=[[32]], _user_specified_name=\"data\", index=0){{node data}}\nThe op is created at: \nFile \"/usr/lib/python3.10/runpy.py\", line 196, in _run_module_as_main\nFile \"/usr/lib/python3.10/runpy.py\", line 86, in _run_code\nFile \"/usr/local/lib/python3.10/dist-packages/colab_kernel_launcher.py\", line 37, in <module>\nFile \"/usr/local/lib/python3.10/dist-packages/traitlets/config/application.py\", line 992, in launch_instance\nFile \"/usr/local/lib/python3.10/dist-packages/ipykernel/kernelapp.py\", line 619, in start\nFile \"/usr/local/lib/python3.10/dist-packages/tornado/platform/asyncio.py\", line 195, in start\nFile \"/usr/lib/python3.10/asyncio/base_events.py\", line 603, in run_forever\nFile \"/usr/lib/python3.10/asyncio/base_events.py\", line 1909, in _run_once\nFile \"/usr/lib/python3.10/asyncio/events.py\", line 80, in _run\nFile \"/usr/local/lib/python3.10/dist-packages/tornado/ioloop.py\", line 685, in <lambda>\nFile \"/usr/local/lib/python3.10/dist-packages/tornado/ioloop.py\", line 738, in _run_callback\nFile \"/usr/local/lib/python3.10/dist-packages/tornado/gen.py\", line 825, in inner\nFile \"/usr/local/lib/python3.10/dist-packages/tornado/gen.py\", line 786, in run\nFile \"/usr/local/lib/python3.10/dist-packages/ipykernel/kernelbase.py\", line 361, in process_one\nFile \"/usr/local/lib/python3.10/dist-packages/tornado/gen.py\", line 234, in wrapper\nFile \"/usr/local/lib/python3.10/dist-packages/ipykernel/kernelbase.py\", line 261, in dispatch_shell\nFile \"/usr/local/lib/python3.10/dist-packages/tornado/gen.py\", line 234, in wrapper\nFile \"/usr/local/lib/python3.10/dist-packages/ipykernel/kernelbase.py\", line 539, in execute_request\nFile \"/usr/local/lib/python3.10/dist-packages/tornado/gen.py\", line 234, in wrapper\nFile \"/usr/local/lib/python3.10/dist-packages/ipykernel/ipkernel.py\", line 302, in do_execute\nFile \"/usr/local/lib/python3.10/dist-packages/ipykernel/zmqshell.py\", line 539, in run_cell\nFile \"/usr/local/lib/python3.10/dist-packages/IPython/core/interactiveshell.py\", line 2975, in run_cell\nFile \"/usr/local/lib/python3.10/dist-packages/IPython/core/interactiveshell.py\", line 3030, in _run_cell\nFile \"/usr/local/lib/python3.10/dist-packages/IPython/core/async_helpers.py\", line 78, in _pseudo_sync_runner\nFile \"/usr/local/lib/python3.10/dist-packages/IPython/core/interactiveshell.py\", line 3257, in run_cell_async\nFile \"/usr/local/lib/python3.10/dist-packages/IPython/core/interactiveshell.py\", line 3473, in run_ast_nodes\nFile \"/usr/local/lib/python3.10/dist-packages/IPython/core/interactiveshell.py\", line 3553, in run_code\nFile \"<ipython-input-92-80b67b28824a>\", line 2, in <cell line: 2>\nFile \"/usr/local/lib/python3.10/dist-packages/keras/src/utils/traceback_utils.py\", line 117, in error_handler\nFile \"/usr/local/lib/python3.10/dist-packages/keras/src/backend/tensorflow/trainer.py\", line 433, in evaluate\nFile \"/usr/local/lib/python3.10/dist-packages/keras/src/backend/tensorflow/trainer.py\", line 165, in one_step_on_iterator\nFile \"/usr/local/lib/python3.10/dist-packages/tensorflow/core/function/polymorphism/function_type.py\", line 356, in placeholder_arguments\nFile \"/usr/local/lib/python3.10/dist-packages/tensorflow/core/function/trace_type/default_types.py\", line 250, in placeholder_value\nFile \"/usr/local/lib/python3.10/dist-packages/tensorflow/core/function/trace_type/default_types.py\", line 251, in <listcomp>\n\ttf2xla conversion failed while converting __inference_one_step_on_data_50115[]. Run with TF_DUMP_GRAPH_PREFIX=/path/to/dump/dir and --vmodule=xla_compiler=2 to obtain a dump of the compiled functions.\n\t [[StatefulPartitionedCall]] [Op:__inference_one_step_on_iterator_50496]"
          ]
        }
      ]
    },
    {
      "cell_type": "code",
      "source": [
        "# Özellik çıkarma modeliyle tahminler yapın\n",
        "model_2_pred_probs = model_2.predict(valid_dataset)\n",
        "model_2_pred_probs[:10]"
      ],
      "metadata": {
        "id": "oV575nLT_gOt"
      },
      "execution_count": null,
      "outputs": []
    },
    {
      "cell_type": "code",
      "source": [
        "# Özellik çıkarma modeliyle tahminleri sınıflara dönüştürün\n",
        "model_2_preds = tf.argmax(model_2_pred_probs, axis = 1)\n",
        "model_2_preds[:10]"
      ],
      "metadata": {
        "id": "VpvF9Oig_gHJ"
      },
      "execution_count": null,
      "outputs": []
    },
    {
      "cell_type": "code",
      "source": [
        "# Doğrulama kümesindeki TF Hub önceden eğitilmiş yerleştirme sonuçlarından sonuçları hesaplayın\n",
        "model_2_results = calculate_results(y_true=val_labels_encoded,\n",
        "                                    y_pred=model_2_preds)\n",
        "model_2_results"
      ],
      "metadata": {
        "id": "NgG6ck4b_f48"
      },
      "execution_count": null,
      "outputs": []
    },
    {
      "cell_type": "markdown",
      "source": [
        "### **3.9. Karakter Düzeyinde Conv1D İle Modelleme ve Değerlendirme**"
      ],
      "metadata": {
        "id": "vLOtWFSJj5Ax"
      }
    },
    {
      "cell_type": "markdown",
      "source": [
        "Medical Paper Abstracts makalesinde Ortak Cümle Sınıflandırması için Sinir Ağları, modellerinin belirteç ve karakter gömmelerinin bir karışımını kullandığından bahseder. https://arxiv.org/pdf/1612.05251\n",
        "\n",
        "Özel bir belirteç gömme ve önceden eğitilmiş bir belirteç gömme ile modeller oluşturduk, bir karakter gömme kullanarak bir tane oluşturmaya ne dersiniz?\n",
        "\n",
        "Bir karakter ve belirteç gömme arasındaki fark, karakter gömmenin karakterlere bölünmüş diziler kullanılarak oluşturulmasıdır (örneğin, merhaba -> [h, e, l, l, o]), burada bir belirteç gömme, belirteçlere bölünmüş diziler üzerinde oluşturulur.\n",
        "\n",
        "Belirteç seviyesi, dizileri belirteçlere (kelimelere) böler ve her birini gömer, karakter gömer, dizileri karakterlere böler ve her biri için bir özellik vektörü oluşturur.\n",
        "\n",
        "TextVectorization sınıfını kullanarak önce dizilerimizi (karakterlere ayrıldıktan sonra) vektörleştirerek ve ardından bu vektörleştirilmiş dizileri bir Gömme katmanından geçirerek karakter düzeyinde bir gömme oluşturabiliriz.\n",
        "\n",
        "Dizilerimizi bir karakter düzeyinde vektörleştirmeden önce onları karakterlere ayırmamız gerekecek. Bunu yapmak için bir işlev yazalım.\n",
        "\n",
        "- belirteç = token...\n",
        "- karakter embedding --> her bir hard feature vector'e dönüşür.\n",
        "- **Yukarıda oluşturduğumuz vektörler kelime içindi. Bu çalışma için verileri karakter olarakbiçimlendirme gerekli.**\n",
        "- Her karakteri, harfi bir tam sayıya dönüştürür."
      ],
      "metadata": {
        "id": "okrK5qhkCwbs"
      }
    },
    {
      "cell_type": "code",
      "source": [
        "# Cümleleri karakterlere bölme işlevi yapın\n",
        "def split_chars(text):\n",
        "  return\" \".join(list(text))\n",
        "\n",
        "# Karakter düzeyinde olmayan diziyi karakterlere bölmeyi test edin\n",
        "split_chars(random_training_sentence)"
      ],
      "metadata": {
        "id": "NHHfexcbDTtw",
        "colab": {
          "base_uri": "https://localhost:8080/",
          "height": 103
        },
        "outputId": "4c481759-7180-45be-e777-e6c54784269a"
      },
      "execution_count": null,
      "outputs": [
        {
          "output_type": "execute_result",
          "data": {
            "text/plain": [
              "'r e s u l t s   w e r e   r o b u s t   t o   e x t e n s i v e   s e n s i t i v i t y   a n a l y s e s   ,   i n c l u d i n g   v a r i a t i o n s   i n   c l o p i d o g r e l   c o s t   ,   e x c l u s i o n   o f   c o s t s   i n   e x t e n d e d   y e a r s   o f   l i f e   ,   a n d   a   r e c a l i b r a t e d   e s t i m a t e   o f   s u r v i v a l   r e f l e c t i n g   a   l o w e r   u n d e r l y i n g   m o r t a l i t y   r i s k   i n   t h e   u n i t e d   s t a t e s   .'"
            ],
            "application/vnd.google.colaboratory.intrinsic+json": {
              "type": "string"
            }
          },
          "metadata": {},
          "execution_count": 82
        }
      ]
    },
    {
      "cell_type": "code",
      "source": [
        "# Sıra düzeyindeki verileri karakter düzeyindeki veri bölmelerine bölme\n",
        "train_chars = [split_chars(sentence) for sentence in train_sentences]\n",
        "val_chars = [split_chars(sentence) for sentence in val_sentences]\n",
        "test_chars = [split_chars(sentence) for sentence in test_sentences]\n",
        "print(train_chars[0])"
      ],
      "metadata": {
        "id": "ubehHG1BDTq7",
        "colab": {
          "base_uri": "https://localhost:8080/"
        },
        "outputId": "9f3d6524-222c-408c-e02c-5f210fe3bf67"
      },
      "execution_count": null,
      "outputs": [
        {
          "output_type": "stream",
          "name": "stdout",
          "text": [
            "t o   i n v e s t i g a t e   t h e   e f f i c a c y   o f   @   w e e k s   o f   d a i l y   l o w - d o s e   o r a l   p r e d n i s o l o n e   i n   i m p r o v i n g   p a i n   ,   m o b i l i t y   ,   a n d   s y s t e m i c   l o w - g r a d e   i n f l a m m a t i o n   i n   t h e   s h o r t   t e r m   a n d   w h e t h e r   t h e   e f f e c t   w o u l d   b e   s u s t a i n e d   a t   @   w e e k s   i n   o l d e r   a d u l t s   w i t h   m o d e r a t e   t o   s e v e r e   k n e e   o s t e o a r t h r i t i s   (   o a   )   .\n"
          ]
        }
      ]
    },
    {
      "cell_type": "code",
      "source": [
        "# Ortalama karakter uzunluğu nedir?\n",
        "char_lens = [len(sentence) for sentence in train_sentences]\n",
        "mean_char_len = np.mean(char_lens)\n",
        "mean_char_len"
      ],
      "metadata": {
        "id": "XK66ddldDTlt",
        "colab": {
          "base_uri": "https://localhost:8080/"
        },
        "outputId": "771f17c8-29a0-43c2-d6c5-f9d4060b3f8c"
      },
      "execution_count": null,
      "outputs": [
        {
          "output_type": "execute_result",
          "data": {
            "text/plain": [
              "149.3662574983337"
            ]
          },
          "metadata": {},
          "execution_count": 84
        }
      ]
    },
    {
      "cell_type": "code",
      "source": [
        "# Dizilerimizin karakter düzeyinde dağılımını kontrol edin\n",
        "import matplotlib.pyplot as plt\n",
        "plt.hist(char_lens, bins=7);"
      ],
      "metadata": {
        "id": "ctl0cUqUDTjE",
        "colab": {
          "base_uri": "https://localhost:8080/",
          "height": 430
        },
        "outputId": "46074bab-fd86-4a99-f544-46519281247e"
      },
      "execution_count": null,
      "outputs": [
        {
          "output_type": "display_data",
          "data": {
            "text/plain": [
              "<Figure size 640x480 with 1 Axes>"
            ],
            "image/png": "[encoded data removed]"
          },
          "metadata": {}
        }
      ]
    },
    {
      "cell_type": "code",
      "source": [
        "# Hangi karakter uzunluğunun dizilerin %95'ini kapsadığını bulun\n",
        "output_seq_char_len = int(np.percentile(char_lens, 95))\n",
        "output_seq_char_len"
      ],
      "metadata": {
        "id": "rBNo-3h2DTgp",
        "colab": {
          "base_uri": "https://localhost:8080/"
        },
        "outputId": "7f497a4a-95d3-48ab-c27f-c554076cc669"
      },
      "execution_count": null,
      "outputs": [
        {
          "output_type": "execute_result",
          "data": {
            "text/plain": [
              "290"
            ]
          },
          "metadata": {},
          "execution_count": 86
        }
      ]
    },
    {
      "cell_type": "markdown",
      "source": [
        "Böylece dizilerin %95'ini kapsayan dizi uzunluğunu biliyoruz, bunu TextVectorization katmanımızda output_sequence_length parametresi olarak kullanacağız.\n",
        "\n",
        "🔑 Not: En uygun output_sequence_length'in ne olması gerektiğini bulmak için burada deney yapabilirsiniz, belki de ortalama sonuçları %95 yüzdelik dilim kullanmak kadar iyi sonuçlar elde edebilirsiniz.\n",
        "\n",
        "Max_tokens'i (dizilerimizdeki farklı karakterlerin toplam sayısı) 28, başka bir deyişle, alfabenin 26 harfi + boşluk + OOV (kelime dağarcığı dışında veya bilinmeyen) belirteçleri olarak ayarlayacağız."
      ],
      "metadata": {
        "id": "Gj_nX7_w1JHZ"
      }
    },
    {
      "cell_type": "code",
      "source": [
        "# Karakter düzeyinde yerleştirme için tüm klavye karakterlerini alın\n",
        "import string\n",
        "alphabet = string.ascii_lowercase + string.digits + string.punctuation\n",
        "alphabet\n",
        "\n",
        "# ascii --> tüm küçük harfleri kullanmak için"
      ],
      "metadata": {
        "id": "hCtaNLf1DTbz",
        "colab": {
          "base_uri": "https://localhost:8080/",
          "height": 35
        },
        "outputId": "bce5502f-475b-4281-e774-e516cf241e0a"
      },
      "execution_count": null,
      "outputs": [
        {
          "output_type": "execute_result",
          "data": {
            "text/plain": [
              "'abcdefghijklmnopqrstuvwxyz0123456789!\"#$%&\\'()*+,-./:;<=>?@[\\\\]^_`{|}~'"
            ],
            "application/vnd.google.colaboratory.intrinsic+json": {
              "type": "string"
            }
          },
          "metadata": {},
          "execution_count": 87
        }
      ]
    },
    {
      "cell_type": "markdown",
      "source": [
        "- `string.ascii_lowercase`: Küçük harflerden oluşan bir sabit (a'dan z'ye kadar olan harfler).\n",
        "  \n",
        "- `string.digits`: Sayılardan oluşan bir sabit (0'dan 9'a kadar olan rakamlar).\n",
        "  \n",
        "- `string.punctuation`: Tüm yaygın noktalama işaretlerini içeren bir sabit (örn. `!\"#$%&'()*+,-./:;<=>?@[\\\\]^_`{|}~`).\n",
        "\n",
        "Bu üç sabitin birleşimi, küçük harfler, rakamlar ve noktalama işaretlerinin birleştirilmesinden oluşan **alfabe**yi oluşturur."
      ],
      "metadata": {
        "id": "mNV1LItTFg2q"
      }
    },
    {
      "cell_type": "code",
      "source": [
        "# Karakter düzeyinde belirteç vektörleştirici örneği oluşturun\n",
        "\n",
        "NUM_CHAR_TOKENS = len(alphabet) + 2 #alfabedeki karakter sayısı + boşluk + OOV belirteci\n",
        "\n",
        "char_vectorizer = TextVectorization(max_tokens=NUM_CHAR_TOKENS,\n",
        "                                    output_sequence_length=output_seq_char_len,\n",
        "                                    standardize=\"lower_and_strip_punctuation\",\n",
        "                                    name=\"char_vectorizer\")\n",
        "\n",
        "# Karakter vektörleştiricisini eğitim karakterlerine uyarlayın\n",
        "char_vectorizer.adapt(train_chars)"
      ],
      "metadata": {
        "id": "ALCNGOABzUHd"
      },
      "execution_count": null,
      "outputs": []
    },
    {
      "cell_type": "markdown",
      "source": [
        "standardizasyon None olsaydı, çıktı;\n",
        "\n",
        "- 57\n",
        "- '', [UNK], 'e', 't', 'i'\n",
        "- 'I', '\"', ']', '//', ...olurdu.\n",
        "\n",
        "Yani none ile noktalama işaretlerini terketmiş olursunuz.\n",
        "\n",
        "`standardize` parametresi, `TextVectorization` katmanının nasıl bir **ön işleme** yapacağına karar verir. Bu parametre, metni modelin girişine uygun hale getirmeden önce uygulanan işlemleri kontrol eder.\n",
        "\n",
        "`TextVectorization` katmanı, metin verisini bir sayısal temsile dönüştürmeden önce bazı metin ön işleme adımları uygular. Bu işlem, metnin formatını ve biçimini standart hale getirmeye yardımcı olur. `standardize` parametresi, bu ön işleme işleminin nasıl yapılacağını belirler.\n",
        "\n",
        "**Kullanılabilecek `standardize` seçenekleri:**\n",
        "\n",
        "1. **`\"lower_and_strip_punctuation\"`**:\n",
        "   - Bu seçenek, metni **küçük harfe** dönüştürür ve **noktalama işaretlerini** temizler. Yani, metni küçük harflerle yazacak ve noktalama işaretlerini kaldıracaktır.\n",
        "   \n",
        "   Örneğin:\n",
        "   ```python\n",
        "   \"Merhaba, dünya!\" -> \"merhaba dunya\"\n",
        "   ```\n",
        "\n",
        "2. **`\"lower\"`**:\n",
        "   - Sadece metni **küçük harfe** dönüştürür.\n",
        "   \n",
        "   Örneğin:\n",
        "   ```python\n",
        "   \"Merhaba, dünya!\" -> \"merhaba, dünya!\"\n",
        "   ```\n",
        "\n",
        "3. **`\"strip_punctuation\"`**:\n",
        "   - Yalnızca **noktalama işaretlerini kaldırır**, ama büyük/küçük harf farkını korur.\n",
        "   \n",
        "   Örneğin:\n",
        "   ```python\n",
        "   \"Merhaba, dünya!\" -> \"Merhaba dünya\"\n",
        "   ```\n",
        "\n",
        "4. **`None` (Varsayılan)**:\n",
        "   - Hiçbir standartlaştırma yapılmaz. Yani, metin olduğu gibi kalır.\n",
        "   \n",
        "   Örneğin:\n",
        "   ```python\n",
        "   \"Merhaba, dünya!\" -> \"Merhaba, dünya!\"\n",
        "   ```\n",
        "\n",
        "5. **Özel Fonksiyon**:\n",
        "   - Kendi özel standardizasyon fonksiyonunuzu yazabilirsiniz. Örneğin, belirli kelimeleri değiştirmek veya bazı karakterleri silmek gibi.\n",
        "\n",
        "`char_vectorizer.adapt(train_chars)`\n",
        "\n",
        "Son olarak, `char_vectorizer.adapt(train_chars)` satırı, `train_chars` adlı eğitim verisi üzerinde bu vektörleştiriciyi **uyarlamak** için kullanılır. Bu işlem sırasında, `train_chars` verisindeki karakterler gözlemlenir ve model, her karakterin sayısal bir temsilini oluşturmak için uygun parametreleri öğrenir."
      ],
      "metadata": {
        "id": "JkHlH_262aoM"
      }
    },
    {
      "cell_type": "code",
      "source": [
        "# Karakter sözlüğü özelliklerini kontrol edin\n",
        "char_vocab = char_vectorizer.get_vocabulary()\n",
        "print(f\"Karakter sözlüğündeki farklı karakterlerin sayısı: {len(char_vocab)}\")\n",
        "print(f\"En yaygın 5 karakter: {char_vocab[:5]}\")\n",
        "print(f\"En az yaygın olan 5 karakter: {char_vocab[-5:]}\")"
      ],
      "metadata": {
        "id": "3_skzRjfzb5-",
        "colab": {
          "base_uri": "https://localhost:8080/"
        },
        "outputId": "b86569f5-037a-4e3c-a21b-92cffd3d8583"
      },
      "execution_count": null,
      "outputs": [
        {
          "output_type": "stream",
          "name": "stdout",
          "text": [
            "Karakter sözlüğündeki farklı karakterlerin sayısı: 28\n",
            "En yaygın 5 karakter: ['', '[UNK]', 'e', 't', 'i']\n",
            "En az yaygın olan 5 karakter: ['k', 'x', 'z', 'q', 'j']\n"
          ]
        }
      ]
    },
    {
      "cell_type": "code",
      "source": [
        "# Karakter vektörleştiricisini test edin\n",
        "\n",
        "random_train_chars = random.choice(train_chars)\n",
        "print(f\"Charified text:\\n{random_train_chars}\")\n",
        "print(f\"\\nLength of chars: {len(random_train_chars.split())}\")\n",
        "\n",
        "vectorized_chars = char_vectorizer([random_train_chars])\n",
        "print(f\"\\nVectorized chars:\\n{vectorized_chars}\")\n",
        "print(f\"\\nLength of vectorized chars: {len(vectorized_chars[0])}\")"
      ],
      "metadata": {
        "id": "gnG-A9Fzzb2a",
        "colab": {
          "base_uri": "https://localhost:8080/"
        },
        "outputId": "2e0809b5-3e0c-421b-848a-fbb3ff11fdc6"
      },
      "execution_count": null,
      "outputs": [
        {
          "output_type": "stream",
          "name": "stdout",
          "text": [
            "Charified text:\n",
            "b e f o r e   t r e a t m e n t   ,   t h e r e   w a s   n o   s i g n i f i c a n t   d i f f e r e n c e   b e t w e e n   t w o   g r o u p s   i n   e a c h   i n d e x   (   p   >   @   )   .\n",
            "\n",
            "Length of chars: 80\n",
            "\n",
            "Vectorized chars:\n",
            "[[22  2 17  7  8  2  3  8  2  5  3 15  2  6  3  3 13  2  8  2 20  5  9  6\n",
            "   7  9  4 18  6  4 17  4 11  5  6  3 10  4 17 17  2  8  2  6 11  2 22  2\n",
            "   3 20  2  2  6  3 20  7 18  8  7 16 14  9  4  6  2  5 11 13  4  6 10  2\n",
            "  24 14  0  0  0  0  0  0  0  0  0  0  0  0  0  0  0  0  0  0  0  0  0  0\n",
            "   0  0  0  0  0  0  0  0  0  0  0  0  0  0  0  0  0  0  0  0  0  0  0  0\n",
            "   0  0  0  0  0  0  0  0  0  0  0  0  0  0  0  0  0  0  0  0  0  0  0  0\n",
            "   0  0  0  0  0  0  0  0  0  0  0  0  0  0  0  0  0  0  0  0  0  0  0  0\n",
            "   0  0  0  0  0  0  0  0  0  0  0  0  0  0  0  0  0  0  0  0  0  0  0  0\n",
            "   0  0  0  0  0  0  0  0  0  0  0  0  0  0  0  0  0  0  0  0  0  0  0  0\n",
            "   0  0  0  0  0  0  0  0  0  0  0  0  0  0  0  0  0  0  0  0  0  0  0  0\n",
            "   0  0  0  0  0  0  0  0  0  0  0  0  0  0  0  0  0  0  0  0  0  0  0  0\n",
            "   0  0  0  0  0  0  0  0  0  0  0  0  0  0  0  0  0  0  0  0  0  0  0  0\n",
            "   0  0]]\n",
            "\n",
            "Length of vectorized chars: 290\n"
          ]
        }
      ]
    },
    {
      "cell_type": "markdown",
      "source": [
        "Uzunluğu 290'dan (output_seq_char_length) daha kısa olan dizilerin sonunda sıfırlarla doldurulduğunu fark edeceksiniz, bu da modelimize geçirilen tüm dizilerin aynı uzunlukta olmasını sağlar.\n",
        "\n",
        "Ayrıca, TextVectorization'ın standartlaştırma parametresinin \"lower_and_strip_punctuation\" ve bölünmüş parametrenin varsayılan olarak \"whitespace\" olması nedeniyle, semboller (@ gibi) ve boşluklar kaldırılır.\n",
        "\n",
        "🔑 Not: Noktalama işaretlerinin kaldırılmasını istemediyseniz (@, % vb. tutun), özel bir standardizasyon çağrılabilir oluşturabilir ve bunu standartlaştırma parametresi olarak geçirebilirsiniz. Daha fazla bilgi için TextVectorization katmanı belgelerine bakın."
      ],
      "metadata": {
        "id": "egnMTV7E3zRJ"
      }
    },
    {
      "cell_type": "markdown",
      "source": [
        "**Karakter düzeyinde bir gömme oluşturma**\n",
        "\n",
        "Karakter düzeyindeki dizilerimizi vektörleştirmenin bir yolu var, şimdi bir karakter düzeyinde gömme oluşturma zamanı.\n",
        "\n",
        "Tıpkı özel belirteç gömmemiz gibi, bunu tensorflow.keras.layers.Embedding sınıfını kullanarak yapabiliriz. https://www.tensorflow.org/api_docs/python/tf/keras/layers/Embedding\n",
        "\n",
        "Karakter düzeyinde gömme katmanımız bir giriş boyutu ve çıkış boyutu gerektirir.\n",
        "\n",
        "Giriş boyutu (input_dim), char_vocab'ımızdaki (28) farklı karakterlerin sayısına eşit olacaktır. Ve Tıbbi Kağıt Özetlerinde Ortak Cümle Sınıflandırması için Sinir Ağları Şekil 1'deki modelin yapısını takip ettiğimizden, karakter gömmenin (output_dim) çıktı boyutu 25 olacaktır. https://arxiv.org/pdf/1612.05251\n",
        "\n",
        "dokümanda, input_dim --> int. Kelime haznesidir. Örneğin max tamsayı indexi +1 gibi.\n",
        "\n",
        "output_dim --> int. Yoğun gömmenin şekilsel boyutu."
      ],
      "metadata": {
        "id": "BmIAWK9f313t"
      }
    },
    {
      "cell_type": "code",
      "source": [
        "# Karakter gömmesi katmanı oluştur\n",
        "char_embed = layers.Embedding(\n",
        "    input_dim = NUM_CHAR_TOKENS,  # farklı karakter sayısı\n",
        "    output_dim = 25,              # her karakterin yerleştirme boyutu (Figure 1 ile aynı https://arxiv.org/pdf/1612.05251.pdf)\n",
        "    mask_zero = True,             # maske kullanmayın (True olarak ayarlanırsa bu model_5'i bozar)\n",
        "    name = \"char_embedding\"\n",
        ")\n",
        "\n",
        "# Karakter yerleştirme katmanını test edin\n",
        "print(f\"Charified metin (vektörleştirme ve yerleştirmeden önce):\\n{random_train_chars}\\n\")\n",
        "\n",
        "char_embed_example = char_embed(char_vectorizer([random_train_chars]))\n",
        "\n",
        "print(f\"Gömülü karakterler (vektörleştirme ve yerleştirmeden sonra):\\n{char_embed_example}\\n\")\n",
        "\n",
        "print(f\"Karakter yerleştirme şekli: {char_embed_example.shape}\")"
      ],
      "metadata": {
        "id": "nPSTWmFNzb0G",
        "colab": {
          "base_uri": "https://localhost:8080/"
        },
        "outputId": "eeee8d06-0614-4606-bb96-cdd0ae8e71c5"
      },
      "execution_count": null,
      "outputs": [
        {
          "output_type": "stream",
          "name": "stdout",
          "text": [
            "Charified metin (vektörleştirme ve yerleştirmeden önce):\n",
            "b e f o r e   t r e a t m e n t   ,   t h e r e   w a s   n o   s i g n i f i c a n t   d i f f e r e n c e   b e t w e e n   t w o   g r o u p s   i n   e a c h   i n d e x   (   p   >   @   )   .\n",
            "\n",
            "Gömülü karakterler (vektörleştirme ve yerleştirmeden sonra):\n",
            "[[[ 0.0394259   0.02469474 -0.04906693 ... -0.03765197 -0.01020537\n",
            "    0.04477144]\n",
            "  [-0.028685    0.01803899  0.01715585 ... -0.03201541  0.01884799\n",
            "    0.04072127]\n",
            "  [-0.04388865  0.00688157 -0.02571483 ... -0.02481255  0.00622012\n",
            "    0.0067553 ]\n",
            "  ...\n",
            "  [-0.02440536  0.0424017  -0.02214311 ...  0.01463326  0.03493572\n",
            "   -0.0461356 ]\n",
            "  [-0.02440536  0.0424017  -0.02214311 ...  0.01463326  0.03493572\n",
            "   -0.0461356 ]\n",
            "  [-0.02440536  0.0424017  -0.02214311 ...  0.01463326  0.03493572\n",
            "   -0.0461356 ]]]\n",
            "\n",
            "Karakter yerleştirme şekli: (1, 290, 25)\n"
          ]
        }
      ]
    },
    {
      "cell_type": "markdown",
      "source": [
        "Dizilerimizdeki karakterlerin her biri 25 boyutlu bir gömmeye dönüştürülür. Her bir harf özellik vektörüne dönüştü.\n",
        "\n",
        "290 uzunluğa kadar sıfırlarla doldurulur. 1 dizi var, 290 karakter var (char vectorizer kaç harf olursa olsun 290'a kadar padding yapar), 25 gömme karakteri.\n",
        "\n",
        "Şimdi karakter düzeyindeki dizilerimizi sayılara (char_vectorizer) dönüştürmenin ve onları bir gömme (char_embed) olarak sayısal olarak temsil etmenin bir yolu var, karakter düzeyinde bir dizi modeli oluşturarak dizilerimizdeki bilgileri kodlamada ne kadar etkili olduklarını test edelim.\n",
        "\n",
        "Model, özel belirteç yerleştirme modelimizle (model_1) aynı yapıya sahip olacaktır, ancak belirteç düzeyinde diziler yerine karakter düzeyinde diziler giriş olarak alacaktır.\n",
        "\n",
        "Input (character-level text) -> Tokenize -> Embedding -> Layers (Conv1D, GlobalMaxPool1D) -> Output (label probability)"
      ],
      "metadata": {
        "id": "DavlQQnd5nA9"
      }
    },
    {
      "cell_type": "code",
      "source": [
        "%%time\n",
        "# Karakterler için (harf) Conv1D hazırlama\n",
        "inputs = layers.Input(shape = (1,), dtype = \"string\")\n",
        "char_vectors = char_vectorizer(inputs)\n",
        "char_embeddings = char_embed(char_vectors)\n",
        "x = layers.Conv1D(64, kernel_size = 5, padding = \"same\", activation = \"relu\")(char_embeddings)\n",
        "x = layers.GlobalMaxPool1D()(x)\n",
        "outputs = layers.Dense(num_classes, activation = \"softmax\")(x)\n",
        "model_3 = tf.keras.Model(\n",
        "    inputs = inputs,\n",
        "    outputs = outputs,\n",
        "    name = \"model_3_conv1D_char_embedding\"\n",
        ")\n",
        "\n",
        "# Modelin derlenmesi\n",
        "model_3.compile(\n",
        "    loss = \"categorical_crossentropy\",\n",
        "    optimizer = tf.keras.optimizers.Adam(),\n",
        "    metrics = [\"accuracy\"]\n",
        ")\n",
        "\n",
        "# Modelimizi verilere sığdırmadan önce, karakter düzeyinde toplu PrefetchedDataset'ler oluşturmalıyız\n",
        "train_char_dataset = tf.data.Dataset.from_tensor_slices((train_chars, train_labels_one_hot)).batch(32).prefetch(tf.data.AUTOTUNE)\n",
        "val_char_dataset = tf.data.Dataset.from_tensor_slices((val_chars, val_labels_one_hot)).batch(32).prefetch(tf.data.AUTOTUNE)\n",
        "\n",
        "print(train_char_dataset)\n",
        "\n",
        "# Modeli uydur\n",
        "model_3_history = model_3.fit(\n",
        "    train_char_dataset,\n",
        "    steps_per_epoch=int(0.1 * len(train_char_dataset)),\n",
        "    epochs=3,\n",
        "    validation_data=val_char_dataset,\n",
        "    validation_steps=int(0.1 * len(val_char_dataset))\n",
        "    )\n",
        "\n",
        "# Model özeti\n",
        "model_3.summary()"
      ],
      "metadata": {
        "id": "dT_aU8T96Srn",
        "colab": {
          "base_uri": "https://localhost:8080/",
          "height": 560
        },
        "outputId": "693a612a-6e61-4ddd-88f2-bd774ca7601c"
      },
      "execution_count": null,
      "outputs": [
        {
          "output_type": "stream",
          "name": "stderr",
          "text": [
            "/usr/local/lib/python3.10/dist-packages/keras/src/layers/layer.py:934: UserWarning: Layer 'conv1d_2' (of type Conv1D) was passed an input with a mask attached to it. However, this layer does not support masking and will therefore destroy the mask information. Downstream layers will not see the mask.\n",
            "  warnings.warn(\n"
          ]
        },
        {
          "output_type": "stream",
          "name": "stdout",
          "text": [
            "<_PrefetchDataset element_spec=(TensorSpec(shape=(None,), dtype=tf.string, name=None), TensorSpec(shape=(None, 5), dtype=tf.float64, name=None))>\n",
            "Epoch 1/3\n",
            "\u001b[1m562/562\u001b[0m \u001b[32m━━━━━━━━━━━━━━━━━━━━\u001b[0m\u001b[37m\u001b[0m \u001b[1m5s\u001b[0m 6ms/step - accuracy: 0.4197 - loss: 1.3969 - val_accuracy: 0.5814 - val_loss: 1.0622\n",
            "Epoch 2/3\n",
            "\u001b[1m562/562\u001b[0m \u001b[32m━━━━━━━━━━━━━━━━━━━━\u001b[0m\u001b[37m\u001b[0m \u001b[1m3s\u001b[0m 5ms/step - accuracy: 0.5800 - loss: 1.0410 - val_accuracy: 0.6316 - val_loss: 0.9509\n",
            "Epoch 3/3\n",
            "\u001b[1m562/562\u001b[0m \u001b[32m━━━━━━━━━━━━━━━━━━━━\u001b[0m\u001b[37m\u001b[0m \u001b[1m3s\u001b[0m 5ms/step - accuracy: 0.6223 - loss: 0.9517 - val_accuracy: 0.6446 - val_loss: 0.8973\n"
          ]
        },
        {
          "output_type": "display_data",
          "data": {
            "text/plain": [
              "\u001b[1mModel: \"model_3_conv1D_char_embedding\"\u001b[0m\n"
            ],
            "text/html": [
              "<pre style=\"white-space:pre;overflow-x:auto;line-height:normal;font-family:Menlo,'DejaVu Sans Mono',consolas,'Courier New',monospace\"><span style=\"font-weight: bold\">Model: \"model_3_conv1D_char_embedding\"</span>\n",
              "</pre>\n"
            ]
          },
          "metadata": {}
        },
        {
          "output_type": "display_data",
          "data": {
            "text/plain": [
              "┏━━━━━━━━━━━━━━━━━━━━━━━━━━━━━━━━━━━━━━┳━━━━━━━━━━━━━━━━━━━━━━━━━━━━━┳━━━━━━━━━━━━━━━━━┓\n",
              "┃\u001b[1m \u001b[0m\u001b[1mLayer (type)                        \u001b[0m\u001b[1m \u001b[0m┃\u001b[1m \u001b[0m\u001b[1mOutput Shape               \u001b[0m\u001b[1m \u001b[0m┃\u001b[1m \u001b[0m\u001b[1m        Param #\u001b[0m\u001b[1m \u001b[0m┃\n",
              "┡━━━━━━━━━━━━━━━━━━━━━━━━━━━━━━━━━━━━━━╇━━━━━━━━━━━━━━━━━━━━━━━━━━━━━╇━━━━━━━━━━━━━━━━━┩\n",
              "│ input_layer_22 (\u001b[38;5;33mInputLayer\u001b[0m)          │ (\u001b[38;5;45mNone\u001b[0m, \u001b[38;5;34m1\u001b[0m)                   │               \u001b[38;5;34m0\u001b[0m │\n",
              "├──────────────────────────────────────┼─────────────────────────────┼─────────────────┤\n",
              "│ char_vectorizer (\u001b[38;5;33mTextVectorization\u001b[0m)  │ (\u001b[38;5;45mNone\u001b[0m, \u001b[38;5;34m290\u001b[0m)                 │               \u001b[38;5;34m0\u001b[0m │\n",
              "├──────────────────────────────────────┼─────────────────────────────┼─────────────────┤\n",
              "│ char_embedding (\u001b[38;5;33mEmbedding\u001b[0m)           │ (\u001b[38;5;45mNone\u001b[0m, \u001b[38;5;34m290\u001b[0m, \u001b[38;5;34m25\u001b[0m)             │           \u001b[38;5;34m1,750\u001b[0m │\n",
              "├──────────────────────────────────────┼─────────────────────────────┼─────────────────┤\n",
              "│ conv1d_2 (\u001b[38;5;33mConv1D\u001b[0m)                    │ (\u001b[38;5;45mNone\u001b[0m, \u001b[38;5;34m290\u001b[0m, \u001b[38;5;34m64\u001b[0m)             │           \u001b[38;5;34m8,064\u001b[0m │\n",
              "├──────────────────────────────────────┼─────────────────────────────┼─────────────────┤\n",
              "│ global_max_pooling1d                 │ (\u001b[38;5;45mNone\u001b[0m, \u001b[38;5;34m64\u001b[0m)                  │               \u001b[38;5;34m0\u001b[0m │\n",
              "│ (\u001b[38;5;33mGlobalMaxPooling1D\u001b[0m)                 │                             │                 │\n",
              "├──────────────────────────────────────┼─────────────────────────────┼─────────────────┤\n",
              "│ dense_11 (\u001b[38;5;33mDense\u001b[0m)                     │ (\u001b[38;5;45mNone\u001b[0m, \u001b[38;5;34m5\u001b[0m)                   │             \u001b[38;5;34m325\u001b[0m │\n",
              "└──────────────────────────────────────┴─────────────────────────────┴─────────────────┘\n"
            ],
            "text/html": [
              "<pre style=\"white-space:pre;overflow-x:auto;line-height:normal;font-family:Menlo,'DejaVu Sans Mono',consolas,'Courier New',monospace\">┏━━━━━━━━━━━━━━━━━━━━━━━━━━━━━━━━━━━━━━┳━━━━━━━━━━━━━━━━━━━━━━━━━━━━━┳━━━━━━━━━━━━━━━━━┓\n",
              "┃<span style=\"font-weight: bold\"> Layer (type)                         </span>┃<span style=\"font-weight: bold\"> Output Shape                </span>┃<span style=\"font-weight: bold\">         Param # </span>┃\n",
              "┡━━━━━━━━━━━━━━━━━━━━━━━━━━━━━━━━━━━━━━╇━━━━━━━━━━━━━━━━━━━━━━━━━━━━━╇━━━━━━━━━━━━━━━━━┩\n",
              "│ input_layer_22 (<span style=\"color: #0087ff; text-decoration-color: #0087ff\">InputLayer</span>)          │ (<span style=\"color: #00d7ff; text-decoration-color: #00d7ff\">None</span>, <span style=\"color: #00af00; text-decoration-color: #00af00\">1</span>)                   │               <span style=\"color: #00af00; text-decoration-color: #00af00\">0</span> │\n",
              "├──────────────────────────────────────┼─────────────────────────────┼─────────────────┤\n",
              "│ char_vectorizer (<span style=\"color: #0087ff; text-decoration-color: #0087ff\">TextVectorization</span>)  │ (<span style=\"color: #00d7ff; text-decoration-color: #00d7ff\">None</span>, <span style=\"color: #00af00; text-decoration-color: #00af00\">290</span>)                 │               <span style=\"color: #00af00; text-decoration-color: #00af00\">0</span> │\n",
              "├──────────────────────────────────────┼─────────────────────────────┼─────────────────┤\n",
              "│ char_embedding (<span style=\"color: #0087ff; text-decoration-color: #0087ff\">Embedding</span>)           │ (<span style=\"color: #00d7ff; text-decoration-color: #00d7ff\">None</span>, <span style=\"color: #00af00; text-decoration-color: #00af00\">290</span>, <span style=\"color: #00af00; text-decoration-color: #00af00\">25</span>)             │           <span style=\"color: #00af00; text-decoration-color: #00af00\">1,750</span> │\n",
              "├──────────────────────────────────────┼─────────────────────────────┼─────────────────┤\n",
              "│ conv1d_2 (<span style=\"color: #0087ff; text-decoration-color: #0087ff\">Conv1D</span>)                    │ (<span style=\"color: #00d7ff; text-decoration-color: #00d7ff\">None</span>, <span style=\"color: #00af00; text-decoration-color: #00af00\">290</span>, <span style=\"color: #00af00; text-decoration-color: #00af00\">64</span>)             │           <span style=\"color: #00af00; text-decoration-color: #00af00\">8,064</span> │\n",
              "├──────────────────────────────────────┼─────────────────────────────┼─────────────────┤\n",
              "│ global_max_pooling1d                 │ (<span style=\"color: #00d7ff; text-decoration-color: #00d7ff\">None</span>, <span style=\"color: #00af00; text-decoration-color: #00af00\">64</span>)                  │               <span style=\"color: #00af00; text-decoration-color: #00af00\">0</span> │\n",
              "│ (<span style=\"color: #0087ff; text-decoration-color: #0087ff\">GlobalMaxPooling1D</span>)                 │                             │                 │\n",
              "├──────────────────────────────────────┼─────────────────────────────┼─────────────────┤\n",
              "│ dense_11 (<span style=\"color: #0087ff; text-decoration-color: #0087ff\">Dense</span>)                     │ (<span style=\"color: #00d7ff; text-decoration-color: #00d7ff\">None</span>, <span style=\"color: #00af00; text-decoration-color: #00af00\">5</span>)                   │             <span style=\"color: #00af00; text-decoration-color: #00af00\">325</span> │\n",
              "└──────────────────────────────────────┴─────────────────────────────┴─────────────────┘\n",
              "</pre>\n"
            ]
          },
          "metadata": {}
        },
        {
          "output_type": "display_data",
          "data": {
            "text/plain": [
              "\u001b[1m Total params: \u001b[0m\u001b[38;5;34m30,419\u001b[0m (118.83 KB)\n"
            ],
            "text/html": [
              "<pre style=\"white-space:pre;overflow-x:auto;line-height:normal;font-family:Menlo,'DejaVu Sans Mono',consolas,'Courier New',monospace\"><span style=\"font-weight: bold\"> Total params: </span><span style=\"color: #00af00; text-decoration-color: #00af00\">30,419</span> (118.83 KB)\n",
              "</pre>\n"
            ]
          },
          "metadata": {}
        },
        {
          "output_type": "display_data",
          "data": {
            "text/plain": [
              "\u001b[1m Trainable params: \u001b[0m\u001b[38;5;34m10,139\u001b[0m (39.61 KB)\n"
            ],
            "text/html": [
              "<pre style=\"white-space:pre;overflow-x:auto;line-height:normal;font-family:Menlo,'DejaVu Sans Mono',consolas,'Courier New',monospace\"><span style=\"font-weight: bold\"> Trainable params: </span><span style=\"color: #00af00; text-decoration-color: #00af00\">10,139</span> (39.61 KB)\n",
              "</pre>\n"
            ]
          },
          "metadata": {}
        },
        {
          "output_type": "display_data",
          "data": {
            "text/plain": [
              "\u001b[1m Non-trainable params: \u001b[0m\u001b[38;5;34m0\u001b[0m (0.00 B)\n"
            ],
            "text/html": [
              "<pre style=\"white-space:pre;overflow-x:auto;line-height:normal;font-family:Menlo,'DejaVu Sans Mono',consolas,'Courier New',monospace\"><span style=\"font-weight: bold\"> Non-trainable params: </span><span style=\"color: #00af00; text-decoration-color: #00af00\">0</span> (0.00 B)\n",
              "</pre>\n"
            ]
          },
          "metadata": {}
        },
        {
          "output_type": "display_data",
          "data": {
            "text/plain": [
              "\u001b[1m Optimizer params: \u001b[0m\u001b[38;5;34m20,280\u001b[0m (79.22 KB)\n"
            ],
            "text/html": [
              "<pre style=\"white-space:pre;overflow-x:auto;line-height:normal;font-family:Menlo,'DejaVu Sans Mono',consolas,'Courier New',monospace\"><span style=\"font-weight: bold\"> Optimizer params: </span><span style=\"color: #00af00; text-decoration-color: #00af00\">20,280</span> (79.22 KB)\n",
              "</pre>\n"
            ]
          },
          "metadata": {}
        },
        {
          "output_type": "stream",
          "name": "stdout",
          "text": [
            "CPU times: user 13.5 s, sys: 1.33 s, total: 14.8 s\n",
            "Wall time: 12.5 s\n"
          ]
        }
      ]
    },
    {
      "cell_type": "code",
      "source": [
        "# Model_3'ü tüm doğrulama karakteri veri kümesinde değerlendirin\n",
        "model_3.evaluate(val_char_dataset)"
      ],
      "metadata": {
        "id": "bkJ0W9pP8kQ7",
        "colab": {
          "base_uri": "https://localhost:8080/"
        },
        "outputId": "2e890422-2797-4dd2-bec3-8128c0323304"
      },
      "execution_count": null,
      "outputs": [
        {
          "output_type": "stream",
          "name": "stdout",
          "text": [
            "\u001b[1m945/945\u001b[0m \u001b[32m━━━━━━━━━━━━━━━━━━━━\u001b[0m\u001b[37m\u001b[0m \u001b[1m3s\u001b[0m 3ms/step - accuracy: 0.6505 - loss: 0.8906\n"
          ]
        },
        {
          "output_type": "execute_result",
          "data": {
            "text/plain": [
              "[0.8938198089599609, 0.6496756076812744]"
            ]
          },
          "metadata": {},
          "execution_count": 93
        }
      ]
    },
    {
      "cell_type": "code",
      "source": [
        "# Yalnızca karakter modeliyle tahminlerde bulunun\n",
        "model_3_pred_probs = model_3.predict(val_char_dataset)\n",
        "model_3_pred_probs"
      ],
      "metadata": {
        "id": "WM6TFX0o8kMq",
        "colab": {
          "base_uri": "https://localhost:8080/"
        },
        "outputId": "3c21ff1c-4cbf-486e-f063-94cc4f385c10"
      },
      "execution_count": null,
      "outputs": [
        {
          "output_type": "stream",
          "name": "stdout",
          "text": [
            "\u001b[1m945/945\u001b[0m \u001b[32m━━━━━━━━━━━━━━━━━━━━\u001b[0m\u001b[37m\u001b[0m \u001b[1m4s\u001b[0m 4ms/step\n"
          ]
        },
        {
          "output_type": "execute_result",
          "data": {
            "text/plain": [
              "array([[0.168758  , 0.16304976, 0.23900391, 0.32760364, 0.10158475],\n",
              "       [0.11768349, 0.60637593, 0.011198  , 0.1211826 , 0.14355993],\n",
              "       [0.0998732 , 0.31029567, 0.33654052, 0.21033841, 0.04295219],\n",
              "       ...,\n",
              "       [0.02575635, 0.03783292, 0.37089068, 0.09197588, 0.47354418],\n",
              "       [0.04610219, 0.12186202, 0.4773507 , 0.07366963, 0.28101537],\n",
              "       [0.4160033 , 0.40838563, 0.0707214 , 0.08389489, 0.02099485]],\n",
              "      dtype=float32)"
            ]
          },
          "metadata": {},
          "execution_count": 94
        }
      ]
    },
    {
      "cell_type": "code",
      "source": [
        "# Tahminleri sınıflara dönüştürün\n",
        "model_3_preds = tf.argmax(model_3_pred_probs, axis=1)\n",
        "model_3_preds"
      ],
      "metadata": {
        "id": "3rkc6vuO8kHa",
        "colab": {
          "base_uri": "https://localhost:8080/"
        },
        "outputId": "be7c7a34-2ad4-411a-93e0-6c66944977aa"
      },
      "execution_count": null,
      "outputs": [
        {
          "output_type": "execute_result",
          "data": {
            "text/plain": [
              "<tf.Tensor: shape=(30212,), dtype=int64, numpy=array([3, 1, 2, ..., 4, 2, 0])>"
            ]
          },
          "metadata": {},
          "execution_count": 95
        }
      ]
    },
    {
      "cell_type": "code",
      "source": [
        "# Yalnızca Conv1D karakter modeli sonuçlarını hesapla\n",
        "model_3_results = calculate_results(y_true=val_labels_encoded,\n",
        "                                        y_pred=model_3_preds)\n",
        "model_3_results"
      ],
      "metadata": {
        "id": "bidY-6e58kCh",
        "colab": {
          "base_uri": "https://localhost:8080/",
          "height": 350
        },
        "outputId": "0589936e-81a9-4f58-c3e4-e70bd8664952",
        "collapsed": true
      },
      "execution_count": null,
      "outputs": [
        {
          "output_type": "error",
          "ename": "ValueError",
          "evalue": "Input arrays use different devices: cpu, /job:localhost/replica:0/task:0/device:GPU:0",
          "traceback": [
            "\u001b[0;31m---------------------------------------------------------------------------\u001b[0m",
            "\u001b[0;31mValueError\u001b[0m                                Traceback (most recent call last)",
            "\u001b[0;32m<ipython-input-96-2c2eac120973>\u001b[0m in \u001b[0;36m<cell line: 2>\u001b[0;34m()\u001b[0m\n\u001b[1;32m      1\u001b[0m \u001b[0;31m# Yalnızca Conv1D karakter modeli sonuçlarını hesapla\u001b[0m\u001b[0;34m\u001b[0m\u001b[0;34m\u001b[0m\u001b[0m\n\u001b[0;32m----> 2\u001b[0;31m model_3_results = calculate_results(y_true=val_labels_encoded,\n\u001b[0m\u001b[1;32m      3\u001b[0m                                         y_pred=model_3_preds)\n\u001b[1;32m      4\u001b[0m \u001b[0mmodel_3_results\u001b[0m\u001b[0;34m\u001b[0m\u001b[0;34m\u001b[0m\u001b[0m\n",
            "\u001b[0;32m/content/helper_functions.py\u001b[0m in \u001b[0;36mcalculate_results\u001b[0;34m(y_true, y_pred)\u001b[0m\n\u001b[1;32m    279\u001b[0m   \"\"\"\n\u001b[1;32m    280\u001b[0m   \u001b[0;31m# Calculate model accuracy\u001b[0m\u001b[0;34m\u001b[0m\u001b[0;34m\u001b[0m\u001b[0m\n\u001b[0;32m--> 281\u001b[0;31m   \u001b[0mmodel_accuracy\u001b[0m \u001b[0;34m=\u001b[0m \u001b[0maccuracy_score\u001b[0m\u001b[0;34m(\u001b[0m\u001b[0my_true\u001b[0m\u001b[0;34m,\u001b[0m \u001b[0my_pred\u001b[0m\u001b[0;34m)\u001b[0m \u001b[0;34m*\u001b[0m \u001b[0;36m100\u001b[0m\u001b[0;34m\u001b[0m\u001b[0;34m\u001b[0m\u001b[0m\n\u001b[0m\u001b[1;32m    282\u001b[0m   \u001b[0;31m# Calculate model precision, recall and f1 score using \"weighted average\u001b[0m\u001b[0;34m\u001b[0m\u001b[0;34m\u001b[0m\u001b[0m\n\u001b[1;32m    283\u001b[0m   \u001b[0mmodel_precision\u001b[0m\u001b[0;34m,\u001b[0m \u001b[0mmodel_recall\u001b[0m\u001b[0;34m,\u001b[0m \u001b[0mmodel_f1\u001b[0m\u001b[0;34m,\u001b[0m \u001b[0m_\u001b[0m \u001b[0;34m=\u001b[0m \u001b[0mprecision_recall_fscore_support\u001b[0m\u001b[0;34m(\u001b[0m\u001b[0my_true\u001b[0m\u001b[0;34m,\u001b[0m \u001b[0my_pred\u001b[0m\u001b[0;34m,\u001b[0m \u001b[0maverage\u001b[0m\u001b[0;34m=\u001b[0m\u001b[0;34m\"weighted\"\u001b[0m\u001b[0;34m)\u001b[0m\u001b[0;34m\u001b[0m\u001b[0;34m\u001b[0m\u001b[0m\n",
            "\u001b[0;32m/usr/local/lib/python3.10/dist-packages/sklearn/utils/_param_validation.py\u001b[0m in \u001b[0;36mwrapper\u001b[0;34m(*args, **kwargs)\u001b[0m\n\u001b[1;32m    214\u001b[0m                     )\n\u001b[1;32m    215\u001b[0m                 ):\n\u001b[0;32m--> 216\u001b[0;31m                     \u001b[0;32mreturn\u001b[0m \u001b[0mfunc\u001b[0m\u001b[0;34m(\u001b[0m\u001b[0;34m*\u001b[0m\u001b[0margs\u001b[0m\u001b[0;34m,\u001b[0m \u001b[0;34m**\u001b[0m\u001b[0mkwargs\u001b[0m\u001b[0;34m)\u001b[0m\u001b[0;34m\u001b[0m\u001b[0;34m\u001b[0m\u001b[0m\n\u001b[0m\u001b[1;32m    217\u001b[0m             \u001b[0;32mexcept\u001b[0m \u001b[0mInvalidParameterError\u001b[0m \u001b[0;32mas\u001b[0m \u001b[0me\u001b[0m\u001b[0;34m:\u001b[0m\u001b[0;34m\u001b[0m\u001b[0;34m\u001b[0m\u001b[0m\n\u001b[1;32m    218\u001b[0m                 \u001b[0;31m# When the function is just a wrapper around an estimator, we allow\u001b[0m\u001b[0;34m\u001b[0m\u001b[0;34m\u001b[0m\u001b[0m\n",
            "\u001b[0;32m/usr/local/lib/python3.10/dist-packages/sklearn/metrics/_classification.py\u001b[0m in \u001b[0;36maccuracy_score\u001b[0;34m(y_true, y_pred, normalize, sample_weight)\u001b[0m\n\u001b[1;32m    222\u001b[0m     \u001b[0;36m0.5\u001b[0m\u001b[0;34m\u001b[0m\u001b[0;34m\u001b[0m\u001b[0m\n\u001b[1;32m    223\u001b[0m     \"\"\"\n\u001b[0;32m--> 224\u001b[0;31m     \u001b[0mxp\u001b[0m\u001b[0;34m,\u001b[0m \u001b[0m_\u001b[0m\u001b[0;34m,\u001b[0m \u001b[0mdevice\u001b[0m \u001b[0;34m=\u001b[0m \u001b[0mget_namespace_and_device\u001b[0m\u001b[0;34m(\u001b[0m\u001b[0my_true\u001b[0m\u001b[0;34m,\u001b[0m \u001b[0my_pred\u001b[0m\u001b[0;34m,\u001b[0m \u001b[0msample_weight\u001b[0m\u001b[0;34m)\u001b[0m\u001b[0;34m\u001b[0m\u001b[0;34m\u001b[0m\u001b[0m\n\u001b[0m\u001b[1;32m    225\u001b[0m     \u001b[0;31m# Compute accuracy for each possible representation\u001b[0m\u001b[0;34m\u001b[0m\u001b[0;34m\u001b[0m\u001b[0m\n\u001b[1;32m    226\u001b[0m     \u001b[0my_true\u001b[0m\u001b[0;34m,\u001b[0m \u001b[0my_pred\u001b[0m \u001b[0;34m=\u001b[0m \u001b[0mattach_unique\u001b[0m\u001b[0;34m(\u001b[0m\u001b[0my_true\u001b[0m\u001b[0;34m,\u001b[0m \u001b[0my_pred\u001b[0m\u001b[0;34m)\u001b[0m\u001b[0;34m\u001b[0m\u001b[0;34m\u001b[0m\u001b[0m\n",
            "\u001b[0;32m/usr/local/lib/python3.10/dist-packages/sklearn/utils/_array_api.py\u001b[0m in \u001b[0;36mget_namespace_and_device\u001b[0;34m(remove_none, remove_types, *array_list)\u001b[0m\n\u001b[1;32m    612\u001b[0m \u001b[0;34m\u001b[0m\u001b[0m\n\u001b[1;32m    613\u001b[0m     \u001b[0mxp\u001b[0m\u001b[0;34m,\u001b[0m \u001b[0mis_array_api\u001b[0m \u001b[0;34m=\u001b[0m \u001b[0mget_namespace\u001b[0m\u001b[0;34m(\u001b[0m\u001b[0;34m*\u001b[0m\u001b[0marray_list\u001b[0m\u001b[0;34m,\u001b[0m \u001b[0;34m**\u001b[0m\u001b[0mskip_remove_kwargs\u001b[0m\u001b[0;34m)\u001b[0m\u001b[0;34m\u001b[0m\u001b[0;34m\u001b[0m\u001b[0m\n\u001b[0;32m--> 614\u001b[0;31m     \u001b[0marrays_device\u001b[0m \u001b[0;34m=\u001b[0m \u001b[0mdevice\u001b[0m\u001b[0;34m(\u001b[0m\u001b[0;34m*\u001b[0m\u001b[0marray_list\u001b[0m\u001b[0;34m,\u001b[0m \u001b[0;34m**\u001b[0m\u001b[0mskip_remove_kwargs\u001b[0m\u001b[0;34m)\u001b[0m\u001b[0;34m\u001b[0m\u001b[0;34m\u001b[0m\u001b[0m\n\u001b[0m\u001b[1;32m    615\u001b[0m     \u001b[0;32mif\u001b[0m \u001b[0mis_array_api\u001b[0m\u001b[0;34m:\u001b[0m\u001b[0;34m\u001b[0m\u001b[0;34m\u001b[0m\u001b[0m\n\u001b[1;32m    616\u001b[0m         \u001b[0;32mreturn\u001b[0m \u001b[0mxp\u001b[0m\u001b[0;34m,\u001b[0m \u001b[0mis_array_api\u001b[0m\u001b[0;34m,\u001b[0m \u001b[0marrays_device\u001b[0m\u001b[0;34m\u001b[0m\u001b[0;34m\u001b[0m\u001b[0m\n",
            "\u001b[0;32m/usr/local/lib/python3.10/dist-packages/sklearn/utils/_array_api.py\u001b[0m in \u001b[0;36mdevice\u001b[0;34m(remove_none, remove_types, *array_list)\u001b[0m\n\u001b[1;32m    176\u001b[0m         \u001b[0mdevice_other\u001b[0m \u001b[0;34m=\u001b[0m \u001b[0m_single_array_device\u001b[0m\u001b[0;34m(\u001b[0m\u001b[0marray\u001b[0m\u001b[0;34m)\u001b[0m\u001b[0;34m\u001b[0m\u001b[0;34m\u001b[0m\u001b[0m\n\u001b[1;32m    177\u001b[0m         \u001b[0;32mif\u001b[0m \u001b[0mdevice_\u001b[0m \u001b[0;34m!=\u001b[0m \u001b[0mdevice_other\u001b[0m\u001b[0;34m:\u001b[0m\u001b[0;34m\u001b[0m\u001b[0;34m\u001b[0m\u001b[0m\n\u001b[0;32m--> 178\u001b[0;31m             raise ValueError(\n\u001b[0m\u001b[1;32m    179\u001b[0m                 \u001b[0;34mf\"Input arrays use different devices: {str(device_)}, \"\u001b[0m\u001b[0;34m\u001b[0m\u001b[0;34m\u001b[0m\u001b[0m\n\u001b[1;32m    180\u001b[0m                 \u001b[0;34mf\"{str(device_other)}\"\u001b[0m\u001b[0;34m\u001b[0m\u001b[0;34m\u001b[0m\u001b[0m\n",
            "\u001b[0;31mValueError\u001b[0m: Input arrays use different devices: cpu, /job:localhost/replica:0/task:0/device:GPU:0"
          ]
        }
      ]
    },
    {
      "cell_type": "markdown",
      "source": [
        "### **3.10. Önceden Eğitilmiş Token Gömmeler ve Karakter Gömmeleri Birleştirerek Modelleme ve Değerlendirme**"
      ],
      "metadata": {
        "id": "HJCbXuUXj4-Y"
      }
    },
    {
      "cell_type": "markdown",
      "source": [
        "Medical Paper Abstracts'da Ortak Cümle Sınıflandırması için Sinir Ağları Şekil 1'dekine benzer bir model oluşturmaya yaklaşırken, bahsettikleri hibrit belirteç gömme katmanını ele almanın zamanı geldi. https://arxiv.org/pdf/1612.05251\n",
        "\n",
        "Bu karma belirteç gömme katmanı, belirteç gömme ve karakter gömmelerinin bir kombinasyonudur. Başka bir deyişle, dizileri sıra etiketi tahmin katmanına geçirmeden önce temsil etmek için yığılmış bir gömme oluştururlar.\n",
        "\n",
        "Şimdiye kadar belirteç ve karakter düzeyinde gömmeler kullanan iki model geliştirdik, ancak bu iki model bu gömmelerin her birini özel olarak kullandı.\n",
        "\n",
        "Şekil 1'deki modeli çoğaltmaya (veya çoğaltmaya yaklaşmaya) başlamak için aşağıdaki adımlardan geçeceğiz:\n",
        "\n",
        "1. Token düzeyinde bir model oluşturun (model_1'e benzer)\n",
        "\n",
        "2. Karakter düzeyinde bir model oluşturun (kağıdı yansıtmak için hafif bir değişiklikle model_3'e benzer)\n",
        "\n",
        "3. 1 ve 2'nin çıktılarını birleştirin (layers.Concatenate) https://www.tensorflow.org/api_docs/python/tf/keras/layers/Concatenate\n",
        "\n",
        "4. Tıbbi Kağıt Özetlerinde Ortak Cümle Sınıflandırması için Sinir Ağları'nın Şekil 1 ve bölüm 4.2'ye benzer 3'ün üzerine bir dizi çıktı katmanı oluşturun\n",
        "\n",
        "5. Token ve karakter düzeyinde dizileri girdi olarak alan ve çıktı olarak sıra etiketi olasılıkları üreten bir model oluşturun"
      ],
      "metadata": {
        "id": "h_4wovEb87-T"
      }
    },
    {
      "cell_type": "code",
      "source": [
        "# 1. Belirteç girişlerini/modelini ayarlayın\n",
        "token_inputs = layers.Input(shape=[], dtype=tf.string, name=\"token_input\")\n",
        "token_embeddings = tf_hub_embedding_layer(token_inputs)\n",
        "token_output = layers.Dense(128, activation=\"relu\")(token_embeddings)\n",
        "token_model = tf.keras.Model(inputs=token_inputs,\n",
        "                             outputs=token_output)\n",
        "\n",
        "# 2. Karakter girişlerini/modelini ayarlayın\n",
        "char_inputs = layers.Input(shape=(1,), dtype=tf.string, name=\"char_input\")\n",
        "char_vectors = char_vectorizer(char_inputs)\n",
        "char_embeddings = char_embed(char_vectors)\n",
        "char_bi_lstm = layers.Bidirectional(layers.LSTM(25))(char_embeddings) # https://arxiv.org/pdf/1612.05251.pdf adresindeki Şekil 1'de gösterilen bi-LSTM\n",
        "char_model = tf.keras.Model(inputs=char_inputs,\n",
        "                            outputs=char_bi_lstm)\n",
        "\n",
        "# 3. Belirteç ve karakter girişlerini birleştirin (hibrit belirteç yerleştirme oluşturun)\n",
        "token_char_concat = layers.Concatenate(name=\"token_char_hybrid\")([token_model.output,\n",
        "                                                                  char_model.output])\n",
        "\n",
        "# 4. Çıktı katmanları oluşturun - https://arxiv.org/pdf/1612.05251.pdf 4.2'de açıklanan bırakmanın eklenmesi\n",
        "combined_dropout = layers.Dropout(0.5)(token_char_concat)\n",
        "combined_dense = layers.Dense(200, activation=\"relu\")(combined_dropout) # belirteç/karakter yerleştirme katmanlarının farklı şekilleri nedeniyle Şekil 1'den biraz farklı\n",
        "final_dropout = layers.Dropout(0.5)(combined_dense)\n",
        "output_layer = layers.Dense(num_classes, activation=\"softmax\")(final_dropout)\n",
        "\n",
        "# 5. Karakter ve jeton girişleriyle model oluşturun\n",
        "model_4 = tf.keras.Model(inputs=[token_model.input, char_model.input],\n",
        "                         outputs=output_layer,\n",
        "                         name=\"model_4_token_and_char_embeddings\")\n",
        "\n",
        "# Belirteç karakter modelini derle\n",
        "model_4.compile(loss=\"categorical_crossentropy\",\n",
        "                optimizer=tf.keras.optimizers.Adam(), # https://arxiv.org/pdf/1612.05251.pdf bölümünün 4.2 bölümünde SGD kullanımından bahsediliyor ancak biz Adam'a sadık kalacağız\n",
        "                metrics=[\"accuracy\"])\n",
        "\n",
        "# Model özeti\n",
        "model_4.summary()"
      ],
      "metadata": {
        "id": "A5qxQkJd_i7m",
        "colab": {
          "base_uri": "https://localhost:8080/",
          "height": 207
        },
        "outputId": "ee73c468-f913-4d82-9568-3ef8e28759ba",
        "collapsed": true
      },
      "execution_count": null,
      "outputs": [
        {
          "output_type": "error",
          "ename": "NameError",
          "evalue": "name 'tf_hub_embedding_layer' is not defined",
          "traceback": [
            "\u001b[0;31m---------------------------------------------------------------------------\u001b[0m",
            "\u001b[0;31mNameError\u001b[0m                                 Traceback (most recent call last)",
            "\u001b[0;32m<ipython-input-40-ed7f7a62d2f3>\u001b[0m in \u001b[0;36m<cell line: 3>\u001b[0;34m()\u001b[0m\n\u001b[1;32m      1\u001b[0m \u001b[0;31m# 1. Belirteç girişlerini/modelini ayarlayın\u001b[0m\u001b[0;34m\u001b[0m\u001b[0;34m\u001b[0m\u001b[0m\n\u001b[1;32m      2\u001b[0m \u001b[0mtoken_inputs\u001b[0m \u001b[0;34m=\u001b[0m \u001b[0mlayers\u001b[0m\u001b[0;34m.\u001b[0m\u001b[0mInput\u001b[0m\u001b[0;34m(\u001b[0m\u001b[0mshape\u001b[0m\u001b[0;34m=\u001b[0m\u001b[0;34m[\u001b[0m\u001b[0;34m]\u001b[0m\u001b[0;34m,\u001b[0m \u001b[0mdtype\u001b[0m\u001b[0;34m=\u001b[0m\u001b[0mtf\u001b[0m\u001b[0;34m.\u001b[0m\u001b[0mstring\u001b[0m\u001b[0;34m,\u001b[0m \u001b[0mname\u001b[0m\u001b[0;34m=\u001b[0m\u001b[0;34m\"token_input\"\u001b[0m\u001b[0;34m)\u001b[0m\u001b[0;34m\u001b[0m\u001b[0;34m\u001b[0m\u001b[0m\n\u001b[0;32m----> 3\u001b[0;31m \u001b[0mtoken_embeddings\u001b[0m \u001b[0;34m=\u001b[0m \u001b[0mtf_hub_embedding_layer\u001b[0m\u001b[0;34m(\u001b[0m\u001b[0mtoken_inputs\u001b[0m\u001b[0;34m)\u001b[0m\u001b[0;34m\u001b[0m\u001b[0;34m\u001b[0m\u001b[0m\n\u001b[0m\u001b[1;32m      4\u001b[0m \u001b[0mtoken_output\u001b[0m \u001b[0;34m=\u001b[0m \u001b[0mlayers\u001b[0m\u001b[0;34m.\u001b[0m\u001b[0mDense\u001b[0m\u001b[0;34m(\u001b[0m\u001b[0;36m128\u001b[0m\u001b[0;34m,\u001b[0m \u001b[0mactivation\u001b[0m\u001b[0;34m=\u001b[0m\u001b[0;34m\"relu\"\u001b[0m\u001b[0;34m)\u001b[0m\u001b[0;34m(\u001b[0m\u001b[0mtoken_embeddings\u001b[0m\u001b[0;34m)\u001b[0m\u001b[0;34m\u001b[0m\u001b[0;34m\u001b[0m\u001b[0m\n\u001b[1;32m      5\u001b[0m token_model = tf.keras.Model(inputs=token_inputs,\n",
            "\u001b[0;31mNameError\u001b[0m: name 'tf_hub_embedding_layer' is not defined"
          ]
        }
      ]
    },
    {
      "cell_type": "markdown",
      "source": [
        "Bu kod, bir **hibrit model** oluşturarak **belirteç (token) temelli yerleştirme** ve **karakter temelli yerleştirme** yöntemlerini birleştiriyor. Kodun belirli bölümlerini daha ayrıntılı açıklayayım:\n",
        "\n",
        "```python\n",
        "char_bi_lstm = layers.Bidirectional(layers.LSTM(25))(char_embeddings)\n",
        "```\n",
        "\n",
        "Bu satırda, **Bidirectional LSTM (Bi-LSTM)** katmanı kullanılmıştır.\n",
        "\n",
        "**Bi-LSTM Nedir?**\n",
        "\n",
        "- **LSTM (Long Short-Term Memory)**, sekans (zaman serisi veya kelimeler gibi sıralı veriler) üzerindeki uzun menzilli bağımlılıkları öğrenebilen bir tür **Recurrent Neural Network (RNN)** katmanıdır. LSTM, özellikle dil işleme görevlerinde yaygın olarak kullanılır çünkü geçmiş bilgileri uzun süre hatırlayabilir ve geçici verileri unutarak önemli olanları öğrenebilir.\n",
        "\n",
        "- **Bidirectional LSTM (Bi-LSTM)**, LSTM katmanının iki yönlü versiyonudur. Bu, sıralı veriyi hem **soldan sağa** hem de **sağdan sola** işleyerek daha fazla bağlam bilgisi elde eder. Bu sayede, metnin başından ve sonundan gelen bağlamları aynı anda öğrenebiliriz.\n",
        "\n",
        "- **`LSTM(25)`**: Bu, LSTM katmanının çıktısının boyutunu belirtir. Yani, her bir zaman adımında 25 boyutlu bir vektör elde edilecek.\n",
        "\n",
        "---\n",
        "\n",
        "```python\n",
        "token_model = tf.keras.Model(inputs=token_inputs, outputs=token_output)\n",
        "```\n",
        "\n",
        "```python\n",
        "char_model = tf.keras.Model(inputs=char_inputs, outputs=char_bi_lstm)\n",
        "```\n",
        "\n",
        "Bu satırlarda **model parçaları** tanımlanıyor:\n",
        "\n",
        "- **`token_model`**: Bu, **belirteç temelli yerleştirme** modelidir. `token_inputs` (kelimeler ya da belirteçler) ile başlar ve `token_embeddings`'ten geçtikten sonra, bir **`Dense`** katmanına (`token_output`) bağlanır. Bu model sadece belirteç düzeyinde öğrenme yapar.\n",
        "\n",
        "- **`char_model`**: Bu, **karakter temelli yerleştirme** modelidir. `char_inputs` (karakterler) ile başlar, `char_vectorizer` ile metni vektörleştirir, ardından `char_embed` ile karakter gömmeleri elde edilir ve sonrasında bir **Bi-LSTM katmanı** (`char_bi_lstm`) ile bu karakter dizileri üzerinde öğrenme yapılır.\n",
        "\n",
        "---\n",
        "\n",
        "```python\n",
        "token_char_concat = layers.Concatenate(name=\"token_char_hybrid\")([token_model.output, char_model.output])\n",
        "```\n",
        "\n",
        "Buradaki `token_model.output` ve `char_model.output` kullanımı, her iki modelin **çıkışlarını** almak için kullanılır:\n",
        "\n",
        "- **`token_model.output`**: `token_model`'in çıkışı, belirteçler için öğrenilen özellikleri içerir (yani, `token_output` katmanından gelen sonuç).\n",
        "  \n",
        "- **`char_model.output`**: `char_model`'in çıkışı, karakterler için öğrenilen özellikleri içerir (yani, `char_bi_lstm` katmanından gelen sonuç).\n",
        "\n",
        "`layers.Concatenate` katmanı, bu iki çıktıyı **birleştirir** (concatenate). Burada `name=\"token_char_hybrid\"` ismi verilmiş. Bu, her iki modelin çıktılarının **hibrit bir şekilde** birleştiği bir özellik vektörü oluşturur.\n",
        "\n",
        "**.output** ifadesi, her modelin son katmanındaki çıkışı belirtir. Modelin katmanlarını tanımlarken, `Model()` sınıfının çıktısı genellikle `.output` olarak erişilir.\n",
        "\n",
        "---\n",
        "\n",
        "```python\n",
        "combined_dropout = layers.Dropout(0.5)(token_char_concat)\n",
        "```\n",
        "\n",
        "```python\n",
        "final_dropout = layers.Dropout(0.5)(combined_dense)\n",
        "```\n",
        "\n",
        "**Dropout**, **aşırı uyum** (overfitting) problemini önlemeye yardımcı olan bir **düzenleme** (regularization) yöntemidir. Dropout, eğitim sırasında belirli katmanlardan rastgele **nöronları devre dışı bırakır**. Bu sayede, modelin her bir nöronun bağımlı hale gelmesi engellenir ve genelleme yeteneği artırılır.\n",
        "\n",
        "- **`0.5`**: Dropout oranını belirtir. Burada `0.5` değeri, her bir eğitim adımında %50 oranında nöronun rastgele devre dışı bırakılacağı anlamına gelir.\n",
        "\n",
        "- Dropout katmanları, aşırı uyumun önlenmesine yardımcı olur, çünkü her eğitim adımında farklı nöronlar devre dışı bırakıldığı için model, daha sağlam bir şekilde genel kalıpları öğrenir.\n",
        "\n",
        "Eğitim sırasında, **dropout** uygulandıktan sonra model sadece en önemli özellikleri öğrenmeye çalışır ve çok fazla modelin öğrenmesini engelleyen bağımlılıklar oluşmaz."
      ],
      "metadata": {
        "id": "rSXBroPAIUM5"
      }
    },
    {
      "cell_type": "markdown",
      "source": [
        "4.2 ile ilgili olarak; model, stokastik gradyan iniş kullanılarak eğitilir ve her gradyan adımında tüm parametreler, yani jeton yerleştirmeleri, karakter yerleştirmeleri, çift yönlü LSTM parametreleri ve geçiş olasılıkları güncellenir. Düzenleme için, karakter geliştirilmiş token yerleştirmelerine ve etiket tahmin katmanından önce 0,5 oranında bırakma uygulanır.\n",
        "\n",
        "5 --> bu sıralı API ile değil fonksiyonel API ile oluşturduk. Bu yüzden token modeli girişine ihtiyacımız var ve bunu da kullanabilmek için char model girişi kullanılmalı."
      ],
      "metadata": {
        "id": "5wDbqDXyAU2X"
      }
    },
    {
      "cell_type": "markdown",
      "source": [
        "Aslında yapılan iki model oluşturuldu, çıktılar birleştirildi, bir token ve bir karakter çıktısı birleşti ve sonra bunlar üzerine bazı katmanlar ekledik."
      ],
      "metadata": {
        "id": "cErVyrbaApfK"
      }
    },
    {
      "cell_type": "code",
      "source": [
        "# Hibrit jeton ve karakter modelini çizin\n",
        "from tensorflow.keras.utils import plot_model\n",
        "plot_model(model_4)"
      ],
      "metadata": {
        "id": "Oidcjf41AqWF"
      },
      "execution_count": null,
      "outputs": []
    },
    {
      "cell_type": "markdown",
      "source": [
        "🔑 Not: Medical Paper Abstracts'ta Ortak Cümle Sınıflandırması için Sinir Ağları Bölüm 4.2, SGD (stokastik gradyan iniş) optimize ediciyi kullanarak bahseder, ancak diğer modellerimizle tutarlı kalmak için Adam optimizer'ı kullanacağız. Bir alıştırma olarak, tf.keras.optimizers.Adam yerine tf.keras.optimizers.SGD kullanmayı deneyebilir ve sonuçları karşılaştırabilirsiniz.\n",
        "\n",
        "- https://arxiv.org/pdf/1612.05251\n",
        "- https://www.tensorflow.org/api_docs/python/tf/keras/optimizers/Adam\n",
        "- https://www.tensorflow.org/api_docs/python/tf/keras/optimizers/SGD"
      ],
      "metadata": {
        "id": "urMfBOscBCdr"
      }
    },
    {
      "cell_type": "markdown",
      "source": [
        "Ve yine, deneylerimizi hızlı tutmak için, token-character-hybrid modelimizi eğitimin %10'una sığdıracağız ve doğrulama gruplarının %10'unu doğrulayacağız. Bununla birlikte, bu model ile fark, iki girdi, belirteç düzeyinde diziler ve karakter düzeyinde diziler gerektirmesidir.\n",
        "\n",
        "Bunu, ilk girdi olduğu gibi bir demet ile bir tf.data.Dataset oluşturarak yapabiliriz, örneğin:\n",
        "\n",
        "((Token_data, char_data), (etiket))"
      ],
      "metadata": {
        "id": "qqgDc_7VBbYz"
      }
    },
    {
      "cell_type": "markdown",
      "source": [
        "**Token ve karakter verilerini bir tf.data veri kümesinde birleştirme**\n",
        "\n",
        "- zip kodu ile iki farklı veri kümesi birleştirilir.\n",
        "- Hızlı deney yapma hedefiyle val...kodları yazıldı.\n",
        "- Token model girdisine ve char model girdisine nasıl sahip olduğumuza dikkat. Token seviyesinde veriler vardı, cümleleri eğittik ve traine aldık. Yani bu modelin inşa edildiği sırayla aynı. Aksi takdirde, farklı bir sırayla iletirsek, modelimiz belirteç seviyesi modelini kullanmaya çalışabilir."
      ],
      "metadata": {
        "id": "gxoztyGTByQv"
      }
    },
    {
      "cell_type": "code",
      "source": [
        "# Karakterleri ve belirteçleri bir veri kümesinde birleştirin\n",
        "train_char_token_data = tf.data.Dataset.from_tensor_slices((train_sentences, train_chars)) # veri yap\n",
        "train_char_token_labels = tf.data.Dataset.from_tensor_slices(train_labels_one_hot) # etiket yap\n",
        "train_char_token_dataset = tf.data.Dataset.zip((train_char_token_data, train_char_token_labels)) # veri ve etiketleri birleştir\n",
        "\n",
        "# Verileri önceden getirme ve toplu eğitim verileri\n",
        "train_char_token_dataset = train_char_token_dataset.batch(32).prefetch(tf.data.AUTOTUNE)\n",
        "\n",
        "# Aynı adımları doğrulama verilerini tekrarlayın\n",
        "val_char_token_data = tf.data.Dataset.from_tensor_slices((val_sentences, val_chars))\n",
        "val_char_token_labels = tf.data.Dataset.from_tensor_slices(val_labels_one_hot)\n",
        "val_char_token_dataset = tf.data.Dataset.zip((val_char_token_data, val_char_token_labels))\n",
        "val_char_token_dataset = val_char_token_dataset.batch(32).prefetch(tf.data.AUTOTUNE)\n",
        "\n",
        "# Eğitim karakteri ve belirteç yerleştirme veri kümesine göz atın\n",
        "train_char_token_dataset, val_char_token_dataset\n",
        "\n",
        "# Token ve karakter düzeyindeki dizilere bir model uydurmak\n",
        "model_4_history = model_4.fit(train_char_token_dataset, # belirteç ve karakterlerden oluşan veri kümesi üzerinde eğitim alın\n",
        "                              steps_per_epoch=int(0.1 * len(train_char_token_dataset)),\n",
        "                              epochs=3,\n",
        "                              validation_data=val_char_token_dataset,\n",
        "                              validation_steps=int(0.1 * len(val_char_token_dataset)))"
      ],
      "metadata": {
        "id": "8s57gZFECAjF",
        "colab": {
          "base_uri": "https://localhost:8080/",
          "height": 224
        },
        "collapsed": true,
        "outputId": "c6cf8ae2-b3e1-4e3c-e9e9-6ea40a8cbf1e"
      },
      "execution_count": null,
      "outputs": [
        {
          "output_type": "error",
          "ename": "NameError",
          "evalue": "name 'model_4' is not defined",
          "traceback": [
            "\u001b[0;31m---------------------------------------------------------------------------\u001b[0m",
            "\u001b[0;31mNameError\u001b[0m                                 Traceback (most recent call last)",
            "\u001b[0;32m<ipython-input-100-3ef23ab4bb4d>\u001b[0m in \u001b[0;36m<cell line: 19>\u001b[0;34m()\u001b[0m\n\u001b[1;32m     17\u001b[0m \u001b[0;34m\u001b[0m\u001b[0m\n\u001b[1;32m     18\u001b[0m \u001b[0;31m# Token ve karakter düzeyindeki dizilere bir model uydurmak\u001b[0m\u001b[0;34m\u001b[0m\u001b[0;34m\u001b[0m\u001b[0m\n\u001b[0;32m---> 19\u001b[0;31m model_4_history = model_4.fit(train_char_token_dataset, # belirteç ve karakterlerden oluşan veri kümesi üzerinde eğitim alın\n\u001b[0m\u001b[1;32m     20\u001b[0m                               \u001b[0msteps_per_epoch\u001b[0m\u001b[0;34m=\u001b[0m\u001b[0mint\u001b[0m\u001b[0;34m(\u001b[0m\u001b[0;36m0.1\u001b[0m \u001b[0;34m*\u001b[0m \u001b[0mlen\u001b[0m\u001b[0;34m(\u001b[0m\u001b[0mtrain_char_token_dataset\u001b[0m\u001b[0;34m)\u001b[0m\u001b[0;34m)\u001b[0m\u001b[0;34m,\u001b[0m\u001b[0;34m\u001b[0m\u001b[0;34m\u001b[0m\u001b[0m\n\u001b[1;32m     21\u001b[0m                               \u001b[0mepochs\u001b[0m\u001b[0;34m=\u001b[0m\u001b[0;36m3\u001b[0m\u001b[0;34m,\u001b[0m\u001b[0;34m\u001b[0m\u001b[0;34m\u001b[0m\u001b[0m\n",
            "\u001b[0;31mNameError\u001b[0m: name 'model_4' is not defined"
          ]
        }
      ]
    },
    {
      "cell_type": "markdown",
      "source": [
        "1. **Veri Kümesi Oluşturma (Dataset Creation)**\n",
        "\n",
        "```python\n",
        "train_char_token_data = tf.data.Dataset.from_tensor_slices((train_sentences, train_chars))\n",
        "train_char_token_labels = tf.data.Dataset.from_tensor_slices(train_labels_one_hot)\n",
        "train_char_token_dataset = tf.data.Dataset.zip((train_char_token_data, train_char_token_labels))\n",
        "```\n",
        "  - `train_sentences` (cümleler) ve `train_chars` (karakterler) eğitim verisini içerir. Burada, her bir cümle ve ona karşılık gelen karakter dizisi eşleştirilir.\n",
        "  - `train_labels_one_hot` ise her örneğe karşılık gelen etiketlerin one-hot kodlamasıdır. (Yani, sınıf etiketlerinin 0-1 vektörleri olarak temsil edilmesi)\n",
        "  - `tf.data.Dataset.from_tensor_slices()` fonksiyonu, bu verileri bir TensorFlow veri kümesine dönüştürür. Bu veri kümesi modelin eğitiminde kullanılacak.\n",
        "  - `tf.data.Dataset.zip()` ile hem veriler (`train_char_token_data`) hem de etiketler (`train_char_token_labels`) eşleştirilir. Bu, modelin eğitim verisi ve etiketleriyle birlikte kullanılabilmesini sağlar.\n",
        "\n",
        "2. **Veri Kümesi Üzerinde İşlem Yapma (Prefetching and Batching)**\n",
        "\n",
        "```python\n",
        "train_char_token_dataset = train_char_token_dataset.batch(32).prefetch(tf.data.AUTOTUNE)\n",
        "```\n",
        "\n",
        "- **Açıklama**: Bu satırda iki şey yapılır:\n",
        "  - `batch(32)`: Eğitim verisi, 32 örnekten oluşan \"batch\" (toplu) olarak gruplandırılır. Bu, modelin daha verimli bir şekilde eğitilmesini sağlar. Batch'ler sayesinde model her seferinde sadece bir kısmı üzerinde işlem yapar, bu da daha hızlı işlemeye olanak tanır.\n",
        "  - `prefetch(tf.data.AUTOTUNE)`: Verilerin \"prefetch\" edilmesi, yani modelin eğitimi sırasında verilerin önceden yüklenmesi anlamına gelir. Bu, I/O işlemlerinin eğitim sırasında engel oluşturmadan hızlı bir şekilde yapılmasını sağlar. `AUTOTUNE` TensorFlow'un otomatik olarak en iyi önceden getirme (prefetch) stratejisini seçmesini sağlar.\n",
        "\n",
        "3. **Doğrulama Verisi için Aynı İşlemleri Tekrarlama**\n",
        "\n",
        "```python\n",
        "val_char_token_data = tf.data.Dataset.from_tensor_slices((val_sentences, val_chars))\n",
        "val_char_token_labels = tf.data.Dataset.from_tensor_slices(val_labels_one_hot)\n",
        "val_char_token_dataset = tf.data.Dataset.zip((val_char_token_data, val_char_token_labels))\n",
        "val_char_token_dataset = val_char_token_dataset.batch(32).prefetch(tf.data.AUTOTUNE)\n",
        "```\n",
        "\n",
        "- **Açıklama**: Bu satırlar, doğrulama verisi için yukarıdaki işlemlerin tekrarlanmasıdır. Eğitim verisinde yapılan tüm işlemler doğrulama verisi için de aynı şekilde yapılır. Buradaki temel amaç, eğitim ve doğrulama veri kümelerinin her ikisinin de aynı formatta ve verimli bir şekilde yüklenmesini sağlamaktır.\n",
        "\n",
        "4. **Veri Kümesini İnceleme**\n",
        "\n",
        "```python\n",
        "train_char_token_dataset, val_char_token_dataset\n",
        "```\n",
        "\n",
        "- **Açıklama**: Bu satır, eğitim ve doğrulama veri kümelerini kontrol etmek için yazılmış. Çalıştırıldığında, bu iki veri kümesinin TensorFlow veri kümesi olarak nasıl göründüğünü gösterir. Bu işlem genellikle kodun doğru çalıştığından emin olmak amacıyla kullanılır.\n",
        "\n",
        "5. **Modeli Eğitim İçin Uygulama (Model Fitting)**\n",
        "\n",
        "```python\n",
        "model_4_history = model_4.fit(\n",
        "    train_char_token_dataset,\n",
        "    steps_per_epoch=int(0.1 * len(train_char_token_dataset)),\n",
        "    epochs=3,\n",
        "    validation_data=val_char_token_dataset,\n",
        "    validation_steps=int(0.1 * len(val_char_token_dataset))\n",
        ")\n",
        "```\n",
        "\n",
        "- **Açıklama**: Bu satır modelin eğitimini başlatır.\n",
        "  - `model_4.fit()` fonksiyonu, verilen eğitim veri kümesi (`train_char_token_dataset`) üzerinde modeli eğitir.\n",
        "  - `steps_per_epoch=int(0.1 * len(train_char_token_dataset))`: Bu parametre, her epoch başına eğitimde kaç adım (batch) yapılacağını belirtir. Burada eğitim setinin %10'u kadar adım atılacak.\n",
        "  - `epochs=3`: Modelin 3 epoch boyunca eğitilmesi sağlanır. Bir epoch, tüm eğitim verisinin bir kez model tarafından görülmesidir.\n",
        "  - `validation_data=val_char_token_dataset`: Modelin her epoch sonunda doğrulama verisi üzerinde nasıl performans gösterdiğini görmek için doğrulama verisi sağlanır.\n",
        "  - `validation_steps=int(0.1 * len(val_char_token_dataset))`: Her epoch sonunda doğrulama verisi için kaç adım (batch) yapılacağını belirtir. Burada doğrulama setinin %10'u kadar adım yapılır.\n",
        "\n",
        "Bu kodlar, modeli eğitim verisi ve doğrulama verisi üzerinde eğitir ve modelin doğruluğunu izler. Eğitim sırasında yapılan her adımda, modelin belirteç ve karakter bazlı girdilerle nasıl öğrenmeye çalıştığını gözlemleyebilirsiniz."
      ],
      "metadata": {
        "id": "u9cp5f63JOfK"
      }
    },
    {
      "cell_type": "code",
      "source": [
        "# Doğrulama veri kümesinin tamamını değerlendirin\n",
        "model_4.evaluate(val_char_token_dataset)"
      ],
      "metadata": {
        "id": "gzA5TykrCwan"
      },
      "execution_count": null,
      "outputs": []
    },
    {
      "cell_type": "code",
      "source": [
        "# Belirteç-karakter modeli hibritini kullanarak tahminlerde bulunun\n",
        "model_4_pred_probs = model_4.predict(val_char_token_dataset)\n",
        "model_4_pred_probs"
      ],
      "metadata": {
        "id": "VbDZsI2QCyxK"
      },
      "execution_count": null,
      "outputs": []
    },
    {
      "cell_type": "code",
      "source": [
        "# Tahmin olasılıklarını tahmin sınıflarına dönüştürün\n",
        "model_4_preds = tf.argmax(model_4_pred_probs, axis=1)\n",
        "model_4_preds"
      ],
      "metadata": {
        "id": "Lh0gSxRMCys4"
      },
      "execution_count": null,
      "outputs": []
    },
    {
      "cell_type": "code",
      "source": [
        "# Token-char-hibrit modelinin sonuçlarını alın\n",
        "model_4_results = calculate_results(y_true=val_labels_encoded,\n",
        "                                    y_pred=model_4_preds)\n",
        "model_4_results"
      ],
      "metadata": {
        "id": "JiliQHWvCynR"
      },
      "execution_count": null,
      "outputs": []
    },
    {
      "cell_type": "markdown",
      "source": [
        "### **3.11. Önceden Eğitilmiş Token Gömmeler, Karakter Gömmeleri ve Konumsal Gömmeleri Birleştirerek Modelleme ve Değerlendirme**"
      ],
      "metadata": {
        "id": "5MW2eP-xj48T"
      }
    },
    {
      "cell_type": "markdown",
      "source": [
        "Token gömmelerini ve karakter gömmelerini birleştirmek modelimize biraz performans artışı sağladı gibi görünüyor.\n",
        "\n",
        "Ama ekleyebileceğimiz bulmacanın bir parçası daha var.\n",
        "\n",
        "Ya kendi özelliklerimizi modele dönüştürseydik?\n",
        "\n",
        "Yani, modelimize örneklerimiz hakkında daha fazla bilgi vermek için veriler hakkında kendi bilgimizi alıp sayısal bir şekilde kodlasaydık ne olur?\n",
        "\n",
        "Bir modele girdi olarak özellikler oluşturmak için kendi bilginizi uygulama sürecine özellik mühendisliği denir.\n",
        "\n",
        "Sınıflandırmaya çalıştığımız diziler hakkında önemli bir şey düşünebiliyor musunuz?\n",
        "\n",
        "Bir özete bakacak olsaydınız, cümlelerin sırayla görünmesini bekler miydiniz? Yoksa sırayla görünmeleri mantıklı mı? Örneğin, begging'de SONUÇLAR olarak etiketlenmiş diziler ve sonunda HEDEF olarak etiketlenmiş diziler?\n",
        "\n",
        "Özetler tipik olarak sıralı bir sırada gelir, örneğin:\n",
        "\n",
        "- OBJECTIVE ...\n",
        "- METHODS ...\n",
        "- METHODS ...\n",
        "- METHODS ...\n",
        "- RESULTS ...\n",
        "- CONCLUSIONS ...\n",
        "\n",
        "ya da;\n",
        "\n",
        "- BACKGROUND ...\n",
        "- OBJECTIVE ...\n",
        "- METHODS ...\n",
        "- METHODS ...\n",
        "- RESULTS ...\n",
        "- RESULTS ...\n",
        "- CONCLUSIONS ...\n",
        "- CONCLUSIONS ...\n",
        "\n",
        "Tabii ki, dizi etiketlerinin kendilerini eğitim verilerine dönüştüremeyiz (test zamanında bunlara sahip değiliz), ancak bir dizi dizinin sırasını soyut olarak kodlayabiliriz.\n",
        "\n",
        "Örneğin,\n",
        "\n",
        "- Sentence 1 of 10 ...\n",
        "- Sentence 2 of 10 ...\n",
        "- Sentence 3 of 10 ...\n",
        "- Sentence 4 of 10 ...\n",
        "\n",
        "Bunu preprocess_text_with_line_numbers() işlevimizi oluşturduğumuzda fark etmiş olabilirsiniz. Bir özet metin dosyasında okuduğumuzda, bir özetteki satır sayısını ve her satırın kendisinin sayısını saydık.\n",
        "\n",
        "Bunu yapmak, DataFrames'lerimizin \"line_number\" ve \"total_lines\" sütunlarına yol açtı."
      ],
      "metadata": {
        "id": "3EvF95--DkZQ"
      }
    },
    {
      "cell_type": "markdown",
      "source": [
        "Feature Engineering\n",
        "- Verilerden kesin olmayan özellikleri alıp rakamlara dönüştürme (amaç modelin öğrenmesi).\n",
        "- Modele nasıl fazladan veri kaynağı ekleyebiliriz?\n"
      ],
      "metadata": {
        "id": "CKcmd9jADr1-"
      }
    },
    {
      "cell_type": "code",
      "source": [
        "# Eğitim veri çerçevesini inceleyin\n",
        "train_df.head()"
      ],
      "metadata": {
        "id": "oxLk9XZHDt5X",
        "colab": {
          "base_uri": "https://localhost:8080/",
          "height": 204
        },
        "outputId": "ae740d25-8fe7-428b-9f0a-029f9644ea58"
      },
      "execution_count": null,
      "outputs": [
        {
          "output_type": "execute_result",
          "data": {
            "text/plain": [
              "      target                                               text  line_number  \\\n",
              "0  OBJECTIVE  to investigate the efficacy of @ weeks of dail...            0   \n",
              "1    METHODS  a total of @ patients with primary knee oa wer...            1   \n",
              "2    METHODS  outcome measures included pain reduction and i...            2   \n",
              "3    METHODS  pain was assessed using the visual analog pain...            3   \n",
              "4    METHODS  secondary outcome measures included the wester...            4   \n",
              "\n",
              "   total_lines  \n",
              "0           11  \n",
              "1           11  \n",
              "2           11  \n",
              "3           11  \n",
              "4           11  "
            ],
            "text/html": [
              "\n",
              "  <div id=\"df-81e5bba4-b49d-4b77-bd82-698ff314ff67\" class=\"colab-df-container\">\n",
              "    <div>\n",
              "<style scoped>\n",
              "    .dataframe tbody tr th:only-of-type {\n",
              "        vertical-align: middle;\n",
              "    }\n",
              "\n",
              "    .dataframe tbody tr th {\n",
              "        vertical-align: top;\n",
              "    }\n",
              "\n",
              "    .dataframe thead th {\n",
              "        text-align: right;\n",
              "    }\n",
              "</style>\n",
              "<table border=\"1\" class=\"dataframe\">\n",
              "  <thead>\n",
              "    <tr style=\"text-align: right;\">\n",
              "      <th></th>\n",
              "      <th>target</th>\n",
              "      <th>text</th>\n",
              "      <th>line_number</th>\n",
              "      <th>total_lines</th>\n",
              "    </tr>\n",
              "  </thead>\n",
              "  <tbody>\n",
              "    <tr>\n",
              "      <th>0</th>\n",
              "      <td>OBJECTIVE</td>\n",
              "      <td>to investigate the efficacy of @ weeks of dail...</td>\n",
              "      <td>0</td>\n",
              "      <td>11</td>\n",
              "    </tr>\n",
              "    <tr>\n",
              "      <th>1</th>\n",
              "      <td>METHODS</td>\n",
              "      <td>a total of @ patients with primary knee oa wer...</td>\n",
              "      <td>1</td>\n",
              "      <td>11</td>\n",
              "    </tr>\n",
              "    <tr>\n",
              "      <th>2</th>\n",
              "      <td>METHODS</td>\n",
              "      <td>outcome measures included pain reduction and i...</td>\n",
              "      <td>2</td>\n",
              "      <td>11</td>\n",
              "    </tr>\n",
              "    <tr>\n",
              "      <th>3</th>\n",
              "      <td>METHODS</td>\n",
              "      <td>pain was assessed using the visual analog pain...</td>\n",
              "      <td>3</td>\n",
              "      <td>11</td>\n",
              "    </tr>\n",
              "    <tr>\n",
              "      <th>4</th>\n",
              "      <td>METHODS</td>\n",
              "      <td>secondary outcome measures included the wester...</td>\n",
              "      <td>4</td>\n",
              "      <td>11</td>\n",
              "    </tr>\n",
              "  </tbody>\n",
              "</table>\n",
              "</div>\n",
              "    <div class=\"colab-df-buttons\">\n",
              "\n",
              "  <div class=\"colab-df-container\">\n",
              "    <button class=\"colab-df-convert\" onclick=\"convertToInteractive('df-81e5bba4-b49d-4b77-bd82-698ff314ff67')\"\n",
              "            title=\"Convert this dataframe to an interactive table.\"\n",
              "            style=\"display:none;\">\n",
              "\n",
              "  <svg xmlns=\"http://www.w3.org/2000/svg\" height=\"24px\" viewBox=\"0 -960 960 960\">\n",
              "    <path d=\"M120-120v-720h720v720H120Zm60-500h600v-160H180v160Zm220 220h160v-160H400v160Zm0 220h160v-160H400v160ZM180-400h160v-160H180v160Zm440 0h160v-160H620v160ZM180-180h160v-160H180v160Zm440 0h160v-160H620v160Z\"/>\n",
              "  </svg>\n",
              "    </button>\n",
              "\n",
              "  <style>\n",
              "    .colab-df-container {\n",
              "      display:flex;\n",
              "      gap: 12px;\n",
              "    }\n",
              "\n",
              "    .colab-df-convert {\n",
              "      background-color: #E8F0FE;\n",
              "      border: none;\n",
              "      border-radius: 50%;\n",
              "      cursor: pointer;\n",
              "      display: none;\n",
              "      fill: #1967D2;\n",
              "      height: 32px;\n",
              "      padding: 0 0 0 0;\n",
              "      width: 32px;\n",
              "    }\n",
              "\n",
              "    .colab-df-convert:hover {\n",
              "      background-color: #E2EBFA;\n",
              "      box-shadow: 0px 1px 2px rgba(60, 64, 67, 0.3), 0px 1px 3px 1px rgba(60, 64, 67, 0.15);\n",
              "      fill: #174EA6;\n",
              "    }\n",
              "\n",
              "    .colab-df-buttons div {\n",
              "      margin-bottom: 4px;\n",
              "    }\n",
              "\n",
              "    [theme=dark] .colab-df-convert {\n",
              "      background-color: #3B4455;\n",
              "      fill: #D2E3FC;\n",
              "    }\n",
              "\n",
              "    [theme=dark] .colab-df-convert:hover {\n",
              "      background-color: #434B5C;\n",
              "      box-shadow: 0px 1px 3px 1px rgba(0, 0, 0, 0.15);\n",
              "      filter: drop-shadow(0px 1px 2px rgba(0, 0, 0, 0.3));\n",
              "      fill: #FFFFFF;\n",
              "    }\n",
              "  </style>\n",
              "\n",
              "    <script>\n",
              "      const buttonEl =\n",
              "        document.querySelector('#df-81e5bba4-b49d-4b77-bd82-698ff314ff67 button.colab-df-convert');\n",
              "      buttonEl.style.display =\n",
              "        google.colab.kernel.accessAllowed ? 'block' : 'none';\n",
              "\n",
              "      async function convertToInteractive(key) {\n",
              "        const element = document.querySelector('#df-81e5bba4-b49d-4b77-bd82-698ff314ff67');\n",
              "        const dataTable =\n",
              "          await google.colab.kernel.invokeFunction('convertToInteractive',\n",
              "                                                    [key], {});\n",
              "        if (!dataTable) return;\n",
              "\n",
              "        const docLinkHtml = 'Like what you see? Visit the ' +\n",
              "          '<a target=\"_blank\" href=https://colab.research.google.com/notebooks/data_table.ipynb>data table notebook</a>'\n",
              "          + ' to learn more about interactive tables.';\n",
              "        element.innerHTML = '';\n",
              "        dataTable['output_type'] = 'display_data';\n",
              "        await google.colab.output.renderOutput(dataTable, element);\n",
              "        const docLink = document.createElement('div');\n",
              "        docLink.innerHTML = docLinkHtml;\n",
              "        element.appendChild(docLink);\n",
              "      }\n",
              "    </script>\n",
              "  </div>\n",
              "\n",
              "\n",
              "<div id=\"df-88013b99-3848-4eb5-af80-a75db57a7554\">\n",
              "  <button class=\"colab-df-quickchart\" onclick=\"quickchart('df-88013b99-3848-4eb5-af80-a75db57a7554')\"\n",
              "            title=\"Suggest charts\"\n",
              "            style=\"display:none;\">\n",
              "\n",
              "<svg xmlns=\"http://www.w3.org/2000/svg\" height=\"24px\"viewBox=\"0 0 24 24\"\n",
              "     width=\"24px\">\n",
              "    <g>\n",
              "        <path d=\"M19 3H5c-1.1 0-2 .9-2 2v14c0 1.1.9 2 2 2h14c1.1 0 2-.9 2-2V5c0-1.1-.9-2-2-2zM9 17H7v-7h2v7zm4 0h-2V7h2v10zm4 0h-2v-4h2v4z\"/>\n",
              "    </g>\n",
              "</svg>\n",
              "  </button>\n",
              "\n",
              "<style>\n",
              "  .colab-df-quickchart {\n",
              "      --bg-color: #E8F0FE;\n",
              "      --fill-color: #1967D2;\n",
              "      --hover-bg-color: #E2EBFA;\n",
              "      --hover-fill-color: #174EA6;\n",
              "      --disabled-fill-color: #AAA;\n",
              "      --disabled-bg-color: #DDD;\n",
              "  }\n",
              "\n",
              "  [theme=dark] .colab-df-quickchart {\n",
              "      --bg-color: #3B4455;\n",
              "      --fill-color: #D2E3FC;\n",
              "      --hover-bg-color: #434B5C;\n",
              "      --hover-fill-color: #FFFFFF;\n",
              "      --disabled-bg-color: #3B4455;\n",
              "      --disabled-fill-color: #666;\n",
              "  }\n",
              "\n",
              "  .colab-df-quickchart {\n",
              "    background-color: var(--bg-color);\n",
              "    border: none;\n",
              "    border-radius: 50%;\n",
              "    cursor: pointer;\n",
              "    display: none;\n",
              "    fill: var(--fill-color);\n",
              "    height: 32px;\n",
              "    padding: 0;\n",
              "    width: 32px;\n",
              "  }\n",
              "\n",
              "  .colab-df-quickchart:hover {\n",
              "    background-color: var(--hover-bg-color);\n",
              "    box-shadow: 0 1px 2px rgba(60, 64, 67, 0.3), 0 1px 3px 1px rgba(60, 64, 67, 0.15);\n",
              "    fill: var(--button-hover-fill-color);\n",
              "  }\n",
              "\n",
              "  .colab-df-quickchart-complete:disabled,\n",
              "  .colab-df-quickchart-complete:disabled:hover {\n",
              "    background-color: var(--disabled-bg-color);\n",
              "    fill: var(--disabled-fill-color);\n",
              "    box-shadow: none;\n",
              "  }\n",
              "\n",
              "  .colab-df-spinner {\n",
              "    border: 2px solid var(--fill-color);\n",
              "    border-color: transparent;\n",
              "    border-bottom-color: var(--fill-color);\n",
              "    animation:\n",
              "      spin 1s steps(1) infinite;\n",
              "  }\n",
              "\n",
              "  @keyframes spin {\n",
              "    0% {\n",
              "      border-color: transparent;\n",
              "      border-bottom-color: var(--fill-color);\n",
              "      border-left-color: var(--fill-color);\n",
              "    }\n",
              "    20% {\n",
              "      border-color: transparent;\n",
              "      border-left-color: var(--fill-color);\n",
              "      border-top-color: var(--fill-color);\n",
              "    }\n",
              "    30% {\n",
              "      border-color: transparent;\n",
              "      border-left-color: var(--fill-color);\n",
              "      border-top-color: var(--fill-color);\n",
              "      border-right-color: var(--fill-color);\n",
              "    }\n",
              "    40% {\n",
              "      border-color: transparent;\n",
              "      border-right-color: var(--fill-color);\n",
              "      border-top-color: var(--fill-color);\n",
              "    }\n",
              "    60% {\n",
              "      border-color: transparent;\n",
              "      border-right-color: var(--fill-color);\n",
              "    }\n",
              "    80% {\n",
              "      border-color: transparent;\n",
              "      border-right-color: var(--fill-color);\n",
              "      border-bottom-color: var(--fill-color);\n",
              "    }\n",
              "    90% {\n",
              "      border-color: transparent;\n",
              "      border-bottom-color: var(--fill-color);\n",
              "    }\n",
              "  }\n",
              "</style>\n",
              "\n",
              "  <script>\n",
              "    async function quickchart(key) {\n",
              "      const quickchartButtonEl =\n",
              "        document.querySelector('#' + key + ' button');\n",
              "      quickchartButtonEl.disabled = true;  // To prevent multiple clicks.\n",
              "      quickchartButtonEl.classList.add('colab-df-spinner');\n",
              "      try {\n",
              "        const charts = await google.colab.kernel.invokeFunction(\n",
              "            'suggestCharts', [key], {});\n",
              "      } catch (error) {\n",
              "        console.error('Error during call to suggestCharts:', error);\n",
              "      }\n",
              "      quickchartButtonEl.classList.remove('colab-df-spinner');\n",
              "      quickchartButtonEl.classList.add('colab-df-quickchart-complete');\n",
              "    }\n",
              "    (() => {\n",
              "      let quickchartButtonEl =\n",
              "        document.querySelector('#df-88013b99-3848-4eb5-af80-a75db57a7554 button');\n",
              "      quickchartButtonEl.style.display =\n",
              "        google.colab.kernel.accessAllowed ? 'block' : 'none';\n",
              "    })();\n",
              "  </script>\n",
              "</div>\n",
              "\n",
              "    </div>\n",
              "  </div>\n"
            ],
            "application/vnd.google.colaboratory.intrinsic+json": {
              "type": "dataframe",
              "variable_name": "train_df"
            }
          },
          "metadata": {},
          "execution_count": 101
        }
      ]
    },
    {
      "cell_type": "markdown",
      "source": [
        "\"Line_number\" ve \"total_lines\" sütunları, mutlaka eğitim verileriyle birlikte gelmeyen, ancak konumsal bir gömme olarak modelimize aktarılabilen özelliklerdir. Başka bir deyişle, konumsal gömme, cümlenin bir soyutta göründüğü yerdir.\n",
        "\n",
        "Bu özellikleri kullanabiliriz çünkü test zamanında mevcut olacaklar.\n",
        "\n",
        "Özetler tipik olarak onlar hakkında sıralı bir sıraya sahip olduğundan (örneğin, arka plan, amaç, yöntemler, sonuçlar, sonuç), belirli bir cümlenin gerçekleştiği yerin satır numarasını modelimize eklemek mantıklıdır. İşin güzel yanı, bu özellikler test zamanında mevcut olacak (sadece bir özetteki cümle sayısını ve her birinin sayısını sayabiliriz).\n",
        "\n",
        "Yani, modelimizin hiç görmediği bir soyuttaki dizilerin etiketlerini tahmin edecek olsaydık, çizgi sayısını ve her bir çizginin konumunu izleyebilir ve modelimize aktarabilirdik.\n",
        "\n",
        "🛠 Alıştırma: Konumsal gömme özelliğimizi oluşturmanın başka bir yolu, \"line_number\" ve \"toplam_lines\" sütunlarını bir arada birleştirmek olacaktır, örneğin bir \"line_position\" sütunu 1_of_11, 2_of_11, vb. gibi değerler içerebilir. 1_of_11, 11 cümle uzunluğunda bir özetteki ilk satır olacaktır. Aşağıdaki adımlardan geçtikten sonra, bu konumsal gömme aşamasını tekrar gözden geçirmek ve birleşik bir \"line_position\" sütununun iki ayrı sütuna karşı nasıl gittiğini görmek isteyebilirsiniz."
      ],
      "metadata": {
        "id": "y39iRrv9D18c"
      }
    },
    {
      "cell_type": "markdown",
      "source": [
        "**Konumsal Gömmeler**\n",
        "\n",
        "\"Line_number\" ve \"total_line\" sütunlarımız zaten sayısal olduğundan, onları modelimize olduğu gibi geçirebiliriz.\n",
        "\n",
        "Ancak modelimizin \"line_number\"=5 içeren bir satırın \"line_number\"=1 olan bir satırdan beş kat daha büyük olduğunu düşünmekten kaçınmak için, \"line_number\" ve \"total_lines\" özelliklerimizi kodlamak için one-hot-encoding kullanacağız.\n",
        "\n",
        "Bunu yapmak için tf.one_hot yardımcı programını kullanabiliriz.\n",
        "\n",
        "Tf.one_hot, tek sıcak kodlanmış bir tensör döndürür. Bir diziyi (veya tensörü) girdi olarak kabul eder ve derinlik parametresi döndürülen tensörün boyutunu belirler.\n",
        "\n",
        "Derinlik parametresini neye ayarlamamız gerektiğini bulmak için, \"line_number\" sütununun dağılımını araştıralım.\n",
        "\n",
        "🔑 Not: Özelliklerimizi tek sıcak kodlama söz konusu olduğunda, Scikit-Learn'in OneHotEncoder sınıfı burada başka bir uygulanabilir seçenektir. https://scikit-learn.org/stable/modules/generated/sklearn.preprocessing.OneHotEncoder.html"
      ],
      "metadata": {
        "id": "2awP-O6dD-5t"
      }
    },
    {
      "cell_type": "markdown",
      "source": [
        "Özellik mühendisliği uygulanırken satır numaraları (cümle nolar, her cümle 1 satır diye geçiyor burada) kullanılmalı mı?\n",
        "\n",
        " Bir model yalnızca eğitildiği formatta veriler üzerinde gerçekleştirebilir veya tahminlerde bulunabilir.\n",
        "\n",
        "Aksi durumda chorme gibi farklı tarayıcılarda sorun çıkabilir?\n",
        "\n",
        " Özellik mühendisliği test zamanında erişilebilir olmalı.\n",
        " - line numbers\n",
        " - toyal lines"
      ],
      "metadata": {
        "id": "rwTJ0JfEEFDx"
      }
    },
    {
      "cell_type": "code",
      "source": [
        "# Kaç farklı satır numarası var?\n",
        "train_df[\"line_number\"].value_counts()"
      ],
      "metadata": {
        "id": "0nTf_fhPEKMG",
        "colab": {
          "base_uri": "https://localhost:8080/",
          "height": 1000
        },
        "outputId": "7f2c2912-f9fb-45e2-afaf-5c349eeeecde"
      },
      "execution_count": null,
      "outputs": [
        {
          "output_type": "execute_result",
          "data": {
            "text/plain": [
              "line_number\n",
              "0     15000\n",
              "1     15000\n",
              "2     15000\n",
              "3     15000\n",
              "4     14992\n",
              "5     14949\n",
              "6     14758\n",
              "7     14279\n",
              "8     13346\n",
              "9     11981\n",
              "10    10041\n",
              "11     7892\n",
              "12     5853\n",
              "13     4152\n",
              "14     2835\n",
              "15     1861\n",
              "16     1188\n",
              "17      751\n",
              "18      462\n",
              "19      286\n",
              "20      162\n",
              "21      101\n",
              "22       66\n",
              "23       33\n",
              "24       22\n",
              "25       14\n",
              "26        7\n",
              "27        4\n",
              "28        3\n",
              "29        1\n",
              "30        1\n",
              "Name: count, dtype: int64"
            ],
            "text/html": [
              "<div>\n",
              "<style scoped>\n",
              "    .dataframe tbody tr th:only-of-type {\n",
              "        vertical-align: middle;\n",
              "    }\n",
              "\n",
              "    .dataframe tbody tr th {\n",
              "        vertical-align: top;\n",
              "    }\n",
              "\n",
              "    .dataframe thead th {\n",
              "        text-align: right;\n",
              "    }\n",
              "</style>\n",
              "<table border=\"1\" class=\"dataframe\">\n",
              "  <thead>\n",
              "    <tr style=\"text-align: right;\">\n",
              "      <th></th>\n",
              "      <th>count</th>\n",
              "    </tr>\n",
              "    <tr>\n",
              "      <th>line_number</th>\n",
              "      <th></th>\n",
              "    </tr>\n",
              "  </thead>\n",
              "  <tbody>\n",
              "    <tr>\n",
              "      <th>0</th>\n",
              "      <td>15000</td>\n",
              "    </tr>\n",
              "    <tr>\n",
              "      <th>1</th>\n",
              "      <td>15000</td>\n",
              "    </tr>\n",
              "    <tr>\n",
              "      <th>2</th>\n",
              "      <td>15000</td>\n",
              "    </tr>\n",
              "    <tr>\n",
              "      <th>3</th>\n",
              "      <td>15000</td>\n",
              "    </tr>\n",
              "    <tr>\n",
              "      <th>4</th>\n",
              "      <td>14992</td>\n",
              "    </tr>\n",
              "    <tr>\n",
              "      <th>5</th>\n",
              "      <td>14949</td>\n",
              "    </tr>\n",
              "    <tr>\n",
              "      <th>6</th>\n",
              "      <td>14758</td>\n",
              "    </tr>\n",
              "    <tr>\n",
              "      <th>7</th>\n",
              "      <td>14279</td>\n",
              "    </tr>\n",
              "    <tr>\n",
              "      <th>8</th>\n",
              "      <td>13346</td>\n",
              "    </tr>\n",
              "    <tr>\n",
              "      <th>9</th>\n",
              "      <td>11981</td>\n",
              "    </tr>\n",
              "    <tr>\n",
              "      <th>10</th>\n",
              "      <td>10041</td>\n",
              "    </tr>\n",
              "    <tr>\n",
              "      <th>11</th>\n",
              "      <td>7892</td>\n",
              "    </tr>\n",
              "    <tr>\n",
              "      <th>12</th>\n",
              "      <td>5853</td>\n",
              "    </tr>\n",
              "    <tr>\n",
              "      <th>13</th>\n",
              "      <td>4152</td>\n",
              "    </tr>\n",
              "    <tr>\n",
              "      <th>14</th>\n",
              "      <td>2835</td>\n",
              "    </tr>\n",
              "    <tr>\n",
              "      <th>15</th>\n",
              "      <td>1861</td>\n",
              "    </tr>\n",
              "    <tr>\n",
              "      <th>16</th>\n",
              "      <td>1188</td>\n",
              "    </tr>\n",
              "    <tr>\n",
              "      <th>17</th>\n",
              "      <td>751</td>\n",
              "    </tr>\n",
              "    <tr>\n",
              "      <th>18</th>\n",
              "      <td>462</td>\n",
              "    </tr>\n",
              "    <tr>\n",
              "      <th>19</th>\n",
              "      <td>286</td>\n",
              "    </tr>\n",
              "    <tr>\n",
              "      <th>20</th>\n",
              "      <td>162</td>\n",
              "    </tr>\n",
              "    <tr>\n",
              "      <th>21</th>\n",
              "      <td>101</td>\n",
              "    </tr>\n",
              "    <tr>\n",
              "      <th>22</th>\n",
              "      <td>66</td>\n",
              "    </tr>\n",
              "    <tr>\n",
              "      <th>23</th>\n",
              "      <td>33</td>\n",
              "    </tr>\n",
              "    <tr>\n",
              "      <th>24</th>\n",
              "      <td>22</td>\n",
              "    </tr>\n",
              "    <tr>\n",
              "      <th>25</th>\n",
              "      <td>14</td>\n",
              "    </tr>\n",
              "    <tr>\n",
              "      <th>26</th>\n",
              "      <td>7</td>\n",
              "    </tr>\n",
              "    <tr>\n",
              "      <th>27</th>\n",
              "      <td>4</td>\n",
              "    </tr>\n",
              "    <tr>\n",
              "      <th>28</th>\n",
              "      <td>3</td>\n",
              "    </tr>\n",
              "    <tr>\n",
              "      <th>29</th>\n",
              "      <td>1</td>\n",
              "    </tr>\n",
              "    <tr>\n",
              "      <th>30</th>\n",
              "      <td>1</td>\n",
              "    </tr>\n",
              "  </tbody>\n",
              "</table>\n",
              "</div><br><label><b>dtype:</b> int64</label>"
            ]
          },
          "metadata": {},
          "execution_count": 102
        }
      ]
    },
    {
      "cell_type": "code",
      "source": [
        "# \"line_number\" sütununun dağılımını kontrol edin\n",
        "train_df.line_number.plot.hist()"
      ],
      "metadata": {
        "id": "6eJrMPx2EKFL",
        "colab": {
          "base_uri": "https://localhost:8080/",
          "height": 447
        },
        "outputId": "1cae3949-c0d5-4860-db74-1607e369ee17"
      },
      "execution_count": null,
      "outputs": [
        {
          "output_type": "execute_result",
          "data": {
            "text/plain": [
              "<Axes: ylabel='Frequency'>"
            ]
          },
          "metadata": {},
          "execution_count": 103
        },
        {
          "output_type": "display_data",
          "data": {
            "text/plain": [
              "<Figure size 640x480 with 1 Axes>"
            ],
            "image/png": "[encoded data removed]"
          },
          "metadata": {}
        }
      ]
    },
    {
      "cell_type": "code",
      "source": [
        "# \"line_number\" sütunumuzun sıcak kodlanmış tensörlerini oluşturmak için TensorFlow'u kullanın\n",
        "train_line_numbers_one_hot = tf.one_hot(train_df[\"line_number\"].to_numpy(), depth=15)\n",
        "val_line_numbers_one_hot = tf.one_hot(val_df[\"line_number\"].to_numpy(), depth=15)\n",
        "test_line_numbers_one_hot = tf.one_hot(test_df[\"line_number\"].to_numpy(), depth=15)"
      ],
      "metadata": {
        "id": "7CqFusHPEKBB"
      },
      "execution_count": null,
      "outputs": []
    },
    {
      "cell_type": "markdown",
      "source": [
        "Bu satırlar, **sıra numaraları (line numbers)** gibi kategorik bir özelliğin **one-hot encoding** (tek sıcak kodlama) yöntemini kullanarak sayısal verilere dönüştürülmesini sağlar.\n",
        "\n",
        "1. **`train_df[\"line_number\"].to_numpy()`**:  \n",
        "   Bu kısım, eğitim veri setindeki `\"line_number\"` adlı sütunu seçer ve bu sütundaki değerleri **NumPy dizisi** (`np.array`) haline getirir.\n",
        "   - Burada `train_df` veri çerçevesindeki her bir satırın sıra numarasını almak istiyoruz.\n",
        "   - Örneğin, bu sütun her cümlenin bulunduğu satır numarasını veya belge sırasını içerebilir.\n",
        "\n",
        "2. **`tf.one_hot(..., depth=15)`**:  \n",
        "   TensorFlow'un `tf.one_hot()` fonksiyonu, kategorik veriyi **one-hot encoding** formatına dönüştürür. Yani her sıra numarasını 15 elemanlı bir vektöre dönüştürür ve sadece ilgili index'e 1 yerleştirir, geri kalan tüm elemanlar 0 olur. Bu `depth=15` parametresiyle belirtilen 15, sınıf sayısını belirtir (yani sıralama numaralarının 0'dan 14'e kadar olduğunu varsayıyoruz).\n",
        "   \n",
        "   Örneğin:\n",
        "   - Eğer bir satırın numarası `2` ise, one-hot encoding sonucu şöyle bir vektör olacaktır: `[0, 0, 1, 0, 0, ..., 0]` (sadece 3. pozisyon 1 olacak, diğerleri 0 olacak).\n",
        "   - Eğer satır numarası `4` ise, one-hot encoding sonucu şu şekilde olacaktır: `[0, 0, 0, 0, 1, 0, ..., 0]`.\n",
        "\n",
        "3. **`depth=15`**:  \n",
        "   Bu parametre, one-hot encoding için kullanılan vektörün uzunluğunu belirtir. Yani burada 15 sınıf olduğu belirtilmiş, bu da her satırın 0'dan 14'e kadar olan bir numaraya sahip olduğu anlamına gelir.\n",
        "\n",
        "### Örnek:\n",
        "Eğer `train_df[\"line_number\"]` şu şekilde bir dizi içeriyorsa:\n",
        "```python\n",
        "[2, 4, 0, 1, 3]\n",
        "```\n",
        "\n",
        "`tf.one_hot()` fonksiyonu, bu diziyi şu şekilde dönüştürür:\n",
        "\n",
        "```python\n",
        "[[0, 0, 1, 0, 0, 0, 0, 0, 0, 0, 0, 0, 0, 0, 0],  # 2'yi one-hot encode etti\n",
        " [0, 0, 0, 0, 1, 0, 0, 0, 0, 0, 0, 0, 0, 0, 0],  # 4'ü one-hot encode etti\n",
        " [1, 0, 0, 0, 0, 0, 0, 0, 0, 0, 0, 0, 0, 0, 0],  # 0'ı one-hot encode etti\n",
        " [0, 1, 0, 0, 0, 0, 0, 0, 0, 0, 0, 0, 0, 0, 0],  # 1'i one-hot encode etti\n",
        " [0, 0, 0, 1, 0, 0, 0, 0, 0, 0, 0, 0, 0, 0, 0]]  # 3'ü one-hot encode etti\n",
        "```\n",
        "\n",
        "Kullanım Amacı:\n",
        "- **Model Eğitimi**: Bu tür one-hot encoding, modelin sıralama bilgisiyle (satır numaralarıyla) anlamlı ilişkiler öğrenmesine olanak tanır. Kategorik verileri sayısal verilere dönüştürmek, modelin bu veriyi anlayabilmesi için gereklidir.\n",
        "- **Kategorik Veriyi Sayısal Hale Getirme**: Özellikle sinir ağlarında kategorik verilerin (satır numaraları, sınıflar, vb.) işlemeye uygun hale gelmesi için one-hot encoding yaygın olarak kullanılır."
      ],
      "metadata": {
        "id": "Fpj-avFdKDcN"
      }
    },
    {
      "cell_type": "markdown",
      "source": [
        "Tf.one_hot'un derinlik parametresini 15'e ayarlamak, \"line_number\" değeri 15'in üzerinde olan herhangi bir numunenin tüm 0'ların tensörüne ayarlandığı anlamına gelir; burada 15'in altındaki \"satır_number\" olan herhangi bir örnek, tüm 0'ların tensörüne dönüşür, ancak dizinde \"line_number\" değerine eşit bir 1 ile.\n",
        "\n",
        "🔑 Not: \"line_number\" (derinlik=30) tüm potansiyel değerleri için yer olan tek sıcak bir tensör oluşturabiliriz, ancak bu, değerlerin büyük çoğunluğunun 0 olduğu mevcut olanın (derinlik=15) iki katı büyüklüğünde bir tensörle sonuçlanır. Ayrıca, yalnızca ~2.000/180.000 örnek 15'in üzerinde bir \"satır_numarası\" değerine sahiptir. Bu nedenle, özellik alanımızı ikiye katlamak için verilerimiz hakkında fazla bilgi edinmezdik. Bu tür bir soruna boyutsallığın laneti denir. Ancak, bu derin modellerle çalıştığımız için, modele mümkün olduğunca fazla bilgi atmaya ve ne olduğunu görmeye değer olabilir. Derinlik parametresinin değerlerini bir uzantı olarak keşfetmeyi bırakacağım."
      ],
      "metadata": {
        "id": "C-dIrngIEa1q"
      }
    },
    {
      "cell_type": "code",
      "source": [
        "# Tek-etkin kodlanmış \"satır_numarası\" özellik örneklerini kontrol edin\n",
        "train_line_numbers_one_hot.shape, train_line_numbers_one_hot[:20]"
      ],
      "metadata": {
        "id": "NLKFWXMMEdSC",
        "colab": {
          "base_uri": "https://localhost:8080/"
        },
        "outputId": "b6501669-374a-4436-90dd-fc81c9221114"
      },
      "execution_count": null,
      "outputs": [
        {
          "output_type": "execute_result",
          "data": {
            "text/plain": [
              "(TensorShape([180040, 15]),\n",
              " <tf.Tensor: shape=(20, 15), dtype=float32, numpy=\n",
              " array([[1., 0., 0., 0., 0., 0., 0., 0., 0., 0., 0., 0., 0., 0., 0.],\n",
              "        [0., 1., 0., 0., 0., 0., 0., 0., 0., 0., 0., 0., 0., 0., 0.],\n",
              "        [0., 0., 1., 0., 0., 0., 0., 0., 0., 0., 0., 0., 0., 0., 0.],\n",
              "        [0., 0., 0., 1., 0., 0., 0., 0., 0., 0., 0., 0., 0., 0., 0.],\n",
              "        [0., 0., 0., 0., 1., 0., 0., 0., 0., 0., 0., 0., 0., 0., 0.],\n",
              "        [0., 0., 0., 0., 0., 1., 0., 0., 0., 0., 0., 0., 0., 0., 0.],\n",
              "        [0., 0., 0., 0., 0., 0., 1., 0., 0., 0., 0., 0., 0., 0., 0.],\n",
              "        [0., 0., 0., 0., 0., 0., 0., 1., 0., 0., 0., 0., 0., 0., 0.],\n",
              "        [0., 0., 0., 0., 0., 0., 0., 0., 1., 0., 0., 0., 0., 0., 0.],\n",
              "        [0., 0., 0., 0., 0., 0., 0., 0., 0., 1., 0., 0., 0., 0., 0.],\n",
              "        [0., 0., 0., 0., 0., 0., 0., 0., 0., 0., 1., 0., 0., 0., 0.],\n",
              "        [0., 0., 0., 0., 0., 0., 0., 0., 0., 0., 0., 1., 0., 0., 0.],\n",
              "        [1., 0., 0., 0., 0., 0., 0., 0., 0., 0., 0., 0., 0., 0., 0.],\n",
              "        [0., 1., 0., 0., 0., 0., 0., 0., 0., 0., 0., 0., 0., 0., 0.],\n",
              "        [0., 0., 1., 0., 0., 0., 0., 0., 0., 0., 0., 0., 0., 0., 0.],\n",
              "        [0., 0., 0., 1., 0., 0., 0., 0., 0., 0., 0., 0., 0., 0., 0.],\n",
              "        [0., 0., 0., 0., 1., 0., 0., 0., 0., 0., 0., 0., 0., 0., 0.],\n",
              "        [0., 0., 0., 0., 0., 1., 0., 0., 0., 0., 0., 0., 0., 0., 0.],\n",
              "        [0., 0., 0., 0., 0., 0., 1., 0., 0., 0., 0., 0., 0., 0., 0.],\n",
              "        [0., 0., 0., 0., 0., 0., 0., 1., 0., 0., 0., 0., 0., 0., 0.]],\n",
              "       dtype=float32)>)"
            ]
          },
          "metadata": {},
          "execution_count": 105
        }
      ]
    },
    {
      "cell_type": "markdown",
      "source": [
        "\"Toplam_satır\" sütunuyla \"satır_numarası\" sütunumuz için yaptığımızın aynısını yapabiliriz. İlk olarak, tf.one_hot'un derinlik parametresi için uygun bir değer bulalım."
      ],
      "metadata": {
        "id": "aMNXtsKsEjST"
      }
    },
    {
      "cell_type": "code",
      "source": [
        "# Kaç farklı sayıda satır var?\n",
        "train_df[\"total_lines\"].value_counts()"
      ],
      "metadata": {
        "id": "CHsRJrcgEjyb",
        "colab": {
          "base_uri": "https://localhost:8080/",
          "height": 951
        },
        "outputId": "961c4e95-e2dc-4851-8125-cc19009875a4"
      },
      "execution_count": null,
      "outputs": [
        {
          "output_type": "execute_result",
          "data": {
            "text/plain": [
              "total_lines\n",
              "11    24468\n",
              "10    23639\n",
              "12    22113\n",
              "9     19400\n",
              "13    18438\n",
              "14    14610\n",
              "8     12285\n",
              "15    10768\n",
              "7      7464\n",
              "16     7429\n",
              "17     5202\n",
              "6      3353\n",
              "18     3344\n",
              "19     2480\n",
              "20     1281\n",
              "5      1146\n",
              "21      770\n",
              "22      759\n",
              "23      264\n",
              "4       215\n",
              "24      200\n",
              "25      182\n",
              "26       81\n",
              "28       58\n",
              "3        32\n",
              "30       31\n",
              "27       28\n",
              "Name: count, dtype: int64"
            ],
            "text/html": [
              "<div>\n",
              "<style scoped>\n",
              "    .dataframe tbody tr th:only-of-type {\n",
              "        vertical-align: middle;\n",
              "    }\n",
              "\n",
              "    .dataframe tbody tr th {\n",
              "        vertical-align: top;\n",
              "    }\n",
              "\n",
              "    .dataframe thead th {\n",
              "        text-align: right;\n",
              "    }\n",
              "</style>\n",
              "<table border=\"1\" class=\"dataframe\">\n",
              "  <thead>\n",
              "    <tr style=\"text-align: right;\">\n",
              "      <th></th>\n",
              "      <th>count</th>\n",
              "    </tr>\n",
              "    <tr>\n",
              "      <th>total_lines</th>\n",
              "      <th></th>\n",
              "    </tr>\n",
              "  </thead>\n",
              "  <tbody>\n",
              "    <tr>\n",
              "      <th>11</th>\n",
              "      <td>24468</td>\n",
              "    </tr>\n",
              "    <tr>\n",
              "      <th>10</th>\n",
              "      <td>23639</td>\n",
              "    </tr>\n",
              "    <tr>\n",
              "      <th>12</th>\n",
              "      <td>22113</td>\n",
              "    </tr>\n",
              "    <tr>\n",
              "      <th>9</th>\n",
              "      <td>19400</td>\n",
              "    </tr>\n",
              "    <tr>\n",
              "      <th>13</th>\n",
              "      <td>18438</td>\n",
              "    </tr>\n",
              "    <tr>\n",
              "      <th>14</th>\n",
              "      <td>14610</td>\n",
              "    </tr>\n",
              "    <tr>\n",
              "      <th>8</th>\n",
              "      <td>12285</td>\n",
              "    </tr>\n",
              "    <tr>\n",
              "      <th>15</th>\n",
              "      <td>10768</td>\n",
              "    </tr>\n",
              "    <tr>\n",
              "      <th>7</th>\n",
              "      <td>7464</td>\n",
              "    </tr>\n",
              "    <tr>\n",
              "      <th>16</th>\n",
              "      <td>7429</td>\n",
              "    </tr>\n",
              "    <tr>\n",
              "      <th>17</th>\n",
              "      <td>5202</td>\n",
              "    </tr>\n",
              "    <tr>\n",
              "      <th>6</th>\n",
              "      <td>3353</td>\n",
              "    </tr>\n",
              "    <tr>\n",
              "      <th>18</th>\n",
              "      <td>3344</td>\n",
              "    </tr>\n",
              "    <tr>\n",
              "      <th>19</th>\n",
              "      <td>2480</td>\n",
              "    </tr>\n",
              "    <tr>\n",
              "      <th>20</th>\n",
              "      <td>1281</td>\n",
              "    </tr>\n",
              "    <tr>\n",
              "      <th>5</th>\n",
              "      <td>1146</td>\n",
              "    </tr>\n",
              "    <tr>\n",
              "      <th>21</th>\n",
              "      <td>770</td>\n",
              "    </tr>\n",
              "    <tr>\n",
              "      <th>22</th>\n",
              "      <td>759</td>\n",
              "    </tr>\n",
              "    <tr>\n",
              "      <th>23</th>\n",
              "      <td>264</td>\n",
              "    </tr>\n",
              "    <tr>\n",
              "      <th>4</th>\n",
              "      <td>215</td>\n",
              "    </tr>\n",
              "    <tr>\n",
              "      <th>24</th>\n",
              "      <td>200</td>\n",
              "    </tr>\n",
              "    <tr>\n",
              "      <th>25</th>\n",
              "      <td>182</td>\n",
              "    </tr>\n",
              "    <tr>\n",
              "      <th>26</th>\n",
              "      <td>81</td>\n",
              "    </tr>\n",
              "    <tr>\n",
              "      <th>28</th>\n",
              "      <td>58</td>\n",
              "    </tr>\n",
              "    <tr>\n",
              "      <th>3</th>\n",
              "      <td>32</td>\n",
              "    </tr>\n",
              "    <tr>\n",
              "      <th>30</th>\n",
              "      <td>31</td>\n",
              "    </tr>\n",
              "    <tr>\n",
              "      <th>27</th>\n",
              "      <td>28</td>\n",
              "    </tr>\n",
              "  </tbody>\n",
              "</table>\n",
              "</div><br><label><b>dtype:</b> int64</label>"
            ]
          },
          "metadata": {},
          "execution_count": 106
        }
      ]
    },
    {
      "cell_type": "code",
      "source": [
        "# Toplam satırların dağılımını kontrol edin\n",
        "train_df.total_lines.plot.hist();"
      ],
      "metadata": {
        "id": "W602daECEoko",
        "colab": {
          "base_uri": "https://localhost:8080/",
          "height": 431
        },
        "outputId": "93a5a488-0c5a-4f83-fdd3-6125b97ee063"
      },
      "execution_count": null,
      "outputs": [
        {
          "output_type": "display_data",
          "data": {
            "text/plain": [
              "<Figure size 640x480 with 1 Axes>"
            ],
            "image/png": "[encoded data removed]"
          },
          "metadata": {}
        }
      ]
    },
    {
      "cell_type": "markdown",
      "source": [
        "\"Total_lines\" sütunumuzun dağılımına bakıldığında, 20 değeri örneklerin çoğunu kapsıyor gibi görünüyor.\n",
        "\n",
        "Bunu np.percentile() ile doğrulayabiliriz. https://numpy.org/doc/stable/reference/generated/numpy.percentile.html"
      ],
      "metadata": {
        "id": "Xk-Tl-3pEs35"
      }
    },
    {
      "cell_type": "code",
      "source": [
        "# 20 değerindeki \"total_lines\" değerinin kapsamını kontrol edin\n",
        "np.percentile(train_df.total_lines, 98) # 20 değeri örneklerin %98'ini kapsar"
      ],
      "metadata": {
        "id": "LM0_IfxSEwWi",
        "colab": {
          "base_uri": "https://localhost:8080/"
        },
        "outputId": "2a886f5a-57a3-4279-b4cd-9a139df23f98"
      },
      "execution_count": null,
      "outputs": [
        {
          "output_type": "execute_result",
          "data": {
            "text/plain": [
              "20.0"
            ]
          },
          "metadata": {},
          "execution_count": 108
        }
      ]
    },
    {
      "cell_type": "code",
      "source": [
        "# \"total_lines\" sütunumuzun sıcak kodlanmış tensörlerini oluşturmak için TensorFlow'u kullanın\n",
        "train_total_lines_one_hot = tf.one_hot(train_df[\"total_lines\"].to_numpy(), depth=20)\n",
        "val_total_lines_one_hot = tf.one_hot(val_df[\"total_lines\"].to_numpy(), depth=20)\n",
        "test_total_lines_one_hot = tf.one_hot(test_df[\"total_lines\"].to_numpy(), depth=20)\n",
        "\n",
        "# Tek-sıcak tensörün toplam çizgilerinin şeklini ve örneklerini kontrol edin\n",
        "train_total_lines_one_hot.shape, train_total_lines_one_hot[:10]"
      ],
      "metadata": {
        "id": "YaahGOUCEwTr",
        "colab": {
          "base_uri": "https://localhost:8080/"
        },
        "outputId": "26ac586c-a2a0-46a6-c54f-ec6f70c76b91"
      },
      "execution_count": null,
      "outputs": [
        {
          "output_type": "execute_result",
          "data": {
            "text/plain": [
              "(TensorShape([180040, 20]),\n",
              " <tf.Tensor: shape=(10, 20), dtype=float32, numpy=\n",
              " array([[0., 0., 0., 0., 0., 0., 0., 0., 0., 0., 0., 1., 0., 0., 0., 0.,\n",
              "         0., 0., 0., 0.],\n",
              "        [0., 0., 0., 0., 0., 0., 0., 0., 0., 0., 0., 1., 0., 0., 0., 0.,\n",
              "         0., 0., 0., 0.],\n",
              "        [0., 0., 0., 0., 0., 0., 0., 0., 0., 0., 0., 1., 0., 0., 0., 0.,\n",
              "         0., 0., 0., 0.],\n",
              "        [0., 0., 0., 0., 0., 0., 0., 0., 0., 0., 0., 1., 0., 0., 0., 0.,\n",
              "         0., 0., 0., 0.],\n",
              "        [0., 0., 0., 0., 0., 0., 0., 0., 0., 0., 0., 1., 0., 0., 0., 0.,\n",
              "         0., 0., 0., 0.],\n",
              "        [0., 0., 0., 0., 0., 0., 0., 0., 0., 0., 0., 1., 0., 0., 0., 0.,\n",
              "         0., 0., 0., 0.],\n",
              "        [0., 0., 0., 0., 0., 0., 0., 0., 0., 0., 0., 1., 0., 0., 0., 0.,\n",
              "         0., 0., 0., 0.],\n",
              "        [0., 0., 0., 0., 0., 0., 0., 0., 0., 0., 0., 1., 0., 0., 0., 0.,\n",
              "         0., 0., 0., 0.],\n",
              "        [0., 0., 0., 0., 0., 0., 0., 0., 0., 0., 0., 1., 0., 0., 0., 0.,\n",
              "         0., 0., 0., 0.],\n",
              "        [0., 0., 0., 0., 0., 0., 0., 0., 0., 0., 0., 1., 0., 0., 0., 0.,\n",
              "         0., 0., 0., 0.]], dtype=float32)>)"
            ]
          },
          "metadata": {},
          "execution_count": 109
        }
      ]
    },
    {
      "cell_type": "markdown",
      "source": [
        "**Tribrid gömme modeli oluşturma**\n",
        "\n",
        "Konumsal gömme tensörleri hazır.\n",
        "\n",
        "Şimdiye kadar inşa ettiğimiz en büyük modeli inşa etme zamanı. Token gömmeleri, karakter gömmeleri ve yeni hazırlanmış konumsal gömmelerimizi içeren bir tane.\n",
        "\n",
        "Keşfedilmiş bölgeye gireceğiz ama burada daha önce uygulamadığınız hiçbir şey olmayacak.\n",
        "\n",
        "Daha spesifik olarak aşağıdaki adımlardan geçeceğiz:\n",
        "\n",
        "1. Token düzeyinde bir model oluşturun (model_1'e benzer)\n",
        "\n",
        "2. Karakter düzeyinde bir model oluşturun (kağıdı yansıtmak için hafif bir değişiklikle model_3'e benzer)\n",
        "\n",
        "3. Bir \"line_number\" modeli oluşturun (tek-sıcak kodlanmış \"line_number\" tensörünü alır ve doğrusal olmayan bir katmandan geçirir)\n",
        "\n",
        "4. Bir \"total_lines\" modeli oluşturun (tek-sıcak kodlu \"total_lines\" tensörü alır ve doğrusal olmayan bir katmandan geçirir)\n",
        "\n",
        "5. 1 ve 2'nin çıktılarını bir token-karakter-hibrit gömme içinde birleştirin (katmanlar kullanarak. Birleştirin) ve Tıbbi Kağıt Özetlerinde Ortak Cümle Sınıflandırması için Sinir Ağları'nın Şekil 1 ve bölüm 4.2'sine çıktı serisini iletin https://www.tensorflow.org/api_docs/python/tf/keras/layers/Concatenate\n",
        "\n",
        "6. 3, 4 ve 5'in çıktılarını bir token-karakter-konumsal tribrid gömmede birleştirin (katmanlar kullanarak. Birleştirin)\n",
        "\n",
        "7. Tribrid gömme ve çıkış tahmin edilen etiket olasılıklarını kabul etmek için bir çıktı katmanı oluşturun\n",
        "\n",
        "8. 1, 2, 3, 4 girişlerini ve 7'nin çıkışlarını bir tf.keras.Model'de birleştirin https://www.tensorflow.org/api_docs/python/tf/keras/Model\n",
        "\n",
        "https://arxiv.org/pdf/1612.05251\n",
        "\n",
        "LSTM(32) dokümandan gelir, videoda 24 yapmış gerekçesi de karakter gömme token 50 ike 25 alıyor, ama 8'in katlarını tercih etmek için bunu uyguluyor.\n",
        "\n",
        "train_line_numbers_one_hot[0].shape --> 15\n",
        "\n",
        "train_total_lines_one_hot.shape --> (180040,20)\n",
        "\n",
        "4'te model ismi y diye adlandırıldı, x ile karıştırmamamk için. Ayrıca 32'lik özellik vektörüne gömülme olur."
      ],
      "metadata": {
        "id": "Li_eIdYWE9Vw"
      }
    },
    {
      "cell_type": "code",
      "source": [
        "# 1. Token girişleri\n",
        "token_inputs = layers.Input(shape=[], dtype=\"string\", name=\"token_inputs\")\n",
        "token_embeddings = tf_hub_embedding_layer(token_inputs)\n",
        "token_outputs = layers.Dense(128, activation=\"relu\")(token_embeddings)\n",
        "token_model = tf.keras.Model(inputs=token_inputs,\n",
        "                             outputs=token_outputs)\n",
        "\n",
        "# 2. Karakter girişleri\n",
        "char_inputs = layers.Input(shape=(1,), dtype=\"string\", name=\"char_inputs\")\n",
        "char_vectors = char_vectorizer(char_inputs)\n",
        "char_embeddings = char_embed(char_vectors)\n",
        "char_bi_lstm = layers.Bidirectional(layers.LSTM(32))(char_embeddings)\n",
        "char_model = tf.keras.Model(inputs=char_inputs,\n",
        "                            outputs=char_bi_lstm)\n",
        "\n",
        "# 3. Satır numarası girişleri\n",
        "line_number_inputs = layers.Input(shape=(15,), dtype=tf.int32, name=\"line_number_input\")\n",
        "x = layers.Dense(32, activation=\"relu\")(line_number_inputs)\n",
        "line_number_model = tf.keras.Model(inputs=line_number_inputs,\n",
        "                                   outputs=x)\n",
        "\n",
        "# 4. Toplam satır girişleri\n",
        "total_lines_inputs = layers.Input(shape=(20,), dtype=tf.int32, name=\"total_lines_input\")\n",
        "y = layers.Dense(32, activation=\"relu\")(total_lines_inputs)\n",
        "total_line_model = tf.keras.Model(inputs=total_lines_inputs,\n",
        "                                  outputs=y)\n",
        "\n",
        "# 5. Token ve karakter yerleştirmelerini hibrit bir yerleştirmede birleştirin\n",
        "combined_embeddings = layers.Concatenate(name=\"token_char_hybrid_embedding\")([token_model.output,\n",
        "                                                                              char_model.output])\n",
        "z = layers.Dense(256, activation=\"relu\")(combined_embeddings)\n",
        "z = layers.Dropout(0.5)(z)\n",
        "\n",
        "# 6. Konumsal yerleştirmeleri birleştirilmiş belirteç ve karakter yerleştirmeleriyle bir tribrid yerleştirmede birleştirin\n",
        "z = layers.Concatenate(name=\"token_char_positional_embedding\")([line_number_model.output,\n",
        "                                                                total_line_model.output,\n",
        "                                                                z])\n",
        "\n",
        "# 7. Çıktı katmanı oluştur\n",
        "output_layer = layers.Dense(5, activation=\"softmax\", name=\"output_layer\")(z)\n",
        "\n",
        "# 8. Modeli bir araya getir\n",
        "model_5 = tf.keras.Model(inputs=[line_number_model.input,\n",
        "                                 total_line_model.input,\n",
        "                                 token_model.input,\n",
        "                                 char_model.input],\n",
        "                         outputs=output_layer)\n",
        "\n",
        "# Model özeti\n",
        "model_5.summary()"
      ],
      "metadata": {
        "id": "BUhOreQAHmC1",
        "colab": {
          "base_uri": "https://localhost:8080/",
          "height": 809
        },
        "outputId": "e7f2f8cc-89e8-482e-c6d9-2537e956e8da",
        "collapsed": true
      },
      "execution_count": null,
      "outputs": [
        {
          "output_type": "error",
          "ename": "TypeError",
          "evalue": "Exception encountered when calling layer 'keras_layer_6' (type KerasLayer).\n\nBinding inputs to tf.function failed due to `A KerasTensor cannot be used as input to a TensorFlow function. A KerasTensor is a symbolic placeholder for a shape and dtype, used when constructing Keras Functional models or Keras Functions. You can only use it as input to a Keras layer or a Keras operation (from the namespaces `keras.layers` and `keras.operations`). You are likely doing something like:\n\n```\nx = Input(...)\n...\ntf_fn(x)  # Invalid.\n```\n\nWhat you should do instead is wrap `tf_fn` in a layer:\n\n```\nclass MyLayer(Layer):\n    def call(self, x):\n        return tf_fn(x)\n\nx = MyLayer()(x)\n```\n`. Received args: (<KerasTensor shape=(None,), dtype=string, sparse=False, name=token_inputs>,) and kwargs: {} for signature: (inputs: TensorSpec(shape=<unknown>, dtype=tf.string, name=None)).\n\nCall arguments received by layer 'keras_layer_6' (type KerasLayer):\n  • inputs=<KerasTensor shape=(None,), dtype=string, sparse=False, name=token_inputs>\n  • training=None",
          "traceback": [
            "\u001b[0;31m---------------------------------------------------------------------------\u001b[0m",
            "\u001b[0;31mTypeError\u001b[0m                                 Traceback (most recent call last)",
            "\u001b[0;32m<ipython-input-110-a872e6e0cd48>\u001b[0m in \u001b[0;36m<cell line: 3>\u001b[0;34m()\u001b[0m\n\u001b[1;32m      1\u001b[0m \u001b[0;31m# 1. Token girişleri\u001b[0m\u001b[0;34m\u001b[0m\u001b[0;34m\u001b[0m\u001b[0m\n\u001b[1;32m      2\u001b[0m \u001b[0mtoken_inputs\u001b[0m \u001b[0;34m=\u001b[0m \u001b[0mlayers\u001b[0m\u001b[0;34m.\u001b[0m\u001b[0mInput\u001b[0m\u001b[0;34m(\u001b[0m\u001b[0mshape\u001b[0m\u001b[0;34m=\u001b[0m\u001b[0;34m[\u001b[0m\u001b[0;34m]\u001b[0m\u001b[0;34m,\u001b[0m \u001b[0mdtype\u001b[0m\u001b[0;34m=\u001b[0m\u001b[0;34m\"string\"\u001b[0m\u001b[0;34m,\u001b[0m \u001b[0mname\u001b[0m\u001b[0;34m=\u001b[0m\u001b[0;34m\"token_inputs\"\u001b[0m\u001b[0;34m)\u001b[0m\u001b[0;34m\u001b[0m\u001b[0;34m\u001b[0m\u001b[0m\n\u001b[0;32m----> 3\u001b[0;31m \u001b[0mtoken_embeddings\u001b[0m \u001b[0;34m=\u001b[0m \u001b[0mtf_hub_embedding_layer\u001b[0m\u001b[0;34m(\u001b[0m\u001b[0mtoken_inputs\u001b[0m\u001b[0;34m)\u001b[0m\u001b[0;34m\u001b[0m\u001b[0;34m\u001b[0m\u001b[0m\n\u001b[0m\u001b[1;32m      4\u001b[0m \u001b[0mtoken_outputs\u001b[0m \u001b[0;34m=\u001b[0m \u001b[0mlayers\u001b[0m\u001b[0;34m.\u001b[0m\u001b[0mDense\u001b[0m\u001b[0;34m(\u001b[0m\u001b[0;36m128\u001b[0m\u001b[0;34m,\u001b[0m \u001b[0mactivation\u001b[0m\u001b[0;34m=\u001b[0m\u001b[0;34m\"relu\"\u001b[0m\u001b[0;34m)\u001b[0m\u001b[0;34m(\u001b[0m\u001b[0mtoken_embeddings\u001b[0m\u001b[0;34m)\u001b[0m\u001b[0;34m\u001b[0m\u001b[0;34m\u001b[0m\u001b[0m\n\u001b[1;32m      5\u001b[0m token_model = tf.keras.Model(inputs=token_inputs,\n",
            "\u001b[0;32m/usr/local/lib/python3.10/dist-packages/tf_keras/src/utils/traceback_utils.py\u001b[0m in \u001b[0;36merror_handler\u001b[0;34m(*args, **kwargs)\u001b[0m\n\u001b[1;32m     68\u001b[0m             \u001b[0;31m# To get the full stack trace, call:\u001b[0m\u001b[0;34m\u001b[0m\u001b[0;34m\u001b[0m\u001b[0m\n\u001b[1;32m     69\u001b[0m             \u001b[0;31m# `tf.debugging.disable_traceback_filtering()`\u001b[0m\u001b[0;34m\u001b[0m\u001b[0;34m\u001b[0m\u001b[0m\n\u001b[0;32m---> 70\u001b[0;31m             \u001b[0;32mraise\u001b[0m \u001b[0me\u001b[0m\u001b[0;34m.\u001b[0m\u001b[0mwith_traceback\u001b[0m\u001b[0;34m(\u001b[0m\u001b[0mfiltered_tb\u001b[0m\u001b[0;34m)\u001b[0m \u001b[0;32mfrom\u001b[0m \u001b[0;32mNone\u001b[0m\u001b[0;34m\u001b[0m\u001b[0;34m\u001b[0m\u001b[0m\n\u001b[0m\u001b[1;32m     71\u001b[0m         \u001b[0;32mfinally\u001b[0m\u001b[0;34m:\u001b[0m\u001b[0;34m\u001b[0m\u001b[0;34m\u001b[0m\u001b[0m\n\u001b[1;32m     72\u001b[0m             \u001b[0;32mdel\u001b[0m \u001b[0mfiltered_tb\u001b[0m\u001b[0;34m\u001b[0m\u001b[0;34m\u001b[0m\u001b[0m\n",
            "\u001b[0;32m/usr/local/lib/python3.10/dist-packages/tensorflow_hub/keras_layer.py\u001b[0m in \u001b[0;36mcall\u001b[0;34m(self, inputs, training)\u001b[0m\n\u001b[1;32m    240\u001b[0m     \u001b[0;31m# or else Keras' global `learning_phase`, which might actually be a tensor.\u001b[0m\u001b[0;34m\u001b[0m\u001b[0;34m\u001b[0m\u001b[0m\n\u001b[1;32m    241\u001b[0m     \u001b[0;32mif\u001b[0m \u001b[0;32mnot\u001b[0m \u001b[0mself\u001b[0m\u001b[0;34m.\u001b[0m\u001b[0m_has_training_argument\u001b[0m\u001b[0;34m:\u001b[0m\u001b[0;34m\u001b[0m\u001b[0;34m\u001b[0m\u001b[0m\n\u001b[0;32m--> 242\u001b[0;31m       \u001b[0mresult\u001b[0m \u001b[0;34m=\u001b[0m \u001b[0mf\u001b[0m\u001b[0;34m(\u001b[0m\u001b[0;34m)\u001b[0m\u001b[0;34m\u001b[0m\u001b[0;34m\u001b[0m\u001b[0m\n\u001b[0m\u001b[1;32m    243\u001b[0m     \u001b[0;32melse\u001b[0m\u001b[0;34m:\u001b[0m\u001b[0;34m\u001b[0m\u001b[0;34m\u001b[0m\u001b[0m\n\u001b[1;32m    244\u001b[0m       \u001b[0;32mif\u001b[0m \u001b[0mself\u001b[0m\u001b[0;34m.\u001b[0m\u001b[0mtrainable\u001b[0m\u001b[0;34m:\u001b[0m\u001b[0;34m\u001b[0m\u001b[0;34m\u001b[0m\u001b[0m\n",
            "\u001b[0;31mTypeError\u001b[0m: Exception encountered when calling layer 'keras_layer_6' (type KerasLayer).\n\nBinding inputs to tf.function failed due to `A KerasTensor cannot be used as input to a TensorFlow function. A KerasTensor is a symbolic placeholder for a shape and dtype, used when constructing Keras Functional models or Keras Functions. You can only use it as input to a Keras layer or a Keras operation (from the namespaces `keras.layers` and `keras.operations`). You are likely doing something like:\n\n```\nx = Input(...)\n...\ntf_fn(x)  # Invalid.\n```\n\nWhat you should do instead is wrap `tf_fn` in a layer:\n\n```\nclass MyLayer(Layer):\n    def call(self, x):\n        return tf_fn(x)\n\nx = MyLayer()(x)\n```\n`. Received args: (<KerasTensor shape=(None,), dtype=string, sparse=False, name=token_inputs>,) and kwargs: {} for signature: (inputs: TensorSpec(shape=<unknown>, dtype=tf.string, name=None)).\n\nCall arguments received by layer 'keras_layer_6' (type KerasLayer):\n  • inputs=<KerasTensor shape=(None,), dtype=string, sparse=False, name=token_inputs>\n  • training=None"
          ]
        }
      ]
    },
    {
      "cell_type": "markdown",
      "source": [
        "* char_inputs --> karakter gömme\n",
        "* token_inputs --> token dömme\n",
        "* line_number_input ve total_line_input --> özellik gömme"
      ],
      "metadata": {
        "id": "-C3leZpGH0rN"
      }
    },
    {
      "cell_type": "code",
      "source": [
        "# Belirteci, karakteri ve konumsal gömme modelini çizin\n",
        "from tensorflow.keras.utils import plot_model\n",
        "plot_model(model_5)"
      ],
      "metadata": {
        "id": "KYOnB4LWH2Sz"
      },
      "execution_count": null,
      "outputs": []
    },
    {
      "cell_type": "markdown",
      "source": [
        "Modeli görselleştirmek, anlaşılmayı çok daha kolay hale getirir.\n",
        "\n",
        "Esasen yaptığımız şey, dizilerimiz hakkında mümkün olduğunca fazla bilgiyi çeşitli gömmelere (modelimize girdiler) kodlamaya çalışmaktır, böylece modelimiz hangi etiketin bir diziye (modelimizin çıktıları) ait olduğunu bulmak için en iyi şansa sahiptir.\n",
        "\n",
        "Modelimizin, Tıbbi Kağıt Özetlerinde Ortak Cümle Sınıflandırması için Sinir Ağları Şekil 1'de gösterilen modele çok benzediğini fark edeceksiniz. Ancak, hala birkaç fark devam ediyor: https://arxiv.org/pdf/1612.05251\n",
        "\n",
        "- GloVe emebdding'ler yerine önceden eğitilmiş TensorFlow Hub belirteç gömmeleri kullanıyoruz.\n",
        "\n",
        "- Bi-LSTM katmanı yerine token-karakter hibrit gömmelerimizin üzerinde yoğun bir katman kullanıyoruz.\n",
        "\n",
        "- Makalenin Bölüm 3.1.3'ü, bir etiket dizisi optimizasyon katmanından bahseder (bu, dizi etiketlerinin saygın bir sırayla çıkmasını sağlamaya yardımcı olur) ancak Şekil 1'de gösterilmez. Modelimizde bu katmanın eksikliği için makyaj yapmak için konumsal gömme katmanlarını oluşturduk.\n",
        "\n",
        "- Makalenin 4.2. Bölümü, belirteç ve karakter gömmelerinin eğitim sırasında güncellendiğinden bahseder, önceden eğitilmiş TensorFlow Hub gömmelerimiz donmuş kalır.\n",
        "\n",
        "- Kağıt SGD optimize ediciyi kullanıyor, Adam'a bağlı kalacağız.\n",
        "\n",
        "- https://www.tensorflow.org/api_docs/python/tf/keras/optimizers/SGD\n",
        "- https://www.tensorflow.org/api_docs/python/tf/keras/optimizers/Adam\n",
        "\n",
        "Yukarıdaki tüm farklılıklar bu projenin potansiyel uzantılarıdır."
      ],
      "metadata": {
        "id": "jtIvT9P0IfnX"
      }
    },
    {
      "cell_type": "code",
      "source": [
        "# Modelimizin hangi katmanlarının eğitilebilir olup olmadığını kontrol edin\n",
        "for layer in model_5.layers:\n",
        "  print(layer, layer.trainable)"
      ],
      "metadata": {
        "id": "8sh9zvfUIhQb"
      },
      "execution_count": null,
      "outputs": []
    },
    {
      "cell_type": "markdown",
      "source": [
        "Şimdi modelimiz inşa edildi, derleyelim.\n",
        "\n",
        "Bu sefer, kayıp fonksiyonumuza label_smoothing adlı yeni bir parametre tanıtacağız. Etiket yumuşatma, bir örneğe belirli bir etiket uygulamaya çok fazla odaklanmadığından emin olarak modelimizi düzenlemeye (aşırı takmayı önlemeye) yardımcı olur.\n",
        "\n",
        "Örneğin, bir çıktı tahminine sahip olmak yerine:\n",
        "\n",
        "- Bir numune için [0.0, 0.0, 1.0, 0.0, 0.0] (model, doğru etiketin indeks 2 olduğundan çok emindir).\n",
        "\n",
        "Tahminler şöyle bir şey olacak şekilde yumuşatılacak:\n",
        "\n",
        "- [0.01, 0.01, 0.096, 0.01, 0.01] diğer etiketlerin her birine küçük bir aktivasyon vererek, umarım genellemeyi iyileştirir.\n",
        "\n",
        "📖 Kaynak: Etiket yumuşatma hakkında daha fazla bilgi için, PyImageSearch'ün harika blog gönderisine bakın, Keras, TensorFlow ve Deep Learning ile etiket yumuşatma. https://pyimagesearch.com/2019/12/30/label-smoothing-with-keras-tensorflow-and-deep-learning/\n",
        "\n",
        "label smooting --> 0-1 arası float türünde sayıdır. Etiket değerleri yumuşatılmıştır. Etiket değerine olan güvenirlilik esnektir. Örneğin bu değer 0.2 ise bir 0 etiketi için 0.1 ve 1 etiketi için 0.9 kullanılır.\n",
        "\n",
        "Sıfırda, bir sıfır noktasında takılırsa, öğrenmeyi tamamen durdurabilir çünkü model der ki ben sadece 1.0 olanı öğreneceğim, diğerleri unutulabilir.\n",
        "\n",
        "Ama yumuşatılmışta model 0.01'de sıkışıp kalmaz, daha sağlıklı tahminler...\n",
        "\n",
        "Etiket yumuşatması olan bu işlevi kullanabilmek için etiketlerimize tek bir sıcak kodlama biçiminde ihtiyacımız vardı."
      ],
      "metadata": {
        "id": "HMjBdGvrInhV"
      }
    },
    {
      "cell_type": "code",
      "source": [
        "# Belirteç, karakter ve konumsal gömme modelini derleyin\n",
        "model_5.compile(loss=tf.keras.losses.CategoricalCrossentropy(label_smoothing=0.2), # etiket yumuşatma ekleyin (gerçekten kendine güvenen örnekler biraz yumuşatılır)\n",
        "                optimizer=tf.keras.optimizers.Adam(),\n",
        "                metrics=[\"accuracy\"])"
      ],
      "metadata": {
        "id": "raX_NfJVIshF"
      },
      "execution_count": null,
      "outputs": []
    },
    {
      "cell_type": "markdown",
      "source": [
        "**Tribrid gömme veri kümeleri oluşturun ve tribrid modelini sığdırın**\n",
        "\n",
        "Bu sefer modelimiz dört özellik girişi gerektiriyor:\n",
        "\n",
        "1. Eğitim hattı numaraları tek sıcak tensör (train_line_numbers_one_hot)\n",
        "\n",
        "2. Eğitim toplam hatları bir-sıcak tensör (train_total_lines_one_hot)\n",
        "\n",
        "3. Token-seviye dizileri tensörü (train_sentences)\n",
        "\n",
        "4. Char-level dizileri tensörü (train_chars)\n",
        "\n",
        "Uygun şekilde şekillendirilmiş ve toplu PrefetchedDataset'ler oluşturmak için bunları tf.data.Dataset.from_tensor_slices() yöntemimize demet olarak aktarabiliriz."
      ],
      "metadata": {
        "id": "XhfjFl1WI1MW"
      }
    },
    {
      "cell_type": "code",
      "source": [
        "# Eğitim ve doğrulama veri kümeleri oluşturun (dört tür girdinin tümü)\n",
        "train_pos_char_token_data = tf.data.Dataset.from_tensor_slices((train_line_numbers_one_hot, # satır numarası\n",
        "                                                                train_total_lines_one_hot, # toplam satırlar\n",
        "                                                                train_sentences, # eğitim tokenleri\n",
        "                                                                train_chars)) # eğitim karakterleri\n",
        "train_pos_char_token_labels = tf.data.Dataset.from_tensor_slices(train_labels_one_hot) # eğitim etiketleri\n",
        "train_pos_char_token_dataset = tf.data.Dataset.zip((train_pos_char_token_data, train_pos_char_token_labels)) # veri ve etiketleri birleştir\n",
        "train_pos_char_token_dataset = train_pos_char_token_dataset.batch(32).prefetch(tf.data.AUTOTUNE) # gruplara dönüştürün ve uygun şekilde önceden getirin\n",
        "\n",
        "# Doğrulama veri kümesi\n",
        "val_pos_char_token_data = tf.data.Dataset.from_tensor_slices((val_line_numbers_one_hot,\n",
        "                                                              val_total_lines_one_hot,\n",
        "                                                              val_sentences,\n",
        "                                                              val_chars))\n",
        "val_pos_char_token_labels = tf.data.Dataset.from_tensor_slices(val_labels_one_hot)\n",
        "val_pos_char_token_dataset = tf.data.Dataset.zip((val_pos_char_token_data, val_pos_char_token_labels))\n",
        "val_pos_char_token_dataset = val_pos_char_token_dataset.batch(32).prefetch(tf.data.AUTOTUNE) # gruplara dönüştürün ve uygun şekilde önceden getirin\n",
        "\n",
        "# Giriş şekillerini kontrol edin\n",
        "train_pos_char_token_dataset, val_pos_char_token_dataset\n",
        "\n",
        "# Belirteci, karakteri ve konumsal gömme modelini takın\n",
        "history_model_5 = model_5.fit(train_pos_char_token_dataset,\n",
        "                              steps_per_epoch=int(0.1 * len(train_pos_char_token_dataset)),\n",
        "                              epochs=3,\n",
        "                              validation_data=val_pos_char_token_dataset,\n",
        "                              validation_steps=int(0.1 * len(val_pos_char_token_dataset)))"
      ],
      "metadata": {
        "id": "H5CasYHFI_zE",
        "colab": {
          "base_uri": "https://localhost:8080/",
          "height": 207
        },
        "collapsed": true,
        "outputId": "55278ded-da1b-4f83-a2fc-7582e9eea99c"
      },
      "execution_count": null,
      "outputs": [
        {
          "output_type": "error",
          "ename": "NameError",
          "evalue": "name 'model_5' is not defined",
          "traceback": [
            "\u001b[0;31m---------------------------------------------------------------------------\u001b[0m",
            "\u001b[0;31mNameError\u001b[0m                                 Traceback (most recent call last)",
            "\u001b[0;32m<ipython-input-111-fce7297ceb32>\u001b[0m in \u001b[0;36m<cell line: 23>\u001b[0;34m()\u001b[0m\n\u001b[1;32m     21\u001b[0m \u001b[0;34m\u001b[0m\u001b[0m\n\u001b[1;32m     22\u001b[0m \u001b[0;31m# Belirteci, karakteri ve konumsal gömme modelini takın\u001b[0m\u001b[0;34m\u001b[0m\u001b[0;34m\u001b[0m\u001b[0m\n\u001b[0;32m---> 23\u001b[0;31m history_model_5 = model_5.fit(train_pos_char_token_dataset,\n\u001b[0m\u001b[1;32m     24\u001b[0m                               \u001b[0msteps_per_epoch\u001b[0m\u001b[0;34m=\u001b[0m\u001b[0mint\u001b[0m\u001b[0;34m(\u001b[0m\u001b[0;36m0.1\u001b[0m \u001b[0;34m*\u001b[0m \u001b[0mlen\u001b[0m\u001b[0;34m(\u001b[0m\u001b[0mtrain_pos_char_token_dataset\u001b[0m\u001b[0;34m)\u001b[0m\u001b[0;34m)\u001b[0m\u001b[0;34m,\u001b[0m\u001b[0;34m\u001b[0m\u001b[0;34m\u001b[0m\u001b[0m\n\u001b[1;32m     25\u001b[0m                               \u001b[0mepochs\u001b[0m\u001b[0;34m=\u001b[0m\u001b[0;36m3\u001b[0m\u001b[0;34m,\u001b[0m\u001b[0;34m\u001b[0m\u001b[0;34m\u001b[0m\u001b[0m\n",
            "\u001b[0;31mNameError\u001b[0m: name 'model_5' is not defined"
          ]
        }
      ]
    },
    {
      "cell_type": "code",
      "source": [
        "# Belirteç-karakter-konumsal hibrit modelle tahminler yapın\n",
        "model_5_pred_probs = model_5.predict(val_pos_char_token_dataset, verbose=1)\n",
        "model_5_pred_probs"
      ],
      "metadata": {
        "id": "-ksTPa__I_vd"
      },
      "execution_count": null,
      "outputs": []
    },
    {
      "cell_type": "code",
      "source": [
        "# Tahmin olasılıklarını tahmin sınıflarına dönüştürün\n",
        "model_5_preds = tf.argmax(model_5_pred_probs, axis=1)\n",
        "model_5_preds"
      ],
      "metadata": {
        "id": "4GiTVX7UJHHO"
      },
      "execution_count": null,
      "outputs": []
    },
    {
      "cell_type": "code",
      "source": [
        "# Belirteç-karakter-konumsal hibrit modelin sonuçlarını hesaplayın\n",
        "model_5_results = calculate_results(y_true=val_labels_encoded,\n",
        "                                    y_pred=model_5_preds)\n",
        "model_5_results"
      ],
      "metadata": {
        "id": "K0JyqPRgJHDN"
      },
      "execution_count": null,
      "outputs": []
    },
    {
      "cell_type": "markdown",
      "source": [
        "# **4. Model Sonuçlarını Karşılaştır**"
      ],
      "metadata": {
        "id": "X0Wpqr5pj453"
      }
    },
    {
      "cell_type": "code",
      "source": [
        "# Model sonuçlarını bir DataFrame'de birleştirin\n",
        "all_model_results = pd.DataFrame({\"baseline\": baseline_results,\n",
        "                                  \"custom_token_embed_conv1d\": model_1_results,\n",
        "                                  \"pretrained_token_embed\": model_2_results,\n",
        "                                  \"custom_char_embed_conv1d\": model_3_results,\n",
        "                                  \"hybrid_char_token_embed\": model_4_results,\n",
        "                                  \"tribrid_pos_char_token_embed\": model_5_results})\n",
        "all_model_results = all_model_results.transpose()\n",
        "all_model_results"
      ],
      "metadata": {
        "id": "gKjUX9iWKItN",
        "colab": {
          "base_uri": "https://localhost:8080/",
          "height": 207
        },
        "outputId": "3b824fcd-f81c-4f70-8039-3a749708c3a0"
      },
      "execution_count": null,
      "outputs": [
        {
          "output_type": "error",
          "ename": "NameError",
          "evalue": "name 'model_1_results' is not defined",
          "traceback": [
            "\u001b[0;31m---------------------------------------------------------------------------\u001b[0m",
            "\u001b[0;31mNameError\u001b[0m                                 Traceback (most recent call last)",
            "\u001b[0;32m<ipython-input-112-1dd819eba5ab>\u001b[0m in \u001b[0;36m<cell line: 2>\u001b[0;34m()\u001b[0m\n\u001b[1;32m      1\u001b[0m \u001b[0;31m# Model sonuçlarını bir DataFrame'de birleştirin\u001b[0m\u001b[0;34m\u001b[0m\u001b[0;34m\u001b[0m\u001b[0m\n\u001b[1;32m      2\u001b[0m all_model_results = pd.DataFrame({\"baseline\": baseline_results,\n\u001b[0;32m----> 3\u001b[0;31m                                   \u001b[0;34m\"custom_token_embed_conv1d\"\u001b[0m\u001b[0;34m:\u001b[0m \u001b[0mmodel_1_results\u001b[0m\u001b[0;34m,\u001b[0m\u001b[0;34m\u001b[0m\u001b[0;34m\u001b[0m\u001b[0m\n\u001b[0m\u001b[1;32m      4\u001b[0m                                   \u001b[0;34m\"pretrained_token_embed\"\u001b[0m\u001b[0;34m:\u001b[0m \u001b[0mmodel_2_results\u001b[0m\u001b[0;34m,\u001b[0m\u001b[0;34m\u001b[0m\u001b[0;34m\u001b[0m\u001b[0m\n\u001b[1;32m      5\u001b[0m                                   \u001b[0;34m\"custom_char_embed_conv1d\"\u001b[0m\u001b[0;34m:\u001b[0m \u001b[0mmodel_3_results\u001b[0m\u001b[0;34m,\u001b[0m\u001b[0;34m\u001b[0m\u001b[0;34m\u001b[0m\u001b[0m\n",
            "\u001b[0;31mNameError\u001b[0m: name 'model_1_results' is not defined"
          ]
        }
      ]
    },
    {
      "cell_type": "code",
      "source": [
        "# Doğruluğu diğer ölçümlerle aynı ölçeğe düşürün\n",
        "all_model_results[\"accuracy\"] = all_model_results[\"accuracy\"]/100"
      ],
      "metadata": {
        "id": "jqgTmVXQKilu"
      },
      "execution_count": null,
      "outputs": []
    },
    {
      "cell_type": "code",
      "source": [
        "# Tüm model sonuçlarını çizin ve karşılaştırın\n",
        "all_model_results.plot(kind=\"bar\", figsize=(10, 7)).legend(bbox_to_anchor=(1.0, 1.0));"
      ],
      "metadata": {
        "id": "3hPNgcX_KiiG"
      },
      "execution_count": null,
      "outputs": []
    },
    {
      "cell_type": "code",
      "source": [
        "# Model sonuçlarını f1 puanına göre sıralayın\n",
        "all_model_results.sort_values(\"f1\", ascending=False)[\"f1\"].plot(kind=\"bar\", figsize=(10, 7));"
      ],
      "metadata": {
        "id": "t_JExj_JKp_S"
      },
      "execution_count": null,
      "outputs": []
    },
    {
      "cell_type": "markdown",
      "source": [
        "F1-scores'a dayanarak, tribrid gömme modelimiz adil bir farkla en iyi performansı sergiliyor gibi görünüyor.\n",
        "\n",
        "Bununla birlikte, PubMed 200k RCT'nin Tablo 3'ünde bildirilen sonuçlarla karşılaştırıldığında: Tıbbi Özetler makalesinde Sıralı Cümle Sınıflandırması için Bir Veri Kümesi, modelimizin F1-skoru hala düşük performans gösteriyor (yazar modeli, ~82.6'lık F1 skorumuza karşı 20k RCT veri kümesinde 90.0'lık bir F1 puanı elde ediyor). https://arxiv.org/pdf/1710.06071\n",
        "\n",
        "Bu fark hakkında dikkat edilmesi gereken bazı şeyler var:\n",
        "\n",
        "- Modellerimiz (taban çizgisi hariç), 20k RCT veri kümesindeki tam ~180.000 yerine ~18.000 (partilerin %10'u) dizi ve etiket örneği üzerinde eğitilmiştir.\n",
        "\n",
        "  - Bununla birlikte, makine öğrenimi deneylerinde genellikle durum böyledir, eğitimin daha az sayıda örnek üzerinde çalıştığından emin olun, ardından gerektiğinde yükseltin (bu projenin bir uzantısı, tam veri kümesinde bir model eğitecektir).\n",
        "\n",
        "- Modelimizin tahmin performans seviyeleri, test veri kümesinde değil, doğrulama veri kümesinde değerlendirilmiştir (en iyi modelimizi kısa süre içinde test veri kümesinde değerlendireceğiz)."
      ],
      "metadata": {
        "id": "ClYQ_b-4K3Sn"
      }
    },
    {
      "cell_type": "markdown",
      "source": [
        "# **5. Model Kaydetme ve Yükleme**"
      ],
      "metadata": {
        "id": "UO4VfrMFj43n"
      }
    },
    {
      "cell_type": "markdown",
      "source": [
        "Çok az deney yaptığımız için, en iyi performans gösteren modelimizi kaydetmek iyi bir fikirdir, böylece onu yeniden eğitmek zorunda kalmadan yeniden kullanabiliriz.\n",
        "\n",
        "Üzerinde save() yöntemini çağırarak en iyi performans gösteren modelimizi kaydedebiliriz. https://www.tensorflow.org/guide/keras/serialization_and_saving#the_short_answer_to_saving_loading\n",
        "\n",
        "Modeli kaydettiğinde model kaydedilir ve veri kümesini değerlendirdiğinde onu tekrar yüklemiş olursun.\n",
        "\n",
        "Bu modeli kaydedip colab dışında başka bir yerde kullanabilmeliyiz."
      ],
      "metadata": {
        "id": "44p9qpHhLEtf"
      }
    },
    {
      "cell_type": "code",
      "source": [
        "# En iyi performans gösteren modeli SavedModel formatına kaydedin (varsayılan)\n",
        "model_5.save(\"skimlit_tribrid_model\") # model dizeyle belirtilen yola kaydedilecek"
      ],
      "metadata": {
        "id": "Y1_I9C-FLN8H"
      },
      "execution_count": null,
      "outputs": []
    },
    {
      "cell_type": "markdown",
      "source": [
        "İsteğe bağlı: Google Colab kullanıyorsanız, daha kalıcı depolama için kayıtlı modelinizi Google Drive'a kopyalamak (veya indirmek) isteyebilirsiniz (bağlantınızı kestikten sonra Google Colab dosyaları kaybolur). https://colab.research.google.com/notebooks/io.ipynb#scrollTo=hauvGV4hV-Mh"
      ],
      "metadata": {
        "id": "lnUPeJLBLPH6"
      }
    },
    {
      "cell_type": "code",
      "source": [
        "# Kaydedilen modelin Google Colab'dan Drive'a kopyalanmasına örnek (Google Drive'ın takılı olmasını gerektirir)\n",
        "# !cp skimlit_best_model -r /content/drive/MyDrive/tensorflow_course/skim_lit"
      ],
      "metadata": {
        "id": "p_7hEtnMLSx5"
      },
      "execution_count": null,
      "outputs": []
    },
    {
      "cell_type": "markdown",
      "source": [
        "Tüm iyi yemek pişirme şovları gibi, önceden eğitilmiş bir modelimiz var (tam olarak Google Drive ve Google Storage'da kaydedilen ve saklanan model_5 için oluşturduğumuz aynı tür model). https://drive.google.com/file/d/1quaeTYEzwolI0dXv98S9GEXOTVu9Akfk/view\n",
        "\n",
        "Bu nedenle, değerlendirme için hepimizin aynı modeli kullandığımızdan emin olmak için onu indirip yükleyeceğiz.\n",
        "\n",
        "Ve modelimize yüklerken, birkaç özel nesne (TensorFlow Hub katmanımız ve TextVectorization katmanımız) kullandığından, bunları tf.keras.models.load_model()'ın custom_objects parametresinde belirterek yüklememiz gerekecek.\n",
        "\n",
        "- https://www.tensorflow.org/guide/keras/serialization_and_saving#custom_objects\n",
        "- https://www.tensorflow.org/api_docs/python/tf/keras/models/load_model"
      ],
      "metadata": {
        "id": "Yg13s_RPLV5s"
      }
    },
    {
      "cell_type": "code",
      "source": [
        "# Google Depolama Alanından önceden eğitilmiş modeli indirin\n",
        "!wget https://storage.googleapis.com/ztm_tf_course/skimlit/skimlit_tribrid_model.zip\n",
        "!mkdir skimlit_gs_model\n",
        "!unzip skimlit_tribrid_model.zip -d skimlit_gs_model"
      ],
      "metadata": {
        "id": "5WWuzIxgLY0L"
      },
      "execution_count": null,
      "outputs": []
    },
    {
      "cell_type": "code",
      "source": [
        "# TensorFlow modeli bağımlılıklarını içe aktarın (gerekirse) - https://github.com/tensorflow/tensorflow/issues/38250\n",
        "import tensorflow_hub as hub\n",
        "import tensorflow as tf\n",
        "from tensorflow.keras.layers import TextVectorization\n",
        "\n",
        "model_path = \"skimlit_gs_model/skimlit_tribrid_model/\"\n",
        "\n",
        "# İndirilen modeli Google Depolama Alanından yükle\n",
        "loaded_model = tf.keras.models.load_model(model_path)\n",
        "                                          # Not: TensorFlow 2.5+ ile SavedModel'inizde keras_metadata.pb dosyası varsa\n",
        "                                          # (model.save() kullanılırken oluşturulur), özel_nesnelere ihtiyacınız olmamalıdır\n",
        "                                          # parametre. Yapmanız durumunda kodu aşağıya bırakıyorum.\n",
        "                                          #custom_objects={\"TextVectorization\": TextVectorization, # karakter vektörleştirmesi için gereklidir\n",
        "                                          # \"KerasLayer\": hub.KerasLayer}) # belirteç yerleştirme için gerekli"
      ],
      "metadata": {
        "id": "FSsq-qLbLewp"
      },
      "execution_count": null,
      "outputs": []
    },
    {
      "cell_type": "markdown",
      "source": [
        "Dosyada oluşan modele sağ tık yaparsan istediğin yükleme seçenekleri çıkmaz.\n",
        "\n",
        "Yüklü modeli test etmenin yollarından birisi de tahmin yapıp karşılaştırmaktır. Bu tahminler result kodundaki sonuçlar ile çok yakın olmalı."
      ],
      "metadata": {
        "id": "Clt3zOhwLhet"
      }
    },
    {
      "cell_type": "markdown",
      "source": [
        "# **6. Değerlendirme**"
      ],
      "metadata": {
        "id": "3cawrazvj41R"
      }
    },
    {
      "cell_type": "markdown",
      "source": [
        "Modelimizin doğru bir şekilde kaydedildiğinden ve yüklendiğinden emin olmak için, onunla tahminlerde bulunalım, değerlendirelim ve ardından daha önce hesapladığımız tahmin sonuçlarıyla karşılaştıralım.\n",
        "\n",
        "Bir model ile sadece eğitim aldığı veri formatıyla aynı formatta tahminler yapılabilir.\n",
        "\n",
        "Kaynak şablonundaki veri tabloları google depolama alanında kayıtlıdır. Buradan veri almak için sağ tık link kopyala yap. (learntensorflow.io) Bu link !wget...unzip komutları ile yüklenebilir. -d dizin demek."
      ],
      "metadata": {
        "id": "mroVT5nYMDi8"
      }
    },
    {
      "cell_type": "markdown",
      "source": [
        "### **6.1. Doğrulama Veri Setini Değerlendir**"
      ],
      "metadata": {
        "id": "DpDJaWtUj4y-"
      }
    },
    {
      "cell_type": "code",
      "source": [
        "# Doğrulama setindeki yüklü modelle tahminler yapın\n",
        "loaded_pred_probs = loaded_model.predict(val_pos_char_token_dataset, verbose=1)\n",
        "loaded_preds = tf.argmax(loaded_pred_probs, axis=1)\n",
        "loaded_preds[:10]"
      ],
      "metadata": {
        "id": "cwzeRgKsMJWj"
      },
      "execution_count": null,
      "outputs": []
    },
    {
      "cell_type": "code",
      "source": [
        "# Yüklenen modelin tahminlerini değerlendirin\n",
        "loaded_model_results = calculate_results(val_labels_encoded,\n",
        "                                         loaded_preds)\n",
        "loaded_model_results"
      ],
      "metadata": {
        "id": "B9N_rvuwMJRl"
      },
      "execution_count": null,
      "outputs": []
    },
    {
      "cell_type": "code",
      "source": [
        "# Yüklenen model sonuçlarını orijinal eğitilmiş model sonuçlarıyla karşılaştırın (oldukça yakın olmalıdır)\n",
        "np.isclose(list(model_5_results.values()), list(loaded_model_results.values()), rtol=1e-02)"
      ],
      "metadata": {
        "id": "DMRnKJfgMLn_"
      },
      "execution_count": null,
      "outputs": []
    },
    {
      "cell_type": "code",
      "source": [
        "# Yüklenen model özetini kontrol edin (eğitilebilir parametrelerin sayısını not edin)\n",
        "loaded_model.summary()"
      ],
      "metadata": {
        "id": "VNQhtubUMLj9"
      },
      "execution_count": null,
      "outputs": []
    },
    {
      "cell_type": "markdown",
      "source": [
        "Kaydedilmiş bir Model'e yüklemenin tüm katmanları çözdüğünü (hepsini eğitilebilir hale getirdiğini) belirtmekte fayda var. Bu nedenle, herhangi bir katmanı dondurmak istiyorsanız, eğitilebilir özelliklerini False olarak ayarlamanız gerekir."
      ],
      "metadata": {
        "id": "CFojRoCCMQsV"
      }
    },
    {
      "cell_type": "markdown",
      "source": [
        "### **6.2. Test Veri Setinde Modeli Değerlendir**"
      ],
      "metadata": {
        "id": "163xCEfGj4wu"
      }
    },
    {
      "cell_type": "markdown",
      "source": [
        "Modelimizin performansını PubMed 200k RCT: a Dataset for Sequential Sentence Classification in Medical Abstracts makalesinin Tablo 3'ünde bildirilen sonuçlarla daha karşılaştırılabilir hale getirmek için, test veri kümesi hakkında tahminlerde bulunalım ve bunları değerlendirelim. https://arxiv.org/pdf/1710.06071"
      ],
      "metadata": {
        "id": "nqV35BVoMc06"
      }
    },
    {
      "cell_type": "code",
      "source": [
        "# Test veri kümesi kümesi oluşturun ve önceden getirildi\n",
        "test_pos_char_token_data = tf.data.Dataset.from_tensor_slices((test_line_numbers_one_hot,\n",
        "                                                               test_total_lines_one_hot,\n",
        "                                                               test_sentences,\n",
        "                                                               test_chars))\n",
        "test_pos_char_token_labels = tf.data.Dataset.from_tensor_slices(test_labels_one_hot)\n",
        "test_pos_char_token_dataset = tf.data.Dataset.zip((test_pos_char_token_data, test_pos_char_token_labels))\n",
        "test_pos_char_token_dataset = test_pos_char_token_dataset.batch(32).prefetch(tf.data.AUTOTUNE)\n",
        "\n",
        "# Şekilleri kontrol edin\n",
        "test_pos_char_token_dataset"
      ],
      "metadata": {
        "id": "RTjmfluCMfLr"
      },
      "execution_count": null,
      "outputs": []
    },
    {
      "cell_type": "code",
      "source": [
        "# Test veri kümesi üzerinde tahminler yapın\n",
        "test_pred_probs = loaded_model.predict(test_pos_char_token_dataset,\n",
        "                                       verbose=1)\n",
        "test_preds = tf.argmax(test_pred_probs, axis=1)\n",
        "test_preds[:10]"
      ],
      "metadata": {
        "id": "biV13K1vMfIr"
      },
      "execution_count": null,
      "outputs": []
    },
    {
      "cell_type": "code",
      "source": [
        "# Yüklü model test tahminlerini değerlendirin\n",
        "loaded_model_test_results = calculate_results(y_true=test_labels_encoded,\n",
        "                                              y_pred=test_preds)\n",
        "loaded_model_test_results"
      ],
      "metadata": {
        "id": "--HxtalYMfFz"
      },
      "execution_count": null,
      "outputs": []
    },
    {
      "cell_type": "markdown",
      "source": [
        "Görünüşe göre (şimdiye kadarki en iyi modelimiz) kağıttaki sonuçların performansını eşleştirmek için hala bazı yollara sahip (onların modeli test veri kümesinde 90.0 F1 puanı alır, bizimki de ~82.1 F1 puanı alır).\n",
        "\n",
        "Bununla birlikte, daha önce tartıştığımız gibi, modelimiz RCT 20k veri kümesindeki toplam ~180.000 dizinin yalnızca 20.000'inde eğitilmiştir. Ayrıca önceden eğitilmiş gömmelerimizi (kağıt ince ayarlı GloVe gömmeleri) ince ayar yapmadık. Sonuçlarımızı iyileştirmek için deneyebileceğimiz birkaç uzantı var."
      ],
      "metadata": {
        "id": "1Evv65cwMm1U"
      }
    },
    {
      "cell_type": "markdown",
      "source": [
        "### **6.3. En Çok Yanlışı Bul**"
      ],
      "metadata": {
        "id": "XTrjtxcRj4uf"
      }
    },
    {
      "cell_type": "markdown",
      "source": [
        "Modelinizin nerede yanlış gittiğini (veya potansiyel olarak verilerinizin nerede yanlış olduğunu) araştırmanın en iyi yollarından biri, \"en yanlış\" tahminleri görselleştirmektir.\n",
        "\n",
        "En yanlış tahminler, modelin yüksek olasılıklı bir tahminde bulunduğu ancak yanlış anladığı örneklerdir (modelin tahmini, temel doğruluk etiketiyle aynı fikirde değildir).\n",
        "\n",
        "En yanlış tahminlere bakmak, daha fazla modeli nasıl geliştireceğimiz veya verilerimizdeki etiketleri nasıl düzelteceğimiz konusunda bize değerli bilgiler verebilir.\n",
        "\n",
        "Test veri kümesinden en yanlış tahminleri görselleştirmemize yardımcı olacak bazı kodlar yazalım.\n",
        "\n",
        "Önce tüm tamsayı tabanlı test tahminlerimizi dize tabanlı sınıf adlarına dönüştüreceğiz."
      ],
      "metadata": {
        "id": "PUPyCbzHMyQH"
      }
    },
    {
      "cell_type": "code",
      "source": [
        "%%time\n",
        "# Test tahminlerinin sınıf adlarının listesini alın\n",
        "test_pred_classes = [label_encoder.classes_[pred] for pred in test_preds]\n",
        "test_pred_classes"
      ],
      "metadata": {
        "id": "8vu2RfkbM1R_"
      },
      "execution_count": null,
      "outputs": []
    },
    {
      "cell_type": "markdown",
      "source": [
        "Şimdi test DataFame'imizi birkaç değerle zenginleştireceğiz:\n",
        "\n",
        "1. Belirli bir örnek için modelimizin tahminini içeren bir \"tahmin\" (dize) sütunu.\n",
        "\n",
        "2. Belirli bir örnek için modelin maksimum tahmin olasılığını içeren bir \"pred_prob\" (float) sütunu.\n",
        "\n",
        "3. Modelin tahmininin numunenin hedef etiketiyle eşleşip eşleşmediğini gösteren bir \"doğru\" (bool) sütunu."
      ],
      "metadata": {
        "id": "4FhTMPm1M6gu"
      }
    },
    {
      "cell_type": "code",
      "source": [
        "# Tahminle zenginleştirilmiş test veri çerçevesi oluşturun\n",
        "test_df[\"prediction\"] = test_pred_classes # test tahmin sınıfı adlarını içeren sütun oluşturun\n",
        "test_df[\"pred_prob\"] = tf.reduce_max(test_pred_probs, axis=1).numpy() # Maksimum tahmin olasılığını elde edin\n",
        "test_df[\"correct\"] = test_df[\"prediction\"] == test_df[\"target\"] # tahminin doğru olup olmadığına ilişkin ikili sütun oluşturun\n",
        "test_df.head(20)"
      ],
      "metadata": {
        "id": "mwSihef_M83u"
      },
      "execution_count": null,
      "outputs": []
    },
    {
      "cell_type": "code",
      "source": [
        "# En yanlış 100 örneği bulun (not: 100 ikili bir sayıdır, isterseniz hepsini inceleyebilirsiniz)\n",
        "top_100_wrong = test_df[test_df[\"correct\"] == False].sort_values(\"pred_prob\", ascending=False)[:100]\n",
        "top_100_wrong"
      ],
      "metadata": {
        "id": "nF-VSwrjM_-S"
      },
      "execution_count": null,
      "outputs": []
    },
    {
      "cell_type": "code",
      "source": [
        "# En çok yanlış tercihleri ​​araştırın\n",
        "for row in top_100_wrong[0:10].itertuples(): # farklı örnekleri görüntülemek için dizinleri ayarlayın\n",
        "  _, target, text, line_number, total_lines, prediction, pred_prob, _ = row\n",
        "  print(f\"Hedef: {target}, Pred: {prediction}, Tahmin: {pred_prob}, Satır numarası: {line_number}, Toplam satır sayısı: {total_lines}\\n\")\n",
        "  print(f\"Cümle:\\n{text}\\n\")\n",
        "  print(\"-----\\n\")"
      ],
      "metadata": {
        "id": "rrgQJWhvM_6x"
      },
      "execution_count": null,
      "outputs": []
    },
    {
      "cell_type": "markdown",
      "source": [
        "En yanlış tahminler hakkında ne fark ediyorsunuz? Model aptalca hatalar yapıyor mu? Veya bazı etiketler yanlış/belirsiz mi (örneğin, soyuttaki bir satır potansiyel olarak HEDEF veya ARKA PLAN olarak etiketlenebilir ve mantıklı olabilir).\n",
        "\n",
        "Buradaki bir sonraki adım, tutarsız etiketlere sahip birkaç örnek varsa, eğitim veri kümenizi gözden geçirebilir, etiketleri güncelleyebilir ve ardından bir modeli yeniden eğitebilirsiniz. Veri kümenizin etiketlerini iyileştirmeye/araştırmaya yardımcı olacak bir model kullanma süreci genellikle aktif öğrenme olarak adlandırılır."
      ],
      "metadata": {
        "id": "Hn21riYDNE_D"
      }
    },
    {
      "cell_type": "markdown",
      "source": [
        "### **6.4. Örnek Tahminler Yap**"
      ],
      "metadata": {
        "id": "MdOKNl6_j4r7"
      }
    },
    {
      "cell_type": "markdown",
      "source": [
        "\n",
        "Tamam, test veri kümesi hakkında bazı tahminlerde bulunduk, şimdi modelimizi gerçekten test etme zamanı.\n",
        "\n",
        "Bunu yapmak için, vahşi doğadan bazı veriler alacağız ve modelimizin nasıl performans gösterdiğini göreceğiz.\n",
        "\n",
        "Başka bir deyişle, PubMed'den bir RCT özeti bulacak, metni modelimizle çalışması için önceden işleyecek, ardından hangi etiketi tahmin ettiğini görmek için vahşi soyuttaki her diziyi modelimizden geçirecektik.\n",
        "\n",
        "Uygun bir örnek için, bölünmüş özetler olmadan RCT'ler (randomize kontrollü çalışmalar) için PubMed'i aramamız gerekecek (PubMed'i keşfederken, özetlerin çoğunun zaten ayrı bölümlere önceden biçimlendirilmiş olduğunu fark edeceksiniz, bu okunabilirliğe önemli ölçüde yardımcı olur).\n",
        "\n",
        "Çeşitli PubMed çalışmalarından geçerken, yüksek işlevli otizm spektrum bozuklukları için manuelleştirilmiş bir sosyal tedavinin RCT'den aşağıdaki yapılandırılmamış özetini bulmayı başardım: https://pubmed.ncbi.nlm.nih.gov/20232240/\n",
        "\n",
        "Orjinali:\n",
        "\n",
        "This RCT examined the efficacy of a manualized social intervention for children with HFASDs. Participants were randomly assigned to treatment or wait-list conditions. Treatment included instruction and therapeutic activities targeting social skills, face-emotion recognition, interest expansion, and interpretation of non-literal language. A response-cost program was applied to reduce problem behaviors and foster skills acquisition. Significant treatment effects were found for five of seven primary outcome measures (parent ratings and direct child measures). Secondary measures based on staff ratings (treatment group only) corroborated gains reported by parents. High levels of parent, child and staff satisfaction were reported, along with high levels of treatment fidelity. Standardized effect size estimates were primarily in the medium and large ranges and favored the treatment group.\n",
        "\n",
        "Çevirisi:\n",
        "\n",
        "Bu RCT, HFASD'li çocuklar için manuelleştirilmiş bir sosyal müdahalenin etkinliğini incelemiştir. Katılımcılar rastgele tedavi veya bekleme listesi koşullarına atandı. Tedavi, sosyal becerileri, yüz-duygu tanımayı, ilgi alanını genişletmeyi ve edebi olmayan dilin yorumlanmasını hedefleyen öğretim ve terapötik faaliyetleri içeriyordu. Sorunlu davranışları azaltmak ve beceri edinimini teşvik etmek için bir response-cost programı uygulandı. Yedi birincil sonuç ölçütünün beşi (ebeveyn derecelendirmeleri ve doğrudan çocuk ölçümleri) için önemli tedavi etkileri bulundu. Personel derecelendirmelerine (yalnızca tedavi grubu) dayalı ikincil önlemler, ebeveynler tarafından bildirilen kazanımları doğruladı. Yüksek düzeyde tedavi sadakati ile birlikte yüksek düzeyde ebeveyn, çocuk ve personel memnuniyeti bildirilmiştir. Standartlaştırılmış etki boyutu tahminleri öncelikle orta ve büyük aralıklardaydı ve tedavi grubunu tercih etti.\n",
        "\n",
        "Büyük metin yığınına bakmak oldukça korkutucu görünebilir. Şimdi, çalışmanızla ilgili bir çalışma bulmak için literatürü gözden geçirmeye çalışan bir tıp araştırmacısı olduğunuzu hayal edin.\n",
        "\n",
        "Oldukça zor görünüyor değil mi?\n",
        "\n",
        "SkimLit'e girin 🤓🔥!\n",
        "\n",
        "Şimdiye kadarki en iyi modelimizin (model_5) yukarıdaki soyuttan ne yaptığını görelim.\n",
        "\n",
        "Ama bekle...\n",
        "\n",
        "Tahmin edebileceğiniz gibi, yukarıdaki özet, modelimizin eğitildiği verilerle aynı yapıda biçimlendirilmemiştir. Bu nedenle, üzerinde bir tahminde bulunmadan önce, tıpkı diğer dizilerimiz olduğu gibi onu önceden işlememiz gerekir.\n",
        "\n",
        "Daha spesifik olarak, her özet için şunları yapmamız gerekecek:\n",
        "\n",
        "- Cümlelere (satırlara) bölün.\n",
        "\n",
        "- Karakterlere bölün.\n",
        "\n",
        "- Her satırın numarasını bulun.\n",
        "\n",
        "- Toplam satır sayısını bulun.\n",
        "\n",
        "1 numaradan başlayarak, özetlerimizi gerçek cümlelere bölmenin birkaç yolu vardır. Basit bir tanesi, Python'un in-built split() string yöntemini kullanmak ve bir fullstop'un göründüğü her yerde özeti bölmek olacaktır. Ancak, bunun nerede yanlış gidebileceğini hayal edebiliyor musunuz?\n",
        "\n",
        "Başka bir daha gelişmiş seçenek, spaCy'nin (çok güçlü bir NLP kitaplığı) sentencizer sınıfından yararlanmak olacaktır. SpaCy'nin İngilizce dil modeline dayanan kullanımı kolay bir cümle ayırıcıdır.\n",
        "\n",
        "- https://spacy.io/\n",
        "- https://spacy.io/usage/linguistic-features#sbd\n",
        "- https://raw.githubusercontent.com/mrdbourke/tensorflow-deep-learning/main/extras/skimlit_example_abstracts.json\n",
        "\n",
        "Modelimizi denemek için PubMed RCT makalelerinden bazı özetler hazırladım, GitHub'dan indirebiliriz."
      ],
      "metadata": {
        "id": "6cJwYEvANpPa"
      }
    },
    {
      "cell_type": "code",
      "source": [
        "import json\n",
        "# Örnek özetleri indirin ve açın (PubMed'den kopyalayıp yapıştırın)\n",
        "!wget https://raw.githubusercontent.com/mrdbourke/tensorflow-deep-learning/main/extras/skimlit_example_abstracts.json\n",
        "\n",
        "with open(\"skimlit_example_abstracts.json\", \"r\") as f:\n",
        "  example_abstracts = json.load(f)\n",
        "\n",
        "example_abstracts"
      ],
      "metadata": {
        "id": "nKQ_N5jONsyP"
      },
      "execution_count": null,
      "outputs": []
    },
    {
      "cell_type": "code",
      "source": [
        "# Örnek özetlerimizin neye benzediğini görün\n",
        "abstracts = pd.DataFrame(example_abstracts)\n",
        "abstracts"
      ],
      "metadata": {
        "id": "Zm2u_l8HN21o"
      },
      "execution_count": null,
      "outputs": []
    },
    {
      "cell_type": "code",
      "source": [
        "# Cümle oluşturucu oluşturun - Kaynak: https://spacy.io/usage/linguistic-features#sbd\n",
        "from spacy.lang.en import English\n",
        "nlp = English() # setup English sentence parser\n",
        "\n",
        "# spaCy'nin yeni versiyonu\n",
        "sentencizer = nlp.add_pipe(\"sentencizer\") # cümle bölme boru hattı nesnesi oluştur\n",
        "\n",
        "# Ayrıştırılmış dizilerin \"belgesini\" oluşturun, farklı bir özet için dizini değiştirin\n",
        "doc = nlp(example_abstracts[0][\"abstract\"])\n",
        "abstract_lines = [str(sent) for sent in list(doc.sents)] # dize türünde belgeden tespit edilen cümleleri döndür (spaCy belirteç türü değil)\n",
        "abstract_lines"
      ],
      "metadata": {
        "id": "afnc2_kdN4vZ"
      },
      "execution_count": null,
      "outputs": []
    },
    {
      "cell_type": "markdown",
      "source": [
        "Güzel! SpaCy, özetteki cümleleri doğru bir şekilde bölmüş gibi görünüyor. Bununla birlikte, ayrı cümlelere mükemmel bir şekilde bölünmeyen daha karmaşık özetler olabileceği unutulmamalıdır (Baclofen'deki örnek gibi, hepatit C virüsü (HCV) enfeksiyonu olan alkol bağımlı sirotik hastalarda alkol yoksunluğunu teşvik eder), bu durumda, daha özel bölme tekniklerinin araştırılması gerekir. https://pubmed.ncbi.nlm.nih.gov/22244707/\n",
        "\n",
        "Şimdi özetimiz cümlelere bölündü, toplam satırların yanı sıra satır sayılarını da saymak için biraz kod yazmaya ne dersiniz?\n",
        "\n",
        "Bunu yapmak için, preprocess_text_with_line_numbers() işlevimizin bazı işlevlerinden yararlanabiliriz."
      ],
      "metadata": {
        "id": "5EfzFjniN7wz"
      }
    },
    {
      "cell_type": "code",
      "source": [
        "# Toplam satır sayısını al\n",
        "total_lines_in_sample = len(abstract_lines)\n",
        "\n",
        "# Özet olarak her satırı gözden geçirin ve her satır için özellikler içeren sözlüklerin bir listesini oluşturun\n",
        "sample_lines = []\n",
        "for i, line in enumerate(abstract_lines):\n",
        "  sample_dict = {}\n",
        "  sample_dict[\"text\"] = str(line)\n",
        "  sample_dict[\"line_number\"] = i\n",
        "  sample_dict[\"total_lines\"] = total_lines_in_sample - 1\n",
        "  sample_lines.append(sample_dict)\n",
        "sample_lines"
      ],
      "metadata": {
        "id": "y6sCauQ-N-Vv"
      },
      "execution_count": null,
      "outputs": []
    },
    {
      "cell_type": "markdown",
      "source": [
        "Şimdi \"line_number\" ve \"total_lines\" değerlerimiz var, onları tf.one_hot ile tek sıcak kodlayabiliriz, tıpkı eğitim veri kümemizde yaptığımız gibi (derinlik parametresi için aynı değerleri kullanarak)."
      ],
      "metadata": {
        "id": "1tNyjLVYOARq"
      }
    },
    {
      "cell_type": "code",
      "source": [
        "# Örnek özetteki tüm satır_numarası değerlerini alın\n",
        "test_abstract_line_numbers = [line[\"line_number\"] for line in sample_lines]\n",
        "# Eğitim verileriyle aynı derinliğe kadar tek seferde kodlama, böylece model doğru giriş şeklini kabul eder\n",
        "test_abstract_line_numbers_one_hot = tf.one_hot(test_abstract_line_numbers, depth=15)\n",
        "test_abstract_line_numbers_one_hot"
      ],
      "metadata": {
        "id": "hMCoiyvOOBvT"
      },
      "execution_count": null,
      "outputs": []
    },
    {
      "cell_type": "code",
      "source": [
        "# Örnek özetten tüm total_lines değerlerini alın\n",
        "test_abstract_total_lines = [line[\"total_lines\"] for line in sample_lines]\n",
        "\n",
        "# Eğitim verileriyle aynı derinliğe kadar tek sıcak kodlama, böylece model doğru giriş şeklini kabul eder\n",
        "test_abstract_total_lines_one_hot = tf.one_hot(test_abstract_total_lines, depth=20)\n",
        "test_abstract_total_lines_one_hot"
      ],
      "metadata": {
        "id": "fNKkHKlRODSh"
      },
      "execution_count": null,
      "outputs": []
    },
    {
      "cell_type": "code",
      "source": [
        "# Özet satırlarını karakterlere ayırın\n",
        "abstract_chars = [split_chars(sentence) for sentence in abstract_lines]\n",
        "abstract_chars"
      ],
      "metadata": {
        "id": "z8FYBK3mOFH7"
      },
      "execution_count": null,
      "outputs": []
    },
    {
      "cell_type": "code",
      "source": [
        "# Örnek soyut özelliklere ilişkin tahminlerde bulunun\n",
        "%%time\n",
        "test_abstract_pred_probs = loaded_model.predict(x=(test_abstract_line_numbers_one_hot,\n",
        "                                                   test_abstract_total_lines_one_hot,\n",
        "                                                   tf.constant(abstract_lines),\n",
        "                                                   tf.constant(abstract_chars)))\n",
        "test_abstract_pred_probs"
      ],
      "metadata": {
        "id": "qnaA1TO6OGhP"
      },
      "execution_count": null,
      "outputs": []
    },
    {
      "cell_type": "code",
      "source": [
        "# Tahmin olasılıklarını tahmin sınıflarına dönüştürün\n",
        "test_abstract_preds = tf.argmax(test_abstract_pred_probs, axis=1)\n",
        "test_abstract_preds"
      ],
      "metadata": {
        "id": "eRcoMUpKOGe3"
      },
      "execution_count": null,
      "outputs": []
    },
    {
      "cell_type": "code",
      "source": [
        "# Tahmin sınıfı tamsayılarını dize sınıfı adlarına dönüştürün\n",
        "test_abstract_pred_classes = [label_encoder.classes_[i] for i in test_abstract_preds]\n",
        "test_abstract_pred_classes"
      ],
      "metadata": {
        "id": "ss5foczTOGdD"
      },
      "execution_count": null,
      "outputs": []
    },
    {
      "cell_type": "code",
      "source": [
        "# Özet satırlarını ve tahmin edilen sıra etiketlerini görselleştirin\n",
        "for i, line in enumerate(abstract_lines):\n",
        "  print(f\"{test_abstract_pred_classes[i]}: {line}\")"
      ],
      "metadata": {
        "id": "_N8aPl1nOGbm"
      },
      "execution_count": null,
      "outputs": []
    },
    {
      "cell_type": "markdown",
      "source": [
        "Okumak çok daha kolay değil mi? Demek istediğim, modelimizin tahminleri geliştirilebilir gibi görünüyor, ama bu ne kadar havalı?\n",
        "\n",
        "Sitedeki yapılandırılmamış herhangi bir RCT özetini biçimlendirmek için modelimizi PubMed web sitesinin arka ucuna uyguladığımızı hayal edin.\n",
        "\n",
        "Ya da herhangi bir yapılandırılmamış RCT özetine (modelimiz tarafından desteklenen) yapı ekleyecek \"SkimLit\" adlı bir tarayıcı uzantısı bile olabilir.\n",
        "\n",
        "Ve eğer tıbbi araştırmacı arkadaşınızı gösterdiyse ve tahminlerin standartlara uygun olmadığını düşündülerse, \"bu etiket doğru mu?... değilse, ne olmalı?\" diyen bir düğme olabilir. Bu şekilde, modelimizin gelecekteki tahminleriyle birlikte veri kümesi zaman içinde geliştirilebilir.\n",
        "\n",
        "Tabii ki, modeli, kullanılabilirliği, ön işleme işlevselliğini (örneğin, örnek soyut ön işleme boru hattımızı işlevsel hale getirmek) geliştirmek için kullanabileceğimiz daha birçok yol var, ancak bunları alıştırmalar/uzantılar için bırakacağım.\n",
        "\n",
        "🤔 Soru: Vahşi doğadan test örneğimizin sonuçlarının gerçekten vahşi olduğundan nasıl emin olabiliriz? Test ettiğimiz numune hakkında kontrol etmemiz gereken bir şey var mı?"
      ],
      "metadata": {
        "id": "OMyLT03sOK7V"
      }
    },
    {
      "cell_type": "markdown",
      "source": [
        "### **6.5. Kendi Denemelerim :)**"
      ],
      "metadata": {
        "id": "4xj7Hp2kj4p8"
      }
    },
    {
      "cell_type": "code",
      "source": [
        "import json\n",
        "import requests\n",
        "\n",
        "url = \"https://raw.githubusercontent.com/MuhammedBarut/dosyalar_nlp/main/kronik_gastrit.json\"\n",
        "\n",
        "response = requests.get(url)\n",
        "kronik_gastrit = response.json()\n",
        "\n",
        "print(kronik_gastrit)"
      ],
      "metadata": {
        "id": "E7y6XPhrOXa3"
      },
      "execution_count": null,
      "outputs": []
    },
    {
      "cell_type": "code",
      "source": [
        "# Örnek özetlerimizin neye benzediğini görün\n",
        "ozet = pd.DataFrame(kronik_gastrit)\n",
        "ozet"
      ],
      "metadata": {
        "id": "5a5A0WKaOXXC"
      },
      "execution_count": null,
      "outputs": []
    },
    {
      "cell_type": "code",
      "source": [
        "# Cümle oluşturucu oluştur\n",
        "from spacy.lang.en import English\n",
        "nlp = English()\n",
        "\n",
        "# spaCy'nin yeni versiyonu\n",
        "sentencizer = nlp.add_pipe(\"sentencizer\")\n",
        "\n",
        "# Ayrıştırılmış dizilerin \"belgesini\" oluşturun, farklı bir özet için dizini değiştirin\n",
        "doc = nlp(kronik_gastrit[0][\"abstract\"])\n",
        "abstract_lines = [str(sent) for sent in list(doc.sents)]\n",
        "abstract_lines"
      ],
      "metadata": {
        "id": "SoGBCuDOOXU3"
      },
      "execution_count": null,
      "outputs": []
    },
    {
      "cell_type": "code",
      "source": [
        "# Toplam satır sayısını al\n",
        "total_lines_in_sample = len(abstract_lines)\n",
        "\n",
        "# Özet olarak her satırı gözden geçirin ve her satır için özellikler içeren sözlüklerin bir listesini oluşturun\n",
        "sample_lines = []\n",
        "for i, line in enumerate(abstract_lines):\n",
        "  sample_dict = {}\n",
        "  sample_dict[\"text\"] = str(line)\n",
        "  sample_dict[\"line_number\"] = i\n",
        "  sample_dict[\"total_lines\"] = total_lines_in_sample - 1\n",
        "  sample_lines.append(sample_dict)\n",
        "sample_lines"
      ],
      "metadata": {
        "id": "im3nNHGWOXSZ"
      },
      "execution_count": null,
      "outputs": []
    },
    {
      "cell_type": "code",
      "source": [
        "# Örnek özetteki tüm satır_numarası değerlerini alın\n",
        "test_abstract_line_numbers = [line[\"line_number\"] for line in sample_lines]\n",
        "\n",
        "# Eğitim verileriyle aynı derinliğe kadar tek sıcak kodlama, böylece model doğru giriş şeklini kabul eder\n",
        "test_abstract_line_numbers_one_hot = tf.one_hot(test_abstract_line_numbers, depth=15)\n",
        "test_abstract_line_numbers_one_hot"
      ],
      "metadata": {
        "id": "K8Qo2uH6OXQC"
      },
      "execution_count": null,
      "outputs": []
    },
    {
      "cell_type": "code",
      "source": [
        "# Özet satırlarını karakterlere ayırın\n",
        "abstract_chars = [split_chars(sentence) for sentence in abstract_lines]\n",
        "abstract_chars"
      ],
      "metadata": {
        "id": "akIHCZPxOePU"
      },
      "execution_count": null,
      "outputs": []
    },
    {
      "cell_type": "code",
      "source": [
        "# Örnek soyut özelliklere ilişkin tahminlerde bulunun\n",
        "%%time\n",
        "test_abstract_pred_probs = loaded_model.predict(x=(test_abstract_line_numbers_one_hot,\n",
        "                                                   test_abstract_total_lines_one_hot,\n",
        "                                                   tf.constant(abstract_lines),\n",
        "                                                   tf.constant(abstract_chars)))\n",
        "test_abstract_pred_probs"
      ],
      "metadata": {
        "id": "gDrqAXl5OeNG"
      },
      "execution_count": null,
      "outputs": []
    },
    {
      "cell_type": "code",
      "source": [
        "# Tahmin olasılıklarını tahmin sınıflarına dönüştürün\n",
        "test_abstract_preds = tf.argmax(test_abstract_pred_probs, axis=1)\n",
        "test_abstract_preds"
      ],
      "metadata": {
        "id": "VQfIRKL3OeIB"
      },
      "execution_count": null,
      "outputs": []
    },
    {
      "cell_type": "code",
      "source": [
        "# Tahmin sınıfı tamsayılarını dize sınıfı adlarına dönüştürün\n",
        "test_abstract_pred_classes = [label_encoder.classes_[i] for i in test_abstract_preds]\n",
        "test_abstract_pred_classes"
      ],
      "metadata": {
        "id": "4w6bcPqFOeFi"
      },
      "execution_count": null,
      "outputs": []
    },
    {
      "cell_type": "code",
      "source": [
        "# Özet satırlarını ve tahmin edilen sıra etiketlerini görselleştirin\n",
        "for i, line in enumerate(abstract_lines):\n",
        "  print(f\"{test_abstract_pred_classes[i]}: {line}\")"
      ],
      "metadata": {
        "id": "mglcLDf-OjxB"
      },
      "execution_count": null,
      "outputs": []
    },
    {
      "cell_type": "markdown",
      "source": [
        "# **7. Kaynakça**"
      ],
      "metadata": {
        "id": "qViT0ESjj4nV"
      }
    },
    {
      "cell_type": "markdown",
      "source": [
        "* Bir metin veri kümesi indirme (GitHub'dan PubMed RCT200k) https://github.com/Franck-Dernoncourt/pubmed-rct\n",
        "* Model mimarisini https://arxiv.org/abs/1612.05251 adresinden çoğaltma\n",
        "* Dosyalar & Kaynaklar: https://github.com/mrdbourke/tensorflow-deep-learning\n",
        "* Bu dosyanın orjinali: https://github.com/mrdbourke/tensorflow-deep-learning/blob/main/09_SkimLit_nlp_milestone_project_2.ipynb"
      ],
      "metadata": {
        "id": "cd164cAkxZ7W"
      }
    },
    {
      "cell_type": "markdown",
      "source": [
        "1. Eğitim veri kümesindeki tüm veriler üzerinde model_5'i iyileştirmeyi durdurana kadar birçok dönem boyunca eğitin. Bu biraz zaman alabileceğinden, kullanmak isteyebilirsiniz:\n",
        "\n",
        "  - Sadece modelin en iyi ağırlıklarını kaydetmek için tf.keras.callbacks.ModelCheckpoint. https://www.tensorflow.org/api_docs/python/tf/keras/callbacks/ModelCheckpoint\n",
        "\n",
        "  - tf.keras.callbacks.Doğrulama kaybı ~3 dönem için gelişmeyi durdurduktan sonra modeli eğitimden durdurmak için EarlyStopping. https://www.tensorflow.org/api_docs/python/tf/keras/callbacks/EarlyStopping\n",
        "\n",
        "2. Önceden eğitilmiş GloVe gömmelerini kullanma konusunda Keras kılavuzuna göz atın. Bunu modellerimizden biriyle çalıştırabilir misin? https://keras.io/examples/nlp/pretrained_word_embeddings/\n",
        "\n",
        "  - İpucu: Bunu özel bir belirteç Gömme katmanıyla birleştirmek isteyeceksiniz. https://www.tensorflow.org/api_docs/python/tf/keras/layers/Embedding\n",
        "\n",
        "  - GloVe gömülerini ince ayar yapıp yapmamanız veya donmuş bırakmanız size kalmış.\n",
        "\n",
        "3. TensorFlow Hub BERT PubMed uzmanı (PubMed metinleri üzerinde önceden eğitilmiş bir dil modeli) için TensorFlow Hub Evrensel Cümle Kodlayıcısı önceden eğitilmiş gömmeyi değiştirmeyi deneyin. Bu etki ortaya çıkar mı? https://www.kaggle.com/models/google/experts-bert/tensorFlow2/pubmed/2?tfhub-redirect=true\n",
        "\n",
        "  - Not: BERT PubMed uzmanı önceden eğitilmiş gömmeyi kullanmak, diziler için ekstra bir ön işlem adımı gerektirir (TensorFlow Hub kılavuzunda ayrıntılı olarak açıklandığı gibi). https://www.kaggle.com/models/google/experts-bert/tensorFlow2/pubmed/2?tfhub-redirect=true\n",
        "\n",
        "  - BERT modeli bu makalede bahsedilen sonuçları yendi mi? Https://arxiv.org/pdf/1710.06071.pdf\n",
        "\n",
        "4. Her dizi için line_number ve total_lines özelliklerimizi birleştirirseniz ne olur? Örneğin, bunun yerine bir X_of_Y özelliği oluşturuldu mu? Bu, model performansını etkiler mi?\n",
        "\n",
        "  - Başka bir örnek: line_number=1 ve total_lines=11, line_of_X=1_of_11'e dönüşür.\n",
        "\n",
        "5. Örnek bir soyut dize almak için bir işlev (veya bir dizi işlev) yazın, önceden işleyin (modelimizin eğitildiği şekilde), özetteki her dizi için bir tahminde bulunun ve özeti biçimde döndürün:\n",
        "\n",
        "  - PREDICTED_LABEL: SEQUENCE\n",
        "  - PREDICTED_LABEL: SEQUENCE\n",
        "  - PREDICTED_LABEL: SEQUENCE\n",
        "  - PREDICTED_LABEL: SEQUENCE\n",
        "\n",
        "...\n",
        "\n",
        "PubMed'den kendi düzenlenmemiş RCT özetinizi bulabilir veya bunu şu adresten deneyebilirsiniz: Baclofen, hepatit C virüsü (HCV) enfeksiyonu olan alkol bağımlı siroz hastalarında alkolden uzak durmayı teşvik eder. https://pubmed.ncbi.nlm.nih.gov/22244707/"
      ],
      "metadata": {
        "id": "rlMysx6CORZ0"
      }
    }
  ]
}