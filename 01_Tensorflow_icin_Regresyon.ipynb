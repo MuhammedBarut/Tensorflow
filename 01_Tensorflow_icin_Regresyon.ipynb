{
  "nbformat": 4,
  "nbformat_minor": 0,
  "metadata": {
    "colab": {
      "provenance": []
    },
    "kernelspec": {
      "name": "python3",
      "display_name": "Python 3"
    },
    "language_info": {
      "name": "python"
    }
  },
  "cells": [
    {
      "cell_type": "markdown",
      "source": [
        "# Nöral networks ile Regresyona Giriş (tensörflow)\n",
        "\n",
        "Bir regresyon problemi için birçok tanım vardır, bir sayı tahmin etmek.\n",
        "\n",
        "- Evlerin satış fiyatını tahmin edin, onlar hakkında bilgi verilir (oda sayısı, büyüklük, banyo sayısı gibi).\n",
        "- Bir görüntüdeki bir öğenin sınırlayıcı kutusunun koordinatlarını tahmin edin.\n",
        "- Demografileri (yaş, cinsiyet, cinsiyet, ırk) göz önüne alındığında bir birey için sağlık sigortasının maliyetini tahmin edin.\n",
        "\n",
        "Bu not defterinde, bir girdi örneğini nasıl alabileceğinizin temellerini belirleyeceğiz (bu sizin verilerinizdir), bu girdilerdeki kalıpları keşfetmek için bir sinir ağı oluşturacağız ve ardından bu girdilere dayalı bir tahmin (bir sayı şeklinde) yapacağız."
      ],
      "metadata": {
        "id": "2j01X6scQpm5"
      }
    },
    {
      "cell_type": "markdown",
      "source": [
        "# Bazı regresyon sorunlarına örnekler;\n",
        "* Bir evin satış fiyatının tahmin edilmesi.\n",
        "* Kaç adet insan bu uygulamayı yükler?\n",
        "* Sigorta bedeli ne kadar olur?\n",
        "* Bir nesne algılama probleminde kutuların nerede olması gerektiğine dair koordinatları tahmin etmeye çalışmak.\n",
        "* Güvenlik kamerasının arabaya çarpıp kaçan aracı algılaması.\n",
        "\n",
        "Regresyon, ilişkiyi tahmin etmek için bir dizi istatistikel süreçtir. Sonuç değişkeni olarak adlandırılan bağımlı bir değişken veya bir veya daha fazla bağımsız değişken arasında, tahmin ediciler, ortak değişkenler veya özellikler olarak adlandırılır.\n",
        "\n",
        "Ev fiyatını tahmin etmede bağımlı değişken ev fiyatını tahmin etmeye çalışmak, evin fiyatı..Sonuç. Oda banyo sayısı vs bağımsız değişkenlerdir."
      ],
      "metadata": {
        "id": "ZXhSE5neQ37H"
      }
    },
    {
      "cell_type": "markdown",
      "source": [
        "# Bu çalışma dosyasının içeriği;\n",
        "\n",
        "* Bir regresyon modelinin mimarisi\n",
        "* Giriş şekilleri ve çıkış şekilleri\n",
        "  * X: özellikler/veriler (girişler)\n",
        "  * Y: etiketler (çıkışlar)\n",
        "* Görüntülemek ve sığdırmak için özel veriler oluşturma\n",
        "* Modellemedeki adımlar\n",
        "  * Bir model oluşturma\n",
        "  * Bir model derlemek\n",
        "    * Bir kayıp fonksiyonu tanımlama\n",
        "    * Bir optimize edici kurmak\n",
        "    * Değerlendirme metrikleri oluşturma\n",
        "  * Bir model takmak (verilerimizdeki kalıpları bulmak)\n",
        "* Bir modeli değerlendirmek\n",
        "  * Modeli görselleştirme (\"görselleştir, görselleştir, görselleştir\")\n",
        "  * Antrenman eğrilerine bakmak\n",
        "  * Tahminleri temel gerçekle karşılaştırın (değerlendirme metriklerimizi kullanarak)\n",
        "* Bir modeli kaydetmek (böylece daha sonra kullanabiliriz)\n",
        "* Bir model yüklemek"
      ],
      "metadata": {
        "id": "UD9Opto9Ufq_"
      }
    },
    {
      "cell_type": "markdown",
      "source": [
        "Burada da numerical encoding (one-hot encoding) var, inputs içerisinde örneğin yatak odası sayısı. Input Features olarak adlandırılır. Örneğin yatak odası 2 olanda matriste 0010, 3 olanda 0001 gibi...yatak odası, banyo, mutfak --> shape [3], çıktı 10.000 dolar shape [1]"
      ],
      "metadata": {
        "id": "xLa6XxxCVYzt"
      }
    },
    {
      "cell_type": "markdown",
      "source": [
        "https://github.com/mrdbourke/tensorflow-deep-learning/blob/main/01_neural_network_regression_in_tensorflow.ipynb"
      ],
      "metadata": {
        "id": "I2pq3MYjdDfW"
      }
    },
    {
      "cell_type": "markdown",
      "source": [
        "Hiperparametre Tipik değer\n",
        "\n",
        "Giriş katmanı: şekli Özellik sayısıyla aynı şekil (örn. # yatak odaları, # banyolar, konut fiyat tahmininde # araba alanları için 3)\n",
        "\n",
        "Gizli katman(lar): Soruna özel, minimum = 1, maksimum = sınırsız\n",
        "\n",
        "Gizli katman başına nöronlar: Probleme özgü, genellikle 10 ila 100\n",
        "\n",
        "Çıktı katmanı şekli: İstenilen tahmin şekli ile aynı şekil (örn. ev fiyatı için 1)\n",
        "\n",
        "Gizli aktivasyon: Genellikle ReLU (doğrultma doğrusal birim)\n",
        "\n",
        "Çıkış aktivasyonu: Yok, ReLU, lojistik/tanh\n",
        "\n",
        "Kayıp fonksiyonu: MSE (ortalama kare hatası) veya MAE (ortalama mutlak hata)/Huber (MAE/MSE kombinasyonu) eğer aykırı öğerlerse\n",
        "\n",
        "Optimize edici: SGD (stokastik gradyan iniş), Adam"
      ],
      "metadata": {
        "id": "mcqrhz9E6UAB"
      }
    },
    {
      "cell_type": "code",
      "execution_count": null,
      "metadata": {
        "id": "TkM1RSizQRV5",
        "colab": {
          "base_uri": "https://localhost:8080/"
        },
        "outputId": "7bd00f99-4810-4e71-c71f-702d4abd410b"
      },
      "outputs": [
        {
          "output_type": "stream",
          "name": "stdout",
          "text": [
            "2.15.0\n",
            "Notebook last run (end-to-end): 2024-03-05 18:52:49.721292\n"
          ]
        }
      ],
      "source": [
        "import tensorflow as tf\n",
        "print(tf.__version__) # check the version (should be 2.x+)\n",
        "\n",
        "import datetime\n",
        "print(f\"Notebook last run (end-to-end): {datetime.datetime.now()}\")"
      ]
    },
    {
      "cell_type": "code",
      "source": [
        "import numpy as np\n",
        "import matplotlib.pyplot as plt\n",
        "\n",
        "# Make features\n",
        "X = np.array([-7.0, -4.0, -1.0, 2.0, 5.0, 8.0, 11.0, 14.0])\n",
        "\n",
        "# Make labels\n",
        "y = np.array([3.0, 6.0, 9.0, 12.0, 15.0, 18.0, 21.0, 24.0])\n",
        "\n",
        "# Visualize it\n",
        "plt.scatter(X, y);"
      ],
      "metadata": {
        "colab": {
          "base_uri": "https://localhost:8080/",
          "height": 435
        },
        "id": "15KEgx95RM_C",
        "outputId": "e90981fc-656c-4951-e61a-c6224e32fee9"
      },
      "execution_count": null,
      "outputs": [
        {
          "output_type": "display_data",
          "data": {
            "text/plain": [
              "<Figure size 640x480 with 1 Axes>"
            ],
            "image/png": "[encoded data removed]"
          },
          "metadata": {}
        }
      ]
    },
    {
      "cell_type": "code",
      "source": [
        "y == X + 10"
      ],
      "metadata": {
        "colab": {
          "base_uri": "https://localhost:8080/"
        },
        "id": "6madDeMcR7Ci",
        "outputId": "8f9d7cf9-33fa-4fd0-a580-080ee16928a9"
      },
      "execution_count": null,
      "outputs": [
        {
          "output_type": "execute_result",
          "data": {
            "text/plain": [
              "array([ True,  True,  True,  True,  True,  True,  True,  True])"
            ]
          },
          "metadata": {},
          "execution_count": 31
        }
      ]
    },
    {
      "cell_type": "markdown",
      "source": [
        "Herhangi bir modelleme yapmadan önce, X ve y arasındaki kalıbı hesaplayabilir misiniz?\n",
        "\n",
        "Örneğin, bu verilere dayanarak size sorduğumu varsayalım, X 17.0 olsaydı y değeri ne olurdu?\n",
        "\n",
        "Ya da X -10.0 olsaydı ne olur?\n",
        "\n",
        "Bu tür bir kalıp keşfi, bizim için yapmak üzere sinir ağları oluşturacağımız şeyin özüdür.\n",
        "\n",
        "Yeni sinir ağırnın öğrenmesi için almaya çalışacağımız ilişkidir y = x+10. Bu, X ve Y'miz arasındaki ilişki veya fonksiyondur. Giriş özellikleri ve etiketler bağımsız değişken ve y de bağımlı değişkendir."
      ],
      "metadata": {
        "id": "I6tgw3sdSZoH"
      }
    },
    {
      "cell_type": "markdown",
      "source": [
        "# Regresyon giriş şekilleri ve çıkış şekilleri\n",
        "\n",
        "Input Shape, giriş şekli, modele giren verilerinizin şeklidir.\n",
        "\n",
        "Output Shape, çıktı şekli, modelinizden çıkmasını istediğiniz verilerin şeklidir.\n",
        "\n",
        "Bunlar, üzerinde çalıştığınız soruna bağlı olarak değişecektir.\n",
        "\n",
        "Sinir ağları, sayıları ve çıktı sayılarını kabul eder. Bu sayılar tipik olarak tensörler (veya diziler) olarak temsil edilir.\n",
        "\n",
        "Daha önce NumPy dizilerini kullanarak veri oluşturduk, ancak aynısını tensörlerle de yapabilirdik."
      ],
      "metadata": {
        "id": "7dGk_6lfTJlh"
      }
    },
    {
      "cell_type": "code",
      "source": [
        "input_shape = X.shape\n",
        "output_shape = y.shape\n",
        "input_shape, output_shape"
      ],
      "metadata": {
        "colab": {
          "base_uri": "https://localhost:8080/"
        },
        "id": "o7my-GDdUUd9",
        "outputId": "eb7aa3bb-71cc-4108-d613-c62bd8dbf9ca"
      },
      "execution_count": null,
      "outputs": [
        {
          "output_type": "execute_result",
          "data": {
            "text/plain": [
              "((8,), (8,))"
            ]
          },
          "metadata": {},
          "execution_count": 32
        }
      ]
    },
    {
      "cell_type": "code",
      "source": [
        "X[0], y[0]"
      ],
      "metadata": {
        "colab": {
          "base_uri": "https://localhost:8080/"
        },
        "id": "4lkMWbz3Uh9_",
        "outputId": "8a2241ce-02bf-4780-ce94-3b073fc23021"
      },
      "execution_count": null,
      "outputs": [
        {
          "output_type": "execute_result",
          "data": {
            "text/plain": [
              "(-7.0, 3.0)"
            ]
          },
          "metadata": {},
          "execution_count": 33
        }
      ]
    },
    {
      "cell_type": "code",
      "source": [
        "input_shape_1 = X[0].shape\n",
        "output_shape_1 = y[0].shape\n",
        "input_shape_1, output_shape_1, X[0].ndim"
      ],
      "metadata": {
        "colab": {
          "base_uri": "https://localhost:8080/"
        },
        "id": "6sve9o4uU-N0",
        "outputId": "6e7216b0-ee26-4aef-c4db-e66662a1fa06"
      },
      "execution_count": null,
      "outputs": [
        {
          "output_type": "execute_result",
          "data": {
            "text/plain": [
              "((), (), 0)"
            ]
          },
          "metadata": {},
          "execution_count": 34
        }
      ]
    },
    {
      "cell_type": "markdown",
      "source": [
        "0'ın şekli yok. Çünkü modelimize ne tür bir veri geçirirsek geçelim, her zaman girdi olarak alacak ve bir tür tensör çıktı olarak geri dönecektir.\n",
        "\n",
        "Ancak bizim durumumuzda, veri kümemiz nedeniyle (sadece 2 küçük sayı listesi), özel bir tensör türüne, daha spesifik olarak bir sıra 0 tensörüne veya bir skalere bakıyoruz."
      ],
      "metadata": {
        "id": "Y2HUNSVlV-YV"
      }
    },
    {
      "cell_type": "markdown",
      "source": [
        "Bizim durumumuzda, -7.0'a eşit olan X[0] ile 3.0'a eşit y[0] arasındaki kalıbı tahmin etmek için bir model oluşturmaya çalışıyoruz.\n",
        "\n",
        "Şimdi cevabımızı alıyoruz, 1 y değerini tahmin etmek için 1 X değeri kullanmaya çalışıyoruz.\n",
        "\n",
        "Aslında, muhtemelen sinir ağlarıyla çalışırken en çok zaman harcayacağınız şeylerden ikisidir: giriş ve çıkışlarınızın doğru şekilde olduğundan emin olmak."
      ],
      "metadata": {
        "id": "tPYzjo8EWQgf"
      }
    },
    {
      "cell_type": "code",
      "source": [
        "# Example input and output shapes of a regression model\n",
        "house_info = tf.constant([\"bedroom\", \"bathroom\", \"garage\"])\n",
        "house_price = tf.constant([939700])\n",
        "house_info, house_price"
      ],
      "metadata": {
        "colab": {
          "base_uri": "https://localhost:8080/"
        },
        "id": "CntkMAZoSQzM",
        "outputId": "3e3a08c3-eea9-4922-e72d-2c0ca755fd7b"
      },
      "execution_count": null,
      "outputs": [
        {
          "output_type": "execute_result",
          "data": {
            "text/plain": [
              "(<tf.Tensor: shape=(3,), dtype=string, numpy=array([b'bedroom', b'bathroom', b'garage'], dtype=object)>,\n",
              " <tf.Tensor: shape=(1,), dtype=int32, numpy=array([939700], dtype=int32)>)"
            ]
          },
          "metadata": {},
          "execution_count": 35
        }
      ]
    },
    {
      "cell_type": "code",
      "source": [
        "house_info.shape"
      ],
      "metadata": {
        "colab": {
          "base_uri": "https://localhost:8080/"
        },
        "id": "_h3HUh2ET735",
        "outputId": "56b36890-cf80-454d-d12b-e2d3be7f4fc8"
      },
      "execution_count": null,
      "outputs": [
        {
          "output_type": "execute_result",
          "data": {
            "text/plain": [
              "TensorShape([3])"
            ]
          },
          "metadata": {},
          "execution_count": 36
        }
      ]
    },
    {
      "cell_type": "code",
      "source": [
        "# Numpy dizilerini tensörlere dönüştür.\n",
        "X = tf.constant(X)\n",
        "y = tf.constant(y)\n",
        "X,y"
      ],
      "metadata": {
        "colab": {
          "base_uri": "https://localhost:8080/"
        },
        "id": "UQ_HuvJhUA4X",
        "outputId": "6e5a2a24-41f7-44a9-d340-6c49c2036fa7"
      },
      "execution_count": null,
      "outputs": [
        {
          "output_type": "execute_result",
          "data": {
            "text/plain": [
              "(<tf.Tensor: shape=(8,), dtype=float64, numpy=array([-7., -4., -1.,  2.,  5.,  8., 11., 14.])>,\n",
              " <tf.Tensor: shape=(8,), dtype=float64, numpy=array([ 3.,  6.,  9., 12., 15., 18., 21., 24.])>)"
            ]
          },
          "metadata": {},
          "execution_count": 37
        }
      ]
    },
    {
      "cell_type": "code",
      "source": [
        "input_shape_1 = X[0].shape\n",
        "output_shape_1 = y[0].shape\n",
        "input_shape_1, output_shape_1, X[0].ndim"
      ],
      "metadata": {
        "colab": {
          "base_uri": "https://localhost:8080/"
        },
        "id": "5ur-SRPtXb93",
        "outputId": "e6a0c248-bcbf-4b50-ca0d-bbe746b805ae"
      },
      "execution_count": null,
      "outputs": [
        {
          "output_type": "execute_result",
          "data": {
            "text/plain": [
              "(TensorShape([]), TensorShape([]), 0)"
            ]
          },
          "metadata": {},
          "execution_count": 38
        }
      ]
    },
    {
      "cell_type": "markdown",
      "source": [
        "Boyut yok, skaler bir değer."
      ],
      "metadata": {
        "id": "RDfU0IWsX18V"
      }
    },
    {
      "cell_type": "code",
      "source": [
        "# Buradaki ilişkiyi anlayacak model nasıl oluşturulur?\n",
        "plt.scatter(X, y);"
      ],
      "metadata": {
        "colab": {
          "base_uri": "https://localhost:8080/",
          "height": 435
        },
        "id": "R1oIBn8hXnNc",
        "outputId": "2632c805-3daa-4d67-ec0e-a5826997ffa8"
      },
      "execution_count": null,
      "outputs": [
        {
          "output_type": "display_data",
          "data": {
            "text/plain": [
              "<Figure size 640x480 with 1 Axes>"
            ],
            "image/png": "[encoded data removed]"
          },
          "metadata": {}
        }
      ]
    },
    {
      "cell_type": "markdown",
      "source": [
        "# TensorFlow ile modelleme adımları\n",
        "\n",
        "Artık giriş ve çıkış şekillerinin yanı sıra hangi verilere sahip olduğumuzu biliyoruz, onu modellemek için nasıl bir sinir ağı oluşturacağımızı görelim.\n",
        "\n",
        "TensorFlow'da, bir model oluşturmak ve eğitmek için tipik olarak 3 temel adım vardır.\n",
        "\n",
        "* Bir model oluşturma (Making a model) - bir sinir ağının katmanlarını kendiniz (İşlevsel veya Sıralı API'yi kullanarak) bir araya getirin veya önceden oluşturulmuş bir modeli içe aktarın (aktarım öğrenmesi olarak bilinir).\n",
        "* Bir modelin derlenmesi (Compiling a model) - bir modelin performansının nasıl ölçülmesi gerektiğini (kayıp/metrik) tanımlamanın yanı sıra nasıl iyileştirilmesi gerektiğini (optimize edici) tanımlama.\n",
        "  - Model ne kadar yanlış? sorusuna cevap.\n",
        "  - Kalıpların nasıl iyileştirileceği modellenir. Öğrenme ve değerlendirme metrikleridir.\n",
        "* Bir model takmak (Fitting a model) - modelin verilerdeki kalıpları bulmaya çalışmasına izin vermek (X y'ye nasıl ulaşır). Özellikler veya etiketler.\n",
        "\n",
        "Regresyon verilerimiz için bir model oluşturmak üzere Keras Sequential API'yi kullanarak bunları çalışırken görelim. Ve sonra her birine adım atacağız.\n",
        "\n",
        " ### Note: TensorFlow 2.7.0+ kullanıyorsanız, fit() işlevi artık (batch_size, )'den (batch_size, 1)'e gitmek için giriş verilerini yükseltmiyor. Bunu düzeltmek için, tf.expand_dims(input_data, axis=-1) kullanarak giriş verilerinin boyutunu genişletmeniz gerekir.\n",
        "\n",
        "### Bizim durumumuzda bu, model.fit(X, y, epochs=5) kullanmak yerine model.fit(tf.expand_dims(X, axis=-1), y, epochs=5) kullanmak anlamına gelir.\n",
        "\n",
        "* https://www.tensorflow.org/guide/keras/functional_api\n",
        "* https://www.tensorflow.org/api_docs/python/tf/keras/Sequential\n",
        "* https://www.tensorflow.org/api_docs/python/tf/keras/Sequential\n",
        "* https://github.com/tensorflow/tensorflow/releases/tag/v2.7.0 (tf.2.7 notları)\n",
        "* https://keras.io/"
      ],
      "metadata": {
        "id": "cNP_2xffYUZx"
      }
    },
    {
      "cell_type": "markdown",
      "source": [
        "- Get the data ready (turn into tensors)\n",
        "- Tensorflow Hub, Build of pick a pretrained model to suit your model (Veriler yoğunlaştığında soruna uyacak şekilde önceden eğitilmiş bir model oluştur veya seç)\n",
        "- Fit the model to the data and make a prediction\n",
        "- Evaluate the model\n",
        "- Improve through experimantation\n",
        "Save and reload your trained model"
      ],
      "metadata": {
        "id": "CjOAi9e-b3yU"
      }
    },
    {
      "cell_type": "markdown",
      "source": [
        "model = tf.keras.Sequential([....--> Bir model oluştur ve sıralı (sequential) olsun dedik.\n",
        "\n",
        "Dense 1 oldu çünkü Bir sayı girişi almak ve bir sayıyı tahmin etmek için kullanacağız.\n",
        "\n",
        "Ortalama mutlak hata --> etiketler ve tahminler arasındaki mutlak hatayı hesaplar.\n",
        "\n",
        "SGD --> Bir optimize edicinin sinir apına nasıl iyileştirilmesi gerektiğini söylemesidir.\n",
        "\n",
        "epoch ile 5 kere verileri gözden geçir diyeceğiz. 100 deseydik daha uzun vakit alırdı."
      ],
      "metadata": {
        "id": "Wsbz6ohrd4Tl"
      }
    },
    {
      "cell_type": "code",
      "source": [
        "# Set random seed\n",
        "tf.random.set_seed(42)\n",
        "\n",
        "# Make a model using the Sequential API\n",
        "model = tf.keras.Sequential([\n",
        "  tf.keras.layers.Dense(1)\n",
        "])\n",
        "\n",
        "# Compile the model\n",
        "model.compile(loss=tf.keras.losses.mae, # mae is short for mean absolute error\n",
        "              optimizer=tf.keras.optimizers.SGD(), # SGD is short for stochastic gradient descent\n",
        "              metrics=[\"mae\"])\n",
        "\n",
        "# Fit the model\n",
        "# model.fit(X, y, epochs=5) # this will break with TensorFlow 2.7.0+\n",
        "model.fit(tf.expand_dims(X, axis=-1), y, epochs=5)"
      ],
      "metadata": {
        "colab": {
          "base_uri": "https://localhost:8080/"
        },
        "id": "mhThLRDAYHdd",
        "outputId": "c8971ce4-d661-46fe-aa5e-e15e94339a68"
      },
      "execution_count": null,
      "outputs": [
        {
          "output_type": "stream",
          "name": "stdout",
          "text": [
            "Epoch 1/5\n",
            "1/1 [==============================] - 0s 456ms/step - loss: 20.3132 - mae: 20.3132\n",
            "Epoch 2/5\n",
            "1/1 [==============================] - 0s 15ms/step - loss: 20.0320 - mae: 20.0320\n",
            "Epoch 3/5\n",
            "1/1 [==============================] - 0s 8ms/step - loss: 19.7507 - mae: 19.7507\n",
            "Epoch 4/5\n",
            "1/1 [==============================] - 0s 10ms/step - loss: 19.4695 - mae: 19.4695\n",
            "Epoch 5/5\n",
            "1/1 [==============================] - 0s 11ms/step - loss: 19.1882 - mae: 19.1882\n"
          ]
        },
        {
          "output_type": "execute_result",
          "data": {
            "text/plain": [
              "<keras.src.callbacks.History at 0x79948a79ba00>"
            ]
          },
          "metadata": {},
          "execution_count": 40
        }
      ]
    },
    {
      "cell_type": "markdown",
      "source": [
        "X ve y arasındaki kalıpları bulmak için bir model eğittik."
      ],
      "metadata": {
        "id": "4GSf6s6EZQUo"
      }
    },
    {
      "cell_type": "code",
      "source": [
        "# Check out X and y\n",
        "X, y"
      ],
      "metadata": {
        "colab": {
          "base_uri": "https://localhost:8080/"
        },
        "id": "yGo4Vyr6ZRDb",
        "outputId": "dcf72b18-a88b-456c-cfc5-f7133b6c7d5f"
      },
      "execution_count": null,
      "outputs": [
        {
          "output_type": "execute_result",
          "data": {
            "text/plain": [
              "(<tf.Tensor: shape=(8,), dtype=float64, numpy=array([-7., -4., -1.,  2.,  5.,  8., 11., 14.])>,\n",
              " <tf.Tensor: shape=(8,), dtype=float64, numpy=array([ 3.,  6.,  9., 12., 15., 18., 21., 24.])>)"
            ]
          },
          "metadata": {},
          "execution_count": 41
        }
      ]
    },
    {
      "cell_type": "markdown",
      "source": [
        "Modelimizi 17.0 X değerini geçersek sonucun ne olmalı?"
      ],
      "metadata": {
        "id": "2SO36xv_ZT_P"
      }
    },
    {
      "cell_type": "code",
      "source": [
        "# Make a prediction with the model\n",
        "model.predict([17.0])"
      ],
      "metadata": {
        "colab": {
          "base_uri": "https://localhost:8080/"
        },
        "id": "q58faI-8ZaMI",
        "outputId": "ad1cb05a-d476-4652-e3a0-ac2e1077caba"
      },
      "execution_count": null,
      "outputs": [
        {
          "output_type": "stream",
          "name": "stdout",
          "text": [
            "1/1 [==============================] - 0s 63ms/step\n"
          ]
        },
        {
          "output_type": "execute_result",
          "data": {
            "text/plain": [
              "array([[-19.990376]], dtype=float32)"
            ]
          },
          "metadata": {},
          "execution_count": 42
        }
      ]
    },
    {
      "cell_type": "markdown",
      "source": [
        "Soru: Keras nedir? TensorFlow ile çalıştığımızı sanıyordum ama TensorFlow kodunu her yazdığımızda, keras tf'den sonra geliyor (örn. tf.keras.layers.Dense())?\n",
        "\n",
        "TensorFlow 2.0+'dan önce Keras, derin öğrenme modellerini kolaylıkla oluşturabilmek için tasarlanmış bir API'ydi. TensorFlow 2.0+'dan bu yana, işlevselliği TensorFlow kitaplığına sıkı bir şekilde entegre edilmiştir."
      ],
      "metadata": {
        "id": "Q7QJoYE2Zkdr"
      }
    },
    {
      "cell_type": "markdown",
      "source": [
        "# Modeli Geliştirme\n",
        "\n",
        "Modelimizi geliştirmek için, daha önce attığımız 3 adımın neredeyse her bölümünü değiştiriyoruz.\n",
        "\n",
        "* Bir model oluşturma - burada daha fazla katman eklemek, her katman içindeki gizli birimlerin (nöronlar olarak da adlandırılır) sayısını artırmak, her katmanın aktivasyon işlevlerini değiştirmek isteyebilirsiniz.\n",
        "* Bir model derleme - optimizasyon işlevini seçmek veya belki de optimizasyon işlevinin öğrenme oranını değiştirmek isteyebilirsiniz.\n",
        "* Bir model takmak - belki daha fazla dönem için bir model sığdırabilirsiniz (eğitimi daha uzun süre bırakın) veya daha fazla veri üzerinde (modele öğrenmek için daha fazla örnek verin).\n",
        "\n",
        "https://en.wikipedia.org/wiki/Hyperparameter_optimization"
      ],
      "metadata": {
        "id": "pBUz80bLZuP-"
      }
    },
    {
      "cell_type": "markdown",
      "source": [
        "# Common ways to improve a deep model:\n",
        "* Adding **layers**\n",
        "* Increase the number of hidden units\n",
        "* Change the activation functions\n",
        "* Change the optimization function\n",
        "* Change the learning rate\n",
        "(because you can alter each of\n",
        "* Fitting on more data\n",
        "these, they're hyperparameters)\n",
        "* Fitting for longer"
      ],
      "metadata": {
        "id": "X_FLYLT2xXLy"
      }
    },
    {
      "cell_type": "markdown",
      "source": [
        "Bir sinir ağını potansiyel olarak iyileştirmenin birçok farklı yolu vardır. En yaygın olanlardan bazıları şunlardır: katman sayısını artırmak (ağı daha derin hale getirmek), gizli birimlerin sayısını artırmak (ağı daha geniş hale getirmek) ve öğrenme oranını değiştirmek. Bu değerlerin hepsi insan-değiştirilebilir olduğundan, hiperparametreler olarak adlandırılırlar) ve en iyi hiperparametreleri bulmaya çalışma uygulamasına hiperparametre ayarlaması denir."
      ],
      "metadata": {
        "id": "PtFDUwHyu9QC"
      }
    },
    {
      "cell_type": "markdown",
      "source": [
        "Adam optimize edici, yaygın ve kullanışlı bir optimizasyon aracıdır. Yani SGD yerine Adam(lr = 0.001) yazabilirdin. Öğrenme oranı yüksekse iyi tahmin eder.\n",
        "\n"
      ],
      "metadata": {
        "id": "pLu0tXTOx5DW"
      }
    },
    {
      "cell_type": "code",
      "source": [
        "# Set random seed\n",
        "tf.random.set_seed(42)\n",
        "\n",
        "# Create a model (same as above)\n",
        "model = tf.keras.Sequential([\n",
        "  tf.keras.layers.Dense(1)\n",
        "])\n",
        "\n",
        "# Compile model (same as above)\n",
        "model.compile(loss=tf.keras.losses.mae,\n",
        "              optimizer=tf.keras.optimizers.SGD(),\n",
        "              metrics=[\"mae\"])\n",
        "\n",
        "# Fit model (this time we'll train for longer)\n",
        "model.fit(tf.expand_dims(X, axis=-1), y, epochs=100) # train for 100 epochs not 10"
      ],
      "metadata": {
        "colab": {
          "base_uri": "https://localhost:8080/"
        },
        "id": "iuo36v4mZlFF",
        "outputId": "59fe07a9-be0d-4873-9301-f4a1cd99c09f"
      },
      "execution_count": null,
      "outputs": [
        {
          "output_type": "stream",
          "name": "stdout",
          "text": [
            "Epoch 1/100\n",
            "1/1 [==============================] - 0s 334ms/step - loss: 20.5126 - mae: 20.5126\n",
            "Epoch 2/100\n",
            "1/1 [==============================] - 0s 14ms/step - loss: 20.2313 - mae: 20.2313\n",
            "Epoch 3/100\n",
            "1/1 [==============================] - 0s 10ms/step - loss: 19.9501 - mae: 19.9501\n",
            "Epoch 4/100\n",
            "1/1 [==============================] - 0s 8ms/step - loss: 19.6688 - mae: 19.6688\n",
            "Epoch 5/100\n",
            "1/1 [==============================] - 0s 9ms/step - loss: 19.3876 - mae: 19.3876\n",
            "Epoch 6/100\n",
            "1/1 [==============================] - 0s 9ms/step - loss: 19.1063 - mae: 19.1063\n",
            "Epoch 7/100\n",
            "1/1 [==============================] - 0s 9ms/step - loss: 18.8251 - mae: 18.8251\n",
            "Epoch 8/100\n",
            "1/1 [==============================] - 0s 9ms/step - loss: 18.5438 - mae: 18.5438\n",
            "Epoch 9/100\n",
            "1/1 [==============================] - 0s 8ms/step - loss: 18.2626 - mae: 18.2626\n",
            "Epoch 10/100\n",
            "1/1 [==============================] - 0s 9ms/step - loss: 17.9813 - mae: 17.9813\n",
            "Epoch 11/100\n",
            "1/1 [==============================] - 0s 12ms/step - loss: 17.7001 - mae: 17.7001\n",
            "Epoch 12/100\n",
            "1/1 [==============================] - 0s 9ms/step - loss: 17.4188 - mae: 17.4188\n",
            "Epoch 13/100\n",
            "1/1 [==============================] - 0s 10ms/step - loss: 17.1376 - mae: 17.1376\n",
            "Epoch 14/100\n",
            "1/1 [==============================] - 0s 9ms/step - loss: 16.8563 - mae: 16.8563\n",
            "Epoch 15/100\n",
            "1/1 [==============================] - 0s 11ms/step - loss: 16.5751 - mae: 16.5751\n",
            "Epoch 16/100\n",
            "1/1 [==============================] - 0s 9ms/step - loss: 16.2938 - mae: 16.2938\n",
            "Epoch 17/100\n",
            "1/1 [==============================] - 0s 9ms/step - loss: 16.0126 - mae: 16.0126\n",
            "Epoch 18/100\n",
            "1/1 [==============================] - 0s 9ms/step - loss: 15.7313 - mae: 15.7313\n",
            "Epoch 19/100\n",
            "1/1 [==============================] - 0s 12ms/step - loss: 15.4501 - mae: 15.4501\n",
            "Epoch 20/100\n",
            "1/1 [==============================] - 0s 11ms/step - loss: 15.1688 - mae: 15.1688\n",
            "Epoch 21/100\n",
            "1/1 [==============================] - 0s 8ms/step - loss: 14.8876 - mae: 14.8876\n",
            "Epoch 22/100\n",
            "1/1 [==============================] - 0s 8ms/step - loss: 14.6588 - mae: 14.6588\n",
            "Epoch 23/100\n",
            "1/1 [==============================] - 0s 9ms/step - loss: 14.5263 - mae: 14.5263\n",
            "Epoch 24/100\n",
            "1/1 [==============================] - 0s 14ms/step - loss: 14.3938 - mae: 14.3938\n",
            "Epoch 25/100\n",
            "1/1 [==============================] - 0s 11ms/step - loss: 14.2613 - mae: 14.2613\n",
            "Epoch 26/100\n",
            "1/1 [==============================] - 0s 9ms/step - loss: 14.1288 - mae: 14.1288\n",
            "Epoch 27/100\n",
            "1/1 [==============================] - 0s 10ms/step - loss: 13.9963 - mae: 13.9963\n",
            "Epoch 28/100\n",
            "1/1 [==============================] - 0s 10ms/step - loss: 13.8638 - mae: 13.8638\n",
            "Epoch 29/100\n",
            "1/1 [==============================] - 0s 8ms/step - loss: 13.7313 - mae: 13.7313\n",
            "Epoch 30/100\n",
            "1/1 [==============================] - 0s 10ms/step - loss: 13.5988 - mae: 13.5988\n",
            "Epoch 31/100\n",
            "1/1 [==============================] - 0s 9ms/step - loss: 13.4663 - mae: 13.4663\n",
            "Epoch 32/100\n",
            "1/1 [==============================] - 0s 14ms/step - loss: 13.3338 - mae: 13.3338\n",
            "Epoch 33/100\n",
            "1/1 [==============================] - 0s 14ms/step - loss: 13.2013 - mae: 13.2013\n",
            "Epoch 34/100\n",
            "1/1 [==============================] - 0s 9ms/step - loss: 13.0688 - mae: 13.0688\n",
            "Epoch 35/100\n",
            "1/1 [==============================] - 0s 16ms/step - loss: 12.9363 - mae: 12.9363\n",
            "Epoch 36/100\n",
            "1/1 [==============================] - 0s 9ms/step - loss: 12.8038 - mae: 12.8038\n",
            "Epoch 37/100\n",
            "1/1 [==============================] - 0s 9ms/step - loss: 12.6713 - mae: 12.6713\n",
            "Epoch 38/100\n",
            "1/1 [==============================] - 0s 10ms/step - loss: 12.5388 - mae: 12.5388\n",
            "Epoch 39/100\n",
            "1/1 [==============================] - 0s 10ms/step - loss: 12.4063 - mae: 12.4063\n",
            "Epoch 40/100\n",
            "1/1 [==============================] - 0s 9ms/step - loss: 12.2738 - mae: 12.2738\n",
            "Epoch 41/100\n",
            "1/1 [==============================] - 0s 10ms/step - loss: 12.1413 - mae: 12.1413\n",
            "Epoch 42/100\n",
            "1/1 [==============================] - 0s 9ms/step - loss: 12.0088 - mae: 12.0088\n",
            "Epoch 43/100\n",
            "1/1 [==============================] - 0s 9ms/step - loss: 11.8763 - mae: 11.8763\n",
            "Epoch 44/100\n",
            "1/1 [==============================] - 0s 9ms/step - loss: 11.7438 - mae: 11.7438\n",
            "Epoch 45/100\n",
            "1/1 [==============================] - 0s 17ms/step - loss: 11.6113 - mae: 11.6113\n",
            "Epoch 46/100\n",
            "1/1 [==============================] - 0s 9ms/step - loss: 11.4788 - mae: 11.4788\n",
            "Epoch 47/100\n",
            "1/1 [==============================] - 0s 11ms/step - loss: 11.3463 - mae: 11.3463\n",
            "Epoch 48/100\n",
            "1/1 [==============================] - 0s 9ms/step - loss: 11.2138 - mae: 11.2138\n",
            "Epoch 49/100\n",
            "1/1 [==============================] - 0s 11ms/step - loss: 11.0813 - mae: 11.0813\n",
            "Epoch 50/100\n",
            "1/1 [==============================] - 0s 19ms/step - loss: 10.9488 - mae: 10.9488\n",
            "Epoch 51/100\n",
            "1/1 [==============================] - 0s 12ms/step - loss: 10.8163 - mae: 10.8163\n",
            "Epoch 52/100\n",
            "1/1 [==============================] - 0s 14ms/step - loss: 10.6838 - mae: 10.6838\n",
            "Epoch 53/100\n",
            "1/1 [==============================] - 0s 9ms/step - loss: 10.5513 - mae: 10.5513\n",
            "Epoch 54/100\n",
            "1/1 [==============================] - 0s 9ms/step - loss: 10.4188 - mae: 10.4188\n",
            "Epoch 55/100\n",
            "1/1 [==============================] - 0s 9ms/step - loss: 10.2863 - mae: 10.2863\n",
            "Epoch 56/100\n",
            "1/1 [==============================] - 0s 9ms/step - loss: 10.1538 - mae: 10.1538\n",
            "Epoch 57/100\n",
            "1/1 [==============================] - 0s 9ms/step - loss: 10.0213 - mae: 10.0213\n",
            "Epoch 58/100\n",
            "1/1 [==============================] - 0s 9ms/step - loss: 9.8888 - mae: 9.8888\n",
            "Epoch 59/100\n",
            "1/1 [==============================] - 0s 9ms/step - loss: 9.7563 - mae: 9.7563\n",
            "Epoch 60/100\n",
            "1/1 [==============================] - 0s 9ms/step - loss: 9.6238 - mae: 9.6238\n",
            "Epoch 61/100\n",
            "1/1 [==============================] - 0s 8ms/step - loss: 9.4913 - mae: 9.4913\n",
            "Epoch 62/100\n",
            "1/1 [==============================] - 0s 9ms/step - loss: 9.3588 - mae: 9.3588\n",
            "Epoch 63/100\n",
            "1/1 [==============================] - 0s 9ms/step - loss: 9.2263 - mae: 9.2263\n",
            "Epoch 64/100\n",
            "1/1 [==============================] - 0s 10ms/step - loss: 9.0938 - mae: 9.0938\n",
            "Epoch 65/100\n",
            "1/1 [==============================] - 0s 11ms/step - loss: 8.9613 - mae: 8.9613\n",
            "Epoch 66/100\n",
            "1/1 [==============================] - 0s 9ms/step - loss: 8.8288 - mae: 8.8288\n",
            "Epoch 67/100\n",
            "1/1 [==============================] - 0s 15ms/step - loss: 8.6963 - mae: 8.6963\n",
            "Epoch 68/100\n",
            "1/1 [==============================] - 0s 9ms/step - loss: 8.5638 - mae: 8.5638\n",
            "Epoch 69/100\n",
            "1/1 [==============================] - 0s 10ms/step - loss: 8.4313 - mae: 8.4313\n",
            "Epoch 70/100\n",
            "1/1 [==============================] - 0s 9ms/step - loss: 8.2988 - mae: 8.2988\n",
            "Epoch 71/100\n",
            "1/1 [==============================] - 0s 9ms/step - loss: 8.1663 - mae: 8.1663\n",
            "Epoch 72/100\n",
            "1/1 [==============================] - 0s 11ms/step - loss: 8.0338 - mae: 8.0338\n",
            "Epoch 73/100\n",
            "1/1 [==============================] - 0s 9ms/step - loss: 7.9013 - mae: 7.9013\n",
            "Epoch 74/100\n",
            "1/1 [==============================] - 0s 12ms/step - loss: 7.7688 - mae: 7.7688\n",
            "Epoch 75/100\n",
            "1/1 [==============================] - 0s 12ms/step - loss: 7.6363 - mae: 7.6363\n",
            "Epoch 76/100\n",
            "1/1 [==============================] - 0s 9ms/step - loss: 7.5038 - mae: 7.5038\n",
            "Epoch 77/100\n",
            "1/1 [==============================] - 0s 9ms/step - loss: 7.3713 - mae: 7.3713\n",
            "Epoch 78/100\n",
            "1/1 [==============================] - 0s 9ms/step - loss: 7.2388 - mae: 7.2388\n",
            "Epoch 79/100\n",
            "1/1 [==============================] - 0s 9ms/step - loss: 7.1063 - mae: 7.1063\n",
            "Epoch 80/100\n",
            "1/1 [==============================] - 0s 9ms/step - loss: 6.9738 - mae: 6.9738\n",
            "Epoch 81/100\n",
            "1/1 [==============================] - 0s 11ms/step - loss: 6.9394 - mae: 6.9394\n",
            "Epoch 82/100\n",
            "1/1 [==============================] - 0s 11ms/step - loss: 6.9338 - mae: 6.9338\n",
            "Epoch 83/100\n",
            "1/1 [==============================] - 0s 9ms/step - loss: 6.9281 - mae: 6.9281\n",
            "Epoch 84/100\n",
            "1/1 [==============================] - 0s 8ms/step - loss: 6.9225 - mae: 6.9225\n",
            "Epoch 85/100\n",
            "1/1 [==============================] - 0s 8ms/step - loss: 6.9169 - mae: 6.9169\n",
            "Epoch 86/100\n",
            "1/1 [==============================] - 0s 8ms/step - loss: 6.9113 - mae: 6.9113\n",
            "Epoch 87/100\n",
            "1/1 [==============================] - 0s 8ms/step - loss: 6.9056 - mae: 6.9056\n",
            "Epoch 88/100\n",
            "1/1 [==============================] - 0s 9ms/step - loss: 6.9000 - mae: 6.9000\n",
            "Epoch 89/100\n",
            "1/1 [==============================] - 0s 9ms/step - loss: 6.8944 - mae: 6.8944\n",
            "Epoch 90/100\n",
            "1/1 [==============================] - 0s 8ms/step - loss: 6.8888 - mae: 6.8888\n",
            "Epoch 91/100\n",
            "1/1 [==============================] - 0s 9ms/step - loss: 6.8831 - mae: 6.8831\n",
            "Epoch 92/100\n",
            "1/1 [==============================] - 0s 9ms/step - loss: 6.8775 - mae: 6.8775\n",
            "Epoch 93/100\n",
            "1/1 [==============================] - 0s 9ms/step - loss: 6.8719 - mae: 6.8719\n",
            "Epoch 94/100\n",
            "1/1 [==============================] - 0s 8ms/step - loss: 6.8663 - mae: 6.8663\n",
            "Epoch 95/100\n",
            "1/1 [==============================] - 0s 9ms/step - loss: 6.8606 - mae: 6.8606\n",
            "Epoch 96/100\n",
            "1/1 [==============================] - 0s 8ms/step - loss: 6.8550 - mae: 6.8550\n",
            "Epoch 97/100\n",
            "1/1 [==============================] - 0s 13ms/step - loss: 6.8494 - mae: 6.8494\n",
            "Epoch 98/100\n",
            "1/1 [==============================] - 0s 8ms/step - loss: 6.8438 - mae: 6.8438\n",
            "Epoch 99/100\n",
            "1/1 [==============================] - 0s 9ms/step - loss: 6.8381 - mae: 6.8381\n",
            "Epoch 100/100\n",
            "1/1 [==============================] - 0s 10ms/step - loss: 6.8325 - mae: 6.8325\n"
          ]
        },
        {
          "output_type": "execute_result",
          "data": {
            "text/plain": [
              "<keras.src.callbacks.History at 0x79948a4de6e0>"
            ]
          },
          "metadata": {},
          "execution_count": 43
        }
      ]
    },
    {
      "cell_type": "markdown",
      "source": [
        "Kayıp değerinin daha önce düştüğünü fark etmiş olabilirsiniz (ve çağ sayısı arttıkça azalmaya devam edin).\n",
        "\n",
        "Modelimizle bir tahmin yaptığımızda bunun ne anlama geldiğini düşünüyorsunuz?"
      ],
      "metadata": {
        "id": "c7vz0isgve7d"
      }
    },
    {
      "cell_type": "code",
      "source": [
        "# Remind ourselves of what X and y are\n",
        "X, y"
      ],
      "metadata": {
        "colab": {
          "base_uri": "https://localhost:8080/"
        },
        "id": "pnj8bFeJvZOG",
        "outputId": "48fbd299-084e-437c-b852-d093fc209072"
      },
      "execution_count": null,
      "outputs": [
        {
          "output_type": "execute_result",
          "data": {
            "text/plain": [
              "(<tf.Tensor: shape=(8,), dtype=float64, numpy=array([-7., -4., -1.,  2.,  5.,  8., 11., 14.])>,\n",
              " <tf.Tensor: shape=(8,), dtype=float64, numpy=array([ 3.,  6.,  9., 12., 15., 18., 21., 24.])>)"
            ]
          },
          "metadata": {},
          "execution_count": 44
        }
      ]
    },
    {
      "cell_type": "code",
      "source": [
        "# Try and predict what y would be if X was 17.0\n",
        "model.predict([17.0]) # the right answer is 27.0 (y = X + 10)"
      ],
      "metadata": {
        "colab": {
          "base_uri": "https://localhost:8080/"
        },
        "id": "CAYRzKRVvkeG",
        "outputId": "9ad4b6d9-cffb-4143-ae69-5ddf97c91356"
      },
      "execution_count": null,
      "outputs": [
        {
          "output_type": "stream",
          "name": "stderr",
          "text": [
            "WARNING:tensorflow:5 out of the last 5 calls to <function Model.make_predict_function.<locals>.predict_function at 0x79948a5c24d0> triggered tf.function retracing. Tracing is expensive and the excessive number of tracings could be due to (1) creating @tf.function repeatedly in a loop, (2) passing tensors with different shapes, (3) passing Python objects instead of tensors. For (1), please define your @tf.function outside of the loop. For (2), @tf.function has reduce_retracing=True option that can avoid unnecessary retracing. For (3), please refer to https://www.tensorflow.org/guide/function#controlling_retracing and https://www.tensorflow.org/api_docs/python/tf/function for  more details.\n"
          ]
        },
        {
          "output_type": "stream",
          "name": "stdout",
          "text": [
            "1/1 [==============================] - 0s 75ms/step\n"
          ]
        },
        {
          "output_type": "execute_result",
          "data": {
            "text/plain": [
              "array([[29.609007]], dtype=float32)"
            ]
          },
          "metadata": {},
          "execution_count": 45
        }
      ]
    },
    {
      "cell_type": "markdown",
      "source": [],
      "metadata": {
        "id": "Y8O1ukSh2PL1"
      }
    },
    {
      "cell_type": "code",
      "source": [
        "# Yeni deneme\n",
        "# Set random seed\n",
        "tf.random.set_seed(42)\n",
        "\n",
        "# Create a model (same as above)\n",
        "model = tf.keras.Sequential([\n",
        "  tf.keras.layers.Dense(100, activation = \"relu\"),\n",
        "  tf.keras.layers.Dense(100, activation = \"relu\"),\n",
        "  tf.keras.layers.Dense(100, activation = \"relu\"),\n",
        "  tf.keras.layers.Dense(1)\n",
        "])\n",
        "\n",
        "# Compile model (same as above)\n",
        "model.compile(loss=tf.keras.losses.mae,\n",
        "              optimizer=tf.keras.optimizers.Adam(learning_rate=0.001),\n",
        "              metrics=[\"mae\"])\n",
        "\n",
        "# Fit model (this time we'll train for longer)\n",
        "model.fit(tf.expand_dims(X, axis=-1), y, epochs=100) # train for 100 epochs not 10"
      ],
      "metadata": {
        "colab": {
          "base_uri": "https://localhost:8080/"
        },
        "id": "sHbw-NW90ReC",
        "outputId": "04179454-4e1e-426f-e076-39a8d0a8f20f"
      },
      "execution_count": null,
      "outputs": [
        {
          "output_type": "stream",
          "name": "stdout",
          "text": [
            "Epoch 1/100\n",
            "1/1 [==============================] - 1s 1s/step - loss: 13.8203 - mae: 13.8203\n",
            "Epoch 2/100\n",
            "1/1 [==============================] - 0s 13ms/step - loss: 13.5359 - mae: 13.5359\n",
            "Epoch 3/100\n",
            "1/1 [==============================] - 0s 12ms/step - loss: 13.2716 - mae: 13.2716\n",
            "Epoch 4/100\n",
            "1/1 [==============================] - 0s 10ms/step - loss: 13.0230 - mae: 13.0230\n",
            "Epoch 5/100\n",
            "1/1 [==============================] - 0s 9ms/step - loss: 12.7944 - mae: 12.7944\n",
            "Epoch 6/100\n",
            "1/1 [==============================] - 0s 10ms/step - loss: 12.5836 - mae: 12.5836\n",
            "Epoch 7/100\n",
            "1/1 [==============================] - 0s 11ms/step - loss: 12.3712 - mae: 12.3712\n",
            "Epoch 8/100\n",
            "1/1 [==============================] - 0s 10ms/step - loss: 12.1520 - mae: 12.1520\n",
            "Epoch 9/100\n",
            "1/1 [==============================] - 0s 10ms/step - loss: 11.9356 - mae: 11.9356\n",
            "Epoch 10/100\n",
            "1/1 [==============================] - 0s 9ms/step - loss: 11.7110 - mae: 11.7110\n",
            "Epoch 11/100\n",
            "1/1 [==============================] - 0s 10ms/step - loss: 11.5060 - mae: 11.5060\n",
            "Epoch 12/100\n",
            "1/1 [==============================] - 0s 9ms/step - loss: 11.3415 - mae: 11.3415\n",
            "Epoch 13/100\n",
            "1/1 [==============================] - 0s 9ms/step - loss: 11.1742 - mae: 11.1742\n",
            "Epoch 14/100\n",
            "1/1 [==============================] - 0s 10ms/step - loss: 10.9991 - mae: 10.9991\n",
            "Epoch 15/100\n",
            "1/1 [==============================] - 0s 49ms/step - loss: 10.8107 - mae: 10.8107\n",
            "Epoch 16/100\n",
            "1/1 [==============================] - 0s 24ms/step - loss: 10.6094 - mae: 10.6094\n",
            "Epoch 17/100\n",
            "1/1 [==============================] - 0s 22ms/step - loss: 10.3953 - mae: 10.3953\n",
            "Epoch 18/100\n",
            "1/1 [==============================] - 0s 19ms/step - loss: 10.1669 - mae: 10.1669\n",
            "Epoch 19/100\n",
            "1/1 [==============================] - 0s 28ms/step - loss: 9.9255 - mae: 9.9255\n",
            "Epoch 20/100\n",
            "1/1 [==============================] - 0s 27ms/step - loss: 9.6677 - mae: 9.6677\n",
            "Epoch 21/100\n",
            "1/1 [==============================] - 0s 22ms/step - loss: 9.3891 - mae: 9.3891\n",
            "Epoch 22/100\n",
            "1/1 [==============================] - 0s 22ms/step - loss: 9.0925 - mae: 9.0925\n",
            "Epoch 23/100\n",
            "1/1 [==============================] - 0s 37ms/step - loss: 8.7788 - mae: 8.7788\n",
            "Epoch 24/100\n",
            "1/1 [==============================] - 0s 26ms/step - loss: 8.4437 - mae: 8.4437\n",
            "Epoch 25/100\n",
            "1/1 [==============================] - 0s 28ms/step - loss: 8.0870 - mae: 8.0870\n",
            "Epoch 26/100\n",
            "1/1 [==============================] - 0s 22ms/step - loss: 7.7096 - mae: 7.7096\n",
            "Epoch 27/100\n",
            "1/1 [==============================] - 0s 19ms/step - loss: 7.3069 - mae: 7.3069\n",
            "Epoch 28/100\n",
            "1/1 [==============================] - 0s 28ms/step - loss: 6.8772 - mae: 6.8772\n",
            "Epoch 29/100\n",
            "1/1 [==============================] - 0s 25ms/step - loss: 6.4189 - mae: 6.4189\n",
            "Epoch 30/100\n",
            "1/1 [==============================] - 0s 18ms/step - loss: 5.9263 - mae: 5.9263\n",
            "Epoch 31/100\n",
            "1/1 [==============================] - 0s 18ms/step - loss: 5.4010 - mae: 5.4010\n",
            "Epoch 32/100\n",
            "1/1 [==============================] - 0s 18ms/step - loss: 4.8399 - mae: 4.8399\n",
            "Epoch 33/100\n",
            "1/1 [==============================] - 0s 27ms/step - loss: 4.2430 - mae: 4.2430\n",
            "Epoch 34/100\n",
            "1/1 [==============================] - 0s 20ms/step - loss: 3.9655 - mae: 3.9655\n",
            "Epoch 35/100\n",
            "1/1 [==============================] - 0s 29ms/step - loss: 3.8864 - mae: 3.8864\n",
            "Epoch 36/100\n",
            "1/1 [==============================] - 0s 10ms/step - loss: 4.0093 - mae: 4.0093\n",
            "Epoch 37/100\n",
            "1/1 [==============================] - 0s 10ms/step - loss: 4.1166 - mae: 4.1166\n",
            "Epoch 38/100\n",
            "1/1 [==============================] - 0s 11ms/step - loss: 4.2756 - mae: 4.2756\n",
            "Epoch 39/100\n",
            "1/1 [==============================] - 0s 12ms/step - loss: 4.4609 - mae: 4.4609\n",
            "Epoch 40/100\n",
            "1/1 [==============================] - 0s 11ms/step - loss: 4.5674 - mae: 4.5674\n",
            "Epoch 41/100\n",
            "1/1 [==============================] - 0s 12ms/step - loss: 4.6052 - mae: 4.6052\n",
            "Epoch 42/100\n",
            "1/1 [==============================] - 0s 12ms/step - loss: 4.5823 - mae: 4.5823\n",
            "Epoch 43/100\n",
            "1/1 [==============================] - 0s 9ms/step - loss: 4.5063 - mae: 4.5063\n",
            "Epoch 44/100\n",
            "1/1 [==============================] - 0s 10ms/step - loss: 4.3857 - mae: 4.3857\n",
            "Epoch 45/100\n",
            "1/1 [==============================] - 0s 13ms/step - loss: 4.2276 - mae: 4.2276\n",
            "Epoch 46/100\n",
            "1/1 [==============================] - 0s 10ms/step - loss: 4.0610 - mae: 4.0610\n",
            "Epoch 47/100\n",
            "1/1 [==============================] - 0s 9ms/step - loss: 3.9856 - mae: 3.9856\n",
            "Epoch 48/100\n",
            "1/1 [==============================] - 0s 9ms/step - loss: 3.9111 - mae: 3.9111\n",
            "Epoch 49/100\n",
            "1/1 [==============================] - 0s 9ms/step - loss: 3.8375 - mae: 3.8375\n",
            "Epoch 50/100\n",
            "1/1 [==============================] - 0s 12ms/step - loss: 3.7653 - mae: 3.7653\n",
            "Epoch 51/100\n",
            "1/1 [==============================] - 0s 10ms/step - loss: 3.7028 - mae: 3.7028\n",
            "Epoch 52/100\n",
            "1/1 [==============================] - 0s 10ms/step - loss: 3.6740 - mae: 3.6740\n",
            "Epoch 53/100\n",
            "1/1 [==============================] - 0s 10ms/step - loss: 3.7274 - mae: 3.7274\n",
            "Epoch 54/100\n",
            "1/1 [==============================] - 0s 10ms/step - loss: 3.7644 - mae: 3.7644\n",
            "Epoch 55/100\n",
            "1/1 [==============================] - 0s 10ms/step - loss: 3.7856 - mae: 3.7856\n",
            "Epoch 56/100\n",
            "1/1 [==============================] - 0s 11ms/step - loss: 3.7944 - mae: 3.7944\n",
            "Epoch 57/100\n",
            "1/1 [==============================] - 0s 14ms/step - loss: 3.7997 - mae: 3.7997\n",
            "Epoch 58/100\n",
            "1/1 [==============================] - 0s 9ms/step - loss: 3.7806 - mae: 3.7806\n",
            "Epoch 59/100\n",
            "1/1 [==============================] - 0s 11ms/step - loss: 3.7599 - mae: 3.7599\n",
            "Epoch 60/100\n",
            "1/1 [==============================] - 0s 9ms/step - loss: 3.7283 - mae: 3.7283\n",
            "Epoch 61/100\n",
            "1/1 [==============================] - 0s 10ms/step - loss: 3.6865 - mae: 3.6865\n",
            "Epoch 62/100\n",
            "1/1 [==============================] - 0s 10ms/step - loss: 3.6356 - mae: 3.6356\n",
            "Epoch 63/100\n",
            "1/1 [==============================] - 0s 10ms/step - loss: 3.5764 - mae: 3.5764\n",
            "Epoch 64/100\n",
            "1/1 [==============================] - 0s 9ms/step - loss: 3.5960 - mae: 3.5960\n",
            "Epoch 65/100\n",
            "1/1 [==============================] - 0s 10ms/step - loss: 3.6155 - mae: 3.6155\n",
            "Epoch 66/100\n",
            "1/1 [==============================] - 0s 10ms/step - loss: 3.6255 - mae: 3.6255\n",
            "Epoch 67/100\n",
            "1/1 [==============================] - 0s 10ms/step - loss: 3.6270 - mae: 3.6270\n",
            "Epoch 68/100\n",
            "1/1 [==============================] - 0s 12ms/step - loss: 3.6207 - mae: 3.6207\n",
            "Epoch 69/100\n",
            "1/1 [==============================] - 0s 10ms/step - loss: 3.6371 - mae: 3.6371\n",
            "Epoch 70/100\n",
            "1/1 [==============================] - 0s 9ms/step - loss: 3.6060 - mae: 3.6060\n",
            "Epoch 71/100\n",
            "1/1 [==============================] - 0s 26ms/step - loss: 3.5798 - mae: 3.5798\n",
            "Epoch 72/100\n",
            "1/1 [==============================] - 0s 25ms/step - loss: 3.5614 - mae: 3.5614\n",
            "Epoch 73/100\n",
            "1/1 [==============================] - 0s 22ms/step - loss: 3.5372 - mae: 3.5372\n",
            "Epoch 74/100\n",
            "1/1 [==============================] - 0s 16ms/step - loss: 3.5081 - mae: 3.5081\n",
            "Epoch 75/100\n",
            "1/1 [==============================] - 0s 18ms/step - loss: 3.4736 - mae: 3.4736\n",
            "Epoch 76/100\n",
            "1/1 [==============================] - 0s 27ms/step - loss: 3.4913 - mae: 3.4913\n",
            "Epoch 77/100\n",
            "1/1 [==============================] - 0s 29ms/step - loss: 3.5064 - mae: 3.5064\n",
            "Epoch 78/100\n",
            "1/1 [==============================] - 0s 24ms/step - loss: 3.5031 - mae: 3.5031\n",
            "Epoch 79/100\n",
            "1/1 [==============================] - 0s 32ms/step - loss: 3.4848 - mae: 3.4848\n",
            "Epoch 80/100\n",
            "1/1 [==============================] - 0s 31ms/step - loss: 3.4530 - mae: 3.4530\n",
            "Epoch 81/100\n",
            "1/1 [==============================] - 0s 20ms/step - loss: 3.4081 - mae: 3.4081\n",
            "Epoch 82/100\n",
            "1/1 [==============================] - 0s 25ms/step - loss: 3.3955 - mae: 3.3955\n",
            "Epoch 83/100\n",
            "1/1 [==============================] - 0s 27ms/step - loss: 3.3978 - mae: 3.3978\n",
            "Epoch 84/100\n",
            "1/1 [==============================] - 0s 31ms/step - loss: 3.3912 - mae: 3.3912\n",
            "Epoch 85/100\n",
            "1/1 [==============================] - 0s 24ms/step - loss: 3.3848 - mae: 3.3848\n",
            "Epoch 86/100\n",
            "1/1 [==============================] - 0s 19ms/step - loss: 3.3663 - mae: 3.3663\n",
            "Epoch 87/100\n",
            "1/1 [==============================] - 0s 20ms/step - loss: 3.3478 - mae: 3.3478\n",
            "Epoch 88/100\n",
            "1/1 [==============================] - 0s 22ms/step - loss: 3.3213 - mae: 3.3213\n",
            "Epoch 89/100\n",
            "1/1 [==============================] - 0s 17ms/step - loss: 3.2896 - mae: 3.2896\n",
            "Epoch 90/100\n",
            "1/1 [==============================] - 0s 20ms/step - loss: 3.2878 - mae: 3.2878\n",
            "Epoch 91/100\n",
            "1/1 [==============================] - 0s 31ms/step - loss: 3.2885 - mae: 3.2885\n",
            "Epoch 92/100\n",
            "1/1 [==============================] - 0s 19ms/step - loss: 3.2864 - mae: 3.2864\n",
            "Epoch 93/100\n",
            "1/1 [==============================] - 0s 12ms/step - loss: 3.2426 - mae: 3.2426\n",
            "Epoch 94/100\n",
            "1/1 [==============================] - 0s 11ms/step - loss: 3.2276 - mae: 3.2276\n",
            "Epoch 95/100\n",
            "1/1 [==============================] - 0s 11ms/step - loss: 3.2287 - mae: 3.2287\n",
            "Epoch 96/100\n",
            "1/1 [==============================] - 0s 11ms/step - loss: 3.2200 - mae: 3.2200\n",
            "Epoch 97/100\n",
            "1/1 [==============================] - 0s 10ms/step - loss: 3.2018 - mae: 3.2018\n",
            "Epoch 98/100\n",
            "1/1 [==============================] - 0s 10ms/step - loss: 3.1756 - mae: 3.1756\n",
            "Epoch 99/100\n",
            "1/1 [==============================] - 0s 10ms/step - loss: 3.1415 - mae: 3.1415\n",
            "Epoch 100/100\n",
            "1/1 [==============================] - 0s 10ms/step - loss: 3.1364 - mae: 3.1364\n"
          ]
        },
        {
          "output_type": "execute_result",
          "data": {
            "text/plain": [
              "<keras.src.callbacks.History at 0x79948a39fc70>"
            ]
          },
          "metadata": {},
          "execution_count": 46
        }
      ]
    },
    {
      "cell_type": "code",
      "source": [
        "model.predict([17.0])"
      ],
      "metadata": {
        "colab": {
          "base_uri": "https://localhost:8080/"
        },
        "id": "t8xyBRCy0zzq",
        "outputId": "e696cff4-f97a-4e51-e3c0-6f5b199a03ae"
      },
      "execution_count": null,
      "outputs": [
        {
          "output_type": "stream",
          "name": "stderr",
          "text": [
            "WARNING:tensorflow:6 out of the last 6 calls to <function Model.make_predict_function.<locals>.predict_function at 0x79948a5c2440> triggered tf.function retracing. Tracing is expensive and the excessive number of tracings could be due to (1) creating @tf.function repeatedly in a loop, (2) passing tensors with different shapes, (3) passing Python objects instead of tensors. For (1), please define your @tf.function outside of the loop. For (2), @tf.function has reduce_retracing=True option that can avoid unnecessary retracing. For (3), please refer to https://www.tensorflow.org/guide/function#controlling_retracing and https://www.tensorflow.org/api_docs/python/tf/function for  more details.\n"
          ]
        },
        {
          "output_type": "stream",
          "name": "stdout",
          "text": [
            "1/1 [==============================] - 0s 79ms/step\n"
          ]
        },
        {
          "output_type": "execute_result",
          "data": {
            "text/plain": [
              "array([[31.038818]], dtype=float32)"
            ]
          },
          "metadata": {},
          "execution_count": 47
        }
      ]
    },
    {
      "cell_type": "markdown",
      "source": [
        "* Tüm parametreler modelin iyileşmesine yol açmayabilir.\n",
        "* Activation None diyebilirdik.\n",
        "* Sadece Adam() yazabilirdin."
      ],
      "metadata": {
        "id": "kVFF_Rtv_aZa"
      }
    },
    {
      "cell_type": "markdown",
      "source": [
        "# Evaluating a model\n",
        "\n",
        "Sinir ağları oluştururken yaşayacağınız tipik bir iş akışı:\n",
        "\n",
        "Bir model oluşturun -> değerlendirin -> bir model oluşturun (ince ayarlayın) -> değerlendirin -> bir model oluşturun (ince ayar yapın) -> değerlendirin...\n",
        "\n",
        "İnce ayar, belki de sıfırdan bir model oluşturmaktan değil, mevcut bir modeli ayarlamaktan gelir."
      ],
      "metadata": {
        "id": "jSsq3Rn8vtnk"
      }
    },
    {
      "cell_type": "markdown",
      "source": [
        "# Görselleştir, görselleştir, görselleştir\n",
        "\n",
        "Değerlendirme söz konusu olduğunda, şu kelimeleri hatırlamak isteyeceksiniz: \"görselleştir, görselleştir, görselleştir.\"\n",
        "\n",
        "Bunun nedeni, muhtemelen bir şeye bakmak (yapmak) hakkında düşünmekten daha iyidir.\n",
        "\n",
        "**Görselleştirmek** iyi bir fikirdir:\n",
        "* Veriler - hangi verilerle çalışıyorsunuz? Neye benziyor?\n",
        "* Modelin kendisi - mimari neye benziyor? Farklı şekiller nelerdir?\n",
        "* Bir modelin eğitimi - bir model öğrenirken nasıl performans gösterir?\n",
        "* Bir modelin tahminleri - bir modelin tahminleri temel gerçeğe (orijinal etiketler) karşı nasıl hizadadır?\n",
        "\n",
        "Modeli görselleştirerek başlayalım.\n",
        "\n",
        "Ama önce, biraz daha büyük bir veri kümesi ve kullanabileceğimiz yeni bir model oluşturacağız (eskisi gibi olacak, ancak ne kadar çok pratik o kadar iyi)."
      ],
      "metadata": {
        "id": "y17-f7QZNZNk"
      }
    },
    {
      "cell_type": "code",
      "source": [
        "# Make a bigger dataset\n",
        "X = tf.range(-100, 100, 4)\n",
        "X"
      ],
      "metadata": {
        "colab": {
          "base_uri": "https://localhost:8080/"
        },
        "id": "pOCA2-rOvnT7",
        "outputId": "77afc132-3d6c-4cb1-9c70-a7f71324b380"
      },
      "execution_count": null,
      "outputs": [
        {
          "output_type": "execute_result",
          "data": {
            "text/plain": [
              "<tf.Tensor: shape=(50,), dtype=int32, numpy=\n",
              "array([-100,  -96,  -92,  -88,  -84,  -80,  -76,  -72,  -68,  -64,  -60,\n",
              "        -56,  -52,  -48,  -44,  -40,  -36,  -32,  -28,  -24,  -20,  -16,\n",
              "        -12,   -8,   -4,    0,    4,    8,   12,   16,   20,   24,   28,\n",
              "         32,   36,   40,   44,   48,   52,   56,   60,   64,   68,   72,\n",
              "         76,   80,   84,   88,   92,   96], dtype=int32)>"
            ]
          },
          "metadata": {},
          "execution_count": 48
        }
      ]
    },
    {
      "cell_type": "code",
      "source": [
        "# Make labels for the dataset\n",
        "y = tf.range(-90, 110, 4)\n",
        "y"
      ],
      "metadata": {
        "colab": {
          "base_uri": "https://localhost:8080/"
        },
        "id": "WUx9MYSZQNgy",
        "outputId": "3063a35d-7f2f-4d17-bb1d-10004d619919"
      },
      "execution_count": null,
      "outputs": [
        {
          "output_type": "execute_result",
          "data": {
            "text/plain": [
              "<tf.Tensor: shape=(50,), dtype=int32, numpy=\n",
              "array([-90, -86, -82, -78, -74, -70, -66, -62, -58, -54, -50, -46, -42,\n",
              "       -38, -34, -30, -26, -22, -18, -14, -10,  -6,  -2,   2,   6,  10,\n",
              "        14,  18,  22,  26,  30,  34,  38,  42,  46,  50,  54,  58,  62,\n",
              "        66,  70,  74,  78,  82,  86,  90,  94,  98, 102, 106], dtype=int32)>"
            ]
          },
          "metadata": {},
          "execution_count": 49
        }
      ]
    },
    {
      "cell_type": "code",
      "source": [
        "# Visualize the data\n",
        "import matplotlib.pyplot as plt\n",
        "plt.scatter(X,y)\n",
        "\n",
        "# y = x + 10 oldu.."
      ],
      "metadata": {
        "colab": {
          "base_uri": "https://localhost:8080/",
          "height": 447
        },
        "id": "1eKXyIx1QVE0",
        "outputId": "1c8390cf-3880-470b-84d4-143bd314fa64"
      },
      "execution_count": null,
      "outputs": [
        {
          "output_type": "execute_result",
          "data": {
            "text/plain": [
              "<matplotlib.collections.PathCollection at 0x79948a164fd0>"
            ]
          },
          "metadata": {},
          "execution_count": 50
        },
        {
          "output_type": "display_data",
          "data": {
            "text/plain": [
              "<Figure size 640x480 with 1 Axes>"
            ],
            "image/png": "[encoded data removed]"
          },
          "metadata": {}
        }
      ]
    },
    {
      "cell_type": "markdown",
      "source": [
        "# Verileri eğitim/test setine bölün\n",
        "\n",
        "Bir makine öğrenimi projesindeki diğer en yaygın ve önemli adımlardan biri, bir eğitim ve test seti (ve gerektiğinde bir doğrulama seti) oluşturmaktır.\n",
        "\n",
        "Her set belirli bir amaca hizmet eder:\n",
        "* Eğitim seti - model, mevcut toplam verilerin tipik olarak %70-80'i olan bu verilerden öğrenir (dönem boyunca çalıştığınız ders materyalleri gibi).\n",
        "* Doğrulama seti - model, genellikle mevcut toplam verilerin %10-15'i olan (final sınavından önce girdiğiniz uygulama sınavı gibi) bu verilere göre ayarlanır.\n",
        "* Test seti - model, öğrendiklerini test etmek için bu veriler üzerinde değerlendirilir, tipik olarak mevcut toplam verilerin %10-15'idir (dönem sonunda girdiğiniz final sınavı gibi).\n",
        "\n",
        "Şimdilik sadece bir eğitim ve test seti kullanacağız, bu da modelimizin öğrenmesi ve değerlendirilmesi için bir veri kümemiz olacağı anlamına geliyor.\n",
        "\n",
        "X ve y dizilerimizi bölerek bunları oluşturabiliriz.\n",
        "\n",
        "**Not: Gerçek dünya verileriyle uğraşırken, bu adım genellikle bir projenin başlangıcında yapılır (test seti her zaman diğer tüm verilerden ayrı tutulmalıdır). Modelimizin eğitim verileri üzerinde öğrenmesini ve daha sonra görünmeyen örneklere ne kadar iyi genellediğine dair bir gösterge almak için test verileri üzerinde değerlendirmesini istiyoruz.**"
      ],
      "metadata": {
        "id": "EGLGS0e0RRtO"
      }
    },
    {
      "cell_type": "markdown",
      "source": [
        "Okulda okuduğunu düşün.\n",
        "- Kurs materyallerin (training set)\n",
        "- practice exam (validation set), dönem boyunca öğrendiğin şeyler.  \n",
        "- final exam (test set), dönem boyunca öğrendiğin bilgileri değerlendirme için sınav.\n",
        "\n",
        "ML modelinden beklenilen görmediği veriler üzerinde iyi performans göstermesidir. Kalıpları öğrenmesini isteriz."
      ],
      "metadata": {
        "id": "0rrvePnyWLMA"
      }
    },
    {
      "cell_type": "code",
      "source": [
        "# Check how many samples we have\n",
        "len(X)"
      ],
      "metadata": {
        "colab": {
          "base_uri": "https://localhost:8080/"
        },
        "id": "fBrYOFRSQr2S",
        "outputId": "e9b13bc7-6363-45f0-81cd-db86ef042cca"
      },
      "execution_count": null,
      "outputs": [
        {
          "output_type": "execute_result",
          "data": {
            "text/plain": [
              "50"
            ]
          },
          "metadata": {},
          "execution_count": 51
        }
      ]
    },
    {
      "cell_type": "code",
      "source": [
        "# Split data into train and test sets\n",
        "X_train = X[:40] # first 40 examples (80% of data)\n",
        "y_train = y[:40]\n",
        "\n",
        "X_test = X[40:] # last 10 examples (20% of data)\n",
        "y_test = y[40:]\n",
        "\n",
        "len(X_train), len(X_test), len(y_train), len(y_test)"
      ],
      "metadata": {
        "colab": {
          "base_uri": "https://localhost:8080/"
        },
        "id": "V2Q0RAGTSCAn",
        "outputId": "031b7a1a-55df-4289-f4d8-8b3946f2b4e4"
      },
      "execution_count": null,
      "outputs": [
        {
          "output_type": "execute_result",
          "data": {
            "text/plain": [
              "(40, 10, 40, 10)"
            ]
          },
          "metadata": {},
          "execution_count": 52
        }
      ]
    },
    {
      "cell_type": "code",
      "source": [
        "plt.figure(figsize=(10, 7)) #tablo alanını ayarladık)\n",
        "# Plot training data in blue\n",
        "plt.scatter(X_train, y_train, c='b', label='Training data')\n",
        "# Plot test data in green\n",
        "plt.scatter(X_test, y_test, c='g', label='Testing data')\n",
        "# Show the legend\n",
        "plt.legend();"
      ],
      "metadata": {
        "colab": {
          "base_uri": "https://localhost:8080/",
          "height": 456
        },
        "id": "Y3hhcKJCSGSt",
        "outputId": "39ea94e5-187f-42f9-b36e-1cc5f2d0233f"
      },
      "execution_count": null,
      "outputs": [
        {
          "output_type": "display_data",
          "data": {
            "text/plain": [
              "<Figure size 1000x700 with 1 Axes>"
            ],
            "image/png": "[encoded data removed]"
          },
          "metadata": {}
        }
      ]
    },
    {
      "cell_type": "markdown",
      "source": [
        "Verilerinizi, modelinizi, herhangi bir şeyinizi ne zaman görselleştirebilseniz, bu iyi bir fikirdir.\n",
        "\n",
        "Bu grafiği göz önünde bulundurarak, yapmaya çalışacağımız şey, yeşil noktaları (X_test) çizmek için mavi noktalardaki (X_train) deseni öğrenen bir model oluşturmaktır.\n",
        "\n",
        "Bir model oluşturma zamanı. Daha öncekinin aynısını yapacağız (daha uzun süre eğittiğimiz)."
      ],
      "metadata": {
        "id": "xXDXA3ubSPy-"
      }
    },
    {
      "cell_type": "code",
      "source": [
        "# Set random seed\n",
        "tf.random.set_seed(42)\n",
        "\n",
        "# Create a model (same as above)\n",
        "model = tf.keras.Sequential([\n",
        "  tf.keras.layers.Dense(1)\n",
        "])\n",
        "\n",
        "# Compile model (same as above)\n",
        "model.compile(loss=tf.keras.losses.mae,\n",
        "              optimizer=tf.keras.optimizers.SGD(),\n",
        "              metrics=[\"mae\"])\n",
        "\n",
        "# Fit model (same as above)\n",
        "#model.fit(X_train, y_train, epochs=100) # commented out on purpose (not fitting it just yet)\n",
        "\n"
      ],
      "metadata": {
        "id": "1Una58ywSKeF"
      },
      "execution_count": null,
      "outputs": []
    },
    {
      "cell_type": "markdown",
      "source": [
        "# Modeli görselleştirmek\n",
        "\n",
        "Bir model oluşturduktan sonra, ona bir göz atmak isteyebilirsiniz (özellikle daha önce çok fazla yapmadıysanız).\n",
        "\n",
        "Üzerinde summary() çağırarak modelinizin katmanlarına ve şekillerine bakabilirsiniz.\n",
        "\n",
        "🔑 Not: Bir modeli görselleştirmek, giriş ve çıkış şekli uyumsuzluklarıyla karşılaştığınızda özellikle yararlıdır."
      ],
      "metadata": {
        "id": "PED1AGgPSeKR"
      }
    },
    {
      "cell_type": "markdown",
      "source": [
        "https://github.com/mrdbourke/tensorflow-deep-learning/blob/main/01_neural_network_regression_in_tensorflow.ipynb"
      ],
      "metadata": {
        "id": "hnvb1LfuBCFi"
      }
    },
    {
      "cell_type": "code",
      "source": [
        "# Doesn't work (model not fit/built)\n",
        "model.summary()"
      ],
      "metadata": {
        "id": "m5L85Hk3SXDT",
        "colab": {
          "base_uri": "https://localhost:8080/",
          "height": 377
        },
        "outputId": "cb3f067a-4792-42d1-d8d7-b78c50248352"
      },
      "execution_count": null,
      "outputs": [
        {
          "output_type": "error",
          "ename": "ValueError",
          "evalue": "This model has not yet been built. Build the model first by calling `build()` or by calling the model on a batch of data.",
          "traceback": [
            "\u001b[0;31m---------------------------------------------------------------------------\u001b[0m",
            "\u001b[0;31mValueError\u001b[0m                                Traceback (most recent call last)",
            "\u001b[0;32m<ipython-input-55-7d09d31d4e66>\u001b[0m in \u001b[0;36m<cell line: 2>\u001b[0;34m()\u001b[0m\n\u001b[1;32m      1\u001b[0m \u001b[0;31m# Doesn't work (model not fit/built)\u001b[0m\u001b[0;34m\u001b[0m\u001b[0;34m\u001b[0m\u001b[0m\n\u001b[0;32m----> 2\u001b[0;31m \u001b[0mmodel\u001b[0m\u001b[0;34m.\u001b[0m\u001b[0msummary\u001b[0m\u001b[0;34m(\u001b[0m\u001b[0;34m)\u001b[0m\u001b[0;34m\u001b[0m\u001b[0;34m\u001b[0m\u001b[0m\n\u001b[0m",
            "\u001b[0;32m/usr/local/lib/python3.10/dist-packages/keras/src/engine/training.py\u001b[0m in \u001b[0;36msummary\u001b[0;34m(self, line_length, positions, print_fn, expand_nested, show_trainable, layer_range)\u001b[0m\n\u001b[1;32m   3504\u001b[0m         \"\"\"\n\u001b[1;32m   3505\u001b[0m         \u001b[0;32mif\u001b[0m \u001b[0;32mnot\u001b[0m \u001b[0mself\u001b[0m\u001b[0;34m.\u001b[0m\u001b[0mbuilt\u001b[0m\u001b[0;34m:\u001b[0m\u001b[0;34m\u001b[0m\u001b[0;34m\u001b[0m\u001b[0m\n\u001b[0;32m-> 3506\u001b[0;31m             raise ValueError(\n\u001b[0m\u001b[1;32m   3507\u001b[0m                 \u001b[0;34m\"This model has not yet been built. \"\u001b[0m\u001b[0;34m\u001b[0m\u001b[0;34m\u001b[0m\u001b[0m\n\u001b[1;32m   3508\u001b[0m                 \u001b[0;34m\"Build the model first by calling `build()` or by calling \"\u001b[0m\u001b[0;34m\u001b[0m\u001b[0;34m\u001b[0m\u001b[0m\n",
            "\u001b[0;31mValueError\u001b[0m: This model has not yet been built. Build the model first by calling `build()` or by calling the model on a batch of data."
          ]
        }
      ]
    },
    {
      "cell_type": "markdown",
      "source": [
        "Modelimizi sığdırmadığımız veya inşa etmediğimiz için hataların üzerindeki hücre.\n",
        "\n",
        "Ayrıca hangi girdi şeklini beklemesi gerektiğini de söylemedik.\n",
        "\n",
        "Yukarıda, giriş şeklinin sadece bir sayı olduğunu nasıl tartıştığımızı hatırlıyor musunuz?\n",
        "\n",
        "İlk katmana input_shape parametresini kullanarak modelimizin verilerimizin giriş şeklini bilmesini sağlayabiliriz (genellikle input_shape tanımlanmamışsa, Keras bunu otomatik olarak anlamaya çalışır)."
      ],
      "metadata": {
        "id": "YwhREq_pvVgW"
      }
    },
    {
      "cell_type": "markdown",
      "source": [
        "Ağlar giriş şeklini kendi başına çözebilir ama bazen üzerinde çalıştığın soruna göre manuel tanımlaman gerekir."
      ],
      "metadata": {
        "id": "U8WeB08my_lT"
      }
    },
    {
      "cell_type": "code",
      "source": [
        "X[0], y[0]"
      ],
      "metadata": {
        "colab": {
          "base_uri": "https://localhost:8080/"
        },
        "id": "USXaLmEBzdO-",
        "outputId": "4565c9aa-58d6-4ca6-dbb0-3e739301266c"
      },
      "execution_count": null,
      "outputs": [
        {
          "output_type": "execute_result",
          "data": {
            "text/plain": [
              "(<tf.Tensor: shape=(), dtype=int32, numpy=-100>,\n",
              " <tf.Tensor: shape=(), dtype=int32, numpy=-90>)"
            ]
          },
          "metadata": {},
          "execution_count": 56
        }
      ]
    },
    {
      "cell_type": "markdown",
      "source": [
        "Giriş şekli bir, çünkü onu bir sayı geçeriz."
      ],
      "metadata": {
        "id": "Ewpr1QHqzgo8"
      }
    },
    {
      "cell_type": "code",
      "source": [
        "# Set random seed\n",
        "tf.random.set_seed(42)\n",
        "\n",
        "# Create a model (same as above)\n",
        "model = tf.keras.Sequential([\n",
        "  tf.keras.layers.Dense(1, input_shape=[1]) # define the input_shape to our model\n",
        "])\n",
        "\n",
        "# Compile model (same as above)\n",
        "model.compile(loss=tf.keras.losses.mae,\n",
        "              optimizer=tf.keras.optimizers.SGD(),\n",
        "              metrics=[\"mae\"])"
      ],
      "metadata": {
        "id": "BPGWVE7SvID1"
      },
      "execution_count": null,
      "outputs": []
    },
    {
      "cell_type": "code",
      "source": [
        "# This will work after specifying the input shape\n",
        "model.summary()"
      ],
      "metadata": {
        "colab": {
          "base_uri": "https://localhost:8080/"
        },
        "id": "CikE6mZ9vqV2",
        "outputId": "e910ff4f-bfcf-4ad1-e3ab-22f4f58b93ca"
      },
      "execution_count": null,
      "outputs": [
        {
          "output_type": "stream",
          "name": "stdout",
          "text": [
            "Model: \"sequential_8\"\n",
            "_________________________________________________________________\n",
            " Layer (type)                Output Shape              Param #   \n",
            "=================================================================\n",
            " dense_14 (Dense)            (None, 1)                 2         \n",
            "                                                                 \n",
            "=================================================================\n",
            "Total params: 2 (8.00 Byte)\n",
            "Trainable params: 2 (8.00 Byte)\n",
            "Non-trainable params: 0 (0.00 Byte)\n",
            "_________________________________________________________________\n"
          ]
        }
      ]
    },
    {
      "cell_type": "markdown",
      "source": [
        "Modelimizde summary() çağrısı bize içerdiği katmanları, çıktı şeklini ve parametre sayısını gösterir.\n",
        "\n",
        "Toplam paramlar - modeldeki toplam parametre sayısı.\n",
        "\n",
        "Eğitilebilir parametreler - bunlar, modelin eğitilirken güncelleyebileceği parametrelerdir (desenler).\n",
        "\n",
        "Eğitilemez parametreler - bu parametreler eğitim sırasında güncellenmez (bu, transfer öğrenimi sırasında diğer modellerden zaten öğrenilmiş kalıpları getirdiğinizde tipiktir).\n",
        "\n",
        "📖 Kaynak: Bir katman içindeki eğitilebilir parametrelere daha derinlemesine bir genel bakış için MIT'nin derin öğrenme videosuna girişine göz atın.\n",
        "\n",
        "https://www.youtube.com/watch?v=njKP3FqW3Sk"
      ],
      "metadata": {
        "id": "9djP5Ybwv9XJ"
      }
    },
    {
      "cell_type": "markdown",
      "source": [
        "Şimdilik, bu parametreler hakkında düşünmeniz gereken tek şey, verilerdeki öğrenilebilir kalıplarıdır.\n",
        "\n",
        "Modelimizi eğitim verilerine sığdıralım."
      ],
      "metadata": {
        "id": "-VYVfRz1wOpY"
      }
    },
    {
      "cell_type": "code",
      "source": [
        "# Fit the model to the training data\n",
        "model.fit(X_train, y_train, epochs=100, verbose=1) # verbose controls how much gets output\n"
      ],
      "metadata": {
        "colab": {
          "base_uri": "https://localhost:8080/"
        },
        "id": "TFNjEuqRvs3Q",
        "outputId": "f2a949e4-7fb2-402b-8a23-aa701bd39e40"
      },
      "execution_count": null,
      "outputs": [
        {
          "output_type": "stream",
          "name": "stdout",
          "text": [
            "Epoch 1/100\n",
            "2/2 [==============================] - 0s 11ms/step - loss: 50.2274 - mae: 50.2274\n",
            "Epoch 2/100\n",
            "2/2 [==============================] - 0s 6ms/step - loss: 17.4606 - mae: 17.4606\n",
            "Epoch 3/100\n",
            "2/2 [==============================] - 0s 7ms/step - loss: 16.7208 - mae: 16.7208\n",
            "Epoch 4/100\n",
            "2/2 [==============================] - 0s 6ms/step - loss: 9.0140 - mae: 9.0140\n",
            "Epoch 5/100\n",
            "2/2 [==============================] - 0s 6ms/step - loss: 11.1086 - mae: 11.1086\n",
            "Epoch 6/100\n",
            "2/2 [==============================] - 0s 6ms/step - loss: 10.2599 - mae: 10.2599\n",
            "Epoch 7/100\n",
            "2/2 [==============================] - 0s 6ms/step - loss: 9.2655 - mae: 9.2655\n",
            "Epoch 8/100\n",
            "2/2 [==============================] - 0s 11ms/step - loss: 9.1832 - mae: 9.1832\n",
            "Epoch 9/100\n",
            "2/2 [==============================] - 0s 8ms/step - loss: 11.8207 - mae: 11.8207\n",
            "Epoch 10/100\n",
            "2/2 [==============================] - 0s 6ms/step - loss: 13.7535 - mae: 13.7535\n",
            "Epoch 11/100\n",
            "2/2 [==============================] - 0s 7ms/step - loss: 11.8420 - mae: 11.8420\n",
            "Epoch 12/100\n",
            "2/2 [==============================] - 0s 7ms/step - loss: 16.3465 - mae: 16.3465\n",
            "Epoch 13/100\n",
            "2/2 [==============================] - 0s 7ms/step - loss: 11.9039 - mae: 11.9039\n",
            "Epoch 14/100\n",
            "2/2 [==============================] - 0s 9ms/step - loss: 13.8171 - mae: 13.8171\n",
            "Epoch 15/100\n",
            "2/2 [==============================] - 0s 7ms/step - loss: 11.2024 - mae: 11.2024\n",
            "Epoch 16/100\n",
            "2/2 [==============================] - 0s 6ms/step - loss: 8.6131 - mae: 8.6131\n",
            "Epoch 17/100\n",
            "2/2 [==============================] - 0s 7ms/step - loss: 13.7934 - mae: 13.7934\n",
            "Epoch 18/100\n",
            "2/2 [==============================] - 0s 7ms/step - loss: 11.6583 - mae: 11.6583\n",
            "Epoch 19/100\n",
            "2/2 [==============================] - 0s 6ms/step - loss: 17.7006 - mae: 17.7006\n",
            "Epoch 20/100\n",
            "2/2 [==============================] - 0s 6ms/step - loss: 14.8369 - mae: 14.8369\n",
            "Epoch 21/100\n",
            "2/2 [==============================] - 0s 10ms/step - loss: 10.7512 - mae: 10.7512\n",
            "Epoch 22/100\n",
            "2/2 [==============================] - 0s 9ms/step - loss: 8.4902 - mae: 8.4902\n",
            "Epoch 23/100\n",
            "2/2 [==============================] - 0s 10ms/step - loss: 9.8136 - mae: 9.8136\n",
            "Epoch 24/100\n",
            "2/2 [==============================] - 0s 8ms/step - loss: 10.8486 - mae: 10.8486\n",
            "Epoch 25/100\n",
            "2/2 [==============================] - 0s 7ms/step - loss: 9.1229 - mae: 9.1229\n",
            "Epoch 26/100\n",
            "2/2 [==============================] - 0s 6ms/step - loss: 13.0770 - mae: 13.0770\n",
            "Epoch 27/100\n",
            "2/2 [==============================] - 0s 6ms/step - loss: 10.4124 - mae: 10.4124\n",
            "Epoch 28/100\n",
            "2/2 [==============================] - 0s 9ms/step - loss: 13.4174 - mae: 13.4174\n",
            "Epoch 29/100\n",
            "2/2 [==============================] - 0s 7ms/step - loss: 9.6229 - mae: 9.6229\n",
            "Epoch 30/100\n",
            "2/2 [==============================] - 0s 7ms/step - loss: 17.2356 - mae: 17.2356\n",
            "Epoch 31/100\n",
            "2/2 [==============================] - 0s 6ms/step - loss: 22.8382 - mae: 22.8382\n",
            "Epoch 32/100\n",
            "2/2 [==============================] - 0s 7ms/step - loss: 7.9259 - mae: 7.9259\n",
            "Epoch 33/100\n",
            "2/2 [==============================] - 0s 7ms/step - loss: 14.1666 - mae: 14.1666\n",
            "Epoch 34/100\n",
            "2/2 [==============================] - 0s 7ms/step - loss: 12.4184 - mae: 12.4184\n",
            "Epoch 35/100\n",
            "2/2 [==============================] - 0s 6ms/step - loss: 8.2613 - mae: 8.2613\n",
            "Epoch 36/100\n",
            "2/2 [==============================] - 0s 6ms/step - loss: 10.4747 - mae: 10.4747\n",
            "Epoch 37/100\n",
            "2/2 [==============================] - 0s 6ms/step - loss: 10.1233 - mae: 10.1233\n",
            "Epoch 38/100\n",
            "2/2 [==============================] - 0s 6ms/step - loss: 11.3064 - mae: 11.3064\n",
            "Epoch 39/100\n",
            "2/2 [==============================] - 0s 6ms/step - loss: 14.7895 - mae: 14.7895\n",
            "Epoch 40/100\n",
            "2/2 [==============================] - 0s 9ms/step - loss: 12.9195 - mae: 12.9195\n",
            "Epoch 41/100\n",
            "2/2 [==============================] - 0s 5ms/step - loss: 9.3131 - mae: 9.3131\n",
            "Epoch 42/100\n",
            "2/2 [==============================] - 0s 5ms/step - loss: 10.9927 - mae: 10.9927\n",
            "Epoch 43/100\n",
            "2/2 [==============================] - 0s 7ms/step - loss: 8.3390 - mae: 8.3390\n",
            "Epoch 44/100\n",
            "2/2 [==============================] - 0s 8ms/step - loss: 13.0202 - mae: 13.0202\n",
            "Epoch 45/100\n",
            "2/2 [==============================] - 0s 7ms/step - loss: 13.7138 - mae: 13.7138\n",
            "Epoch 46/100\n",
            "2/2 [==============================] - 0s 7ms/step - loss: 8.4163 - mae: 8.4163\n",
            "Epoch 47/100\n",
            "2/2 [==============================] - 0s 7ms/step - loss: 9.1845 - mae: 9.1845\n",
            "Epoch 48/100\n",
            "2/2 [==============================] - 0s 7ms/step - loss: 10.6915 - mae: 10.6915\n",
            "Epoch 49/100\n",
            "2/2 [==============================] - 0s 7ms/step - loss: 7.7960 - mae: 7.7960\n",
            "Epoch 50/100\n",
            "2/2 [==============================] - 0s 7ms/step - loss: 9.6075 - mae: 9.6075\n",
            "Epoch 51/100\n",
            "2/2 [==============================] - 0s 7ms/step - loss: 9.1806 - mae: 9.1806\n",
            "Epoch 52/100\n",
            "2/2 [==============================] - 0s 7ms/step - loss: 16.4909 - mae: 16.4909\n",
            "Epoch 53/100\n",
            "2/2 [==============================] - 0s 6ms/step - loss: 14.0823 - mae: 14.0823\n",
            "Epoch 54/100\n",
            "2/2 [==============================] - 0s 6ms/step - loss: 20.9908 - mae: 20.9908\n",
            "Epoch 55/100\n",
            "2/2 [==============================] - 0s 7ms/step - loss: 16.5140 - mae: 16.5140\n",
            "Epoch 56/100\n",
            "2/2 [==============================] - 0s 7ms/step - loss: 9.8605 - mae: 9.8605\n",
            "Epoch 57/100\n",
            "2/2 [==============================] - 0s 6ms/step - loss: 9.6753 - mae: 9.6753\n",
            "Epoch 58/100\n",
            "2/2 [==============================] - 0s 6ms/step - loss: 8.9927 - mae: 8.9927\n",
            "Epoch 59/100\n",
            "2/2 [==============================] - 0s 8ms/step - loss: 10.2061 - mae: 10.2061\n",
            "Epoch 60/100\n",
            "2/2 [==============================] - 0s 10ms/step - loss: 8.4211 - mae: 8.4211\n",
            "Epoch 61/100\n",
            "2/2 [==============================] - 0s 7ms/step - loss: 9.2549 - mae: 9.2549\n",
            "Epoch 62/100\n",
            "2/2 [==============================] - 0s 6ms/step - loss: 7.0837 - mae: 7.0837\n",
            "Epoch 63/100\n",
            "2/2 [==============================] - 0s 6ms/step - loss: 8.6914 - mae: 8.6914\n",
            "Epoch 64/100\n",
            "2/2 [==============================] - 0s 6ms/step - loss: 12.1756 - mae: 12.1756\n",
            "Epoch 65/100\n",
            "2/2 [==============================] - 0s 6ms/step - loss: 9.4896 - mae: 9.4896\n",
            "Epoch 66/100\n",
            "2/2 [==============================] - 0s 6ms/step - loss: 11.5849 - mae: 11.5849\n",
            "Epoch 67/100\n",
            "2/2 [==============================] - 0s 6ms/step - loss: 8.0241 - mae: 8.0241\n",
            "Epoch 68/100\n",
            "2/2 [==============================] - 0s 6ms/step - loss: 8.5621 - mae: 8.5621\n",
            "Epoch 69/100\n",
            "2/2 [==============================] - 0s 6ms/step - loss: 12.2112 - mae: 12.2112\n",
            "Epoch 70/100\n",
            "2/2 [==============================] - 0s 11ms/step - loss: 8.9394 - mae: 8.9394\n",
            "Epoch 71/100\n",
            "2/2 [==============================] - 0s 8ms/step - loss: 9.9107 - mae: 9.9107\n",
            "Epoch 72/100\n",
            "2/2 [==============================] - 0s 8ms/step - loss: 9.9577 - mae: 9.9577\n",
            "Epoch 73/100\n",
            "2/2 [==============================] - 0s 8ms/step - loss: 12.3932 - mae: 12.3932\n",
            "Epoch 74/100\n",
            "2/2 [==============================] - 0s 7ms/step - loss: 10.6475 - mae: 10.6475\n",
            "Epoch 75/100\n",
            "2/2 [==============================] - 0s 6ms/step - loss: 9.6122 - mae: 9.6122\n",
            "Epoch 76/100\n",
            "2/2 [==============================] - 0s 6ms/step - loss: 11.0668 - mae: 11.0668\n",
            "Epoch 77/100\n",
            "2/2 [==============================] - 0s 7ms/step - loss: 8.2624 - mae: 8.2624\n",
            "Epoch 78/100\n",
            "2/2 [==============================] - 0s 7ms/step - loss: 8.9303 - mae: 8.9303\n",
            "Epoch 79/100\n",
            "2/2 [==============================] - 0s 7ms/step - loss: 19.8882 - mae: 19.8882\n",
            "Epoch 80/100\n",
            "2/2 [==============================] - 0s 6ms/step - loss: 17.7498 - mae: 17.7498\n",
            "Epoch 81/100\n",
            "2/2 [==============================] - 0s 7ms/step - loss: 7.1178 - mae: 7.1178\n",
            "Epoch 82/100\n",
            "2/2 [==============================] - 0s 7ms/step - loss: 11.0197 - mae: 11.0197\n",
            "Epoch 83/100\n",
            "2/2 [==============================] - 0s 9ms/step - loss: 8.0727 - mae: 8.0727\n",
            "Epoch 84/100\n",
            "2/2 [==============================] - 0s 6ms/step - loss: 7.6191 - mae: 7.6191\n",
            "Epoch 85/100\n",
            "2/2 [==============================] - 0s 8ms/step - loss: 9.8752 - mae: 9.8752\n",
            "Epoch 86/100\n",
            "2/2 [==============================] - 0s 7ms/step - loss: 9.1403 - mae: 9.1403\n",
            "Epoch 87/100\n",
            "2/2 [==============================] - 0s 10ms/step - loss: 11.8362 - mae: 11.8362\n",
            "Epoch 88/100\n",
            "2/2 [==============================] - 0s 6ms/step - loss: 10.4447 - mae: 10.4447\n",
            "Epoch 89/100\n",
            "2/2 [==============================] - 0s 7ms/step - loss: 6.9907 - mae: 6.9907\n",
            "Epoch 90/100\n",
            "2/2 [==============================] - 0s 9ms/step - loss: 13.7631 - mae: 13.7631\n",
            "Epoch 91/100\n",
            "2/2 [==============================] - 0s 9ms/step - loss: 7.8631 - mae: 7.8631\n",
            "Epoch 92/100\n",
            "2/2 [==============================] - 0s 9ms/step - loss: 7.9472 - mae: 7.9472\n",
            "Epoch 93/100\n",
            "2/2 [==============================] - 0s 7ms/step - loss: 9.4462 - mae: 9.4462\n",
            "Epoch 94/100\n",
            "2/2 [==============================] - 0s 7ms/step - loss: 8.7639 - mae: 8.7639\n",
            "Epoch 95/100\n",
            "2/2 [==============================] - 0s 7ms/step - loss: 9.8900 - mae: 9.8900\n",
            "Epoch 96/100\n",
            "2/2 [==============================] - 0s 7ms/step - loss: 7.3454 - mae: 7.3454\n",
            "Epoch 97/100\n",
            "2/2 [==============================] - 0s 7ms/step - loss: 6.8688 - mae: 6.8688\n",
            "Epoch 98/100\n",
            "2/2 [==============================] - 0s 8ms/step - loss: 7.2553 - mae: 7.2553\n",
            "Epoch 99/100\n",
            "2/2 [==============================] - 0s 7ms/step - loss: 7.4145 - mae: 7.4145\n",
            "Epoch 100/100\n",
            "2/2 [==============================] - 0s 6ms/step - loss: 11.0936 - mae: 11.0936\n"
          ]
        },
        {
          "output_type": "execute_result",
          "data": {
            "text/plain": [
              "<keras.src.callbacks.History at 0x79948a66d7e0>"
            ]
          },
          "metadata": {},
          "execution_count": 59
        }
      ]
    },
    {
      "cell_type": "markdown",
      "source": [
        "verbose 0 dersen herhangi bir çıktı almazsın.\n",
        "\n",
        "Dense'yi arttırarak dene, farklı rakamlar elde edebilirsin."
      ],
      "metadata": {
        "id": "VI_MIIn_4xs7"
      }
    },
    {
      "cell_type": "code",
      "source": [
        "# Check the model summary\n",
        "model.summary()"
      ],
      "metadata": {
        "colab": {
          "base_uri": "https://localhost:8080/"
        },
        "id": "uQJk9dIfwhSL",
        "outputId": "78845432-d81b-41dc-9da3-520e08150e12"
      },
      "execution_count": null,
      "outputs": [
        {
          "output_type": "stream",
          "name": "stdout",
          "text": [
            "Model: \"sequential_8\"\n",
            "_________________________________________________________________\n",
            " Layer (type)                Output Shape              Param #   \n",
            "=================================================================\n",
            " dense_14 (Dense)            (None, 1)                 2         \n",
            "                                                                 \n",
            "=================================================================\n",
            "Total params: 2 (8.00 Byte)\n",
            "Trainable params: 2 (8.00 Byte)\n",
            "Non-trainable params: 0 (0.00 Byte)\n",
            "_________________________________________________________________\n"
          ]
        }
      ]
    },
    {
      "cell_type": "markdown",
      "source": [
        "Özetin yanı sıra, plot_model() kullanarak modelin 2D grafiğini de görüntüleyebilirsiniz."
      ],
      "metadata": {
        "id": "KS0UZxMrwvsN"
      }
    },
    {
      "cell_type": "code",
      "source": [
        "from tensorflow.keras.utils import plot_model\n",
        "\n",
        "plot_model(model, show_shapes=True)"
      ],
      "metadata": {
        "colab": {
          "base_uri": "https://localhost:8080/",
          "height": 201
        },
        "id": "p8nuetItwkOk",
        "outputId": "09bdfee0-9629-4dfd-bd43-be043a6ed629"
      },
      "execution_count": null,
      "outputs": [
        {
          "output_type": "execute_result",
          "data": {
            "image/png": "[encoded data removed]",
            "text/plain": [
              "<IPython.core.display.Image object>"
            ]
          },
          "metadata": {},
          "execution_count": 61
        }
      ]
    },
    {
      "cell_type": "markdown",
      "source": [
        "Bizim durumumuzda, kullandığımız modelin yalnızca bir girdi ve bir çıkışı var, ancak daha karmaşık modelleri görselleştirmek hata ayıklama için çok yardımcı olabilir."
      ],
      "metadata": {
        "id": "E06U_ZIkxJGT"
      }
    },
    {
      "cell_type": "markdown",
      "source": [
        "Şekil 1 ve çıkış şekli 10 çünkü yoğun katmanda 10 gizli birim var."
      ],
      "metadata": {
        "id": "ZPGGobdJ8SLQ"
      }
    },
    {
      "cell_type": "code",
      "source": [
        "# Set random seed\n",
        "tf.random.set_seed(42)\n",
        "\n",
        "# Create a model (same as above)\n",
        "model = tf.keras.Sequential([\n",
        "  tf.keras.layers.Dense(10, input_shape=[1], name = \"input_layer\"),\n",
        "  # define the input_shape to our model\n",
        "  tf.keras.layers.Dense(1, name = \"output_layer\")\n",
        "], name = \"model_1\")\n",
        "\n",
        "# Compile model (same as above)\n",
        "model.compile(loss=tf.keras.losses.mae,\n",
        "              optimizer=tf.keras.optimizers.SGD(),\n",
        "              metrics=[\"mae\"])"
      ],
      "metadata": {
        "id": "ifCbIQB57GGf"
      },
      "execution_count": null,
      "outputs": []
    },
    {
      "cell_type": "code",
      "source": [
        "# Check the model summary\n",
        "model.summary()"
      ],
      "metadata": {
        "colab": {
          "base_uri": "https://localhost:8080/"
        },
        "id": "K01Mhg9B7seA",
        "outputId": "db6b1496-7090-491c-a890-7adc3f25b9ed"
      },
      "execution_count": null,
      "outputs": [
        {
          "output_type": "stream",
          "name": "stdout",
          "text": [
            "Model: \"model_1\"\n",
            "_________________________________________________________________\n",
            " Layer (type)                Output Shape              Param #   \n",
            "=================================================================\n",
            " input_layer (Dense)         (None, 10)                20        \n",
            "                                                                 \n",
            " output_layer (Dense)        (None, 1)                 11        \n",
            "                                                                 \n",
            "=================================================================\n",
            "Total params: 31 (124.00 Byte)\n",
            "Trainable params: 31 (124.00 Byte)\n",
            "Non-trainable params: 0 (0.00 Byte)\n",
            "_________________________________________________________________\n"
          ]
        }
      ]
    },
    {
      "cell_type": "code",
      "source": [
        "from tensorflow.keras.utils import plot_model\n",
        "\n",
        "plot_model(model, show_shapes=True)"
      ],
      "metadata": {
        "colab": {
          "base_uri": "https://localhost:8080/",
          "height": 312
        },
        "id": "jlZA7jx38ooy",
        "outputId": "387cdd62-78a4-4081-f54b-93c4ba91584b"
      },
      "execution_count": null,
      "outputs": [
        {
          "output_type": "execute_result",
          "data": {
            "image/png": "[encoded data removed]",
            "text/plain": [
              "<IPython.core.display.Image object>"
            ]
          },
          "metadata": {},
          "execution_count": 64
        }
      ]
    },
    {
      "cell_type": "markdown",
      "source": [
        "Kendi modeline gizli katmanlar ekleyebilirsin, verileri sığdur ve özet al. Eğitilebilir parametetrelerin sayısını al."
      ],
      "metadata": {
        "id": "B1ru9ADS85yL"
      }
    },
    {
      "cell_type": "markdown",
      "source": [
        "# Tahminleri görselleştirmek\n",
        "\n",
        "Artık eğitimli bir modelimiz var, bazı tahminleri görselleştirelim.\n",
        "\n",
        "Tahminleri görselleştirmek için, onları temel gerçek etiketlerine karşı çizmek her zaman iyi bir fikirdir.\n",
        "\n",
        "Genellikle bunu y_test vs. y_pred (zemin gerçeği ve tahminler) şeklinde görürsünüz.\n",
        "\n",
        "İlk olarak, test verileri (X_test) hakkında bazı tahminlerde bulunacağız, modelin test verilerini hiç görmediğini unutmayın."
      ],
      "metadata": {
        "id": "Aa4vpGQBxtYH"
      }
    },
    {
      "cell_type": "code",
      "source": [
        "# Make predictions\n",
        "y_preds = model.predict(X_test)"
      ],
      "metadata": {
        "colab": {
          "base_uri": "https://localhost:8080/"
        },
        "id": "F8QuRim2wyc7",
        "outputId": "11923430-0ee7-4130-c6dd-b684f0d2d7c2"
      },
      "execution_count": null,
      "outputs": [
        {
          "output_type": "stream",
          "name": "stdout",
          "text": [
            "1/1 [==============================] - 0s 59ms/step\n"
          ]
        }
      ]
    },
    {
      "cell_type": "code",
      "source": [
        "# View the predictions\n",
        "y_preds"
      ],
      "metadata": {
        "colab": {
          "base_uri": "https://localhost:8080/"
        },
        "id": "0dl-1Dt2957U",
        "outputId": "efe098b2-4a66-48ee-84bb-8d93fa4114df"
      },
      "execution_count": null,
      "outputs": [
        {
          "output_type": "execute_result",
          "data": {
            "text/plain": [
              "array([[13.417726 ],\n",
              "       [14.3122425],\n",
              "       [15.2067585],\n",
              "       [16.101274 ],\n",
              "       [16.995787 ],\n",
              "       [17.890303 ],\n",
              "       [18.784817 ],\n",
              "       [19.679333 ],\n",
              "       [20.573845 ],\n",
              "       [21.468369 ]], dtype=float32)"
            ]
          },
          "metadata": {},
          "execution_count": 66
        }
      ]
    },
    {
      "cell_type": "markdown",
      "source": [
        "Model verileri mükemmel şekilde öğrendiyse ve test veri setini %100 tahmin edebildiyse bu sayılar bu sayılarla aynı hizada olur. Tek tek gözden geçirmek yerine görselleştir."
      ],
      "metadata": {
        "id": "hlampFIPFP49"
      }
    },
    {
      "cell_type": "markdown",
      "source": [
        "https://github.com/mrdbourke/tensorflow-deep-learning/blob/main/01_neural_network_regression_in_tensorflow.ipynb"
      ],
      "metadata": {
        "id": "p1m4123DEAmo"
      }
    },
    {
      "cell_type": "code",
      "source": [
        "y_test"
      ],
      "metadata": {
        "colab": {
          "base_uri": "https://localhost:8080/"
        },
        "id": "ZiHwjo1j-ASp",
        "outputId": "551c14f2-0db0-4d2d-8245-4417803adf90"
      },
      "execution_count": null,
      "outputs": [
        {
          "output_type": "execute_result",
          "data": {
            "text/plain": [
              "<tf.Tensor: shape=(10,), dtype=int32, numpy=array([ 70,  74,  78,  82,  86,  90,  94,  98, 102, 106], dtype=int32)>"
            ]
          },
          "metadata": {},
          "execution_count": 67
        }
      ]
    },
    {
      "cell_type": "markdown",
      "source": [
        "Tamam, bir sayı listesi alıyoruz ama bunlar temel doğruluk etiketleriyle nasıl karşılaştırılır?\n",
        "\n",
        "Öğrenmek için bir çizim işlevi oluşturalım.\n",
        "\n",
        "Not: Bir şeyi çok görselleştireceğinizi düşünüyorsanız, daha sonra kullanabilmeniz için onu işlevlendirmek iyi bir fikirdir."
      ],
      "metadata": {
        "id": "-whg8ZYYEv8i"
      }
    },
    {
      "cell_type": "code",
      "source": [
        "def plot_predictions(train_data=X_train,\n",
        "                     train_labels=y_train,\n",
        "                     test_data=X_test,\n",
        "                     test_labels=y_test,\n",
        "                     predictions=y_preds):\n",
        "  \"\"\"\n",
        "  Plots training data, test data and compares predictions.\n",
        "  \"\"\"\n",
        "  plt.figure(figsize=(10, 7))\n",
        "  # Plot training data in blue\n",
        "  plt.scatter(train_data, train_labels, c=\"b\", label=\"Training data\")\n",
        "  # Plot test data in green\n",
        "  plt.scatter(test_data, test_labels, c=\"g\", label=\"Testing data\")\n",
        "  # Plot the predictions in red (predictions were made on the test data)\n",
        "  plt.scatter(test_data, predictions, c=\"r\", label=\"Predictions\")\n",
        "  # Show the legend\n",
        "  plt.legend();"
      ],
      "metadata": {
        "id": "BvJlY38uEqoV"
      },
      "execution_count": null,
      "outputs": []
    },
    {
      "cell_type": "code",
      "source": [
        "plot_predictions(train_data=X_train,\n",
        "                 train_labels=y_train,\n",
        "                 test_data=X_test,\n",
        "                 test_labels=y_test,\n",
        "                 predictions=y_preds)"
      ],
      "metadata": {
        "colab": {
          "base_uri": "https://localhost:8080/",
          "height": 456
        },
        "id": "kUcYsYAAE6rN",
        "outputId": "48090110-231a-475d-91fe-e07d5975fe9f"
      },
      "execution_count": null,
      "outputs": [
        {
          "output_type": "display_data",
          "data": {
            "text/plain": [
              "<Figure size 1000x700 with 1 Axes>"
            ],
            "image/png": "[encoded data removed]"
          },
          "metadata": {}
        }
      ]
    },
    {
      "cell_type": "markdown",
      "source": [
        "Arsadan tahminlerimizin tamamen tuhav olmadığını görebiliriz ama kesinlikle özel bir şey de değiller."
      ],
      "metadata": {
        "id": "KOA_NuoKFB8a"
      }
    },
    {
      "cell_type": "markdown",
      "source": [
        "# Tahminleri değerlendirme\n",
        "\n",
        "Görselleştirmelerin yanı sıra, değerlendirme metrikleri, modelinizi değerlendirmek için alternatif en iyi seçeneğinizdir.\n",
        "\n",
        "Üzerinde çalıştığınız soruna bağlı olarak, farklı modellerin farklı değerlendirme metrikleri vardır.\n",
        "\n",
        "Regresyon problemleri için kullanılan ana metriklerden ikisi şunlardır:\n",
        "* Ortalama mutlak hata (MAE) - tahminlerin her biri arasındaki ortalama fark.\n",
        "* Ortalama kare hata (MSE) - tahminler arasındaki kare ortalama fark (daha büyük hatalar küçük hatalardan daha zararlıysa kullanın).\n",
        "\n",
        "Bu değerlerin her biri ne kadar düşükse o kadar iyidir.\n",
        "\n",
        "Ayrıca, derleme adımı sırasında herhangi bir metrik kurulumunun yanı sıra modelin kaybını döndürecek olan model.evaluate() kullanabilirsiniz.\n"
      ],
      "metadata": {
        "id": "4wIuhMHnFEWm"
      }
    },
    {
      "cell_type": "code",
      "source": [
        "# Evaluate the model on the test set\n",
        "model.evaluate(X_test, y_test)"
      ],
      "metadata": {
        "id": "w4pRCp06E95B",
        "colab": {
          "base_uri": "https://localhost:8080/"
        },
        "outputId": "ccde7247-f3d3-437a-dcda-2b287b048dc8"
      },
      "execution_count": null,
      "outputs": [
        {
          "output_type": "stream",
          "name": "stdout",
          "text": [
            "1/1 [==============================] - 0s 261ms/step - loss: 70.5570 - mae: 70.5570\n"
          ]
        },
        {
          "output_type": "execute_result",
          "data": {
            "text/plain": [
              "[70.55696105957031, 70.55696105957031]"
            ]
          },
          "metadata": {},
          "execution_count": 70
        }
      ]
    },
    {
      "cell_type": "markdown",
      "source": [
        "Bizim durumumuzda, kayıp fonksiyonu için MAE ve metrikler için MAE kullandığımız için, model.evaulate() ikisini de döndürür.\n",
        "\n",
        "TensorFlow ayrıca MSE ve MAE için yerleşik işlevlere sahiptir.\n",
        "\n",
        "Birçok değerlendirme işlevi için öncül aynıdır: tahminleri temel doğruluk etiketleriyle karşılaştırın."
      ],
      "metadata": {
        "id": "Niq8znR4-Po3"
      }
    },
    {
      "cell_type": "markdown",
      "source": [
        "Üzerinde çalıştığın sorunlara bağlı olarak değerlendirme metriklerini ayarla.\n",
        "\n",
        "MAE -->\n",
        "- Herhangi bir regresyon modelinde kullanılabilir.\n",
        "- tf.keras.losses.MAE()\n",
        "- tf.metrics.mean_absolute_error\n",
        "\n",
        "MSE -->\n",
        "- Daha büyük hataların küçük hatalardan daha önemli oldukları durumda.\n",
        "- tf.keras.losses.MSE()\n",
        "- tf.metrics.mean_square_error\n",
        "\n",
        "Huber -->\n",
        "- Aykırı değişimlere karşı MSE'den daha az duyarlı.\n",
        "- MSE ve MAE birleşimi.\n",
        "- tf.keras.losses.Huber()"
      ],
      "metadata": {
        "id": "iNa78uG3KJKQ"
      }
    },
    {
      "cell_type": "code",
      "source": [
        "# Calculate the mean absolute error\n",
        "mae = tf.metrics.mean_absolute_error(y_true=y_test,\n",
        "                                     y_pred=y_preds)\n",
        "mae"
      ],
      "metadata": {
        "colab": {
          "base_uri": "https://localhost:8080/"
        },
        "id": "NwSgnUHw9wPN",
        "outputId": "49048b51-a7e5-4a6f-86b6-ae734b66d5eb"
      },
      "execution_count": null,
      "outputs": [
        {
          "output_type": "execute_result",
          "data": {
            "text/plain": [
              "<tf.Tensor: shape=(10,), dtype=float32, numpy=\n",
              "array([74.582275, 73.68776 , 72.79324 , 71.89873 , 71.00421 , 70.109695,\n",
              "       69.21518 , 68.32066 , 67.426155, 66.53163 ], dtype=float32)>"
            ]
          },
          "metadata": {},
          "execution_count": 71
        }
      ]
    },
    {
      "cell_type": "markdown",
      "source": [
        "MAE tek bir çıktı olmalıdır.\n",
        "\n",
        "Bunun yerine 10 değer elde ediyoruz.\n",
        "\n",
        "Bunun nedeni, y_test ve y_preds tensörlerimizin farklı şekiller olmasıdır."
      ],
      "metadata": {
        "id": "7Fm3gBUg-dJ-"
      }
    },
    {
      "cell_type": "code",
      "source": [
        "# Check the test label tensor values\n",
        "y_test"
      ],
      "metadata": {
        "colab": {
          "base_uri": "https://localhost:8080/"
        },
        "id": "8a5lI_-V9wNI",
        "outputId": "57c60674-edaa-49b2-966f-60c309584246"
      },
      "execution_count": null,
      "outputs": [
        {
          "output_type": "execute_result",
          "data": {
            "text/plain": [
              "<tf.Tensor: shape=(10,), dtype=int32, numpy=array([ 70,  74,  78,  82,  86,  90,  94,  98, 102, 106], dtype=int32)>"
            ]
          },
          "metadata": {},
          "execution_count": 72
        }
      ]
    },
    {
      "cell_type": "code",
      "source": [
        "# Check the predictions tensor values (notice the extra square brackets)\n",
        "y_preds"
      ],
      "metadata": {
        "colab": {
          "base_uri": "https://localhost:8080/"
        },
        "id": "HVorV6zW9wKi",
        "outputId": "0dd2fec4-e2da-428e-eacb-49db1112bfcb"
      },
      "execution_count": null,
      "outputs": [
        {
          "output_type": "execute_result",
          "data": {
            "text/plain": [
              "array([[13.417726 ],\n",
              "       [14.3122425],\n",
              "       [15.2067585],\n",
              "       [16.101274 ],\n",
              "       [16.995787 ],\n",
              "       [17.890303 ],\n",
              "       [18.784817 ],\n",
              "       [19.679333 ],\n",
              "       [20.573845 ],\n",
              "       [21.468369 ]], dtype=float32)"
            ]
          },
          "metadata": {},
          "execution_count": 73
        }
      ]
    },
    {
      "cell_type": "code",
      "source": [
        "# Check the tensor shapes\n",
        "y_test.shape, y_preds.shape"
      ],
      "metadata": {
        "colab": {
          "base_uri": "https://localhost:8080/"
        },
        "id": "D659pYTg9wIK",
        "outputId": "a1c506b3-20ba-4585-f2bd-9cccc0255120"
      },
      "execution_count": null,
      "outputs": [
        {
          "output_type": "execute_result",
          "data": {
            "text/plain": [
              "(TensorShape([10]), (10, 1))"
            ]
          },
          "metadata": {},
          "execution_count": 74
        }
      ]
    },
    {
      "cell_type": "markdown",
      "source": [
        "Farklı girdi ve çıkış şekilleriyle nasıl başa çıkmayı tartıştığımızı unutmayın, karşılaşacağınız en yaygın sorunlardan biridir, bu o zamanlardan biridir.\n",
        "\n",
        "Squeeze() kullanarak düzeltebiliriz, 1 boyutunu y_preds tensörümüzden kaldırarak y_test ile aynı şekil haline getirir.\n",
        "\n",
        "🔑 Not: İki tensörü karşılaştırıyorsanız, doğru şekil(ler) olduklarından emin olmak önemlidir (şekilleri her zaman manipüle etmek zorunda kalmayacaksınız, ancak her zaman dikkat edin, birçok hata uyumsuz tensörlerin, özellikle uyumsuz giriş ve çıkış şekillerinin sonucudur)."
      ],
      "metadata": {
        "id": "TLFqBLsX-rEV"
      }
    },
    {
      "cell_type": "code",
      "source": [
        "# Shape before squeeze()\n",
        "y_preds.shape"
      ],
      "metadata": {
        "colab": {
          "base_uri": "https://localhost:8080/"
        },
        "id": "QM6iHsbK9wFm",
        "outputId": "e1c0864c-493c-4951-a253-85d91bc89118"
      },
      "execution_count": null,
      "outputs": [
        {
          "output_type": "execute_result",
          "data": {
            "text/plain": [
              "(10, 1)"
            ]
          },
          "metadata": {},
          "execution_count": 75
        }
      ]
    },
    {
      "cell_type": "code",
      "source": [
        "# Shape after squeeze()\n",
        "y_preds.squeeze().shape"
      ],
      "metadata": {
        "colab": {
          "base_uri": "https://localhost:8080/"
        },
        "id": "nfVwhEMm--wg",
        "outputId": "d5442727-0947-4cee-d3b8-3aba3db72bbe"
      },
      "execution_count": null,
      "outputs": [
        {
          "output_type": "execute_result",
          "data": {
            "text/plain": [
              "(10,)"
            ]
          },
          "metadata": {},
          "execution_count": 76
        }
      ]
    },
    {
      "cell_type": "markdown",
      "source": [
        "(10,1) 1'i kaldırmak için sequeeze..\n",
        "\n",
        "şekil uyumu çok önemli."
      ],
      "metadata": {
        "id": "WquqlPNcMerV"
      }
    },
    {
      "cell_type": "code",
      "source": [
        "# What do they look like?\n",
        "y_test, y_preds.squeeze()"
      ],
      "metadata": {
        "colab": {
          "base_uri": "https://localhost:8080/"
        },
        "id": "rqzi5bkj--iI",
        "outputId": "d612afb4-4310-45bc-b521-fcc4650f7f9f"
      },
      "execution_count": null,
      "outputs": [
        {
          "output_type": "execute_result",
          "data": {
            "text/plain": [
              "(<tf.Tensor: shape=(10,), dtype=int32, numpy=array([ 70,  74,  78,  82,  86,  90,  94,  98, 102, 106], dtype=int32)>,\n",
              " array([13.417726 , 14.3122425, 15.2067585, 16.101274 , 16.995787 ,\n",
              "        17.890303 , 18.784817 , 19.679333 , 20.573845 , 21.468369 ],\n",
              "       dtype=float32))"
            ]
          },
          "metadata": {},
          "execution_count": 77
        }
      ]
    },
    {
      "cell_type": "markdown",
      "source": [
        "Y_test ve y_preds tenorlarımızı nasıl aynı şekilde yapacağımızı biliyoruz, hadi değerlendirme metriklerimizi kullanalım."
      ],
      "metadata": {
        "id": "CRb135zH_Hcu"
      }
    },
    {
      "cell_type": "code",
      "source": [
        "# Calcuate the MAE\n",
        "mae = tf.metrics.mean_absolute_error(y_true=y_test,\n",
        "                                     y_pred=y_preds.squeeze()) # use squeeze() to make same shape\n",
        "mae"
      ],
      "metadata": {
        "colab": {
          "base_uri": "https://localhost:8080/"
        },
        "id": "PPILnLLU--gD",
        "outputId": "8c6deda7-8484-4acd-859c-b650d4eb2019"
      },
      "execution_count": null,
      "outputs": [
        {
          "output_type": "execute_result",
          "data": {
            "text/plain": [
              "<tf.Tensor: shape=(), dtype=float32, numpy=70.55696>"
            ]
          },
          "metadata": {},
          "execution_count": 78
        }
      ]
    },
    {
      "cell_type": "code",
      "source": [
        "# Calculate the MSE\n",
        "mse = tf.metrics.mean_squared_error(y_true=y_test,\n",
        "                                    y_pred=y_preds.squeeze())\n",
        "mse"
      ],
      "metadata": {
        "colab": {
          "base_uri": "https://localhost:8080/"
        },
        "id": "2anHxdal--d-",
        "outputId": "0db1b95e-5031-400b-d346-39d78588f1cf"
      },
      "execution_count": null,
      "outputs": [
        {
          "output_type": "execute_result",
          "data": {
            "text/plain": [
              "<tf.Tensor: shape=(), dtype=float32, numpy=5057.847>"
            ]
          },
          "metadata": {},
          "execution_count": 79
        }
      ]
    },
    {
      "cell_type": "code",
      "source": [
        "# Returns the same as tf.metrics.mean_absolute_error()\n",
        "tf.reduce_mean(tf.abs(y_test-y_preds.squeeze()))"
      ],
      "metadata": {
        "colab": {
          "base_uri": "https://localhost:8080/"
        },
        "id": "mwmxR4A3--bs",
        "outputId": "0a069a47-92d5-4249-a8ae-5764048518c8"
      },
      "execution_count": null,
      "outputs": [
        {
          "output_type": "execute_result",
          "data": {
            "text/plain": [
              "<tf.Tensor: shape=(), dtype=int32, numpy=71>"
            ]
          },
          "metadata": {},
          "execution_count": 80
        }
      ]
    },
    {
      "cell_type": "markdown",
      "source": [
        "Yine, tekrar kullanabileceğinizi düşündüğünüz her şeyi işlevsel hale getirmek (veya kendinizi tekrar tekrar kullanırken bulmak) iyi bir fikirdir.\n",
        "\n",
        "Değerlendirme metriklerimiz için işlevler yapalım."
      ],
      "metadata": {
        "id": "w7IQf5wK_Txy"
      }
    },
    {
      "cell_type": "markdown",
      "source": [
        "İleride kullanabilmek amaçlı fonksiyon yazıldı."
      ],
      "metadata": {
        "id": "YHAvw32VMGS8"
      }
    },
    {
      "cell_type": "code",
      "source": [
        "def mae(y_test, y_pred):\n",
        "  \"\"\"\n",
        "  Calculuates mean absolute error between y_test and y_preds.\n",
        "  \"\"\"\n",
        "  return tf.metrics.mean_absolute_error(y_test,\n",
        "                                        y_pred)\n",
        "\n",
        "def mse(y_test, y_pred):\n",
        "  \"\"\"\n",
        "  Calculates mean squared error between y_test and y_preds.\n",
        "  \"\"\"\n",
        "  return tf.metrics.mean_squared_error(y_test,\n",
        "                                       y_pred)"
      ],
      "metadata": {
        "id": "QbFUW9Uv--ZS"
      },
      "execution_count": null,
      "outputs": []
    },
    {
      "cell_type": "markdown",
      "source": [
        "# Bir modeli geliştirmek için deneyler yürütmek\n",
        "\n",
        "Modelinizin yaptığı değerlendirme metriklerini ve tahminleri gördükten sonra, muhtemelen onu geliştirmek isteyeceksiniz.\n",
        "\n",
        "Yine, bunu yapmanın birçok farklı yolu var, ancak ana olanlardan 3'ü:\n",
        "- Daha fazla veri alın - eğitim almak için modeliniz için daha fazla örnek alın (örüntüleri öğrenmek için daha fazla fırsat).\n",
        "- Modelinizi büyütün (daha karmaşık bir model kullanın) - bu, her katmanda daha fazla katman veya daha fazla gizli birim şeklinde gelebilir.\n",
        "- Daha uzun süre antrenman yapın - modelinize verilerdeki kalıpları bulma şansı verin.\n",
        "\n",
        "Veri kümemizi oluşturduğumuzdan beri, kolayca daha fazla veri yapabiliriz, ancak gerçek dünya veri kümeleriyle çalışırken durum her zaman böyle değildir.\n",
        "\n",
        "Öyleyse 2 ve 3 kullanarak modelimizi nasıl geliştirebileceğimize bir göz atalım.\n",
        "\n",
        "Bunu yapmak için 3 model oluşturacağız ve sonuçlarını karşılaştıracağız:\n",
        "- Model_1 - orijinal modelle aynı, 1 katman, 100 dönem için eğitilmiş.\n",
        "- Model_2 - 2 katman, 100 dönem için eğitilmiş.\n",
        "- Model_3 - 2 katman, 500 dönem için eğitilmiş."
      ],
      "metadata": {
        "id": "MvzkadT3_c9B"
      }
    },
    {
      "cell_type": "code",
      "source": [
        "# Set random seed\n",
        "tf.random.set_seed(42)\n",
        "\n",
        "# Replicate original model\n",
        "model_1 = tf.keras.Sequential([\n",
        "  tf.keras.layers.Dense(1)\n",
        "])\n",
        "\n",
        "# Compile the model\n",
        "model_1.compile(loss=tf.keras.losses.mae,\n",
        "                optimizer=tf.keras.optimizers.SGD(),\n",
        "                metrics=['mae'])\n",
        "\n",
        "# Fit the model\n",
        "model_1.fit(tf.expand_dims(X_train, axis=-1), y_train, epochs=100)\n"
      ],
      "metadata": {
        "colab": {
          "base_uri": "https://localhost:8080/"
        },
        "id": "mAGGNDp3--W7",
        "outputId": "c6aa98ee-f921-4fb8-e70a-d74d6c105663"
      },
      "execution_count": null,
      "outputs": [
        {
          "output_type": "stream",
          "name": "stdout",
          "text": [
            "Epoch 1/100\n",
            "2/2 [==============================] - 1s 23ms/step - loss: 68.7679 - mae: 68.7679\n",
            "Epoch 2/100\n",
            "2/2 [==============================] - 0s 7ms/step - loss: 33.5883 - mae: 33.5883\n",
            "Epoch 3/100\n",
            "2/2 [==============================] - 0s 7ms/step - loss: 9.3430 - mae: 9.3430\n",
            "Epoch 4/100\n",
            "2/2 [==============================] - 0s 7ms/step - loss: 11.3772 - mae: 11.3772\n",
            "Epoch 5/100\n",
            "2/2 [==============================] - 0s 8ms/step - loss: 12.6439 - mae: 12.6439\n",
            "Epoch 6/100\n",
            "2/2 [==============================] - 0s 8ms/step - loss: 9.7827 - mae: 9.7827\n",
            "Epoch 7/100\n",
            "2/2 [==============================] - 0s 7ms/step - loss: 8.8675 - mae: 8.8675\n",
            "Epoch 8/100\n",
            "2/2 [==============================] - 0s 8ms/step - loss: 9.0868 - mae: 9.0868\n",
            "Epoch 9/100\n",
            "2/2 [==============================] - 0s 8ms/step - loss: 19.4611 - mae: 19.4611\n",
            "Epoch 10/100\n",
            "2/2 [==============================] - 0s 7ms/step - loss: 10.5219 - mae: 10.5219\n",
            "Epoch 11/100\n",
            "2/2 [==============================] - 0s 7ms/step - loss: 8.5679 - mae: 8.5679\n",
            "Epoch 12/100\n",
            "2/2 [==============================] - 0s 7ms/step - loss: 11.0176 - mae: 11.0176\n",
            "Epoch 13/100\n",
            "2/2 [==============================] - 0s 8ms/step - loss: 7.5960 - mae: 7.5960\n",
            "Epoch 14/100\n",
            "2/2 [==============================] - 0s 8ms/step - loss: 15.9330 - mae: 15.9330\n",
            "Epoch 15/100\n",
            "2/2 [==============================] - 0s 8ms/step - loss: 13.0087 - mae: 13.0087\n",
            "Epoch 16/100\n",
            "2/2 [==============================] - 0s 8ms/step - loss: 7.9495 - mae: 7.9495\n",
            "Epoch 17/100\n",
            "2/2 [==============================] - 0s 7ms/step - loss: 11.2055 - mae: 11.2055\n",
            "Epoch 18/100\n",
            "2/2 [==============================] - 0s 7ms/step - loss: 10.3293 - mae: 10.3293\n",
            "Epoch 19/100\n",
            "2/2 [==============================] - 0s 8ms/step - loss: 19.4536 - mae: 19.4536\n",
            "Epoch 20/100\n",
            "2/2 [==============================] - 0s 10ms/step - loss: 16.1105 - mae: 16.1105\n",
            "Epoch 21/100\n",
            "2/2 [==============================] - 0s 9ms/step - loss: 12.0180 - mae: 12.0180\n",
            "Epoch 22/100\n",
            "2/2 [==============================] - 0s 8ms/step - loss: 8.6220 - mae: 8.6220\n",
            "Epoch 23/100\n",
            "2/2 [==============================] - 0s 11ms/step - loss: 9.7178 - mae: 9.7178\n",
            "Epoch 24/100\n",
            "2/2 [==============================] - 0s 7ms/step - loss: 10.9819 - mae: 10.9819\n",
            "Epoch 25/100\n",
            "2/2 [==============================] - 0s 7ms/step - loss: 9.1813 - mae: 9.1813\n",
            "Epoch 26/100\n",
            "2/2 [==============================] - 0s 7ms/step - loss: 13.2202 - mae: 13.2202\n",
            "Epoch 27/100\n",
            "2/2 [==============================] - 0s 7ms/step - loss: 10.6891 - mae: 10.6891\n",
            "Epoch 28/100\n",
            "2/2 [==============================] - 0s 9ms/step - loss: 12.9141 - mae: 12.9141\n",
            "Epoch 29/100\n",
            "2/2 [==============================] - 0s 8ms/step - loss: 9.5282 - mae: 9.5282\n",
            "Epoch 30/100\n",
            "2/2 [==============================] - 0s 8ms/step - loss: 16.4434 - mae: 16.4434\n",
            "Epoch 31/100\n",
            "2/2 [==============================] - 0s 11ms/step - loss: 23.5618 - mae: 23.5618\n",
            "Epoch 32/100\n",
            "2/2 [==============================] - 0s 8ms/step - loss: 7.6224 - mae: 7.6224\n",
            "Epoch 33/100\n",
            "2/2 [==============================] - 0s 7ms/step - loss: 9.3179 - mae: 9.3179\n",
            "Epoch 34/100\n",
            "2/2 [==============================] - 0s 8ms/step - loss: 13.6795 - mae: 13.6795\n",
            "Epoch 35/100\n",
            "2/2 [==============================] - 0s 9ms/step - loss: 11.1784 - mae: 11.1784\n",
            "Epoch 36/100\n",
            "2/2 [==============================] - 0s 8ms/step - loss: 13.4057 - mae: 13.4057\n",
            "Epoch 37/100\n",
            "2/2 [==============================] - 0s 8ms/step - loss: 9.4619 - mae: 9.4619\n",
            "Epoch 38/100\n",
            "2/2 [==============================] - 0s 7ms/step - loss: 10.1131 - mae: 10.1131\n",
            "Epoch 39/100\n",
            "2/2 [==============================] - 0s 7ms/step - loss: 8.9890 - mae: 8.9890\n",
            "Epoch 40/100\n",
            "2/2 [==============================] - 0s 7ms/step - loss: 9.6179 - mae: 9.6179\n",
            "Epoch 41/100\n",
            "2/2 [==============================] - 0s 7ms/step - loss: 10.5786 - mae: 10.5786\n",
            "Epoch 42/100\n",
            "2/2 [==============================] - 0s 7ms/step - loss: 10.6327 - mae: 10.6327\n",
            "Epoch 43/100\n",
            "2/2 [==============================] - 0s 8ms/step - loss: 7.2238 - mae: 7.2238\n",
            "Epoch 44/100\n",
            "2/2 [==============================] - 0s 7ms/step - loss: 8.0300 - mae: 8.0300\n",
            "Epoch 45/100\n",
            "2/2 [==============================] - 0s 7ms/step - loss: 9.8333 - mae: 9.8333\n",
            "Epoch 46/100\n",
            "2/2 [==============================] - 0s 7ms/step - loss: 8.9131 - mae: 8.9131\n",
            "Epoch 47/100\n",
            "2/2 [==============================] - 0s 7ms/step - loss: 7.5786 - mae: 7.5786\n",
            "Epoch 48/100\n",
            "2/2 [==============================] - 0s 7ms/step - loss: 8.5416 - mae: 8.5416\n",
            "Epoch 49/100\n",
            "2/2 [==============================] - 0s 7ms/step - loss: 10.0453 - mae: 10.0453\n",
            "Epoch 50/100\n",
            "2/2 [==============================] - 0s 8ms/step - loss: 8.9873 - mae: 8.9873\n",
            "Epoch 51/100\n",
            "2/2 [==============================] - 0s 8ms/step - loss: 10.7226 - mae: 10.7226\n",
            "Epoch 52/100\n",
            "2/2 [==============================] - 0s 8ms/step - loss: 15.2675 - mae: 15.2675\n",
            "Epoch 53/100\n",
            "2/2 [==============================] - 0s 8ms/step - loss: 14.2975 - mae: 14.2975\n",
            "Epoch 54/100\n",
            "2/2 [==============================] - 0s 8ms/step - loss: 21.5432 - mae: 21.5432\n",
            "Epoch 55/100\n",
            "2/2 [==============================] - 0s 8ms/step - loss: 16.0602 - mae: 16.0602\n",
            "Epoch 56/100\n",
            "2/2 [==============================] - 0s 11ms/step - loss: 10.2501 - mae: 10.2501\n",
            "Epoch 57/100\n",
            "2/2 [==============================] - 0s 8ms/step - loss: 9.8097 - mae: 9.8097\n",
            "Epoch 58/100\n",
            "2/2 [==============================] - 0s 8ms/step - loss: 9.0919 - mae: 9.0919\n",
            "Epoch 59/100\n",
            "2/2 [==============================] - 0s 11ms/step - loss: 8.2946 - mae: 8.2946\n",
            "Epoch 60/100\n",
            "2/2 [==============================] - 0s 8ms/step - loss: 9.3879 - mae: 9.3879\n",
            "Epoch 61/100\n",
            "2/2 [==============================] - 0s 8ms/step - loss: 11.2187 - mae: 11.2187\n",
            "Epoch 62/100\n",
            "2/2 [==============================] - 0s 7ms/step - loss: 12.0369 - mae: 12.0369\n",
            "Epoch 63/100\n",
            "2/2 [==============================] - 0s 7ms/step - loss: 7.2843 - mae: 7.2843\n",
            "Epoch 64/100\n",
            "2/2 [==============================] - 0s 7ms/step - loss: 12.4773 - mae: 12.4773\n",
            "Epoch 65/100\n",
            "2/2 [==============================] - 0s 9ms/step - loss: 10.5546 - mae: 10.5546\n",
            "Epoch 66/100\n",
            "2/2 [==============================] - 0s 8ms/step - loss: 15.5684 - mae: 15.5684\n",
            "Epoch 67/100\n",
            "2/2 [==============================] - 0s 8ms/step - loss: 9.9857 - mae: 9.9857\n",
            "Epoch 68/100\n",
            "2/2 [==============================] - 0s 7ms/step - loss: 8.7180 - mae: 8.7180\n",
            "Epoch 69/100\n",
            "2/2 [==============================] - 0s 7ms/step - loss: 13.4452 - mae: 13.4452\n",
            "Epoch 70/100\n",
            "2/2 [==============================] - 0s 7ms/step - loss: 7.4815 - mae: 7.4815\n",
            "Epoch 71/100\n",
            "2/2 [==============================] - 0s 8ms/step - loss: 12.2815 - mae: 12.2815\n",
            "Epoch 72/100\n",
            "2/2 [==============================] - 0s 8ms/step - loss: 8.5159 - mae: 8.5159\n",
            "Epoch 73/100\n",
            "2/2 [==============================] - 0s 7ms/step - loss: 7.0476 - mae: 7.0476\n",
            "Epoch 74/100\n",
            "2/2 [==============================] - 0s 9ms/step - loss: 9.8902 - mae: 9.8902\n",
            "Epoch 75/100\n",
            "2/2 [==============================] - 0s 8ms/step - loss: 9.9781 - mae: 9.9781\n",
            "Epoch 76/100\n",
            "2/2 [==============================] - 0s 7ms/step - loss: 10.1371 - mae: 10.1371\n",
            "Epoch 77/100\n",
            "2/2 [==============================] - 0s 8ms/step - loss: 13.0129 - mae: 13.0129\n",
            "Epoch 78/100\n",
            "2/2 [==============================] - 0s 8ms/step - loss: 10.8991 - mae: 10.8991\n",
            "Epoch 79/100\n",
            "2/2 [==============================] - 0s 10ms/step - loss: 15.3670 - mae: 15.3670\n",
            "Epoch 80/100\n",
            "2/2 [==============================] - 0s 8ms/step - loss: 11.7531 - mae: 11.7531\n",
            "Epoch 81/100\n",
            "2/2 [==============================] - 0s 9ms/step - loss: 9.2430 - mae: 9.2430\n",
            "Epoch 82/100\n",
            "2/2 [==============================] - 0s 7ms/step - loss: 12.7521 - mae: 12.7521\n",
            "Epoch 83/100\n",
            "2/2 [==============================] - 0s 12ms/step - loss: 8.3030 - mae: 8.3030\n",
            "Epoch 84/100\n",
            "2/2 [==============================] - 0s 9ms/step - loss: 7.3143 - mae: 7.3143\n",
            "Epoch 85/100\n",
            "2/2 [==============================] - 0s 10ms/step - loss: 10.4664 - mae: 10.4664\n",
            "Epoch 86/100\n",
            "2/2 [==============================] - 0s 11ms/step - loss: 9.1436 - mae: 9.1436\n",
            "Epoch 87/100\n",
            "2/2 [==============================] - 0s 6ms/step - loss: 11.8491 - mae: 11.8491\n",
            "Epoch 88/100\n",
            "2/2 [==============================] - 0s 11ms/step - loss: 10.4579 - mae: 10.4579\n",
            "Epoch 89/100\n",
            "2/2 [==============================] - 0s 11ms/step - loss: 6.9817 - mae: 6.9817\n",
            "Epoch 90/100\n",
            "2/2 [==============================] - 0s 9ms/step - loss: 13.7802 - mae: 13.7802\n",
            "Epoch 91/100\n",
            "2/2 [==============================] - 0s 8ms/step - loss: 7.8685 - mae: 7.8685\n",
            "Epoch 92/100\n",
            "2/2 [==============================] - 0s 8ms/step - loss: 7.9309 - mae: 7.9309\n",
            "Epoch 93/100\n",
            "2/2 [==============================] - 0s 9ms/step - loss: 9.4266 - mae: 9.4266\n",
            "Epoch 94/100\n",
            "2/2 [==============================] - 0s 8ms/step - loss: 8.7468 - mae: 8.7468\n",
            "Epoch 95/100\n",
            "2/2 [==============================] - 0s 8ms/step - loss: 9.8665 - mae: 9.8665\n",
            "Epoch 96/100\n",
            "2/2 [==============================] - 0s 8ms/step - loss: 7.3477 - mae: 7.3477\n",
            "Epoch 97/100\n",
            "2/2 [==============================] - 0s 7ms/step - loss: 6.8641 - mae: 6.8641\n",
            "Epoch 98/100\n",
            "2/2 [==============================] - 0s 8ms/step - loss: 7.2557 - mae: 7.2557\n",
            "Epoch 99/100\n",
            "2/2 [==============================] - 0s 8ms/step - loss: 7.4096 - mae: 7.4096\n",
            "Epoch 100/100\n",
            "2/2 [==============================] - 0s 9ms/step - loss: 11.1066 - mae: 11.1066\n"
          ]
        },
        {
          "output_type": "execute_result",
          "data": {
            "text/plain": [
              "<keras.src.callbacks.History at 0x7994836ad0f0>"
            ]
          },
          "metadata": {},
          "execution_count": 83
        }
      ]
    },
    {
      "cell_type": "code",
      "source": [
        "# Make and plot predictions for model_1\n",
        "y_preds_1 = model_1.predict(X_test)\n",
        "plot_predictions(predictions=y_preds_1)"
      ],
      "metadata": {
        "colab": {
          "base_uri": "https://localhost:8080/",
          "height": 473
        },
        "id": "bw2CeQYz--U3",
        "outputId": "765c68d5-8522-4597-adf3-fffc03e5346c"
      },
      "execution_count": null,
      "outputs": [
        {
          "output_type": "stream",
          "name": "stdout",
          "text": [
            "1/1 [==============================] - 0s 79ms/step\n"
          ]
        },
        {
          "output_type": "display_data",
          "data": {
            "text/plain": [
              "<Figure size 1000x700 with 1 Axes>"
            ],
            "image/png": "[encoded data removed]"
          },
          "metadata": {}
        }
      ]
    },
    {
      "cell_type": "code",
      "source": [
        "# Calculate model_1 metrics\n",
        "mae_1 = mae(y_test, y_preds_1.squeeze()).numpy()\n",
        "mse_1 = mse(y_test, y_preds_1.squeeze()).numpy()\n",
        "mae_1, mse_1"
      ],
      "metadata": {
        "colab": {
          "base_uri": "https://localhost:8080/"
        },
        "id": "nfb5pM9E_9Xv",
        "outputId": "ecc6625b-ea4a-48aa-f66e-97d7642fde11"
      },
      "execution_count": null,
      "outputs": [
        {
          "output_type": "execute_result",
          "data": {
            "text/plain": [
              "(21.27638, 456.11493)"
            ]
          },
          "metadata": {},
          "execution_count": 85
        }
      ]
    },
    {
      "cell_type": "markdown",
      "source": [
        "sequeeze yapmazsan ilginç bir tablo çıkar. Uygun şekle sokmalısın. Bir şekil yutar.\n",
        "\n",
        "numpy formatı ile tek rakam çıktı."
      ],
      "metadata": {
        "id": "BEknUri_VFrD"
      }
    },
    {
      "cell_type": "markdown",
      "source": [
        "# Model_2 oluştur\n",
        "\n",
        "Bu sefer her şeyi aynı tutarken ekstra yoğun bir katman (böylece şimdi modelimiz 2 katmana sahip olacak) ekleyeceğiz."
      ],
      "metadata": {
        "id": "nqlIxq3JACox"
      }
    },
    {
      "cell_type": "markdown",
      "source": [
        "tf.random.set_seed(42) --> tekrarlanabilirlik.\n",
        "\n",
        "dense 100 deseydin 100 nöronlu...\n"
      ],
      "metadata": {
        "id": "4e4bQJMJWNb_"
      }
    },
    {
      "cell_type": "code",
      "source": [
        "# Set random seed\n",
        "tf.random.set_seed(42)\n",
        "\n",
        "# Replicate model_1 and add an extra layer\n",
        "model_2 = tf.keras.Sequential([\n",
        "  tf.keras.layers.Dense(1),\n",
        "  tf.keras.layers.Dense(1) # add a second layer\n",
        "])\n",
        "\n",
        "# Compile the model\n",
        "model_2.compile(loss=tf.keras.losses.mae,\n",
        "                optimizer=tf.keras.optimizers.SGD(),\n",
        "                metrics=['mae'])\n",
        "\n",
        "# Fit the model\n",
        "model_2.fit(tf.expand_dims(X_train, axis=-1), y_train, epochs=100, verbose=0)"
      ],
      "metadata": {
        "colab": {
          "base_uri": "https://localhost:8080/"
        },
        "id": "Sailb2K5_9WA",
        "outputId": "9e258ca9-a810-4b54-e300-aa2179cea83b"
      },
      "execution_count": null,
      "outputs": [
        {
          "output_type": "execute_result",
          "data": {
            "text/plain": [
              "<keras.src.callbacks.History at 0x799489f05ea0>"
            ]
          },
          "metadata": {},
          "execution_count": 86
        }
      ]
    },
    {
      "cell_type": "code",
      "source": [
        "# Make and plot predictions for model_2\n",
        "y_preds_2 = model_2.predict(X_test)\n",
        "plot_predictions(predictions=y_preds_2)"
      ],
      "metadata": {
        "colab": {
          "base_uri": "https://localhost:8080/",
          "height": 469
        },
        "id": "mf3Vx6x1_9To",
        "outputId": "7902cb98-bfb7-4cbc-ed61-f2e78935b487"
      },
      "execution_count": null,
      "outputs": [
        {
          "output_type": "stream",
          "name": "stdout",
          "text": [
            "1/1 [==============================] - 0s 242ms/step\n"
          ]
        },
        {
          "output_type": "display_data",
          "data": {
            "text/plain": [
              "<Figure size 1000x700 with 1 Axes>"
            ],
            "image/png": "[encoded data removed]"
          },
          "metadata": {}
        }
      ]
    },
    {
      "cell_type": "code",
      "source": [
        "# Calculate model_2 metrics\n",
        "mae_2 = mae(y_test, y_preds_2.squeeze()).numpy()\n",
        "mse_2 = mse(y_test, y_preds_2.squeeze()).numpy()\n",
        "mae_2, mse_2"
      ],
      "metadata": {
        "colab": {
          "base_uri": "https://localhost:8080/"
        },
        "id": "tGgU5YZJ_9Rw",
        "outputId": "8c90884a-6d1d-4ffe-aaba-0782a493f832"
      },
      "execution_count": null,
      "outputs": [
        {
          "output_type": "execute_result",
          "data": {
            "text/plain": [
              "(17.58685, 323.80444)"
            ]
          },
          "metadata": {},
          "execution_count": 88
        }
      ]
    },
    {
      "cell_type": "markdown",
      "source": [
        "# Model_3 oluştur\n",
        "\n",
        "3. modelimiz için her şeyi model_2 ile aynı tutacağız, ancak bu sefer daha uzun süre antrenman yapacağız (100 yerine 500 dönem).\n",
        "\n",
        "Bu, modelimize verilerdeki kalıpları öğrenmek için daha fazla şans verecektir."
      ],
      "metadata": {
        "id": "5LD074QWASIs"
      }
    },
    {
      "cell_type": "code",
      "source": [
        "# Set random seed\n",
        "tf.random.set_seed(42)\n",
        "\n",
        "# Replicate model_2\n",
        "model_3 = tf.keras.Sequential([\n",
        "  tf.keras.layers.Dense(1),\n",
        "  tf.keras.layers.Dense(1)\n",
        "])\n",
        "\n",
        "# Compile the model\n",
        "model_3.compile(loss=tf.keras.losses.mae,\n",
        "                optimizer=tf.keras.optimizers.SGD(),\n",
        "                metrics=['mae'])\n",
        "\n",
        "# Fit the model (this time for 500 epochs, not 100)\n",
        "model_3.fit(tf.expand_dims(X_train, axis=-1), y_train, epochs=500, verbose=0) # set verbose to 0 for less output\n",
        "\n"
      ],
      "metadata": {
        "colab": {
          "base_uri": "https://localhost:8080/"
        },
        "id": "OBDyHco2_9Pu",
        "outputId": "881b584e-b817-4d89-cfe4-09bdb9bf3c8f"
      },
      "execution_count": null,
      "outputs": [
        {
          "output_type": "execute_result",
          "data": {
            "text/plain": [
              "<keras.src.callbacks.History at 0x799489fe6560>"
            ]
          },
          "metadata": {},
          "execution_count": 89
        }
      ]
    },
    {
      "cell_type": "markdown",
      "source": [
        "İnce ayar önemli. Modelin hiper parametreleri ile ayar önemli.\n",
        "\n",
        "Yeşil ile model eğitim verilerini çok iyi öğrendi, genellemedi."
      ],
      "metadata": {
        "id": "xrkfY3bMYpUW"
      }
    },
    {
      "cell_type": "code",
      "source": [
        "# Make and plot predictions for model_3\n",
        "y_preds_3 = model_3.predict(X_test)\n",
        "plot_predictions(predictions=y_preds_3)"
      ],
      "metadata": {
        "colab": {
          "base_uri": "https://localhost:8080/",
          "height": 473
        },
        "id": "ZIsTk16G_9Nq",
        "outputId": "432838da-0d2f-4427-996c-39d24f32b9f3"
      },
      "execution_count": null,
      "outputs": [
        {
          "output_type": "stream",
          "name": "stdout",
          "text": [
            "1/1 [==============================] - 0s 61ms/step\n"
          ]
        },
        {
          "output_type": "display_data",
          "data": {
            "text/plain": [
              "<Figure size 1000x700 with 1 Axes>"
            ],
            "image/png": "[encoded data removed]"
          },
          "metadata": {}
        }
      ]
    },
    {
      "cell_type": "markdown",
      "source": [
        "Garip, daha uzun süre antrenman yaptık ama modelimiz daha mı kötü performans gösterdi?\n",
        "\n",
        "Görünüşe göre, modelimiz çok uzun süre antrenman yapmış olabilir ve bu nedenle daha kötü sonuçlarla sonuçlandı (daha sonra eğitimi çok uzun süre önlemenin yollarını göreceğiz)."
      ],
      "metadata": {
        "id": "mdcKpO86AhJp"
      }
    },
    {
      "cell_type": "code",
      "source": [
        "# Calculate model_3 metrics\n",
        "mae_3 = mae(y_test, y_preds_3.squeeze()).numpy()\n",
        "mse_3 = mse(y_test, y_preds_3.squeeze()).numpy()\n",
        "mae_3, mse_3"
      ],
      "metadata": {
        "colab": {
          "base_uri": "https://localhost:8080/"
        },
        "id": "-2UnHqqo_9LT",
        "outputId": "8bcd7315-1540-4341-b653-147f47eebff3"
      },
      "execution_count": null,
      "outputs": [
        {
          "output_type": "execute_result",
          "data": {
            "text/plain": [
              "(67.886116, 4693.04)"
            ]
          },
          "metadata": {},
          "execution_count": 91
        }
      ]
    },
    {
      "cell_type": "markdown",
      "source": [
        "# Sonuçları karşılaştırma\n",
        "\n",
        "Şimdi 3 benzer ama biraz farklı sonuç için sonuçlarımız var, onları karşılaştıralım."
      ],
      "metadata": {
        "id": "xva1xSkzAmtG"
      }
    },
    {
      "cell_type": "markdown",
      "source": [
        "- Deneyler yapılırken küçük başlanır, karmaşıklık git gide arttırılır.\n",
        "- .numpy demediğinde dağınık bir rakam çıkar. Yazdığında sadece rakam çıktısı alırsın.\n",
        "- Deneyler ile ilgili neyin işe yaradığını neyin yaramadığını bilmelisin. Deney sonuçlarını izlemek önemli.\n",
        "- Model2 en iyisi."
      ],
      "metadata": {
        "id": "QdLVBYrJ3UXq"
      }
    },
    {
      "cell_type": "code",
      "source": [
        "model_results = [[\"model_1\", mae_1, mse_1],\n",
        "                 [\"model_2\", mae_2, mse_2],\n",
        "                 [\"model_3\", mae_3, mae_3]]"
      ],
      "metadata": {
        "id": "tDFYbrEi_9Jb"
      },
      "execution_count": null,
      "outputs": []
    },
    {
      "cell_type": "code",
      "source": [
        "import pandas as pd\n",
        "all_results = pd.DataFrame(model_results, columns=[\"model\", \"mae\", \"mse\"])\n",
        "all_results"
      ],
      "metadata": {
        "colab": {
          "base_uri": "https://localhost:8080/",
          "height": 142
        },
        "id": "B8AAJwvj_9G4",
        "outputId": "df673c5b-ee22-4ed9-c1da-4a60fc8ae31a"
      },
      "execution_count": null,
      "outputs": [
        {
          "output_type": "execute_result",
          "data": {
            "text/plain": [
              "     model        mae         mse\n",
              "0  model_1  21.276381  456.114929\n",
              "1  model_2  17.586849  323.804443\n",
              "2  model_3  67.886116   67.886116"
            ],
            "text/html": [
              "\n",
              "  <div id=\"df-62e56a1c-f086-4140-8a14-4014658edf71\" class=\"colab-df-container\">\n",
              "    <div>\n",
              "<style scoped>\n",
              "    .dataframe tbody tr th:only-of-type {\n",
              "        vertical-align: middle;\n",
              "    }\n",
              "\n",
              "    .dataframe tbody tr th {\n",
              "        vertical-align: top;\n",
              "    }\n",
              "\n",
              "    .dataframe thead th {\n",
              "        text-align: right;\n",
              "    }\n",
              "</style>\n",
              "<table border=\"1\" class=\"dataframe\">\n",
              "  <thead>\n",
              "    <tr style=\"text-align: right;\">\n",
              "      <th></th>\n",
              "      <th>model</th>\n",
              "      <th>mae</th>\n",
              "      <th>mse</th>\n",
              "    </tr>\n",
              "  </thead>\n",
              "  <tbody>\n",
              "    <tr>\n",
              "      <th>0</th>\n",
              "      <td>model_1</td>\n",
              "      <td>21.276381</td>\n",
              "      <td>456.114929</td>\n",
              "    </tr>\n",
              "    <tr>\n",
              "      <th>1</th>\n",
              "      <td>model_2</td>\n",
              "      <td>17.586849</td>\n",
              "      <td>323.804443</td>\n",
              "    </tr>\n",
              "    <tr>\n",
              "      <th>2</th>\n",
              "      <td>model_3</td>\n",
              "      <td>67.886116</td>\n",
              "      <td>67.886116</td>\n",
              "    </tr>\n",
              "  </tbody>\n",
              "</table>\n",
              "</div>\n",
              "    <div class=\"colab-df-buttons\">\n",
              "\n",
              "  <div class=\"colab-df-container\">\n",
              "    <button class=\"colab-df-convert\" onclick=\"convertToInteractive('df-62e56a1c-f086-4140-8a14-4014658edf71')\"\n",
              "            title=\"Convert this dataframe to an interactive table.\"\n",
              "            style=\"display:none;\">\n",
              "\n",
              "  <svg xmlns=\"http://www.w3.org/2000/svg\" height=\"24px\" viewBox=\"0 -960 960 960\">\n",
              "    <path d=\"M120-120v-720h720v720H120Zm60-500h600v-160H180v160Zm220 220h160v-160H400v160Zm0 220h160v-160H400v160ZM180-400h160v-160H180v160Zm440 0h160v-160H620v160ZM180-180h160v-160H180v160Zm440 0h160v-160H620v160Z\"/>\n",
              "  </svg>\n",
              "    </button>\n",
              "\n",
              "  <style>\n",
              "    .colab-df-container {\n",
              "      display:flex;\n",
              "      gap: 12px;\n",
              "    }\n",
              "\n",
              "    .colab-df-convert {\n",
              "      background-color: #E8F0FE;\n",
              "      border: none;\n",
              "      border-radius: 50%;\n",
              "      cursor: pointer;\n",
              "      display: none;\n",
              "      fill: #1967D2;\n",
              "      height: 32px;\n",
              "      padding: 0 0 0 0;\n",
              "      width: 32px;\n",
              "    }\n",
              "\n",
              "    .colab-df-convert:hover {\n",
              "      background-color: #E2EBFA;\n",
              "      box-shadow: 0px 1px 2px rgba(60, 64, 67, 0.3), 0px 1px 3px 1px rgba(60, 64, 67, 0.15);\n",
              "      fill: #174EA6;\n",
              "    }\n",
              "\n",
              "    .colab-df-buttons div {\n",
              "      margin-bottom: 4px;\n",
              "    }\n",
              "\n",
              "    [theme=dark] .colab-df-convert {\n",
              "      background-color: #3B4455;\n",
              "      fill: #D2E3FC;\n",
              "    }\n",
              "\n",
              "    [theme=dark] .colab-df-convert:hover {\n",
              "      background-color: #434B5C;\n",
              "      box-shadow: 0px 1px 3px 1px rgba(0, 0, 0, 0.15);\n",
              "      filter: drop-shadow(0px 1px 2px rgba(0, 0, 0, 0.3));\n",
              "      fill: #FFFFFF;\n",
              "    }\n",
              "  </style>\n",
              "\n",
              "    <script>\n",
              "      const buttonEl =\n",
              "        document.querySelector('#df-62e56a1c-f086-4140-8a14-4014658edf71 button.colab-df-convert');\n",
              "      buttonEl.style.display =\n",
              "        google.colab.kernel.accessAllowed ? 'block' : 'none';\n",
              "\n",
              "      async function convertToInteractive(key) {\n",
              "        const element = document.querySelector('#df-62e56a1c-f086-4140-8a14-4014658edf71');\n",
              "        const dataTable =\n",
              "          await google.colab.kernel.invokeFunction('convertToInteractive',\n",
              "                                                    [key], {});\n",
              "        if (!dataTable) return;\n",
              "\n",
              "        const docLinkHtml = 'Like what you see? Visit the ' +\n",
              "          '<a target=\"_blank\" href=https://colab.research.google.com/notebooks/data_table.ipynb>data table notebook</a>'\n",
              "          + ' to learn more about interactive tables.';\n",
              "        element.innerHTML = '';\n",
              "        dataTable['output_type'] = 'display_data';\n",
              "        await google.colab.output.renderOutput(dataTable, element);\n",
              "        const docLink = document.createElement('div');\n",
              "        docLink.innerHTML = docLinkHtml;\n",
              "        element.appendChild(docLink);\n",
              "      }\n",
              "    </script>\n",
              "  </div>\n",
              "\n",
              "\n",
              "<div id=\"df-fccb6624-fac5-4bc8-81e3-1fe807e27b6b\">\n",
              "  <button class=\"colab-df-quickchart\" onclick=\"quickchart('df-fccb6624-fac5-4bc8-81e3-1fe807e27b6b')\"\n",
              "            title=\"Suggest charts\"\n",
              "            style=\"display:none;\">\n",
              "\n",
              "<svg xmlns=\"http://www.w3.org/2000/svg\" height=\"24px\"viewBox=\"0 0 24 24\"\n",
              "     width=\"24px\">\n",
              "    <g>\n",
              "        <path d=\"M19 3H5c-1.1 0-2 .9-2 2v14c0 1.1.9 2 2 2h14c1.1 0 2-.9 2-2V5c0-1.1-.9-2-2-2zM9 17H7v-7h2v7zm4 0h-2V7h2v10zm4 0h-2v-4h2v4z\"/>\n",
              "    </g>\n",
              "</svg>\n",
              "  </button>\n",
              "\n",
              "<style>\n",
              "  .colab-df-quickchart {\n",
              "      --bg-color: #E8F0FE;\n",
              "      --fill-color: #1967D2;\n",
              "      --hover-bg-color: #E2EBFA;\n",
              "      --hover-fill-color: #174EA6;\n",
              "      --disabled-fill-color: #AAA;\n",
              "      --disabled-bg-color: #DDD;\n",
              "  }\n",
              "\n",
              "  [theme=dark] .colab-df-quickchart {\n",
              "      --bg-color: #3B4455;\n",
              "      --fill-color: #D2E3FC;\n",
              "      --hover-bg-color: #434B5C;\n",
              "      --hover-fill-color: #FFFFFF;\n",
              "      --disabled-bg-color: #3B4455;\n",
              "      --disabled-fill-color: #666;\n",
              "  }\n",
              "\n",
              "  .colab-df-quickchart {\n",
              "    background-color: var(--bg-color);\n",
              "    border: none;\n",
              "    border-radius: 50%;\n",
              "    cursor: pointer;\n",
              "    display: none;\n",
              "    fill: var(--fill-color);\n",
              "    height: 32px;\n",
              "    padding: 0;\n",
              "    width: 32px;\n",
              "  }\n",
              "\n",
              "  .colab-df-quickchart:hover {\n",
              "    background-color: var(--hover-bg-color);\n",
              "    box-shadow: 0 1px 2px rgba(60, 64, 67, 0.3), 0 1px 3px 1px rgba(60, 64, 67, 0.15);\n",
              "    fill: var(--button-hover-fill-color);\n",
              "  }\n",
              "\n",
              "  .colab-df-quickchart-complete:disabled,\n",
              "  .colab-df-quickchart-complete:disabled:hover {\n",
              "    background-color: var(--disabled-bg-color);\n",
              "    fill: var(--disabled-fill-color);\n",
              "    box-shadow: none;\n",
              "  }\n",
              "\n",
              "  .colab-df-spinner {\n",
              "    border: 2px solid var(--fill-color);\n",
              "    border-color: transparent;\n",
              "    border-bottom-color: var(--fill-color);\n",
              "    animation:\n",
              "      spin 1s steps(1) infinite;\n",
              "  }\n",
              "\n",
              "  @keyframes spin {\n",
              "    0% {\n",
              "      border-color: transparent;\n",
              "      border-bottom-color: var(--fill-color);\n",
              "      border-left-color: var(--fill-color);\n",
              "    }\n",
              "    20% {\n",
              "      border-color: transparent;\n",
              "      border-left-color: var(--fill-color);\n",
              "      border-top-color: var(--fill-color);\n",
              "    }\n",
              "    30% {\n",
              "      border-color: transparent;\n",
              "      border-left-color: var(--fill-color);\n",
              "      border-top-color: var(--fill-color);\n",
              "      border-right-color: var(--fill-color);\n",
              "    }\n",
              "    40% {\n",
              "      border-color: transparent;\n",
              "      border-right-color: var(--fill-color);\n",
              "      border-top-color: var(--fill-color);\n",
              "    }\n",
              "    60% {\n",
              "      border-color: transparent;\n",
              "      border-right-color: var(--fill-color);\n",
              "    }\n",
              "    80% {\n",
              "      border-color: transparent;\n",
              "      border-right-color: var(--fill-color);\n",
              "      border-bottom-color: var(--fill-color);\n",
              "    }\n",
              "    90% {\n",
              "      border-color: transparent;\n",
              "      border-bottom-color: var(--fill-color);\n",
              "    }\n",
              "  }\n",
              "</style>\n",
              "\n",
              "  <script>\n",
              "    async function quickchart(key) {\n",
              "      const quickchartButtonEl =\n",
              "        document.querySelector('#' + key + ' button');\n",
              "      quickchartButtonEl.disabled = true;  // To prevent multiple clicks.\n",
              "      quickchartButtonEl.classList.add('colab-df-spinner');\n",
              "      try {\n",
              "        const charts = await google.colab.kernel.invokeFunction(\n",
              "            'suggestCharts', [key], {});\n",
              "      } catch (error) {\n",
              "        console.error('Error during call to suggestCharts:', error);\n",
              "      }\n",
              "      quickchartButtonEl.classList.remove('colab-df-spinner');\n",
              "      quickchartButtonEl.classList.add('colab-df-quickchart-complete');\n",
              "    }\n",
              "    (() => {\n",
              "      let quickchartButtonEl =\n",
              "        document.querySelector('#df-fccb6624-fac5-4bc8-81e3-1fe807e27b6b button');\n",
              "      quickchartButtonEl.style.display =\n",
              "        google.colab.kernel.accessAllowed ? 'block' : 'none';\n",
              "    })();\n",
              "  </script>\n",
              "</div>\n",
              "\n",
              "  <div id=\"id_920d87cc-8684-426d-9128-ebf14dbfa290\">\n",
              "    <style>\n",
              "      .colab-df-generate {\n",
              "        background-color: #E8F0FE;\n",
              "        border: none;\n",
              "        border-radius: 50%;\n",
              "        cursor: pointer;\n",
              "        display: none;\n",
              "        fill: #1967D2;\n",
              "        height: 32px;\n",
              "        padding: 0 0 0 0;\n",
              "        width: 32px;\n",
              "      }\n",
              "\n",
              "      .colab-df-generate:hover {\n",
              "        background-color: #E2EBFA;\n",
              "        box-shadow: 0px 1px 2px rgba(60, 64, 67, 0.3), 0px 1px 3px 1px rgba(60, 64, 67, 0.15);\n",
              "        fill: #174EA6;\n",
              "      }\n",
              "\n",
              "      [theme=dark] .colab-df-generate {\n",
              "        background-color: #3B4455;\n",
              "        fill: #D2E3FC;\n",
              "      }\n",
              "\n",
              "      [theme=dark] .colab-df-generate:hover {\n",
              "        background-color: #434B5C;\n",
              "        box-shadow: 0px 1px 3px 1px rgba(0, 0, 0, 0.15);\n",
              "        filter: drop-shadow(0px 1px 2px rgba(0, 0, 0, 0.3));\n",
              "        fill: #FFFFFF;\n",
              "      }\n",
              "    </style>\n",
              "    <button class=\"colab-df-generate\" onclick=\"generateWithVariable('all_results')\"\n",
              "            title=\"Generate code using this dataframe.\"\n",
              "            style=\"display:none;\">\n",
              "\n",
              "  <svg xmlns=\"http://www.w3.org/2000/svg\" height=\"24px\"viewBox=\"0 0 24 24\"\n",
              "       width=\"24px\">\n",
              "    <path d=\"M7,19H8.4L18.45,9,17,7.55,7,17.6ZM5,21V16.75L18.45,3.32a2,2,0,0,1,2.83,0l1.4,1.43a1.91,1.91,0,0,1,.58,1.4,1.91,1.91,0,0,1-.58,1.4L9.25,21ZM18.45,9,17,7.55Zm-12,3A5.31,5.31,0,0,0,4.9,8.1,5.31,5.31,0,0,0,1,6.5,5.31,5.31,0,0,0,4.9,4.9,5.31,5.31,0,0,0,6.5,1,5.31,5.31,0,0,0,8.1,4.9,5.31,5.31,0,0,0,12,6.5,5.46,5.46,0,0,0,6.5,12Z\"/>\n",
              "  </svg>\n",
              "    </button>\n",
              "    <script>\n",
              "      (() => {\n",
              "      const buttonEl =\n",
              "        document.querySelector('#id_920d87cc-8684-426d-9128-ebf14dbfa290 button.colab-df-generate');\n",
              "      buttonEl.style.display =\n",
              "        google.colab.kernel.accessAllowed ? 'block' : 'none';\n",
              "\n",
              "      buttonEl.onclick = () => {\n",
              "        google.colab.notebook.generateWithVariable('all_results');\n",
              "      }\n",
              "      })();\n",
              "    </script>\n",
              "  </div>\n",
              "\n",
              "    </div>\n",
              "  </div>\n"
            ],
            "application/vnd.google.colaboratory.intrinsic+json": {
              "type": "dataframe",
              "variable_name": "all_results",
              "summary": "{\n  \"name\": \"all_results\",\n  \"rows\": 3,\n  \"fields\": [\n    {\n      \"column\": \"model\",\n      \"properties\": {\n        \"dtype\": \"string\",\n        \"num_unique_values\": 3,\n        \"samples\": [\n          \"model_1\",\n          \"model_2\",\n          \"model_3\"\n        ],\n        \"semantic_type\": \"\",\n        \"description\": \"\"\n      }\n    },\n    {\n      \"column\": \"mae\",\n      \"properties\": {\n        \"dtype\": \"float32\",\n        \"num_unique_values\": 3,\n        \"samples\": [\n          21.27638053894043,\n          17.586849212646484,\n          67.88611602783203\n        ],\n        \"semantic_type\": \"\",\n        \"description\": \"\"\n      }\n    },\n    {\n      \"column\": \"mse\",\n      \"properties\": {\n        \"dtype\": \"float32\",\n        \"num_unique_values\": 3,\n        \"samples\": [\n          456.11492919921875,\n          323.804443359375,\n          67.88611602783203\n        ],\n        \"semantic_type\": \"\",\n        \"description\": \"\"\n      }\n    }\n  ]\n}"
            }
          },
          "metadata": {},
          "execution_count": 93
        }
      ]
    },
    {
      "cell_type": "markdown",
      "source": [
        "Deneylerimizden, model_2 en iyi performansı göstermiş gibi görünüyor.\n",
        "\n",
        "Ve şimdi, \"vay canına, modelleri karşılaştırmak sıkıcı...\" diye düşünüyor olabilirsiniz ve kesinlikle olabilir, burada sadece 3 modeli karşılaştırdık.\n",
        "\n",
        "Ancak bu, birçok farklı model kombinasyonunu denemek ve hangisinin en iyi performansı gösterdiğini görmek, makine öğrenimi modellemenin neyle ilgili olduğunun bir parçasıdır.\n",
        "\n",
        "Oluşturduğunuz her model küçük bir deneydir.\n",
        "\n",
        "🔑 Not: Ana hedeflerinizden biri, deneyleriniz arasındaki süreyi en aza indirmek olmalıdır. Ne kadar çok deney yaparsanız, işe yaramayan şeyleri o kadar çok anlarsınız ve sırayla neyin işe yaradığını anlamaya daha da yaklaşırsınız. Makine öğrenimi uygulayıcısının sloganını hatırlayın: \"deney, deney, deney\".\n",
        "\n",
        "Bulacağınız başka bir şey de, işe yarayabileceğini düşündüğünüz şeyin (bir modeli daha uzun süre eğitmek gibi) her zaman işe yaramayabileceğidir ve tam tersi de genellikle böyledir."
      ],
      "metadata": {
        "id": "OYQz0SnYAxQm"
      }
    },
    {
      "cell_type": "markdown",
      "source": [
        "# Deneylerinizi takip etmek\n",
        "\n",
        "Hangisinin diğerlerinden daha iyi performans gösterdiğini görmek için gerçekten iyi bir alışkanlık, modelleme deneylerinizi takip etmektir.\n",
        "\n",
        "Yukarıdakinin basit bir versiyonunu yaptık (sonuçları farklı değişkenlerde tutarak).\n",
        "\n",
        "📖 Kaynak: Ancak daha fazla model oluşturdukça, aşağıdakiler gibi araçları kullanmaya bakmak isteyeceksiniz:\n",
        "\n",
        "- TensorBoard - modelleme deneylerini izlemeye yardımcı olmak için TensorFlow kitaplığının bir bileşeni (bunu daha sonra göreceğiz).\n",
        "- Ağırlıklar ve Önyargılar - her türlü makine öğrenimi deneyini izlemek için bir araç (Ağırlıklar ve Önyargılar için iyi haber, TensorBoard'a takılmasıdır).\n",
        "\n",
        "https://tensorboard.dev/\n",
        "\n",
        "https://wandb.ai/site/"
      ],
      "metadata": {
        "id": "EGSKYxC4A3rB"
      }
    },
    {
      "cell_type": "markdown",
      "source": [
        "# Bir modeli kaydetmek\n",
        "\n",
        "Bir modeli eğittikten ve beğeninize göre performans gösteren bir model bulduktan sonra, muhtemelen başka bir yerde (bir web uygulaması veya mobil cihaz gibi) kullanmak üzere kaydetmek isteyeceksiniz.\n",
        "\n",
        "Model.save() kullanarak bir TensorFlow/Keras modelini kaydedebilirsiniz.\n",
        "\n",
        "Bir modeli TensorFlow'da kaydetmenin iki yolu vardır:\n",
        "\n",
        "SavedModel formatı (varsayılan).\n",
        "\n",
        "HDF5 formatı.\n",
        "\n",
        "İkisi arasındaki temel fark, SavedModel'in modeli tekrar yüklerken ek değişiklikler yapmadan özel nesneleri (özel katmanlar gibi) otomatik olarak kaydedebilmesidir.\n",
        "\n",
        "Hangisini kullanmalısınız?\n",
        "\n",
        "Durumunuza bağlı, ancak SavedModel formatı çoğu zaman yeterli olacaktır.\n",
        "\n",
        "Her iki yöntem de aynı yöntem çağrısını kullanır.\n",
        "\n",
        "https://www.tensorflow.org/tutorials/keras/save_and_load?hl=tr#savedmodel_format\n",
        "\n",
        "https://www.tensorflow.org/tutorials/keras/save_and_load?hl=tr#hdf5_format"
      ],
      "metadata": {
        "id": "IMI_XxbyBI-F"
      }
    },
    {
      "cell_type": "markdown",
      "source": [
        "Kaydedilen modeller dosya sekmesinde görünür.\n",
        "\n",
        "Optimize edicinin durumu, eğitime tam olarak kaldığınız yerden devam etmenize olanak tanır."
      ],
      "metadata": {
        "id": "-1MXRDzD51Je"
      }
    },
    {
      "cell_type": "code",
      "source": [
        "# Save a model using the SavedModel format\n",
        "model_2.save('best_model_SavedModel_format')"
      ],
      "metadata": {
        "id": "f-9bj0xOBZcQ"
      },
      "execution_count": null,
      "outputs": []
    },
    {
      "cell_type": "code",
      "source": [
        "# Check it out - outputs a protobuf binary file (.pb) as well as other files\n",
        "!ls best_model_SavedModel_format"
      ],
      "metadata": {
        "colab": {
          "base_uri": "https://localhost:8080/"
        },
        "id": "ejKWUlbbBZZJ",
        "outputId": "8ae0ae23-fd85-4a3e-f788-eef9c2290645"
      },
      "execution_count": null,
      "outputs": [
        {
          "output_type": "stream",
          "name": "stdout",
          "text": [
            "assets\tfingerprint.pb\tkeras_metadata.pb  saved_model.pb  variables\n"
          ]
        }
      ]
    },
    {
      "cell_type": "markdown",
      "source": [
        "Şimdi modeli HDF5 formatında kaydedelim, aynı yöntemi ancak farklı bir dosya adıyla kullanacağız."
      ],
      "metadata": {
        "id": "Kll-xZ1PBhY0"
      }
    },
    {
      "cell_type": "code",
      "source": [
        "# Save a model using the HDF5 format\n",
        "model_2.save(\"best_model_HDF5_format.h5\") # note the addition of '.h5' on the end"
      ],
      "metadata": {
        "colab": {
          "base_uri": "https://localhost:8080/"
        },
        "id": "ZyS87gZ1BZWd",
        "outputId": "00922ef2-2a04-40f7-d6af-40cebfe79920"
      },
      "execution_count": null,
      "outputs": [
        {
          "output_type": "stream",
          "name": "stderr",
          "text": [
            "/usr/local/lib/python3.10/dist-packages/keras/src/engine/training.py:3103: UserWarning: You are saving your model as an HDF5 file via `model.save()`. This file format is considered legacy. We recommend using instead the native Keras format, e.g. `model.save('my_model.keras')`.\n",
            "  saving_api.save_model(\n"
          ]
        }
      ]
    },
    {
      "cell_type": "code",
      "source": [
        "# Check it out\n",
        "!ls best_model_HDF5_format.h5"
      ],
      "metadata": {
        "colab": {
          "base_uri": "https://localhost:8080/"
        },
        "id": "bYbdca72BZTo",
        "outputId": "225c95b8-bcfa-4539-9051-c54b7fedf9bb"
      },
      "execution_count": null,
      "outputs": [
        {
          "output_type": "stream",
          "name": "stdout",
          "text": [
            "best_model_HDF5_format.h5\n"
          ]
        }
      ]
    },
    {
      "cell_type": "markdown",
      "source": [
        "hdf5 --> Büyük miktarda veriyi depolamak ve düzenlemek için tasarlanmış kullanım."
      ],
      "metadata": {
        "id": "valjpH1w6Xdk"
      }
    },
    {
      "cell_type": "markdown",
      "source": [
        "# Bir model yükleniyor\n",
        "\n",
        "Load_model() yöntemini kullanarak kaydedilmiş bir modeli yükleyebiliriz.\n",
        "\n",
        "Farklı biçimler (SavedModel ve HDF5) için bir model yüklemek aynıdır (belirli formatların yol adları doğru olduğu sürece)."
      ],
      "metadata": {
        "id": "2rK-eAh8BvFI"
      }
    },
    {
      "cell_type": "markdown",
      "source": [
        "Daha önce yüklediğin modelin yolunu kopyalayarak tırnak işareti içinde yapıştır."
      ],
      "metadata": {
        "id": "MN86KHpr6xyf"
      }
    },
    {
      "cell_type": "code",
      "source": [
        "# Load a model from the SavedModel format\n",
        "loaded_saved_model = tf.keras.models.load_model(\"best_model_SavedModel_format\")\n",
        "loaded_saved_model.summary()"
      ],
      "metadata": {
        "colab": {
          "base_uri": "https://localhost:8080/"
        },
        "id": "krBauAcCBpVI",
        "outputId": "7eba2bd3-831a-459d-c9d1-88020145136c"
      },
      "execution_count": null,
      "outputs": [
        {
          "output_type": "stream",
          "name": "stdout",
          "text": [
            "Model: \"sequential_11\"\n",
            "_________________________________________________________________\n",
            " Layer (type)                Output Shape              Param #   \n",
            "=================================================================\n",
            " dense_17 (Dense)            (None, 1)                 2         \n",
            "                                                                 \n",
            " dense_18 (Dense)            (None, 1)                 2         \n",
            "                                                                 \n",
            "=================================================================\n",
            "Total params: 4 (16.00 Byte)\n",
            "Trainable params: 4 (16.00 Byte)\n",
            "Non-trainable params: 0 (0.00 Byte)\n",
            "_________________________________________________________________\n"
          ]
        }
      ]
    },
    {
      "cell_type": "code",
      "source": [
        "# Compare model_2 with the SavedModel version (should return True)\n",
        "model_2_preds = model_2.predict(X_test)\n",
        "saved_model_preds = loaded_saved_model.predict(X_test)\n",
        "mae(y_test, saved_model_preds.squeeze()).numpy() == mae(y_test, model_2_preds.squeeze()).numpy()"
      ],
      "metadata": {
        "colab": {
          "base_uri": "https://localhost:8080/"
        },
        "id": "_u8ECHs_BpTZ",
        "outputId": "63303bee-b804-4119-dbae-ddd2f4cd3c42"
      },
      "execution_count": null,
      "outputs": [
        {
          "output_type": "stream",
          "name": "stdout",
          "text": [
            "1/1 [==============================] - 0s 35ms/step\n",
            "1/1 [==============================] - 0s 49ms/step\n"
          ]
        },
        {
          "output_type": "execute_result",
          "data": {
            "text/plain": [
              "True"
            ]
          },
          "metadata": {},
          "execution_count": 99
        }
      ]
    },
    {
      "cell_type": "markdown",
      "source": [
        "HDF5'ten yükleme hemen hemen aynı."
      ],
      "metadata": {
        "id": "vusviz9gB8Oh"
      }
    },
    {
      "cell_type": "code",
      "source": [
        "# Load a model from the HDF5 format\n",
        "loaded_h5_model = tf.keras.models.load_model(\"best_model_HDF5_format.h5\")\n",
        "loaded_h5_model.summary()"
      ],
      "metadata": {
        "colab": {
          "base_uri": "https://localhost:8080/"
        },
        "id": "V7SrQ97cBpQd",
        "outputId": "0b4e87b3-ba98-4b2b-8180-81a44e18120b"
      },
      "execution_count": null,
      "outputs": [
        {
          "output_type": "stream",
          "name": "stdout",
          "text": [
            "Model: \"sequential_11\"\n",
            "_________________________________________________________________\n",
            " Layer (type)                Output Shape              Param #   \n",
            "=================================================================\n",
            " dense_17 (Dense)            (None, 1)                 2         \n",
            "                                                                 \n",
            " dense_18 (Dense)            (None, 1)                 2         \n",
            "                                                                 \n",
            "=================================================================\n",
            "Total params: 4 (16.00 Byte)\n",
            "Trainable params: 4 (16.00 Byte)\n",
            "Non-trainable params: 0 (0.00 Byte)\n",
            "_________________________________________________________________\n"
          ]
        }
      ]
    },
    {
      "cell_type": "code",
      "source": [
        "# Compare model_2 with the loaded HDF5 version (should return True)\n",
        "h5_model_preds = loaded_h5_model.predict(X_test)\n",
        "mae(y_test, h5_model_preds.squeeze()).numpy() == mae(y_test, model_2_preds.squeeze()).numpy()"
      ],
      "metadata": {
        "colab": {
          "base_uri": "https://localhost:8080/"
        },
        "id": "K69aFwafBpOX",
        "outputId": "117a2b5d-214d-48b2-e874-dba10c9766ce"
      },
      "execution_count": null,
      "outputs": [
        {
          "output_type": "stream",
          "name": "stdout",
          "text": [
            "1/1 [==============================] - 0s 114ms/step\n"
          ]
        },
        {
          "output_type": "execute_result",
          "data": {
            "text/plain": [
              "True"
            ]
          },
          "metadata": {},
          "execution_count": 101
        }
      ]
    },
    {
      "cell_type": "markdown",
      "source": [
        "# Bir model indirme (Google Colab'dan)\n",
        "\n",
        "Modelinizi Google Colab'dan yerel makinenize almak istediğinizi varsayın, aşağıdaki şeylerden birini yapabilirsiniz:\n",
        "\n",
        "Dosyalar bölmesindeki dosyaya sağ tıklayın ve 'indir'e tıklayın.\n",
        "\n",
        "Aşağıdaki kodu kullanın."
      ],
      "metadata": {
        "id": "IWDKqlGVCMGa"
      }
    },
    {
      "cell_type": "code",
      "source": [
        "# Download the model (or any file) from Google Colab\n",
        "from google.colab import files\n",
        "files.download(\"best_model_HDF5_format.h5\")"
      ],
      "metadata": {
        "colab": {
          "base_uri": "https://localhost:8080/",
          "height": 17
        },
        "id": "OFudIyBsBpLw",
        "outputId": "0e811e77-66d1-4225-b86a-92215909e8e0"
      },
      "execution_count": null,
      "outputs": [
        {
          "output_type": "display_data",
          "data": {
            "text/plain": [
              "<IPython.core.display.Javascript object>"
            ],
            "application/javascript": [
              "\n",
              "    async function download(id, filename, size) {\n",
              "      if (!google.colab.kernel.accessAllowed) {\n",
              "        return;\n",
              "      }\n",
              "      const div = document.createElement('div');\n",
              "      const label = document.createElement('label');\n",
              "      label.textContent = `Downloading \"${filename}\": `;\n",
              "      div.appendChild(label);\n",
              "      const progress = document.createElement('progress');\n",
              "      progress.max = size;\n",
              "      div.appendChild(progress);\n",
              "      document.body.appendChild(div);\n",
              "\n",
              "      const buffers = [];\n",
              "      let downloaded = 0;\n",
              "\n",
              "      const channel = await google.colab.kernel.comms.open(id);\n",
              "      // Send a message to notify the kernel that we're ready.\n",
              "      channel.send({})\n",
              "\n",
              "      for await (const message of channel.messages) {\n",
              "        // Send a message to notify the kernel that we're ready.\n",
              "        channel.send({})\n",
              "        if (message.buffers) {\n",
              "          for (const buffer of message.buffers) {\n",
              "            buffers.push(buffer);\n",
              "            downloaded += buffer.byteLength;\n",
              "            progress.value = downloaded;\n",
              "          }\n",
              "        }\n",
              "      }\n",
              "      const blob = new Blob(buffers, {type: 'application/binary'});\n",
              "      const a = document.createElement('a');\n",
              "      a.href = window.URL.createObjectURL(blob);\n",
              "      a.download = filename;\n",
              "      div.appendChild(a);\n",
              "      a.click();\n",
              "      div.remove();\n",
              "    }\n",
              "  "
            ]
          },
          "metadata": {}
        },
        {
          "output_type": "display_data",
          "data": {
            "text/plain": [
              "<IPython.core.display.Javascript object>"
            ],
            "application/javascript": [
              "download(\"download_0d960ee7-3920-4683-b0f4-ae0185d3be9d\", \"best_model_HDF5_format.h5\", 21952)"
            ]
          },
          "metadata": {}
        }
      ]
    },
    {
      "cell_type": "markdown",
      "source": [
        "# Daha büyük bir örnek\n",
        "\n",
        "Pekala, TensorFlow'da sinir ağı regresyon modelleri oluşturmanın temellerini gördük.\n",
        "\n",
        "Bir çentik yükseltelim ve daha fazla özellik açısından zengin bir veri kümesi için bir model oluşturalım.\n",
        "\n",
        "Daha spesifik olarak, yaş, cinsiyet, bmi, çocuklar, sigara içme durumu ve konut_bölgesi gibi bir dizi farklı parametreye dayanarak bireyler için sağlık sigortasının maliyetini tahmin etmeye çalışacağız.\n",
        "\n",
        "Bunu yapmak için, Kaggle'da bulunan ve GitHub'da barındırılan kamuya açık olarak mevcut Tıbbi Maliyet veri kümesinden yararlanacağız.\n",
        "\n",
        "🔑 Not: Makine öğrenimi paradigmalarını öğrenirken, genellikle bir dizi temel teknikten geçer ve ardından açık kaynaklı veri kümeleri ve örneklerle çalışarak bunları uygularsınız. Tıpkı şimdi yaptığımız gibi, temelleri öğrenin, onları farklı problemlerle çalıştırın. Yeni bir şey üzerinde her çalıştığınızda, probleminizin yerine X yerine \"Python/TensorFlow ile X problemi örneği\" gibi bir şey aramak iyi bir fikirdir.\n",
        "\n",
        "https://www.kaggle.com/datasets/mirichoi0218/insurance\n",
        "\n",
        "https://github.com/stedy/Machine-Learning-with-R-datasets/blob/master/insurance.csv"
      ],
      "metadata": {
        "id": "CiAc8uVCCZWE"
      }
    },
    {
      "cell_type": "code",
      "source": [
        "# Import required libraries\n",
        "import tensorflow as tf\n",
        "import pandas as pd\n",
        "import matplotlib.pyplot as plt"
      ],
      "metadata": {
        "id": "uwFQImniBpHG"
      },
      "execution_count": null,
      "outputs": []
    },
    {
      "cell_type": "code",
      "source": [
        "# Read in the insurance dataset\n",
        "insurance = pd.read_csv(\"https://raw.githubusercontent.com/stedy/Machine-Learning-with-R-datasets/master/insurance.csv\")"
      ],
      "metadata": {
        "id": "Hzap1SlxCqKW"
      },
      "execution_count": null,
      "outputs": []
    },
    {
      "cell_type": "code",
      "source": [
        "# Check out the insurance dataset\n",
        "insurance.head()"
      ],
      "metadata": {
        "colab": {
          "base_uri": "https://localhost:8080/",
          "height": 204
        },
        "id": "Sm6Xe4jhCp8h",
        "outputId": "8fac5841-8813-44b2-a397-17d84adb2670"
      },
      "execution_count": null,
      "outputs": [
        {
          "output_type": "execute_result",
          "data": {
            "text/plain": [
              "   age     sex     bmi  children smoker     region      charges\n",
              "0   19  female  27.900         0    yes  southwest  16884.92400\n",
              "1   18    male  33.770         1     no  southeast   1725.55230\n",
              "2   28    male  33.000         3     no  southeast   4449.46200\n",
              "3   33    male  22.705         0     no  northwest  21984.47061\n",
              "4   32    male  28.880         0     no  northwest   3866.85520"
            ],
            "text/html": [
              "\n",
              "  <div id=\"df-23cc137c-d8d9-4648-909e-4248488167f1\" class=\"colab-df-container\">\n",
              "    <div>\n",
              "<style scoped>\n",
              "    .dataframe tbody tr th:only-of-type {\n",
              "        vertical-align: middle;\n",
              "    }\n",
              "\n",
              "    .dataframe tbody tr th {\n",
              "        vertical-align: top;\n",
              "    }\n",
              "\n",
              "    .dataframe thead th {\n",
              "        text-align: right;\n",
              "    }\n",
              "</style>\n",
              "<table border=\"1\" class=\"dataframe\">\n",
              "  <thead>\n",
              "    <tr style=\"text-align: right;\">\n",
              "      <th></th>\n",
              "      <th>age</th>\n",
              "      <th>sex</th>\n",
              "      <th>bmi</th>\n",
              "      <th>children</th>\n",
              "      <th>smoker</th>\n",
              "      <th>region</th>\n",
              "      <th>charges</th>\n",
              "    </tr>\n",
              "  </thead>\n",
              "  <tbody>\n",
              "    <tr>\n",
              "      <th>0</th>\n",
              "      <td>19</td>\n",
              "      <td>female</td>\n",
              "      <td>27.900</td>\n",
              "      <td>0</td>\n",
              "      <td>yes</td>\n",
              "      <td>southwest</td>\n",
              "      <td>16884.92400</td>\n",
              "    </tr>\n",
              "    <tr>\n",
              "      <th>1</th>\n",
              "      <td>18</td>\n",
              "      <td>male</td>\n",
              "      <td>33.770</td>\n",
              "      <td>1</td>\n",
              "      <td>no</td>\n",
              "      <td>southeast</td>\n",
              "      <td>1725.55230</td>\n",
              "    </tr>\n",
              "    <tr>\n",
              "      <th>2</th>\n",
              "      <td>28</td>\n",
              "      <td>male</td>\n",
              "      <td>33.000</td>\n",
              "      <td>3</td>\n",
              "      <td>no</td>\n",
              "      <td>southeast</td>\n",
              "      <td>4449.46200</td>\n",
              "    </tr>\n",
              "    <tr>\n",
              "      <th>3</th>\n",
              "      <td>33</td>\n",
              "      <td>male</td>\n",
              "      <td>22.705</td>\n",
              "      <td>0</td>\n",
              "      <td>no</td>\n",
              "      <td>northwest</td>\n",
              "      <td>21984.47061</td>\n",
              "    </tr>\n",
              "    <tr>\n",
              "      <th>4</th>\n",
              "      <td>32</td>\n",
              "      <td>male</td>\n",
              "      <td>28.880</td>\n",
              "      <td>0</td>\n",
              "      <td>no</td>\n",
              "      <td>northwest</td>\n",
              "      <td>3866.85520</td>\n",
              "    </tr>\n",
              "  </tbody>\n",
              "</table>\n",
              "</div>\n",
              "    <div class=\"colab-df-buttons\">\n",
              "\n",
              "  <div class=\"colab-df-container\">\n",
              "    <button class=\"colab-df-convert\" onclick=\"convertToInteractive('df-23cc137c-d8d9-4648-909e-4248488167f1')\"\n",
              "            title=\"Convert this dataframe to an interactive table.\"\n",
              "            style=\"display:none;\">\n",
              "\n",
              "  <svg xmlns=\"http://www.w3.org/2000/svg\" height=\"24px\" viewBox=\"0 -960 960 960\">\n",
              "    <path d=\"M120-120v-720h720v720H120Zm60-500h600v-160H180v160Zm220 220h160v-160H400v160Zm0 220h160v-160H400v160ZM180-400h160v-160H180v160Zm440 0h160v-160H620v160ZM180-180h160v-160H180v160Zm440 0h160v-160H620v160Z\"/>\n",
              "  </svg>\n",
              "    </button>\n",
              "\n",
              "  <style>\n",
              "    .colab-df-container {\n",
              "      display:flex;\n",
              "      gap: 12px;\n",
              "    }\n",
              "\n",
              "    .colab-df-convert {\n",
              "      background-color: #E8F0FE;\n",
              "      border: none;\n",
              "      border-radius: 50%;\n",
              "      cursor: pointer;\n",
              "      display: none;\n",
              "      fill: #1967D2;\n",
              "      height: 32px;\n",
              "      padding: 0 0 0 0;\n",
              "      width: 32px;\n",
              "    }\n",
              "\n",
              "    .colab-df-convert:hover {\n",
              "      background-color: #E2EBFA;\n",
              "      box-shadow: 0px 1px 2px rgba(60, 64, 67, 0.3), 0px 1px 3px 1px rgba(60, 64, 67, 0.15);\n",
              "      fill: #174EA6;\n",
              "    }\n",
              "\n",
              "    .colab-df-buttons div {\n",
              "      margin-bottom: 4px;\n",
              "    }\n",
              "\n",
              "    [theme=dark] .colab-df-convert {\n",
              "      background-color: #3B4455;\n",
              "      fill: #D2E3FC;\n",
              "    }\n",
              "\n",
              "    [theme=dark] .colab-df-convert:hover {\n",
              "      background-color: #434B5C;\n",
              "      box-shadow: 0px 1px 3px 1px rgba(0, 0, 0, 0.15);\n",
              "      filter: drop-shadow(0px 1px 2px rgba(0, 0, 0, 0.3));\n",
              "      fill: #FFFFFF;\n",
              "    }\n",
              "  </style>\n",
              "\n",
              "    <script>\n",
              "      const buttonEl =\n",
              "        document.querySelector('#df-23cc137c-d8d9-4648-909e-4248488167f1 button.colab-df-convert');\n",
              "      buttonEl.style.display =\n",
              "        google.colab.kernel.accessAllowed ? 'block' : 'none';\n",
              "\n",
              "      async function convertToInteractive(key) {\n",
              "        const element = document.querySelector('#df-23cc137c-d8d9-4648-909e-4248488167f1');\n",
              "        const dataTable =\n",
              "          await google.colab.kernel.invokeFunction('convertToInteractive',\n",
              "                                                    [key], {});\n",
              "        if (!dataTable) return;\n",
              "\n",
              "        const docLinkHtml = 'Like what you see? Visit the ' +\n",
              "          '<a target=\"_blank\" href=https://colab.research.google.com/notebooks/data_table.ipynb>data table notebook</a>'\n",
              "          + ' to learn more about interactive tables.';\n",
              "        element.innerHTML = '';\n",
              "        dataTable['output_type'] = 'display_data';\n",
              "        await google.colab.output.renderOutput(dataTable, element);\n",
              "        const docLink = document.createElement('div');\n",
              "        docLink.innerHTML = docLinkHtml;\n",
              "        element.appendChild(docLink);\n",
              "      }\n",
              "    </script>\n",
              "  </div>\n",
              "\n",
              "\n",
              "<div id=\"df-c54ab427-2223-4cf2-ab11-cd19ad4997d7\">\n",
              "  <button class=\"colab-df-quickchart\" onclick=\"quickchart('df-c54ab427-2223-4cf2-ab11-cd19ad4997d7')\"\n",
              "            title=\"Suggest charts\"\n",
              "            style=\"display:none;\">\n",
              "\n",
              "<svg xmlns=\"http://www.w3.org/2000/svg\" height=\"24px\"viewBox=\"0 0 24 24\"\n",
              "     width=\"24px\">\n",
              "    <g>\n",
              "        <path d=\"M19 3H5c-1.1 0-2 .9-2 2v14c0 1.1.9 2 2 2h14c1.1 0 2-.9 2-2V5c0-1.1-.9-2-2-2zM9 17H7v-7h2v7zm4 0h-2V7h2v10zm4 0h-2v-4h2v4z\"/>\n",
              "    </g>\n",
              "</svg>\n",
              "  </button>\n",
              "\n",
              "<style>\n",
              "  .colab-df-quickchart {\n",
              "      --bg-color: #E8F0FE;\n",
              "      --fill-color: #1967D2;\n",
              "      --hover-bg-color: #E2EBFA;\n",
              "      --hover-fill-color: #174EA6;\n",
              "      --disabled-fill-color: #AAA;\n",
              "      --disabled-bg-color: #DDD;\n",
              "  }\n",
              "\n",
              "  [theme=dark] .colab-df-quickchart {\n",
              "      --bg-color: #3B4455;\n",
              "      --fill-color: #D2E3FC;\n",
              "      --hover-bg-color: #434B5C;\n",
              "      --hover-fill-color: #FFFFFF;\n",
              "      --disabled-bg-color: #3B4455;\n",
              "      --disabled-fill-color: #666;\n",
              "  }\n",
              "\n",
              "  .colab-df-quickchart {\n",
              "    background-color: var(--bg-color);\n",
              "    border: none;\n",
              "    border-radius: 50%;\n",
              "    cursor: pointer;\n",
              "    display: none;\n",
              "    fill: var(--fill-color);\n",
              "    height: 32px;\n",
              "    padding: 0;\n",
              "    width: 32px;\n",
              "  }\n",
              "\n",
              "  .colab-df-quickchart:hover {\n",
              "    background-color: var(--hover-bg-color);\n",
              "    box-shadow: 0 1px 2px rgba(60, 64, 67, 0.3), 0 1px 3px 1px rgba(60, 64, 67, 0.15);\n",
              "    fill: var(--button-hover-fill-color);\n",
              "  }\n",
              "\n",
              "  .colab-df-quickchart-complete:disabled,\n",
              "  .colab-df-quickchart-complete:disabled:hover {\n",
              "    background-color: var(--disabled-bg-color);\n",
              "    fill: var(--disabled-fill-color);\n",
              "    box-shadow: none;\n",
              "  }\n",
              "\n",
              "  .colab-df-spinner {\n",
              "    border: 2px solid var(--fill-color);\n",
              "    border-color: transparent;\n",
              "    border-bottom-color: var(--fill-color);\n",
              "    animation:\n",
              "      spin 1s steps(1) infinite;\n",
              "  }\n",
              "\n",
              "  @keyframes spin {\n",
              "    0% {\n",
              "      border-color: transparent;\n",
              "      border-bottom-color: var(--fill-color);\n",
              "      border-left-color: var(--fill-color);\n",
              "    }\n",
              "    20% {\n",
              "      border-color: transparent;\n",
              "      border-left-color: var(--fill-color);\n",
              "      border-top-color: var(--fill-color);\n",
              "    }\n",
              "    30% {\n",
              "      border-color: transparent;\n",
              "      border-left-color: var(--fill-color);\n",
              "      border-top-color: var(--fill-color);\n",
              "      border-right-color: var(--fill-color);\n",
              "    }\n",
              "    40% {\n",
              "      border-color: transparent;\n",
              "      border-right-color: var(--fill-color);\n",
              "      border-top-color: var(--fill-color);\n",
              "    }\n",
              "    60% {\n",
              "      border-color: transparent;\n",
              "      border-right-color: var(--fill-color);\n",
              "    }\n",
              "    80% {\n",
              "      border-color: transparent;\n",
              "      border-right-color: var(--fill-color);\n",
              "      border-bottom-color: var(--fill-color);\n",
              "    }\n",
              "    90% {\n",
              "      border-color: transparent;\n",
              "      border-bottom-color: var(--fill-color);\n",
              "    }\n",
              "  }\n",
              "</style>\n",
              "\n",
              "  <script>\n",
              "    async function quickchart(key) {\n",
              "      const quickchartButtonEl =\n",
              "        document.querySelector('#' + key + ' button');\n",
              "      quickchartButtonEl.disabled = true;  // To prevent multiple clicks.\n",
              "      quickchartButtonEl.classList.add('colab-df-spinner');\n",
              "      try {\n",
              "        const charts = await google.colab.kernel.invokeFunction(\n",
              "            'suggestCharts', [key], {});\n",
              "      } catch (error) {\n",
              "        console.error('Error during call to suggestCharts:', error);\n",
              "      }\n",
              "      quickchartButtonEl.classList.remove('colab-df-spinner');\n",
              "      quickchartButtonEl.classList.add('colab-df-quickchart-complete');\n",
              "    }\n",
              "    (() => {\n",
              "      let quickchartButtonEl =\n",
              "        document.querySelector('#df-c54ab427-2223-4cf2-ab11-cd19ad4997d7 button');\n",
              "      quickchartButtonEl.style.display =\n",
              "        google.colab.kernel.accessAllowed ? 'block' : 'none';\n",
              "    })();\n",
              "  </script>\n",
              "</div>\n",
              "\n",
              "    </div>\n",
              "  </div>\n"
            ],
            "application/vnd.google.colaboratory.intrinsic+json": {
              "type": "dataframe",
              "variable_name": "insurance",
              "summary": "{\n  \"name\": \"insurance\",\n  \"rows\": 1338,\n  \"fields\": [\n    {\n      \"column\": \"age\",\n      \"properties\": {\n        \"dtype\": \"number\",\n        \"std\": 14,\n        \"min\": 18,\n        \"max\": 64,\n        \"num_unique_values\": 47,\n        \"samples\": [\n          21,\n          45,\n          36\n        ],\n        \"semantic_type\": \"\",\n        \"description\": \"\"\n      }\n    },\n    {\n      \"column\": \"sex\",\n      \"properties\": {\n        \"dtype\": \"category\",\n        \"num_unique_values\": 2,\n        \"samples\": [\n          \"male\",\n          \"female\"\n        ],\n        \"semantic_type\": \"\",\n        \"description\": \"\"\n      }\n    },\n    {\n      \"column\": \"bmi\",\n      \"properties\": {\n        \"dtype\": \"number\",\n        \"std\": 6.098186911679014,\n        \"min\": 15.96,\n        \"max\": 53.13,\n        \"num_unique_values\": 548,\n        \"samples\": [\n          23.18,\n          26.885\n        ],\n        \"semantic_type\": \"\",\n        \"description\": \"\"\n      }\n    },\n    {\n      \"column\": \"children\",\n      \"properties\": {\n        \"dtype\": \"number\",\n        \"std\": 1,\n        \"min\": 0,\n        \"max\": 5,\n        \"num_unique_values\": 6,\n        \"samples\": [\n          0,\n          1\n        ],\n        \"semantic_type\": \"\",\n        \"description\": \"\"\n      }\n    },\n    {\n      \"column\": \"smoker\",\n      \"properties\": {\n        \"dtype\": \"category\",\n        \"num_unique_values\": 2,\n        \"samples\": [\n          \"no\",\n          \"yes\"\n        ],\n        \"semantic_type\": \"\",\n        \"description\": \"\"\n      }\n    },\n    {\n      \"column\": \"region\",\n      \"properties\": {\n        \"dtype\": \"category\",\n        \"num_unique_values\": 4,\n        \"samples\": [\n          \"southeast\",\n          \"northeast\"\n        ],\n        \"semantic_type\": \"\",\n        \"description\": \"\"\n      }\n    },\n    {\n      \"column\": \"charges\",\n      \"properties\": {\n        \"dtype\": \"number\",\n        \"std\": 12110.011236694001,\n        \"min\": 1121.8739,\n        \"max\": 63770.42801,\n        \"num_unique_values\": 1337,\n        \"samples\": [\n          8688.85885,\n          5708.867\n        ],\n        \"semantic_type\": \"\",\n        \"description\": \"\"\n      }\n    }\n  ]\n}"
            }
          },
          "metadata": {},
          "execution_count": 105
        }
      ]
    },
    {
      "cell_type": "markdown",
      "source": [
        "Sayısal olmayan sütunları sayılara dönüştürmek zorunda kalacağız (çünkü bir sinir ağı -sayısal olmayan girdileri işleyemez).\n",
        "\n",
        "Bunu yapmak için, pandalarda get_dummies() yöntemini kullanacağız.\n",
        "\n",
        "Kategorik değişkenleri (cinsiyet, sigara içen ve bölge sütunları gibi) one-hot kodlaması kullanarak sayısal değişkenlere dönüştürür."
      ],
      "metadata": {
        "id": "ADCJe6R4C9Nn"
      }
    },
    {
      "cell_type": "markdown",
      "source": [
        "Kategorik değerleri sayısal değerlere dönüştürmek için one_hot yöntemi kullanılır."
      ],
      "metadata": {
        "id": "Y8SkwAgj5PWw"
      }
    },
    {
      "cell_type": "code",
      "source": [
        "# Turn all categories into numbers\n",
        "insurance_one_hot = pd.get_dummies(insurance)\n",
        "insurance_one_hot.head() # view the converted columns"
      ],
      "metadata": {
        "colab": {
          "base_uri": "https://localhost:8080/",
          "height": 224
        },
        "id": "qUVPlfoTCp59",
        "outputId": "d87e6832-b97d-422a-80d8-a6fae79c3b98"
      },
      "execution_count": null,
      "outputs": [
        {
          "output_type": "execute_result",
          "data": {
            "text/plain": [
              "   age     bmi  children      charges  sex_female  sex_male  smoker_no  \\\n",
              "0   19  27.900         0  16884.92400           1         0          0   \n",
              "1   18  33.770         1   1725.55230           0         1          1   \n",
              "2   28  33.000         3   4449.46200           0         1          1   \n",
              "3   33  22.705         0  21984.47061           0         1          1   \n",
              "4   32  28.880         0   3866.85520           0         1          1   \n",
              "\n",
              "   smoker_yes  region_northeast  region_northwest  region_southeast  \\\n",
              "0           1                 0                 0                 0   \n",
              "1           0                 0                 0                 1   \n",
              "2           0                 0                 0                 1   \n",
              "3           0                 0                 1                 0   \n",
              "4           0                 0                 1                 0   \n",
              "\n",
              "   region_southwest  \n",
              "0                 1  \n",
              "1                 0  \n",
              "2                 0  \n",
              "3                 0  \n",
              "4                 0  "
            ],
            "text/html": [
              "\n",
              "  <div id=\"df-e8fd1b3b-1aa5-4497-9b19-2e02dcd99174\" class=\"colab-df-container\">\n",
              "    <div>\n",
              "<style scoped>\n",
              "    .dataframe tbody tr th:only-of-type {\n",
              "        vertical-align: middle;\n",
              "    }\n",
              "\n",
              "    .dataframe tbody tr th {\n",
              "        vertical-align: top;\n",
              "    }\n",
              "\n",
              "    .dataframe thead th {\n",
              "        text-align: right;\n",
              "    }\n",
              "</style>\n",
              "<table border=\"1\" class=\"dataframe\">\n",
              "  <thead>\n",
              "    <tr style=\"text-align: right;\">\n",
              "      <th></th>\n",
              "      <th>age</th>\n",
              "      <th>bmi</th>\n",
              "      <th>children</th>\n",
              "      <th>charges</th>\n",
              "      <th>sex_female</th>\n",
              "      <th>sex_male</th>\n",
              "      <th>smoker_no</th>\n",
              "      <th>smoker_yes</th>\n",
              "      <th>region_northeast</th>\n",
              "      <th>region_northwest</th>\n",
              "      <th>region_southeast</th>\n",
              "      <th>region_southwest</th>\n",
              "    </tr>\n",
              "  </thead>\n",
              "  <tbody>\n",
              "    <tr>\n",
              "      <th>0</th>\n",
              "      <td>19</td>\n",
              "      <td>27.900</td>\n",
              "      <td>0</td>\n",
              "      <td>16884.92400</td>\n",
              "      <td>1</td>\n",
              "      <td>0</td>\n",
              "      <td>0</td>\n",
              "      <td>1</td>\n",
              "      <td>0</td>\n",
              "      <td>0</td>\n",
              "      <td>0</td>\n",
              "      <td>1</td>\n",
              "    </tr>\n",
              "    <tr>\n",
              "      <th>1</th>\n",
              "      <td>18</td>\n",
              "      <td>33.770</td>\n",
              "      <td>1</td>\n",
              "      <td>1725.55230</td>\n",
              "      <td>0</td>\n",
              "      <td>1</td>\n",
              "      <td>1</td>\n",
              "      <td>0</td>\n",
              "      <td>0</td>\n",
              "      <td>0</td>\n",
              "      <td>1</td>\n",
              "      <td>0</td>\n",
              "    </tr>\n",
              "    <tr>\n",
              "      <th>2</th>\n",
              "      <td>28</td>\n",
              "      <td>33.000</td>\n",
              "      <td>3</td>\n",
              "      <td>4449.46200</td>\n",
              "      <td>0</td>\n",
              "      <td>1</td>\n",
              "      <td>1</td>\n",
              "      <td>0</td>\n",
              "      <td>0</td>\n",
              "      <td>0</td>\n",
              "      <td>1</td>\n",
              "      <td>0</td>\n",
              "    </tr>\n",
              "    <tr>\n",
              "      <th>3</th>\n",
              "      <td>33</td>\n",
              "      <td>22.705</td>\n",
              "      <td>0</td>\n",
              "      <td>21984.47061</td>\n",
              "      <td>0</td>\n",
              "      <td>1</td>\n",
              "      <td>1</td>\n",
              "      <td>0</td>\n",
              "      <td>0</td>\n",
              "      <td>1</td>\n",
              "      <td>0</td>\n",
              "      <td>0</td>\n",
              "    </tr>\n",
              "    <tr>\n",
              "      <th>4</th>\n",
              "      <td>32</td>\n",
              "      <td>28.880</td>\n",
              "      <td>0</td>\n",
              "      <td>3866.85520</td>\n",
              "      <td>0</td>\n",
              "      <td>1</td>\n",
              "      <td>1</td>\n",
              "      <td>0</td>\n",
              "      <td>0</td>\n",
              "      <td>1</td>\n",
              "      <td>0</td>\n",
              "      <td>0</td>\n",
              "    </tr>\n",
              "  </tbody>\n",
              "</table>\n",
              "</div>\n",
              "    <div class=\"colab-df-buttons\">\n",
              "\n",
              "  <div class=\"colab-df-container\">\n",
              "    <button class=\"colab-df-convert\" onclick=\"convertToInteractive('df-e8fd1b3b-1aa5-4497-9b19-2e02dcd99174')\"\n",
              "            title=\"Convert this dataframe to an interactive table.\"\n",
              "            style=\"display:none;\">\n",
              "\n",
              "  <svg xmlns=\"http://www.w3.org/2000/svg\" height=\"24px\" viewBox=\"0 -960 960 960\">\n",
              "    <path d=\"M120-120v-720h720v720H120Zm60-500h600v-160H180v160Zm220 220h160v-160H400v160Zm0 220h160v-160H400v160ZM180-400h160v-160H180v160Zm440 0h160v-160H620v160ZM180-180h160v-160H180v160Zm440 0h160v-160H620v160Z\"/>\n",
              "  </svg>\n",
              "    </button>\n",
              "\n",
              "  <style>\n",
              "    .colab-df-container {\n",
              "      display:flex;\n",
              "      gap: 12px;\n",
              "    }\n",
              "\n",
              "    .colab-df-convert {\n",
              "      background-color: #E8F0FE;\n",
              "      border: none;\n",
              "      border-radius: 50%;\n",
              "      cursor: pointer;\n",
              "      display: none;\n",
              "      fill: #1967D2;\n",
              "      height: 32px;\n",
              "      padding: 0 0 0 0;\n",
              "      width: 32px;\n",
              "    }\n",
              "\n",
              "    .colab-df-convert:hover {\n",
              "      background-color: #E2EBFA;\n",
              "      box-shadow: 0px 1px 2px rgba(60, 64, 67, 0.3), 0px 1px 3px 1px rgba(60, 64, 67, 0.15);\n",
              "      fill: #174EA6;\n",
              "    }\n",
              "\n",
              "    .colab-df-buttons div {\n",
              "      margin-bottom: 4px;\n",
              "    }\n",
              "\n",
              "    [theme=dark] .colab-df-convert {\n",
              "      background-color: #3B4455;\n",
              "      fill: #D2E3FC;\n",
              "    }\n",
              "\n",
              "    [theme=dark] .colab-df-convert:hover {\n",
              "      background-color: #434B5C;\n",
              "      box-shadow: 0px 1px 3px 1px rgba(0, 0, 0, 0.15);\n",
              "      filter: drop-shadow(0px 1px 2px rgba(0, 0, 0, 0.3));\n",
              "      fill: #FFFFFF;\n",
              "    }\n",
              "  </style>\n",
              "\n",
              "    <script>\n",
              "      const buttonEl =\n",
              "        document.querySelector('#df-e8fd1b3b-1aa5-4497-9b19-2e02dcd99174 button.colab-df-convert');\n",
              "      buttonEl.style.display =\n",
              "        google.colab.kernel.accessAllowed ? 'block' : 'none';\n",
              "\n",
              "      async function convertToInteractive(key) {\n",
              "        const element = document.querySelector('#df-e8fd1b3b-1aa5-4497-9b19-2e02dcd99174');\n",
              "        const dataTable =\n",
              "          await google.colab.kernel.invokeFunction('convertToInteractive',\n",
              "                                                    [key], {});\n",
              "        if (!dataTable) return;\n",
              "\n",
              "        const docLinkHtml = 'Like what you see? Visit the ' +\n",
              "          '<a target=\"_blank\" href=https://colab.research.google.com/notebooks/data_table.ipynb>data table notebook</a>'\n",
              "          + ' to learn more about interactive tables.';\n",
              "        element.innerHTML = '';\n",
              "        dataTable['output_type'] = 'display_data';\n",
              "        await google.colab.output.renderOutput(dataTable, element);\n",
              "        const docLink = document.createElement('div');\n",
              "        docLink.innerHTML = docLinkHtml;\n",
              "        element.appendChild(docLink);\n",
              "      }\n",
              "    </script>\n",
              "  </div>\n",
              "\n",
              "\n",
              "<div id=\"df-483b6388-826f-4fca-bccf-2b8c5ee50f48\">\n",
              "  <button class=\"colab-df-quickchart\" onclick=\"quickchart('df-483b6388-826f-4fca-bccf-2b8c5ee50f48')\"\n",
              "            title=\"Suggest charts\"\n",
              "            style=\"display:none;\">\n",
              "\n",
              "<svg xmlns=\"http://www.w3.org/2000/svg\" height=\"24px\"viewBox=\"0 0 24 24\"\n",
              "     width=\"24px\">\n",
              "    <g>\n",
              "        <path d=\"M19 3H5c-1.1 0-2 .9-2 2v14c0 1.1.9 2 2 2h14c1.1 0 2-.9 2-2V5c0-1.1-.9-2-2-2zM9 17H7v-7h2v7zm4 0h-2V7h2v10zm4 0h-2v-4h2v4z\"/>\n",
              "    </g>\n",
              "</svg>\n",
              "  </button>\n",
              "\n",
              "<style>\n",
              "  .colab-df-quickchart {\n",
              "      --bg-color: #E8F0FE;\n",
              "      --fill-color: #1967D2;\n",
              "      --hover-bg-color: #E2EBFA;\n",
              "      --hover-fill-color: #174EA6;\n",
              "      --disabled-fill-color: #AAA;\n",
              "      --disabled-bg-color: #DDD;\n",
              "  }\n",
              "\n",
              "  [theme=dark] .colab-df-quickchart {\n",
              "      --bg-color: #3B4455;\n",
              "      --fill-color: #D2E3FC;\n",
              "      --hover-bg-color: #434B5C;\n",
              "      --hover-fill-color: #FFFFFF;\n",
              "      --disabled-bg-color: #3B4455;\n",
              "      --disabled-fill-color: #666;\n",
              "  }\n",
              "\n",
              "  .colab-df-quickchart {\n",
              "    background-color: var(--bg-color);\n",
              "    border: none;\n",
              "    border-radius: 50%;\n",
              "    cursor: pointer;\n",
              "    display: none;\n",
              "    fill: var(--fill-color);\n",
              "    height: 32px;\n",
              "    padding: 0;\n",
              "    width: 32px;\n",
              "  }\n",
              "\n",
              "  .colab-df-quickchart:hover {\n",
              "    background-color: var(--hover-bg-color);\n",
              "    box-shadow: 0 1px 2px rgba(60, 64, 67, 0.3), 0 1px 3px 1px rgba(60, 64, 67, 0.15);\n",
              "    fill: var(--button-hover-fill-color);\n",
              "  }\n",
              "\n",
              "  .colab-df-quickchart-complete:disabled,\n",
              "  .colab-df-quickchart-complete:disabled:hover {\n",
              "    background-color: var(--disabled-bg-color);\n",
              "    fill: var(--disabled-fill-color);\n",
              "    box-shadow: none;\n",
              "  }\n",
              "\n",
              "  .colab-df-spinner {\n",
              "    border: 2px solid var(--fill-color);\n",
              "    border-color: transparent;\n",
              "    border-bottom-color: var(--fill-color);\n",
              "    animation:\n",
              "      spin 1s steps(1) infinite;\n",
              "  }\n",
              "\n",
              "  @keyframes spin {\n",
              "    0% {\n",
              "      border-color: transparent;\n",
              "      border-bottom-color: var(--fill-color);\n",
              "      border-left-color: var(--fill-color);\n",
              "    }\n",
              "    20% {\n",
              "      border-color: transparent;\n",
              "      border-left-color: var(--fill-color);\n",
              "      border-top-color: var(--fill-color);\n",
              "    }\n",
              "    30% {\n",
              "      border-color: transparent;\n",
              "      border-left-color: var(--fill-color);\n",
              "      border-top-color: var(--fill-color);\n",
              "      border-right-color: var(--fill-color);\n",
              "    }\n",
              "    40% {\n",
              "      border-color: transparent;\n",
              "      border-right-color: var(--fill-color);\n",
              "      border-top-color: var(--fill-color);\n",
              "    }\n",
              "    60% {\n",
              "      border-color: transparent;\n",
              "      border-right-color: var(--fill-color);\n",
              "    }\n",
              "    80% {\n",
              "      border-color: transparent;\n",
              "      border-right-color: var(--fill-color);\n",
              "      border-bottom-color: var(--fill-color);\n",
              "    }\n",
              "    90% {\n",
              "      border-color: transparent;\n",
              "      border-bottom-color: var(--fill-color);\n",
              "    }\n",
              "  }\n",
              "</style>\n",
              "\n",
              "  <script>\n",
              "    async function quickchart(key) {\n",
              "      const quickchartButtonEl =\n",
              "        document.querySelector('#' + key + ' button');\n",
              "      quickchartButtonEl.disabled = true;  // To prevent multiple clicks.\n",
              "      quickchartButtonEl.classList.add('colab-df-spinner');\n",
              "      try {\n",
              "        const charts = await google.colab.kernel.invokeFunction(\n",
              "            'suggestCharts', [key], {});\n",
              "      } catch (error) {\n",
              "        console.error('Error during call to suggestCharts:', error);\n",
              "      }\n",
              "      quickchartButtonEl.classList.remove('colab-df-spinner');\n",
              "      quickchartButtonEl.classList.add('colab-df-quickchart-complete');\n",
              "    }\n",
              "    (() => {\n",
              "      let quickchartButtonEl =\n",
              "        document.querySelector('#df-483b6388-826f-4fca-bccf-2b8c5ee50f48 button');\n",
              "      quickchartButtonEl.style.display =\n",
              "        google.colab.kernel.accessAllowed ? 'block' : 'none';\n",
              "    })();\n",
              "  </script>\n",
              "</div>\n",
              "\n",
              "    </div>\n",
              "  </div>\n"
            ],
            "application/vnd.google.colaboratory.intrinsic+json": {
              "type": "dataframe",
              "variable_name": "insurance_one_hot",
              "summary": "{\n  \"name\": \"insurance_one_hot\",\n  \"rows\": 1338,\n  \"fields\": [\n    {\n      \"column\": \"age\",\n      \"properties\": {\n        \"dtype\": \"number\",\n        \"std\": 14,\n        \"min\": 18,\n        \"max\": 64,\n        \"num_unique_values\": 47,\n        \"samples\": [\n          21,\n          45,\n          36\n        ],\n        \"semantic_type\": \"\",\n        \"description\": \"\"\n      }\n    },\n    {\n      \"column\": \"bmi\",\n      \"properties\": {\n        \"dtype\": \"number\",\n        \"std\": 6.098186911679014,\n        \"min\": 15.96,\n        \"max\": 53.13,\n        \"num_unique_values\": 548,\n        \"samples\": [\n          23.18,\n          26.885,\n          29.26\n        ],\n        \"semantic_type\": \"\",\n        \"description\": \"\"\n      }\n    },\n    {\n      \"column\": \"children\",\n      \"properties\": {\n        \"dtype\": \"number\",\n        \"std\": 1,\n        \"min\": 0,\n        \"max\": 5,\n        \"num_unique_values\": 6,\n        \"samples\": [\n          0,\n          1,\n          4\n        ],\n        \"semantic_type\": \"\",\n        \"description\": \"\"\n      }\n    },\n    {\n      \"column\": \"charges\",\n      \"properties\": {\n        \"dtype\": \"number\",\n        \"std\": 12110.011236694001,\n        \"min\": 1121.8739,\n        \"max\": 63770.42801,\n        \"num_unique_values\": 1337,\n        \"samples\": [\n          8688.85885,\n          5708.867,\n          11436.73815\n        ],\n        \"semantic_type\": \"\",\n        \"description\": \"\"\n      }\n    },\n    {\n      \"column\": \"sex_female\",\n      \"properties\": {\n        \"dtype\": \"uint8\",\n        \"num_unique_values\": 2,\n        \"samples\": [\n          0,\n          1\n        ],\n        \"semantic_type\": \"\",\n        \"description\": \"\"\n      }\n    },\n    {\n      \"column\": \"sex_male\",\n      \"properties\": {\n        \"dtype\": \"uint8\",\n        \"num_unique_values\": 2,\n        \"samples\": [\n          1,\n          0\n        ],\n        \"semantic_type\": \"\",\n        \"description\": \"\"\n      }\n    },\n    {\n      \"column\": \"smoker_no\",\n      \"properties\": {\n        \"dtype\": \"uint8\",\n        \"num_unique_values\": 2,\n        \"samples\": [\n          1,\n          0\n        ],\n        \"semantic_type\": \"\",\n        \"description\": \"\"\n      }\n    },\n    {\n      \"column\": \"smoker_yes\",\n      \"properties\": {\n        \"dtype\": \"uint8\",\n        \"num_unique_values\": 2,\n        \"samples\": [\n          0,\n          1\n        ],\n        \"semantic_type\": \"\",\n        \"description\": \"\"\n      }\n    },\n    {\n      \"column\": \"region_northeast\",\n      \"properties\": {\n        \"dtype\": \"uint8\",\n        \"num_unique_values\": 2,\n        \"samples\": [\n          1,\n          0\n        ],\n        \"semantic_type\": \"\",\n        \"description\": \"\"\n      }\n    },\n    {\n      \"column\": \"region_northwest\",\n      \"properties\": {\n        \"dtype\": \"uint8\",\n        \"num_unique_values\": 2,\n        \"samples\": [\n          1,\n          0\n        ],\n        \"semantic_type\": \"\",\n        \"description\": \"\"\n      }\n    },\n    {\n      \"column\": \"region_southeast\",\n      \"properties\": {\n        \"dtype\": \"uint8\",\n        \"num_unique_values\": 2,\n        \"samples\": [\n          1,\n          0\n        ],\n        \"semantic_type\": \"\",\n        \"description\": \"\"\n      }\n    },\n    {\n      \"column\": \"region_southwest\",\n      \"properties\": {\n        \"dtype\": \"uint8\",\n        \"num_unique_values\": 2,\n        \"samples\": [\n          0,\n          1\n        ],\n        \"semantic_type\": \"\",\n        \"description\": \"\"\n      }\n    }\n  ]\n}"
            }
          },
          "metadata": {},
          "execution_count": 106
        }
      ]
    },
    {
      "cell_type": "markdown",
      "source": [
        "Şimdi verileri özelliklere (X) ve etiketlere (y) böleceğiz."
      ],
      "metadata": {
        "id": "a2M5yKuJDDtR"
      }
    },
    {
      "cell_type": "markdown",
      "source": [],
      "metadata": {
        "id": "F_t1k8yQ79Or"
      }
    },
    {
      "cell_type": "code",
      "source": [
        "# Make X & y values\n",
        "X = insurance_one_hot.drop(\"charges\", axis=1)\n",
        "y = insurance_one_hot[\"charges\"]"
      ],
      "metadata": {
        "id": "EQbqx2BaCp3n"
      },
      "execution_count": null,
      "outputs": []
    },
    {
      "cell_type": "code",
      "source": [
        "# View features\n",
        "X.head()"
      ],
      "metadata": {
        "colab": {
          "base_uri": "https://localhost:8080/",
          "height": 224
        },
        "id": "dxduG9IrCp0d",
        "outputId": "0d0f133a-c5c0-481d-93c6-5de84c7b13db"
      },
      "execution_count": null,
      "outputs": [
        {
          "output_type": "execute_result",
          "data": {
            "text/plain": [
              "   age     bmi  children  sex_female  sex_male  smoker_no  smoker_yes  \\\n",
              "0   19  27.900         0           1         0          0           1   \n",
              "1   18  33.770         1           0         1          1           0   \n",
              "2   28  33.000         3           0         1          1           0   \n",
              "3   33  22.705         0           0         1          1           0   \n",
              "4   32  28.880         0           0         1          1           0   \n",
              "\n",
              "   region_northeast  region_northwest  region_southeast  region_southwest  \n",
              "0                 0                 0                 0                 1  \n",
              "1                 0                 0                 1                 0  \n",
              "2                 0                 0                 1                 0  \n",
              "3                 0                 1                 0                 0  \n",
              "4                 0                 1                 0                 0  "
            ],
            "text/html": [
              "\n",
              "  <div id=\"df-ad6cea9c-7839-4c7a-9e75-332a66defe0b\" class=\"colab-df-container\">\n",
              "    <div>\n",
              "<style scoped>\n",
              "    .dataframe tbody tr th:only-of-type {\n",
              "        vertical-align: middle;\n",
              "    }\n",
              "\n",
              "    .dataframe tbody tr th {\n",
              "        vertical-align: top;\n",
              "    }\n",
              "\n",
              "    .dataframe thead th {\n",
              "        text-align: right;\n",
              "    }\n",
              "</style>\n",
              "<table border=\"1\" class=\"dataframe\">\n",
              "  <thead>\n",
              "    <tr style=\"text-align: right;\">\n",
              "      <th></th>\n",
              "      <th>age</th>\n",
              "      <th>bmi</th>\n",
              "      <th>children</th>\n",
              "      <th>sex_female</th>\n",
              "      <th>sex_male</th>\n",
              "      <th>smoker_no</th>\n",
              "      <th>smoker_yes</th>\n",
              "      <th>region_northeast</th>\n",
              "      <th>region_northwest</th>\n",
              "      <th>region_southeast</th>\n",
              "      <th>region_southwest</th>\n",
              "    </tr>\n",
              "  </thead>\n",
              "  <tbody>\n",
              "    <tr>\n",
              "      <th>0</th>\n",
              "      <td>19</td>\n",
              "      <td>27.900</td>\n",
              "      <td>0</td>\n",
              "      <td>1</td>\n",
              "      <td>0</td>\n",
              "      <td>0</td>\n",
              "      <td>1</td>\n",
              "      <td>0</td>\n",
              "      <td>0</td>\n",
              "      <td>0</td>\n",
              "      <td>1</td>\n",
              "    </tr>\n",
              "    <tr>\n",
              "      <th>1</th>\n",
              "      <td>18</td>\n",
              "      <td>33.770</td>\n",
              "      <td>1</td>\n",
              "      <td>0</td>\n",
              "      <td>1</td>\n",
              "      <td>1</td>\n",
              "      <td>0</td>\n",
              "      <td>0</td>\n",
              "      <td>0</td>\n",
              "      <td>1</td>\n",
              "      <td>0</td>\n",
              "    </tr>\n",
              "    <tr>\n",
              "      <th>2</th>\n",
              "      <td>28</td>\n",
              "      <td>33.000</td>\n",
              "      <td>3</td>\n",
              "      <td>0</td>\n",
              "      <td>1</td>\n",
              "      <td>1</td>\n",
              "      <td>0</td>\n",
              "      <td>0</td>\n",
              "      <td>0</td>\n",
              "      <td>1</td>\n",
              "      <td>0</td>\n",
              "    </tr>\n",
              "    <tr>\n",
              "      <th>3</th>\n",
              "      <td>33</td>\n",
              "      <td>22.705</td>\n",
              "      <td>0</td>\n",
              "      <td>0</td>\n",
              "      <td>1</td>\n",
              "      <td>1</td>\n",
              "      <td>0</td>\n",
              "      <td>0</td>\n",
              "      <td>1</td>\n",
              "      <td>0</td>\n",
              "      <td>0</td>\n",
              "    </tr>\n",
              "    <tr>\n",
              "      <th>4</th>\n",
              "      <td>32</td>\n",
              "      <td>28.880</td>\n",
              "      <td>0</td>\n",
              "      <td>0</td>\n",
              "      <td>1</td>\n",
              "      <td>1</td>\n",
              "      <td>0</td>\n",
              "      <td>0</td>\n",
              "      <td>1</td>\n",
              "      <td>0</td>\n",
              "      <td>0</td>\n",
              "    </tr>\n",
              "  </tbody>\n",
              "</table>\n",
              "</div>\n",
              "    <div class=\"colab-df-buttons\">\n",
              "\n",
              "  <div class=\"colab-df-container\">\n",
              "    <button class=\"colab-df-convert\" onclick=\"convertToInteractive('df-ad6cea9c-7839-4c7a-9e75-332a66defe0b')\"\n",
              "            title=\"Convert this dataframe to an interactive table.\"\n",
              "            style=\"display:none;\">\n",
              "\n",
              "  <svg xmlns=\"http://www.w3.org/2000/svg\" height=\"24px\" viewBox=\"0 -960 960 960\">\n",
              "    <path d=\"M120-120v-720h720v720H120Zm60-500h600v-160H180v160Zm220 220h160v-160H400v160Zm0 220h160v-160H400v160ZM180-400h160v-160H180v160Zm440 0h160v-160H620v160ZM180-180h160v-160H180v160Zm440 0h160v-160H620v160Z\"/>\n",
              "  </svg>\n",
              "    </button>\n",
              "\n",
              "  <style>\n",
              "    .colab-df-container {\n",
              "      display:flex;\n",
              "      gap: 12px;\n",
              "    }\n",
              "\n",
              "    .colab-df-convert {\n",
              "      background-color: #E8F0FE;\n",
              "      border: none;\n",
              "      border-radius: 50%;\n",
              "      cursor: pointer;\n",
              "      display: none;\n",
              "      fill: #1967D2;\n",
              "      height: 32px;\n",
              "      padding: 0 0 0 0;\n",
              "      width: 32px;\n",
              "    }\n",
              "\n",
              "    .colab-df-convert:hover {\n",
              "      background-color: #E2EBFA;\n",
              "      box-shadow: 0px 1px 2px rgba(60, 64, 67, 0.3), 0px 1px 3px 1px rgba(60, 64, 67, 0.15);\n",
              "      fill: #174EA6;\n",
              "    }\n",
              "\n",
              "    .colab-df-buttons div {\n",
              "      margin-bottom: 4px;\n",
              "    }\n",
              "\n",
              "    [theme=dark] .colab-df-convert {\n",
              "      background-color: #3B4455;\n",
              "      fill: #D2E3FC;\n",
              "    }\n",
              "\n",
              "    [theme=dark] .colab-df-convert:hover {\n",
              "      background-color: #434B5C;\n",
              "      box-shadow: 0px 1px 3px 1px rgba(0, 0, 0, 0.15);\n",
              "      filter: drop-shadow(0px 1px 2px rgba(0, 0, 0, 0.3));\n",
              "      fill: #FFFFFF;\n",
              "    }\n",
              "  </style>\n",
              "\n",
              "    <script>\n",
              "      const buttonEl =\n",
              "        document.querySelector('#df-ad6cea9c-7839-4c7a-9e75-332a66defe0b button.colab-df-convert');\n",
              "      buttonEl.style.display =\n",
              "        google.colab.kernel.accessAllowed ? 'block' : 'none';\n",
              "\n",
              "      async function convertToInteractive(key) {\n",
              "        const element = document.querySelector('#df-ad6cea9c-7839-4c7a-9e75-332a66defe0b');\n",
              "        const dataTable =\n",
              "          await google.colab.kernel.invokeFunction('convertToInteractive',\n",
              "                                                    [key], {});\n",
              "        if (!dataTable) return;\n",
              "\n",
              "        const docLinkHtml = 'Like what you see? Visit the ' +\n",
              "          '<a target=\"_blank\" href=https://colab.research.google.com/notebooks/data_table.ipynb>data table notebook</a>'\n",
              "          + ' to learn more about interactive tables.';\n",
              "        element.innerHTML = '';\n",
              "        dataTable['output_type'] = 'display_data';\n",
              "        await google.colab.output.renderOutput(dataTable, element);\n",
              "        const docLink = document.createElement('div');\n",
              "        docLink.innerHTML = docLinkHtml;\n",
              "        element.appendChild(docLink);\n",
              "      }\n",
              "    </script>\n",
              "  </div>\n",
              "\n",
              "\n",
              "<div id=\"df-aa028f5d-f61a-4aa7-bcb6-9d0d226dfbea\">\n",
              "  <button class=\"colab-df-quickchart\" onclick=\"quickchart('df-aa028f5d-f61a-4aa7-bcb6-9d0d226dfbea')\"\n",
              "            title=\"Suggest charts\"\n",
              "            style=\"display:none;\">\n",
              "\n",
              "<svg xmlns=\"http://www.w3.org/2000/svg\" height=\"24px\"viewBox=\"0 0 24 24\"\n",
              "     width=\"24px\">\n",
              "    <g>\n",
              "        <path d=\"M19 3H5c-1.1 0-2 .9-2 2v14c0 1.1.9 2 2 2h14c1.1 0 2-.9 2-2V5c0-1.1-.9-2-2-2zM9 17H7v-7h2v7zm4 0h-2V7h2v10zm4 0h-2v-4h2v4z\"/>\n",
              "    </g>\n",
              "</svg>\n",
              "  </button>\n",
              "\n",
              "<style>\n",
              "  .colab-df-quickchart {\n",
              "      --bg-color: #E8F0FE;\n",
              "      --fill-color: #1967D2;\n",
              "      --hover-bg-color: #E2EBFA;\n",
              "      --hover-fill-color: #174EA6;\n",
              "      --disabled-fill-color: #AAA;\n",
              "      --disabled-bg-color: #DDD;\n",
              "  }\n",
              "\n",
              "  [theme=dark] .colab-df-quickchart {\n",
              "      --bg-color: #3B4455;\n",
              "      --fill-color: #D2E3FC;\n",
              "      --hover-bg-color: #434B5C;\n",
              "      --hover-fill-color: #FFFFFF;\n",
              "      --disabled-bg-color: #3B4455;\n",
              "      --disabled-fill-color: #666;\n",
              "  }\n",
              "\n",
              "  .colab-df-quickchart {\n",
              "    background-color: var(--bg-color);\n",
              "    border: none;\n",
              "    border-radius: 50%;\n",
              "    cursor: pointer;\n",
              "    display: none;\n",
              "    fill: var(--fill-color);\n",
              "    height: 32px;\n",
              "    padding: 0;\n",
              "    width: 32px;\n",
              "  }\n",
              "\n",
              "  .colab-df-quickchart:hover {\n",
              "    background-color: var(--hover-bg-color);\n",
              "    box-shadow: 0 1px 2px rgba(60, 64, 67, 0.3), 0 1px 3px 1px rgba(60, 64, 67, 0.15);\n",
              "    fill: var(--button-hover-fill-color);\n",
              "  }\n",
              "\n",
              "  .colab-df-quickchart-complete:disabled,\n",
              "  .colab-df-quickchart-complete:disabled:hover {\n",
              "    background-color: var(--disabled-bg-color);\n",
              "    fill: var(--disabled-fill-color);\n",
              "    box-shadow: none;\n",
              "  }\n",
              "\n",
              "  .colab-df-spinner {\n",
              "    border: 2px solid var(--fill-color);\n",
              "    border-color: transparent;\n",
              "    border-bottom-color: var(--fill-color);\n",
              "    animation:\n",
              "      spin 1s steps(1) infinite;\n",
              "  }\n",
              "\n",
              "  @keyframes spin {\n",
              "    0% {\n",
              "      border-color: transparent;\n",
              "      border-bottom-color: var(--fill-color);\n",
              "      border-left-color: var(--fill-color);\n",
              "    }\n",
              "    20% {\n",
              "      border-color: transparent;\n",
              "      border-left-color: var(--fill-color);\n",
              "      border-top-color: var(--fill-color);\n",
              "    }\n",
              "    30% {\n",
              "      border-color: transparent;\n",
              "      border-left-color: var(--fill-color);\n",
              "      border-top-color: var(--fill-color);\n",
              "      border-right-color: var(--fill-color);\n",
              "    }\n",
              "    40% {\n",
              "      border-color: transparent;\n",
              "      border-right-color: var(--fill-color);\n",
              "      border-top-color: var(--fill-color);\n",
              "    }\n",
              "    60% {\n",
              "      border-color: transparent;\n",
              "      border-right-color: var(--fill-color);\n",
              "    }\n",
              "    80% {\n",
              "      border-color: transparent;\n",
              "      border-right-color: var(--fill-color);\n",
              "      border-bottom-color: var(--fill-color);\n",
              "    }\n",
              "    90% {\n",
              "      border-color: transparent;\n",
              "      border-bottom-color: var(--fill-color);\n",
              "    }\n",
              "  }\n",
              "</style>\n",
              "\n",
              "  <script>\n",
              "    async function quickchart(key) {\n",
              "      const quickchartButtonEl =\n",
              "        document.querySelector('#' + key + ' button');\n",
              "      quickchartButtonEl.disabled = true;  // To prevent multiple clicks.\n",
              "      quickchartButtonEl.classList.add('colab-df-spinner');\n",
              "      try {\n",
              "        const charts = await google.colab.kernel.invokeFunction(\n",
              "            'suggestCharts', [key], {});\n",
              "      } catch (error) {\n",
              "        console.error('Error during call to suggestCharts:', error);\n",
              "      }\n",
              "      quickchartButtonEl.classList.remove('colab-df-spinner');\n",
              "      quickchartButtonEl.classList.add('colab-df-quickchart-complete');\n",
              "    }\n",
              "    (() => {\n",
              "      let quickchartButtonEl =\n",
              "        document.querySelector('#df-aa028f5d-f61a-4aa7-bcb6-9d0d226dfbea button');\n",
              "      quickchartButtonEl.style.display =\n",
              "        google.colab.kernel.accessAllowed ? 'block' : 'none';\n",
              "    })();\n",
              "  </script>\n",
              "</div>\n",
              "\n",
              "    </div>\n",
              "  </div>\n"
            ],
            "application/vnd.google.colaboratory.intrinsic+json": {
              "type": "dataframe",
              "variable_name": "X",
              "summary": "{\n  \"name\": \"X\",\n  \"rows\": 1338,\n  \"fields\": [\n    {\n      \"column\": \"age\",\n      \"properties\": {\n        \"dtype\": \"number\",\n        \"std\": 14,\n        \"min\": 18,\n        \"max\": 64,\n        \"num_unique_values\": 47,\n        \"samples\": [\n          21,\n          45,\n          36\n        ],\n        \"semantic_type\": \"\",\n        \"description\": \"\"\n      }\n    },\n    {\n      \"column\": \"bmi\",\n      \"properties\": {\n        \"dtype\": \"number\",\n        \"std\": 6.098186911679014,\n        \"min\": 15.96,\n        \"max\": 53.13,\n        \"num_unique_values\": 548,\n        \"samples\": [\n          23.18,\n          26.885,\n          29.26\n        ],\n        \"semantic_type\": \"\",\n        \"description\": \"\"\n      }\n    },\n    {\n      \"column\": \"children\",\n      \"properties\": {\n        \"dtype\": \"number\",\n        \"std\": 1,\n        \"min\": 0,\n        \"max\": 5,\n        \"num_unique_values\": 6,\n        \"samples\": [\n          0,\n          1,\n          4\n        ],\n        \"semantic_type\": \"\",\n        \"description\": \"\"\n      }\n    },\n    {\n      \"column\": \"sex_female\",\n      \"properties\": {\n        \"dtype\": \"uint8\",\n        \"num_unique_values\": 2,\n        \"samples\": [\n          0,\n          1\n        ],\n        \"semantic_type\": \"\",\n        \"description\": \"\"\n      }\n    },\n    {\n      \"column\": \"sex_male\",\n      \"properties\": {\n        \"dtype\": \"uint8\",\n        \"num_unique_values\": 2,\n        \"samples\": [\n          1,\n          0\n        ],\n        \"semantic_type\": \"\",\n        \"description\": \"\"\n      }\n    },\n    {\n      \"column\": \"smoker_no\",\n      \"properties\": {\n        \"dtype\": \"uint8\",\n        \"num_unique_values\": 2,\n        \"samples\": [\n          1,\n          0\n        ],\n        \"semantic_type\": \"\",\n        \"description\": \"\"\n      }\n    },\n    {\n      \"column\": \"smoker_yes\",\n      \"properties\": {\n        \"dtype\": \"uint8\",\n        \"num_unique_values\": 2,\n        \"samples\": [\n          0,\n          1\n        ],\n        \"semantic_type\": \"\",\n        \"description\": \"\"\n      }\n    },\n    {\n      \"column\": \"region_northeast\",\n      \"properties\": {\n        \"dtype\": \"uint8\",\n        \"num_unique_values\": 2,\n        \"samples\": [\n          1,\n          0\n        ],\n        \"semantic_type\": \"\",\n        \"description\": \"\"\n      }\n    },\n    {\n      \"column\": \"region_northwest\",\n      \"properties\": {\n        \"dtype\": \"uint8\",\n        \"num_unique_values\": 2,\n        \"samples\": [\n          1,\n          0\n        ],\n        \"semantic_type\": \"\",\n        \"description\": \"\"\n      }\n    },\n    {\n      \"column\": \"region_southeast\",\n      \"properties\": {\n        \"dtype\": \"uint8\",\n        \"num_unique_values\": 2,\n        \"samples\": [\n          1,\n          0\n        ],\n        \"semantic_type\": \"\",\n        \"description\": \"\"\n      }\n    },\n    {\n      \"column\": \"region_southwest\",\n      \"properties\": {\n        \"dtype\": \"uint8\",\n        \"num_unique_values\": 2,\n        \"samples\": [\n          0,\n          1\n        ],\n        \"semantic_type\": \"\",\n        \"description\": \"\"\n      }\n    }\n  ]\n}"
            }
          },
          "metadata": {},
          "execution_count": 108
        }
      ]
    },
    {
      "cell_type": "markdown",
      "source": [
        "Ve eğitim ve test setleri oluşturun. Bunu manuel olarak yapabiliriz, ancak kolaylaştırmak için Scikit-Learn'de mevcut olan train_test_split işlevinden yararlanacağız."
      ],
      "metadata": {
        "id": "K8sqfpuODNRh"
      }
    },
    {
      "cell_type": "markdown",
      "source": [
        "* Model seçimi, hatırlama, eğitim ve test seti oluşturmada kullanışlı.\n",
        "* %80 eğitim verileri, %20 test verileri...\n",
        "* Bu koddan sonra X_train dersen sıralamanın rastgele karıştırıldığını görürsün."
      ],
      "metadata": {
        "id": "h805sTrl8g7c"
      }
    },
    {
      "cell_type": "code",
      "source": [
        "# Make training and test sets\n",
        "from sklearn.model_selection import train_test_split\n",
        "X_train, X_test, y_train, y_test = train_test_split(X,\n",
        "                                                    y,\n",
        "                                                    test_size=0.2,\n",
        "                                                    random_state=42) # set random state for reproducible splits\n",
        "\n"
      ],
      "metadata": {
        "id": "iYMsolRGCpxn"
      },
      "execution_count": null,
      "outputs": []
    },
    {
      "cell_type": "markdown",
      "source": [
        "Şimdi bir model oluşturup sığdırabiliriz (model_2 ile aynısını yapacağız)."
      ],
      "metadata": {
        "id": "2pIa3GaDDUXM"
      }
    },
    {
      "cell_type": "code",
      "source": [
        "# Set random seed\n",
        "tf.random.set_seed(42)\n",
        "\n",
        "# Create a new model (same as model_2)\n",
        "insurance_model = tf.keras.Sequential([\n",
        "  tf.keras.layers.Dense(1),\n",
        "  tf.keras.layers.Dense(1)\n",
        "])\n",
        "\n",
        "# Compile the model\n",
        "insurance_model.compile(loss=tf.keras.losses.mae,\n",
        "                        optimizer=tf.keras.optimizers.SGD(),\n",
        "                        metrics=['mae'])\n",
        "\n",
        "# Fit the model\n",
        "insurance_model.fit(X_train, y_train, epochs=100)"
      ],
      "metadata": {
        "colab": {
          "base_uri": "https://localhost:8080/"
        },
        "id": "Kcl5ZBegDV7a",
        "outputId": "c761afce-5a3d-4b77-9105-d3d06b1e87ec"
      },
      "execution_count": null,
      "outputs": [
        {
          "output_type": "stream",
          "name": "stdout",
          "text": [
            "Epoch 1/100\n",
            "34/34 [==============================] - 0s 2ms/step - loss: 8781.4443 - mae: 8781.4443\n",
            "Epoch 2/100\n",
            "34/34 [==============================] - 0s 2ms/step - loss: 7875.4102 - mae: 7875.4102\n",
            "Epoch 3/100\n",
            "34/34 [==============================] - 0s 2ms/step - loss: 7597.8535 - mae: 7597.8535\n",
            "Epoch 4/100\n",
            "34/34 [==============================] - 0s 2ms/step - loss: 7677.7568 - mae: 7677.7568\n",
            "Epoch 5/100\n",
            "34/34 [==============================] - 0s 2ms/step - loss: 7678.0205 - mae: 7678.0205\n",
            "Epoch 6/100\n",
            "34/34 [==============================] - 0s 2ms/step - loss: 7603.2842 - mae: 7603.2842\n",
            "Epoch 7/100\n",
            "34/34 [==============================] - 0s 2ms/step - loss: 7572.8975 - mae: 7572.8975\n",
            "Epoch 8/100\n",
            "34/34 [==============================] - 0s 2ms/step - loss: 7781.7246 - mae: 7781.7246\n",
            "Epoch 9/100\n",
            "34/34 [==============================] - 0s 2ms/step - loss: 7430.0522 - mae: 7430.0522\n",
            "Epoch 10/100\n",
            "34/34 [==============================] - 0s 2ms/step - loss: 7711.3076 - mae: 7711.3076\n",
            "Epoch 11/100\n",
            "34/34 [==============================] - 0s 2ms/step - loss: 7555.7749 - mae: 7555.7749\n",
            "Epoch 12/100\n",
            "34/34 [==============================] - 0s 2ms/step - loss: 7695.1675 - mae: 7695.1675\n",
            "Epoch 13/100\n",
            "34/34 [==============================] - 0s 2ms/step - loss: 7646.5947 - mae: 7646.5947\n",
            "Epoch 14/100\n",
            "34/34 [==============================] - 0s 3ms/step - loss: 7710.4995 - mae: 7710.4995\n",
            "Epoch 15/100\n",
            "34/34 [==============================] - 0s 3ms/step - loss: 7490.7905 - mae: 7490.7905\n",
            "Epoch 16/100\n",
            "34/34 [==============================] - 0s 4ms/step - loss: 7824.1992 - mae: 7824.1992\n",
            "Epoch 17/100\n",
            "34/34 [==============================] - 0s 3ms/step - loss: 7534.3975 - mae: 7534.3975\n",
            "Epoch 18/100\n",
            "34/34 [==============================] - 0s 3ms/step - loss: 7827.1411 - mae: 7827.1411\n",
            "Epoch 19/100\n",
            "34/34 [==============================] - 0s 4ms/step - loss: 7665.0190 - mae: 7665.0190\n",
            "Epoch 20/100\n",
            "34/34 [==============================] - 0s 4ms/step - loss: 7866.6475 - mae: 7866.6475\n",
            "Epoch 21/100\n",
            "34/34 [==============================] - 0s 2ms/step - loss: 7522.0566 - mae: 7522.0566\n",
            "Epoch 22/100\n",
            "34/34 [==============================] - 0s 3ms/step - loss: 7888.4478 - mae: 7888.4478\n",
            "Epoch 23/100\n",
            "34/34 [==============================] - 0s 2ms/step - loss: 7662.6533 - mae: 7662.6533\n",
            "Epoch 24/100\n",
            "34/34 [==============================] - 0s 2ms/step - loss: 7534.0581 - mae: 7534.0581\n",
            "Epoch 25/100\n",
            "34/34 [==============================] - 0s 3ms/step - loss: 7642.8252 - mae: 7642.8252\n",
            "Epoch 26/100\n",
            "34/34 [==============================] - 0s 7ms/step - loss: 7714.1367 - mae: 7714.1367\n",
            "Epoch 27/100\n",
            "34/34 [==============================] - 0s 6ms/step - loss: 7669.3872 - mae: 7669.3872\n",
            "Epoch 28/100\n",
            "34/34 [==============================] - 0s 6ms/step - loss: 7329.0020 - mae: 7329.0020\n",
            "Epoch 29/100\n",
            "34/34 [==============================] - 0s 6ms/step - loss: 7604.7402 - mae: 7604.7402\n",
            "Epoch 30/100\n",
            "34/34 [==============================] - 0s 8ms/step - loss: 7642.0884 - mae: 7642.0884\n",
            "Epoch 31/100\n",
            "34/34 [==============================] - 0s 6ms/step - loss: 7563.0688 - mae: 7563.0688\n",
            "Epoch 32/100\n",
            "34/34 [==============================] - 0s 5ms/step - loss: 7441.9312 - mae: 7441.9312\n",
            "Epoch 33/100\n",
            "34/34 [==============================] - 0s 5ms/step - loss: 7444.1328 - mae: 7444.1328\n",
            "Epoch 34/100\n",
            "34/34 [==============================] - 0s 4ms/step - loss: 7525.2729 - mae: 7525.2729\n",
            "Epoch 35/100\n",
            "34/34 [==============================] - 0s 6ms/step - loss: 7598.8091 - mae: 7598.8091\n",
            "Epoch 36/100\n",
            "34/34 [==============================] - 0s 4ms/step - loss: 7530.0459 - mae: 7530.0459\n",
            "Epoch 37/100\n",
            "34/34 [==============================] - 0s 3ms/step - loss: 7494.6035 - mae: 7494.6035\n",
            "Epoch 38/100\n",
            "34/34 [==============================] - 0s 3ms/step - loss: 7369.9512 - mae: 7369.9512\n",
            "Epoch 39/100\n",
            "34/34 [==============================] - 0s 4ms/step - loss: 7537.8018 - mae: 7537.8018\n",
            "Epoch 40/100\n",
            "34/34 [==============================] - 0s 4ms/step - loss: 7571.1084 - mae: 7571.1084\n",
            "Epoch 41/100\n",
            "34/34 [==============================] - 0s 5ms/step - loss: 7714.3281 - mae: 7714.3281\n",
            "Epoch 42/100\n",
            "34/34 [==============================] - 0s 4ms/step - loss: 7721.4058 - mae: 7721.4058\n",
            "Epoch 43/100\n",
            "34/34 [==============================] - 0s 6ms/step - loss: 7773.2964 - mae: 7773.2964\n",
            "Epoch 44/100\n",
            "34/34 [==============================] - 0s 4ms/step - loss: 7435.5796 - mae: 7435.5796\n",
            "Epoch 45/100\n",
            "34/34 [==============================] - 0s 5ms/step - loss: 7495.9746 - mae: 7495.9746\n",
            "Epoch 46/100\n",
            "34/34 [==============================] - 0s 7ms/step - loss: 7422.3032 - mae: 7422.3032\n",
            "Epoch 47/100\n",
            "34/34 [==============================] - 0s 5ms/step - loss: 7510.8169 - mae: 7510.8169\n",
            "Epoch 48/100\n",
            "34/34 [==============================] - 0s 7ms/step - loss: 7459.5024 - mae: 7459.5024\n",
            "Epoch 49/100\n",
            "34/34 [==============================] - 0s 5ms/step - loss: 7531.0645 - mae: 7531.0645\n",
            "Epoch 50/100\n",
            "34/34 [==============================] - 0s 3ms/step - loss: 7506.4805 - mae: 7506.4805\n",
            "Epoch 51/100\n",
            "34/34 [==============================] - 0s 2ms/step - loss: 7396.6357 - mae: 7396.6357\n",
            "Epoch 52/100\n",
            "34/34 [==============================] - 0s 2ms/step - loss: 7389.2446 - mae: 7389.2446\n",
            "Epoch 53/100\n",
            "34/34 [==============================] - 0s 2ms/step - loss: 7557.7100 - mae: 7557.7100\n",
            "Epoch 54/100\n",
            "34/34 [==============================] - 0s 2ms/step - loss: 7179.9014 - mae: 7179.9014\n",
            "Epoch 55/100\n",
            "34/34 [==============================] - 0s 2ms/step - loss: 7218.2471 - mae: 7218.2471\n",
            "Epoch 56/100\n",
            "34/34 [==============================] - 0s 2ms/step - loss: 7239.6616 - mae: 7239.6616\n",
            "Epoch 57/100\n",
            "34/34 [==============================] - 0s 2ms/step - loss: 7426.5635 - mae: 7426.5635\n",
            "Epoch 58/100\n",
            "34/34 [==============================] - 0s 2ms/step - loss: 7440.9331 - mae: 7440.9331\n",
            "Epoch 59/100\n",
            "34/34 [==============================] - 0s 1ms/step - loss: 7589.3989 - mae: 7589.3989\n",
            "Epoch 60/100\n",
            "34/34 [==============================] - 0s 2ms/step - loss: 7359.1777 - mae: 7359.1777\n",
            "Epoch 61/100\n",
            "34/34 [==============================] - 0s 1ms/step - loss: 7432.0005 - mae: 7432.0005\n",
            "Epoch 62/100\n",
            "34/34 [==============================] - 0s 1ms/step - loss: 7519.8950 - mae: 7519.8950\n",
            "Epoch 63/100\n",
            "34/34 [==============================] - 0s 2ms/step - loss: 7353.2700 - mae: 7353.2700\n",
            "Epoch 64/100\n",
            "34/34 [==============================] - 0s 2ms/step - loss: 7508.5083 - mae: 7508.5083\n",
            "Epoch 65/100\n",
            "34/34 [==============================] - 0s 2ms/step - loss: 7578.9863 - mae: 7578.9863\n",
            "Epoch 66/100\n",
            "34/34 [==============================] - 0s 1ms/step - loss: 7260.5093 - mae: 7260.5093\n",
            "Epoch 67/100\n",
            "34/34 [==============================] - 0s 1ms/step - loss: 7237.7388 - mae: 7237.7388\n",
            "Epoch 68/100\n",
            "34/34 [==============================] - 0s 1ms/step - loss: 7468.1519 - mae: 7468.1519\n",
            "Epoch 69/100\n",
            "34/34 [==============================] - 0s 2ms/step - loss: 7620.2119 - mae: 7620.2119\n",
            "Epoch 70/100\n",
            "34/34 [==============================] - 0s 2ms/step - loss: 7677.1909 - mae: 7677.1909\n",
            "Epoch 71/100\n",
            "34/34 [==============================] - 0s 2ms/step - loss: 7302.8271 - mae: 7302.8271\n",
            "Epoch 72/100\n",
            "34/34 [==============================] - 0s 1ms/step - loss: 7417.8608 - mae: 7417.8608\n",
            "Epoch 73/100\n",
            "34/34 [==============================] - 0s 1ms/step - loss: 7386.3613 - mae: 7386.3613\n",
            "Epoch 74/100\n",
            "34/34 [==============================] - 0s 1ms/step - loss: 7331.0029 - mae: 7331.0029\n",
            "Epoch 75/100\n",
            "34/34 [==============================] - 0s 2ms/step - loss: 7289.6426 - mae: 7289.6426\n",
            "Epoch 76/100\n",
            "34/34 [==============================] - 0s 2ms/step - loss: 7117.8574 - mae: 7117.8574\n",
            "Epoch 77/100\n",
            "34/34 [==============================] - 0s 2ms/step - loss: 7475.2090 - mae: 7475.2090\n",
            "Epoch 78/100\n",
            "34/34 [==============================] - 0s 1ms/step - loss: 7314.1191 - mae: 7314.1191\n",
            "Epoch 79/100\n",
            "34/34 [==============================] - 0s 1ms/step - loss: 7362.9956 - mae: 7362.9956\n",
            "Epoch 80/100\n",
            "34/34 [==============================] - 0s 2ms/step - loss: 7319.3408 - mae: 7319.3408\n",
            "Epoch 81/100\n",
            "34/34 [==============================] - 0s 1ms/step - loss: 7213.1719 - mae: 7213.1719\n",
            "Epoch 82/100\n",
            "34/34 [==============================] - 0s 2ms/step - loss: 7193.8838 - mae: 7193.8838\n",
            "Epoch 83/100\n",
            "34/34 [==============================] - 0s 1ms/step - loss: 7530.5493 - mae: 7530.5493\n",
            "Epoch 84/100\n",
            "34/34 [==============================] - 0s 1ms/step - loss: 7268.6240 - mae: 7268.6240\n",
            "Epoch 85/100\n",
            "34/34 [==============================] - 0s 1ms/step - loss: 7284.6978 - mae: 7284.6978\n",
            "Epoch 86/100\n",
            "34/34 [==============================] - 0s 2ms/step - loss: 7455.3120 - mae: 7455.3120\n",
            "Epoch 87/100\n",
            "34/34 [==============================] - 0s 2ms/step - loss: 7159.7798 - mae: 7159.7798\n",
            "Epoch 88/100\n",
            "34/34 [==============================] - 0s 2ms/step - loss: 7272.1611 - mae: 7272.1611\n",
            "Epoch 89/100\n",
            "34/34 [==============================] - 0s 1ms/step - loss: 7208.2310 - mae: 7208.2310\n",
            "Epoch 90/100\n",
            "34/34 [==============================] - 0s 1ms/step - loss: 7152.6655 - mae: 7152.6655\n",
            "Epoch 91/100\n",
            "34/34 [==============================] - 0s 2ms/step - loss: 7362.2031 - mae: 7362.2031\n",
            "Epoch 92/100\n",
            "34/34 [==============================] - 0s 2ms/step - loss: 7314.7700 - mae: 7314.7700\n",
            "Epoch 93/100\n",
            "34/34 [==============================] - 0s 2ms/step - loss: 7368.7192 - mae: 7368.7192\n",
            "Epoch 94/100\n",
            "34/34 [==============================] - 0s 2ms/step - loss: 7383.5522 - mae: 7383.5522\n",
            "Epoch 95/100\n",
            "34/34 [==============================] - 0s 2ms/step - loss: 7501.9058 - mae: 7501.9058\n",
            "Epoch 96/100\n",
            "34/34 [==============================] - 0s 2ms/step - loss: 7223.0669 - mae: 7223.0669\n",
            "Epoch 97/100\n",
            "34/34 [==============================] - 0s 2ms/step - loss: 7207.5806 - mae: 7207.5806\n",
            "Epoch 98/100\n",
            "34/34 [==============================] - 0s 2ms/step - loss: 7258.0796 - mae: 7258.0796\n",
            "Epoch 99/100\n",
            "34/34 [==============================] - 0s 1ms/step - loss: 6887.8770 - mae: 6887.8770\n",
            "Epoch 100/100\n",
            "34/34 [==============================] - 0s 1ms/step - loss: 7391.1479 - mae: 7391.1479\n"
          ]
        },
        {
          "output_type": "execute_result",
          "data": {
            "text/plain": [
              "<keras.src.callbacks.History at 0x799479d4d810>"
            ]
          },
          "metadata": {},
          "execution_count": 110
        }
      ]
    },
    {
      "cell_type": "code",
      "source": [
        "# Check the results of the insurance model\n",
        "insurance_model.evaluate(X_test, y_test)"
      ],
      "metadata": {
        "colab": {
          "base_uri": "https://localhost:8080/"
        },
        "id": "oUPxKfmgDV4U",
        "outputId": "afe8fdd2-422a-4eeb-eb9c-82f094f90a15"
      },
      "execution_count": null,
      "outputs": [
        {
          "output_type": "stream",
          "name": "stdout",
          "text": [
            "9/9 [==============================] - 0s 2ms/step - loss: 7205.1694 - mae: 7205.1694\n"
          ]
        },
        {
          "output_type": "execute_result",
          "data": {
            "text/plain": [
              "[7205.16943359375, 7205.16943359375]"
            ]
          },
          "metadata": {},
          "execution_count": 111
        }
      ]
    },
    {
      "cell_type": "markdown",
      "source": [
        "Bu ortalama modelin yaklaşık 7000 kadar yanlış olduğunu gösrterdi.\n",
        "\n",
        "y_train.median(), y_train.mean() kontrol et. (9000 küsür, 13000 küsür)"
      ],
      "metadata": {
        "id": "HJj2NhoQ_Y3M"
      }
    },
    {
      "cell_type": "markdown",
      "source": [
        "Modelimiz çok iyi performans göstermedi, daha büyük bir model deneyelim.\n",
        "\n",
        "3 şey deneyeceğiz:\n",
        "- Katman sayısını artırmak (2 -> 3).\n",
        "- Her katmandaki birim sayısını artırmak (çıkış katmanı hariç).\n",
        "- Optimize ediciyi değiştirme (SGD'den Adam'a).\n",
        "\n",
        "Diğer her şey aynı kalacak."
      ],
      "metadata": {
        "id": "ZtawN4iYDhkw"
      }
    },
    {
      "cell_type": "code",
      "source": [
        "# Set random seed\n",
        "tf.random.set_seed(42)\n",
        "\n",
        "# Add an extra layer and increase number of units\n",
        "insurance_model_2 = tf.keras.Sequential([\n",
        "  tf.keras.layers.Dense(100), # 100 units\n",
        "  tf.keras.layers.Dense(10), # 10 units\n",
        "  tf.keras.layers.Dense(1) # 1 unit (important for output layer)\n",
        "])\n",
        "\n",
        "# Compile the model\n",
        "insurance_model_2.compile(loss=tf.keras.losses.mae,\n",
        "                          optimizer=tf.keras.optimizers.Adam(), # Adam works but SGD doesn't\n",
        "                          metrics=['mae'])\n",
        "\n",
        "# Fit the model and save the history (we can plot this)\n",
        "history = insurance_model_2.fit(X_train, y_train, epochs=100, verbose=0)"
      ],
      "metadata": {
        "id": "KVSZ9pGkDV16"
      },
      "execution_count": null,
      "outputs": []
    },
    {
      "cell_type": "markdown",
      "source": [
        "verbose = 1 dersen epoch sayılarını çıktılarını görürsün"
      ],
      "metadata": {
        "id": "bTyj24O0PezN"
      }
    },
    {
      "cell_type": "code",
      "source": [
        "# Evaluate our larger model\n",
        "insurance_model_2.evaluate(X_test, y_test)"
      ],
      "metadata": {
        "colab": {
          "base_uri": "https://localhost:8080/"
        },
        "id": "h6nNfnRbDV0R",
        "outputId": "732818fe-857a-4a44-a0dd-528066ac35fe"
      },
      "execution_count": null,
      "outputs": [
        {
          "output_type": "stream",
          "name": "stdout",
          "text": [
            "9/9 [==============================] - 0s 2ms/step - loss: 4887.4341 - mae: 4887.4341\n"
          ]
        },
        {
          "output_type": "execute_result",
          "data": {
            "text/plain": [
              "[4887.43408203125, 4887.43408203125]"
            ]
          },
          "metadata": {},
          "execution_count": 113
        }
      ]
    },
    {
      "cell_type": "markdown",
      "source": [
        "Çok daha iyi! Daha büyük bir model ve Adam optimize edici kullanmak, önceki modele göre neredeyse yarı hatayla sonuçlanır.\n",
        "\n",
        "🔑 Not: Birçok sorun için, Adam optimizer harika bir başlangıç seçimidir. Daha fazlası için A Recipe for Training Nöral Networks'ten Andrei Karpathy'nin \"Adam güvende\" noktasına bakın.\n",
        "\n",
        "Modelimizin kayıp eğrilerini kontrol edelim, aşağı yönlü bir eğilim görmeliyiz.\n",
        "\n",
        "https://www.tensorflow.org/api_docs/python/tf/keras/optimizers/Adam\n",
        "\n",
        "http://karpathy.github.io/2019/04/25/recipe/\n",
        "\n",
        "http://karpathy.github.io/2019/04/25/recipe/"
      ],
      "metadata": {
        "id": "ET5dXQveD1S-"
      }
    },
    {
      "cell_type": "markdown",
      "source": [
        "Sinir ağını eğitirken, kayıp eğrisinin düşmesi gerekir çünkü modelin yaptığı tahöinlerim giderek daha az yanlış hale geldiğini gösterir. Yani model kaybın muhtemelen azalmaya devam edecek gibidir eğitimi uzatırsan (epoch'u arttırırsan).\n",
        "\n",
        "# Not: internet bağlantısına uzantı yapmak için [kelimeyi yaz](internet adresini yaz)"
      ],
      "metadata": {
        "id": "1dH_BJTHR1_G"
      }
    },
    {
      "cell_type": "code",
      "source": [
        "# Plot history (also known as a loss curve)\n",
        "pd.DataFrame(history.history).plot()\n",
        "plt.ylabel(\"loss\")\n",
        "plt.xlabel(\"epochs\");"
      ],
      "metadata": {
        "colab": {
          "base_uri": "https://localhost:8080/",
          "height": 449
        },
        "id": "C9WNiufaDVwx",
        "outputId": "175288d5-5251-4406-82c5-fb47ba87ba35"
      },
      "execution_count": null,
      "outputs": [
        {
          "output_type": "display_data",
          "data": {
            "text/plain": [
              "<Figure size 640x480 with 1 Axes>"
            ],
            "image/png": "[encoded data removed]"
          },
          "metadata": {}
        }
      ]
    },
    {
      "cell_type": "markdown",
      "source": [
        "Bundan, modelimizin kaybı (ve MAE) hala azalıyor gibi görünüyor (bizim durumumuzda, MAE ve kayıp aynı, dolayısıyla olay örgüsündeki çizgiler birbiriyle örtüşüyor).\n",
        "\n",
        "Bunun bize söylediği şey, daha uzun süre eğitmeye çalışırsak kaybın düşebileceğidir.\n",
        "\n",
        "🤔 Soru: Ne kadar süre antrenman yapmalısın?\n",
        "\n",
        "Hangi sorun üzerinde çalıştığınıza bağlı. Bazen eğitim çok uzun sürmez, bazen beklediğinizden daha uzun sürer. Yaygın bir yöntem, model eğitiminizi çok uzun bir süre (örneğin 1000'lerce dönem) ayarlamaktır, ancak bunu bir EarlyStopping geri araması ile ayarlamaktır, böylece iyileştirmeyi durdurduğunda otomatik olarak durur. Bunu başka bir modülde göreceğiz.\n",
        "\n",
        "Yukarıdakiyle aynı modeli biraz daha eğitelim. Bunu yapabiliriz ama tekrar uygun olduğunu söylemek.\n",
        "\n",
        "https://www.tensorflow.org/api_docs/python/tf/keras/callbacks/EarlyStopping"
      ],
      "metadata": {
        "id": "-_j9s45bEN_M"
      }
    },
    {
      "cell_type": "code",
      "source": [
        "# Try training for a little longer (100 more epochs)\n",
        "history_2 = insurance_model_2.fit(X_train, y_train, epochs=100, verbose=0)"
      ],
      "metadata": {
        "id": "LGc-w6XoEJxK"
      },
      "execution_count": null,
      "outputs": []
    },
    {
      "cell_type": "code",
      "source": [
        "# Evaluate the model trained for 200 total epochs\n",
        "insurance_model_2_loss, insurance_model_2_mae = insurance_model_2.evaluate(X_test, y_test)\n",
        "insurance_model_2_loss, insurance_model_2_mae"
      ],
      "metadata": {
        "colab": {
          "base_uri": "https://localhost:8080/"
        },
        "id": "YVJxO8ebEJuR",
        "outputId": "9349471a-836f-4fb5-bce3-4daf0ad635d5"
      },
      "execution_count": null,
      "outputs": [
        {
          "output_type": "stream",
          "name": "stdout",
          "text": [
            "9/9 [==============================] - 0s 4ms/step - loss: 3500.1467 - mae: 3500.1467\n"
          ]
        },
        {
          "output_type": "execute_result",
          "data": {
            "text/plain": [
              "(3500.146728515625, 3500.146728515625)"
            ]
          },
          "metadata": {},
          "execution_count": 116
        }
      ]
    },
    {
      "cell_type": "markdown",
      "source": [
        "Fazladan 100 dönem için eğitimde hatada yaklaşık %10'luk bir düşüş görüyoruz.\n",
        "\n",
        "Görsel nasıl görünüyor?"
      ],
      "metadata": {
        "id": "AHevcoGnEdtL"
      }
    },
    {
      "cell_type": "code",
      "source": [
        "# Plot the model trained for 200 total epochs loss curves\n",
        "pd.DataFrame(history_2.history).plot()\n",
        "plt.ylabel(\"loss\")\n",
        "plt.xlabel(\"epochs\"); # note: epochs will only show 100 since we overrid the history variable"
      ],
      "metadata": {
        "colab": {
          "base_uri": "https://localhost:8080/",
          "height": 451
        },
        "id": "5QRL07DuEJrn",
        "outputId": "42d0702e-5198-4624-9020-230fb08fa7b7"
      },
      "execution_count": null,
      "outputs": [
        {
          "output_type": "display_data",
          "data": {
            "text/plain": [
              "<Figure size 640x480 with 1 Axes>"
            ],
            "image/png": "[encoded data removed]"
          },
          "metadata": {}
        }
      ]
    },
    {
      "cell_type": "markdown",
      "source": [
        "# Ön işleme verileri (normalleştirme ve standardizasyon)\n",
        "\n",
        "Sinir ağlarıyla çalışırken yaygın bir uygulama, onlara aktardığınız tüm verilerin 0 ila 1 aralığında olduğundan emin olmaktır.\n",
        "\n",
        "Bu uygulamaya normalleştirme denir (tüm değerlerin orijinal aralıklarından, örneğin 0 ile 100.000 arasında 0 ile 1 arasında olacak şekilde ölçeklendirilmesi).\n",
        "\n",
        "Tüm verilerinizi birim varyansına ve 0 ortalamasına dönüştüren başka bir işlem çağrısı standardizasyonu vardır.\n",
        "\n",
        "Bu iki uygulama genellikle bir ön işleme boru hattının parçasıdır (verilerinizi sinir ağlarıyla kullanıma hazırlamak için bir dizi işlev).\n",
        "\n",
        "Bunu bilerek, verilerinizi bir sinir ağı için önceden işlemek için atacağınız önemli adımlardan bazıları şunlardır:\n",
        "\n",
        "- Tüm verilerinizi sayılara dönüştürmek (bir sinir ağı dizeleri işleyemez).\n",
        "- Verilerinizin doğru şekilde olduğundan emin olmak (giriş ve çıkış şekillerini doğrulamak).\n",
        "- Özellik ölçekleme:\n",
        "  - Verileri normalleştirme (tüm değerlerin 0 ile 1 arasında olduğundan emin olmak). Bu, minimum değerin çıkarılması ve ardından maksimum değer eksi minimum değere bölünmesiyle yapılır. Buna min-max ölçekleme de denir.\n",
        "  - Standardizasyon (tüm değerlerin ortalamasının 0 ve varyansının 1 olduğundan emin olmak). Bu, hedef özellikten ortalama değerin çıkarılması ve ardından standart sapmaya bölünmesi ile yapılır.\n",
        "\n",
        "Hangisini kullanmalısınız?\n",
        "\n",
        "Sinir ağları ile 0 ile 1 arasındaki değerleri tercih etme eğiliminde olduklarından normalleştirmeyi tercih etme eğiliminde olacaksınız (bunu özellikle görüntü işleme ile göreceksiniz), ancak genellikle bir sinir ağının minimum özellik ölçeklemesi ile oldukça iyi performans gösterebileceğini göreceksiniz.\n",
        "\n",
        "https://scikit-learn.org/stable/modules/preprocessing.html#preprocessing-scaler\n",
        "\n",
        "https://scikit-learn.org/stable/modules/preprocessing.html#preprocessing-data\n",
        "\n",
        "https://towardsdatascience.com/scale-standardize-or-normalize-with-scikit-learn-6ccc7d176a02\n",
        "\n",
        "Get_dummies() kullanarak verilerimizi zaten sayılara dönüştürdük, bakalım nasıl normalleştireceğiz."
      ],
      "metadata": {
        "id": "b4Ct60gOEs0X"
      }
    },
    {
      "cell_type": "markdown",
      "source": [
        "Get data ready (turn into tensors) üç adımı vardı);\n",
        "* veriyi rakamlara dönüştürme\n",
        "* tüm tensörlerin doğru şekillerde olduğundan emin olma\n",
        "* Scala feature - Özellikleri ölçeklendirme (normalleştirme, standartlaştırma, nöral ağlar standarda meyillidir)\n",
        "\n",
        "**Not**\n",
        "\n",
        "Normalleştirme --> veri kümesindeki sayısal sütunlardaki değerleri ortak bir ölçekte değiştirmektir, değer aralığındaki farklılıkları bozmadan!\n",
        "\n",
        "Normalleştirmenin amacı, veri kümesindeki sayısal sütunların değerlerini ortak bir ölçekte değiştirmektir. Orijinal dağılımı korurken tüm değerleri sıfır ile bir arasında dönüştürür.\n",
        "Verilerimizin dağılımı sadece yayılmadır. Ne zaman kullanılır? --> Nöral ağlardaki temel skaladır. Fonksiyon adı **MinMaxScaler**\n",
        "\n",
        "Standartlaştırma --> Ortalamayı çıkartır ve her değeri standart sapmaya böler. Fonksiyon adı **StandartScaler**. Ne zaman kullanılır? --> Bir özellik sütununu normal dağılıma yakın bir dağılıma sahip olmak için dönüştürmek içindir. Ancak özelliklerimizi ölçeklendirirsek veya özelliklerimizi standartlaştırırsak, bu aykırıların etkilerini azaltır."
      ],
      "metadata": {
        "id": "MUlZPtTEUlzX"
      }
    },
    {
      "cell_type": "code",
      "source": [
        "import pandas as pd\n",
        "import matplotlib.pyplot as plt\n",
        "import tensorflow as tf\n",
        "\n",
        "# Read in the insurance dataset\n",
        "insurance = pd.read_csv(\"https://raw.githubusercontent.com/stedy/Machine-Learning-with-R-datasets/master/insurance.csv\")"
      ],
      "metadata": {
        "id": "afGOeJ6kEJpV"
      },
      "execution_count": null,
      "outputs": []
    },
    {
      "cell_type": "code",
      "source": [
        "# Check out the data\n",
        "insurance.head()"
      ],
      "metadata": {
        "colab": {
          "base_uri": "https://localhost:8080/",
          "height": 204
        },
        "id": "4DnO2Ebz9v9y",
        "outputId": "b6a974e1-eca0-4dcb-9ea4-c2c859e88ac4"
      },
      "execution_count": null,
      "outputs": [
        {
          "output_type": "execute_result",
          "data": {
            "text/plain": [
              "   age     sex     bmi  children smoker     region      charges\n",
              "0   19  female  27.900         0    yes  southwest  16884.92400\n",
              "1   18    male  33.770         1     no  southeast   1725.55230\n",
              "2   28    male  33.000         3     no  southeast   4449.46200\n",
              "3   33    male  22.705         0     no  northwest  21984.47061\n",
              "4   32    male  28.880         0     no  northwest   3866.85520"
            ],
            "text/html": [
              "\n",
              "  <div id=\"df-a6f545db-15ff-4bfb-a3d1-582c76e45ba8\" class=\"colab-df-container\">\n",
              "    <div>\n",
              "<style scoped>\n",
              "    .dataframe tbody tr th:only-of-type {\n",
              "        vertical-align: middle;\n",
              "    }\n",
              "\n",
              "    .dataframe tbody tr th {\n",
              "        vertical-align: top;\n",
              "    }\n",
              "\n",
              "    .dataframe thead th {\n",
              "        text-align: right;\n",
              "    }\n",
              "</style>\n",
              "<table border=\"1\" class=\"dataframe\">\n",
              "  <thead>\n",
              "    <tr style=\"text-align: right;\">\n",
              "      <th></th>\n",
              "      <th>age</th>\n",
              "      <th>sex</th>\n",
              "      <th>bmi</th>\n",
              "      <th>children</th>\n",
              "      <th>smoker</th>\n",
              "      <th>region</th>\n",
              "      <th>charges</th>\n",
              "    </tr>\n",
              "  </thead>\n",
              "  <tbody>\n",
              "    <tr>\n",
              "      <th>0</th>\n",
              "      <td>19</td>\n",
              "      <td>female</td>\n",
              "      <td>27.900</td>\n",
              "      <td>0</td>\n",
              "      <td>yes</td>\n",
              "      <td>southwest</td>\n",
              "      <td>16884.92400</td>\n",
              "    </tr>\n",
              "    <tr>\n",
              "      <th>1</th>\n",
              "      <td>18</td>\n",
              "      <td>male</td>\n",
              "      <td>33.770</td>\n",
              "      <td>1</td>\n",
              "      <td>no</td>\n",
              "      <td>southeast</td>\n",
              "      <td>1725.55230</td>\n",
              "    </tr>\n",
              "    <tr>\n",
              "      <th>2</th>\n",
              "      <td>28</td>\n",
              "      <td>male</td>\n",
              "      <td>33.000</td>\n",
              "      <td>3</td>\n",
              "      <td>no</td>\n",
              "      <td>southeast</td>\n",
              "      <td>4449.46200</td>\n",
              "    </tr>\n",
              "    <tr>\n",
              "      <th>3</th>\n",
              "      <td>33</td>\n",
              "      <td>male</td>\n",
              "      <td>22.705</td>\n",
              "      <td>0</td>\n",
              "      <td>no</td>\n",
              "      <td>northwest</td>\n",
              "      <td>21984.47061</td>\n",
              "    </tr>\n",
              "    <tr>\n",
              "      <th>4</th>\n",
              "      <td>32</td>\n",
              "      <td>male</td>\n",
              "      <td>28.880</td>\n",
              "      <td>0</td>\n",
              "      <td>no</td>\n",
              "      <td>northwest</td>\n",
              "      <td>3866.85520</td>\n",
              "    </tr>\n",
              "  </tbody>\n",
              "</table>\n",
              "</div>\n",
              "    <div class=\"colab-df-buttons\">\n",
              "\n",
              "  <div class=\"colab-df-container\">\n",
              "    <button class=\"colab-df-convert\" onclick=\"convertToInteractive('df-a6f545db-15ff-4bfb-a3d1-582c76e45ba8')\"\n",
              "            title=\"Convert this dataframe to an interactive table.\"\n",
              "            style=\"display:none;\">\n",
              "\n",
              "  <svg xmlns=\"http://www.w3.org/2000/svg\" height=\"24px\" viewBox=\"0 -960 960 960\">\n",
              "    <path d=\"M120-120v-720h720v720H120Zm60-500h600v-160H180v160Zm220 220h160v-160H400v160Zm0 220h160v-160H400v160ZM180-400h160v-160H180v160Zm440 0h160v-160H620v160ZM180-180h160v-160H180v160Zm440 0h160v-160H620v160Z\"/>\n",
              "  </svg>\n",
              "    </button>\n",
              "\n",
              "  <style>\n",
              "    .colab-df-container {\n",
              "      display:flex;\n",
              "      gap: 12px;\n",
              "    }\n",
              "\n",
              "    .colab-df-convert {\n",
              "      background-color: #E8F0FE;\n",
              "      border: none;\n",
              "      border-radius: 50%;\n",
              "      cursor: pointer;\n",
              "      display: none;\n",
              "      fill: #1967D2;\n",
              "      height: 32px;\n",
              "      padding: 0 0 0 0;\n",
              "      width: 32px;\n",
              "    }\n",
              "\n",
              "    .colab-df-convert:hover {\n",
              "      background-color: #E2EBFA;\n",
              "      box-shadow: 0px 1px 2px rgba(60, 64, 67, 0.3), 0px 1px 3px 1px rgba(60, 64, 67, 0.15);\n",
              "      fill: #174EA6;\n",
              "    }\n",
              "\n",
              "    .colab-df-buttons div {\n",
              "      margin-bottom: 4px;\n",
              "    }\n",
              "\n",
              "    [theme=dark] .colab-df-convert {\n",
              "      background-color: #3B4455;\n",
              "      fill: #D2E3FC;\n",
              "    }\n",
              "\n",
              "    [theme=dark] .colab-df-convert:hover {\n",
              "      background-color: #434B5C;\n",
              "      box-shadow: 0px 1px 3px 1px rgba(0, 0, 0, 0.15);\n",
              "      filter: drop-shadow(0px 1px 2px rgba(0, 0, 0, 0.3));\n",
              "      fill: #FFFFFF;\n",
              "    }\n",
              "  </style>\n",
              "\n",
              "    <script>\n",
              "      const buttonEl =\n",
              "        document.querySelector('#df-a6f545db-15ff-4bfb-a3d1-582c76e45ba8 button.colab-df-convert');\n",
              "      buttonEl.style.display =\n",
              "        google.colab.kernel.accessAllowed ? 'block' : 'none';\n",
              "\n",
              "      async function convertToInteractive(key) {\n",
              "        const element = document.querySelector('#df-a6f545db-15ff-4bfb-a3d1-582c76e45ba8');\n",
              "        const dataTable =\n",
              "          await google.colab.kernel.invokeFunction('convertToInteractive',\n",
              "                                                    [key], {});\n",
              "        if (!dataTable) return;\n",
              "\n",
              "        const docLinkHtml = 'Like what you see? Visit the ' +\n",
              "          '<a target=\"_blank\" href=https://colab.research.google.com/notebooks/data_table.ipynb>data table notebook</a>'\n",
              "          + ' to learn more about interactive tables.';\n",
              "        element.innerHTML = '';\n",
              "        dataTable['output_type'] = 'display_data';\n",
              "        await google.colab.output.renderOutput(dataTable, element);\n",
              "        const docLink = document.createElement('div');\n",
              "        docLink.innerHTML = docLinkHtml;\n",
              "        element.appendChild(docLink);\n",
              "      }\n",
              "    </script>\n",
              "  </div>\n",
              "\n",
              "\n",
              "<div id=\"df-b36268d9-f696-4452-aef9-a477bec34b64\">\n",
              "  <button class=\"colab-df-quickchart\" onclick=\"quickchart('df-b36268d9-f696-4452-aef9-a477bec34b64')\"\n",
              "            title=\"Suggest charts\"\n",
              "            style=\"display:none;\">\n",
              "\n",
              "<svg xmlns=\"http://www.w3.org/2000/svg\" height=\"24px\"viewBox=\"0 0 24 24\"\n",
              "     width=\"24px\">\n",
              "    <g>\n",
              "        <path d=\"M19 3H5c-1.1 0-2 .9-2 2v14c0 1.1.9 2 2 2h14c1.1 0 2-.9 2-2V5c0-1.1-.9-2-2-2zM9 17H7v-7h2v7zm4 0h-2V7h2v10zm4 0h-2v-4h2v4z\"/>\n",
              "    </g>\n",
              "</svg>\n",
              "  </button>\n",
              "\n",
              "<style>\n",
              "  .colab-df-quickchart {\n",
              "      --bg-color: #E8F0FE;\n",
              "      --fill-color: #1967D2;\n",
              "      --hover-bg-color: #E2EBFA;\n",
              "      --hover-fill-color: #174EA6;\n",
              "      --disabled-fill-color: #AAA;\n",
              "      --disabled-bg-color: #DDD;\n",
              "  }\n",
              "\n",
              "  [theme=dark] .colab-df-quickchart {\n",
              "      --bg-color: #3B4455;\n",
              "      --fill-color: #D2E3FC;\n",
              "      --hover-bg-color: #434B5C;\n",
              "      --hover-fill-color: #FFFFFF;\n",
              "      --disabled-bg-color: #3B4455;\n",
              "      --disabled-fill-color: #666;\n",
              "  }\n",
              "\n",
              "  .colab-df-quickchart {\n",
              "    background-color: var(--bg-color);\n",
              "    border: none;\n",
              "    border-radius: 50%;\n",
              "    cursor: pointer;\n",
              "    display: none;\n",
              "    fill: var(--fill-color);\n",
              "    height: 32px;\n",
              "    padding: 0;\n",
              "    width: 32px;\n",
              "  }\n",
              "\n",
              "  .colab-df-quickchart:hover {\n",
              "    background-color: var(--hover-bg-color);\n",
              "    box-shadow: 0 1px 2px rgba(60, 64, 67, 0.3), 0 1px 3px 1px rgba(60, 64, 67, 0.15);\n",
              "    fill: var(--button-hover-fill-color);\n",
              "  }\n",
              "\n",
              "  .colab-df-quickchart-complete:disabled,\n",
              "  .colab-df-quickchart-complete:disabled:hover {\n",
              "    background-color: var(--disabled-bg-color);\n",
              "    fill: var(--disabled-fill-color);\n",
              "    box-shadow: none;\n",
              "  }\n",
              "\n",
              "  .colab-df-spinner {\n",
              "    border: 2px solid var(--fill-color);\n",
              "    border-color: transparent;\n",
              "    border-bottom-color: var(--fill-color);\n",
              "    animation:\n",
              "      spin 1s steps(1) infinite;\n",
              "  }\n",
              "\n",
              "  @keyframes spin {\n",
              "    0% {\n",
              "      border-color: transparent;\n",
              "      border-bottom-color: var(--fill-color);\n",
              "      border-left-color: var(--fill-color);\n",
              "    }\n",
              "    20% {\n",
              "      border-color: transparent;\n",
              "      border-left-color: var(--fill-color);\n",
              "      border-top-color: var(--fill-color);\n",
              "    }\n",
              "    30% {\n",
              "      border-color: transparent;\n",
              "      border-left-color: var(--fill-color);\n",
              "      border-top-color: var(--fill-color);\n",
              "      border-right-color: var(--fill-color);\n",
              "    }\n",
              "    40% {\n",
              "      border-color: transparent;\n",
              "      border-right-color: var(--fill-color);\n",
              "      border-top-color: var(--fill-color);\n",
              "    }\n",
              "    60% {\n",
              "      border-color: transparent;\n",
              "      border-right-color: var(--fill-color);\n",
              "    }\n",
              "    80% {\n",
              "      border-color: transparent;\n",
              "      border-right-color: var(--fill-color);\n",
              "      border-bottom-color: var(--fill-color);\n",
              "    }\n",
              "    90% {\n",
              "      border-color: transparent;\n",
              "      border-bottom-color: var(--fill-color);\n",
              "    }\n",
              "  }\n",
              "</style>\n",
              "\n",
              "  <script>\n",
              "    async function quickchart(key) {\n",
              "      const quickchartButtonEl =\n",
              "        document.querySelector('#' + key + ' button');\n",
              "      quickchartButtonEl.disabled = true;  // To prevent multiple clicks.\n",
              "      quickchartButtonEl.classList.add('colab-df-spinner');\n",
              "      try {\n",
              "        const charts = await google.colab.kernel.invokeFunction(\n",
              "            'suggestCharts', [key], {});\n",
              "      } catch (error) {\n",
              "        console.error('Error during call to suggestCharts:', error);\n",
              "      }\n",
              "      quickchartButtonEl.classList.remove('colab-df-spinner');\n",
              "      quickchartButtonEl.classList.add('colab-df-quickchart-complete');\n",
              "    }\n",
              "    (() => {\n",
              "      let quickchartButtonEl =\n",
              "        document.querySelector('#df-b36268d9-f696-4452-aef9-a477bec34b64 button');\n",
              "      quickchartButtonEl.style.display =\n",
              "        google.colab.kernel.accessAllowed ? 'block' : 'none';\n",
              "    })();\n",
              "  </script>\n",
              "</div>\n",
              "\n",
              "    </div>\n",
              "  </div>\n"
            ],
            "application/vnd.google.colaboratory.intrinsic+json": {
              "type": "dataframe",
              "variable_name": "insurance",
              "summary": "{\n  \"name\": \"insurance\",\n  \"rows\": 1338,\n  \"fields\": [\n    {\n      \"column\": \"age\",\n      \"properties\": {\n        \"dtype\": \"number\",\n        \"std\": 14,\n        \"min\": 18,\n        \"max\": 64,\n        \"num_unique_values\": 47,\n        \"samples\": [\n          21,\n          45,\n          36\n        ],\n        \"semantic_type\": \"\",\n        \"description\": \"\"\n      }\n    },\n    {\n      \"column\": \"sex\",\n      \"properties\": {\n        \"dtype\": \"category\",\n        \"num_unique_values\": 2,\n        \"samples\": [\n          \"male\",\n          \"female\"\n        ],\n        \"semantic_type\": \"\",\n        \"description\": \"\"\n      }\n    },\n    {\n      \"column\": \"bmi\",\n      \"properties\": {\n        \"dtype\": \"number\",\n        \"std\": 6.098186911679014,\n        \"min\": 15.96,\n        \"max\": 53.13,\n        \"num_unique_values\": 548,\n        \"samples\": [\n          23.18,\n          26.885\n        ],\n        \"semantic_type\": \"\",\n        \"description\": \"\"\n      }\n    },\n    {\n      \"column\": \"children\",\n      \"properties\": {\n        \"dtype\": \"number\",\n        \"std\": 1,\n        \"min\": 0,\n        \"max\": 5,\n        \"num_unique_values\": 6,\n        \"samples\": [\n          0,\n          1\n        ],\n        \"semantic_type\": \"\",\n        \"description\": \"\"\n      }\n    },\n    {\n      \"column\": \"smoker\",\n      \"properties\": {\n        \"dtype\": \"category\",\n        \"num_unique_values\": 2,\n        \"samples\": [\n          \"no\",\n          \"yes\"\n        ],\n        \"semantic_type\": \"\",\n        \"description\": \"\"\n      }\n    },\n    {\n      \"column\": \"region\",\n      \"properties\": {\n        \"dtype\": \"category\",\n        \"num_unique_values\": 4,\n        \"samples\": [\n          \"southeast\",\n          \"northeast\"\n        ],\n        \"semantic_type\": \"\",\n        \"description\": \"\"\n      }\n    },\n    {\n      \"column\": \"charges\",\n      \"properties\": {\n        \"dtype\": \"number\",\n        \"std\": 12110.011236694001,\n        \"min\": 1121.8739,\n        \"max\": 63770.42801,\n        \"num_unique_values\": 1337,\n        \"samples\": [\n          8688.85885,\n          5708.867\n        ],\n        \"semantic_type\": \"\",\n        \"description\": \"\"\n      }\n    }\n  ]\n}"
            }
          },
          "metadata": {},
          "execution_count": 119
        }
      ]
    },
    {
      "cell_type": "markdown",
      "source": [
        "Şimdi, daha önce olduğu gibi, sayısal olmayan sütunları sayılara dönüştürmemiz gerekiyor ve bu sefer farklı aralıklara sahip sayısal sütunları da normalleştireceğiz (hepsinin 0 ile 1 arasında olduğundan emin olmak için).\n",
        "\n",
        "Bunu yapmak için Scikit-Learn'den birkaç ders kullanacağız:\n",
        "- Make_column_transformer - aşağıdaki dönüşümler için çok adımlı bir veri ön işleme işlevi oluşturun:\n",
        "  - MinMaxScaler - tüm sayısal sütunların normalleştirildiğinden emin olun (0 ile 1 arasında).\n",
        "  - OneHotEncoder - bir sıcak kodlayıcı sayısal olmayan sütunları.\n",
        "\n",
        "  https://scikit-learn.org/stable/modules/generated/sklearn.compose.make_column_transformer.html\n",
        "\n",
        "  https://scikit-learn.org/stable/modules/generated/sklearn.preprocessing.MinMaxScaler.html\n",
        "\n",
        "  https://scikit-learn.org/stable/modules/generated/sklearn.preprocessing.OneHotEncoder.html"
      ],
      "metadata": {
        "id": "9HuhQoWHFmIC"
      }
    },
    {
      "cell_type": "markdown",
      "source": [
        "* Sütunları dönüştürmek için column transformer kullanıldı.\n",
        "* make_column_transformer: Verilen Transformatörlerden bir sütun transformatörü inşa etmekte kullanılır.\n",
        "* handle_unknown=\"ignore\" --> bilmediği kolon varsa görmezden gelmesi içindir.\n",
        "* Veri çerçevesini yukarıda yeniden içeri aktardığımız için x ve y değerlerini oluşturduk.\n",
        "* Modelin bazı eğitim verileri üzerinde eğitmek ve görmediği bazı veriler üzerinde değerlendirmek isteriz bunun için train ve test olarak bölündü...\n",
        "* Bir tür sütun transformatörüne sahip olduğunuzda, eğitim verilerinize sığdırın ve ardından test verilerinizi dönüştürmek için bu uygun sütun transformatörünü kullanın, çünkü aksi takdirde, bunu ayrı ayrı yaparsanız, test verileri veridir.\n",
        "Model daha önce hiç görülmemiştir.\n",
        "Yani temelde gelecekten gelen veriler. Yani eğitim veri setimizi test veri setinden gelen bilgilerle dönüştürüyorsak, bu almak gibi\n",
        "gelecekten gelen bilgi ve şu anda sahip olduğumuz verileri değiştirmektir."
      ],
      "metadata": {
        "id": "CTBcw1Tb2ATS"
      }
    },
    {
      "cell_type": "code",
      "source": [
        "from sklearn.compose import make_column_transformer\n",
        "from sklearn.preprocessing import MinMaxScaler, OneHotEncoder\n",
        "\n",
        "# Create column transformer (this will help us normalize/preprocess our data)\n",
        "ct = make_column_transformer(\n",
        "    (MinMaxScaler(), [\"age\", \"bmi\", \"children\"]), # get all values between 0 and 1\n",
        "    (OneHotEncoder(handle_unknown=\"ignore\"), [\"sex\", \"smoker\", \"region\"])\n",
        ")\n",
        "\n",
        "# Create X & y\n",
        "X = insurance.drop(\"charges\", axis=1)\n",
        "y = insurance[\"charges\"]\n",
        "\n",
        "# Build our train and test sets (use random state to ensure same split as before)\n",
        "X_train, X_test, y_train, y_test = train_test_split(X, y, test_size=0.2, random_state=42)\n",
        "\n",
        "# Fit column transformer on the training data only (doing so on test data would result in data leakage)\n",
        "ct.fit(X_train)\n",
        "\n",
        "# Transform training and test data with normalization (MinMaxScalar) and one hot encoding (OneHotEncoder)\n",
        "X_train_normal = ct.transform(X_train)\n",
        "X_test_normal = ct.transform(X_test)"
      ],
      "metadata": {
        "id": "D7Bl6ttGFeEk"
      },
      "execution_count": null,
      "outputs": []
    },
    {
      "cell_type": "markdown",
      "source": [
        "Şimdi normalleştirdik ve tek sıcak kodladık, verilerimiz şimdi nasıl görünüyor?"
      ],
      "metadata": {
        "id": "boRZudCPGAOX"
      }
    },
    {
      "cell_type": "code",
      "source": [
        "# Non-normalized and non-one-hot encoded data example\n",
        "X_train.loc[0]"
      ],
      "metadata": {
        "colab": {
          "base_uri": "https://localhost:8080/"
        },
        "id": "yBXCafx7F8aD",
        "outputId": "1825deff-3497-4f4e-97ee-8d93286bce3f"
      },
      "execution_count": null,
      "outputs": [
        {
          "output_type": "execute_result",
          "data": {
            "text/plain": [
              "age                19\n",
              "sex            female\n",
              "bmi              27.9\n",
              "children            0\n",
              "smoker            yes\n",
              "region      southwest\n",
              "Name: 0, dtype: object"
            ]
          },
          "metadata": {},
          "execution_count": 121
        }
      ]
    },
    {
      "cell_type": "code",
      "source": [
        "# Normalized and one-hot encoded example\n",
        "X_train_normal[0]"
      ],
      "metadata": {
        "colab": {
          "base_uri": "https://localhost:8080/"
        },
        "id": "c0HmZuc_GCUy",
        "outputId": "c13e4b78-a5cb-40a1-80cf-37f7ae39a54d"
      },
      "execution_count": null,
      "outputs": [
        {
          "output_type": "execute_result",
          "data": {
            "text/plain": [
              "array([0.60869565, 0.10734463, 0.4       , 1.        , 0.        ,\n",
              "       1.        , 0.        , 0.        , 1.        , 0.        ,\n",
              "       0.        ])"
            ]
          },
          "metadata": {},
          "execution_count": 122
        }
      ]
    },
    {
      "cell_type": "markdown",
      "source": [
        "One hot ile daha fazla sütun eklendiği için, 0-1 konusu, shape farklı oldu."
      ],
      "metadata": {
        "id": "1wVE99b2g_S6"
      }
    },
    {
      "cell_type": "code",
      "source": [
        "# Notice the normalized/one-hot encoded shape is larger because of the extra columns\n",
        "X_train_normal.shape, X_train.shape"
      ],
      "metadata": {
        "colab": {
          "base_uri": "https://localhost:8080/"
        },
        "id": "c1ogbfG6GHbP",
        "outputId": "24712963-22d4-4b2e-fa6e-9deb253233eb"
      },
      "execution_count": null,
      "outputs": [
        {
          "output_type": "execute_result",
          "data": {
            "text/plain": [
              "((1070, 11), (1070, 6))"
            ]
          },
          "metadata": {},
          "execution_count": 123
        }
      ]
    },
    {
      "cell_type": "markdown",
      "source": [
        "Verilerimiz normalleştirilmiş ve sayısal, modelleyelim.\n",
        "\n",
        "Insurance_model_2 ile aynı modeli kullanacağız."
      ],
      "metadata": {
        "id": "guz6MdjDGLp3"
      }
    },
    {
      "cell_type": "code",
      "source": [
        "# Set random seed\n",
        "tf.random.set_seed(42)\n",
        "\n",
        "# Build the model (3 layers, 100, 10, 1 units)\n",
        "insurance_model_3 = tf.keras.Sequential([\n",
        "  tf.keras.layers.Dense(100),\n",
        "  tf.keras.layers.Dense(10),\n",
        "  tf.keras.layers.Dense(1)\n",
        "])\n",
        "\n",
        "# Compile the model\n",
        "insurance_model_3.compile(loss=tf.keras.losses.mae,\n",
        "                          optimizer=tf.keras.optimizers.Adam(),\n",
        "                          metrics=['mae'])\n",
        "\n",
        "# Fit the model for 200 epochs (same as insurance_model_2)\n",
        "insurance_model_3.fit(X_train_normal, y_train, epochs=200, verbose=0)"
      ],
      "metadata": {
        "colab": {
          "base_uri": "https://localhost:8080/"
        },
        "id": "MGGz0dRWGJBN",
        "outputId": "7d882e26-72b0-4d4f-ab94-7815dfe0fba5"
      },
      "execution_count": null,
      "outputs": [
        {
          "output_type": "execute_result",
          "data": {
            "text/plain": [
              "<keras.src.callbacks.History at 0x799488ea0dc0>"
            ]
          },
          "metadata": {},
          "execution_count": 124
        }
      ]
    },
    {
      "cell_type": "markdown",
      "source": [
        "Normalleştirilmiş test setinde modeli değerlendirelim."
      ],
      "metadata": {
        "id": "bmtVCQx9GRzF"
      }
    },
    {
      "cell_type": "markdown",
      "source": [
        "Üzerinde eğitildiği aynı tür veri üzerinde değerlendirmemiz gerekiyor.\n",
        "Yani bu da önemli bir nokta, çünkü normalleştirilmiş veriler üzerinde denedik.\n",
        "Normalleştirilmiş veri kayması üzerinde değerlendirmeli ve girmeliyiz."
      ],
      "metadata": {
        "id": "9LAG18BBi0_b"
      }
    },
    {
      "cell_type": "code",
      "source": [
        "# Evaulate 3rd model\n",
        "insurance_model_3_loss, insurance_model_3_mae = insurance_model_3.evaluate(X_test_normal, y_test)"
      ],
      "metadata": {
        "colab": {
          "base_uri": "https://localhost:8080/"
        },
        "id": "Lhbvk5xJGOr8",
        "outputId": "22de364e-01cc-4246-acc8-f09d98d7a88e"
      },
      "execution_count": null,
      "outputs": [
        {
          "output_type": "stream",
          "name": "stdout",
          "text": [
            "9/9 [==============================] - 0s 2ms/step - loss: 3171.8787 - mae: 3171.8787\n"
          ]
        }
      ]
    },
    {
      "cell_type": "markdown",
      "source": [
        "Ve son olarak, insurance_model_2 (normalleştirilmemiş verilerle eğitilmiş) ve insurance_model_3'ten (normalleştirilmiş veriler üzerinde eğitilmiş) elde edilen sonuçları karşılaştıralım."
      ],
      "metadata": {
        "id": "Mi1pnRgVGYzy"
      }
    },
    {
      "cell_type": "code",
      "source": [
        "# Compare modelling results from non-normalized data and normalized data\n",
        "insurance_model_2_mae, insurance_model_3_mae"
      ],
      "metadata": {
        "colab": {
          "base_uri": "https://localhost:8080/"
        },
        "id": "saDi6Ui3GVyx",
        "outputId": "2f624b12-0f89-458b-9bcc-855e8920e54b"
      },
      "execution_count": null,
      "outputs": [
        {
          "output_type": "execute_result",
          "data": {
            "text/plain": [
              "(3500.146728515625, 3171.878662109375)"
            ]
          },
          "metadata": {},
          "execution_count": 126
        }
      ]
    },
    {
      "cell_type": "markdown",
      "source": [
        "Ancak özelliklerimizi normalleştirdiğimizde, modellerimiz daha hızlı yakınsama eğilimindedir.\n",
        "\n",
        "Yani, yine, verileri normalleştirmek iyileştirilmiş sonuçları garanti etmez, ancak denemeye değer bir şey çünkü\n",
        "uygulamanın ne kadar kolay olduğu hakkında.\n",
        "Ve aslında, ileride yaptığımız ön işleme kodumuzun çoğunda normalleştirme oluşturulacaktır."
      ],
      "metadata": {
        "id": "jTunoOrcjdG3"
      }
    },
    {
      "cell_type": "markdown",
      "source": [
        "Bundan, verilerin normalleştirilmesinin, aynı modeli kullanarak verileri normalleştirmemekten %10 daha az hata ile sonuçlandığını görebiliriz.\n",
        "\n",
        "Bu, normalleştirmenin ana faydalarından biridir: daha hızlı yakınsama süresi (modelinizin daha hızlı daha iyi sonuçlara ulaştığını söylemenin süslü bir yolu).\n",
        "\n",
        "Insurance_model_2, eğitimi daha uzun süre bıraksaydık, sonunda insurance_model_3 ile aynı sonuçları elde etmiş olabilir.\n",
        "\n",
        "Ayrıca, modellerin mimarilerini değiştirirsek sonuçlar değişebilir, örn. katman başına daha fazla gizli birim veya daha fazla katman.\n",
        "\n",
        "Ancak sinir ağı uygulayıcıları olarak asıl amacımız deneyler arasındaki süreyi azaltmak olduğundan, daha erken daha iyi sonuçlar almamıza yardımcı olan her şey bir artıdır."
      ],
      "metadata": {
        "id": "4tMwwa4aGmV_"
      }
    },
    {
      "cell_type": "markdown",
      "source": [
        "Ekstra müfredat\n",
        "\n",
        "Bu dizüstü bilgisayarla ilgili ekstra materyaller arıyorsanız, aşağıdakilere göz atacağım:\n",
        "\n",
        "MIT giriş derin öğrenme dersi 1 - çalıştırdığımız tüm kodun arkasında neler olup bittiğine dair harika bir genel bakış sunar.\n",
        "\n",
        "https://www.youtube.com/watch?v=njKP3FqW3Sk\n",
        "\n",
        "Okuma: Michael Nielson'ın Sinir Ağları ve Derin Öğrenme Bölüm 1'in 1 saati - sinir ağlarının arkasındaki sezginin derinlemesine ve uygulamalı harika bir örneği.\n",
        "\n",
        "http://neuralnetworksanddeeplearning.com/chap1.html\n",
        "\n",
        "TensorFlow ile regresyon modellemenizi uygulamak için, Lion Bridge'in veri kümeleri koleksiyonuna veya Kaggle'nın veri kümelerine bakmanızı, ilginizi çeken bir regresyon veri kümesi bulmanızı ve modellemeye çalışmanızı da tavsiye ederim.\n",
        "\n",
        "https://www.kaggle.com/datasets"
      ],
      "metadata": {
        "id": "Cgk7bemfGsGg"
      }
    }
  ]
}