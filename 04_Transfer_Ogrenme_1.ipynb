{
  "nbformat": 4,
  "nbformat_minor": 0,
  "metadata": {
    "colab": {
      "provenance": [],
      "gpuType": "T4"
    },
    "kernelspec": {
      "name": "python3",
      "display_name": "Python 3"
    },
    "language_info": {
      "name": "python"
    },
    "accelerator": "GPU"
  },
  "cells": [
    {
      "cell_type": "markdown",
      "source": [
        "# TensorFlow Bölüm 1 ile Öğrenmeyi Aktarın: Özellik Çıkarma\n",
        "\n",
        "Sıfırdan bir dizi evrişimli sinir ağı kurduk ve hepsi öğreniyor gibi görünüyor, ancak yine de iyileştirme için bolca yer var.\n",
        "\n",
        "Model(ler)imizi geliştirmek için, farklı konfigürasyonları denemek, daha fazla katman eklemek, öğrenme oranını değiştirmek, katman başına nöron sayısını ayarlamak ve daha fazlasını yapmak için biraz zaman harcayabiliriz.\n",
        "\n",
        "Ancak bunu yapmak çok zaman alıcıdır.\n",
        "\n",
        "Neyse ki, zamandan tasarruf etmek için kullanabileceğimiz bir teknik var.\n",
        "\n",
        "Buna transfer öğrenmesi denir, başka bir deyişle, kalıpları (ağırlıklar olarak da adlandırılır) başka bir modelin başka bir problemden öğrendiği ve bunları kendi sorunumuz için kullandığı bir modeldir.\n",
        "\n",
        "Transfer öğrenimini kullanmanın iki ana faydası vardır:\n",
        "\n",
        "* Bizimkine benzer sorunlar üzerinde çalıştığı kanıtlanmış mevcut bir sinir ağı mimarisinden yararlanabilir.\n",
        "* Bizimkine benzer veriler üzerinde kalıpları zaten öğrenmiş olan çalışan bir sinir ağı mimarisinden yararlanabilir. Bu genellikle daha az özel veri ile mükemmel sonuçlar elde etmenizle sonuçlanır.\n",
        "\n",
        "Bunun anlamı, kendi sinir ağı mimarilerimizi elle yapmak veya sıfırdan oluşturmak yerine, başkaları için işe yarayan modelleri kullanabiliriz.\n",
        "\n",
        "Ve kendi modellerimizi kendi veri kümelerimizde sıfırdan eğitmek yerine, bir modelin öğrendiği kalıpları ImageNet (farklı nesnelerin milyonlarca görüntüsü) gibi veri kümelerinden alabilir ve bunları kendi temelimiz olarak kullanabiliriz. Bunu yapmak genellikle daha az veri ile harika sonuçlar elde etmeye yol açar.\n",
        "\n",
        "Önümüzdeki birkaç dizüstü bilgisayarda, aktarım öğreniminin gücünü iş başında göreceğiz."
      ],
      "metadata": {
        "id": "rKsHRYXoZfER"
      }
    },
    {
      "cell_type": "markdown",
      "source": [
        "# Çalışma kitabı içeriği:\n",
        "\n",
        "* Aktarım öğrenimini tanıtın (tüm eski self-built modellerimizi yenmenin bir yolu)\n",
        "\n",
        "* Daha hızlı deney yapmak için daha küçük bir veri kümesi kullanmak (10 sınıf gıdanın eğitim örneklerinin %10'u)\n",
        "\n",
        "* TensorFlow Hub'ı kullanarak bir transfer öğrenme özelliği çıkarma modeli oluşturun\n",
        "\n",
        "* Model eğitim sonuçlarını takip etmek için TensorBoard geri aramasını tanıtın\n",
        "\n",
        "* TensorBoard kullanarak model sonuçlarını karşılaştırın"
      ],
      "metadata": {
        "id": "VxkQLu25ZqWJ"
      }
    },
    {
      "cell_type": "markdown",
      "source": [
        "# Bazı eğitim harici bilgiler;\n",
        "\n",
        "* shift + smd + space --> docstring\n",
        "* EfficientNet --> en gelişmiş bilgisayarlı görme mimarilerinden birisidir.\n",
        "* https://www.image-net.org/"
      ],
      "metadata": {
        "id": "9qhz0XEtPfO7"
      }
    },
    {
      "cell_type": "markdown",
      "source": [
        "# Video Notlarndan --> Transfer Öğrenme\n",
        "\n",
        "Transfer Öğrenme: Çalışan bir modelin varolan yapısından ve öğrenilmiş kalıplarından kendi sorununu çözme için faydalanmadır.\n",
        "\n",
        "* Kanıtlanmış mevcut bir sinir ağı mimarisinden faydalanabiliriz.\n",
        "* Kendi el yapımı, bilinen ağlarımızın büyük miktarda veri üzerinde eğitim almasını beklemek yerine, çalışan bir mimariden yararlanabiliriz. Yani bunun işe yaradığı kanıtlandığında, bizimkilere benzer veriler üzerindeki kalıpları zaten öğrenmiş oluyoruz. Dolayısıyla bu genellikle daha az veriyle mükemmel sonuçlarla sonuçlanır."
      ],
      "metadata": {
        "id": "HDBAMwsWXmRr"
      }
    },
    {
      "cell_type": "code",
      "source": [
        "# Add timestamp\n",
        "import datetime\n",
        "print(f\"Notebook last run (end-to-end): {datetime.datetime.now()}\")"
      ],
      "metadata": {
        "colab": {
          "base_uri": "https://localhost:8080/"
        },
        "id": "Ub7K5P4bQaOJ",
        "outputId": "ae4db05f-bf31-4806-f7b9-c26bb37c9ec7"
      },
      "execution_count": null,
      "outputs": [
        {
          "output_type": "stream",
          "name": "stdout",
          "text": [
            "Notebook last run (end-to-end): 2024-04-08 15:51:42.227583\n"
          ]
        }
      ]
    },
    {
      "cell_type": "markdown",
      "source": [
        "# GPU kullanmak\n",
        "\n",
        "Başlamak için, bir GPU kullanıp kullanmadığımızı kontrol edelim. Bir GPU kullanmak, modelimizin sadece bir CPU kullanmaktan daha hızlı çalışmasını sağlayacaktır."
      ],
      "metadata": {
        "id": "BOd9CIhha6N5"
      }
    },
    {
      "cell_type": "code",
      "execution_count": null,
      "metadata": {
        "colab": {
          "base_uri": "https://localhost:8080/"
        },
        "id": "QRqnQCTtPK0T",
        "outputId": "04766c53-a0c2-44a1-feb2-189124044a61"
      },
      "outputs": [
        {
          "output_type": "stream",
          "name": "stdout",
          "text": [
            "Mon Apr  8 15:55:40 2024       \n",
            "+---------------------------------------------------------------------------------------+\n",
            "| NVIDIA-SMI 535.104.05             Driver Version: 535.104.05   CUDA Version: 12.2     |\n",
            "|-----------------------------------------+----------------------+----------------------+\n",
            "| GPU  Name                 Persistence-M | Bus-Id        Disp.A | Volatile Uncorr. ECC |\n",
            "| Fan  Temp   Perf          Pwr:Usage/Cap |         Memory-Usage | GPU-Util  Compute M. |\n",
            "|                                         |                      |               MIG M. |\n",
            "|=========================================+======================+======================|\n",
            "|   0  Tesla T4                       Off | 00000000:00:04.0 Off |                    0 |\n",
            "| N/A   43C    P8               9W /  70W |      0MiB / 15360MiB |      0%      Default |\n",
            "|                                         |                      |                  N/A |\n",
            "+-----------------------------------------+----------------------+----------------------+\n",
            "                                                                                         \n",
            "+---------------------------------------------------------------------------------------+\n",
            "| Processes:                                                                            |\n",
            "|  GPU   GI   CI        PID   Type   Process name                            GPU Memory |\n",
            "|        ID   ID                                                             Usage      |\n",
            "|=======================================================================================|\n",
            "|  No running processes found                                                           |\n",
            "+---------------------------------------------------------------------------------------+\n"
          ]
        }
      ],
      "source": [
        "# Are we using a GPU?\n",
        "!nvidia-smi"
      ]
    },
    {
      "cell_type": "markdown",
      "source": [
        "# TensorFlow Hub ile yalınlığı aktarın: Verilerin %10'u ile harika sonuçlar elde edin\n",
        "\n",
        "\"Kesinlikle başka biri iş için doğru modeli oluşturmak için zaman harcadı...\" diye düşünüyorsanız, o zaman şanslısınız.\n",
        "\n",
        "Derin öğrenmeyi kullanmak isteyeceğiniz sorunların çoğu için, muhtemelen bir çalışma modeli zaten var.\n",
        "\n",
        "Ve iyi haber şu ki, birçoğuna TensorFlow Hub'dan erişebilirsiniz.\n",
        "\n",
        "TensorFlow Hub, mevcut model bileşenleri için bir depodur. Bir URL kadar az tam eğitimli bir modeli içe aktarabilmeniz ve kullanabilmeniz için yapar.\n",
        "\n",
        "https://www.kaggle.com/models?tfhub-redirect=true\n",
        "\n",
        "Şimdi, transfer öğrenmenin gücünü size gerçekten göstermek istiyorum.\n",
        "\n",
        "Bunu yapmak için, orijinal verilerin yalnızca %10'u, başka bir deyişle 10 kat daha az veri ile şimdiye kadar en iyi modelimizin elde ettiğinden aynı sonuçları (veya daha iyisini) alabileceğimizi söyleseydim.\n",
        "\n",
        "Bu mantıksız görünüyor değil mi?\n",
        "\n",
        "Bir yemek resminin nasıl göründüğüne dair daha fazla örnek daha iyi sonuçlara yol açtığını düşünmez misiniz?\n",
        "\n",
        "Ve öyle düşünseydiniz haklı olursunuz, genellikle daha fazla veri daha iyi sonuçlara yol açar.\n",
        "\n",
        "Ancak, daha fazla veriye sahip olmasaydınız ne olur? Ya sınıf başına 750 resim yerine sınıf başına 75 görüntünüz olsaydı?\n",
        "\n",
        "Belirli bir sınıfın 675 görüntüsünü daha toplamak uzun zaman alabilir.\n",
        "\n",
        "Yani transfer öğrenmenin bir başka önemli faydasının devreye girdiği yer burasıdır.\n",
        "\n",
        "Öğrenmeyi aktarın, genellikle daha az veriyle harika sonuçlar elde etmenizi sağlar.\n",
        "\n",
        "Ama bunun için sadece benim sözüme güvenme. Kullandığımız verilerin bir alt kümesini, yani 10_food_classes veri kümesinden eğitim verilerinin %10'unu indirelim ve bir gıda görüntüsü sınıflandırıcıyı eğitmek için kullanalım."
      ],
      "metadata": {
        "id": "ws13aMVcbM95"
      }
    },
    {
      "cell_type": "markdown",
      "source": [
        "# İndirme ve verilerle bir olma"
      ],
      "metadata": {
        "id": "CllyRBDqdo31"
      }
    },
    {
      "cell_type": "markdown",
      "source": [
        "Eğitimin başındaki tüm linkleri içeren materyal sayfası önemli. Kaynak dosya adresleri oradan seçiliyor."
      ],
      "metadata": {
        "id": "2YRHGLt6g_0Z"
      }
    },
    {
      "cell_type": "code",
      "source": [
        "# Get data (10% of labels)\n",
        "import zipfile\n",
        "\n",
        "# Download data\n",
        "!wget https://storage.googleapis.com/ztm_tf_course/food_vision/10_food_classes_10_percent.zip\n",
        "\n",
        "# Unzip the downloaded file\n",
        "zip_ref = zipfile.ZipFile(\"10_food_classes_10_percent.zip\", \"r\")\n",
        "zip_ref.extractall()\n",
        "zip_ref.close()"
      ],
      "metadata": {
        "colab": {
          "base_uri": "https://localhost:8080/"
        },
        "id": "T0CmT6cIbB3j",
        "outputId": "60cbc83f-41fc-455e-f53b-6df41cea9b40"
      },
      "execution_count": null,
      "outputs": [
        {
          "output_type": "stream",
          "name": "stdout",
          "text": [
            "--2024-04-08 19:02:25--  https://storage.googleapis.com/ztm_tf_course/food_vision/10_food_classes_10_percent.zip\n",
            "Resolving storage.googleapis.com (storage.googleapis.com)... 142.251.2.207, 2607:f8b0:4023:c0d::cf\n",
            "Connecting to storage.googleapis.com (storage.googleapis.com)|142.251.2.207|:443... connected.\n",
            "HTTP request sent, awaiting response... 200 OK\n",
            "Length: 168546183 (161M) [application/zip]\n",
            "Saving to: ‘10_food_classes_10_percent.zip’\n",
            "\n",
            "10_food_classes_10_ 100%[===================>] 160.74M   135MB/s    in 1.2s    \n",
            "\n",
            "2024-04-08 19:02:27 (135 MB/s) - ‘10_food_classes_10_percent.zip’ saved [168546183/168546183]\n",
            "\n"
          ]
        }
      ]
    },
    {
      "cell_type": "code",
      "source": [
        "# How many images in each folder?\n",
        "import os\n",
        "\n",
        "# Walk through 10 percent data directory and list number of files\n",
        "for dirpath, dirnames, filenames in os.walk(\"10_food_classes_10_percent\"):\n",
        "  print(f\"There are {len(dirnames)} directories and {len(filenames)} images in '{dirpath}'.\")"
      ],
      "metadata": {
        "colab": {
          "base_uri": "https://localhost:8080/"
        },
        "id": "yeoRmclcdviU",
        "outputId": "a6db597a-3713-4cbd-dc90-7a9cd9b10384"
      },
      "execution_count": null,
      "outputs": [
        {
          "output_type": "stream",
          "name": "stdout",
          "text": [
            "There are 2 directories and 0 images in '10_food_classes_10_percent'.\n",
            "There are 10 directories and 0 images in '10_food_classes_10_percent/train'.\n",
            "There are 0 directories and 75 images in '10_food_classes_10_percent/train/grilled_salmon'.\n",
            "There are 0 directories and 75 images in '10_food_classes_10_percent/train/ramen'.\n",
            "There are 0 directories and 75 images in '10_food_classes_10_percent/train/pizza'.\n",
            "There are 0 directories and 75 images in '10_food_classes_10_percent/train/chicken_wings'.\n",
            "There are 0 directories and 75 images in '10_food_classes_10_percent/train/fried_rice'.\n",
            "There are 0 directories and 75 images in '10_food_classes_10_percent/train/hamburger'.\n",
            "There are 0 directories and 75 images in '10_food_classes_10_percent/train/ice_cream'.\n",
            "There are 0 directories and 75 images in '10_food_classes_10_percent/train/steak'.\n",
            "There are 0 directories and 75 images in '10_food_classes_10_percent/train/chicken_curry'.\n",
            "There are 0 directories and 75 images in '10_food_classes_10_percent/train/sushi'.\n",
            "There are 10 directories and 0 images in '10_food_classes_10_percent/test'.\n",
            "There are 0 directories and 250 images in '10_food_classes_10_percent/test/grilled_salmon'.\n",
            "There are 0 directories and 250 images in '10_food_classes_10_percent/test/ramen'.\n",
            "There are 0 directories and 250 images in '10_food_classes_10_percent/test/pizza'.\n",
            "There are 0 directories and 250 images in '10_food_classes_10_percent/test/chicken_wings'.\n",
            "There are 0 directories and 250 images in '10_food_classes_10_percent/test/fried_rice'.\n",
            "There are 0 directories and 250 images in '10_food_classes_10_percent/test/hamburger'.\n",
            "There are 0 directories and 250 images in '10_food_classes_10_percent/test/ice_cream'.\n",
            "There are 0 directories and 250 images in '10_food_classes_10_percent/test/steak'.\n",
            "There are 0 directories and 250 images in '10_food_classes_10_percent/test/chicken_curry'.\n",
            "There are 0 directories and 250 images in '10_food_classes_10_percent/test/sushi'.\n"
          ]
        }
      ]
    },
    {
      "cell_type": "markdown",
      "source": [
        "Eğitim dizinlerinin her birinin artık 750 görüntü yerine 75 görüntüye sahip olduğuna dikkat edin. Bu, transfer öğrenmesinin daha az etiketli görüntülerle ne kadar iyi performans gösterebileceğini göstermenin anahtarıdır.\n",
        "\n",
        "Test dizinlerinde hala aynı miktarda görüntü var. Bu, daha az veri üzerinde eğitim alacağımız, ancak modellerimizi aynı miktarda test verisi üzerinde değerlendireceğimiz anlamına gelir."
      ],
      "metadata": {
        "id": "LunG--Bad7ed"
      }
    },
    {
      "cell_type": "markdown",
      "source": [
        "# Veri yükleyicileri oluşturma (verileri hazırlama)\n",
        "\n",
        "Şimdi verileri indirdik, görüntülerimize yüklemek için flow_from_directory yöntemiyle birlikte ImageDataGenerator sınıfını kullanalım."
      ],
      "metadata": {
        "id": "YnMGwq6SeCGp"
      }
    },
    {
      "cell_type": "markdown",
      "source": [
        "* image_shape ve batch_size burada hiper parametredir.\n",
        "* class_mode neden kategorik? İkili veya çoklu sınıflandırmada olan bir durum.\n",
        "* Artık test verileri önceki not defterinde kullandığımız test setinin tamamen aynısıdır. Yani daha az eğitim görseli olmasına rağmen, tamamen aynı test görselleri var, aynı miktarda"
      ],
      "metadata": {
        "id": "foU0ILCdi0zS"
      }
    },
    {
      "cell_type": "code",
      "source": [
        "# Setup data inputs\n",
        "from tensorflow.keras.preprocessing.image import ImageDataGenerator\n",
        "\n",
        "IMAGE_SHAPE = (224, 224)\n",
        "BATCH_SIZE = 32\n",
        "\n",
        "train_dir = \"10_food_classes_10_percent/train/\"\n",
        "test_dir = \"10_food_classes_10_percent/test/\"\n",
        "\n",
        "train_datagen = ImageDataGenerator(rescale=1/255.)\n",
        "test_datagen = ImageDataGenerator(rescale=1/255.)\n",
        "\n",
        "print(\"Training images:\")\n",
        "train_data_10_percent = train_datagen.flow_from_directory(train_dir,\n",
        "                                               target_size=IMAGE_SHAPE,\n",
        "                                               batch_size=BATCH_SIZE,\n",
        "                                               class_mode=\"categorical\")\n",
        "\n",
        "print(\"Testing images:\")\n",
        "test_data = train_datagen.flow_from_directory(test_dir,\n",
        "                                              target_size=IMAGE_SHAPE,\n",
        "                                              batch_size=BATCH_SIZE,\n",
        "                                              class_mode=\"categorical\")"
      ],
      "metadata": {
        "colab": {
          "base_uri": "https://localhost:8080/"
        },
        "id": "VCvftCw4d1Cq",
        "outputId": "c1f28043-dd8c-4005-95ad-a76962673250"
      },
      "execution_count": null,
      "outputs": [
        {
          "output_type": "stream",
          "name": "stdout",
          "text": [
            "Training images:\n",
            "Found 750 images belonging to 10 classes.\n",
            "Testing images:\n",
            "Found 2500 images belonging to 10 classes.\n"
          ]
        }
      ]
    },
    {
      "cell_type": "markdown",
      "source": [
        "# Geri arama ayarlama (model trenlerimiz sırasında çalıştırılacak şeyler)\n",
        "\n",
        "Bir model oluşturmadan önce, aşina olacağımız önemli bir kavram var çünkü gelecekteki model oluşturma deneylerimizde kilit bir rol oynayacak.\n",
        "\n",
        "Ve bu kavram geri aramalardır.\n",
        "\n",
        "Geri aramalar, eğitim sırasında veya sonrasında gerçekleştirilecek modellerinize ekleyebileceğiniz ekstra işlevselliktir. En popüler geri aramalardan bazıları şunları içerir:\n",
        "\n",
        "* TensorBoard ile deneme izleme - birden fazla modelin performansını günlüğe kaydedin ve ardından bu modelleri TensorBoard'da (sinir ağı parametrelerini incelemek için bir gösterge paneli) görsel bir şekilde görüntüleyin ve karşılaştırın. Verilerinizdeki farklı modellerin sonuçlarını karşılaştırmak için yararlıdır.\n",
        "\n",
        "* Model kontrol noktası - modelinizi eğitilirken kaydedin, böylece gerekirse eğitimi durdurabilir ve bıraktığınız yerden devam etmek için geri dönebilirsiniz. Eğitim uzun sürerse ve bir oturuşta yapılamazsa yardımcı olur.\n",
        "\n",
        "* Erken durdurma - model eğitiminizi keyfi bir süre için bırakın ve gelişmeyi bıraktığında eğitimi otomatik olarak durdurmasını sağlayın. Büyük bir veri kümeniz olduğunda ve eğitimin ne kadar süreceğini bilmiyorsanız yardımcı olur.\n",
        "\n",
        "Bu fazla mesailerin her birini keşfedeceğiz, ancak bu not defteri için TensorBoard geri aramasının nasıl kullanılabileceğini göreceğiz.\n",
        "\n",
        "TensorBoard geri çağrısına tf.keras.callbacks.TensorBoard() kullanılarak erişilebilir.\n",
        "\n",
        "Ana işlevi, bir modelin eğitim performans metriklerini belirli bir log_dir'e kaydetmektir.\n",
        "\n",
        "Varsayılan olarak, günlükler her çağda update_freq='epoch' parametresi kullanılarak kaydedilir. Model performansını çok sık izlemek model eğitimini yavaşlatabileceğinden, bu iyi bir varsayılandır.\n",
        "\n",
        "TensorBoard kullanarak modelleme deneylerimizi takip etmek için, bizim için bir TensorBoard geri araması oluşturan bir işlev oluşturalım.\n",
        "\n",
        "🔑 Not: TensorBoard geri araması oluşturmak için bir işlev oluşturuyoruz, çünkü daha sonra göreceğimiz gibi, her modelin kendi TensorBoard geri arama örneğine ihtiyacı vardır (bu nedenle işlev her çalıştırıldığında yeni bir tane oluşturacaktır).\n",
        "\n",
        "* https://www.tensorflow.org/api_docs/python/tf/keras/callbacks\n",
        "* https://www.tensorflow.org/api_docs/python/tf/keras/callbacks/TensorBoard\n",
        "* https://www.tensorflow.org/api_docs/python/tf/keras/callbacks/ModelCheckpoint\n",
        "* https://www.tensorflow.org/api_docs/python/tf/keras/callbacks/EarlyStopping"
      ],
      "metadata": {
        "id": "g1TaNcLC5XOR"
      }
    },
    {
      "cell_type": "markdown",
      "source": [
        "datetime içeri aktarıldığında model çalıştırıldığı zamanda tarih ve zaman damgası görmek içindir.\n",
        "\n",
        "dir_name..satırı bir dosya oluşturmak içindir.\n",
        "\n"
      ],
      "metadata": {
        "id": "1FbrvMkJXXfP"
      }
    },
    {
      "cell_type": "code",
      "source": [
        "# Create tensorboard callback (functionized because need to create a new one for each model)\n",
        "import datetime\n",
        "def create_tensorboard_callback(dir_name, experiment_name):\n",
        "  log_dir = dir_name + \"/\" + experiment_name + \"/\" + datetime.datetime.now().strftime(\"%Y%m%d-%H%M%S\")\n",
        "  tensorboard_callback = tf.keras.callbacks.TensorBoard(\n",
        "      log_dir=log_dir\n",
        "  )\n",
        "  print(f\"Saving TensorBoard log files to: {log_dir}\")\n",
        "  return tensorboard_callback"
      ],
      "metadata": {
        "id": "4Ilz2_S-eIug"
      },
      "execution_count": null,
      "outputs": []
    },
    {
      "cell_type": "markdown",
      "source": [
        "Birden fazla deney yapacağınız için, onları bir şekilde takip edebilmek iyi bir fikirdir.\n",
        "\n",
        "Bizim durumumuzda, işlevimiz bir modelin performans günlüklerini [dir_name]/[experiment_name]/[current_timestamp] adlı bir dizine kaydeder, burada:\n",
        "\n",
        "* Dir_name genel günlükler dizinidir\n",
        "\n",
        "* Experiment_name özel deneydir\n",
        "\n",
        "* Current_timestamp, Python'un datetime.datetime().now() dosyasına göre deneyin başladığı zamandır.\n",
        "\n",
        "🔑 Not: Kullanım durumunuza bağlı olarak, yukarıdaki deneme izleme adlandırma yöntemi işe yarayabilir veya daha spesifik bir şeye ihtiyacınız olabilir. İyi haber şu ki, TensorBoard geri araması, nerede takip edeceğinizi belirttiğiniz sürece modelleme günlüklerini izlemeyi kolaylaştırır. Böylece deneylerinizi nasıl adlandırdığınız konusunda istediğiniz kadar yaratıcı olabilirsiniz, sadece sizin veya ekibinizin onları anlayabildiğinden emin olun.\n",
        "\n",
        "https://docs.python.org/3/library/datetime.html#datetime.datetime.now"
      ],
      "metadata": {
        "id": "-Wya1r9d6tco"
      }
    },
    {
      "cell_type": "markdown",
      "source": [
        "# TensorFlow Hub kullanarak modeller oluşturma\n",
        "\n",
        "Geçmişte kendi modellerimizi sıfırdan katman katman oluşturmak için TensorFlow'u kullandık.\n",
        "\n",
        "Şimdi benzer bir işlem yapacağız, ancak modelimizin katmanlarının çoğu TensorFlow Hub'dan gelecek.\n",
        "  * https://www.kaggle.com/models?tfhub-redirect=true\n",
        "\n",
        "Aslında, TensorFlow Hub'dan iki model kullanacağız:\n",
        "\n",
        "1. ResNetV2 - 2016'dan kalma son teknoloji bilgisayar görme modeli mimarisi. https://arxiv.org/abs/1603.05027\n",
        "\n",
        "2. EfficientNet - 2019'dan son teknoloji bilgisayar görme mimarisi. https://arxiv.org/abs/1905.11946\n",
        "\n",
        "Son teknoloji, bir noktada, bu modellerin her ikisinin de bilgisayar görme ölçütlerinin altın standardı olan ImageNet'te (ILSVRC-2012-CLS) en düşük hata oranına ulaştığı anlamına gelir. https://image-net.org/\n",
        "\n",
        "Merak ediyor olabilirsiniz, bu modelleri TensorFlow Hub'da nasıl buluyorsunuz?\n",
        "\n",
        "İşte attığım adımlar:\n",
        "\n",
        "1. Tfhub.dev'e gidin. https://www.kaggle.com/models?tfhub-redirect=true\n",
        "\n",
        "2. Sorunlu etki alanınızı seçin, ör. \"Görüntü\" (yemek resimleri kullanıyoruz).\n",
        "\n",
        "3. Bizim durumumuzda TF2 olan TF sürümünüzü seçin.\n",
        "\n",
        "4. Üzerinde çalıştığınız sorun dışındaki tüm \"Problem domanin\" filtrelerini kaldırın.\n",
        "\n",
        "Not: \"Görüntü özelliği vektörü\" hemen hemen her sorunla birlikte kullanılabilir, buna yakında ulaşacağız.\n",
        "\n",
        "Listelenen modeller, sorununuz için potansiyel olarak kullanılabilecek tüm modellerdir.\n",
        "\n",
        "🤔 Soru: Görüntü sınıflandırma modelleri için birçok seçenek görüyorum, hangisinin en iyi olduğunu nasıl bilebilirim?\n",
        "\n",
        "Rapor ettikleri bulgular için kod uygulamaları olan en son derin öğrenme kağıt sonuçlarını toplamak için bir kaynak olan paperswithcode.com'da en son modellerin bir listesini görebilirsiniz. https://paperswithcode.com/\n",
        "\n",
        "Görüntülerle çalıştığımız için hedefimiz ImageNet'te en iyi performansı gösteren modellerdir.\n",
        "\n",
        "Muhtemelen Paperswithcode'da listelenen tüm model mimarilerinin TensorFlow Hub'da görünmediğini göreceksiniz. Ve bu sorun değil, yine de mevcut olanı kullanabiliriz.\n",
        "\n",
        "Modellerimizi bulmak için Mimari sekmesini kullanarak aramamızı daraltalım.\n",
        "\n",
        "6. TensorFlow Hub'da Mimarlık sekmesini seçin ve mimari adlarının bir açılır menüsünü göreceksiniz.\n",
        "\n",
        "* Buradaki temel kural genellikle, daha büyük sayılara sahip isimler daha iyi performans gösteren modeller anlamına gelir. Örneğin, EfficientNetB4, EfficientNetB0'dan daha iyi performans gösterir.\n",
        "\n",
        "  * Bununla birlikte, daha büyük sayılarla takas, hesaplamanın daha uzun sürdüğü anlamına gelebilir.\n",
        "\n",
        "7. EfficientNetB0'ı seçin ve aşağıdakine benzer bir şey görmelisiniz: https://www.kaggle.com/models?query=image-classification%2Cimage-feature-vector&query=efficientnet-b0&framework=tensorFlow2&tfhub-redirect=true\n",
        "\n",
        "8. \"Efficientnet/b0/feature-vector\" başlıklı bir sayfaya tıklamak bizi \"URL'yi kopyala\" yazan bir düğmeye getiriyor. Bu URL, EfficientNetB0'ın gücünden yararlanmak için kullanabileceğimiz şeydir. https://www.kaggle.com/models/tensorflow/efficientnet/frameworks/tensorFlow2/variations/b0-feature-vector/versions/1?tfhub-redirect=true\n",
        "\n",
        "* URL'yi kopyalamak size şöyle bir şey vermelidir: https://tfhub.dev/tensorflow/efficientnet/b0/feature-vector/1\n",
        "  * https://www.kaggle.com/models/tensorflow/efficientnet/frameworks/tensorFlow2/variations/b0-feature-vector/versions/1?tfhub-redirect=true\n",
        "\n",
        "🤔 Soru: Görüntü sınıflandırması yaptığımızı sanıyordum, neden sınıflandırmayı değil de özellik vektörünü seçiyoruz?"
      ],
      "metadata": {
        "id": "_tM7YYEP7WM_"
      }
    },
    {
      "cell_type": "markdown",
      "source": [
        "Harika gözlem. Bu, farklı transfer öğrenimi türlerinin, olduğu gibi, özellik çıkarma ve ince ayar gibi devreye girdiği yerdir.\n",
        "\n",
        "1. \"Olduğu gibi\" transfer öğrenimi, önceden eğitilmiş bir modeli olduğu gibi alıp herhangi bir değişiklik yapmadan görevinize uyguladığınızdadır.\n",
        "\n",
        "* Örneğin, birçok bilgisayar görme modeli, 1000 farklı görüntü sınıfı içeren ImageNet veri kümesinde önceden eğitilmiştir. Bu, bu modele tek bir görüntü aktarmanın 1000 farklı tahmin olasılık değeri (her sınıf için 1) üreteceği anlamına gelir.\n",
        "\n",
        "  * Sınıflandırmak istediğiniz 1000 görüntü sınıfınız varsa ve hepsi ImageNet sınıflarıyla aynıysa bu yararlıdır, ancak yalnızca küçük bir sınıf alt kümesini (10 farklı yiyecek türü gibi) sınıflandırmak istiyorsanız yardımcı olmaz. TensorFlow Hub'daki adlarında \"/classification\" bulunan modeller bu tür bir işlevsellik sağlar.\n",
        "\n",
        "2. Özellik çıkarma aktarımı öğrenimi, temel kalıpları (ağırlıklar olarak da adlandırılır) aldığınızda, önceden eğitilmiş bir modelin öğrendiği ve çıktılarını sorununuza daha uygun olacak şekilde ayarladığı zamandır.\n",
        "\n",
        "* Örneğin, kullandığınız önceden eğitilmiş modelin 236 farklı katmana sahip olduğunu (EfficientNetB0'ın 236 katmanı vardır), ancak ImageNet'te önceden eğitildiği için üst katmanın 1000 sınıf çıktısı olduğunu söyleyin. Bunu kendi sorununuza göre ayarlamak için, orijinal aktivasyon katmanını kaldırabilir ve kendi katmanınızla değiştirebilirsiniz, ancak doğru sayıda çıktı sınıfıyla. Buradaki önemli kısım, yalnızca üstteki birkaç katmanın eğitilebilir hale gelmesi, geri kalanının donmuş kalmasıdır.\n",
        "\n",
        "  * Bu şekilde, altta yatan tüm kalıplar katmanların geri kalanında kalır ve bunları kendi sorununuz için kullanabilirsiniz. Bu tür bir aktarım öğrenimi, verileriniz bir modelin önceden eğitildiği verilere benzer olduğunda çok yardımcı olur.\n",
        "\n",
        "3. Fine-tuning transfer öğrenimi, önceden eğitilmiş bir modelin temel kalıplarını (ağırlıklar olarak da adlandırılır) alıp bunları kendi probleminize göre ayarladığınız (ince ayar) zamandır.\n",
        "\n",
        "* Bu genellikle önceden eğitilmiş modeldeki katmanların bir kısmını, çoğunu veya tamamını eğitmek anlamına gelir. Bu, verilerinizin orijinal modelin eğitildiği verilerden biraz farklı olduğu büyük bir veri kümesine (örneğin sınıf başına 100'den fazla görüntü) sahip olduğunuzda kullanışlıdır.\n",
        "\n",
        "  * Yaygın bir iş akışı, önceden eğitilmiş bir modelin alt katmanlarındaki öğrenilen tüm kalıpları eğitilemez olmaları için \"dondurmaktır\". Ardından, önceden eğitilmiş modelin çıktılarını özel verilerinize göre ayarlayabilmesi için en üst 2-3 katmanı eğitin (özellik çıkarma).\n",
        "\n",
        "En iyi 2-3 katmanı eğittikten sonra, daha sonra kademeli olarak daha fazla katmanı \"dondurabilir\" ve önceden eğitilmiş modele daha fazla ince ayar yapmak için eğitim sürecini kendi verilerinizle çalıştırabilirsiniz.\n",
        "\n",
        "🤔 Soru: Neden özellik çıkarmada sadece en iyi 2-3 katmanı eğitiyorsunuz?\n",
        "\n",
        "Bir katman, bir bilgisayar görme modelinde olduğu gibi ne kadar düşükse, giriş katmanına o kadar yakınsa, öğrendiği özellikler o kadar büyük olur. Örneğin, kedilerin veya köpeklerin görüntülerini tanımlamak için bir bilgisayar görme modelindeki bir alt katman, çıktıya daha yakın katmanların dişlerin şeklini öğrenebileceği bacakların ana hatlarını öğrenebilir. Çoğu zaman, daha büyük özelliklerin (öğrenilen kalıplar ayrıca özellikler olarak da adlandırılır) kalmasını isteyeceksiniz, çünkü bunlar her iki hayvan için de benzerdir, burada farklılıklar daha ince taneli özelliklerde kalır.\n",
        "\n",
        "Farklı transfer öğrenme türleri. Orijinal bir model, bir özellik çıkarma modeli (yalnızca üst 2-3 katman değişir) ve bir fine-tuning modeli (orijinal modelin birçoğu veya tamamı değiştirilir).\n",
        "\n",
        "Tamam, yeter konuşun, bunu iş başında görelim. Bunu yaptığımızda, neler olduğunu açıklayacağız.\n",
        "\n",
        "Önce TensorFlow ve TensorFlow Hub'ı içe aktaracağız."
      ],
      "metadata": {
        "id": "dqrEypxcCeFJ"
      }
    },
    {
      "cell_type": "markdown",
      "source": [
        "Video Notları:\n",
        "\n",
        "copy url ile modeli int alıp faydalanabilirsin\n",
        "\n",
        "!pip install --upgrade tensorflow_hub\n",
        "\n",
        "import tensorflow_hub as hub\n",
        "\n",
        "model = hub.KerasLayer(\"http....\n",
        "\n",
        "efficient_model.layers yazarsan koda katmanların adı listelenir.\n",
        "\n",
        "efficientnet_model.layers[0].weights yazarsan ilk kalıp çıkar. matrix çıktısı.. Her katman için bir ağırlık matrisi var.\n",
        "\n",
        "Future extraction ile orjinal modeli kullandığında daha küçük bir veri seti (burası için örneğin on sınıf), çıkış şekli daha küçük, katman sayısı aynı (orjinal model katmanları eğitim boyunca değişmez) (trainable = false diyerek katmanları burada dondurmuştuk), çıkış katmanı yeni eğitilmiş veriye sahip olur.\n",
        "\n",
        "\n"
      ],
      "metadata": {
        "id": "J35ly2I4qtCq"
      }
    },
    {
      "cell_type": "code",
      "source": [
        "import tensorflow as tf\n",
        "import tensorflow_hub as hub\n",
        "from tensorflow.keras import layers"
      ],
      "metadata": {
        "id": "jhwfKqlj6kdM"
      },
      "execution_count": null,
      "outputs": []
    },
    {
      "cell_type": "markdown",
      "source": [
        "Şimdi yukarıdaki adımları kullanarak TensorFlow Hub'dan EfficientNetB0 (2019) ve ResNetV250 (2016) olmak üzere iki yaygın bilgisayar görme mimarisinin özellik vektör URL'lerini alacağız.\n",
        "\n",
        "Bunların her ikisini de alıyoruz çünkü verilerimizde hangisinin daha iyi performans gösterdiğini görmek için onları karşılaştıracağız.\n",
        "\n",
        "* https://www.kaggle.com/models/tensorflow/efficientnet/frameworks/tensorFlow2/variations/b0-feature-vector/versions/1?tfhub-redirect=true\n",
        "* https://www.kaggle.com/models/google/resnet-v2/frameworks/tensorFlow2/variations/50-feature-vector/versions/1?tfhub-redirect=true\n",
        "\n",
        "🔑 Not: Aynı veriler üzerinde farklı model mimarisi performansını karşılaştırmak çok yaygın bir uygulamadır. Bunun basit nedeni, hangi modelin sorununuz için en iyi performansı gösterdiğini bilmek istemenizdir.\n",
        "\n",
        "Güncelleme: 14 Ağustos 2021 itibariyle, EfficientNet V2 önceden eğitilmiş modeller TensorFlow Hub'da mevcuttur. Bu dizüstü bilgisayardaki orijinal kod EfficientNet V1 kullanıyor, değişmeden bırakıldı. Bu veri kümesiyle yaptığım deneylerde V1, V2'den daha iyi performans gösteriyor. Kendi verilerinizi denemek ve size neyin uygun olduğunu görmek en iyisidir.\n",
        "\n",
        "* https://www.kaggle.com/models/google/efficientnet-v2?tfhub-redirect=true\n",
        "* https://github.com/mrdbourke/tensorflow-deep-learning/discussions/166"
      ],
      "metadata": {
        "id": "sKrZMS5cDyq9"
      }
    },
    {
      "cell_type": "code",
      "source": [
        "# Resnet 50 V2 feature vector\n",
        "resnet_url = \"https://tfhub.dev/google/imagenet/resnet_v2_50/feature_vector/4\"\n",
        "\n",
        "# Original: EfficientNetB0 feature vector (version 1)\n",
        "efficientnet_url = \"https://tfhub.dev/tensorflow/efficientnet/b0/feature-vector/1\"\n",
        "\n",
        "# # New: EfficientNetB0 feature vector (version 2)\n",
        "# efficientnet_url = \"https://tfhub.dev/google/imagenet/efficientnet_v2_imagenet1k_b0/feature_vector/2\""
      ],
      "metadata": {
        "id": "ijkFCkyUDhYw"
      },
      "execution_count": null,
      "outputs": []
    },
    {
      "cell_type": "markdown",
      "source": [
        "Bu URL'ler, TensorFlow Hub'da kaydedilmiş önceden eğitilmiş bir modele bağlanır.\n",
        "\n",
        "Bunları modelimizde kullandığımızda, kullanmamız için model otomatik olarak indirilecektir.\n",
        "\n",
        "Bunu yapmak için TensorFlow hub kitaplığının içinde KerasLayer() modelini kullanabiliriz.\n",
        "\n",
        "İki modeli karşılaştıracağımız için, kendimize kod kaydetmek için bir create_model() işlevi oluşturacağız. Bu işlev, bir modelin TensorFlow Hub URL'sini alacak, uygun sayıda çıktı katmanıyla bir Keras Sıralı model oluşturacak ve modeli döndürecektir.\n",
        "\n",
        "https://www.tensorflow.org/hub/api_docs/python/hub/KerasLayer"
      ],
      "metadata": {
        "id": "ePSyXZCCEavS"
      }
    },
    {
      "cell_type": "markdown",
      "source": [
        "trainable --> Bu modeller görüntü ağları üzerinde önceden eğitilmiştir, bu nedenle desenleri ve görüntüyü öğrenmişlerdir.Bu nedenle, gıda görme sorunumuz için görüntü ağındaki bu kalıpları kullanmak istiyoruz.\n",
        "\n",
        "IMAGE_SHAPE+(3,) = (224,224,3)"
      ],
      "metadata": {
        "id": "DjkJ2CH-7YBb"
      }
    },
    {
      "cell_type": "code",
      "source": [
        "def create_model(model_url, num_classes=10):\n",
        "  \"\"\"Takes a TensorFlow Hub URL and creates a Keras Sequential model with it.\n",
        "\n",
        "  Args:\n",
        "    model_url (str): A TensorFlow Hub feature extraction URL.\n",
        "    num_classes (int): Number of output neurons in output layer,\n",
        "      should be equal to number of target classes, default 10.\n",
        "\n",
        "  Returns:\n",
        "    An uncompiled Keras Sequential model with model_url as feature\n",
        "    extractor layer and Dense output layer with num_classes outputs.\n",
        "  \"\"\"\n",
        "  # Download the pretrained model and save it as a Keras layer\n",
        "  feature_extractor_layer = hub.KerasLayer(model_url,\n",
        "                                           trainable=False, # freeze the underlying patterns\n",
        "                                           name='feature_extraction_layer',\n",
        "                                           input_shape=IMAGE_SHAPE+(3,)) # define the input image shape\n",
        "\n",
        "  # Create our own model\n",
        "  model = tf.keras.Sequential([\n",
        "    feature_extractor_layer, # use the feature extraction layer as the base\n",
        "    layers.Dense(num_classes, activation='softmax', name='output_layer') # create our own output layer\n",
        "  ])\n",
        "\n",
        "  return model"
      ],
      "metadata": {
        "id": "pZ8rNjE8ETV-"
      },
      "execution_count": null,
      "outputs": []
    },
    {
      "cell_type": "markdown",
      "source": [
        "Harika! Şimdi bir model oluşturmak için bir işlevimiz var, önce özellik çıkarma katmanımız olarak ResNetV250 mimarisini kullanarak bir model oluşturmak için kullanacağız.\n",
        "\n",
        "Model oluşturulduktan sonra, kayıp fonksiyonumuz olarak categorical_crossentropy, Adam optimizer ve metriğimiz olarak doğruluk kullanarak derleyeceğiz."
      ],
      "metadata": {
        "id": "6BbmBUV6EqlV"
      }
    },
    {
      "cell_type": "code",
      "source": [
        "# Create model\n",
        "resnet_model = create_model(resnet_url, num_classes=train_data_10_percent.num_classes)\n",
        "\n",
        "# Compile\n",
        "resnet_model.compile(loss='categorical_crossentropy',\n",
        "                     optimizer=tf.keras.optimizers.Adam(),\n",
        "                     metrics=['accuracy'])"
      ],
      "metadata": {
        "id": "DjxTj4t8Em04"
      },
      "execution_count": null,
      "outputs": []
    },
    {
      "cell_type": "markdown",
      "source": [
        "Mevcut modelimiz nasıl görünüyor. Üstte özel yoğun bir katmana sahip bir ResNet50V2 omurgası (1000 ImageNet sınıfı yerine 10 sınıf). Not: Resim ResNet50 yerine ResNet34'ü gösteriyor. Resim kaynağı: https://arxiv.org/abs/1512.03385.\n",
        "\n",
        "Güzel. Modele uyma zamanı.\n",
        "\n",
        "Eğitim verilerini train_data_10_percent'de ve test_data olarak kaydedilen test verilerini hazırladık.\n",
        "\n",
        "Ancak fit işlevini çağırmadan önce, ekleyeceğimiz bir şey daha var, bir geri arama. Daha spesifik olarak, modelimizin performansını TensorBoard'da takip edebilmemiz için bir TensorBoard geri araması.\n",
        "\n",
        "Fit fonksiyonundaki callbacks parametresini kullanarak modelimize geri arama ekleyebiliriz.\n",
        "\n",
        "Bizim durumumuzda, daha önce oluşturduğumuz create_tensorboard_callback() callback parametresini bazı belirli girdilerle geçireceğiz, böylece hangi deneyleri yaptığımızı biliyoruz.\n",
        "\n",
        "Bu deneyi kısa tutalım ve 5 dönem için eğitelim."
      ],
      "metadata": {
        "id": "89PTJQ9XFKfC"
      }
    },
    {
      "cell_type": "code",
      "source": [
        "# Fit the model\n",
        "resnet_history = resnet_model.fit(train_data_10_percent,\n",
        "                                  epochs=5,\n",
        "                                  steps_per_epoch=len(train_data_10_percent),\n",
        "                                  validation_data=test_data,\n",
        "                                  validation_steps=len(test_data),\n",
        "                                  # Add TensorBoard callback to model (callbacks parameter takes a list)\n",
        "                                  callbacks=[create_tensorboard_callback(dir_name=\"tensorflow_hub\", # save experiment logs here\n",
        "                                                                         experiment_name=\"resnet50V2\")]) # name of log files"
      ],
      "metadata": {
        "colab": {
          "base_uri": "https://localhost:8080/"
        },
        "id": "vUoC-rWLEtpf",
        "outputId": "d03d836c-ad08-4aec-abd5-1ee5b204d821"
      },
      "execution_count": null,
      "outputs": [
        {
          "output_type": "stream",
          "name": "stdout",
          "text": [
            "Saving TensorBoard log files to: tensorflow_hub/resnet50V2/20240408-190314\n",
            "Epoch 1/5\n",
            "24/24 [==============================] - 22s 595ms/step - loss: 1.8580 - accuracy: 0.3773 - val_loss: 1.1974 - val_accuracy: 0.6256\n",
            "Epoch 2/5\n",
            "24/24 [==============================] - 10s 448ms/step - loss: 0.8731 - accuracy: 0.7373 - val_loss: 0.8642 - val_accuracy: 0.7192\n",
            "Epoch 3/5\n",
            "24/24 [==============================] - 11s 463ms/step - loss: 0.6310 - accuracy: 0.8253 - val_loss: 0.7653 - val_accuracy: 0.7460\n",
            "Epoch 4/5\n",
            "24/24 [==============================] - 11s 455ms/step - loss: 0.4724 - accuracy: 0.8867 - val_loss: 0.7039 - val_accuracy: 0.7612\n",
            "Epoch 5/5\n",
            "24/24 [==============================] - 10s 445ms/step - loss: 0.3773 - accuracy: 0.9160 - val_loss: 0.6805 - val_accuracy: 0.7776\n"
          ]
        }
      ]
    },
    {
      "cell_type": "markdown",
      "source": [
        "Görünüşe göre sadece 5 dönemden sonra, ResNetV250 özellik çıkarma modeli sudan yaptığımız mimarilerden herhangi birini patlatabildi, eğitim setinde yaklaşık %90 doğruluk ve test setinde yaklaşık %80 doğruluk elde etti... eğitim görüntülerinin sadece yüzde 10'u ile!\n",
        "\n",
        "Bu, transfer öğreniminin gücünü gösterir. Ve kendi veri kümelerinizi modellemeye çalıştığınızda, önceden eğitilmiş hangi modellerin zaten mevcut olduğuna bakmanızın ana nedenlerinden biridir.\n",
        "\n",
        "Plot_loss_curves işlevimizi kullanarak modelimizin eğitim eğrilerini kontrol edelim."
      ],
      "metadata": {
        "id": "VMjE7TW3GV5k"
      }
    },
    {
      "cell_type": "markdown",
      "source": [
        "Aşağıdaki fonksiyon için;\n",
        "* args: history, tensorflow history object.\n",
        "* returns: plots of training/validation loss and accuracy metrics."
      ],
      "metadata": {
        "id": "UdAIakIGYKlo"
      }
    },
    {
      "cell_type": "code",
      "source": [
        "# If you wanted to, you could really turn this into a helper function to load in with a helper.py script...\n",
        "import matplotlib.pyplot as plt\n",
        "\n",
        "# Plot the validation and training data separately\n",
        "def plot_loss_curves(history):\n",
        "  \"\"\"\n",
        "  Returns separate loss curves for training and validation metrics.\n",
        "  \"\"\"\n",
        "  loss = history.history['loss']\n",
        "  val_loss = history.history['val_loss']\n",
        "\n",
        "  accuracy = history.history['accuracy']\n",
        "  val_accuracy = history.history['val_accuracy']\n",
        "\n",
        "  epochs = range(len(history.history['loss']))\n",
        "\n",
        "  # Plot loss\n",
        "  plt.plot(epochs, loss, label='training_loss')\n",
        "  plt.plot(epochs, val_loss, label='val_loss')\n",
        "  plt.title('Loss')\n",
        "  plt.xlabel('Epochs')\n",
        "  plt.legend()\n",
        "\n",
        "  # Plot accuracy\n",
        "  plt.figure()\n",
        "  plt.plot(epochs, accuracy, label='training_accuracy')\n",
        "  plt.plot(epochs, val_accuracy, label='val_accuracy')\n",
        "  plt.title('Accuracy')\n",
        "  plt.xlabel('Epochs')\n",
        "  plt.legend();"
      ],
      "metadata": {
        "id": "n76cRlECFTFc"
      },
      "execution_count": null,
      "outputs": []
    },
    {
      "cell_type": "code",
      "source": [
        "plot_loss_curves(resnet_history)"
      ],
      "metadata": {
        "colab": {
          "base_uri": "https://localhost:8080/",
          "height": 927
        },
        "id": "9NNDwoGNGZ7o",
        "outputId": "940bef7d-11cb-41b9-a74f-8783d572e820"
      },
      "execution_count": null,
      "outputs": [
        {
          "output_type": "display_data",
          "data": {
            "text/plain": [
              "<Figure size 640x480 with 1 Axes>"
            ],
            "image/png": "[encoded data removed]"
          },
          "metadata": {}
        },
        {
          "output_type": "display_data",
          "data": {
            "text/plain": [
              "<Figure size 640x480 with 1 Axes>"
            ],
            "image/png": "[encoded data removed]"
          },
          "metadata": {}
        }
      ]
    },
    {
      "cell_type": "markdown",
      "source": [
        "* Doğrulama kaybı, eğitim kadar hızlı düşmüyor.\n",
        "* Model aşırı uymuş olabilir.\n",
        "* Eğitim kayıpları azalırken doğrulama kaybı artmış.\n"
      ],
      "metadata": {
        "id": "MFV-0722Zb2Q"
      }
    },
    {
      "cell_type": "code",
      "source": [
        "# Resnet summary\n",
        "resnet_model.summary()"
      ],
      "metadata": {
        "colab": {
          "base_uri": "https://localhost:8080/"
        },
        "id": "jUIz-gZgGex6",
        "outputId": "5ff7e588-9ef5-4aa3-82df-6044c08323c5"
      },
      "execution_count": null,
      "outputs": [
        {
          "output_type": "stream",
          "name": "stdout",
          "text": [
            "Model: \"sequential\"\n",
            "_________________________________________________________________\n",
            " Layer (type)                Output Shape              Param #   \n",
            "=================================================================\n",
            " feature_extraction_layer (  (None, 2048)              23564800  \n",
            " KerasLayer)                                                     \n",
            "                                                                 \n",
            " output_layer (Dense)        (None, 10)                20490     \n",
            "                                                                 \n",
            "=================================================================\n",
            "Total params: 23585290 (89.97 MB)\n",
            "Trainable params: 20490 (80.04 KB)\n",
            "Non-trainable params: 23564800 (89.89 MB)\n",
            "_________________________________________________________________\n"
          ]
        }
      ]
    },
    {
      "cell_type": "markdown",
      "source": [
        "Tek eğitilebilir parametre çıktı katmanıdır. Yani eğitilecek tek kalıp çıktı katmanımız, çünkü eğitilebilir bir şekilde ayarladık.\n",
        "\n"
      ],
      "metadata": {
        "id": "ZW1zjMe-87BH"
      }
    },
    {
      "cell_type": "markdown",
      "source": [
        "TensorFlow Hub'ın gücünü buradan görebilirsiniz. Özellik çıkarma katmanı, modelin ImageNet veri kümesinde zaten öğrendiği önceden öğrenilmiş desenler olan 23.564.800 parametreye sahiptir. Eğitilebilir=Yanlış'ı ayarladığımız için, bu kalıplar eğitim sırasında donmuş (eğitilemez) kalır.\n",
        "\n",
        "Bu, eğitim sırasında modelin veri kümemize uyacak şekilde çıkış katmanındaki 20.490 parametreyi güncellediği anlamına gelir.\n",
        "\n",
        "Tamam, bir ResNetV250 modelini eğittik, EfficientNetB0 modeli ile aynısını yapma zamanı geldi.\n",
        "\n",
        "Create_model() işlevindeki model_url parametresi ve create_tensorboard_callback() işlevindeki experiment_name parametresi dışında, kurulum öncekiyle tamamen aynı olacaktır."
      ],
      "metadata": {
        "id": "nyCZdOzZGodd"
      }
    },
    {
      "cell_type": "code",
      "source": [
        "# Create model\n",
        "efficientnet_model = create_model(model_url=efficientnet_url, # use EfficientNetB0 TensorFlow Hub URL\n",
        "                                  num_classes=train_data_10_percent.num_classes)\n",
        "\n",
        "# Compile EfficientNet model\n",
        "efficientnet_model.compile(loss='categorical_crossentropy',\n",
        "                           optimizer=tf.keras.optimizers.Adam(),\n",
        "                           metrics=['accuracy'])\n",
        "\n",
        "# Fit EfficientNet model\n",
        "efficientnet_history = efficientnet_model.fit(train_data_10_percent, # only use 10% of training data\n",
        "                                              epochs=5, # train for 5 epochs\n",
        "                                              steps_per_epoch=len(train_data_10_percent),\n",
        "                                              validation_data=test_data,\n",
        "                                              validation_steps=len(test_data),\n",
        "                                              callbacks=[create_tensorboard_callback(dir_name=\"tensorflow_hub\",\n",
        "                                                                                     # Track logs under different experiment name\n",
        "                                                                                     experiment_name=\"efficientnetB0\")])\n",
        "\n"
      ],
      "metadata": {
        "colab": {
          "base_uri": "https://localhost:8080/"
        },
        "id": "O7PZh_YMGiUw",
        "outputId": "094ca43c-3e71-4051-947f-f3e6099e27d6"
      },
      "execution_count": null,
      "outputs": [
        {
          "output_type": "stream",
          "name": "stdout",
          "text": [
            "Saving TensorBoard log files to: tensorflow_hub/efficientnetB0/20240408-190704\n",
            "Epoch 1/5\n",
            "24/24 [==============================] - 23s 542ms/step - loss: 1.9373 - accuracy: 0.3973 - val_loss: 1.3538 - val_accuracy: 0.7208\n",
            "Epoch 2/5\n",
            "24/24 [==============================] - 12s 499ms/step - loss: 1.1029 - accuracy: 0.7587 - val_loss: 0.8870 - val_accuracy: 0.8156\n",
            "Epoch 3/5\n",
            "24/24 [==============================] - 11s 463ms/step - loss: 0.7747 - accuracy: 0.8320 - val_loss: 0.7068 - val_accuracy: 0.8412\n",
            "Epoch 4/5\n",
            "24/24 [==============================] - 10s 448ms/step - loss: 0.6184 - accuracy: 0.8680 - val_loss: 0.6155 - val_accuracy: 0.8536\n",
            "Epoch 5/5\n",
            "24/24 [==============================] - 10s 412ms/step - loss: 0.5233 - accuracy: 0.8960 - val_loss: 0.5591 - val_accuracy: 0.8620\n"
          ]
        }
      ]
    },
    {
      "cell_type": "markdown",
      "source": [
        "Vay canına! EfficientNetB0 modeli, ResNetV250 modelinden bile daha iyi! Test setinde %85'in üzerinde doğruluk elde etmek... yine eğitim verilerinin yalnızca %10'u ile.\n",
        "\n",
        "Bu ne kadar havalı?\n",
        "\n",
        "Birkaç satır kodla son teknoloji modellerden yararlanabiliyor ve bunları kendi kullanım durumumuza göre ayarlayabiliyoruz.\n",
        "\n",
        "Kayıp eğrilerini kontrol edelim."
      ],
      "metadata": {
        "id": "5XlEIgwWG7Yo"
      }
    },
    {
      "cell_type": "code",
      "source": [
        "plot_loss_curves(efficientnet_history)"
      ],
      "metadata": {
        "colab": {
          "base_uri": "https://localhost:8080/",
          "height": 927
        },
        "id": "T6QO-8zaGwcZ",
        "outputId": "69322d2d-fb60-4023-a33f-431559740b6c"
      },
      "execution_count": null,
      "outputs": [
        {
          "output_type": "display_data",
          "data": {
            "text/plain": [
              "<Figure size 640x480 with 1 Axes>"
            ],
            "image/png": "[encoded data removed]"
          },
          "metadata": {}
        },
        {
          "output_type": "display_data",
          "data": {
            "text/plain": [
              "<Figure size 640x480 with 1 Axes>"
            ],
            "image/png": "[encoded data removed]"
          },
          "metadata": {}
        }
      ]
    },
    {
      "cell_type": "markdown",
      "source": [
        "EfficientNetB0 modelinin kayıp eğrilerinin görünümünden, modelimizi daha uzun süre eğitmeye devam edersek daha da gelişebilir gibi görünüyor. Belki de bu denemek isteyebileceğiniz bir şeydir?\n",
        "\n",
        "Model özetine göz atalım."
      ],
      "metadata": {
        "id": "RGAeA3S0IO81"
      }
    },
    {
      "cell_type": "code",
      "source": [
        "efficientnet_model.summary()"
      ],
      "metadata": {
        "colab": {
          "base_uri": "https://localhost:8080/"
        },
        "id": "nX9wU1jyHJSB",
        "outputId": "56bd9231-7ccf-40b1-f006-9f59906c2714"
      },
      "execution_count": null,
      "outputs": [
        {
          "output_type": "stream",
          "name": "stdout",
          "text": [
            "Model: \"sequential_1\"\n",
            "_________________________________________________________________\n",
            " Layer (type)                Output Shape              Param #   \n",
            "=================================================================\n",
            " feature_extraction_layer (  (None, 1280)              4049564   \n",
            " KerasLayer)                                                     \n",
            "                                                                 \n",
            " output_layer (Dense)        (None, 10)                12810     \n",
            "                                                                 \n",
            "=================================================================\n",
            "Total params: 4062374 (15.50 MB)\n",
            "Trainable params: 12810 (50.04 KB)\n",
            "Non-trainable params: 4049564 (15.45 MB)\n",
            "_________________________________________________________________\n"
          ]
        }
      ]
    },
    {
      "cell_type": "markdown",
      "source": [
        "ResNet50V2 çıkarma katmanından dört kat daha az parametreye (4.049.564'e karşı 23.564.800) sahip olmasına rağmen, EfficientNetB0 özelliği çıkarma katmanı daha iyi performans sağlar. Şimdi \"verimli\" ismin nereden geldiği belli."
      ],
      "metadata": {
        "id": "blUzE4_MIYUl"
      }
    },
    {
      "cell_type": "markdown",
      "source": [
        "Callback ile model eğitim günlüklerimiz otomatik olarak izlendi.\n",
        "\n",
        "Tensorboard: Ulaşım, makine öğrenimi modellerinizi, performansınızı ve dahili bilgilerinizi görsel olarak keşfetmenin bir yoludur ve TensorBoard.dev'de makine öğrenimi deneylerinizi barındırabilir, takip edebilir ve paylaşabilirsiniz. Ayrıca TensorBoard websiteleri ile entegre olabilir."
      ],
      "metadata": {
        "id": "LEnUB0wobbEZ"
      }
    },
    {
      "cell_type": "markdown",
      "source": [
        "# TensorBoard kullanarak modelleri karşılaştırma\n",
        "\n",
        "Pekala, doğruluk puanlarına bakarak iki modelimizin performansını zaten karşılaştırmış olsak da. Peki ya ikiden fazla modeliniz olsaydı?\n",
        "\n",
        "TensorBoard (Google Colab'a önceden yüklenmiş) gibi bir deney izleme aracının devreye girdiği yer burasıdır. https://www.tensorflow.org/tensorboard?hl=tr\n",
        "\n",
        "İşin iyi yanı, bir TensorBoard geri araması kurduğumuz için, modelimizin tüm eğitim günlükleri otomatik olarak kaydedilmiştir. Bunları görselleştirmek için sonuçları TensorBoard.dev'e yükleyebiliriz. https://tensorboard.dev/\n",
        "\n",
        "Sonuçlarınızı TensorBoard.dev'e yüklemek, birden fazla farklı modelleme deneyini izlemenizi ve paylaşmanızı sağlar. Bu nedenle, birine sonuçlarınızı göstermeniz gerekiyorsa, ona TensorBoard.dev'inizin yanı sıra beraberindeki Colab not defterine bir bağlantı gönderebilirsiniz.\n",
        "\n",
        "🔑 Not: Bu deneyler halka açıktır, hassas veri yüklemeyin. Gerekirse deneyleri silebilirsiniz."
      ],
      "metadata": {
        "id": "OPJ-sUfUIcxd"
      }
    },
    {
      "cell_type": "markdown",
      "source": [
        "# Deneyleri TensorBoard'a yükleme\n",
        "\n",
        "TensorBoard'a bir dizi TensorFlow günlüğü yüklemek için aşağıdaki komutu kullanabiliriz:\n",
        "\n",
        "Upload TensorBoard dev records\n",
        "\n",
        "!tensorboard dev upload --logdir ./tensorflow_hub/ \\\n",
        "\n",
        "  --name \"EfficientNetB0 vs. ResNet50V2\" \\\n",
        "\n",
        "  --description \"Comparing two different TF Hub feature extraction models architectures using 10% of training images\" \\\n",
        "\n",
        "  --one_shot\n",
        "\n",
        "  Nerede:\n",
        "\n",
        "* --Logdir hedef yükleme dizinidir\n",
        "\n",
        "* --Name deneyin adıdır\n",
        "\n",
        "* --Açıklama deneyin kısa bir açıklamasıdır\n",
        "\n",
        "* --One_shot, yükleme bittiğinde TensorBoard yükleyiciden çıkar\n",
        "\n",
        "Tensorboard dev upload komutunu çalıştırmak, önce sizden TensorBoard.dev'e yüklemeyi yetkilendirmenizi isteyecektir. Yüklemeyi onayladıktan sonra günlük dosyalarınız yüklenecektir."
      ],
      "metadata": {
        "id": "GBTkk5VOItTA"
      }
    },
    {
      "cell_type": "markdown",
      "source": [
        "one_shot ile dosyaları yüklemeyi bitirdikten sonra, bir sefer yükleyiciden çıkarır.\n",
        "\n",
        "Dosyalar alanında tensorboard oluşturuluyor tarih-sıralama ismi ile."
      ],
      "metadata": {
        "id": "IQvILzhudLTI"
      }
    },
    {
      "cell_type": "code",
      "source": [
        "# Upload TensorBoard dev records\n",
        "!tensorboard dev upload --logdir ./tensorflow_hub/ \\\n",
        "  --name \"EfficientNetB0 vs. ResNet50V2\" \\\n",
        "  --description \"Comparing two different TF Hub feature extraction models architectures using 10% of training images\" \\\n",
        "  --one_shot"
      ],
      "metadata": {
        "colab": {
          "base_uri": "https://localhost:8080/"
        },
        "id": "UUaAwrN8ISmk",
        "outputId": "cf8ed388-4950-4683-8b28-7c9377b93b2f"
      },
      "execution_count": null,
      "outputs": [
        {
          "output_type": "stream",
          "name": "stdout",
          "text": [
            "2024-04-08 19:16:42.185329: E external/local_xla/xla/stream_executor/cuda/cuda_dnn.cc:9261] Unable to register cuDNN factory: Attempting to register factory for plugin cuDNN when one has already been registered\n",
            "2024-04-08 19:16:42.185394: E external/local_xla/xla/stream_executor/cuda/cuda_fft.cc:607] Unable to register cuFFT factory: Attempting to register factory for plugin cuFFT when one has already been registered\n",
            "2024-04-08 19:16:42.186816: E external/local_xla/xla/stream_executor/cuda/cuda_blas.cc:1515] Unable to register cuBLAS factory: Attempting to register factory for plugin cuBLAS when one has already been registered\n",
            "2024-04-08 19:16:43.213665: W tensorflow/compiler/tf2tensorrt/utils/py_utils.cc:38] TF-TRT Warning: Could not find TensorRT\n",
            "****************************************************************\n",
            "****************************************************************\n",
            "****************************************************************\n",
            "\n",
            "Uploading TensorBoard logs to https://tensorboard.dev/ is no longer\n",
            "supported.\n",
            "\n",
            "TensorBoard.dev is shutting down.\n",
            "\n",
            "Please export your experiments by Dec 31, 2023.\n",
            "\n",
            "See the FAQ at https://tensorboard.dev.\n",
            "\n",
            "****************************************************************\n",
            "****************************************************************\n",
            "****************************************************************\n"
          ]
        }
      ]
    },
    {
      "cell_type": "markdown",
      "source": [
        "TensorBoad.dev'e her bir şey yüklediğinizde yeni bir deney kimliği alacaksınız. Deney kimliği şöyle görünecektir: https://tensorboard.dev/experiment/73taSKxXQeGPQsNBcVvY3g/ (bu, bu not defterindeki gerçek deneydir). https://tensorboard.dev/\n",
        "\n",
        "Aynı dizini tekrar yüklerseniz, onunla birlikte gitmek için yeni bir deney kimliği alırsınız.\n",
        "\n",
        "Bu, deneylerinizi izlemek anlamına gelir, yüklemelerinizi nasıl adlandırdığınıza bakmak isteyebilirsiniz. Bu şekilde onları TensorBoard.dev'de bulduğunuzda, her deney sırasında ne olduğunu anlayabilirsiniz (örn. \"efficientnet0_10_percent_data\")."
      ],
      "metadata": {
        "id": "lHDvtcMuJQAo"
      }
    },
    {
      "cell_type": "markdown",
      "source": [
        "# TensorBoard'a kaydettiğiniz deneyleri listeleme\n",
        "\n",
        "Yüklediğiniz tüm deneyleri görmek için şu komutu kullanabilirsiniz:\n",
        "\n",
        "Tensorboard geliştirme listesi"
      ],
      "metadata": {
        "id": "OvhmAwgmJ18t"
      }
    },
    {
      "cell_type": "code",
      "source": [
        "# Check out experiments\n",
        "!tensorboard dev list # uncomment to see\n"
      ],
      "metadata": {
        "colab": {
          "base_uri": "https://localhost:8080/"
        },
        "id": "ty75rxlCJCOM",
        "outputId": "2f2949ab-3e7a-4b6b-b027-27c3fd189011"
      },
      "execution_count": null,
      "outputs": [
        {
          "metadata": {
            "tags": null
          },
          "name": "stdout",
          "output_type": "stream",
          "text": [
            "2024-04-08 19:20:36.377368: E external/local_xla/xla/stream_executor/cuda/cuda_dnn.cc:9261] Unable to register cuDNN factory: Attempting to register factory for plugin cuDNN when one has already been registered\n",
            "2024-04-08 19:20:36.377421: E external/local_xla/xla/stream_executor/cuda/cuda_fft.cc:607] Unable to register cuFFT factory: Attempting to register factory for plugin cuFFT when one has already been registered\n",
            "2024-04-08 19:20:36.378639: E external/local_xla/xla/stream_executor/cuda/cuda_blas.cc:1515] Unable to register cuBLAS factory: Attempting to register factory for plugin cuBLAS when one has already been registered\n",
            "2024-04-08 19:20:37.339925: W tensorflow/compiler/tf2tensorrt/utils/py_utils.cc:38] TF-TRT Warning: Could not find TensorRT\n",
            "\n",
            "***** TensorBoard.dev Uploader *****\n",
            "\n",
            "This will list all experiments that you've uploaded to\n",
            "https://tensorboard.dev. TensorBoard.dev experiments are visible\n",
            "to everyone. Do not upload sensitive data.\n",
            "\n",
            "Your use of this service is subject to Google's Terms of Service\n",
            "<https://policies.google.com/terms> and Privacy Policy\n",
            "<https://policies.google.com/privacy>, and TensorBoard.dev's Terms of Service\n",
            "<https://tensorboard.dev/policy/terms/>.\n",
            "\n",
            "This notice will not be shown again while you are logged into the uploader.\n",
            "To log out, run `tensorboard dev auth revoke`.\n",
            "\n",
            "Continue? (yes/NO) "
          ]
        }
      ]
    },
    {
      "cell_type": "code",
      "source": [
        "yes"
      ],
      "metadata": {
        "id": "fIacwHFSJ7RB"
      },
      "execution_count": null,
      "outputs": []
    },
    {
      "cell_type": "markdown",
      "source": [
        "# TensorBoard'dan deneyleri silme\n",
        "\n",
        "Unutmayın, TensorBoard.dev'e yapılan tüm yüklemeler herkese açıktır, bu nedenle bir denemeyi silmek için şu komutu kullanabilirsiniz:\n",
        "\n",
        "Tensorboard dev delete --experiment_id [INSERT_EXPERIMENT_ID]"
      ],
      "metadata": {
        "id": "dUJexYhLKO5V"
      }
    },
    {
      "cell_type": "code",
      "source": [
        "# Delete an experiment\n",
        "!tensorboard dev delete --experiment_id n6kd8XZ3Rdy1jSgSLH5WjA"
      ],
      "metadata": {
        "id": "vsQS5omoJ-fp"
      },
      "execution_count": null,
      "outputs": []
    },
    {
      "cell_type": "code",
      "source": [
        "# Check to see if experiments still exist\n",
        "!tensorboard dev list # uncomment to see"
      ],
      "metadata": {
        "id": "spPatvsRKSTE"
      },
      "execution_count": null,
      "outputs": []
    },
    {
      "cell_type": "markdown",
      "source": [
        "# 🛠Alıştırmalar\n",
        "\n",
        "1. Burada sahip olduğumuz aynı verileri kullanarak bir model oluşturun ve sığdırın, ancak TensorFlow Hub'dan MobileNetV2 mimarisi özellik çıkarma (mobilenet_v2_100_224/feature_vector) ile diğer modellerimize kıyasla nasıl performans gösteriyor? https://www.kaggle.com/models/google/mobilenet-v2/frameworks/tensorFlow2/variations/100-224-feature-vector/versions/1?tfhub-redirect=true\n",
        "\n",
        "2. TensorFlow Hub'da kullanmadığımız 3 farklı görüntü sınıflandırma modelini adlandırın.\n",
        "\n",
        "3. Fotoğrafını çektiğiniz iki farklı şeyin görüntülerini sınıflandırmak için bir model oluşturun.\n",
        "\n",
        "  * Bunun için TensorFlow Hub'dan beğendiğiniz herhangi bir özellik çıkarma katmanını kullanabilirsiniz.\n",
        "\n",
        "  * Her sınıftan en az 10 görüntüye sahip olmayı hedeflemelisiniz, örneğin bir buzdolabı ve fırın sınıflandırıcı oluşturmak için 10 buzdolabı görüntüsü ve 10 fırın görüntüsü isteyeceksiniz.\n",
        "\n",
        "4. ImageNet'te mevcut en iyi performans gösteren model nedir?\n",
        "\n",
        "  * İpucu: bunun için sotabench.com'u kontrol etmek isteyebilirsiniz. https://www.sotabench.com/"
      ],
      "metadata": {
        "id": "wBRht0kgKgo9"
      }
    },
    {
      "cell_type": "markdown",
      "source": [
        "# 📖 Müfredat dışı\n",
        "\n",
        "* TensorFlow Transfer Öğrenme Kılavuzunu okuyun ve ana iki transfer öğrenme türünü kendi kelimelerinizle tanımlayın.  https://www.tensorflow.org/tutorials/images/transfer_learning?hl=tr\n",
        "\n",
        "* TensorFlow web sitesindeki TensorFlow Hub ile Transfer Learning öğreticisini gözden geçirin ve tüm kodu kendiniz yeni bir Google Colab not defterine yeniden yazın ve her adımın yol boyunca ne yaptığı hakkında yorumlar yapın.  https://www.tensorflow.org/tutorials/images/transfer_learning_with_hub?hl=tr\n",
        "\n",
        "* Bu dizüstü bilgisayarda TensorFlow Hub ile ince ayar yapmadık, ancak daha fazla bilgi edinmek istiyorsanız, TensorFlow ana sayfasında bir TensorFlow Hub modeli öğreticisini ince ayarlayın. Bir tensorflow hub modeli nasıl ince ayar yapılır:  https://www.tensorflow.org/hub/tf2_saved_model?hl=tr#fine-tuning\n",
        "\n",
        "* Weights & Biases ile deney takibine bakın, bunu mevcut TensorBoard günlüklerimizle nasıl entegre edebilirsiniz?  https://wandb.ai/site/experiment-tracking"
      ],
      "metadata": {
        "id": "m11eVS6ALCxC"
      }
    },
    {
      "cell_type": "markdown",
      "source": [
        "https://github.com/mrdbourke/tensorflow-deep-learning/blob/main/04_transfer_learning_in_tensorflow_part_1_feature_extraction.ipynb"
      ],
      "metadata": {
        "id": "zy9HwX8mLlpU"
      }
    }
  ]
}